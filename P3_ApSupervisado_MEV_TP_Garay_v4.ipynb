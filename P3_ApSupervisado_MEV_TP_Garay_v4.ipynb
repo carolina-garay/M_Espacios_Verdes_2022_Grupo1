{
  "cells": [
    {
      "cell_type": "markdown",
      "metadata": {
        "id": "view-in-github",
        "colab_type": "text"
      },
      "source": [
        "<a href=\"https://colab.research.google.com/github/carolina-garay/M_Espacios_Verdes_2022_Grupo1/blob/TP3_ApSupervisado_Garay/P3_ApSupervisado_MEV_TP_Garay_v4.ipynb\" target=\"_parent\"><img src=\"https://colab.research.google.com/assets/colab-badge.svg\" alt=\"Open In Colab\"/></a>"
      ]
    },
    {
      "cell_type": "markdown",
      "id": "5ae369d0-fb59-4e77-a928-a6417de1a666",
      "metadata": {
        "id": "5ae369d0-fb59-4e77-a928-a6417de1a666"
      },
      "source": [
        "# Mentoria: Monitoreo de Espacios Verdes\n",
        "\n",
        "__DIPLODATOS 2022 - FAMAF UNC__\n",
        "\n",
        "_Felix Rojo Lapalma_\n",
        "\n",
        "## **Aprendizaje Supervisado**\n",
        "\n",
        "##<font color='blue'>**Grupo 1**</font>\n",
        "\n",
        "\n",
        "<font color='blue'>Integrantes:\n",
        "\n",
        "- Artola, María Fernanda\n",
        "- Garay, Carolina del Valle\n",
        "- Ormaechea, Sebastián Gabriel\n",
        "- Ramos, Pablo Nicolás \n",
        "</font>\n",
        "\n",
        "\n",
        "En esta etapa ya hemos avanzado en\n",
        "\n",
        "- [TP-Analisis-Visualizacion](https://github.com/felixlapalma/monitoreo-espacios-verdes-diplo202X/blob/main/notebooks-tp/Analisis-y-Visualizacion-MEV-TP.ipynb):\n",
        "\n",
        "  - análisis y exploración del conjunto de datos (aunque sea superficialmente)\n",
        "  - set representativo: Es decir, aprendimos que podemos llegar a trabajar con un set mas reducido (de las caracteristicas - columnas del dataframe) e igualmente vamos a estar representando gran parte del conjunto.\n",
        "  - inputacion de valores:   \n",
        "    - tenemos formas de inputar valores en rangos temporales que no tenemos (para una cierta zona) utilizando otros rangos temporales (aqui aprovechamos fuertemente la estacionalidad de lo que estamos monitoreando)\n",
        "    - que un outlier en un rango temporal puede ser un valor nominal en otro rango temporal.\n",
        "  - etc\n",
        "\n",
        "- [TP-Exploracion-y-Curación](https://drive.google.com/file/d/1-E0ijX7LTRczoAwYG7eAyfDb5PElyEfi/view?usp=sharing):\n",
        "\n",
        " - \"Curación\" de nuestro dataset con diferentes recetas. Por curar nos referimos a generar los procesos necesarios (trazables y reproducibles) que nos lleven del conjunto original de datos (que debe permanecer inmutable) hasta un conjunto que pueda ser consumido por distintos algorimos de aprendizaje. Entre ellos:\n",
        "    - filtrado\n",
        "    - imputacion de valores\n",
        "    - etc\n",
        "\n",
        "Es decir en esta instancia ya contamos con las recetas o procesos que nos permiten, partiendo del set de datos crudos pasar a un dataset listo para ser consumidos por los modelos de aprendizaje supervisado que seleccionemos.\n",
        " \n",
        "### Fuentes\n",
        "\n",
        "El presente trabajo práctico está inspirado en los correspondientes de:\n",
        "\n",
        "- [jbergamasco2019](https://github.com/jbergamasco/DiploDatos2019)\n",
        "\n",
        "- [TP-Analisis-Visualizacion](https://github.com/felixlapalma/monitoreo-espacios-verdes-diplo202X/blob/main/notebooks-tp/Analisis-y-Visualizacion-MEV-TP.ipynb)\n",
        "\n",
        "- [TP-Exploracion-y-Curación](https://drive.google.com/file/d/1-E0ijX7LTRczoAwYG7eAyfDb5PElyEfi/view?usp=sharing)\n",
        "\n",
        "## Sobre el Trabajo Requerido\n",
        "\n",
        "En este trabajo proponemos  explorar y aplicar lo aprendido en el curso (Aprendizaje Supervisado) integrandolo con lo desarrollado en los prácticos de Análisis y visualización y el correspondiente a Exploración y Curación de datos.\n",
        "\n",
        "### Conceptual\n",
        "\n",
        "Algunas de las preguntas que deberemos responder (avanzando en el TP):\n",
        "\n",
        "- ¿Cual seria el problema que pretendemos resolver utilizando Aprendizaje Supervisado? ¿Es un problema de clasificación o de regresion? Que distingue a uno de otro?\n",
        "\n",
        "- ¿Es suficiente un solo modelo? ¿Que tan importante es la parte temporal? ¿Necesitamos que sea estacional?\n",
        "\n",
        "- ¿Es necesario utilizar todas las bandas del raster o con ciertos indices es suficiente? (Esto ya lo respondio parcialmente en las TPs anteriores)\n",
        "\n",
        "- ¿Podríamos utilizar los modelos para detectar alguna clase de anomalía en el comportamiento de una dada región? ¿Como? \n",
        "\n",
        "- ¿Piensa que podriamos utilizar el enfoque actual (OBIA- Object-based Image Analysis) para clasificar a nivel de pixel? ¿Que deberiamos suponer o asumir para que esto sea valido?*\n",
        "\n",
        "*_Comentario_: _Si bien no lo mencionamos en forma explicita la forma de seleccionar y computar las diferentes propiedades en los rasters para la creacion del dataset implico el acceso a nivel de objetos o zonas. No se realizo un analisis de pixel sino a nivel de un \"conjunto\" de pixeles._\n",
        "\n",
        "### Hands-on\n",
        "\n",
        "A nivel de implementacion vamos a requerir la aplicación de diferentes modelos sobre el conjunto de datos (al menos 2 de ellos):\n",
        "\n",
        "- [ExtraTreeClassifier](https://scikit-learn.org/stable/modules/generated/sklearn.tree.ExtraTreeClassifier.html#sklearn.tree.ExtraTreeClassifier)\n",
        "- [RandomForestClassifier](https://scikit-learn.org/stable/modules/generated/sklearn.ensemble.RandomForestClassifier.html?highlight=random%20forest#sklearn.ensemble.RandomForestClassifier)\n",
        "- [XGBoost](https://xgboost.readthedocs.io/en/stable/)\n",
        "\n",
        "#### Pasos\n",
        "\n",
        "1. Descarga del Set de Datos$^1$\n",
        "2. Curacion (Recetas TP Exploración y Curación)\n",
        "3. Generacion de Features Extras$^2$\n",
        "4. Split Dataset\n",
        "5. Entrenamiento del Modelo\n",
        "  - [a] Grid Search\n",
        "  - [b] tunning de Hiperparametros\n",
        "6. Presentacion de Resultados y Metricas\n",
        "\n",
        "\n",
        "### Que Presentar?\n",
        "\n",
        "Set de Notebooks en los cuales se apliquen 2 modelos al menos de los mencionados junto al menos 3 de las recetas generadas en el TP de Exploracion y Curación. Para ello puede seguir los pasos del step anterior. \n",
        "En el curso del TP debemos poder responder (adicionalmente):\n",
        "- ¿Que receta parece otorgar el mejor ratio de costo/beneficio? Respecto a este punto considere que muchas veces el mayor \"accuracy\" (por solo nombrar una metrica) no significa el mayor beneficio. Esto se puede entender si consideramos que un modelo no se reduce solo a su inferencia, sino a todos lo pasos que nos permiten llevarla adelante.\n",
        "- Respecto a los modelos, para los `Trees` es necesario normalizar los datos? y para `XGB`?\n",
        "- Intuitivamente uno pensaria que los clasificadores deberian andar mejor en los espacios mas grandes (o de mayor area). Tiene alguna forma de corroborar o refutar esta idea?\n",
        "\n",
        "- Si el modelo fuera utilizado para identificar anómalias en espacios verdes,sobre que preferiria tener mayor efectividad? (el conocido dilema ¿Precision o Recall?) Es decir que proporcion de los espacios verdes identificados como sanos estaban sanos? (Precision) o que proporcion de los espacios verdes actualmente sanos, fueron identificados como tales? (Recall)\n",
        "Como ayuda piense las implicancias (mas allá del espacio verde en si) de marcar siempre en falta algun sitio (logistica, transporte, etc).\n",
        "\n",
        "\n",
        "$^1$ Para esta etapa hemos adicionado al set de datos originales un set de [espacios \"no-verdes\"](https://github.com/felixlapalma/monitoreo-espacios-verdes-diplo202X/blob/main/data/ab-initio-dataset-build.md#espacios-no-verdes-o-indefinidos). Esto con el fin de tener un esquema claro de separacion \"verde/No-verde\" para ayudarlo en el entrenamiento de su sistema. \n",
        "Para poder utilizarlo le recomendamos que lo procese en forma similar al dataset original (puede utilizar las mismas recetas). Una vez procesado cada uno por su cuenta y con los label correspondientes, puede unificar los datasets en uno único. Puede consultar [estructura-datos](https://github.com/felixlapalma/monitoreo-espacios-verdes-diplo202X/blob/main/data/estructura-datos.md) para ver las diferencias (minimas) entre los datasets.\n",
        "\n",
        "$^2$ Respecto al paso 3, mencionamos que puede ser necesario la generacion adicional de algun feature extra a posteriori de la receta (esto podria incorporarse en la receta si se considera beneficioso). Recuerde que los procesos de Ciencia de Datos son altamente no lineales y de iteracion continua (al menos en su fase inicial). Particualarmente la generacion de features relacionados a fechas, meses, estaciones, DOY (day of year) o WOY (weak of year) pueden resultarle util para responder algunas de las preguntas conceptuales.\n",
        "\n",
        "__EXTRA__: Set de pasos descriptivos que seguiria para poder implementar/responder la ultima de las preguntas conceptuales (OBIA vs PBIA- pixel based image analysis).\n",
        "\n",
        "__EXTRA$^2$__: Implementación en codigo de __EXTRA__ \n",
        "\n",
        "\n",
        "Cada una de las notebooks tiene que tener la secuencia propuesta (o variaciones debidamente justificadas). Con las metricas utilizadas, matrices de confusion, etc. Se valorará analisis de tradeoff (o costo beneficio) entre los modelos y las recetas utilizadas.\n"
      ]
    },
    {
      "cell_type": "markdown",
      "source": [
        "#<font color='red'>**Objetivo del Trabajo Práctico**\n",
        "El objetivo de este Trabajo Práctico es el de poder clasificar un Espacio como **Verde** o **No Verde** dadas las características del mismo."
      ],
      "metadata": {
        "id": "Y-FEe2FmKoWR"
      },
      "id": "Y-FEe2FmKoWR"
    },
    {
      "cell_type": "markdown",
      "source": [
        "##<font color='red'>**Análisis Exploratorio y Curación de datos**\n",
        "\n",
        "Retomamos la exploración y curación que hicimos en el Práctico anterior, considerando la receta de dividir el dataset por estaciones. Dado que tenemos un nuevo conjunto de datos correspondiente a \"Espacio no verde\", también decidimos dividirlo en estaciones. La curación de los datos se resume en la siguiente sección.\n",
        "\n",
        "\n",
        "\n",
        "<font color='red'>**Curación de los datos:**\n",
        "\n",
        "*   Subdivisión de cada conjunto de datos por estaciones. Consideramos 4 estaciones en el siguiente orden: Verano, Otoño, Invierno y Primavera.\n",
        "*   Normalización de los subconjuntos de datos utilizando MinMaxScaler.\n",
        "*   Imputación de valores faltantes en variables numéricas mediante IterativeImputer y estimador KNeighborsRegressor.\n",
        "\n",
        "\n",
        "\n",
        "\n"
      ],
      "metadata": {
        "id": "h3Tb_VTJKVWK"
      },
      "id": "h3Tb_VTJKVWK"
    },
    {
      "cell_type": "markdown",
      "source": [
        "##<font color='red'>**Planteo de modelos**\n",
        "\n",
        "Seleccionamos distintos modelos considerando los siguientes criterios:\n",
        "- Probar varios modelos bajo parámetros por defecto\n",
        "- Aplicar Random Search y Grid Search, considerando todas las variables y diferentes combinaciones de parámetros. \n"
      ],
      "metadata": {
        "id": "1Cj4cvPcWzb_"
      },
      "id": "1Cj4cvPcWzb_"
    },
    {
      "cell_type": "code",
      "execution_count": 1,
      "id": "0a543c19-bc55-4bc3-a241-2a2395cae3cf",
      "metadata": {
        "colab": {
          "base_uri": "https://localhost:8080/"
        },
        "id": "0a543c19-bc55-4bc3-a241-2a2395cae3cf",
        "outputId": "1990bbbd-7085-4fb9-9665-f8cc553d6a0e"
      },
      "outputs": [
        {
          "output_type": "stream",
          "name": "stdout",
          "text": [
            "Running on CoLab\n",
            "Downloading...\n",
            "From: https://drive.google.com/uc?id=1tgbIQaEXzIghcFYyd2YM9iMho4TDHHFd\n",
            "To: /content/espacios-verdes-indexs-cba-20170101-20220420.zip\n",
            "100% 170M/170M [00:00<00:00, 267MB/s]\n",
            "Downloading...\n",
            "From: https://drive.google.com/uc?id=1mfir4DZxT3g9tQkPJzCAZYy2VS2VHp7O\n",
            "To: /content/espacios-NO-verdes-indexs-cba-20170101-20220420.zip\n",
            "100% 78.7M/78.7M [00:00<00:00, 200MB/s]\n"
          ]
        }
      ],
      "source": [
        "import pandas as pd\n",
        "if 'google.colab' in str(get_ipython()):\n",
        "    print('Running on CoLab')\n",
        "    # running on colab\n",
        "    # from link @ https://github.com/felixlapalma/monitoreo-espacios-verdes-diplo202X/blob/main/data/ab-initio-dataset-build.md\n",
        "    !gdown https://drive.google.com/file/d/1tgbIQaEXzIghcFYyd2YM9iMho4TDHHFd/view?usp=sharing --fuzzy\n",
        "    !gdown https://drive.google.com/file/d/1mfir4DZxT3g9tQkPJzCAZYy2VS2VHp7O/view?usp=sharing --fuzzy\n",
        "    # Notar el cambio del path y el tipo de archivo (no lo descomprimimos)\n",
        "    df_verde=pd.read_csv('/content/espacios-verdes-indexs-cba-20170101-20220420.zip',index_col=0)\n",
        "    df_no_verde=pd.read_csv('/content/espacios-NO-verdes-indexs-cba-20170101-20220420.zip',index_col=0)\n",
        "else:\n",
        "    # recuerde descargar el dataset desde los links mencionados en el README\n",
        "    df_verde=pd.read_csv('../data/cba/espacios-verdes-indexs-cba-20170101-20220420.csv',index_col=0)\n",
        "    df_no_verde=pd.read_csv('/data/cba/espacios-NO-verdes-indexs-cba-20170101-20220420.csv',index_col=0)"
      ]
    },
    {
      "cell_type": "code",
      "source": [
        "# Carga de librerías necesarias\n",
        "\n",
        "import os\n",
        "import pandas as pd\n",
        "import numpy as np\n",
        "import matplotlib.pyplot as plt\n",
        "import seaborn as sns\n",
        "import missingno as msno\n",
        "from sklearn.experimental import enable_iterative_imputer\n",
        "from sklearn.neighbors import KNeighborsRegressor\n",
        "from sklearn.impute import IterativeImputer\n",
        "\n",
        "\n",
        "from sklearn.preprocessing import MinMaxScaler\n",
        "from sklearn.model_selection import train_test_split, GridSearchCV, StratifiedKFold\n",
        "from sklearn.model_selection import RepeatedStratifiedKFold\n",
        "from sklearn.metrics import accuracy_score, ConfusionMatrixDisplay, classification_report\n",
        "from sklearn.feature_selection import SelectKBest\n",
        "from sklearn.feature_selection import f_classif\n",
        "from scipy.stats import randint as sp_randint\n",
        "from sklearn.model_selection import RandomizedSearchCV\n",
        "\n",
        "from sklearn.tree import DecisionTreeClassifier\n",
        "from sklearn.linear_model import SGDClassifier\n",
        "from sklearn.linear_model import RidgeClassifier\n",
        "from sklearn.neighbors import KNeighborsClassifier\n",
        "from sklearn.svm import SVC\n",
        "from sklearn.ensemble import BaggingClassifier\n",
        "from sklearn.ensemble import RandomForestClassifier\n",
        "from sklearn.linear_model import LogisticRegression\n",
        "import lightgbm as lgb\n",
        "from sklearn.metrics import confusion_matrix\n",
        "from sklearn.ensemble import ExtraTreesClassifier as ETC"
      ],
      "metadata": {
        "id": "x3lEvtLMc8Tp"
      },
      "id": "x3lEvtLMc8Tp",
      "execution_count": 2,
      "outputs": []
    },
    {
      "cell_type": "code",
      "execution_count": 3,
      "id": "39bc292e-2922-4ce9-8870-d838f46f9f7c",
      "metadata": {
        "colab": {
          "base_uri": "https://localhost:8080/",
          "height": 377
        },
        "id": "39bc292e-2922-4ce9-8870-d838f46f9f7c",
        "outputId": "946e3265-8fa0-48c1-9731-e8b76f17a143"
      },
      "outputs": [
        {
          "output_type": "execute_result",
          "data": {
            "text/plain": [
              "   B02_min  B02_max  B02_mean  B02_median  B02_nodata  B02_range  B02_count  \\\n",
              "0   0.0871   0.1421  0.102570     0.09650         0.0     0.0550         47   \n",
              "1   0.0970   0.1936  0.118354     0.10660         0.0     0.0966         13   \n",
              "2   0.0992   0.1273  0.111805     0.11290         0.0     0.0281         19   \n",
              "3   0.0995   0.1933  0.118491     0.11355         0.0     0.0938         66   \n",
              "4   0.1059   0.1385  0.122453     0.12240         0.0     0.0326         47   \n",
              "\n",
              "   B03_min  B03_max  B03_mean  ...  sipi_median  sipi_nodata  sipi_range  \\\n",
              "0   0.0768   0.1516  0.098885  ...     0.884216          0.0    0.453065   \n",
              "1   0.1006   0.1949  0.122154  ...     0.971875          0.0    0.247045   \n",
              "2   0.1037   0.1369  0.117795  ...     0.973017          0.0    0.207006   \n",
              "3   0.0993   0.1990  0.124512  ...     0.966202          0.0    0.258424   \n",
              "4   0.1036   0.1580  0.132455  ...     0.993986          0.0    0.260419   \n",
              "\n",
              "   sipi_count                                             raster  \\\n",
              "0          47  S2A_MSIL1C_20170103T142022_N0204_R010_T20JLL_2...   \n",
              "1          13  S2A_MSIL1C_20170103T142022_N0204_R010_T20JLL_2...   \n",
              "2          19  S2A_MSIL1C_20170103T142022_N0204_R010_T20JLL_2...   \n",
              "3          66  S2A_MSIL1C_20170103T142022_N0204_R010_T20JLL_2...   \n",
              "4          47  S2A_MSIL1C_20170103T142022_N0204_R010_T20JLL_2...   \n",
              "\n",
              "   clouds_on_raster     osm_id  name      area_m2        date  \n",
              "0               0.0  605976736   NaN  4650.710032  2017-01-03  \n",
              "1               0.0  559322368   NaN  1502.000513  2017-01-03  \n",
              "2               0.0  559322369   NaN  2004.192528  2017-01-03  \n",
              "3               0.0  559328111   NaN  6940.507640  2017-01-03  \n",
              "4               0.0  559328112   NaN  4587.356048  2017-01-03  \n",
              "\n",
              "[5 rows x 167 columns]"
            ],
            "text/html": [
              "\n",
              "  <div id=\"df-d635b66a-24ce-4577-bf20-a412fc06bae2\">\n",
              "    <div class=\"colab-df-container\">\n",
              "      <div>\n",
              "<style scoped>\n",
              "    .dataframe tbody tr th:only-of-type {\n",
              "        vertical-align: middle;\n",
              "    }\n",
              "\n",
              "    .dataframe tbody tr th {\n",
              "        vertical-align: top;\n",
              "    }\n",
              "\n",
              "    .dataframe thead th {\n",
              "        text-align: right;\n",
              "    }\n",
              "</style>\n",
              "<table border=\"1\" class=\"dataframe\">\n",
              "  <thead>\n",
              "    <tr style=\"text-align: right;\">\n",
              "      <th></th>\n",
              "      <th>B02_min</th>\n",
              "      <th>B02_max</th>\n",
              "      <th>B02_mean</th>\n",
              "      <th>B02_median</th>\n",
              "      <th>B02_nodata</th>\n",
              "      <th>B02_range</th>\n",
              "      <th>B02_count</th>\n",
              "      <th>B03_min</th>\n",
              "      <th>B03_max</th>\n",
              "      <th>B03_mean</th>\n",
              "      <th>...</th>\n",
              "      <th>sipi_median</th>\n",
              "      <th>sipi_nodata</th>\n",
              "      <th>sipi_range</th>\n",
              "      <th>sipi_count</th>\n",
              "      <th>raster</th>\n",
              "      <th>clouds_on_raster</th>\n",
              "      <th>osm_id</th>\n",
              "      <th>name</th>\n",
              "      <th>area_m2</th>\n",
              "      <th>date</th>\n",
              "    </tr>\n",
              "  </thead>\n",
              "  <tbody>\n",
              "    <tr>\n",
              "      <th>0</th>\n",
              "      <td>0.0871</td>\n",
              "      <td>0.1421</td>\n",
              "      <td>0.102570</td>\n",
              "      <td>0.09650</td>\n",
              "      <td>0.0</td>\n",
              "      <td>0.0550</td>\n",
              "      <td>47</td>\n",
              "      <td>0.0768</td>\n",
              "      <td>0.1516</td>\n",
              "      <td>0.098885</td>\n",
              "      <td>...</td>\n",
              "      <td>0.884216</td>\n",
              "      <td>0.0</td>\n",
              "      <td>0.453065</td>\n",
              "      <td>47</td>\n",
              "      <td>S2A_MSIL1C_20170103T142022_N0204_R010_T20JLL_2...</td>\n",
              "      <td>0.0</td>\n",
              "      <td>605976736</td>\n",
              "      <td>NaN</td>\n",
              "      <td>4650.710032</td>\n",
              "      <td>2017-01-03</td>\n",
              "    </tr>\n",
              "    <tr>\n",
              "      <th>1</th>\n",
              "      <td>0.0970</td>\n",
              "      <td>0.1936</td>\n",
              "      <td>0.118354</td>\n",
              "      <td>0.10660</td>\n",
              "      <td>0.0</td>\n",
              "      <td>0.0966</td>\n",
              "      <td>13</td>\n",
              "      <td>0.1006</td>\n",
              "      <td>0.1949</td>\n",
              "      <td>0.122154</td>\n",
              "      <td>...</td>\n",
              "      <td>0.971875</td>\n",
              "      <td>0.0</td>\n",
              "      <td>0.247045</td>\n",
              "      <td>13</td>\n",
              "      <td>S2A_MSIL1C_20170103T142022_N0204_R010_T20JLL_2...</td>\n",
              "      <td>0.0</td>\n",
              "      <td>559322368</td>\n",
              "      <td>NaN</td>\n",
              "      <td>1502.000513</td>\n",
              "      <td>2017-01-03</td>\n",
              "    </tr>\n",
              "    <tr>\n",
              "      <th>2</th>\n",
              "      <td>0.0992</td>\n",
              "      <td>0.1273</td>\n",
              "      <td>0.111805</td>\n",
              "      <td>0.11290</td>\n",
              "      <td>0.0</td>\n",
              "      <td>0.0281</td>\n",
              "      <td>19</td>\n",
              "      <td>0.1037</td>\n",
              "      <td>0.1369</td>\n",
              "      <td>0.117795</td>\n",
              "      <td>...</td>\n",
              "      <td>0.973017</td>\n",
              "      <td>0.0</td>\n",
              "      <td>0.207006</td>\n",
              "      <td>19</td>\n",
              "      <td>S2A_MSIL1C_20170103T142022_N0204_R010_T20JLL_2...</td>\n",
              "      <td>0.0</td>\n",
              "      <td>559322369</td>\n",
              "      <td>NaN</td>\n",
              "      <td>2004.192528</td>\n",
              "      <td>2017-01-03</td>\n",
              "    </tr>\n",
              "    <tr>\n",
              "      <th>3</th>\n",
              "      <td>0.0995</td>\n",
              "      <td>0.1933</td>\n",
              "      <td>0.118491</td>\n",
              "      <td>0.11355</td>\n",
              "      <td>0.0</td>\n",
              "      <td>0.0938</td>\n",
              "      <td>66</td>\n",
              "      <td>0.0993</td>\n",
              "      <td>0.1990</td>\n",
              "      <td>0.124512</td>\n",
              "      <td>...</td>\n",
              "      <td>0.966202</td>\n",
              "      <td>0.0</td>\n",
              "      <td>0.258424</td>\n",
              "      <td>66</td>\n",
              "      <td>S2A_MSIL1C_20170103T142022_N0204_R010_T20JLL_2...</td>\n",
              "      <td>0.0</td>\n",
              "      <td>559328111</td>\n",
              "      <td>NaN</td>\n",
              "      <td>6940.507640</td>\n",
              "      <td>2017-01-03</td>\n",
              "    </tr>\n",
              "    <tr>\n",
              "      <th>4</th>\n",
              "      <td>0.1059</td>\n",
              "      <td>0.1385</td>\n",
              "      <td>0.122453</td>\n",
              "      <td>0.12240</td>\n",
              "      <td>0.0</td>\n",
              "      <td>0.0326</td>\n",
              "      <td>47</td>\n",
              "      <td>0.1036</td>\n",
              "      <td>0.1580</td>\n",
              "      <td>0.132455</td>\n",
              "      <td>...</td>\n",
              "      <td>0.993986</td>\n",
              "      <td>0.0</td>\n",
              "      <td>0.260419</td>\n",
              "      <td>47</td>\n",
              "      <td>S2A_MSIL1C_20170103T142022_N0204_R010_T20JLL_2...</td>\n",
              "      <td>0.0</td>\n",
              "      <td>559328112</td>\n",
              "      <td>NaN</td>\n",
              "      <td>4587.356048</td>\n",
              "      <td>2017-01-03</td>\n",
              "    </tr>\n",
              "  </tbody>\n",
              "</table>\n",
              "<p>5 rows × 167 columns</p>\n",
              "</div>\n",
              "      <button class=\"colab-df-convert\" onclick=\"convertToInteractive('df-d635b66a-24ce-4577-bf20-a412fc06bae2')\"\n",
              "              title=\"Convert this dataframe to an interactive table.\"\n",
              "              style=\"display:none;\">\n",
              "        \n",
              "  <svg xmlns=\"http://www.w3.org/2000/svg\" height=\"24px\"viewBox=\"0 0 24 24\"\n",
              "       width=\"24px\">\n",
              "    <path d=\"M0 0h24v24H0V0z\" fill=\"none\"/>\n",
              "    <path d=\"M18.56 5.44l.94 2.06.94-2.06 2.06-.94-2.06-.94-.94-2.06-.94 2.06-2.06.94zm-11 1L8.5 8.5l.94-2.06 2.06-.94-2.06-.94L8.5 2.5l-.94 2.06-2.06.94zm10 10l.94 2.06.94-2.06 2.06-.94-2.06-.94-.94-2.06-.94 2.06-2.06.94z\"/><path d=\"M17.41 7.96l-1.37-1.37c-.4-.4-.92-.59-1.43-.59-.52 0-1.04.2-1.43.59L10.3 9.45l-7.72 7.72c-.78.78-.78 2.05 0 2.83L4 21.41c.39.39.9.59 1.41.59.51 0 1.02-.2 1.41-.59l7.78-7.78 2.81-2.81c.8-.78.8-2.07 0-2.86zM5.41 20L4 18.59l7.72-7.72 1.47 1.35L5.41 20z\"/>\n",
              "  </svg>\n",
              "      </button>\n",
              "      \n",
              "  <style>\n",
              "    .colab-df-container {\n",
              "      display:flex;\n",
              "      flex-wrap:wrap;\n",
              "      gap: 12px;\n",
              "    }\n",
              "\n",
              "    .colab-df-convert {\n",
              "      background-color: #E8F0FE;\n",
              "      border: none;\n",
              "      border-radius: 50%;\n",
              "      cursor: pointer;\n",
              "      display: none;\n",
              "      fill: #1967D2;\n",
              "      height: 32px;\n",
              "      padding: 0 0 0 0;\n",
              "      width: 32px;\n",
              "    }\n",
              "\n",
              "    .colab-df-convert:hover {\n",
              "      background-color: #E2EBFA;\n",
              "      box-shadow: 0px 1px 2px rgba(60, 64, 67, 0.3), 0px 1px 3px 1px rgba(60, 64, 67, 0.15);\n",
              "      fill: #174EA6;\n",
              "    }\n",
              "\n",
              "    [theme=dark] .colab-df-convert {\n",
              "      background-color: #3B4455;\n",
              "      fill: #D2E3FC;\n",
              "    }\n",
              "\n",
              "    [theme=dark] .colab-df-convert:hover {\n",
              "      background-color: #434B5C;\n",
              "      box-shadow: 0px 1px 3px 1px rgba(0, 0, 0, 0.15);\n",
              "      filter: drop-shadow(0px 1px 2px rgba(0, 0, 0, 0.3));\n",
              "      fill: #FFFFFF;\n",
              "    }\n",
              "  </style>\n",
              "\n",
              "      <script>\n",
              "        const buttonEl =\n",
              "          document.querySelector('#df-d635b66a-24ce-4577-bf20-a412fc06bae2 button.colab-df-convert');\n",
              "        buttonEl.style.display =\n",
              "          google.colab.kernel.accessAllowed ? 'block' : 'none';\n",
              "\n",
              "        async function convertToInteractive(key) {\n",
              "          const element = document.querySelector('#df-d635b66a-24ce-4577-bf20-a412fc06bae2');\n",
              "          const dataTable =\n",
              "            await google.colab.kernel.invokeFunction('convertToInteractive',\n",
              "                                                     [key], {});\n",
              "          if (!dataTable) return;\n",
              "\n",
              "          const docLinkHtml = 'Like what you see? Visit the ' +\n",
              "            '<a target=\"_blank\" href=https://colab.research.google.com/notebooks/data_table.ipynb>data table notebook</a>'\n",
              "            + ' to learn more about interactive tables.';\n",
              "          element.innerHTML = '';\n",
              "          dataTable['output_type'] = 'display_data';\n",
              "          await google.colab.output.renderOutput(dataTable, element);\n",
              "          const docLink = document.createElement('div');\n",
              "          docLink.innerHTML = docLinkHtml;\n",
              "          element.appendChild(docLink);\n",
              "        }\n",
              "      </script>\n",
              "    </div>\n",
              "  </div>\n",
              "  "
            ]
          },
          "metadata": {},
          "execution_count": 3
        }
      ],
      "source": [
        "df_verde.head()"
      ]
    },
    {
      "cell_type": "code",
      "source": [
        "df_no_verde.head()"
      ],
      "metadata": {
        "id": "XHiCZAe_AdFZ",
        "colab": {
          "base_uri": "https://localhost:8080/",
          "height": 446
        },
        "outputId": "28a6affa-0bf0-481f-bf53-65e8a3d4cdc9"
      },
      "id": "XHiCZAe_AdFZ",
      "execution_count": 4,
      "outputs": [
        {
          "output_type": "execute_result",
          "data": {
            "text/plain": [
              "   B02_min  B02_max  B02_mean  B02_median  B02_nodata  B02_range  B02_count  \\\n",
              "0   0.0894   0.3261  0.165313     0.15350         0.0     0.2367        313   \n",
              "1   0.0950   0.5436  0.166934     0.14690         0.0     0.4486        317   \n",
              "2   0.0867   0.3236  0.163555     0.15535         0.0     0.2369        314   \n",
              "3   0.0874   0.3107  0.134499     0.13110         0.0     0.2233        315   \n",
              "4   0.0826   0.2872  0.127382     0.11620         0.0     0.2046        313   \n",
              "\n",
              "   B03_min  B03_max  B03_mean  ...  sipi_nodata  sipi_range  sipi_count  \\\n",
              "0   0.0827   0.3737  0.168369  ...          0.0   88.165550         313   \n",
              "1   0.0927   0.5340  0.170916  ...          0.0   69.959171         317   \n",
              "2   0.0807   0.3693  0.164975  ...          0.0   52.476419         314   \n",
              "3   0.0776   0.3101  0.132847  ...          0.0   35.171722         315   \n",
              "4   0.0722   0.3367  0.124013  ...          0.0    1.484326         313   \n",
              "\n",
              "                                              raster  clouds_on_raster  \\\n",
              "0  S2A_MSIL1C_20170103T142022_N0204_R010_T20JLL_2...               0.0   \n",
              "1  S2A_MSIL1C_20170103T142022_N0204_R010_T20JLL_2...               0.0   \n",
              "2  S2A_MSIL1C_20170103T142022_N0204_R010_T20JLL_2...               0.0   \n",
              "3  S2A_MSIL1C_20170103T142022_N0204_R010_T20JLL_2...               0.0   \n",
              "4  S2A_MSIL1C_20170103T142022_N0204_R010_T20JLL_2...               0.0   \n",
              "\n",
              "    osm_id       name       area_m2               desc        date  \n",
              "0  259-nev  undefined  31365.484905             Barrio  2017-01-03  \n",
              "1  237-nev  undefined  31365.484905  Barrio-Zona-Verde  2017-01-03  \n",
              "2  236-nev  undefined  31365.484905  Barrio-Zona-Verde  2017-01-03  \n",
              "3  235-nev  undefined  31365.484905  Barrio-Zona-Verde  2017-01-03  \n",
              "4  234-nev  undefined  31365.484905  Barrio-Zona-Verde  2017-01-03  \n",
              "\n",
              "[5 rows x 168 columns]"
            ],
            "text/html": [
              "\n",
              "  <div id=\"df-83f5e47c-56aa-4611-8e4c-8f329756ad35\">\n",
              "    <div class=\"colab-df-container\">\n",
              "      <div>\n",
              "<style scoped>\n",
              "    .dataframe tbody tr th:only-of-type {\n",
              "        vertical-align: middle;\n",
              "    }\n",
              "\n",
              "    .dataframe tbody tr th {\n",
              "        vertical-align: top;\n",
              "    }\n",
              "\n",
              "    .dataframe thead th {\n",
              "        text-align: right;\n",
              "    }\n",
              "</style>\n",
              "<table border=\"1\" class=\"dataframe\">\n",
              "  <thead>\n",
              "    <tr style=\"text-align: right;\">\n",
              "      <th></th>\n",
              "      <th>B02_min</th>\n",
              "      <th>B02_max</th>\n",
              "      <th>B02_mean</th>\n",
              "      <th>B02_median</th>\n",
              "      <th>B02_nodata</th>\n",
              "      <th>B02_range</th>\n",
              "      <th>B02_count</th>\n",
              "      <th>B03_min</th>\n",
              "      <th>B03_max</th>\n",
              "      <th>B03_mean</th>\n",
              "      <th>...</th>\n",
              "      <th>sipi_nodata</th>\n",
              "      <th>sipi_range</th>\n",
              "      <th>sipi_count</th>\n",
              "      <th>raster</th>\n",
              "      <th>clouds_on_raster</th>\n",
              "      <th>osm_id</th>\n",
              "      <th>name</th>\n",
              "      <th>area_m2</th>\n",
              "      <th>desc</th>\n",
              "      <th>date</th>\n",
              "    </tr>\n",
              "  </thead>\n",
              "  <tbody>\n",
              "    <tr>\n",
              "      <th>0</th>\n",
              "      <td>0.0894</td>\n",
              "      <td>0.3261</td>\n",
              "      <td>0.165313</td>\n",
              "      <td>0.15350</td>\n",
              "      <td>0.0</td>\n",
              "      <td>0.2367</td>\n",
              "      <td>313</td>\n",
              "      <td>0.0827</td>\n",
              "      <td>0.3737</td>\n",
              "      <td>0.168369</td>\n",
              "      <td>...</td>\n",
              "      <td>0.0</td>\n",
              "      <td>88.165550</td>\n",
              "      <td>313</td>\n",
              "      <td>S2A_MSIL1C_20170103T142022_N0204_R010_T20JLL_2...</td>\n",
              "      <td>0.0</td>\n",
              "      <td>259-nev</td>\n",
              "      <td>undefined</td>\n",
              "      <td>31365.484905</td>\n",
              "      <td>Barrio</td>\n",
              "      <td>2017-01-03</td>\n",
              "    </tr>\n",
              "    <tr>\n",
              "      <th>1</th>\n",
              "      <td>0.0950</td>\n",
              "      <td>0.5436</td>\n",
              "      <td>0.166934</td>\n",
              "      <td>0.14690</td>\n",
              "      <td>0.0</td>\n",
              "      <td>0.4486</td>\n",
              "      <td>317</td>\n",
              "      <td>0.0927</td>\n",
              "      <td>0.5340</td>\n",
              "      <td>0.170916</td>\n",
              "      <td>...</td>\n",
              "      <td>0.0</td>\n",
              "      <td>69.959171</td>\n",
              "      <td>317</td>\n",
              "      <td>S2A_MSIL1C_20170103T142022_N0204_R010_T20JLL_2...</td>\n",
              "      <td>0.0</td>\n",
              "      <td>237-nev</td>\n",
              "      <td>undefined</td>\n",
              "      <td>31365.484905</td>\n",
              "      <td>Barrio-Zona-Verde</td>\n",
              "      <td>2017-01-03</td>\n",
              "    </tr>\n",
              "    <tr>\n",
              "      <th>2</th>\n",
              "      <td>0.0867</td>\n",
              "      <td>0.3236</td>\n",
              "      <td>0.163555</td>\n",
              "      <td>0.15535</td>\n",
              "      <td>0.0</td>\n",
              "      <td>0.2369</td>\n",
              "      <td>314</td>\n",
              "      <td>0.0807</td>\n",
              "      <td>0.3693</td>\n",
              "      <td>0.164975</td>\n",
              "      <td>...</td>\n",
              "      <td>0.0</td>\n",
              "      <td>52.476419</td>\n",
              "      <td>314</td>\n",
              "      <td>S2A_MSIL1C_20170103T142022_N0204_R010_T20JLL_2...</td>\n",
              "      <td>0.0</td>\n",
              "      <td>236-nev</td>\n",
              "      <td>undefined</td>\n",
              "      <td>31365.484905</td>\n",
              "      <td>Barrio-Zona-Verde</td>\n",
              "      <td>2017-01-03</td>\n",
              "    </tr>\n",
              "    <tr>\n",
              "      <th>3</th>\n",
              "      <td>0.0874</td>\n",
              "      <td>0.3107</td>\n",
              "      <td>0.134499</td>\n",
              "      <td>0.13110</td>\n",
              "      <td>0.0</td>\n",
              "      <td>0.2233</td>\n",
              "      <td>315</td>\n",
              "      <td>0.0776</td>\n",
              "      <td>0.3101</td>\n",
              "      <td>0.132847</td>\n",
              "      <td>...</td>\n",
              "      <td>0.0</td>\n",
              "      <td>35.171722</td>\n",
              "      <td>315</td>\n",
              "      <td>S2A_MSIL1C_20170103T142022_N0204_R010_T20JLL_2...</td>\n",
              "      <td>0.0</td>\n",
              "      <td>235-nev</td>\n",
              "      <td>undefined</td>\n",
              "      <td>31365.484905</td>\n",
              "      <td>Barrio-Zona-Verde</td>\n",
              "      <td>2017-01-03</td>\n",
              "    </tr>\n",
              "    <tr>\n",
              "      <th>4</th>\n",
              "      <td>0.0826</td>\n",
              "      <td>0.2872</td>\n",
              "      <td>0.127382</td>\n",
              "      <td>0.11620</td>\n",
              "      <td>0.0</td>\n",
              "      <td>0.2046</td>\n",
              "      <td>313</td>\n",
              "      <td>0.0722</td>\n",
              "      <td>0.3367</td>\n",
              "      <td>0.124013</td>\n",
              "      <td>...</td>\n",
              "      <td>0.0</td>\n",
              "      <td>1.484326</td>\n",
              "      <td>313</td>\n",
              "      <td>S2A_MSIL1C_20170103T142022_N0204_R010_T20JLL_2...</td>\n",
              "      <td>0.0</td>\n",
              "      <td>234-nev</td>\n",
              "      <td>undefined</td>\n",
              "      <td>31365.484905</td>\n",
              "      <td>Barrio-Zona-Verde</td>\n",
              "      <td>2017-01-03</td>\n",
              "    </tr>\n",
              "  </tbody>\n",
              "</table>\n",
              "<p>5 rows × 168 columns</p>\n",
              "</div>\n",
              "      <button class=\"colab-df-convert\" onclick=\"convertToInteractive('df-83f5e47c-56aa-4611-8e4c-8f329756ad35')\"\n",
              "              title=\"Convert this dataframe to an interactive table.\"\n",
              "              style=\"display:none;\">\n",
              "        \n",
              "  <svg xmlns=\"http://www.w3.org/2000/svg\" height=\"24px\"viewBox=\"0 0 24 24\"\n",
              "       width=\"24px\">\n",
              "    <path d=\"M0 0h24v24H0V0z\" fill=\"none\"/>\n",
              "    <path d=\"M18.56 5.44l.94 2.06.94-2.06 2.06-.94-2.06-.94-.94-2.06-.94 2.06-2.06.94zm-11 1L8.5 8.5l.94-2.06 2.06-.94-2.06-.94L8.5 2.5l-.94 2.06-2.06.94zm10 10l.94 2.06.94-2.06 2.06-.94-2.06-.94-.94-2.06-.94 2.06-2.06.94z\"/><path d=\"M17.41 7.96l-1.37-1.37c-.4-.4-.92-.59-1.43-.59-.52 0-1.04.2-1.43.59L10.3 9.45l-7.72 7.72c-.78.78-.78 2.05 0 2.83L4 21.41c.39.39.9.59 1.41.59.51 0 1.02-.2 1.41-.59l7.78-7.78 2.81-2.81c.8-.78.8-2.07 0-2.86zM5.41 20L4 18.59l7.72-7.72 1.47 1.35L5.41 20z\"/>\n",
              "  </svg>\n",
              "      </button>\n",
              "      \n",
              "  <style>\n",
              "    .colab-df-container {\n",
              "      display:flex;\n",
              "      flex-wrap:wrap;\n",
              "      gap: 12px;\n",
              "    }\n",
              "\n",
              "    .colab-df-convert {\n",
              "      background-color: #E8F0FE;\n",
              "      border: none;\n",
              "      border-radius: 50%;\n",
              "      cursor: pointer;\n",
              "      display: none;\n",
              "      fill: #1967D2;\n",
              "      height: 32px;\n",
              "      padding: 0 0 0 0;\n",
              "      width: 32px;\n",
              "    }\n",
              "\n",
              "    .colab-df-convert:hover {\n",
              "      background-color: #E2EBFA;\n",
              "      box-shadow: 0px 1px 2px rgba(60, 64, 67, 0.3), 0px 1px 3px 1px rgba(60, 64, 67, 0.15);\n",
              "      fill: #174EA6;\n",
              "    }\n",
              "\n",
              "    [theme=dark] .colab-df-convert {\n",
              "      background-color: #3B4455;\n",
              "      fill: #D2E3FC;\n",
              "    }\n",
              "\n",
              "    [theme=dark] .colab-df-convert:hover {\n",
              "      background-color: #434B5C;\n",
              "      box-shadow: 0px 1px 3px 1px rgba(0, 0, 0, 0.15);\n",
              "      filter: drop-shadow(0px 1px 2px rgba(0, 0, 0, 0.3));\n",
              "      fill: #FFFFFF;\n",
              "    }\n",
              "  </style>\n",
              "\n",
              "      <script>\n",
              "        const buttonEl =\n",
              "          document.querySelector('#df-83f5e47c-56aa-4611-8e4c-8f329756ad35 button.colab-df-convert');\n",
              "        buttonEl.style.display =\n",
              "          google.colab.kernel.accessAllowed ? 'block' : 'none';\n",
              "\n",
              "        async function convertToInteractive(key) {\n",
              "          const element = document.querySelector('#df-83f5e47c-56aa-4611-8e4c-8f329756ad35');\n",
              "          const dataTable =\n",
              "            await google.colab.kernel.invokeFunction('convertToInteractive',\n",
              "                                                     [key], {});\n",
              "          if (!dataTable) return;\n",
              "\n",
              "          const docLinkHtml = 'Like what you see? Visit the ' +\n",
              "            '<a target=\"_blank\" href=https://colab.research.google.com/notebooks/data_table.ipynb>data table notebook</a>'\n",
              "            + ' to learn more about interactive tables.';\n",
              "          element.innerHTML = '';\n",
              "          dataTable['output_type'] = 'display_data';\n",
              "          await google.colab.output.renderOutput(dataTable, element);\n",
              "          const docLink = document.createElement('div');\n",
              "          docLink.innerHTML = docLinkHtml;\n",
              "          element.appendChild(docLink);\n",
              "        }\n",
              "      </script>\n",
              "    </div>\n",
              "  </div>\n",
              "  "
            ]
          },
          "metadata": {},
          "execution_count": 4
        }
      ]
    },
    {
      "cell_type": "code",
      "source": [
        "print(df_verde[\"date\"].max())\n",
        "print(df_verde[\"date\"].min())\n",
        "print(\"****************No verde*****************************\")\n",
        "print(df_no_verde[\"date\"].max())\n",
        "print(df_no_verde[\"date\"].min())"
      ],
      "metadata": {
        "colab": {
          "base_uri": "https://localhost:8080/"
        },
        "id": "q-klCNR_n3sR",
        "outputId": "67d5b1e7-e7d0-40b4-ecae-bc2126d73d54"
      },
      "id": "q-klCNR_n3sR",
      "execution_count": 5,
      "outputs": [
        {
          "output_type": "stream",
          "name": "stdout",
          "text": [
            "2022-04-17\n",
            "2017-01-03\n",
            "****************No verde*****************************\n",
            "2022-04-17\n",
            "2017-01-03\n"
          ]
        }
      ]
    },
    {
      "cell_type": "code",
      "source": [
        "df_verde1 = df_verde[[\"B02_median\", \"B06_median\", \"B11_median\", \"date\", \"ndvi_max\", \"area_m2\",\"raster\",\"clouds_on_raster\"]]"
      ],
      "metadata": {
        "id": "7UdkAZWe7ay1"
      },
      "id": "7UdkAZWe7ay1",
      "execution_count": 6,
      "outputs": []
    },
    {
      "cell_type": "code",
      "source": [
        "df_no_verde1 = df_no_verde[[\"B02_median\", \"B06_median\", \"B11_median\", \"date\", \"ndvi_max\", \"area_m2\",\"raster\",\"clouds_on_raster\"]]"
      ],
      "metadata": {
        "id": "weXxnFVt7anr"
      },
      "id": "weXxnFVt7anr",
      "execution_count": 7,
      "outputs": []
    },
    {
      "cell_type": "markdown",
      "source": [
        "##Curación de datos para el dataframe Espacio Verde"
      ],
      "metadata": {
        "id": "4qo2dcE1dmIW"
      },
      "id": "4qo2dcE1dmIW"
    },
    {
      "cell_type": "code",
      "source": [
        "# Graficamos datos faltantes del Espacio Verde\n",
        "msno.bar(df_verde1,figsize=(12, 6), sort=\"ascending\",fontsize=12, color='tomato') "
      ],
      "metadata": {
        "id": "qXTSD_oEQwac",
        "colab": {
          "base_uri": "https://localhost:8080/",
          "height": 512
        },
        "outputId": "b126418f-b5bf-4747-ce7e-c49c098aa491"
      },
      "id": "qXTSD_oEQwac",
      "execution_count": 8,
      "outputs": [
        {
          "output_type": "execute_result",
          "data": {
            "text/plain": [
              "<matplotlib.axes._subplots.AxesSubplot at 0x7f515b31f690>"
            ]
          },
          "metadata": {},
          "execution_count": 8
        },
        {
          "output_type": "display_data",
          "data": {
            "text/plain": [
              "<Figure size 864x432 with 3 Axes>"
            ],
            "image/png": "[encoded data removed]"
          },
          "metadata": {
            "needs_background": "light"
          }
        }
      ]
    },
    {
      "cell_type": "code",
      "source": [
        "# Creamos un nuevo dataframe con las variables de interés \n",
        "\n",
        "df_interest_E = df_verde[[\"B02_median\", \"B06_median\", \"B11_median\", \"ndvi_max\", \"area_m2\",\"date\",\"clouds_on_raster\"]]\n",
        "len(df_interest_E)"
      ],
      "metadata": {
        "colab": {
          "base_uri": "https://localhost:8080/"
        },
        "id": "Hb9kUCBaSy7c",
        "outputId": "e140b8d0-1da3-44fc-999f-3a6d2cc41631"
      },
      "id": "Hb9kUCBaSy7c",
      "execution_count": 9,
      "outputs": [
        {
          "output_type": "execute_result",
          "data": {
            "text/plain": [
              "208932"
            ]
          },
          "metadata": {},
          "execution_count": 9
        }
      ]
    },
    {
      "cell_type": "code",
      "source": [
        "##Removemos outliers\n",
        "# Para la remoción de outliers por estación, definimos la estación a la que corresponde cada registro. \n",
        "# Convertimos la columna date a tipo datetime\n",
        "df_interest_E['date']= pd.to_datetime(df_interest_E['date'])\n",
        "\n",
        "# Extraemos el mes de cada registro.\n",
        "df_interest_E['month'] = df_interest_E['date'].dt.month\n",
        "\n",
        "# Aplicamos la siguiente función para determinar la estación a la que corresponde cada registro.\n",
        "def seasons(df, col):\n",
        "    Seasons = []\n",
        "    for month in df[col]:\n",
        "        if month in (1, 2, 3):\n",
        "            season = 'summer'\n",
        "        elif month in (4, 5, 6):\n",
        "            season = 'autumn'\n",
        "        elif month in (7, 8, 9):\n",
        "            season = 'winter'\n",
        "        else:\n",
        "            season = 'spring'\n",
        "        Seasons.append(season)\n",
        "    df[\"season\"]= Seasons\n",
        "\n",
        "seasons(df_interest_E, \"month\")\n",
        "df_interest_E\n",
        "\n",
        "\n",
        "# Generamos nuevas columnas de cada banda para cada estación\n",
        "df_interest_E.loc[df_interest_E['season'] == 'summer', 'B02_summer'] = df_interest_E['B02_median']  \n",
        "df_interest_E.loc[df_interest_E['season'] == 'autumn', 'B02_autumn'] = df_interest_E['B02_median']\n",
        "df_interest_E.loc[df_interest_E['season'] == 'winter', 'B02_winter'] = df_interest_E['B02_median']\n",
        "df_interest_E.loc[df_interest_E['season'] == 'spring', 'B02_spring'] = df_interest_E['B02_median']\n",
        "\n",
        "df_interest_E.loc[df_interest_E['season'] == 'summer', 'B06_summer'] = df_interest_E['B06_median']  \n",
        "df_interest_E.loc[df_interest_E['season'] == 'autumn', 'B06_autumn'] = df_interest_E['B06_median']\n",
        "df_interest_E.loc[df_interest_E['season'] == 'winter', 'B06_winter'] = df_interest_E['B06_median']\n",
        "df_interest_E.loc[df_interest_E['season'] == 'spring', 'B06_spring'] = df_interest_E['B06_median']\n",
        "\n",
        "df_interest_E.loc[df_interest_E['season'] == 'summer', 'B11_summer'] = df_interest_E['B11_median']  \n",
        "df_interest_E.loc[df_interest_E['season'] == 'autumn', 'B11_autumn'] = df_interest_E['B11_median']\n",
        "df_interest_E.loc[df_interest_E['season'] == 'winter', 'B11_winter'] = df_interest_E['B11_median']\n",
        "df_interest_E.loc[df_interest_E['season'] == 'spring', 'B11_spring'] = df_interest_E['B11_median']\n",
        "\n",
        "# Creamos lista de nuevas columnas para usarla como argumento en la función que detecta outliers\n",
        "Season_values = ['B02_summer', 'B02_autumn', 'B02_winter', 'B02_spring', 'B06_summer', 'B06_autumn', 'B06_winter', \n",
        "                'B06_spring', 'B11_summer', 'B11_autumn', 'B11_winter', 'B11_spring']\n",
        "\n",
        "def find_outliers(df, col_list):\n",
        "    # calculamos cuartiles 1 y 3, y el interquartil (iqr)\n",
        "    for col in col_list:\n",
        "        if col==\"NaN\":\n",
        "            continue\n",
        "        q1 = df[col].quantile(0.25)\n",
        "        q3 = df[col].quantile(0.75)\n",
        "        iqr = q3 - q1 \n",
        "        # calculamos límite superior e inferior\n",
        "        ls = q1 + 1.5 * iqr\n",
        "        li = q3 - 1.5 * iqr\n",
        "        # Generamos nueva columna\n",
        "        df['outl_'+col]=  np.where((df[col] >ls)| (df[col] < li),1,0) \n",
        "\n",
        "# Aplicamos la función de detección de outliers\n",
        "find_outliers(df_interest_E, Season_values)        \n",
        "\n",
        "# Se quitan aquellos registros donde se observa que para las tres bandas bajo análisis (en cada estación), \n",
        "# los valores son outliers (valor = 1)\n",
        "df_interest_E2_summer = df_interest_E[~((df_interest_E['outl_B02_summer']==1) & (df_interest_E['outl_B06_summer']==1) & \n",
        "                        (df_interest_E['outl_B11_summer']==1))]\n",
        "print(len(df_interest_E2_summer))\n",
        "\n",
        "df_interest_E2_autumn = df_interest_E2_summer[~((df_interest_E2_summer['outl_B02_autumn']==1) & \n",
        "                        (df_interest_E2_summer['outl_B06_autumn']==1) & (df_interest_E2_summer['outl_B11_autumn']==1))]\n",
        "print(len(df_interest_E2_autumn))\n",
        "\n",
        "df_interest_E2_winter = df_interest_E2_autumn[~((df_interest_E2_autumn['outl_B02_winter']==1) & \n",
        "                        (df_interest_E2_autumn['outl_B06_winter']==1) & (df_interest_E2_autumn['outl_B11_winter']==1))]\n",
        "print(len(df_interest_E2_winter))\n",
        "\n",
        "df_interest_E2_spring = df_interest_E2_winter[~((df_interest_E2_winter['outl_B02_spring']==1) & \n",
        "                        (df_interest_E2_winter['outl_B06_spring']==1) & (df_interest_E2_winter['outl_B11_spring']==1))]\n",
        "print(len(df_interest_E2_spring)) \n",
        "\n",
        "#Dividimos el conjunto de datos por estación\n",
        "df_interest_summer = df_interest_E2_spring[df_interest_E2_spring['season']==\"summer\"]\n",
        "df_interest_autumn = df_interest_E2_spring[df_interest_E2_spring['season']==\"autumn\"]\n",
        "df_interest_winter = df_interest_E2_spring[df_interest_E2_spring['season']==\"winter\"]\n",
        "df_interest_spring = df_interest_E2_spring[df_interest_E2_spring['season']==\"spring\"]"
      ],
      "metadata": {
        "colab": {
          "base_uri": "https://localhost:8080/"
        },
        "id": "dmXQ9dDmYCNs",
        "outputId": "4892eb98-0db7-4d0f-d27e-45a396a6191d"
      },
      "id": "dmXQ9dDmYCNs",
      "execution_count": 10,
      "outputs": [
        {
          "output_type": "stream",
          "name": "stderr",
          "text": [
            "/usr/local/lib/python3.7/dist-packages/ipykernel_launcher.py:4: SettingWithCopyWarning: \n",
            "A value is trying to be set on a copy of a slice from a DataFrame.\n",
            "Try using .loc[row_indexer,col_indexer] = value instead\n",
            "\n",
            "See the caveats in the documentation: https://pandas.pydata.org/pandas-docs/stable/user_guide/indexing.html#returning-a-view-versus-a-copy\n",
            "  after removing the cwd from sys.path.\n",
            "/usr/local/lib/python3.7/dist-packages/ipykernel_launcher.py:7: SettingWithCopyWarning: \n",
            "A value is trying to be set on a copy of a slice from a DataFrame.\n",
            "Try using .loc[row_indexer,col_indexer] = value instead\n",
            "\n",
            "See the caveats in the documentation: https://pandas.pydata.org/pandas-docs/stable/user_guide/indexing.html#returning-a-view-versus-a-copy\n",
            "  import sys\n",
            "/usr/local/lib/python3.7/dist-packages/ipykernel_launcher.py:22: SettingWithCopyWarning: \n",
            "A value is trying to be set on a copy of a slice from a DataFrame.\n",
            "Try using .loc[row_indexer,col_indexer] = value instead\n",
            "\n",
            "See the caveats in the documentation: https://pandas.pydata.org/pandas-docs/stable/user_guide/indexing.html#returning-a-view-versus-a-copy\n",
            "/usr/local/lib/python3.7/dist-packages/pandas/core/indexing.py:1681: SettingWithCopyWarning: \n",
            "A value is trying to be set on a copy of a slice from a DataFrame.\n",
            "Try using .loc[row_indexer,col_indexer] = value instead\n",
            "\n",
            "See the caveats in the documentation: https://pandas.pydata.org/pandas-docs/stable/user_guide/indexing.html#returning-a-view-versus-a-copy\n",
            "  self.obj[key] = empty_value\n",
            "/usr/local/lib/python3.7/dist-packages/pandas/core/indexing.py:1773: SettingWithCopyWarning: \n",
            "A value is trying to be set on a copy of a slice from a DataFrame.\n",
            "Try using .loc[row_indexer,col_indexer] = value instead\n",
            "\n",
            "See the caveats in the documentation: https://pandas.pydata.org/pandas-docs/stable/user_guide/indexing.html#returning-a-view-versus-a-copy\n",
            "  self._setitem_single_column(ilocs[0], value, pi)\n",
            "/usr/local/lib/python3.7/dist-packages/ipykernel_launcher.py:60: SettingWithCopyWarning: \n",
            "A value is trying to be set on a copy of a slice from a DataFrame.\n",
            "Try using .loc[row_indexer,col_indexer] = value instead\n",
            "\n",
            "See the caveats in the documentation: https://pandas.pydata.org/pandas-docs/stable/user_guide/indexing.html#returning-a-view-versus-a-copy\n"
          ]
        },
        {
          "output_type": "stream",
          "name": "stdout",
          "text": [
            "205669\n",
            "202722\n",
            "200130\n",
            "197680\n"
          ]
        }
      ]
    },
    {
      "cell_type": "code",
      "source": [
        "#Seleccionamos las columnas de interés para cada subconjunto\n",
        "\n",
        "df_summer = df_interest_summer[['B02_median', 'B06_median', 'B11_median','area_m2', 'ndvi_max'\n",
        "       , 'clouds_on_raster']]\n",
        "df_autumn = df_interest_autumn[['B02_median', 'B06_median', 'B11_median','area_m2', 'ndvi_max'\n",
        "       , 'clouds_on_raster']]  \n",
        "df_winter = df_interest_winter[['B02_median', 'B06_median', 'B11_median','area_m2', 'ndvi_max'\n",
        "       , 'clouds_on_raster']]\n",
        "df_spring = df_interest_spring[['B02_median', 'B06_median', 'B11_median','area_m2', 'ndvi_max'\n",
        "       , 'clouds_on_raster']]  "
      ],
      "metadata": {
        "id": "rbp2zLQnsS6q"
      },
      "id": "rbp2zLQnsS6q",
      "execution_count": 11,
      "outputs": []
    },
    {
      "cell_type": "code",
      "source": [
        "# Filtramos por nubosidad < 30%\n",
        "\n",
        "df_summer_clouds = df_summer[df_summer['clouds_on_raster']<30]\n",
        "df_autumn_clouds = df_autumn[df_autumn['clouds_on_raster']<30]\n",
        "df_winter_clouds = df_winter[df_winter['clouds_on_raster']<30]\n",
        "df_spring_clouds = df_spring[df_spring['clouds_on_raster']<30]"
      ],
      "metadata": {
        "id": "Ps0iNigIsSf5"
      },
      "id": "Ps0iNigIsSf5",
      "execution_count": 12,
      "outputs": []
    },
    {
      "cell_type": "code",
      "source": [
        "# Graficamos registros faltantes para cada subconjunto\n",
        "plt.figure(figsize=(12,10))\n",
        "plt.suptitle('Registros faltantes para cada subconjunto del Espacio Verde', x=0.5, y=1.05, fontsize=23)\n",
        "\n",
        "plt.subplot(2, 2, 1)\n",
        "msno.bar(df_summer_clouds,figsize=(14, 6), sort=\"ascending\",fontsize=12, color='red')\n",
        "plt.title('Subconjunto Verano', pad=16)\n",
        "\n",
        "plt.subplot(2, 2, 2)\n",
        "msno.bar(df_winter_clouds,figsize=(14, 6), sort=\"ascending\",fontsize=12, color='blue')\n",
        "plt.title('Subconjunto Invierno', pad=16)\n",
        "plt.tight_layout(h_pad=10, w_pad=3)\n",
        "\n",
        "plt.subplot(2, 2, 3)\n",
        "msno.bar(df_autumn_clouds,figsize=(14, 6), sort=\"ascending\",fontsize=12, color='coral')\n",
        "plt.title('Subconjunto Otoño', pad=16)\n",
        "\n",
        "plt.subplot(2, 2, 4)\n",
        "msno.bar(df_spring_clouds,figsize=(14, 6), sort=\"ascending\",fontsize=12, color='green')\n",
        "plt.title('Subconjunto Primavera', pad=16);\n"
      ],
      "metadata": {
        "colab": {
          "base_uri": "https://localhost:8080/",
          "height": 562
        },
        "id": "D9KQ6A_ztRfm",
        "outputId": "2e392120-2946-47b7-b6d2-140ea23b5ec7"
      },
      "id": "D9KQ6A_ztRfm",
      "execution_count": 13,
      "outputs": [
        {
          "output_type": "display_data",
          "data": {
            "text/plain": [
              "<Figure size 1008x432 with 12 Axes>"
            ],
            "image/png": "[encoded data removed]"
          },
          "metadata": {
            "needs_background": "light"
          }
        }
      ]
    },
    {
      "cell_type": "code",
      "source": [
        "#Normalización para cada subconjunto\n",
        "estandarizador = MinMaxScaler()\n",
        "cols= ['ndvi_max', 'B02_median', 'B06_median', 'B11_median']\n",
        "\n",
        "estandarizador.fit(df_summer_clouds[cols])\n",
        "df_summer_clouds.loc[:, cols] = estandarizador.transform(df_summer_clouds[cols])\n",
        "\n",
        "estandarizador.fit(df_winter_clouds[cols])\n",
        "df_winter_clouds.loc[:, cols] = estandarizador.transform(df_winter_clouds[cols])\n",
        "\n",
        "\n",
        "estandarizador.fit(df_autumn_clouds[cols])\n",
        "df_autumn_clouds.loc[:, cols] = estandarizador.transform(df_autumn_clouds[cols])\n",
        "\n",
        "\n",
        "estandarizador.fit(df_winter_clouds[cols])\n",
        "df_spring_clouds.loc[:, cols] = estandarizador.transform(df_spring_clouds[cols])\n"
      ],
      "metadata": {
        "colab": {
          "base_uri": "https://localhost:8080/"
        },
        "id": "mE_wsUSD2qAp",
        "outputId": "1fa2083a-dff7-4ad3-e91f-a6344d9f19f3"
      },
      "id": "mE_wsUSD2qAp",
      "execution_count": 14,
      "outputs": [
        {
          "output_type": "stream",
          "name": "stderr",
          "text": [
            "/usr/local/lib/python3.7/dist-packages/pandas/core/indexing.py:1732: SettingWithCopyWarning: \n",
            "A value is trying to be set on a copy of a slice from a DataFrame\n",
            "\n",
            "See the caveats in the documentation: https://pandas.pydata.org/pandas-docs/stable/user_guide/indexing.html#returning-a-view-versus-a-copy\n",
            "  self._setitem_single_block(indexer, value, name)\n",
            "/usr/local/lib/python3.7/dist-packages/pandas/core/indexing.py:723: SettingWithCopyWarning: \n",
            "A value is trying to be set on a copy of a slice from a DataFrame\n",
            "\n",
            "See the caveats in the documentation: https://pandas.pydata.org/pandas-docs/stable/user_guide/indexing.html#returning-a-view-versus-a-copy\n",
            "  iloc._setitem_with_indexer(indexer, value, self.name)\n",
            "/usr/local/lib/python3.7/dist-packages/pandas/core/indexing.py:1732: SettingWithCopyWarning: \n",
            "A value is trying to be set on a copy of a slice from a DataFrame\n",
            "\n",
            "See the caveats in the documentation: https://pandas.pydata.org/pandas-docs/stable/user_guide/indexing.html#returning-a-view-versus-a-copy\n",
            "  self._setitem_single_block(indexer, value, name)\n",
            "/usr/local/lib/python3.7/dist-packages/pandas/core/indexing.py:723: SettingWithCopyWarning: \n",
            "A value is trying to be set on a copy of a slice from a DataFrame\n",
            "\n",
            "See the caveats in the documentation: https://pandas.pydata.org/pandas-docs/stable/user_guide/indexing.html#returning-a-view-versus-a-copy\n",
            "  iloc._setitem_with_indexer(indexer, value, self.name)\n",
            "/usr/local/lib/python3.7/dist-packages/pandas/core/indexing.py:1732: SettingWithCopyWarning: \n",
            "A value is trying to be set on a copy of a slice from a DataFrame\n",
            "\n",
            "See the caveats in the documentation: https://pandas.pydata.org/pandas-docs/stable/user_guide/indexing.html#returning-a-view-versus-a-copy\n",
            "  self._setitem_single_block(indexer, value, name)\n",
            "/usr/local/lib/python3.7/dist-packages/pandas/core/indexing.py:723: SettingWithCopyWarning: \n",
            "A value is trying to be set on a copy of a slice from a DataFrame\n",
            "\n",
            "See the caveats in the documentation: https://pandas.pydata.org/pandas-docs/stable/user_guide/indexing.html#returning-a-view-versus-a-copy\n",
            "  iloc._setitem_with_indexer(indexer, value, self.name)\n",
            "/usr/local/lib/python3.7/dist-packages/pandas/core/indexing.py:1732: SettingWithCopyWarning: \n",
            "A value is trying to be set on a copy of a slice from a DataFrame\n",
            "\n",
            "See the caveats in the documentation: https://pandas.pydata.org/pandas-docs/stable/user_guide/indexing.html#returning-a-view-versus-a-copy\n",
            "  self._setitem_single_block(indexer, value, name)\n",
            "/usr/local/lib/python3.7/dist-packages/pandas/core/indexing.py:723: SettingWithCopyWarning: \n",
            "A value is trying to be set on a copy of a slice from a DataFrame\n",
            "\n",
            "See the caveats in the documentation: https://pandas.pydata.org/pandas-docs/stable/user_guide/indexing.html#returning-a-view-versus-a-copy\n",
            "  iloc._setitem_with_indexer(indexer, value, self.name)\n"
          ]
        }
      ]
    },
    {
      "cell_type": "code",
      "source": [
        "#Realizamos Imputación bajo el criterio del K-vecino más cercano\n",
        "kn_imputer = IterativeImputer(random_state=0, estimator=KNeighborsRegressor())\n"
      ],
      "metadata": {
        "id": "81RkZGsjtwTY"
      },
      "id": "81RkZGsjtwTY",
      "execution_count": 15,
      "outputs": []
    },
    {
      "cell_type": "code",
      "source": [
        "#Subconjunto verano\n",
        "df_imp_summer = df_summer_clouds.copy()\n",
        "df_imp_summer[cols] = kn_imputer.fit_transform(df_imp_summer[cols])\n",
        "\n",
        "#Subconjunto otoño\n",
        "df_imp_autumn = df_autumn_clouds.copy()\n",
        "df_imp_autumn[cols] = kn_imputer.fit_transform(df_imp_autumn[cols])\n",
        "\n",
        "#Subconjunto invierno\n",
        "df_imp_winter = df_winter_clouds.copy()\n",
        "df_imp_winter[cols] = kn_imputer.fit_transform(df_imp_winter[cols])\n",
        "\n",
        "#Subconjunto primavera\n",
        "df_imp_spring = df_spring_clouds.copy()\n",
        "df_imp_spring[cols] = kn_imputer.fit_transform(df_imp_spring[cols])\n"
      ],
      "metadata": {
        "colab": {
          "base_uri": "https://localhost:8080/"
        },
        "id": "cDwitiact-Ih",
        "outputId": "ed7dec05-29ec-4bf6-828c-a53ca4675c91"
      },
      "id": "cDwitiact-Ih",
      "execution_count": 16,
      "outputs": [
        {
          "output_type": "stream",
          "name": "stderr",
          "text": [
            "/usr/local/lib/python3.7/dist-packages/sklearn/impute/_iterative.py:701: ConvergenceWarning: [IterativeImputer] Early stopping criterion not reached.\n",
            "  ConvergenceWarning,\n",
            "/usr/local/lib/python3.7/dist-packages/sklearn/impute/_iterative.py:701: ConvergenceWarning: [IterativeImputer] Early stopping criterion not reached.\n",
            "  ConvergenceWarning,\n",
            "/usr/local/lib/python3.7/dist-packages/sklearn/impute/_iterative.py:701: ConvergenceWarning: [IterativeImputer] Early stopping criterion not reached.\n",
            "  ConvergenceWarning,\n",
            "/usr/local/lib/python3.7/dist-packages/sklearn/impute/_iterative.py:701: ConvergenceWarning: [IterativeImputer] Early stopping criterion not reached.\n",
            "  ConvergenceWarning,\n"
          ]
        }
      ]
    },
    {
      "cell_type": "markdown",
      "source": [
        "##Curación de datos para el dataframe \"Espacio No Verde\""
      ],
      "metadata": {
        "id": "e2HXjph0TFjs"
      },
      "id": "e2HXjph0TFjs"
    },
    {
      "cell_type": "code",
      "source": [
        "# Graficamos los datos faltantes del espacio no verde\n",
        "msno.bar(df_no_verde1,figsize=(12, 6), sort=\"ascending\",fontsize=12, color='blue');"
      ],
      "metadata": {
        "colab": {
          "base_uri": "https://localhost:8080/",
          "height": 488
        },
        "id": "rvIanYbBbvDc",
        "outputId": "94b7b787-a789-481a-f2cc-299a7a1d7984"
      },
      "id": "rvIanYbBbvDc",
      "execution_count": 17,
      "outputs": [
        {
          "output_type": "display_data",
          "data": {
            "text/plain": [
              "<Figure size 864x432 with 3 Axes>"
            ],
            "image/png": "[encoded data removed]"
          },
          "metadata": {
            "needs_background": "light"
          }
        }
      ]
    },
    {
      "cell_type": "code",
      "source": [
        "df_interest_E = df_no_verde1\n",
        "len(df_interest_E)"
      ],
      "metadata": {
        "colab": {
          "base_uri": "https://localhost:8080/"
        },
        "id": "uh6_ERsDTkb5",
        "outputId": "668e8ebb-ba11-44f9-b115-2689d5f5793f"
      },
      "id": "uh6_ERsDTkb5",
      "execution_count": 18,
      "outputs": [
        {
          "output_type": "execute_result",
          "data": {
            "text/plain": [
              "96600"
            ]
          },
          "metadata": {},
          "execution_count": 18
        }
      ]
    },
    {
      "cell_type": "code",
      "source": [
        "# Para la remoción de outliers por estación, definimos la estación a la que corresponde cada registro. \n",
        "# Convertimos la columna date a tipo datetime\n",
        "df_interest_E['date']= pd.to_datetime(df_interest_E['date'])\n",
        "\n",
        "# Extraemos el mes de cada registro.\n",
        "df_interest_E['month'] = df_interest_E['date'].dt.month\n",
        "\n",
        "# Aplicamos la función para determinar la estación a la que corresponde cada registro.\n",
        "seasons(df_interest_E, \"month\")\n",
        "\n",
        "# Generamos nuevas columnas de cada banda para cada estación\n",
        "df_interest_E.loc[df_interest_E['season'] == 'summer', 'B02_summer'] = df_interest_E['B02_median']  \n",
        "df_interest_E.loc[df_interest_E['season'] == 'autumn', 'B02_autumn'] = df_interest_E['B02_median']\n",
        "df_interest_E.loc[df_interest_E['season'] == 'winter', 'B02_winter'] = df_interest_E['B02_median']\n",
        "df_interest_E.loc[df_interest_E['season'] == 'spring', 'B02_spring'] = df_interest_E['B02_median']\n",
        "\n",
        "df_interest_E.loc[df_interest_E['season'] == 'summer', 'B06_summer'] = df_interest_E['B06_median']  \n",
        "df_interest_E.loc[df_interest_E['season'] == 'autumn', 'B06_autumn'] = df_interest_E['B06_median']\n",
        "df_interest_E.loc[df_interest_E['season'] == 'winter', 'B06_winter'] = df_interest_E['B06_median']\n",
        "df_interest_E.loc[df_interest_E['season'] == 'spring', 'B06_spring'] = df_interest_E['B06_median']\n",
        "\n",
        "df_interest_E.loc[df_interest_E['season'] == 'summer', 'B11_summer'] = df_interest_E['B11_median']  \n",
        "df_interest_E.loc[df_interest_E['season'] == 'autumn', 'B11_autumn'] = df_interest_E['B11_median']\n",
        "df_interest_E.loc[df_interest_E['season'] == 'winter', 'B11_winter'] = df_interest_E['B11_median']\n",
        "df_interest_E.loc[df_interest_E['season'] == 'spring', 'B11_spring'] = df_interest_E['B11_median']\n",
        "\n",
        "# Aplicamos la función de detección de outliers\n",
        "find_outliers(df_interest_E, Season_values)\n",
        "\n",
        "# Se quitan aquellos registros donde se observa que para las tres bandas bajo análisis (en cada estación), \n",
        "# los valores son outliers (valor = 1)\n",
        "df_interest_E2_summer = df_interest_E[~((df_interest_E['outl_B02_summer']==1) & (df_interest_E['outl_B06_summer']==1) & \n",
        "                        (df_interest_E['outl_B11_summer']==1))]\n",
        "print(len(df_interest_E2_summer))\n",
        "\n",
        "df_interest_E2_autumn = df_interest_E2_summer[~((df_interest_E2_summer['outl_B02_autumn']==1) & \n",
        "                        (df_interest_E2_summer['outl_B06_autumn']==1) & (df_interest_E2_summer['outl_B11_autumn']==1))]\n",
        "print(len(df_interest_E2_autumn))\n",
        "\n",
        "df_interest_E2_winter = df_interest_E2_autumn[~((df_interest_E2_autumn['outl_B02_winter']==1) & \n",
        "                        (df_interest_E2_autumn['outl_B06_winter']==1) & (df_interest_E2_autumn['outl_B11_winter']==1))]\n",
        "print(len(df_interest_E2_winter))\n",
        "\n",
        "df_interest_E2_spring = df_interest_E2_winter[~((df_interest_E2_winter['outl_B02_spring']==1) & \n",
        "                        (df_interest_E2_winter['outl_B06_spring']==1) & (df_interest_E2_winter['outl_B11_spring']==1))]\n",
        "print(len(df_interest_E2_spring))\n",
        "\n",
        "#Dividimos el conjunto de datos por estación\n",
        "df_interest_summer_NV = df_interest_E2_spring[df_interest_E2_spring['season']==\"summer\"]\n",
        "df_interest_autumn_NV = df_interest_E2_spring[df_interest_E2_spring['season']==\"autumn\"]\n",
        "df_interest_winter_NV = df_interest_E2_spring[df_interest_E2_spring['season']==\"winter\"]\n",
        "df_interest_spring_NV = df_interest_E2_spring[df_interest_E2_spring['season']==\"spring\"]\n"
      ],
      "metadata": {
        "colab": {
          "base_uri": "https://localhost:8080/"
        },
        "id": "44tGrGiDUaJK",
        "outputId": "f4378b1c-9b84-478a-9156-c941e33d07d2"
      },
      "id": "44tGrGiDUaJK",
      "execution_count": 19,
      "outputs": [
        {
          "output_type": "stream",
          "name": "stderr",
          "text": [
            "/usr/local/lib/python3.7/dist-packages/ipykernel_launcher.py:3: SettingWithCopyWarning: \n",
            "A value is trying to be set on a copy of a slice from a DataFrame.\n",
            "Try using .loc[row_indexer,col_indexer] = value instead\n",
            "\n",
            "See the caveats in the documentation: https://pandas.pydata.org/pandas-docs/stable/user_guide/indexing.html#returning-a-view-versus-a-copy\n",
            "  This is separate from the ipykernel package so we can avoid doing imports until\n",
            "/usr/local/lib/python3.7/dist-packages/ipykernel_launcher.py:6: SettingWithCopyWarning: \n",
            "A value is trying to be set on a copy of a slice from a DataFrame.\n",
            "Try using .loc[row_indexer,col_indexer] = value instead\n",
            "\n",
            "See the caveats in the documentation: https://pandas.pydata.org/pandas-docs/stable/user_guide/indexing.html#returning-a-view-versus-a-copy\n",
            "  \n",
            "/usr/local/lib/python3.7/dist-packages/ipykernel_launcher.py:22: SettingWithCopyWarning: \n",
            "A value is trying to be set on a copy of a slice from a DataFrame.\n",
            "Try using .loc[row_indexer,col_indexer] = value instead\n",
            "\n",
            "See the caveats in the documentation: https://pandas.pydata.org/pandas-docs/stable/user_guide/indexing.html#returning-a-view-versus-a-copy\n",
            "/usr/local/lib/python3.7/dist-packages/pandas/core/indexing.py:1681: SettingWithCopyWarning: \n",
            "A value is trying to be set on a copy of a slice from a DataFrame.\n",
            "Try using .loc[row_indexer,col_indexer] = value instead\n",
            "\n",
            "See the caveats in the documentation: https://pandas.pydata.org/pandas-docs/stable/user_guide/indexing.html#returning-a-view-versus-a-copy\n",
            "  self.obj[key] = empty_value\n",
            "/usr/local/lib/python3.7/dist-packages/pandas/core/indexing.py:1773: SettingWithCopyWarning: \n",
            "A value is trying to be set on a copy of a slice from a DataFrame.\n",
            "Try using .loc[row_indexer,col_indexer] = value instead\n",
            "\n",
            "See the caveats in the documentation: https://pandas.pydata.org/pandas-docs/stable/user_guide/indexing.html#returning-a-view-versus-a-copy\n",
            "  self._setitem_single_column(ilocs[0], value, pi)\n",
            "/usr/local/lib/python3.7/dist-packages/ipykernel_launcher.py:60: SettingWithCopyWarning: \n",
            "A value is trying to be set on a copy of a slice from a DataFrame.\n",
            "Try using .loc[row_indexer,col_indexer] = value instead\n",
            "\n",
            "See the caveats in the documentation: https://pandas.pydata.org/pandas-docs/stable/user_guide/indexing.html#returning-a-view-versus-a-copy\n"
          ]
        },
        {
          "output_type": "stream",
          "name": "stdout",
          "text": [
            "94992\n",
            "93272\n",
            "91959\n",
            "90663\n"
          ]
        }
      ]
    },
    {
      "cell_type": "code",
      "source": [
        "#Seleccionamos las columnas de interés para cada subconjunto\n",
        "df_summer_NV = df_interest_summer_NV[['B02_median', 'B06_median', 'B11_median','area_m2', 'ndvi_max'\n",
        "       , 'clouds_on_raster']]\n",
        "df_autumn_NV = df_interest_autumn_NV[['B02_median', 'B06_median', 'B11_median','area_m2', 'ndvi_max'\n",
        "       , 'clouds_on_raster']]  \n",
        "df_winter_NV = df_interest_winter_NV[['B02_median', 'B06_median', 'B11_median','area_m2', 'ndvi_max'\n",
        "       , 'clouds_on_raster']]\n",
        "df_spring_NV = df_interest_spring_NV[['B02_median', 'B06_median', 'B11_median','area_m2', 'ndvi_max'\n",
        "       , 'clouds_on_raster']]                            "
      ],
      "metadata": {
        "id": "yyhnlPcizlgK"
      },
      "id": "yyhnlPcizlgK",
      "execution_count": 20,
      "outputs": []
    },
    {
      "cell_type": "code",
      "source": [
        "# Filtramos por nubosidad < 30%\n",
        "\n",
        "df_summer_clouds_NV = df_summer_NV[df_summer_NV['clouds_on_raster']<30]\n",
        "df_autumn_clouds_NV = df_autumn_NV[df_autumn_NV['clouds_on_raster']<30]\n",
        "df_winter_clouds_NV = df_winter_NV[df_winter_NV['clouds_on_raster']<30]\n",
        "df_spring_clouds_NV = df_spring_NV[df_spring_NV['clouds_on_raster']<30]"
      ],
      "metadata": {
        "id": "7tLvXRDEjcou"
      },
      "id": "7tLvXRDEjcou",
      "execution_count": 21,
      "outputs": []
    },
    {
      "cell_type": "code",
      "source": [
        "# Graficamos registros faltantes para cada subconjunto estacional del Espacio No Verde\n",
        "plt.figure(figsize=(12,10))\n",
        "plt.suptitle('Registros faltantes para cada subconjunto estacional del Espacio No Verde',\n",
        "             x=0.5, y=1.05, fontsize=23)\n",
        "\n",
        "plt.subplot(2, 2, 1)\n",
        "msno.bar(df_summer_clouds_NV,figsize=(14, 6), sort=\"ascending\",fontsize=12, color='red')\n",
        "plt.title('Subconjunto Verano', pad=16)\n",
        "\n",
        "plt.subplot(2, 2, 2)\n",
        "msno.bar(df_winter_clouds_NV,figsize=(14, 6), sort=\"ascending\",fontsize=12, color='blue')\n",
        "plt.title('Subconjunto Invierno', pad=16)\n",
        "plt.tight_layout(h_pad=9, w_pad=3)\n",
        "\n",
        "plt.subplot(2, 2, 3)\n",
        "msno.bar(df_autumn_clouds_NV,figsize=(14, 6), sort=\"ascending\",fontsize=12, color='coral')\n",
        "plt.title('Subconjunto Otoño', pad=16)\n",
        "\n",
        "plt.subplot(2, 2, 4)\n",
        "msno.bar(df_spring_clouds_NV,figsize=(14, 6), sort=\"ascending\",fontsize=12, color='green')\n",
        "plt.title('Subconjunto Primavera', pad=16);"
      ],
      "metadata": {
        "colab": {
          "base_uri": "https://localhost:8080/",
          "height": 562
        },
        "id": "Z71zj5TFk5Aw",
        "outputId": "8d58379d-c04c-45f4-9581-49ae85ac50d7"
      },
      "id": "Z71zj5TFk5Aw",
      "execution_count": 22,
      "outputs": [
        {
          "output_type": "display_data",
          "data": {
            "text/plain": [
              "<Figure size 1008x432 with 12 Axes>"
            ],
            "image/png": "[encoded data removed]"
          },
          "metadata": {
            "needs_background": "light"
          }
        }
      ]
    },
    {
      "cell_type": "code",
      "source": [
        "#Normalización para cada subconjunto\n",
        "\n",
        "estandarizador.fit(df_summer_clouds_NV[cols])\n",
        "df_summer_clouds_NV.loc[:, cols] = estandarizador.transform(df_summer_clouds_NV[cols])\n",
        "\n",
        "estandarizador.fit(df_winter_clouds_NV[cols])\n",
        "df_winter_clouds_NV.loc[:, cols] = estandarizador.transform(df_winter_clouds_NV[cols])\n",
        "\n",
        "\n",
        "estandarizador.fit(df_autumn_clouds_NV[cols])\n",
        "df_autumn_clouds_NV.loc[:, cols] = estandarizador.transform(df_autumn_clouds_NV[cols])\n",
        "\n",
        "\n",
        "estandarizador.fit(df_winter_clouds_NV[cols])\n",
        "df_spring_clouds_NV.loc[:, cols] = estandarizador.transform(df_spring_clouds_NV[cols])\n"
      ],
      "metadata": {
        "colab": {
          "base_uri": "https://localhost:8080/"
        },
        "id": "1BCSvVcpOHo4",
        "outputId": "52df6aee-fa1a-4a58-b9e7-ab0334ca0ae7"
      },
      "id": "1BCSvVcpOHo4",
      "execution_count": 23,
      "outputs": [
        {
          "output_type": "stream",
          "name": "stderr",
          "text": [
            "/usr/local/lib/python3.7/dist-packages/pandas/core/indexing.py:1732: SettingWithCopyWarning: \n",
            "A value is trying to be set on a copy of a slice from a DataFrame\n",
            "\n",
            "See the caveats in the documentation: https://pandas.pydata.org/pandas-docs/stable/user_guide/indexing.html#returning-a-view-versus-a-copy\n",
            "  self._setitem_single_block(indexer, value, name)\n",
            "/usr/local/lib/python3.7/dist-packages/pandas/core/indexing.py:723: SettingWithCopyWarning: \n",
            "A value is trying to be set on a copy of a slice from a DataFrame\n",
            "\n",
            "See the caveats in the documentation: https://pandas.pydata.org/pandas-docs/stable/user_guide/indexing.html#returning-a-view-versus-a-copy\n",
            "  iloc._setitem_with_indexer(indexer, value, self.name)\n",
            "/usr/local/lib/python3.7/dist-packages/pandas/core/indexing.py:1732: SettingWithCopyWarning: \n",
            "A value is trying to be set on a copy of a slice from a DataFrame\n",
            "\n",
            "See the caveats in the documentation: https://pandas.pydata.org/pandas-docs/stable/user_guide/indexing.html#returning-a-view-versus-a-copy\n",
            "  self._setitem_single_block(indexer, value, name)\n",
            "/usr/local/lib/python3.7/dist-packages/pandas/core/indexing.py:723: SettingWithCopyWarning: \n",
            "A value is trying to be set on a copy of a slice from a DataFrame\n",
            "\n",
            "See the caveats in the documentation: https://pandas.pydata.org/pandas-docs/stable/user_guide/indexing.html#returning-a-view-versus-a-copy\n",
            "  iloc._setitem_with_indexer(indexer, value, self.name)\n",
            "/usr/local/lib/python3.7/dist-packages/pandas/core/indexing.py:1732: SettingWithCopyWarning: \n",
            "A value is trying to be set on a copy of a slice from a DataFrame\n",
            "\n",
            "See the caveats in the documentation: https://pandas.pydata.org/pandas-docs/stable/user_guide/indexing.html#returning-a-view-versus-a-copy\n",
            "  self._setitem_single_block(indexer, value, name)\n",
            "/usr/local/lib/python3.7/dist-packages/pandas/core/indexing.py:723: SettingWithCopyWarning: \n",
            "A value is trying to be set on a copy of a slice from a DataFrame\n",
            "\n",
            "See the caveats in the documentation: https://pandas.pydata.org/pandas-docs/stable/user_guide/indexing.html#returning-a-view-versus-a-copy\n",
            "  iloc._setitem_with_indexer(indexer, value, self.name)\n",
            "/usr/local/lib/python3.7/dist-packages/pandas/core/indexing.py:1732: SettingWithCopyWarning: \n",
            "A value is trying to be set on a copy of a slice from a DataFrame\n",
            "\n",
            "See the caveats in the documentation: https://pandas.pydata.org/pandas-docs/stable/user_guide/indexing.html#returning-a-view-versus-a-copy\n",
            "  self._setitem_single_block(indexer, value, name)\n",
            "/usr/local/lib/python3.7/dist-packages/pandas/core/indexing.py:723: SettingWithCopyWarning: \n",
            "A value is trying to be set on a copy of a slice from a DataFrame\n",
            "\n",
            "See the caveats in the documentation: https://pandas.pydata.org/pandas-docs/stable/user_guide/indexing.html#returning-a-view-versus-a-copy\n",
            "  iloc._setitem_with_indexer(indexer, value, self.name)\n"
          ]
        }
      ]
    },
    {
      "cell_type": "code",
      "source": [
        "#Imputación de los subconnjuntos\n",
        "#Subconjunto verano\n",
        "df_imp_summer_NV = df_summer_clouds_NV.copy()\n",
        "df_imp_summer_NV[cols] = kn_imputer.fit_transform(df_imp_summer_NV[cols])\n",
        "\n",
        "#Subconjunto otoño\n",
        "df_imp_autumn_NV = df_autumn_clouds_NV.copy()\n",
        "df_imp_autumn_NV[cols] = kn_imputer.fit_transform(df_imp_autumn_NV[cols])\n",
        "\n",
        "#Subconjunto invierno\n",
        "df_imp_winter_NV = df_winter_clouds_NV.copy()\n",
        "df_imp_winter_NV[cols] = kn_imputer.fit_transform(df_imp_winter_NV[cols])\n",
        "\n",
        "#Subconjunto primavera\n",
        "df_imp_spring_NV = df_spring_clouds.copy()\n",
        "df_imp_spring_NV[cols] = kn_imputer.fit_transform(df_imp_spring_NV[cols])"
      ],
      "metadata": {
        "colab": {
          "base_uri": "https://localhost:8080/"
        },
        "id": "R9fxZR6cnLYC",
        "outputId": "20cd5f94-b145-4b7e-fe28-67b404acda20"
      },
      "id": "R9fxZR6cnLYC",
      "execution_count": 24,
      "outputs": [
        {
          "output_type": "stream",
          "name": "stderr",
          "text": [
            "/usr/local/lib/python3.7/dist-packages/sklearn/impute/_iterative.py:701: ConvergenceWarning: [IterativeImputer] Early stopping criterion not reached.\n",
            "  ConvergenceWarning,\n",
            "/usr/local/lib/python3.7/dist-packages/sklearn/impute/_iterative.py:701: ConvergenceWarning: [IterativeImputer] Early stopping criterion not reached.\n",
            "  ConvergenceWarning,\n",
            "/usr/local/lib/python3.7/dist-packages/sklearn/impute/_iterative.py:701: ConvergenceWarning: [IterativeImputer] Early stopping criterion not reached.\n",
            "  ConvergenceWarning,\n",
            "/usr/local/lib/python3.7/dist-packages/sklearn/impute/_iterative.py:701: ConvergenceWarning: [IterativeImputer] Early stopping criterion not reached.\n",
            "  ConvergenceWarning,\n"
          ]
        }
      ]
    },
    {
      "cell_type": "markdown",
      "source": [
        "##Actualizamos los subconjuntos estacionales con la asignación de clase\n",
        "\n",
        "- Para el Espacio Verde asignamos la clase=1\n",
        "- Para el Espacio No Verde asignamos la clase=0\n",
        "\n"
      ],
      "metadata": {
        "id": "d_c97EPpqC7O"
      },
      "id": "d_c97EPpqC7O"
    },
    {
      "cell_type": "code",
      "source": [
        "df_imp_summer['clasif_']=1 # espacio verde\n",
        "df_imp_summer_NV['clasif_']=0 # espacio NO verde \n",
        "df_imp_autumn['clasif_']=1 \n",
        "df_imp_autumn_NV['clasif_']=0 \n",
        "df_imp_winter['clasif_']=1 \n",
        "df_imp_winter_NV['clasif_']=0 \n",
        "df_imp_spring['clasif_']=1 \n",
        "df_imp_spring_NV['clasif_']=0 "
      ],
      "metadata": {
        "id": "wVwUWoKIEq5L"
      },
      "id": "wVwUWoKIEq5L",
      "execution_count": 25,
      "outputs": []
    },
    {
      "cell_type": "code",
      "source": [
        "df_imp_summer"
      ],
      "metadata": {
        "colab": {
          "base_uri": "https://localhost:8080/",
          "height": 407
        },
        "id": "GeOausTCqfp3",
        "outputId": "f499e9a9-60fe-4668-ed5b-4997740928d2"
      },
      "id": "GeOausTCqfp3",
      "execution_count": 26,
      "outputs": [
        {
          "output_type": "execute_result",
          "data": {
            "text/plain": [
              "        B02_median  B06_median  B11_median      area_m2  ndvi_max  \\\n",
              "0         0.107294    0.434332    0.442812  4650.710032  0.662894   \n",
              "1         0.152353    0.630283    0.634399  1502.000513  0.661913   \n",
              "2         0.180459    0.617004    0.611927  2004.192528  0.652560   \n",
              "3         0.183359    0.738461    0.670556  6940.507640  0.708477   \n",
              "4         0.222842    0.743644    0.736099  4587.356048  0.649143   \n",
              "...            ...         ...         ...          ...       ...   \n",
              "206656    0.182690    0.593684    0.528666  3658.725375  0.674109   \n",
              "206657    0.121124    0.485182    0.447133  3824.467794  0.663206   \n",
              "206658    0.215258    0.661215    0.644195  7184.535857  0.615957   \n",
              "206659    0.105064    0.581862    0.529242  1147.997645  0.703242   \n",
              "206660    0.181798    0.554494    0.592048  1611.043847  0.605767   \n",
              "\n",
              "        clouds_on_raster  clasif_  \n",
              "0                    0.0        1  \n",
              "1                    0.0        1  \n",
              "2                    0.0        1  \n",
              "3                    0.0        1  \n",
              "4                    0.0        1  \n",
              "...                  ...      ...  \n",
              "206656               0.0        1  \n",
              "206657               0.0        1  \n",
              "206658               0.0        1  \n",
              "206659               0.0        1  \n",
              "206660               0.0        1  \n",
              "\n",
              "[43289 rows x 7 columns]"
            ],
            "text/html": [
              "\n",
              "  <div id=\"df-21b16013-3360-44ec-8783-e80311564ab9\">\n",
              "    <div class=\"colab-df-container\">\n",
              "      <div>\n",
              "<style scoped>\n",
              "    .dataframe tbody tr th:only-of-type {\n",
              "        vertical-align: middle;\n",
              "    }\n",
              "\n",
              "    .dataframe tbody tr th {\n",
              "        vertical-align: top;\n",
              "    }\n",
              "\n",
              "    .dataframe thead th {\n",
              "        text-align: right;\n",
              "    }\n",
              "</style>\n",
              "<table border=\"1\" class=\"dataframe\">\n",
              "  <thead>\n",
              "    <tr style=\"text-align: right;\">\n",
              "      <th></th>\n",
              "      <th>B02_median</th>\n",
              "      <th>B06_median</th>\n",
              "      <th>B11_median</th>\n",
              "      <th>area_m2</th>\n",
              "      <th>ndvi_max</th>\n",
              "      <th>clouds_on_raster</th>\n",
              "      <th>clasif_</th>\n",
              "    </tr>\n",
              "  </thead>\n",
              "  <tbody>\n",
              "    <tr>\n",
              "      <th>0</th>\n",
              "      <td>0.107294</td>\n",
              "      <td>0.434332</td>\n",
              "      <td>0.442812</td>\n",
              "      <td>4650.710032</td>\n",
              "      <td>0.662894</td>\n",
              "      <td>0.0</td>\n",
              "      <td>1</td>\n",
              "    </tr>\n",
              "    <tr>\n",
              "      <th>1</th>\n",
              "      <td>0.152353</td>\n",
              "      <td>0.630283</td>\n",
              "      <td>0.634399</td>\n",
              "      <td>1502.000513</td>\n",
              "      <td>0.661913</td>\n",
              "      <td>0.0</td>\n",
              "      <td>1</td>\n",
              "    </tr>\n",
              "    <tr>\n",
              "      <th>2</th>\n",
              "      <td>0.180459</td>\n",
              "      <td>0.617004</td>\n",
              "      <td>0.611927</td>\n",
              "      <td>2004.192528</td>\n",
              "      <td>0.652560</td>\n",
              "      <td>0.0</td>\n",
              "      <td>1</td>\n",
              "    </tr>\n",
              "    <tr>\n",
              "      <th>3</th>\n",
              "      <td>0.183359</td>\n",
              "      <td>0.738461</td>\n",
              "      <td>0.670556</td>\n",
              "      <td>6940.507640</td>\n",
              "      <td>0.708477</td>\n",
              "      <td>0.0</td>\n",
              "      <td>1</td>\n",
              "    </tr>\n",
              "    <tr>\n",
              "      <th>4</th>\n",
              "      <td>0.222842</td>\n",
              "      <td>0.743644</td>\n",
              "      <td>0.736099</td>\n",
              "      <td>4587.356048</td>\n",
              "      <td>0.649143</td>\n",
              "      <td>0.0</td>\n",
              "      <td>1</td>\n",
              "    </tr>\n",
              "    <tr>\n",
              "      <th>...</th>\n",
              "      <td>...</td>\n",
              "      <td>...</td>\n",
              "      <td>...</td>\n",
              "      <td>...</td>\n",
              "      <td>...</td>\n",
              "      <td>...</td>\n",
              "      <td>...</td>\n",
              "    </tr>\n",
              "    <tr>\n",
              "      <th>206656</th>\n",
              "      <td>0.182690</td>\n",
              "      <td>0.593684</td>\n",
              "      <td>0.528666</td>\n",
              "      <td>3658.725375</td>\n",
              "      <td>0.674109</td>\n",
              "      <td>0.0</td>\n",
              "      <td>1</td>\n",
              "    </tr>\n",
              "    <tr>\n",
              "      <th>206657</th>\n",
              "      <td>0.121124</td>\n",
              "      <td>0.485182</td>\n",
              "      <td>0.447133</td>\n",
              "      <td>3824.467794</td>\n",
              "      <td>0.663206</td>\n",
              "      <td>0.0</td>\n",
              "      <td>1</td>\n",
              "    </tr>\n",
              "    <tr>\n",
              "      <th>206658</th>\n",
              "      <td>0.215258</td>\n",
              "      <td>0.661215</td>\n",
              "      <td>0.644195</td>\n",
              "      <td>7184.535857</td>\n",
              "      <td>0.615957</td>\n",
              "      <td>0.0</td>\n",
              "      <td>1</td>\n",
              "    </tr>\n",
              "    <tr>\n",
              "      <th>206659</th>\n",
              "      <td>0.105064</td>\n",
              "      <td>0.581862</td>\n",
              "      <td>0.529242</td>\n",
              "      <td>1147.997645</td>\n",
              "      <td>0.703242</td>\n",
              "      <td>0.0</td>\n",
              "      <td>1</td>\n",
              "    </tr>\n",
              "    <tr>\n",
              "      <th>206660</th>\n",
              "      <td>0.181798</td>\n",
              "      <td>0.554494</td>\n",
              "      <td>0.592048</td>\n",
              "      <td>1611.043847</td>\n",
              "      <td>0.605767</td>\n",
              "      <td>0.0</td>\n",
              "      <td>1</td>\n",
              "    </tr>\n",
              "  </tbody>\n",
              "</table>\n",
              "<p>43289 rows × 7 columns</p>\n",
              "</div>\n",
              "      <button class=\"colab-df-convert\" onclick=\"convertToInteractive('df-21b16013-3360-44ec-8783-e80311564ab9')\"\n",
              "              title=\"Convert this dataframe to an interactive table.\"\n",
              "              style=\"display:none;\">\n",
              "        \n",
              "  <svg xmlns=\"http://www.w3.org/2000/svg\" height=\"24px\"viewBox=\"0 0 24 24\"\n",
              "       width=\"24px\">\n",
              "    <path d=\"M0 0h24v24H0V0z\" fill=\"none\"/>\n",
              "    <path d=\"M18.56 5.44l.94 2.06.94-2.06 2.06-.94-2.06-.94-.94-2.06-.94 2.06-2.06.94zm-11 1L8.5 8.5l.94-2.06 2.06-.94-2.06-.94L8.5 2.5l-.94 2.06-2.06.94zm10 10l.94 2.06.94-2.06 2.06-.94-2.06-.94-.94-2.06-.94 2.06-2.06.94z\"/><path d=\"M17.41 7.96l-1.37-1.37c-.4-.4-.92-.59-1.43-.59-.52 0-1.04.2-1.43.59L10.3 9.45l-7.72 7.72c-.78.78-.78 2.05 0 2.83L4 21.41c.39.39.9.59 1.41.59.51 0 1.02-.2 1.41-.59l7.78-7.78 2.81-2.81c.8-.78.8-2.07 0-2.86zM5.41 20L4 18.59l7.72-7.72 1.47 1.35L5.41 20z\"/>\n",
              "  </svg>\n",
              "      </button>\n",
              "      \n",
              "  <style>\n",
              "    .colab-df-container {\n",
              "      display:flex;\n",
              "      flex-wrap:wrap;\n",
              "      gap: 12px;\n",
              "    }\n",
              "\n",
              "    .colab-df-convert {\n",
              "      background-color: #E8F0FE;\n",
              "      border: none;\n",
              "      border-radius: 50%;\n",
              "      cursor: pointer;\n",
              "      display: none;\n",
              "      fill: #1967D2;\n",
              "      height: 32px;\n",
              "      padding: 0 0 0 0;\n",
              "      width: 32px;\n",
              "    }\n",
              "\n",
              "    .colab-df-convert:hover {\n",
              "      background-color: #E2EBFA;\n",
              "      box-shadow: 0px 1px 2px rgba(60, 64, 67, 0.3), 0px 1px 3px 1px rgba(60, 64, 67, 0.15);\n",
              "      fill: #174EA6;\n",
              "    }\n",
              "\n",
              "    [theme=dark] .colab-df-convert {\n",
              "      background-color: #3B4455;\n",
              "      fill: #D2E3FC;\n",
              "    }\n",
              "\n",
              "    [theme=dark] .colab-df-convert:hover {\n",
              "      background-color: #434B5C;\n",
              "      box-shadow: 0px 1px 3px 1px rgba(0, 0, 0, 0.15);\n",
              "      filter: drop-shadow(0px 1px 2px rgba(0, 0, 0, 0.3));\n",
              "      fill: #FFFFFF;\n",
              "    }\n",
              "  </style>\n",
              "\n",
              "      <script>\n",
              "        const buttonEl =\n",
              "          document.querySelector('#df-21b16013-3360-44ec-8783-e80311564ab9 button.colab-df-convert');\n",
              "        buttonEl.style.display =\n",
              "          google.colab.kernel.accessAllowed ? 'block' : 'none';\n",
              "\n",
              "        async function convertToInteractive(key) {\n",
              "          const element = document.querySelector('#df-21b16013-3360-44ec-8783-e80311564ab9');\n",
              "          const dataTable =\n",
              "            await google.colab.kernel.invokeFunction('convertToInteractive',\n",
              "                                                     [key], {});\n",
              "          if (!dataTable) return;\n",
              "\n",
              "          const docLinkHtml = 'Like what you see? Visit the ' +\n",
              "            '<a target=\"_blank\" href=https://colab.research.google.com/notebooks/data_table.ipynb>data table notebook</a>'\n",
              "            + ' to learn more about interactive tables.';\n",
              "          element.innerHTML = '';\n",
              "          dataTable['output_type'] = 'display_data';\n",
              "          await google.colab.output.renderOutput(dataTable, element);\n",
              "          const docLink = document.createElement('div');\n",
              "          docLink.innerHTML = docLinkHtml;\n",
              "          element.appendChild(docLink);\n",
              "        }\n",
              "      </script>\n",
              "    </div>\n",
              "  </div>\n",
              "  "
            ]
          },
          "metadata": {},
          "execution_count": 26
        }
      ]
    },
    {
      "cell_type": "markdown",
      "source": [
        "###Unimos subconjuntos de espacio verde y no verde para cada estación"
      ],
      "metadata": {
        "id": "otp9YRNHeTk8"
      },
      "id": "otp9YRNHeTk8"
    },
    {
      "cell_type": "code",
      "source": [
        "df_1sum =pd.concat([df_imp_summer,df_imp_summer_NV],axis=0)\n",
        "df_2aut =pd.concat([df_imp_autumn,df_imp_autumn_NV],axis=0)\n",
        "df_3win =pd.concat([df_imp_winter,df_imp_winter_NV],axis=0)\n",
        "df_4spr =pd.concat([df_imp_spring,df_imp_spring_NV],axis=0)"
      ],
      "metadata": {
        "id": "_g1JVT7-B3IX"
      },
      "id": "_g1JVT7-B3IX",
      "execution_count": 27,
      "outputs": []
    },
    {
      "cell_type": "markdown",
      "source": [
        "Eliminamos la columna correspondiente a nubes, ya que no tiene relevancia para el entrenamiento de modelos. También eliminamos la variable area_m2, ya que luego de probar varios modelos concluimos que con dicha variable se producía sobreajuste."
      ],
      "metadata": {
        "id": "7pxJXvjEwmsb"
      },
      "id": "7pxJXvjEwmsb"
    },
    {
      "cell_type": "code",
      "source": [
        "df_1sum = df_1sum.drop(columns=['clouds_on_raster','area_m2'])\n",
        "df_2aut = df_2aut.drop(columns=['clouds_on_raster','area_m2'])\n",
        "df_3win = df_3win.drop(columns=['clouds_on_raster','area_m2'])\n",
        "df_4spr = df_4spr.drop(columns=['clouds_on_raster','area_m2'])"
      ],
      "metadata": {
        "id": "X3B-v4ljLWBW"
      },
      "id": "X3B-v4ljLWBW",
      "execution_count": 28,
      "outputs": []
    },
    {
      "cell_type": "code",
      "source": [
        "df_1sum[:3]"
      ],
      "metadata": {
        "colab": {
          "base_uri": "https://localhost:8080/",
          "height": 138
        },
        "id": "_N_0EmOGx31y",
        "outputId": "d18bff95-c772-4131-a6eb-880c04abd07a"
      },
      "id": "_N_0EmOGx31y",
      "execution_count": 29,
      "outputs": [
        {
          "output_type": "execute_result",
          "data": {
            "text/plain": [
              "   B02_median  B06_median  B11_median  ndvi_max  clasif_\n",
              "0    0.107294    0.434332    0.442812  0.662894        1\n",
              "1    0.152353    0.630283    0.634399  0.661913        1\n",
              "2    0.180459    0.617004    0.611927  0.652560        1"
            ],
            "text/html": [
              "\n",
              "  <div id=\"df-24823e79-6a60-4c14-9f90-392c8596b74e\">\n",
              "    <div class=\"colab-df-container\">\n",
              "      <div>\n",
              "<style scoped>\n",
              "    .dataframe tbody tr th:only-of-type {\n",
              "        vertical-align: middle;\n",
              "    }\n",
              "\n",
              "    .dataframe tbody tr th {\n",
              "        vertical-align: top;\n",
              "    }\n",
              "\n",
              "    .dataframe thead th {\n",
              "        text-align: right;\n",
              "    }\n",
              "</style>\n",
              "<table border=\"1\" class=\"dataframe\">\n",
              "  <thead>\n",
              "    <tr style=\"text-align: right;\">\n",
              "      <th></th>\n",
              "      <th>B02_median</th>\n",
              "      <th>B06_median</th>\n",
              "      <th>B11_median</th>\n",
              "      <th>ndvi_max</th>\n",
              "      <th>clasif_</th>\n",
              "    </tr>\n",
              "  </thead>\n",
              "  <tbody>\n",
              "    <tr>\n",
              "      <th>0</th>\n",
              "      <td>0.107294</td>\n",
              "      <td>0.434332</td>\n",
              "      <td>0.442812</td>\n",
              "      <td>0.662894</td>\n",
              "      <td>1</td>\n",
              "    </tr>\n",
              "    <tr>\n",
              "      <th>1</th>\n",
              "      <td>0.152353</td>\n",
              "      <td>0.630283</td>\n",
              "      <td>0.634399</td>\n",
              "      <td>0.661913</td>\n",
              "      <td>1</td>\n",
              "    </tr>\n",
              "    <tr>\n",
              "      <th>2</th>\n",
              "      <td>0.180459</td>\n",
              "      <td>0.617004</td>\n",
              "      <td>0.611927</td>\n",
              "      <td>0.652560</td>\n",
              "      <td>1</td>\n",
              "    </tr>\n",
              "  </tbody>\n",
              "</table>\n",
              "</div>\n",
              "      <button class=\"colab-df-convert\" onclick=\"convertToInteractive('df-24823e79-6a60-4c14-9f90-392c8596b74e')\"\n",
              "              title=\"Convert this dataframe to an interactive table.\"\n",
              "              style=\"display:none;\">\n",
              "        \n",
              "  <svg xmlns=\"http://www.w3.org/2000/svg\" height=\"24px\"viewBox=\"0 0 24 24\"\n",
              "       width=\"24px\">\n",
              "    <path d=\"M0 0h24v24H0V0z\" fill=\"none\"/>\n",
              "    <path d=\"M18.56 5.44l.94 2.06.94-2.06 2.06-.94-2.06-.94-.94-2.06-.94 2.06-2.06.94zm-11 1L8.5 8.5l.94-2.06 2.06-.94-2.06-.94L8.5 2.5l-.94 2.06-2.06.94zm10 10l.94 2.06.94-2.06 2.06-.94-2.06-.94-.94-2.06-.94 2.06-2.06.94z\"/><path d=\"M17.41 7.96l-1.37-1.37c-.4-.4-.92-.59-1.43-.59-.52 0-1.04.2-1.43.59L10.3 9.45l-7.72 7.72c-.78.78-.78 2.05 0 2.83L4 21.41c.39.39.9.59 1.41.59.51 0 1.02-.2 1.41-.59l7.78-7.78 2.81-2.81c.8-.78.8-2.07 0-2.86zM5.41 20L4 18.59l7.72-7.72 1.47 1.35L5.41 20z\"/>\n",
              "  </svg>\n",
              "      </button>\n",
              "      \n",
              "  <style>\n",
              "    .colab-df-container {\n",
              "      display:flex;\n",
              "      flex-wrap:wrap;\n",
              "      gap: 12px;\n",
              "    }\n",
              "\n",
              "    .colab-df-convert {\n",
              "      background-color: #E8F0FE;\n",
              "      border: none;\n",
              "      border-radius: 50%;\n",
              "      cursor: pointer;\n",
              "      display: none;\n",
              "      fill: #1967D2;\n",
              "      height: 32px;\n",
              "      padding: 0 0 0 0;\n",
              "      width: 32px;\n",
              "    }\n",
              "\n",
              "    .colab-df-convert:hover {\n",
              "      background-color: #E2EBFA;\n",
              "      box-shadow: 0px 1px 2px rgba(60, 64, 67, 0.3), 0px 1px 3px 1px rgba(60, 64, 67, 0.15);\n",
              "      fill: #174EA6;\n",
              "    }\n",
              "\n",
              "    [theme=dark] .colab-df-convert {\n",
              "      background-color: #3B4455;\n",
              "      fill: #D2E3FC;\n",
              "    }\n",
              "\n",
              "    [theme=dark] .colab-df-convert:hover {\n",
              "      background-color: #434B5C;\n",
              "      box-shadow: 0px 1px 3px 1px rgba(0, 0, 0, 0.15);\n",
              "      filter: drop-shadow(0px 1px 2px rgba(0, 0, 0, 0.3));\n",
              "      fill: #FFFFFF;\n",
              "    }\n",
              "  </style>\n",
              "\n",
              "      <script>\n",
              "        const buttonEl =\n",
              "          document.querySelector('#df-24823e79-6a60-4c14-9f90-392c8596b74e button.colab-df-convert');\n",
              "        buttonEl.style.display =\n",
              "          google.colab.kernel.accessAllowed ? 'block' : 'none';\n",
              "\n",
              "        async function convertToInteractive(key) {\n",
              "          const element = document.querySelector('#df-24823e79-6a60-4c14-9f90-392c8596b74e');\n",
              "          const dataTable =\n",
              "            await google.colab.kernel.invokeFunction('convertToInteractive',\n",
              "                                                     [key], {});\n",
              "          if (!dataTable) return;\n",
              "\n",
              "          const docLinkHtml = 'Like what you see? Visit the ' +\n",
              "            '<a target=\"_blank\" href=https://colab.research.google.com/notebooks/data_table.ipynb>data table notebook</a>'\n",
              "            + ' to learn more about interactive tables.';\n",
              "          element.innerHTML = '';\n",
              "          dataTable['output_type'] = 'display_data';\n",
              "          await google.colab.output.renderOutput(dataTable, element);\n",
              "          const docLink = document.createElement('div');\n",
              "          docLink.innerHTML = docLinkHtml;\n",
              "          element.appendChild(docLink);\n",
              "        }\n",
              "      </script>\n",
              "    </div>\n",
              "  </div>\n",
              "  "
            ]
          },
          "metadata": {},
          "execution_count": 29
        }
      ]
    },
    {
      "cell_type": "markdown",
      "source": [
        "###Subdivisión de cada subconjunto entre variables predictoras (X) y target(y)"
      ],
      "metadata": {
        "id": "Oz-LrSRLykxp"
      },
      "id": "Oz-LrSRLykxp"
    },
    {
      "cell_type": "code",
      "source": [
        "#Subconjunto Verano\n",
        "y1 = df_1sum.clasif_\n",
        "X1 = df_1sum.drop('clasif_',axis=1)\n",
        "\n",
        "#Subconjunto Otoño\n",
        "y2 = df_2aut.clasif_\n",
        "X2 = df_2aut.drop('clasif_',axis=1)\n",
        "\n",
        "#Subconjunto Invierno\n",
        "y3 = df_3win.clasif_\n",
        "X3 = df_3win.drop('clasif_',axis=1)\n",
        "\n",
        "#Subconjunto Primavera\n",
        "y4 = df_4spr.clasif_\n",
        "X4 = df_4spr.drop('clasif_',axis=1)"
      ],
      "metadata": {
        "id": "wHCVSUIeHE5t"
      },
      "id": "wHCVSUIeHE5t",
      "execution_count": 30,
      "outputs": []
    },
    {
      "cell_type": "code",
      "source": [
        "# Dividimos cada subconjunto\n",
        "x_train1, x_test1, y_train1, y_test1 = train_test_split(X1, y1, train_size=0.8, random_state = 8)\n",
        "\n",
        "x_train2, x_test2, y_train2, y_test2 = train_test_split(X2, y2, train_size=0.8, random_state = 8)\n",
        "\n",
        "x_train3, x_test3, y_train3, y_test3 = train_test_split(X3, y3, train_size=0.8, random_state = 8)\n",
        "\n",
        "x_train4, x_test4, y_train4, y_test4 = train_test_split(X4, y4, train_size=0.8, random_state = 8)"
      ],
      "metadata": {
        "id": "ImplwxsAGQEz"
      },
      "id": "ImplwxsAGQEz",
      "execution_count": 31,
      "outputs": []
    },
    {
      "cell_type": "code",
      "source": [
        "x_train1"
      ],
      "metadata": {
        "colab": {
          "base_uri": "https://localhost:8080/",
          "height": 407
        },
        "id": "XbPET-Dhcco7",
        "outputId": "970c8d3c-7e07-4d91-9e93-46aba1bd9703"
      },
      "id": "XbPET-Dhcco7",
      "execution_count": 32,
      "outputs": [
        {
          "output_type": "execute_result",
          "data": {
            "text/plain": [
              "        B02_median  B06_median  B11_median  ndvi_max\n",
              "2798      0.106625    0.577166    0.519879  0.681028\n",
              "31415     0.244102    0.465493    0.592212  0.695346\n",
              "3113      0.109971    0.439190    0.386920  0.681362\n",
              "66565     0.091457    0.668502    0.496831  0.791362\n",
              "22168     0.083649    0.535385    0.474215  0.763921\n",
              "...            ...         ...         ...       ...\n",
              "195315    0.194290    0.442267    0.506914  0.570423\n",
              "90895     0.477314    0.628901    0.856968  0.611686\n",
              "106031    0.190944    0.458623    0.561279  0.629170\n",
              "114763    0.202320    0.509312    0.489484  0.625822\n",
              "22024     0.180459    0.546073    0.596082  0.613457\n",
              "\n",
              "[50453 rows x 4 columns]"
            ],
            "text/html": [
              "\n",
              "  <div id=\"df-4022f2ad-9790-4336-a82b-d0c2a575fa30\">\n",
              "    <div class=\"colab-df-container\">\n",
              "      <div>\n",
              "<style scoped>\n",
              "    .dataframe tbody tr th:only-of-type {\n",
              "        vertical-align: middle;\n",
              "    }\n",
              "\n",
              "    .dataframe tbody tr th {\n",
              "        vertical-align: top;\n",
              "    }\n",
              "\n",
              "    .dataframe thead th {\n",
              "        text-align: right;\n",
              "    }\n",
              "</style>\n",
              "<table border=\"1\" class=\"dataframe\">\n",
              "  <thead>\n",
              "    <tr style=\"text-align: right;\">\n",
              "      <th></th>\n",
              "      <th>B02_median</th>\n",
              "      <th>B06_median</th>\n",
              "      <th>B11_median</th>\n",
              "      <th>ndvi_max</th>\n",
              "    </tr>\n",
              "  </thead>\n",
              "  <tbody>\n",
              "    <tr>\n",
              "      <th>2798</th>\n",
              "      <td>0.106625</td>\n",
              "      <td>0.577166</td>\n",
              "      <td>0.519879</td>\n",
              "      <td>0.681028</td>\n",
              "    </tr>\n",
              "    <tr>\n",
              "      <th>31415</th>\n",
              "      <td>0.244102</td>\n",
              "      <td>0.465493</td>\n",
              "      <td>0.592212</td>\n",
              "      <td>0.695346</td>\n",
              "    </tr>\n",
              "    <tr>\n",
              "      <th>3113</th>\n",
              "      <td>0.109971</td>\n",
              "      <td>0.439190</td>\n",
              "      <td>0.386920</td>\n",
              "      <td>0.681362</td>\n",
              "    </tr>\n",
              "    <tr>\n",
              "      <th>66565</th>\n",
              "      <td>0.091457</td>\n",
              "      <td>0.668502</td>\n",
              "      <td>0.496831</td>\n",
              "      <td>0.791362</td>\n",
              "    </tr>\n",
              "    <tr>\n",
              "      <th>22168</th>\n",
              "      <td>0.083649</td>\n",
              "      <td>0.535385</td>\n",
              "      <td>0.474215</td>\n",
              "      <td>0.763921</td>\n",
              "    </tr>\n",
              "    <tr>\n",
              "      <th>...</th>\n",
              "      <td>...</td>\n",
              "      <td>...</td>\n",
              "      <td>...</td>\n",
              "      <td>...</td>\n",
              "    </tr>\n",
              "    <tr>\n",
              "      <th>195315</th>\n",
              "      <td>0.194290</td>\n",
              "      <td>0.442267</td>\n",
              "      <td>0.506914</td>\n",
              "      <td>0.570423</td>\n",
              "    </tr>\n",
              "    <tr>\n",
              "      <th>90895</th>\n",
              "      <td>0.477314</td>\n",
              "      <td>0.628901</td>\n",
              "      <td>0.856968</td>\n",
              "      <td>0.611686</td>\n",
              "    </tr>\n",
              "    <tr>\n",
              "      <th>106031</th>\n",
              "      <td>0.190944</td>\n",
              "      <td>0.458623</td>\n",
              "      <td>0.561279</td>\n",
              "      <td>0.629170</td>\n",
              "    </tr>\n",
              "    <tr>\n",
              "      <th>114763</th>\n",
              "      <td>0.202320</td>\n",
              "      <td>0.509312</td>\n",
              "      <td>0.489484</td>\n",
              "      <td>0.625822</td>\n",
              "    </tr>\n",
              "    <tr>\n",
              "      <th>22024</th>\n",
              "      <td>0.180459</td>\n",
              "      <td>0.546073</td>\n",
              "      <td>0.596082</td>\n",
              "      <td>0.613457</td>\n",
              "    </tr>\n",
              "  </tbody>\n",
              "</table>\n",
              "<p>50453 rows × 4 columns</p>\n",
              "</div>\n",
              "      <button class=\"colab-df-convert\" onclick=\"convertToInteractive('df-4022f2ad-9790-4336-a82b-d0c2a575fa30')\"\n",
              "              title=\"Convert this dataframe to an interactive table.\"\n",
              "              style=\"display:none;\">\n",
              "        \n",
              "  <svg xmlns=\"http://www.w3.org/2000/svg\" height=\"24px\"viewBox=\"0 0 24 24\"\n",
              "       width=\"24px\">\n",
              "    <path d=\"M0 0h24v24H0V0z\" fill=\"none\"/>\n",
              "    <path d=\"M18.56 5.44l.94 2.06.94-2.06 2.06-.94-2.06-.94-.94-2.06-.94 2.06-2.06.94zm-11 1L8.5 8.5l.94-2.06 2.06-.94-2.06-.94L8.5 2.5l-.94 2.06-2.06.94zm10 10l.94 2.06.94-2.06 2.06-.94-2.06-.94-.94-2.06-.94 2.06-2.06.94z\"/><path d=\"M17.41 7.96l-1.37-1.37c-.4-.4-.92-.59-1.43-.59-.52 0-1.04.2-1.43.59L10.3 9.45l-7.72 7.72c-.78.78-.78 2.05 0 2.83L4 21.41c.39.39.9.59 1.41.59.51 0 1.02-.2 1.41-.59l7.78-7.78 2.81-2.81c.8-.78.8-2.07 0-2.86zM5.41 20L4 18.59l7.72-7.72 1.47 1.35L5.41 20z\"/>\n",
              "  </svg>\n",
              "      </button>\n",
              "      \n",
              "  <style>\n",
              "    .colab-df-container {\n",
              "      display:flex;\n",
              "      flex-wrap:wrap;\n",
              "      gap: 12px;\n",
              "    }\n",
              "\n",
              "    .colab-df-convert {\n",
              "      background-color: #E8F0FE;\n",
              "      border: none;\n",
              "      border-radius: 50%;\n",
              "      cursor: pointer;\n",
              "      display: none;\n",
              "      fill: #1967D2;\n",
              "      height: 32px;\n",
              "      padding: 0 0 0 0;\n",
              "      width: 32px;\n",
              "    }\n",
              "\n",
              "    .colab-df-convert:hover {\n",
              "      background-color: #E2EBFA;\n",
              "      box-shadow: 0px 1px 2px rgba(60, 64, 67, 0.3), 0px 1px 3px 1px rgba(60, 64, 67, 0.15);\n",
              "      fill: #174EA6;\n",
              "    }\n",
              "\n",
              "    [theme=dark] .colab-df-convert {\n",
              "      background-color: #3B4455;\n",
              "      fill: #D2E3FC;\n",
              "    }\n",
              "\n",
              "    [theme=dark] .colab-df-convert:hover {\n",
              "      background-color: #434B5C;\n",
              "      box-shadow: 0px 1px 3px 1px rgba(0, 0, 0, 0.15);\n",
              "      filter: drop-shadow(0px 1px 2px rgba(0, 0, 0, 0.3));\n",
              "      fill: #FFFFFF;\n",
              "    }\n",
              "  </style>\n",
              "\n",
              "      <script>\n",
              "        const buttonEl =\n",
              "          document.querySelector('#df-4022f2ad-9790-4336-a82b-d0c2a575fa30 button.colab-df-convert');\n",
              "        buttonEl.style.display =\n",
              "          google.colab.kernel.accessAllowed ? 'block' : 'none';\n",
              "\n",
              "        async function convertToInteractive(key) {\n",
              "          const element = document.querySelector('#df-4022f2ad-9790-4336-a82b-d0c2a575fa30');\n",
              "          const dataTable =\n",
              "            await google.colab.kernel.invokeFunction('convertToInteractive',\n",
              "                                                     [key], {});\n",
              "          if (!dataTable) return;\n",
              "\n",
              "          const docLinkHtml = 'Like what you see? Visit the ' +\n",
              "            '<a target=\"_blank\" href=https://colab.research.google.com/notebooks/data_table.ipynb>data table notebook</a>'\n",
              "            + ' to learn more about interactive tables.';\n",
              "          element.innerHTML = '';\n",
              "          dataTable['output_type'] = 'display_data';\n",
              "          await google.colab.output.renderOutput(dataTable, element);\n",
              "          const docLink = document.createElement('div');\n",
              "          docLink.innerHTML = docLinkHtml;\n",
              "          element.appendChild(docLink);\n",
              "        }\n",
              "      </script>\n",
              "    </div>\n",
              "  </div>\n",
              "  "
            ]
          },
          "metadata": {},
          "execution_count": 32
        }
      ]
    },
    {
      "cell_type": "markdown",
      "source": [
        "###Planteo de modelos"
      ],
      "metadata": {
        "id": "O-hbdCtSJ2sK"
      },
      "id": "O-hbdCtSJ2sK"
    },
    {
      "cell_type": "code",
      "source": [
        "import itertools\n",
        "import matplotlib.pyplot as plt\n",
        "from sklearn.metrics import confusion_matrix\n",
        "from sklearn.utils.multiclass import unique_labels\n",
        "\n",
        "def plot_confusion_matrix(y_verd, y_pred, classes,\n",
        "                          normalize=False,\n",
        "                          title=None,\n",
        "                          cmap=plt.cm.Blues,\n",
        "                          ax=None):\n",
        "    \"\"\"\n",
        "    This function prints and plots the confusion matrix.\n",
        "    Normalization can be applied by setting `normalize=True`.\n",
        "    \"\"\"\n",
        "    cm = confusion_matrix(y_verd, y_pred)\n",
        "    classes = classes[unique_labels(y_verd, y_pred)]\n",
        "    if normalize:\n",
        "        cm = cm.astype('float') / cm.sum(axis=1)[:, np.newaxis]\n",
        "    \n",
        "    if ax == None:\n",
        "        fig, ax = plt.subplots()    \n",
        "\n",
        "\n",
        "    am = ax.imshow(cm, interpolation='nearest', cmap=cmap)\n",
        "    ax.figure.colorbar(am, ax=ax)\n",
        "    ax.set(xticks=np.arange(cm.shape[1]),\n",
        "           yticks=np.arange(cm.shape[0]),\n",
        "           xticklabels=classes, yticklabels=classes,\n",
        "           ylabel='Etiqueta correcta',\n",
        "           xlabel='Etiqueta predicha',\n",
        "           title=title,)\n",
        "\n",
        "    \n",
        "\n",
        "    fmt = '.2f' if normalize else 'd'\n",
        "    thresh = cm.max() / 2.\n",
        "    for i, j in itertools.product(range(cm.shape[0]), range(cm.shape[1])):\n",
        "        ax.text(j, i, format(cm[i, j], fmt),\n",
        "                 horizontalalignment=\"center\",\n",
        "                 color=\"white\" if cm[i, j] > thresh else \"black\")\n",
        "    \n",
        "    plt.setp(ax.get_xticklabels(), rotation=45, ha=\"right\",\n",
        "             rotation_mode=\"anchor\")\n",
        "    return ax\n"
      ],
      "metadata": {
        "id": "eJVCmmN7J7PM"
      },
      "id": "eJVCmmN7J7PM",
      "execution_count": 33,
      "outputs": []
    },
    {
      "cell_type": "markdown",
      "source": [
        "###Planteamos distintos modelos con parámetros por defecto"
      ],
      "metadata": {
        "id": "OqaP_zC4T3WZ"
      },
      "id": "OqaP_zC4T3WZ"
    },
    {
      "cell_type": "code",
      "source": [
        "from sklearn.model_selection import cross_val_score, cross_validate, KFold, StratifiedKFold, LeaveOneOut, LeavePOut\n",
        "from sklearn.metrics import recall_score, accuracy_score, precision_score, f1_score, roc_auc_score, mean_squared_error, r2_score, confusion_matrix, classification_report, ConfusionMatrixDisplay\n",
        "\n",
        "from sklearn.tree import DecisionTreeClassifier\n",
        "from sklearn.ensemble import RandomForestClassifier\n",
        "from sklearn.linear_model import LogisticRegression\n",
        "from sklearn.neural_network import MLPClassifier\n",
        "from xgboost import XGBClassifier\n",
        "from lightgbm import LGBMClassifier\n",
        "from sklearn.naive_bayes import GaussianNB\n",
        "from sklearn.svm import LinearSVC\n",
        "\n",
        "\n",
        "clfs =  [DecisionTreeClassifier(),\n",
        "        RandomForestClassifier(),\n",
        "        LogisticRegression(),\n",
        "        MLPClassifier(),\n",
        "        XGBClassifier(),\n",
        "        GaussianNB(),\n",
        "        LinearSVC()]\n",
        "\n",
        "names = ['Arbol de decisión',\n",
        "        'Random Forest',\n",
        "        'Regresión Logística',\n",
        "        'Perceptrón multicapa',\n",
        "        'XGBoost',\n",
        "        'Naive Bayes',\n",
        "        'SVM']\n",
        "\n",
        "trained_models = []\n",
        "accuracy_models = []\n",
        "\n",
        "print(\"Sunconjunto Verano\")\n",
        "for clf, name in zip(clfs, names):\n",
        "    print(name)\n",
        "    clf.fit(x_train1, y_train1)\n",
        "    train_predictions = clf.predict(x_train1)\n",
        "    accuracy = accuracy_score(y_train1, train_predictions)\n",
        "    print(f\"Accuracy train {name}: %.2f%%\" % (accuracy * 100.0))\n",
        "\n",
        "    test_predictions = clf.predict(x_test1)\n",
        "    accuracy = accuracy_score(y_test1, test_predictions)\n",
        "    print(f\"Accuracy test {name}: %.2f%%\" % (accuracy * 100.0))\n",
        "    trained_models.append(clf)    \n",
        "    accuracy_models.append(accuracy)\n",
        "\n",
        "    "
      ],
      "metadata": {
        "colab": {
          "base_uri": "https://localhost:8080/"
        },
        "id": "OXSfhyOoCXyD",
        "outputId": "b28329f4-a63c-4989-aa2c-0a74954d8add"
      },
      "id": "OXSfhyOoCXyD",
      "execution_count": 34,
      "outputs": [
        {
          "output_type": "stream",
          "name": "stdout",
          "text": [
            "Sunconjunto Verano\n",
            "Arbol de decisión\n",
            "Accuracy train Arbol de decisión: 100.00%\n",
            "Accuracy test Arbol de decisión: 92.31%\n",
            "Random Forest\n",
            "Accuracy train Random Forest: 100.00%\n",
            "Accuracy test Random Forest: 94.51%\n",
            "Regresión Logística\n",
            "Accuracy train Regresión Logística: 92.67%\n",
            "Accuracy test Regresión Logística: 92.94%\n",
            "Perceptrón multicapa\n",
            "Accuracy train Perceptrón multicapa: 94.10%\n",
            "Accuracy test Perceptrón multicapa: 94.59%\n",
            "XGBoost\n",
            "Accuracy train XGBoost: 93.78%\n",
            "Accuracy test XGBoost: 93.88%\n",
            "Naive Bayes\n",
            "Accuracy train Naive Bayes: 84.29%\n",
            "Accuracy test Naive Bayes: 85.16%\n",
            "SVM\n",
            "Accuracy train SVM: 92.63%\n",
            "Accuracy test SVM: 92.98%\n"
          ]
        }
      ]
    },
    {
      "cell_type": "code",
      "source": [
        "print(\"Sunconjunto Otoño\")\n",
        "for clf, name in zip(clfs, names):\n",
        "    print(name)\n",
        "    clf.fit(x_train2, y_train2)\n",
        "    train_predictions2 = clf.predict(x_train2)\n",
        "    accuracy = accuracy_score(y_train2, train_predictions2)\n",
        "    print(f\"Accuracy train {name}: %.2f%%\" % (accuracy * 100.0))\n",
        "\n",
        "    test_predictions2 = clf.predict(x_test2)\n",
        "    accuracy = accuracy_score(y_test2, test_predictions2)\n",
        "    print(f\"Accuracy test {name}: %.2f%%\" % (accuracy * 100.0))\n",
        "    trained_models.append(clf)    \n",
        "    accuracy_models.append(accuracy)\n"
      ],
      "metadata": {
        "colab": {
          "base_uri": "https://localhost:8080/"
        },
        "id": "vBEYzEaKVS55",
        "outputId": "6b04dd08-cd57-47d9-dfd8-4abd8a6fecdd"
      },
      "id": "vBEYzEaKVS55",
      "execution_count": null,
      "outputs": [
        {
          "output_type": "stream",
          "name": "stdout",
          "text": [
            "Sunconjunto Otoño\n",
            "Arbol de decisión\n",
            "Accuracy train Arbol de decisión: 100.00%\n",
            "Accuracy test Arbol de decisión: 85.39%\n",
            "Random Forest\n",
            "Accuracy train Random Forest: 100.00%\n",
            "Accuracy test Random Forest: 89.74%\n",
            "Regresión Logística\n",
            "Accuracy train Regresión Logística: 81.41%\n",
            "Accuracy test Regresión Logística: 82.62%\n",
            "Perceptrón multicapa\n"
          ]
        },
        {
          "output_type": "stream",
          "name": "stderr",
          "text": [
            "/usr/local/lib/python3.7/dist-packages/sklearn/neural_network/_multilayer_perceptron.py:699: UserWarning: Training interrupted by user.\n",
            "  warnings.warn(\"Training interrupted by user.\")\n"
          ]
        },
        {
          "output_type": "stream",
          "name": "stdout",
          "text": [
            "Accuracy train Perceptrón multicapa: 87.26%\n",
            "Accuracy test Perceptrón multicapa: 87.99%\n",
            "XGBoost\n",
            "Accuracy train XGBoost: 87.95%\n",
            "Accuracy test XGBoost: 87.68%\n",
            "Naive Bayes\n",
            "Accuracy train Naive Bayes: 71.03%\n",
            "Accuracy test Naive Bayes: 72.26%\n",
            "SVM\n",
            "Accuracy train SVM: 84.37%\n",
            "Accuracy test SVM: 85.42%\n",
            "time: 23.2 s (started: 2022-09-18 04:07:16 +00:00)\n"
          ]
        }
      ]
    },
    {
      "cell_type": "code",
      "source": [
        "print(\"Sunconjunto Invierno\")\n",
        "for clf, name in zip(clfs, names):\n",
        "    print(name)\n",
        "    clf.fit(x_train3, y_train3)\n",
        "    train_predictions3 = clf.predict(x_train3)\n",
        "    accuracy = accuracy_score(y_train3, train_predictions3)\n",
        "    print(f\"Accuracy train {name}: %.2f%%\" % (accuracy * 100.0))\n",
        "\n",
        "    test_predictions3 = clf.predict(x_test3)\n",
        "    accuracy = accuracy_score(y_test3, test_predictions3)\n",
        "    print(f\"Accuracy test {name}: %.2f%%\" % (accuracy * 100.0))\n",
        "    trained_models.append(clf)    \n",
        "    accuracy_models.append(accuracy)"
      ],
      "metadata": {
        "colab": {
          "base_uri": "https://localhost:8080/"
        },
        "id": "Kek3PPQyygPK",
        "outputId": "704f2e6f-71d4-494f-e247-28aa91c7fabc"
      },
      "id": "Kek3PPQyygPK",
      "execution_count": null,
      "outputs": [
        {
          "output_type": "stream",
          "name": "stdout",
          "text": [
            "Sunconjunto Invierno\n",
            "Arbol de decisión\n",
            "Accuracy train Arbol de decisión: 100.00%\n",
            "Accuracy test Arbol de decisión: 97.19%\n",
            "Random Forest\n",
            "Accuracy train Random Forest: 100.00%\n",
            "Accuracy test Random Forest: 98.20%\n",
            "Regresión Logística\n",
            "Accuracy train Regresión Logística: 97.28%\n",
            "Accuracy test Regresión Logística: 97.07%\n",
            "Perceptrón multicapa\n",
            "Accuracy train Perceptrón multicapa: 98.07%\n",
            "Accuracy test Perceptrón multicapa: 98.03%\n",
            "XGBoost\n",
            "Accuracy train XGBoost: 98.02%\n",
            "Accuracy test XGBoost: 97.82%\n",
            "Naive Bayes\n",
            "Accuracy train Naive Bayes: 93.10%\n",
            "Accuracy test Naive Bayes: 93.41%\n",
            "SVM\n",
            "Accuracy train SVM: 97.45%\n",
            "Accuracy test SVM: 97.19%\n",
            "time: 49.2 s (started: 2022-09-18 15:37:27 +00:00)\n"
          ]
        }
      ]
    },
    {
      "cell_type": "code",
      "source": [
        "print(\"Sunconjunto Primavera\")\n",
        "for clf, name in zip(clfs, names):\n",
        "    print(name)\n",
        "    clf.fit(x_train4, y_train4)\n",
        "    train_predictions4 = clf.predict(x_train4)\n",
        "    accuracy = accuracy_score(y_train4, train_predictions4)\n",
        "    print(f\"Accuracy train {name}: %.2f%%\" % (accuracy * 100.0))\n",
        "\n",
        "    test_predictions4 = clf.predict(x_test4)\n",
        "    accuracy = accuracy_score(y_test4, test_predictions4)\n",
        "    print(f\"Accuracy test {name}: %.2f%%\" % (accuracy * 100.0))\n",
        "    trained_models.append(clf)    \n",
        "    accuracy_models.append(accuracy)"
      ],
      "metadata": {
        "colab": {
          "base_uri": "https://localhost:8080/"
        },
        "id": "VWkVhzV0y0lZ",
        "outputId": "831e8c06-d4c9-4fd0-e616-707039515c48"
      },
      "id": "VWkVhzV0y0lZ",
      "execution_count": null,
      "outputs": [
        {
          "output_type": "stream",
          "name": "stdout",
          "text": [
            "Sunconjunto Primavera\n",
            "Arbol de decisión\n",
            "Accuracy train Arbol de decisión: 59.65%\n",
            "Accuracy test Arbol de decisión: 11.39%\n",
            "Random Forest\n",
            "Accuracy train Random Forest: 59.65%\n",
            "Accuracy test Random Forest: 11.39%\n",
            "Regresión Logística\n",
            "Accuracy train Regresión Logística: 50.16%\n",
            "Accuracy test Regresión Logística: 49.35%\n",
            "Perceptrón multicapa\n",
            "Accuracy train Perceptrón multicapa: 49.88%\n",
            "Accuracy test Perceptrón multicapa: 50.48%\n",
            "XGBoost\n",
            "Accuracy train XGBoost: 51.65%\n",
            "Accuracy test XGBoost: 43.41%\n",
            "Naive Bayes\n",
            "Accuracy train Naive Bayes: 50.23%\n",
            "Accuracy test Naive Bayes: 49.08%\n",
            "SVM\n",
            "Accuracy train SVM: 50.24%\n",
            "Accuracy test SVM: 49.03%\n",
            "time: 47.6 s (started: 2022-09-18 15:36:39 +00:00)\n"
          ]
        }
      ]
    },
    {
      "cell_type": "markdown",
      "source": [
        "###Modelo **RandomForestClassifier**: Obtenemos mejores parámetros para cada subconjunto estacional"
      ],
      "metadata": {
        "id": "XCrK3h9_cyFM"
      },
      "id": "XCrK3h9_cyFM"
    },
    {
      "cell_type": "markdown",
      "source": [
        "###Subconjunto Verano"
      ],
      "metadata": {
        "id": "rWJspl3hdDnf"
      },
      "id": "rWJspl3hdDnf"
    },
    {
      "cell_type": "code",
      "source": [
        "from sklearn.ensemble import RandomForestClassifier as RFC"
      ],
      "metadata": {
        "id": "BwmCvA3Io0qK"
      },
      "id": "BwmCvA3Io0qK",
      "execution_count": 35,
      "outputs": []
    },
    {
      "cell_type": "code",
      "source": [
        "params={'criterion':('gini','entropy'), \n",
        "        'min_samples_leaf':(2,3,4),\n",
        "        'min_samples_split':(100,110,120),\n",
        "        'max_features':(\"auto\",\"sqrt\",\"log2\",None),\n",
        "        'n_estimators' : (10,11,12,13,14)}\n",
        "\n",
        "rfc = RFC(random_state=22)\n",
        "grid = RandomizedSearchCV(rfc, params, scoring='accuracy', cv=5,n_jobs=4)\n",
        "grid.fit(x_train1,y_train1)\n",
        "print('Best Decision rfc accuracy: ',grid.best_score_)\n",
        "print(grid.best_estimator_)"
      ],
      "metadata": {
        "colab": {
          "base_uri": "https://localhost:8080/"
        },
        "id": "CPFxyN5EKGJQ",
        "outputId": "efea1a4e-94b7-4ea7-fc98-e75c517f4df9"
      },
      "id": "CPFxyN5EKGJQ",
      "execution_count": null,
      "outputs": [
        {
          "output_type": "stream",
          "name": "stdout",
          "text": [
            "Best Decision rfc accuracy:  0.9378828439201286\n",
            "RandomForestClassifier(criterion='entropy', min_samples_leaf=2,\n",
            "                       min_samples_split=120, n_estimators=14, random_state=22)\n",
            "time: 47 s (started: 2022-09-18 16:33:03 +00:00)\n"
          ]
        }
      ]
    },
    {
      "cell_type": "code",
      "source": [
        "rfc1 = RFC(random_state=22, criterion=\"entropy\",\n",
        "                                       max_features=\"auto\", min_samples_leaf=2,\n",
        "                       min_samples_split=120, n_estimators=11)\n",
        "rfc1.fit(x_train1, y_train1)\n",
        "print(\"Train dataset accuracy: %0.03f\" % rfc1.score(x_train1,y_train1))"
      ],
      "metadata": {
        "id": "tbJ3Hp_6UyNq",
        "colab": {
          "base_uri": "https://localhost:8080/"
        },
        "outputId": "363fe96b-ec17-40fe-ce4f-cffe18d2ceb8"
      },
      "id": "tbJ3Hp_6UyNq",
      "execution_count": null,
      "outputs": [
        {
          "output_type": "stream",
          "name": "stdout",
          "text": [
            "Train dataset accuracy: 0.946\n",
            "time: 1.36 s (started: 2022-09-18 15:40:55 +00:00)\n"
          ]
        }
      ]
    },
    {
      "cell_type": "code",
      "source": [
        "y_test_predt1 = rfc1.predict(x_test1)\n",
        "print(\"Test dataset accuracy: %0.03f\" % rfc1.score(x_test1,y_test1))\n",
        "print(\"****Reporte de clasificación sobre conjunto de evaluación (métricas)*****\") \n",
        "print(classification_report(y_test1, y_test_predt1)) \n",
        "plot_confusion_matrix(y_test1, y_test_predt1, classes=df_1sum.clasif_.unique(),\n",
        "                        title=\"Matriz de confusión para función de coste entropy\");"
      ],
      "metadata": {
        "id": "xQR2c6jtVLkS",
        "colab": {
          "base_uri": "https://localhost:8080/",
          "height": 515
        },
        "outputId": "cb715c1f-4e6a-43a5-97db-725161af6708"
      },
      "id": "xQR2c6jtVLkS",
      "execution_count": null,
      "outputs": [
        {
          "output_type": "stream",
          "name": "stdout",
          "text": [
            "Test dataset accuracy: 0.941\n",
            "****Reporte de clasificación sobre conjunto de evaluación (métricas)*****\n",
            "              precision    recall  f1-score   support\n",
            "\n",
            "           0       0.93      0.87      0.90      3834\n",
            "           1       0.95      0.97      0.96      8780\n",
            "\n",
            "    accuracy                           0.94     12614\n",
            "   macro avg       0.94      0.92      0.93     12614\n",
            "weighted avg       0.94      0.94      0.94     12614\n",
            "\n"
          ]
        },
        {
          "output_type": "display_data",
          "data": {
            "text/plain": [
              "<Figure size 432x288 with 2 Axes>"
            ],
            "image/png": "[encoded data removed]"
          },
          "metadata": {
            "needs_background": "light"
          }
        },
        {
          "output_type": "stream",
          "name": "stdout",
          "text": [
            "time: 264 ms (started: 2022-09-18 15:41:06 +00:00)\n"
          ]
        }
      ]
    },
    {
      "cell_type": "markdown",
      "source": [
        "###Subconjunto Otoño"
      ],
      "metadata": {
        "id": "2U_pR2sFWIud"
      },
      "id": "2U_pR2sFWIud"
    },
    {
      "cell_type": "code",
      "source": [
        "rfc_o = RFC(random_state=22)\n",
        "grid2 = RandomizedSearchCV(rfc_o, params, scoring='accuracy', cv=5,n_jobs=4)\n",
        "grid2.fit(x_train2,y_train2)\n",
        "print('Best Decision rfc_o accuracy: ',grid2.best_score_)\n",
        "print(grid2.best_estimator_)"
      ],
      "metadata": {
        "colab": {
          "base_uri": "https://localhost:8080/"
        },
        "id": "TarLneK4WCPR",
        "outputId": "11fc8a20-e422-47fe-8630-8c48d31f3a90"
      },
      "id": "TarLneK4WCPR",
      "execution_count": null,
      "outputs": [
        {
          "output_type": "stream",
          "name": "stdout",
          "text": [
            "Best Decision rfc_o accuracy:  0.9962066262437522\n",
            "RandomForestClassifier(max_features='log2', min_samples_leaf=4,\n",
            "                       min_samples_split=100, n_estimators=12, random_state=22)\n",
            "time: 27.5 s (started: 2022-09-18 16:33:50 +00:00)\n"
          ]
        }
      ]
    },
    {
      "cell_type": "code",
      "source": [
        "rfc2 = RFC(random_state=22,\n",
        "                                       max_features=\"sqrt\", min_samples_leaf=2,\n",
        "                       min_samples_split=110, n_estimators=13)\n",
        "rfc2.fit(x_train2, y_train2)\n",
        "print(\"Train dataset accuracy: %0.03f\" % rfc2.score(x_train2,y_train2))"
      ],
      "metadata": {
        "colab": {
          "base_uri": "https://localhost:8080/"
        },
        "id": "UpW26V8hWB7L",
        "outputId": "4a0c3baa-be00-4cbb-b05e-7d24c87a0f46"
      },
      "id": "UpW26V8hWB7L",
      "execution_count": null,
      "outputs": [
        {
          "output_type": "stream",
          "name": "stdout",
          "text": [
            "Train dataset accuracy: 0.998\n",
            "time: 898 ms (started: 2022-09-18 15:45:44 +00:00)\n"
          ]
        }
      ]
    },
    {
      "cell_type": "code",
      "source": [
        "y_test_predt2 = rfc2.predict(x_test2)\n",
        "print(\"Test dataset accuracy: %0.03f\" % rfc2.score(x_test2,y_test2))\n",
        "print(\"****Reporte de clasificación sobre conjunto de evaluación (métricas)*****\") \n",
        "print(classification_report(y_test2, y_test_predt2)) \n",
        "plot_confusion_matrix(y_test2, y_test_predt2, classes=df_2aut.clasif_.unique(),\n",
        "                        title=\"Matriz de confusión para función de coste entropy\");"
      ],
      "metadata": {
        "colab": {
          "base_uri": "https://localhost:8080/",
          "height": 515
        },
        "id": "mzEfXN5hWBqE",
        "outputId": "d98cfdf8-ef71-4b4b-8bf4-36b15729a04a"
      },
      "id": "mzEfXN5hWBqE",
      "execution_count": null,
      "outputs": [
        {
          "output_type": "stream",
          "name": "stdout",
          "text": [
            "Test dataset accuracy: 0.997\n",
            "****Reporte de clasificación sobre conjunto de evaluación (métricas)*****\n",
            "              precision    recall  f1-score   support\n",
            "\n",
            "           0       0.99      1.00      1.00      3204\n",
            "           1       1.00      1.00      1.00      7341\n",
            "\n",
            "    accuracy                           1.00     10545\n",
            "   macro avg       1.00      1.00      1.00     10545\n",
            "weighted avg       1.00      1.00      1.00     10545\n",
            "\n"
          ]
        },
        {
          "output_type": "display_data",
          "data": {
            "text/plain": [
              "<Figure size 432x288 with 2 Axes>"
            ],
            "image/png": "[encoded data removed]"
          },
          "metadata": {
            "needs_background": "light"
          }
        },
        {
          "output_type": "stream",
          "name": "stdout",
          "text": [
            "time: 248 ms (started: 2022-09-18 15:45:51 +00:00)\n"
          ]
        }
      ]
    },
    {
      "cell_type": "markdown",
      "source": [
        "###Subconjunto Invierno"
      ],
      "metadata": {
        "id": "SAkDnsDYWqeq"
      },
      "id": "SAkDnsDYWqeq"
    },
    {
      "cell_type": "code",
      "source": [
        "rfc_i = RFC(random_state=22)\n",
        "grid3 = RandomizedSearchCV(rfc_i, params, scoring='accuracy', cv=5,n_jobs=4)\n",
        "grid3.fit(x_train3,y_train3)\n",
        "print('Best Decision rfc_i accuracy: ',grid3.best_score_)\n",
        "print(grid3.best_estimator_)"
      ],
      "metadata": {
        "colab": {
          "base_uri": "https://localhost:8080/"
        },
        "id": "X6dVLdoYW1EL",
        "outputId": "f280b302-b2c3-40b6-cc31-12684a413aeb"
      },
      "id": "X6dVLdoYW1EL",
      "execution_count": null,
      "outputs": [
        {
          "output_type": "stream",
          "name": "stdout",
          "text": [
            "Best Decision rfc_i accuracy:  0.9767264314632736\n",
            "RandomForestClassifier(criterion='entropy', min_samples_leaf=2,\n",
            "                       min_samples_split=100, n_estimators=14, random_state=22)\n",
            "time: 35.6 s (started: 2022-09-18 16:34:18 +00:00)\n"
          ]
        }
      ]
    },
    {
      "cell_type": "code",
      "source": [
        "rfc3 = RFC(random_state=22, criterion=\"entropy\",\n",
        "                                       max_features=\"auto\", min_samples_leaf=3,\n",
        "                       min_samples_split=100, n_estimators=14)\n",
        "rfc3.fit(x_train3, y_train3)\n",
        "print(\"Train dataset accuracy: %0.03f\" % rfc3.score(x_train3,y_train3))"
      ],
      "metadata": {
        "colab": {
          "base_uri": "https://localhost:8080/"
        },
        "id": "IPFNieHGYM0F",
        "outputId": "604eac9e-b18a-4bae-9bc4-807fb42a8a71"
      },
      "id": "IPFNieHGYM0F",
      "execution_count": null,
      "outputs": [
        {
          "output_type": "stream",
          "name": "stdout",
          "text": [
            "Train dataset accuracy: 0.981\n",
            "time: 1.21 s (started: 2022-09-18 15:40:30 +00:00)\n"
          ]
        }
      ]
    },
    {
      "cell_type": "code",
      "source": [
        "y_test_predt3 = rfc3.predict(x_test3)\n",
        "print(\"Test dataset accuracy: %0.03f\" % rfc3.score(x_test3,y_test3))\n",
        "print(\"****Reporte de clasificación sobre conjunto de evaluación (métricas)*****\") \n",
        "print(classification_report(y_test3, y_test_predt3)) \n",
        "plot_confusion_matrix(y_test3, y_test_predt3, classes=df_3win.clasif_.unique(),\n",
        "                        title=\"Matriz de confusión para función de coste entropy\");"
      ],
      "metadata": {
        "colab": {
          "base_uri": "https://localhost:8080/",
          "height": 515
        },
        "id": "A-BImuViY2bV",
        "outputId": "76ccccd1-0059-45d4-8e3e-66ba9d3acbe8"
      },
      "id": "A-BImuViY2bV",
      "execution_count": null,
      "outputs": [
        {
          "output_type": "stream",
          "name": "stdout",
          "text": [
            "Test dataset accuracy: 0.978\n",
            "****Reporte de clasificación sobre conjunto de evaluación (métricas)*****\n",
            "              precision    recall  f1-score   support\n",
            "\n",
            "           0       0.97      0.96      0.96      3314\n",
            "           1       0.98      0.99      0.98      7493\n",
            "\n",
            "    accuracy                           0.98     10807\n",
            "   macro avg       0.97      0.97      0.97     10807\n",
            "weighted avg       0.98      0.98      0.98     10807\n",
            "\n"
          ]
        },
        {
          "output_type": "display_data",
          "data": {
            "text/plain": [
              "<Figure size 432x288 with 2 Axes>"
            ],
            "image/png": "[encoded data removed]"
          },
          "metadata": {
            "needs_background": "light"
          }
        },
        {
          "output_type": "stream",
          "name": "stdout",
          "text": [
            "time: 264 ms (started: 2022-09-18 15:40:31 +00:00)\n"
          ]
        }
      ]
    },
    {
      "cell_type": "markdown",
      "source": [
        "###Subconjunto Primavera"
      ],
      "metadata": {
        "id": "y9-vZCBVZNee"
      },
      "id": "y9-vZCBVZNee"
    },
    {
      "cell_type": "code",
      "source": [
        "rfc_p = RFC(random_state=22)\n",
        "grid4 = RandomizedSearchCV(rfc_p, params, scoring='accuracy', cv=5,n_jobs=4)\n",
        "grid4.fit(x_train4,y_train4)\n",
        "print('Best Decision rfc_p accuracy: ',grid4.best_score_)\n",
        "print(grid4.best_estimator_)"
      ],
      "metadata": {
        "colab": {
          "base_uri": "https://localhost:8080/"
        },
        "id": "pBdwMT1qZTWv",
        "outputId": "49dcb266-06bd-467d-9dd0-2c02f2412e83"
      },
      "id": "pBdwMT1qZTWv",
      "execution_count": null,
      "outputs": [
        {
          "output_type": "stream",
          "name": "stdout",
          "text": [
            "Best Decision rfc_p accuracy:  0.33620119414720595\n",
            "RandomForestClassifier(min_samples_leaf=4, min_samples_split=110,\n",
            "                       n_estimators=11, random_state=22)\n",
            "time: 2min 55s (started: 2022-09-18 16:30:08 +00:00)\n"
          ]
        }
      ]
    },
    {
      "cell_type": "code",
      "source": [
        "rfc4 = RFC(random_state=22, criterion=\"entropy\",\n",
        "                                       max_features=\"auto\", min_samples_leaf=4,\n",
        "                       min_samples_split=110, n_estimators=10)\n",
        "rfc4.fit(x_train4, y_train4)\n",
        "print(\"Train dataset accuracy: %0.03f\" % rfc4.score(x_train4,y_train4))\n",
        "\n",
        "y_test_predt4 = rfc4.predict(x_test4)\n",
        "print(\"Test dataset accuracy: %0.03f\" % rfc4.score(x_test4,y_test4))\n",
        "print(\"****Reporte de clasificación sobre conjunto de evaluación (métricas)*****\") \n",
        "print(classification_report(y_test4, y_test_predt4)) \n",
        "plot_confusion_matrix(y_test4, y_test_predt4, classes=df_4spr.clasif_.unique(),\n",
        "                        title=\"Matriz de confusión para función de coste entropy\");"
      ],
      "metadata": {
        "colab": {
          "base_uri": "https://localhost:8080/",
          "height": 534
        },
        "id": "MKF6YSCEZbKH",
        "outputId": "2b3b80ee-3a05-4ea6-8031-865b63a69da2"
      },
      "id": "MKF6YSCEZbKH",
      "execution_count": null,
      "outputs": [
        {
          "output_type": "stream",
          "name": "stdout",
          "text": [
            "Train dataset accuracy: 0.554\n",
            "Test dataset accuracy: 0.286\n",
            "****Reporte de clasificación sobre conjunto de evaluación (métricas)*****\n",
            "              precision    recall  f1-score   support\n",
            "\n",
            "           0       0.28      0.26      0.27      7854\n",
            "           1       0.29      0.31      0.30      7779\n",
            "\n",
            "    accuracy                           0.29     15633\n",
            "   macro avg       0.29      0.29      0.29     15633\n",
            "weighted avg       0.29      0.29      0.29     15633\n",
            "\n"
          ]
        },
        {
          "output_type": "display_data",
          "data": {
            "text/plain": [
              "<Figure size 432x288 with 2 Axes>"
            ],
            "image/png": "[encoded data removed]"
          },
          "metadata": {
            "needs_background": "light"
          }
        },
        {
          "output_type": "stream",
          "name": "stdout",
          "text": [
            "time: 3.93 s (started: 2022-09-18 16:21:23 +00:00)\n"
          ]
        }
      ]
    },
    {
      "cell_type": "markdown",
      "source": [
        "###Modelo **ExtraTreesClassifier**: Obtenemos mejores parámetros para cada subconjunto"
      ],
      "metadata": {
        "id": "kd51q4Jhu-wW"
      },
      "id": "kd51q4Jhu-wW"
    },
    {
      "cell_type": "code",
      "source": [
        "params = { \n",
        "          'min_samples_leaf':(1,2,3,4),\n",
        "          'min_samples_split':(186,187,188),\n",
        "          'max_features':(2,3,4),\n",
        "          'n_estimators' : (16,17,18,19,20)}\n"
      ],
      "metadata": {
        "id": "-qRaX9tXPhuk"
      },
      "id": "-qRaX9tXPhuk",
      "execution_count": 46,
      "outputs": []
    },
    {
      "cell_type": "code",
      "source": [
        "x_train4"
      ],
      "metadata": {
        "colab": {
          "base_uri": "https://localhost:8080/",
          "height": 425
        },
        "id": "IHPUdrWC0usv",
        "outputId": "31209f1e-2086-49a0-e130-f2bc8c289830"
      },
      "id": "IHPUdrWC0usv",
      "execution_count": null,
      "outputs": [
        {
          "output_type": "execute_result",
          "data": {
            "text/plain": [
              "        B02_median  B06_median  B11_median  ndvi_max\n",
              "142340     0.12630     0.22620     0.31545  0.443352\n",
              "186021     0.12325     0.24190     0.31180  0.461303\n",
              "193939     0.13710     0.27280     0.32975  0.489447\n",
              "60940      0.11800     0.19490     0.20930  0.592398\n",
              "184126     0.16100     0.24200     0.29810  0.238778\n",
              "...            ...         ...         ...       ...\n",
              "57228      0.13435     0.23715     0.23705  0.421813\n",
              "141094     0.12019     0.23470     0.25895  0.588347\n",
              "102616     0.10105     0.25650     0.24400  0.723344\n",
              "143760     0.11935     0.19620     0.24385  0.452925\n",
              "184685     0.16330     0.25400     0.33515  0.434996\n",
              "\n",
              "[62531 rows x 4 columns]"
            ],
            "text/html": [
              "\n",
              "  <div id=\"df-0fcb8900-fde8-4926-93b3-42d83c9fb35e\">\n",
              "    <div class=\"colab-df-container\">\n",
              "      <div>\n",
              "<style scoped>\n",
              "    .dataframe tbody tr th:only-of-type {\n",
              "        vertical-align: middle;\n",
              "    }\n",
              "\n",
              "    .dataframe tbody tr th {\n",
              "        vertical-align: top;\n",
              "    }\n",
              "\n",
              "    .dataframe thead th {\n",
              "        text-align: right;\n",
              "    }\n",
              "</style>\n",
              "<table border=\"1\" class=\"dataframe\">\n",
              "  <thead>\n",
              "    <tr style=\"text-align: right;\">\n",
              "      <th></th>\n",
              "      <th>B02_median</th>\n",
              "      <th>B06_median</th>\n",
              "      <th>B11_median</th>\n",
              "      <th>ndvi_max</th>\n",
              "    </tr>\n",
              "  </thead>\n",
              "  <tbody>\n",
              "    <tr>\n",
              "      <th>142340</th>\n",
              "      <td>0.12630</td>\n",
              "      <td>0.22620</td>\n",
              "      <td>0.31545</td>\n",
              "      <td>0.443352</td>\n",
              "    </tr>\n",
              "    <tr>\n",
              "      <th>186021</th>\n",
              "      <td>0.12325</td>\n",
              "      <td>0.24190</td>\n",
              "      <td>0.31180</td>\n",
              "      <td>0.461303</td>\n",
              "    </tr>\n",
              "    <tr>\n",
              "      <th>193939</th>\n",
              "      <td>0.13710</td>\n",
              "      <td>0.27280</td>\n",
              "      <td>0.32975</td>\n",
              "      <td>0.489447</td>\n",
              "    </tr>\n",
              "    <tr>\n",
              "      <th>60940</th>\n",
              "      <td>0.11800</td>\n",
              "      <td>0.19490</td>\n",
              "      <td>0.20930</td>\n",
              "      <td>0.592398</td>\n",
              "    </tr>\n",
              "    <tr>\n",
              "      <th>184126</th>\n",
              "      <td>0.16100</td>\n",
              "      <td>0.24200</td>\n",
              "      <td>0.29810</td>\n",
              "      <td>0.238778</td>\n",
              "    </tr>\n",
              "    <tr>\n",
              "      <th>...</th>\n",
              "      <td>...</td>\n",
              "      <td>...</td>\n",
              "      <td>...</td>\n",
              "      <td>...</td>\n",
              "    </tr>\n",
              "    <tr>\n",
              "      <th>57228</th>\n",
              "      <td>0.13435</td>\n",
              "      <td>0.23715</td>\n",
              "      <td>0.23705</td>\n",
              "      <td>0.421813</td>\n",
              "    </tr>\n",
              "    <tr>\n",
              "      <th>141094</th>\n",
              "      <td>0.12019</td>\n",
              "      <td>0.23470</td>\n",
              "      <td>0.25895</td>\n",
              "      <td>0.588347</td>\n",
              "    </tr>\n",
              "    <tr>\n",
              "      <th>102616</th>\n",
              "      <td>0.10105</td>\n",
              "      <td>0.25650</td>\n",
              "      <td>0.24400</td>\n",
              "      <td>0.723344</td>\n",
              "    </tr>\n",
              "    <tr>\n",
              "      <th>143760</th>\n",
              "      <td>0.11935</td>\n",
              "      <td>0.19620</td>\n",
              "      <td>0.24385</td>\n",
              "      <td>0.452925</td>\n",
              "    </tr>\n",
              "    <tr>\n",
              "      <th>184685</th>\n",
              "      <td>0.16330</td>\n",
              "      <td>0.25400</td>\n",
              "      <td>0.33515</td>\n",
              "      <td>0.434996</td>\n",
              "    </tr>\n",
              "  </tbody>\n",
              "</table>\n",
              "<p>62531 rows × 4 columns</p>\n",
              "</div>\n",
              "      <button class=\"colab-df-convert\" onclick=\"convertToInteractive('df-0fcb8900-fde8-4926-93b3-42d83c9fb35e')\"\n",
              "              title=\"Convert this dataframe to an interactive table.\"\n",
              "              style=\"display:none;\">\n",
              "        \n",
              "  <svg xmlns=\"http://www.w3.org/2000/svg\" height=\"24px\"viewBox=\"0 0 24 24\"\n",
              "       width=\"24px\">\n",
              "    <path d=\"M0 0h24v24H0V0z\" fill=\"none\"/>\n",
              "    <path d=\"M18.56 5.44l.94 2.06.94-2.06 2.06-.94-2.06-.94-.94-2.06-.94 2.06-2.06.94zm-11 1L8.5 8.5l.94-2.06 2.06-.94-2.06-.94L8.5 2.5l-.94 2.06-2.06.94zm10 10l.94 2.06.94-2.06 2.06-.94-2.06-.94-.94-2.06-.94 2.06-2.06.94z\"/><path d=\"M17.41 7.96l-1.37-1.37c-.4-.4-.92-.59-1.43-.59-.52 0-1.04.2-1.43.59L10.3 9.45l-7.72 7.72c-.78.78-.78 2.05 0 2.83L4 21.41c.39.39.9.59 1.41.59.51 0 1.02-.2 1.41-.59l7.78-7.78 2.81-2.81c.8-.78.8-2.07 0-2.86zM5.41 20L4 18.59l7.72-7.72 1.47 1.35L5.41 20z\"/>\n",
              "  </svg>\n",
              "      </button>\n",
              "      \n",
              "  <style>\n",
              "    .colab-df-container {\n",
              "      display:flex;\n",
              "      flex-wrap:wrap;\n",
              "      gap: 12px;\n",
              "    }\n",
              "\n",
              "    .colab-df-convert {\n",
              "      background-color: #E8F0FE;\n",
              "      border: none;\n",
              "      border-radius: 50%;\n",
              "      cursor: pointer;\n",
              "      display: none;\n",
              "      fill: #1967D2;\n",
              "      height: 32px;\n",
              "      padding: 0 0 0 0;\n",
              "      width: 32px;\n",
              "    }\n",
              "\n",
              "    .colab-df-convert:hover {\n",
              "      background-color: #E2EBFA;\n",
              "      box-shadow: 0px 1px 2px rgba(60, 64, 67, 0.3), 0px 1px 3px 1px rgba(60, 64, 67, 0.15);\n",
              "      fill: #174EA6;\n",
              "    }\n",
              "\n",
              "    [theme=dark] .colab-df-convert {\n",
              "      background-color: #3B4455;\n",
              "      fill: #D2E3FC;\n",
              "    }\n",
              "\n",
              "    [theme=dark] .colab-df-convert:hover {\n",
              "      background-color: #434B5C;\n",
              "      box-shadow: 0px 1px 3px 1px rgba(0, 0, 0, 0.15);\n",
              "      filter: drop-shadow(0px 1px 2px rgba(0, 0, 0, 0.3));\n",
              "      fill: #FFFFFF;\n",
              "    }\n",
              "  </style>\n",
              "\n",
              "      <script>\n",
              "        const buttonEl =\n",
              "          document.querySelector('#df-0fcb8900-fde8-4926-93b3-42d83c9fb35e button.colab-df-convert');\n",
              "        buttonEl.style.display =\n",
              "          google.colab.kernel.accessAllowed ? 'block' : 'none';\n",
              "\n",
              "        async function convertToInteractive(key) {\n",
              "          const element = document.querySelector('#df-0fcb8900-fde8-4926-93b3-42d83c9fb35e');\n",
              "          const dataTable =\n",
              "            await google.colab.kernel.invokeFunction('convertToInteractive',\n",
              "                                                     [key], {});\n",
              "          if (!dataTable) return;\n",
              "\n",
              "          const docLinkHtml = 'Like what you see? Visit the ' +\n",
              "            '<a target=\"_blank\" href=https://colab.research.google.com/notebooks/data_table.ipynb>data table notebook</a>'\n",
              "            + ' to learn more about interactive tables.';\n",
              "          element.innerHTML = '';\n",
              "          dataTable['output_type'] = 'display_data';\n",
              "          await google.colab.output.renderOutput(dataTable, element);\n",
              "          const docLink = document.createElement('div');\n",
              "          docLink.innerHTML = docLinkHtml;\n",
              "          element.appendChild(docLink);\n",
              "        }\n",
              "      </script>\n",
              "    </div>\n",
              "  </div>\n",
              "  "
            ]
          },
          "metadata": {},
          "execution_count": 87
        },
        {
          "output_type": "stream",
          "name": "stdout",
          "text": [
            "time: 18.2 ms (started: 2022-09-16 01:15:21 +00:00)\n"
          ]
        }
      ]
    },
    {
      "cell_type": "code",
      "source": [
        "from sklearn.ensemble import ExtraTreesClassifier as ETC"
      ],
      "metadata": {
        "id": "GtnLqb0UyS_-"
      },
      "id": "GtnLqb0UyS_-",
      "execution_count": 36,
      "outputs": []
    },
    {
      "cell_type": "markdown",
      "source": [
        "####Subconjunto Verano"
      ],
      "metadata": {
        "id": "VKfPV1C_MdsG"
      },
      "id": "VKfPV1C_MdsG"
    },
    {
      "cell_type": "code",
      "source": [
        "etc = ETC(max_depth=None,random_state=22,n_jobs=4, criterion='gini')\n",
        "tree_etc = GridSearchCV(etc, params, scoring='accuracy', cv=5,n_jobs=4)\n",
        "tree_etc.fit(x_train1, y_train1)\n",
        "best_tree_etc = tree_etc.best_estimator_\n",
        "print('Best Decision etc accuracy: ', tree_etc.best_score_)\n",
        "print(best_tree_etc)"
      ],
      "metadata": {
        "colab": {
          "base_uri": "https://localhost:8080/"
        },
        "id": "1TnUyepNyVeL",
        "outputId": "e9ed49d2-9552-4ec0-c54e-8272ebc958e3"
      },
      "id": "1TnUyepNyVeL",
      "execution_count": null,
      "outputs": [
        {
          "output_type": "stream",
          "name": "stdout",
          "text": [
            "Best Decision etc accuracy:  0.9364359570721106\n",
            "ExtraTreesClassifier(max_features=3, min_samples_leaf=3, min_samples_split=186,\n",
            "                     n_estimators=19, n_jobs=4, random_state=22)\n",
            "time: 5min 18s (started: 2022-09-18 16:34:53 +00:00)\n"
          ]
        }
      ]
    },
    {
      "cell_type": "code",
      "source": [
        "etc2 = ETC(max_depth=None,random_state=22,n_jobs=4, criterion='entropy')\n",
        "tree_etc2 = GridSearchCV(etc2, params, scoring='accuracy', cv=5,n_jobs=4)\n",
        "tree_etc2.fit(x_train1, y_train1)\n",
        "best_tree_etc2 = tree_etc2.best_estimator_\n",
        "print('Best Decision etc2 accuracy: ', tree_etc2.best_score_)\n",
        "print(best_tree_etc2)"
      ],
      "metadata": {
        "colab": {
          "base_uri": "https://localhost:8080/"
        },
        "id": "NZ64Z-IBO8X0",
        "outputId": "0ab40740-4cad-42eb-d198-bf7d8d394ed0"
      },
      "id": "NZ64Z-IBO8X0",
      "execution_count": null,
      "outputs": [
        {
          "output_type": "stream",
          "name": "stdout",
          "text": [
            "Best Decision etc2 accuracy:  0.936356686364195\n",
            "ExtraTreesClassifier(criterion='entropy', max_features=4, min_samples_leaf=3,\n",
            "                     min_samples_split=187, n_estimators=20, n_jobs=4,\n",
            "                     random_state=22)\n",
            "time: 5min 17s (started: 2022-09-18 16:40:12 +00:00)\n"
          ]
        }
      ]
    },
    {
      "cell_type": "code",
      "source": [
        "Best_etc2= ETC(criterion='gini', max_features=3,\n",
        "                     min_samples_leaf=3, min_samples_split=186, n_estimators=20, n_jobs=4,\n",
        "                     random_state=22)\n",
        "\n",
        "Best_etc2.fit(x_train1, y_train1)\n",
        "print(\"Train dataset accuracy: %0.03f\" % Best_etc2.score(x_train1,y_train1))\n",
        "\n",
        "y_test_predt1 = Best_etc2.predict(x_test1)\n",
        "print(\"Test dataset accuracy: %0.03f\" % Best_etc2.score(x_test1,y_test1))\n",
        "print(\"****Reporte de clasificación sobre conjunto de evaluación (métricas)*****\") \n",
        "print(classification_report(y_test1, y_test_predt1)) \n",
        "plot_confusion_matrix(y_test1, y_test_predt1, classes=df_1sum.clasif_.unique(),\n",
        "                        title=\"Matriz de confusión para función de coste gini\");"
      ],
      "metadata": {
        "colab": {
          "base_uri": "https://localhost:8080/",
          "height": 515
        },
        "id": "_tlEA7pKo7DO",
        "outputId": "76112754-4730-4b49-b04f-1af06e411b98"
      },
      "id": "_tlEA7pKo7DO",
      "execution_count": 39,
      "outputs": [
        {
          "output_type": "stream",
          "name": "stdout",
          "text": [
            "Train dataset accuracy: 0.939\n",
            "Test dataset accuracy: 0.940\n",
            "****Reporte de clasificación sobre conjunto de evaluación (métricas)*****\n",
            "              precision    recall  f1-score   support\n",
            "\n",
            "           0       0.94      0.86      0.90      3834\n",
            "           1       0.94      0.98      0.96      8780\n",
            "\n",
            "    accuracy                           0.94     12614\n",
            "   macro avg       0.94      0.92      0.93     12614\n",
            "weighted avg       0.94      0.94      0.94     12614\n",
            "\n"
          ]
        },
        {
          "output_type": "display_data",
          "data": {
            "text/plain": [
              "<Figure size 432x288 with 2 Axes>"
            ],
            "image/png": "[encoded data removed]"
          },
          "metadata": {
            "needs_background": "light"
          }
        }
      ]
    },
    {
      "cell_type": "markdown",
      "source": [
        "####Subconjunto Otoño"
      ],
      "metadata": {
        "id": "s9LzZI4mMpTX"
      },
      "id": "s9LzZI4mMpTX"
    },
    {
      "cell_type": "code",
      "source": [
        "etc = ETC(max_depth=None,random_state=22,n_jobs=4, criterion='gini')\n",
        "tree_etc = GridSearchCV(etc, params, scoring='accuracy', cv=5,n_jobs=4)\n",
        "tree_etc.fit(x_train2, y_train2)\n",
        "best_tree_etc = tree_etc.best_estimator_\n",
        "print('Best Decision etc accuracy: ', tree_etc.best_score_)\n",
        "print(best_tree_etc)"
      ],
      "metadata": {
        "colab": {
          "base_uri": "https://localhost:8080/"
        },
        "id": "WP89rayCyVF9",
        "outputId": "c45d0420-80eb-4361-d901-599986137d62"
      },
      "id": "WP89rayCyVF9",
      "execution_count": null,
      "outputs": [
        {
          "output_type": "stream",
          "name": "stdout",
          "text": [
            "Best Decision Tree accuracy:  0.8810781579945154\n",
            "ExtraTreesClassifier(max_features=4, min_samples_split=186, n_estimators=19,\n",
            "                     n_jobs=4, random_state=22)\n",
            "time: 4min 42s (started: 2022-09-16 03:06:55 +00:00)\n"
          ]
        }
      ]
    },
    {
      "cell_type": "code",
      "source": [
        "etc2 = ETC(max_depth=None,random_state=22,n_jobs=4, criterion='entropy')\n",
        "tree_etc2 = GridSearchCV(etc2, params, scoring='accuracy', cv=5,n_jobs=4)\n",
        "tree_etc2.fit(x_train2, y_train2)\n",
        "best_tree_etc2 = tree_etc2.best_estimator_\n",
        "print('Best Decision etc2 accuracy: ', tree_etc2.best_score_)\n",
        "print(best_tree_etc2)"
      ],
      "metadata": {
        "colab": {
          "base_uri": "https://localhost:8080/"
        },
        "id": "P2iag9_dP_0d",
        "outputId": "2118fe60-f0f2-47d4-8738-422c7660d7b4"
      },
      "id": "P2iag9_dP_0d",
      "execution_count": null,
      "outputs": [
        {
          "output_type": "stream",
          "name": "stdout",
          "text": [
            "Best Decision etc2 accuracy:  0.9967282257454784\n",
            "ExtraTreesClassifier(criterion='entropy', max_features=2, min_samples_leaf=2,\n",
            "                     min_samples_split=186, n_estimators=20, n_jobs=4,\n",
            "                     random_state=22)\n",
            "time: 3min 19s (started: 2022-09-18 16:45:29 +00:00)\n"
          ]
        }
      ]
    },
    {
      "cell_type": "code",
      "source": [
        "Best_etc2= ETC(criterion='entropy', max_features=2,\n",
        "                     min_samples_leaf=2, min_samples_split=186, n_estimators=20, n_jobs=4,\n",
        "                     random_state=22)\n",
        "\n",
        "Best_etc2.fit(x_train2, y_train2)\n",
        "print(\"Train dataset accuracy: %0.03f\" % Best_etc2.score(x_train2,y_train2))\n",
        "\n",
        "y_test_predt2 = Best_etc2.predict(x_test2)\n",
        "print(\"Test dataset accuracy: %0.03f\" % Best_etc2.score(x_test2,y_test2))\n",
        "print(\"****Reporte de clasificación sobre conjunto de evaluación (métricas)*****\") \n",
        "print(classification_report(y_test2, y_test_predt2)) \n",
        "plot_confusion_matrix(y_test2, y_test_predt2, classes=df_2aut.clasif_.unique(),\n",
        "                        title=\"Matriz de confusión para función de coste gini\");"
      ],
      "metadata": {
        "colab": {
          "base_uri": "https://localhost:8080/",
          "height": 515
        },
        "id": "TOxeVJY8rDAu",
        "outputId": "413bed0c-1740-4965-f5a5-568b2f861203"
      },
      "id": "TOxeVJY8rDAu",
      "execution_count": 40,
      "outputs": [
        {
          "output_type": "stream",
          "name": "stdout",
          "text": [
            "Train dataset accuracy: 0.997\n",
            "Test dataset accuracy: 0.997\n",
            "****Reporte de clasificación sobre conjunto de evaluación (métricas)*****\n",
            "              precision    recall  f1-score   support\n",
            "\n",
            "           0       0.99      1.00      1.00      3204\n",
            "           1       1.00      1.00      1.00      7341\n",
            "\n",
            "    accuracy                           1.00     10545\n",
            "   macro avg       1.00      1.00      1.00     10545\n",
            "weighted avg       1.00      1.00      1.00     10545\n",
            "\n"
          ]
        },
        {
          "output_type": "display_data",
          "data": {
            "text/plain": [
              "<Figure size 432x288 with 2 Axes>"
            ],
            "image/png": "[encoded data removed]"
          },
          "metadata": {
            "needs_background": "light"
          }
        }
      ]
    },
    {
      "cell_type": "markdown",
      "source": [
        "####Subconjunto Invierno"
      ],
      "metadata": {
        "id": "odc1sgaAQETp"
      },
      "id": "odc1sgaAQETp"
    },
    {
      "cell_type": "code",
      "source": [
        "etc = ETC(max_depth=None,random_state=22,n_jobs=4, criterion='gini')\n",
        "tree_etc = GridSearchCV(etc, params, scoring='accuracy', cv=5,n_jobs=4)\n",
        "tree_etc.fit(x_train3, y_train3)\n",
        "best_tree_etc = tree_etc.best_estimator_\n",
        "print('Best Decision etc accuracy: ', tree_etc.best_score_)\n",
        "print(best_tree_etc)"
      ],
      "metadata": {
        "colab": {
          "base_uri": "https://localhost:8080/"
        },
        "id": "uHfT1_aiQLA9",
        "outputId": "83d6985c-2308-47bb-f01a-9774b3b1f2d7"
      },
      "id": "uHfT1_aiQLA9",
      "execution_count": null,
      "outputs": [
        {
          "output_type": "stream",
          "name": "stdout",
          "text": [
            "Best Decision etc accuracy:  0.9738808559861191\n",
            "ExtraTreesClassifier(max_features=3, min_samples_split=186, n_estimators=20,\n",
            "                     n_jobs=4, random_state=22)\n",
            "time: 4min (started: 2022-09-18 16:48:49 +00:00)\n"
          ]
        }
      ]
    },
    {
      "cell_type": "code",
      "source": [
        "etc2 = ETC(max_depth=None,random_state=22,n_jobs=4, criterion='entropy')\n",
        "tree_etc2 = GridSearchCV(etc2, params, scoring='accuracy', cv=5,n_jobs=4)\n",
        "tree_etc2.fit(x_train3, y_train3)\n",
        "best_tree_etc2 = tree_etc2.best_estimator_\n",
        "print('Best Decision etc2 accuracy: ', tree_etc2.best_score_)\n",
        "print(best_tree_etc2)"
      ],
      "metadata": {
        "colab": {
          "base_uri": "https://localhost:8080/"
        },
        "id": "UbhZ0hqaQRF8",
        "outputId": "d8119cc7-d843-4f3b-dce3-c16289742481"
      },
      "id": "UbhZ0hqaQRF8",
      "execution_count": null,
      "outputs": [
        {
          "output_type": "stream",
          "name": "stdout",
          "text": [
            "Best Decision etc2 accuracy:  0.9739502602660497\n",
            "ExtraTreesClassifier(criterion='entropy', max_features=3, min_samples_split=186,\n",
            "                     n_estimators=20, n_jobs=4, random_state=22)\n",
            "time: 3min 59s (started: 2022-09-18 16:52:50 +00:00)\n"
          ]
        }
      ]
    },
    {
      "cell_type": "code",
      "source": [
        "Best_etc2= ETC(criterion='entropy', max_features=3,\n",
        "                     min_samples_split=186, n_estimators=20, n_jobs=4,\n",
        "                     random_state=22)\n",
        "\n",
        "Best_etc2.fit(x_train3, y_train3)\n",
        "print(\"Train dataset accuracy: %0.03f\" % Best_etc2.score(x_train3,y_train3))\n",
        "\n",
        "y_test_predt3 = Best_etc2.predict(x_test3)\n",
        "print(\"Test dataset accuracy: %0.03f\" % Best_etc2.score(x_test3,y_test3))\n",
        "print(\"****Reporte de clasificación sobre conjunto de evaluación (métricas)*****\") \n",
        "print(classification_report(y_test3, y_test_predt3)) \n",
        "plot_confusion_matrix(y_test3, y_test_predt3, classes=df_3win.clasif_.unique(),\n",
        "                        title=\"Matriz de confusión para función de coste entropy\");"
      ],
      "metadata": {
        "colab": {
          "base_uri": "https://localhost:8080/",
          "height": 515
        },
        "id": "zz8RLtMur1UT",
        "outputId": "dcd34f9e-be73-461f-a3d8-f0db9a348d5b"
      },
      "id": "zz8RLtMur1UT",
      "execution_count": 41,
      "outputs": [
        {
          "output_type": "stream",
          "name": "stdout",
          "text": [
            "Train dataset accuracy: 0.976\n",
            "Test dataset accuracy: 0.976\n",
            "****Reporte de clasificación sobre conjunto de evaluación (métricas)*****\n",
            "              precision    recall  f1-score   support\n",
            "\n",
            "           0       0.97      0.95      0.96      3314\n",
            "           1       0.98      0.99      0.98      7493\n",
            "\n",
            "    accuracy                           0.98     10807\n",
            "   macro avg       0.97      0.97      0.97     10807\n",
            "weighted avg       0.98      0.98      0.98     10807\n",
            "\n"
          ]
        },
        {
          "output_type": "display_data",
          "data": {
            "text/plain": [
              "<Figure size 432x288 with 2 Axes>"
            ],
            "image/png": "[encoded data removed]"
          },
          "metadata": {
            "needs_background": "light"
          }
        }
      ]
    },
    {
      "cell_type": "markdown",
      "source": [
        "####Subconjunto Primavera"
      ],
      "metadata": {
        "id": "euEOv1MRQYos"
      },
      "id": "euEOv1MRQYos"
    },
    {
      "cell_type": "code",
      "source": [
        "etc = ETC(max_depth=None,random_state=22,n_jobs=4, criterion='gini')\n",
        "tree_etc = GridSearchCV(etc, params, scoring='accuracy', cv=5,n_jobs=4)\n",
        "tree_etc.fit(x_train4, y_train4)\n",
        "best_tree_etc = tree_etc.best_estimator_\n",
        "print('Best Decision etc accuracy: ', tree_etc.best_score_)\n",
        "#print('Best Decision Tree accuracy: ', tree_etc.score(,y_test))\n",
        "print(best_tree_etc)"
      ],
      "metadata": {
        "colab": {
          "base_uri": "https://localhost:8080/"
        },
        "id": "KSYQPJ-xQhx9",
        "outputId": "b5c954e3-3d5d-4aec-fedc-bb57ee89af12"
      },
      "id": "KSYQPJ-xQhx9",
      "execution_count": null,
      "outputs": [
        {
          "output_type": "stream",
          "name": "stdout",
          "text": [
            "Best Decision etc accuracy:  0.3725191679321982\n",
            "ExtraTreesClassifier(max_features=2, min_samples_leaf=4, min_samples_split=188,\n",
            "                     n_estimators=17, n_jobs=4, random_state=22)\n",
            "time: 8min 43s (started: 2022-09-18 16:56:49 +00:00)\n"
          ]
        }
      ]
    },
    {
      "cell_type": "code",
      "source": [
        "etc2 = ETC(max_depth=None,random_state=22,n_jobs=4, criterion='entropy')\n",
        "tree_etc2 = GridSearchCV(etc2, params, scoring='accuracy', cv=5,n_jobs=4)\n",
        "tree_etc2.fit(x_train4, y_train4)\n",
        "best_tree_etc2 = tree_etc2.best_estimator_\n",
        "print('Best Decision etc2 accuracy: ', tree_etc2.best_score_)\n",
        "#print('Best Decision Tree accuracy: ', tree_etc.score(,y_test))\n",
        "print(best_tree_etc2)"
      ],
      "metadata": {
        "colab": {
          "base_uri": "https://localhost:8080/"
        },
        "id": "RC3q1Sm-Qnxr",
        "outputId": "b0c2d310-ce93-4760-cca3-d026ab266c1d"
      },
      "id": "RC3q1Sm-Qnxr",
      "execution_count": 47,
      "outputs": [
        {
          "output_type": "stream",
          "name": "stdout",
          "text": [
            "Best Decision etc2 accuracy:  0.3727110783737534\n",
            "ExtraTreesClassifier(criterion='entropy', max_features=2, min_samples_leaf=4,\n",
            "                     min_samples_split=188, n_estimators=16, n_jobs=4,\n",
            "                     random_state=22)\n"
          ]
        }
      ]
    },
    {
      "cell_type": "code",
      "source": [
        "Best_etc2= ETC(criterion='entropy', max_features=2,\n",
        "                     min_samples_split=186, n_estimators=18, n_jobs=4,\n",
        "                     random_state=22)\n",
        "\n",
        "Best_etc2.fit(x_train4, y_train4)\n",
        "print(\"Train dataset accuracy: %0.03f\" % Best_etc2.score(x_train4,y_train4))\n",
        "\n",
        "y_test_predt4 = Best_etc2.predict(x_test4)\n",
        "print(\"Test dataset accuracy: %0.03f\" % Best_etc2.score(x_test4,y_test4))\n",
        "print(\"****Reporte de clasificación sobre conjunto de evaluación (métricas)*****\") \n",
        "print(classification_report(y_test4, y_test_predt4)) \n",
        "plot_confusion_matrix(y_test4, y_test_predt4, classes=df_4spr.clasif_.unique(),\n",
        "                        title=\"Matriz de confusión para función de coste entropy\");"
      ],
      "metadata": {
        "colab": {
          "base_uri": "https://localhost:8080/",
          "height": 515
        },
        "id": "PsWTXbLHtk-i",
        "outputId": "0f5ae9a6-6b1e-4773-e0aa-e085112ea84a"
      },
      "id": "PsWTXbLHtk-i",
      "execution_count": 42,
      "outputs": [
        {
          "output_type": "stream",
          "name": "stdout",
          "text": [
            "Train dataset accuracy: 0.555\n",
            "Test dataset accuracy: 0.279\n",
            "****Reporte de clasificación sobre conjunto de evaluación (métricas)*****\n",
            "              precision    recall  f1-score   support\n",
            "\n",
            "           0       0.28      0.27      0.28      7854\n",
            "           1       0.28      0.28      0.28      7779\n",
            "\n",
            "    accuracy                           0.28     15633\n",
            "   macro avg       0.28      0.28      0.28     15633\n",
            "weighted avg       0.28      0.28      0.28     15633\n",
            "\n"
          ]
        },
        {
          "output_type": "display_data",
          "data": {
            "text/plain": [
              "<Figure size 432x288 with 2 Axes>"
            ],
            "image/png": "[encoded data removed]"
          },
          "metadata": {
            "needs_background": "light"
          }
        }
      ]
    },
    {
      "cell_type": "markdown",
      "source": [
        "###Modelo **XGBoost**: Obtenemos mejores parámetros para el subconjunto Primavera que presentó métricas muy bajas y para el subconjunto Otoño que presentó sobreajuste"
      ],
      "metadata": {
        "id": "pTmgAw9Pv2XV"
      },
      "id": "pTmgAw9Pv2XV"
    },
    {
      "cell_type": "code",
      "source": [
        "param_xg = { \n",
        "            'max_depth': (1,2,3,4,5,6,7,8,9,10), \n",
        "            'eta': (0.0003,0.003,0.03,0.3,3),\n",
        "            'objective': (\"binary:logistic\",\"reg:logistic\"),\n",
        "            'nthread':(2,3),\n",
        "             'n_estimators':(10,20,30)}"
      ],
      "metadata": {
        "id": "VQT3zZQ1xDVq"
      },
      "id": "VQT3zZQ1xDVq",
      "execution_count": 57,
      "outputs": []
    },
    {
      "cell_type": "code",
      "source": [
        "#Subconjunto Primavera\n",
        "xgb = XGBClassifier(random_state=22)\n",
        "grid_xgb = GridSearchCV(xgb, param_xg, scoring='accuracy')\n",
        "grid_xgb.fit(x_train4, y_train4)\n",
        "best_xgb = grid_xgb.best_estimator_\n",
        "print('Best Decision xgb accuracy: ', grid_xgb.best_score_)\n",
        "print(best_xgb)"
      ],
      "metadata": {
        "colab": {
          "base_uri": "https://localhost:8080/",
          "height": 413
        },
        "id": "4g-br282z6NI",
        "outputId": "647b6566-bf87-48b4-b149-670bc46931f2"
      },
      "id": "4g-br282z6NI",
      "execution_count": 87,
      "outputs": [
        {
          "output_type": "error",
          "ename": "KeyboardInterrupt",
          "evalue": "ignored",
          "traceback": [
            "\u001b[0;31m---------------------------------------------------------------------------\u001b[0m",
            "\u001b[0;31mKeyboardInterrupt\u001b[0m                         Traceback (most recent call last)",
            "\u001b[0;32m<ipython-input-87-a26ce7197fb4>\u001b[0m in \u001b[0;36m<module>\u001b[0;34m\u001b[0m\n\u001b[1;32m      2\u001b[0m \u001b[0mxgb\u001b[0m \u001b[0;34m=\u001b[0m \u001b[0mXGBClassifier\u001b[0m\u001b[0;34m(\u001b[0m\u001b[0mrandom_state\u001b[0m\u001b[0;34m=\u001b[0m\u001b[0;36m22\u001b[0m\u001b[0;34m)\u001b[0m\u001b[0;34m\u001b[0m\u001b[0;34m\u001b[0m\u001b[0m\n\u001b[1;32m      3\u001b[0m \u001b[0mgrid_xgb\u001b[0m \u001b[0;34m=\u001b[0m \u001b[0mGridSearchCV\u001b[0m\u001b[0;34m(\u001b[0m\u001b[0mxgb\u001b[0m\u001b[0;34m,\u001b[0m \u001b[0mparam_xg\u001b[0m\u001b[0;34m,\u001b[0m \u001b[0mscoring\u001b[0m\u001b[0;34m=\u001b[0m\u001b[0;34m'accuracy'\u001b[0m\u001b[0;34m)\u001b[0m\u001b[0;34m\u001b[0m\u001b[0;34m\u001b[0m\u001b[0m\n\u001b[0;32m----> 4\u001b[0;31m \u001b[0mgrid_xgb\u001b[0m\u001b[0;34m.\u001b[0m\u001b[0mfit\u001b[0m\u001b[0;34m(\u001b[0m\u001b[0mx_train4\u001b[0m\u001b[0;34m,\u001b[0m \u001b[0my_train4\u001b[0m\u001b[0;34m)\u001b[0m\u001b[0;34m\u001b[0m\u001b[0;34m\u001b[0m\u001b[0m\n\u001b[0m\u001b[1;32m      5\u001b[0m \u001b[0mbest_xgb\u001b[0m \u001b[0;34m=\u001b[0m \u001b[0mgrid_xgb\u001b[0m\u001b[0;34m.\u001b[0m\u001b[0mbest_estimator_\u001b[0m\u001b[0;34m\u001b[0m\u001b[0;34m\u001b[0m\u001b[0m\n\u001b[1;32m      6\u001b[0m \u001b[0mprint\u001b[0m\u001b[0;34m(\u001b[0m\u001b[0;34m'Best Decision xgb accuracy: '\u001b[0m\u001b[0;34m,\u001b[0m \u001b[0mgrid_xgb\u001b[0m\u001b[0;34m.\u001b[0m\u001b[0mbest_score_\u001b[0m\u001b[0;34m)\u001b[0m\u001b[0;34m\u001b[0m\u001b[0;34m\u001b[0m\u001b[0m\n",
            "\u001b[0;32m/usr/local/lib/python3.7/dist-packages/sklearn/model_selection/_search.py\u001b[0m in \u001b[0;36mfit\u001b[0;34m(self, X, y, groups, **fit_params)\u001b[0m\n\u001b[1;32m    889\u001b[0m                 \u001b[0;32mreturn\u001b[0m \u001b[0mresults\u001b[0m\u001b[0;34m\u001b[0m\u001b[0;34m\u001b[0m\u001b[0m\n\u001b[1;32m    890\u001b[0m \u001b[0;34m\u001b[0m\u001b[0m\n\u001b[0;32m--> 891\u001b[0;31m             \u001b[0mself\u001b[0m\u001b[0;34m.\u001b[0m\u001b[0m_run_search\u001b[0m\u001b[0;34m(\u001b[0m\u001b[0mevaluate_candidates\u001b[0m\u001b[0;34m)\u001b[0m\u001b[0;34m\u001b[0m\u001b[0;34m\u001b[0m\u001b[0m\n\u001b[0m\u001b[1;32m    892\u001b[0m \u001b[0;34m\u001b[0m\u001b[0m\n\u001b[1;32m    893\u001b[0m             \u001b[0;31m# multimetric is determined here because in the case of a callable\u001b[0m\u001b[0;34m\u001b[0m\u001b[0;34m\u001b[0m\u001b[0;34m\u001b[0m\u001b[0m\n",
            "\u001b[0;32m/usr/local/lib/python3.7/dist-packages/sklearn/model_selection/_search.py\u001b[0m in \u001b[0;36m_run_search\u001b[0;34m(self, evaluate_candidates)\u001b[0m\n\u001b[1;32m   1390\u001b[0m     \u001b[0;32mdef\u001b[0m \u001b[0m_run_search\u001b[0m\u001b[0;34m(\u001b[0m\u001b[0mself\u001b[0m\u001b[0;34m,\u001b[0m \u001b[0mevaluate_candidates\u001b[0m\u001b[0;34m)\u001b[0m\u001b[0;34m:\u001b[0m\u001b[0;34m\u001b[0m\u001b[0;34m\u001b[0m\u001b[0m\n\u001b[1;32m   1391\u001b[0m         \u001b[0;34m\"\"\"Search all candidates in param_grid\"\"\"\u001b[0m\u001b[0;34m\u001b[0m\u001b[0;34m\u001b[0m\u001b[0m\n\u001b[0;32m-> 1392\u001b[0;31m         \u001b[0mevaluate_candidates\u001b[0m\u001b[0;34m(\u001b[0m\u001b[0mParameterGrid\u001b[0m\u001b[0;34m(\u001b[0m\u001b[0mself\u001b[0m\u001b[0;34m.\u001b[0m\u001b[0mparam_grid\u001b[0m\u001b[0;34m)\u001b[0m\u001b[0;34m)\u001b[0m\u001b[0;34m\u001b[0m\u001b[0;34m\u001b[0m\u001b[0m\n\u001b[0m\u001b[1;32m   1393\u001b[0m \u001b[0;34m\u001b[0m\u001b[0m\n\u001b[1;32m   1394\u001b[0m \u001b[0;34m\u001b[0m\u001b[0m\n",
            "\u001b[0;32m/usr/local/lib/python3.7/dist-packages/sklearn/model_selection/_search.py\u001b[0m in \u001b[0;36mevaluate_candidates\u001b[0;34m(candidate_params, cv, more_results)\u001b[0m\n\u001b[1;32m    849\u001b[0m                     )\n\u001b[1;32m    850\u001b[0m                     for (cand_idx, parameters), (split_idx, (train, test)) in product(\n\u001b[0;32m--> 851\u001b[0;31m                         \u001b[0menumerate\u001b[0m\u001b[0;34m(\u001b[0m\u001b[0mcandidate_params\u001b[0m\u001b[0;34m)\u001b[0m\u001b[0;34m,\u001b[0m \u001b[0menumerate\u001b[0m\u001b[0;34m(\u001b[0m\u001b[0mcv\u001b[0m\u001b[0;34m.\u001b[0m\u001b[0msplit\u001b[0m\u001b[0;34m(\u001b[0m\u001b[0mX\u001b[0m\u001b[0;34m,\u001b[0m \u001b[0my\u001b[0m\u001b[0;34m,\u001b[0m \u001b[0mgroups\u001b[0m\u001b[0;34m)\u001b[0m\u001b[0;34m)\u001b[0m\u001b[0;34m\u001b[0m\u001b[0;34m\u001b[0m\u001b[0m\n\u001b[0m\u001b[1;32m    852\u001b[0m                     )\n\u001b[1;32m    853\u001b[0m                 )\n",
            "\u001b[0;32m/usr/local/lib/python3.7/dist-packages/joblib/parallel.py\u001b[0m in \u001b[0;36m__call__\u001b[0;34m(self, iterable)\u001b[0m\n\u001b[1;32m   1044\u001b[0m                 \u001b[0mself\u001b[0m\u001b[0;34m.\u001b[0m\u001b[0m_iterating\u001b[0m \u001b[0;34m=\u001b[0m \u001b[0mself\u001b[0m\u001b[0;34m.\u001b[0m\u001b[0m_original_iterator\u001b[0m \u001b[0;32mis\u001b[0m \u001b[0;32mnot\u001b[0m \u001b[0;32mNone\u001b[0m\u001b[0;34m\u001b[0m\u001b[0;34m\u001b[0m\u001b[0m\n\u001b[1;32m   1045\u001b[0m \u001b[0;34m\u001b[0m\u001b[0m\n\u001b[0;32m-> 1046\u001b[0;31m             \u001b[0;32mwhile\u001b[0m \u001b[0mself\u001b[0m\u001b[0;34m.\u001b[0m\u001b[0mdispatch_one_batch\u001b[0m\u001b[0;34m(\u001b[0m\u001b[0miterator\u001b[0m\u001b[0;34m)\u001b[0m\u001b[0;34m:\u001b[0m\u001b[0;34m\u001b[0m\u001b[0;34m\u001b[0m\u001b[0m\n\u001b[0m\u001b[1;32m   1047\u001b[0m                 \u001b[0;32mpass\u001b[0m\u001b[0;34m\u001b[0m\u001b[0;34m\u001b[0m\u001b[0m\n\u001b[1;32m   1048\u001b[0m \u001b[0;34m\u001b[0m\u001b[0m\n",
            "\u001b[0;32m/usr/local/lib/python3.7/dist-packages/joblib/parallel.py\u001b[0m in \u001b[0;36mdispatch_one_batch\u001b[0;34m(self, iterator)\u001b[0m\n\u001b[1;32m    859\u001b[0m                 \u001b[0;32mreturn\u001b[0m \u001b[0;32mFalse\u001b[0m\u001b[0;34m\u001b[0m\u001b[0;34m\u001b[0m\u001b[0m\n\u001b[1;32m    860\u001b[0m             \u001b[0;32melse\u001b[0m\u001b[0;34m:\u001b[0m\u001b[0;34m\u001b[0m\u001b[0;34m\u001b[0m\u001b[0m\n\u001b[0;32m--> 861\u001b[0;31m                 \u001b[0mself\u001b[0m\u001b[0;34m.\u001b[0m\u001b[0m_dispatch\u001b[0m\u001b[0;34m(\u001b[0m\u001b[0mtasks\u001b[0m\u001b[0;34m)\u001b[0m\u001b[0;34m\u001b[0m\u001b[0;34m\u001b[0m\u001b[0m\n\u001b[0m\u001b[1;32m    862\u001b[0m                 \u001b[0;32mreturn\u001b[0m \u001b[0;32mTrue\u001b[0m\u001b[0;34m\u001b[0m\u001b[0;34m\u001b[0m\u001b[0m\n\u001b[1;32m    863\u001b[0m \u001b[0;34m\u001b[0m\u001b[0m\n",
            "\u001b[0;32m/usr/local/lib/python3.7/dist-packages/joblib/parallel.py\u001b[0m in \u001b[0;36m_dispatch\u001b[0;34m(self, batch)\u001b[0m\n\u001b[1;32m    777\u001b[0m         \u001b[0;32mwith\u001b[0m \u001b[0mself\u001b[0m\u001b[0;34m.\u001b[0m\u001b[0m_lock\u001b[0m\u001b[0;34m:\u001b[0m\u001b[0;34m\u001b[0m\u001b[0;34m\u001b[0m\u001b[0m\n\u001b[1;32m    778\u001b[0m             \u001b[0mjob_idx\u001b[0m \u001b[0;34m=\u001b[0m \u001b[0mlen\u001b[0m\u001b[0;34m(\u001b[0m\u001b[0mself\u001b[0m\u001b[0;34m.\u001b[0m\u001b[0m_jobs\u001b[0m\u001b[0;34m)\u001b[0m\u001b[0;34m\u001b[0m\u001b[0;34m\u001b[0m\u001b[0m\n\u001b[0;32m--> 779\u001b[0;31m             \u001b[0mjob\u001b[0m \u001b[0;34m=\u001b[0m \u001b[0mself\u001b[0m\u001b[0;34m.\u001b[0m\u001b[0m_backend\u001b[0m\u001b[0;34m.\u001b[0m\u001b[0mapply_async\u001b[0m\u001b[0;34m(\u001b[0m\u001b[0mbatch\u001b[0m\u001b[0;34m,\u001b[0m \u001b[0mcallback\u001b[0m\u001b[0;34m=\u001b[0m\u001b[0mcb\u001b[0m\u001b[0;34m)\u001b[0m\u001b[0;34m\u001b[0m\u001b[0;34m\u001b[0m\u001b[0m\n\u001b[0m\u001b[1;32m    780\u001b[0m             \u001b[0;31m# A job can complete so quickly than its callback is\u001b[0m\u001b[0;34m\u001b[0m\u001b[0;34m\u001b[0m\u001b[0;34m\u001b[0m\u001b[0m\n\u001b[1;32m    781\u001b[0m             \u001b[0;31m# called before we get here, causing self._jobs to\u001b[0m\u001b[0;34m\u001b[0m\u001b[0;34m\u001b[0m\u001b[0;34m\u001b[0m\u001b[0m\n",
            "\u001b[0;32m/usr/local/lib/python3.7/dist-packages/joblib/_parallel_backends.py\u001b[0m in \u001b[0;36mapply_async\u001b[0;34m(self, func, callback)\u001b[0m\n\u001b[1;32m    206\u001b[0m     \u001b[0;32mdef\u001b[0m \u001b[0mapply_async\u001b[0m\u001b[0;34m(\u001b[0m\u001b[0mself\u001b[0m\u001b[0;34m,\u001b[0m \u001b[0mfunc\u001b[0m\u001b[0;34m,\u001b[0m \u001b[0mcallback\u001b[0m\u001b[0;34m=\u001b[0m\u001b[0;32mNone\u001b[0m\u001b[0;34m)\u001b[0m\u001b[0;34m:\u001b[0m\u001b[0;34m\u001b[0m\u001b[0;34m\u001b[0m\u001b[0m\n\u001b[1;32m    207\u001b[0m         \u001b[0;34m\"\"\"Schedule a func to be run\"\"\"\u001b[0m\u001b[0;34m\u001b[0m\u001b[0;34m\u001b[0m\u001b[0m\n\u001b[0;32m--> 208\u001b[0;31m         \u001b[0mresult\u001b[0m \u001b[0;34m=\u001b[0m \u001b[0mImmediateResult\u001b[0m\u001b[0;34m(\u001b[0m\u001b[0mfunc\u001b[0m\u001b[0;34m)\u001b[0m\u001b[0;34m\u001b[0m\u001b[0;34m\u001b[0m\u001b[0m\n\u001b[0m\u001b[1;32m    209\u001b[0m         \u001b[0;32mif\u001b[0m \u001b[0mcallback\u001b[0m\u001b[0;34m:\u001b[0m\u001b[0;34m\u001b[0m\u001b[0;34m\u001b[0m\u001b[0m\n\u001b[1;32m    210\u001b[0m             \u001b[0mcallback\u001b[0m\u001b[0;34m(\u001b[0m\u001b[0mresult\u001b[0m\u001b[0;34m)\u001b[0m\u001b[0;34m\u001b[0m\u001b[0;34m\u001b[0m\u001b[0m\n",
            "\u001b[0;32m/usr/local/lib/python3.7/dist-packages/joblib/_parallel_backends.py\u001b[0m in \u001b[0;36m__init__\u001b[0;34m(self, batch)\u001b[0m\n\u001b[1;32m    570\u001b[0m         \u001b[0;31m# Don't delay the application, to avoid keeping the input\u001b[0m\u001b[0;34m\u001b[0m\u001b[0;34m\u001b[0m\u001b[0;34m\u001b[0m\u001b[0m\n\u001b[1;32m    571\u001b[0m         \u001b[0;31m# arguments in memory\u001b[0m\u001b[0;34m\u001b[0m\u001b[0;34m\u001b[0m\u001b[0;34m\u001b[0m\u001b[0m\n\u001b[0;32m--> 572\u001b[0;31m         \u001b[0mself\u001b[0m\u001b[0;34m.\u001b[0m\u001b[0mresults\u001b[0m \u001b[0;34m=\u001b[0m \u001b[0mbatch\u001b[0m\u001b[0;34m(\u001b[0m\u001b[0;34m)\u001b[0m\u001b[0;34m\u001b[0m\u001b[0;34m\u001b[0m\u001b[0m\n\u001b[0m\u001b[1;32m    573\u001b[0m \u001b[0;34m\u001b[0m\u001b[0m\n\u001b[1;32m    574\u001b[0m     \u001b[0;32mdef\u001b[0m \u001b[0mget\u001b[0m\u001b[0;34m(\u001b[0m\u001b[0mself\u001b[0m\u001b[0;34m)\u001b[0m\u001b[0;34m:\u001b[0m\u001b[0;34m\u001b[0m\u001b[0;34m\u001b[0m\u001b[0m\n",
            "\u001b[0;32m/usr/local/lib/python3.7/dist-packages/joblib/parallel.py\u001b[0m in \u001b[0;36m__call__\u001b[0;34m(self)\u001b[0m\n\u001b[1;32m    261\u001b[0m         \u001b[0;32mwith\u001b[0m \u001b[0mparallel_backend\u001b[0m\u001b[0;34m(\u001b[0m\u001b[0mself\u001b[0m\u001b[0;34m.\u001b[0m\u001b[0m_backend\u001b[0m\u001b[0;34m,\u001b[0m \u001b[0mn_jobs\u001b[0m\u001b[0;34m=\u001b[0m\u001b[0mself\u001b[0m\u001b[0;34m.\u001b[0m\u001b[0m_n_jobs\u001b[0m\u001b[0;34m)\u001b[0m\u001b[0;34m:\u001b[0m\u001b[0;34m\u001b[0m\u001b[0;34m\u001b[0m\u001b[0m\n\u001b[1;32m    262\u001b[0m             return [func(*args, **kwargs)\n\u001b[0;32m--> 263\u001b[0;31m                     for func, args, kwargs in self.items]\n\u001b[0m\u001b[1;32m    264\u001b[0m \u001b[0;34m\u001b[0m\u001b[0m\n\u001b[1;32m    265\u001b[0m     \u001b[0;32mdef\u001b[0m \u001b[0m__reduce__\u001b[0m\u001b[0;34m(\u001b[0m\u001b[0mself\u001b[0m\u001b[0;34m)\u001b[0m\u001b[0;34m:\u001b[0m\u001b[0;34m\u001b[0m\u001b[0;34m\u001b[0m\u001b[0m\n",
            "\u001b[0;32m/usr/local/lib/python3.7/dist-packages/joblib/parallel.py\u001b[0m in \u001b[0;36m<listcomp>\u001b[0;34m(.0)\u001b[0m\n\u001b[1;32m    261\u001b[0m         \u001b[0;32mwith\u001b[0m \u001b[0mparallel_backend\u001b[0m\u001b[0;34m(\u001b[0m\u001b[0mself\u001b[0m\u001b[0;34m.\u001b[0m\u001b[0m_backend\u001b[0m\u001b[0;34m,\u001b[0m \u001b[0mn_jobs\u001b[0m\u001b[0;34m=\u001b[0m\u001b[0mself\u001b[0m\u001b[0;34m.\u001b[0m\u001b[0m_n_jobs\u001b[0m\u001b[0;34m)\u001b[0m\u001b[0;34m:\u001b[0m\u001b[0;34m\u001b[0m\u001b[0;34m\u001b[0m\u001b[0m\n\u001b[1;32m    262\u001b[0m             return [func(*args, **kwargs)\n\u001b[0;32m--> 263\u001b[0;31m                     for func, args, kwargs in self.items]\n\u001b[0m\u001b[1;32m    264\u001b[0m \u001b[0;34m\u001b[0m\u001b[0m\n\u001b[1;32m    265\u001b[0m     \u001b[0;32mdef\u001b[0m \u001b[0m__reduce__\u001b[0m\u001b[0;34m(\u001b[0m\u001b[0mself\u001b[0m\u001b[0;34m)\u001b[0m\u001b[0;34m:\u001b[0m\u001b[0;34m\u001b[0m\u001b[0;34m\u001b[0m\u001b[0m\n",
            "\u001b[0;32m/usr/local/lib/python3.7/dist-packages/sklearn/utils/fixes.py\u001b[0m in \u001b[0;36m__call__\u001b[0;34m(self, *args, **kwargs)\u001b[0m\n\u001b[1;32m    214\u001b[0m     \u001b[0;32mdef\u001b[0m \u001b[0m__call__\u001b[0m\u001b[0;34m(\u001b[0m\u001b[0mself\u001b[0m\u001b[0;34m,\u001b[0m \u001b[0;34m*\u001b[0m\u001b[0margs\u001b[0m\u001b[0;34m,\u001b[0m \u001b[0;34m**\u001b[0m\u001b[0mkwargs\u001b[0m\u001b[0;34m)\u001b[0m\u001b[0;34m:\u001b[0m\u001b[0;34m\u001b[0m\u001b[0;34m\u001b[0m\u001b[0m\n\u001b[1;32m    215\u001b[0m         \u001b[0;32mwith\u001b[0m \u001b[0mconfig_context\u001b[0m\u001b[0;34m(\u001b[0m\u001b[0;34m**\u001b[0m\u001b[0mself\u001b[0m\u001b[0;34m.\u001b[0m\u001b[0mconfig\u001b[0m\u001b[0;34m)\u001b[0m\u001b[0;34m:\u001b[0m\u001b[0;34m\u001b[0m\u001b[0;34m\u001b[0m\u001b[0m\n\u001b[0;32m--> 216\u001b[0;31m             \u001b[0;32mreturn\u001b[0m \u001b[0mself\u001b[0m\u001b[0;34m.\u001b[0m\u001b[0mfunction\u001b[0m\u001b[0;34m(\u001b[0m\u001b[0;34m*\u001b[0m\u001b[0margs\u001b[0m\u001b[0;34m,\u001b[0m \u001b[0;34m**\u001b[0m\u001b[0mkwargs\u001b[0m\u001b[0;34m)\u001b[0m\u001b[0;34m\u001b[0m\u001b[0;34m\u001b[0m\u001b[0m\n\u001b[0m\u001b[1;32m    217\u001b[0m \u001b[0;34m\u001b[0m\u001b[0m\n\u001b[1;32m    218\u001b[0m \u001b[0;34m\u001b[0m\u001b[0m\n",
            "\u001b[0;32m/usr/local/lib/python3.7/dist-packages/sklearn/model_selection/_validation.py\u001b[0m in \u001b[0;36m_fit_and_score\u001b[0;34m(estimator, X, y, scorer, train, test, verbose, parameters, fit_params, return_train_score, return_parameters, return_n_test_samples, return_times, return_estimator, split_progress, candidate_progress, error_score)\u001b[0m\n\u001b[1;32m    700\u001b[0m \u001b[0;34m\u001b[0m\u001b[0m\n\u001b[1;32m    701\u001b[0m         \u001b[0mfit_time\u001b[0m \u001b[0;34m=\u001b[0m \u001b[0mtime\u001b[0m\u001b[0;34m.\u001b[0m\u001b[0mtime\u001b[0m\u001b[0;34m(\u001b[0m\u001b[0;34m)\u001b[0m \u001b[0;34m-\u001b[0m \u001b[0mstart_time\u001b[0m\u001b[0;34m\u001b[0m\u001b[0;34m\u001b[0m\u001b[0m\n\u001b[0;32m--> 702\u001b[0;31m         \u001b[0mtest_scores\u001b[0m \u001b[0;34m=\u001b[0m \u001b[0m_score\u001b[0m\u001b[0;34m(\u001b[0m\u001b[0mestimator\u001b[0m\u001b[0;34m,\u001b[0m \u001b[0mX_test\u001b[0m\u001b[0;34m,\u001b[0m \u001b[0my_test\u001b[0m\u001b[0;34m,\u001b[0m \u001b[0mscorer\u001b[0m\u001b[0;34m,\u001b[0m \u001b[0merror_score\u001b[0m\u001b[0;34m)\u001b[0m\u001b[0;34m\u001b[0m\u001b[0;34m\u001b[0m\u001b[0m\n\u001b[0m\u001b[1;32m    703\u001b[0m         \u001b[0mscore_time\u001b[0m \u001b[0;34m=\u001b[0m \u001b[0mtime\u001b[0m\u001b[0;34m.\u001b[0m\u001b[0mtime\u001b[0m\u001b[0;34m(\u001b[0m\u001b[0;34m)\u001b[0m \u001b[0;34m-\u001b[0m \u001b[0mstart_time\u001b[0m \u001b[0;34m-\u001b[0m \u001b[0mfit_time\u001b[0m\u001b[0;34m\u001b[0m\u001b[0;34m\u001b[0m\u001b[0m\n\u001b[1;32m    704\u001b[0m         \u001b[0;32mif\u001b[0m \u001b[0mreturn_train_score\u001b[0m\u001b[0;34m:\u001b[0m\u001b[0;34m\u001b[0m\u001b[0;34m\u001b[0m\u001b[0m\n",
            "\u001b[0;32m/usr/local/lib/python3.7/dist-packages/sklearn/model_selection/_validation.py\u001b[0m in \u001b[0;36m_score\u001b[0;34m(estimator, X_test, y_test, scorer, error_score)\u001b[0m\n\u001b[1;32m    759\u001b[0m             \u001b[0mscores\u001b[0m \u001b[0;34m=\u001b[0m \u001b[0mscorer\u001b[0m\u001b[0;34m(\u001b[0m\u001b[0mestimator\u001b[0m\u001b[0;34m,\u001b[0m \u001b[0mX_test\u001b[0m\u001b[0;34m)\u001b[0m\u001b[0;34m\u001b[0m\u001b[0;34m\u001b[0m\u001b[0m\n\u001b[1;32m    760\u001b[0m         \u001b[0;32melse\u001b[0m\u001b[0;34m:\u001b[0m\u001b[0;34m\u001b[0m\u001b[0;34m\u001b[0m\u001b[0m\n\u001b[0;32m--> 761\u001b[0;31m             \u001b[0mscores\u001b[0m \u001b[0;34m=\u001b[0m \u001b[0mscorer\u001b[0m\u001b[0;34m(\u001b[0m\u001b[0mestimator\u001b[0m\u001b[0;34m,\u001b[0m \u001b[0mX_test\u001b[0m\u001b[0;34m,\u001b[0m \u001b[0my_test\u001b[0m\u001b[0;34m)\u001b[0m\u001b[0;34m\u001b[0m\u001b[0;34m\u001b[0m\u001b[0m\n\u001b[0m\u001b[1;32m    762\u001b[0m     \u001b[0;32mexcept\u001b[0m \u001b[0mException\u001b[0m\u001b[0;34m:\u001b[0m\u001b[0;34m\u001b[0m\u001b[0;34m\u001b[0m\u001b[0m\n\u001b[1;32m    763\u001b[0m         \u001b[0;32mif\u001b[0m \u001b[0merror_score\u001b[0m \u001b[0;34m==\u001b[0m \u001b[0;34m\"raise\"\u001b[0m\u001b[0;34m:\u001b[0m\u001b[0;34m\u001b[0m\u001b[0;34m\u001b[0m\u001b[0m\n",
            "\u001b[0;32m/usr/local/lib/python3.7/dist-packages/sklearn/metrics/_scorer.py\u001b[0m in \u001b[0;36m__call__\u001b[0;34m(self, estimator, X, y_true, sample_weight)\u001b[0m\n\u001b[1;32m    219\u001b[0m             \u001b[0mX\u001b[0m\u001b[0;34m,\u001b[0m\u001b[0;34m\u001b[0m\u001b[0;34m\u001b[0m\u001b[0m\n\u001b[1;32m    220\u001b[0m             \u001b[0my_true\u001b[0m\u001b[0;34m,\u001b[0m\u001b[0;34m\u001b[0m\u001b[0;34m\u001b[0m\u001b[0m\n\u001b[0;32m--> 221\u001b[0;31m             \u001b[0msample_weight\u001b[0m\u001b[0;34m=\u001b[0m\u001b[0msample_weight\u001b[0m\u001b[0;34m,\u001b[0m\u001b[0;34m\u001b[0m\u001b[0;34m\u001b[0m\u001b[0m\n\u001b[0m\u001b[1;32m    222\u001b[0m         )\n\u001b[1;32m    223\u001b[0m \u001b[0;34m\u001b[0m\u001b[0m\n",
            "\u001b[0;32m/usr/local/lib/python3.7/dist-packages/sklearn/metrics/_scorer.py\u001b[0m in \u001b[0;36m_score\u001b[0;34m(self, method_caller, estimator, X, y_true, sample_weight)\u001b[0m\n\u001b[1;32m    256\u001b[0m         \"\"\"\n\u001b[1;32m    257\u001b[0m \u001b[0;34m\u001b[0m\u001b[0m\n\u001b[0;32m--> 258\u001b[0;31m         \u001b[0my_pred\u001b[0m \u001b[0;34m=\u001b[0m \u001b[0mmethod_caller\u001b[0m\u001b[0;34m(\u001b[0m\u001b[0mestimator\u001b[0m\u001b[0;34m,\u001b[0m \u001b[0;34m\"predict\"\u001b[0m\u001b[0;34m,\u001b[0m \u001b[0mX\u001b[0m\u001b[0;34m)\u001b[0m\u001b[0;34m\u001b[0m\u001b[0;34m\u001b[0m\u001b[0m\n\u001b[0m\u001b[1;32m    259\u001b[0m         \u001b[0;32mif\u001b[0m \u001b[0msample_weight\u001b[0m \u001b[0;32mis\u001b[0m \u001b[0;32mnot\u001b[0m \u001b[0;32mNone\u001b[0m\u001b[0;34m:\u001b[0m\u001b[0;34m\u001b[0m\u001b[0;34m\u001b[0m\u001b[0m\n\u001b[1;32m    260\u001b[0m             return self._sign * self._score_func(\n",
            "\u001b[0;32m/usr/local/lib/python3.7/dist-packages/sklearn/metrics/_scorer.py\u001b[0m in \u001b[0;36m_cached_call\u001b[0;34m(cache, estimator, method, *args, **kwargs)\u001b[0m\n\u001b[1;32m     66\u001b[0m     \u001b[0;34m\"\"\"Call estimator with method and args and kwargs.\"\"\"\u001b[0m\u001b[0;34m\u001b[0m\u001b[0;34m\u001b[0m\u001b[0m\n\u001b[1;32m     67\u001b[0m     \u001b[0;32mif\u001b[0m \u001b[0mcache\u001b[0m \u001b[0;32mis\u001b[0m \u001b[0;32mNone\u001b[0m\u001b[0;34m:\u001b[0m\u001b[0;34m\u001b[0m\u001b[0;34m\u001b[0m\u001b[0m\n\u001b[0;32m---> 68\u001b[0;31m         \u001b[0;32mreturn\u001b[0m \u001b[0mgetattr\u001b[0m\u001b[0;34m(\u001b[0m\u001b[0mestimator\u001b[0m\u001b[0;34m,\u001b[0m \u001b[0mmethod\u001b[0m\u001b[0;34m)\u001b[0m\u001b[0;34m(\u001b[0m\u001b[0;34m*\u001b[0m\u001b[0margs\u001b[0m\u001b[0;34m,\u001b[0m \u001b[0;34m**\u001b[0m\u001b[0mkwargs\u001b[0m\u001b[0;34m)\u001b[0m\u001b[0;34m\u001b[0m\u001b[0;34m\u001b[0m\u001b[0m\n\u001b[0m\u001b[1;32m     69\u001b[0m \u001b[0;34m\u001b[0m\u001b[0m\n\u001b[1;32m     70\u001b[0m     \u001b[0;32mtry\u001b[0m\u001b[0;34m:\u001b[0m\u001b[0;34m\u001b[0m\u001b[0;34m\u001b[0m\u001b[0m\n",
            "\u001b[0;32m/usr/local/lib/python3.7/dist-packages/xgboost/sklearn.py\u001b[0m in \u001b[0;36mpredict\u001b[0;34m(self, data, output_margin, ntree_limit, validate_features)\u001b[0m\n\u001b[1;32m    789\u001b[0m                                                  \u001b[0moutput_margin\u001b[0m\u001b[0;34m=\u001b[0m\u001b[0moutput_margin\u001b[0m\u001b[0;34m,\u001b[0m\u001b[0;34m\u001b[0m\u001b[0;34m\u001b[0m\u001b[0m\n\u001b[1;32m    790\u001b[0m                                                  \u001b[0mntree_limit\u001b[0m\u001b[0;34m=\u001b[0m\u001b[0mntree_limit\u001b[0m\u001b[0;34m,\u001b[0m\u001b[0;34m\u001b[0m\u001b[0;34m\u001b[0m\u001b[0m\n\u001b[0;32m--> 791\u001b[0;31m                                                  validate_features=validate_features)\n\u001b[0m\u001b[1;32m    792\u001b[0m         \u001b[0;32mif\u001b[0m \u001b[0moutput_margin\u001b[0m\u001b[0;34m:\u001b[0m\u001b[0;34m\u001b[0m\u001b[0;34m\u001b[0m\u001b[0m\n\u001b[1;32m    793\u001b[0m             \u001b[0;31m# If output_margin is active, simply return the scores\u001b[0m\u001b[0;34m\u001b[0m\u001b[0;34m\u001b[0m\u001b[0;34m\u001b[0m\u001b[0m\n",
            "\u001b[0;32m/usr/local/lib/python3.7/dist-packages/xgboost/core.py\u001b[0m in \u001b[0;36mpredict\u001b[0;34m(self, data, output_margin, ntree_limit, pred_leaf, pred_contribs, approx_contribs, pred_interactions, validate_features)\u001b[0m\n\u001b[1;32m   1290\u001b[0m                                           \u001b[0mctypes\u001b[0m\u001b[0;34m.\u001b[0m\u001b[0mc_uint\u001b[0m\u001b[0;34m(\u001b[0m\u001b[0mntree_limit\u001b[0m\u001b[0;34m)\u001b[0m\u001b[0;34m,\u001b[0m\u001b[0;34m\u001b[0m\u001b[0;34m\u001b[0m\u001b[0m\n\u001b[1;32m   1291\u001b[0m                                           \u001b[0mctypes\u001b[0m\u001b[0;34m.\u001b[0m\u001b[0mbyref\u001b[0m\u001b[0;34m(\u001b[0m\u001b[0mlength\u001b[0m\u001b[0;34m)\u001b[0m\u001b[0;34m,\u001b[0m\u001b[0;34m\u001b[0m\u001b[0;34m\u001b[0m\u001b[0m\n\u001b[0;32m-> 1292\u001b[0;31m                                           ctypes.byref(preds)))\n\u001b[0m\u001b[1;32m   1293\u001b[0m         \u001b[0mpreds\u001b[0m \u001b[0;34m=\u001b[0m \u001b[0mctypes2numpy\u001b[0m\u001b[0;34m(\u001b[0m\u001b[0mpreds\u001b[0m\u001b[0;34m,\u001b[0m \u001b[0mlength\u001b[0m\u001b[0;34m.\u001b[0m\u001b[0mvalue\u001b[0m\u001b[0;34m,\u001b[0m \u001b[0mnp\u001b[0m\u001b[0;34m.\u001b[0m\u001b[0mfloat32\u001b[0m\u001b[0;34m)\u001b[0m\u001b[0;34m\u001b[0m\u001b[0;34m\u001b[0m\u001b[0m\n\u001b[1;32m   1294\u001b[0m         \u001b[0;32mif\u001b[0m \u001b[0mpred_leaf\u001b[0m\u001b[0;34m:\u001b[0m\u001b[0;34m\u001b[0m\u001b[0;34m\u001b[0m\u001b[0m\n",
            "\u001b[0;31mKeyboardInterrupt\u001b[0m: "
          ]
        }
      ]
    },
    {
      "cell_type": "code",
      "source": [
        "Best_xgb= XGBClassifier(max_depth=4,objective=\"reg:logistic\",eta=0.03,\n",
        "                     nthread=2, n_estimators=20,\n",
        "                     random_state=22)\n",
        "\n",
        "Best_xgb.fit(x_train4, y_train4)\n",
        "print(\"Train dataset accuracy: %0.03f\" % Best_xgb.score(x_train4,y_train4))\n",
        "\n",
        "y_test_predt4 = Best_xgb.predict(x_test4)\n",
        "print(\"Test dataset accuracy: %0.03f\" % Best_xgb.score(x_test4,y_test4))\n",
        "print(\"****Reporte de clasificación sobre conjunto de evaluación (métricas)*****\") \n",
        "print(classification_report(y_test4, y_test_predt4)) \n",
        "plot_confusion_matrix(y_test4, y_test_predt4, classes=df_4spr.clasif_.unique(),\n",
        "                        title=\"Matriz de confusión para función logística\");"
      ],
      "metadata": {
        "colab": {
          "base_uri": "https://localhost:8080/",
          "height": 515
        },
        "id": "qP33TYxd8lHO",
        "outputId": "57b54b7d-952c-41cf-ca58-36f4f563aec0"
      },
      "id": "qP33TYxd8lHO",
      "execution_count": 88,
      "outputs": [
        {
          "output_type": "stream",
          "name": "stdout",
          "text": [
            "Train dataset accuracy: 0.510\n",
            "Test dataset accuracy: 0.459\n",
            "****Reporte de clasificación sobre conjunto de evaluación (métricas)*****\n",
            "              precision    recall  f1-score   support\n",
            "\n",
            "           0       0.45      0.35      0.40      7854\n",
            "           1       0.46      0.57      0.51      7779\n",
            "\n",
            "    accuracy                           0.46     15633\n",
            "   macro avg       0.46      0.46      0.45     15633\n",
            "weighted avg       0.46      0.46      0.45     15633\n",
            "\n"
          ]
        },
        {
          "output_type": "display_data",
          "data": {
            "text/plain": [
              "<Figure size 432x288 with 2 Axes>"
            ],
            "image/png": "[encoded data removed]"
          },
          "metadata": {
            "needs_background": "light"
          }
        }
      ]
    },
    {
      "cell_type": "code",
      "source": [
        "#Subconjunto Otoño\n",
        "xgb = XGBClassifier(random_state=22)\n",
        "grid_xgb = GridSearchCV(xgb, param_xg, scoring='accuracy')\n",
        "grid_xgb.fit(x_train2, y_train2)\n",
        "best_xgb = grid_xgb.best_estimator_\n",
        "print('Best Decision xgb accuracy: ', grid_xgb.best_score_)\n",
        "print(best_xgb)"
      ],
      "metadata": {
        "id": "CC5VISFNAEJF"
      },
      "id": "CC5VISFNAEJF",
      "execution_count": null,
      "outputs": []
    },
    {
      "cell_type": "code",
      "source": [
        "#Subconjunto Otoño\n",
        "Best_xgb= XGBClassifier(max_depth=2,objective=\"reg:logistic\",eta=0.03,\n",
        "                     nthread=2, n_estimators=10,\n",
        "                     random_state=22)\n",
        "\n",
        "Best_xgb.fit(x_train2, y_train2)\n",
        "print(\"Train dataset accuracy: %0.03f\" % Best_xgb.score(x_train2,y_train2))\n",
        "\n",
        "y_test_predt2 = Best_xgb.predict(x_test2)\n",
        "print(\"Test dataset accuracy: %0.03f\" % Best_xgb.score(x_test2,y_test2))\n",
        "print(\"****Reporte de clasificación sobre conjunto de evaluación (métricas)*****\") \n",
        "print(classification_report(y_test2, y_test_predt2)) \n",
        "plot_confusion_matrix(y_test2, y_test_predt2, classes=df_2aut.clasif_.unique(),\n",
        "                        title=\"Matriz de confusión para función logística\");"
      ],
      "metadata": {
        "colab": {
          "base_uri": "https://localhost:8080/",
          "height": 515
        },
        "id": "iQXFUu7c_Hq0",
        "outputId": "9efc5283-e6a4-4621-8575-3adbf422449a"
      },
      "id": "iQXFUu7c_Hq0",
      "execution_count": 89,
      "outputs": [
        {
          "output_type": "stream",
          "name": "stdout",
          "text": [
            "Train dataset accuracy: 0.939\n",
            "Test dataset accuracy: 0.942\n",
            "****Reporte de clasificación sobre conjunto de evaluación (métricas)*****\n",
            "              precision    recall  f1-score   support\n",
            "\n",
            "           0       0.99      0.82      0.90      3204\n",
            "           1       0.93      1.00      0.96      7341\n",
            "\n",
            "    accuracy                           0.94     10545\n",
            "   macro avg       0.96      0.91      0.93     10545\n",
            "weighted avg       0.95      0.94      0.94     10545\n",
            "\n"
          ]
        },
        {
          "output_type": "display_data",
          "data": {
            "text/plain": [
              "<Figure size 432x288 with 2 Axes>"
            ],
            "image/png": "[encoded data removed]"
          },
          "metadata": {
            "needs_background": "light"
          }
        }
      ]
    },
    {
      "cell_type": "markdown",
      "source": [
        "##**Analizamos posible anomalía en el subconjunto Primavera**"
      ],
      "metadata": {
        "id": "Ed9LPt31tJl_"
      },
      "id": "Ed9LPt31tJl_"
    },
    {
      "cell_type": "markdown",
      "source": [
        "Realizamos gráficas de las funciones de distribución para cada uno de los subconjuntos, con el objetivo de poder compararlas."
      ],
      "metadata": {
        "id": "6817gcByvOOw"
      },
      "id": "6817gcByvOOw"
    },
    {
      "cell_type": "code",
      "source": [
        "sns.displot(x_train4, aspect=2, bins=60) \n",
        "plt.ticklabel_format(style='plain', axis='x')\n",
        "plt.xlabel('variables subconjunto Primavera',fontsize=16);"
      ],
      "metadata": {
        "colab": {
          "base_uri": "https://localhost:8080/",
          "height": 388
        },
        "id": "B6PzhHdh0fBL",
        "outputId": "51bfd89a-e33c-43e8-bffb-754100434a00"
      },
      "id": "B6PzhHdh0fBL",
      "execution_count": 36,
      "outputs": [
        {
          "output_type": "display_data",
          "data": {
            "text/plain": [
              "<Figure size 818.125x360 with 1 Axes>"
            ],
            "image/png": "[encoded data removed]"
          },
          "metadata": {
            "needs_background": "light"
          }
        }
      ]
    },
    {
      "cell_type": "code",
      "source": [
        "sns.displot(x_train3, aspect=2, bins=60)\n",
        "plt.ticklabel_format(style='plain', axis='x')\n",
        "plt.xlabel('variables subconjunto Invierno',fontsize=16);"
      ],
      "metadata": {
        "colab": {
          "base_uri": "https://localhost:8080/",
          "height": 388
        },
        "id": "QuVDSS0O056P",
        "outputId": "d570d312-b496-40e8-d8c0-31ad8ebf965f"
      },
      "id": "QuVDSS0O056P",
      "execution_count": 35,
      "outputs": [
        {
          "output_type": "display_data",
          "data": {
            "text/plain": [
              "<Figure size 818.125x360 with 1 Axes>"
            ],
            "image/png": "[encoded data removed]"
          },
          "metadata": {
            "needs_background": "light"
          }
        }
      ]
    },
    {
      "cell_type": "code",
      "source": [
        "sns.displot(x_train2, aspect=2, bins=60)\n",
        "plt.ticklabel_format(style='plain', axis='x')\n",
        "plt.xlabel('variables subconjunto Otoño',fontsize=16);"
      ],
      "metadata": {
        "colab": {
          "base_uri": "https://localhost:8080/",
          "height": 388
        },
        "id": "06RzrnK5AXON",
        "outputId": "649b18d1-c444-4fbf-a1a2-919dc60ed633"
      },
      "id": "06RzrnK5AXON",
      "execution_count": 37,
      "outputs": [
        {
          "output_type": "display_data",
          "data": {
            "text/plain": [
              "<Figure size 818.125x360 with 1 Axes>"
            ],
            "image/png": "[encoded data removed]"
          },
          "metadata": {
            "needs_background": "light"
          }
        }
      ]
    },
    {
      "cell_type": "code",
      "source": [
        "sns.displot(x_train1, aspect=2, bins=60)\n",
        "plt.ticklabel_format(style='plain', axis='x')\n",
        "plt.xlabel('variables subconjunto Verano',fontsize=16);"
      ],
      "metadata": {
        "colab": {
          "base_uri": "https://localhost:8080/",
          "height": 388
        },
        "id": "vvNuzyUeAhYH",
        "outputId": "b2576c16-1c94-43dc-ef35-f0e212053318"
      },
      "id": "vvNuzyUeAhYH",
      "execution_count": 38,
      "outputs": [
        {
          "output_type": "display_data",
          "data": {
            "text/plain": [
              "<Figure size 818.125x360 with 1 Axes>"
            ],
            "image/png": "[encoded data removed]"
          },
          "metadata": {
            "needs_background": "light"
          }
        }
      ]
    },
    {
      "cell_type": "markdown",
      "source": [
        "Conclusión: En los subconjuntos Verano, Otoño e Invierno observamos que hay un solapamiento en sus funciones de distribución para las variables B06_median, B11_median y ndvi_max. El úncio subconjunto que no presenta este solapamiento es Primavera, y es también el subconjunto en donde los modelos no muestran un buenas métricas. Esto podría ser un indicador de que hay una posible anomalía en este subconjunto."
      ],
      "metadata": {
        "id": "2tBO-cXwCBQX"
      },
      "id": "2tBO-cXwCBQX"
    }
  ],
  "metadata": {
    "kernelspec": {
      "display_name": "Python 3",
      "language": "python",
      "name": "python3"
    },
    "language_info": {
      "codemirror_mode": {
        "name": "ipython",
        "version": 3
      },
      "file_extension": ".py",
      "mimetype": "text/x-python",
      "name": "python",
      "nbconvert_exporter": "python",
      "pygments_lexer": "ipython3",
      "version": "3.9.7"
    },
    "colab": {
      "provenance": [],
      "collapsed_sections": [],
      "include_colab_link": true
    }
  },
  "nbformat": 4,
  "nbformat_minor": 5
}