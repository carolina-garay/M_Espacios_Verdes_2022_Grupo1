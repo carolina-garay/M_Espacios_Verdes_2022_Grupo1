{
  "cells": [
    {
      "cell_type": "markdown",
      "metadata": {
        "id": "view-in-github",
        "colab_type": "text"
      },
      "source": [
        "<a href=\"https://colab.research.google.com/github/carolina-garay/M_Espacios_Verdes_2022_Grupo1/blob/TP2_EyCD_Garay/EyCD_MEV_Garay_receta_extra_v1.ipynb\" target=\"_parent\"><img src=\"https://colab.research.google.com/assets/colab-badge.svg\" alt=\"Open In Colab\"/></a>"
      ]
    },
    {
      "cell_type": "markdown",
      "id": "5ae369d0-fb59-4e77-a928-a6417de1a666",
      "metadata": {
        "id": "5ae369d0-fb59-4e77-a928-a6417de1a666"
      },
      "source": [
        "# Mentoria: Monitoreo de Espacios Verdes\n",
        "\n",
        "__DIPLODATOS 2022 - FAMAF UNC__\n",
        "\n",
        "_Felix Rojo Lapalma_\n",
        "\n",
        "## Exploración y Curación de Datos \n",
        "\n",
        "_GRUPO1_\n",
        "\n",
        "Alumnos\n",
        "\n",
        "- Artola, María Fernanda\n",
        "- Garay, Carolina\n",
        "- Ormaechea, Sebastián\n",
        "\n",
        "\n",
        "En esta etapa ya hemos avanzado en (basados en el [TP-Analisis-Visualizacion](https://github.com/felixlapalma/monitoreo-espacios-verdes-diplo202X/blob/main/notebooks-tp/Analisis-y-Visualizacion-MEV-TP.ipynb)):\n",
        "\n",
        "- análisis y exploración del conjunto de datos (aunque sea superficialmente)\n",
        "- set representativo: Es decir, aprendimos que podemos llegar a trabajar con un set mas reducido (de las caracteristicas - columnas del dataframe) e igualmente vamos a estar representando gran parte del conjunto.\n",
        "- inputacion de valores:   \n",
        "    - tenemos formas de inputar valores en rangos temporales que no tenemos (para una cierta zona) utilizando otros rangos temporales (aqui aprovechamos fuertemente la estacionalidad de lo que estamos monitoreando)\n",
        "    - que un outlier en un rango temporal puede ser un valor nominal en otro rango temporal.\n",
        "\n",
        "- etc\n",
        "\n",
        "En lo que sigue vamos a aplicar mucho de lo obtenido en el TP anterior para \"curar\" nuestro dataset con diferentes recetas. Por curar nos referimos a generar los procesos necesarios (trazables y reproducibles) que nos lleven del conjunto original de datos (que debe permanecer inmutable) hasta un conjunto que pueda ser consumido por distintos algorimos de aprendizaje. Las recetas pasaran de las mas simples, hasta algunas mas elaboradas. Una de las intenciones de todo proceso de curacion es salvar, en base a ciertos supuestos, la mayor cantidad de datos (puesto que la recoleccion de los mismos, etc, suele ser un proceso costoso tanto en recursos como en tiempo, entre otras cosas).\n",
        "\n",
        "### Fuentes\n",
        "\n",
        "El presente trabajo práctico está inspirado en los correspondientes de:\n",
        "\n",
        "- [jbergamasco2019](https://github.com/jbergamasco/DiploDatos2019)\n",
        "\n",
        "- [TP-Analisis-Visualizacion](https://github.com/felixlapalma/monitoreo-espacios-verdes-diplo202X/blob/main/notebooks-tp/Analisis-y-Visualizacion-MEV-TP.ipynb)\n",
        "\n",
        "Para una introducción un poco mas extensa respecto al origen de los datos y su procesamiento se pueden referir a :\n",
        "- [ab-initio-data-build](https://github.com/felixlapalma/monitoreo-espacios-verdes-diplo202X/blob/main/data/ab-initio-dataset-build.md)\n",
        "- [ab-initio-analisis-visualizacion](https://github.com/felixlapalma/monitoreo-espacios-verdes-diplo202X/blob/main/data/ab-initio-analisis-visualizacion.md)\n"
      ]
    },
    {
      "cell_type": "markdown",
      "id": "6f28e001",
      "metadata": {
        "id": "6f28e001"
      },
      "source": [
        "## Sobre el Trabajo Requerido\n",
        "\n",
        "Se propone la elaboración de un conjunto de procedimientos (\\*.py o notebooks) que nos permitan partiendo del dataset original obtener uno nuevo y \"curado\".\n",
        "Respecto a las recetas mencionadas, son las que van a dar origen a los distintos procedimientos y nos van a permitir inferir (ya en el proximo TP) la importancia del proceso de curación.\n",
        "\n",
        "### Sobre las recetas\n",
        "\n",
        "La idea de construccion de una receta es que pueda ser aprovechada cuando le llegue un set nuevo de datos. Tanto  para su transformacion para incorporarlos al set de entramiento como para su posible uso en inferencia.\n",
        "\n",
        "__DISCLAIMER__: En lo siguiente vamos a presentar un numero limitado (~4) de recetas (para el problema en cuestión).\n",
        "\n",
        "### ab-initio\n",
        "\n",
        "- elija (basados en lo aprendido en el TP anterior) un conjunto de bandas e indices que considere representativo. Adicione a su elección:\n",
        "    - raster: raster del cual se extraen los estadísticos\n",
        "    - clouds_on_raster: nubosidad del raster completo\n",
        "    - osm_id: identificador asociado a la capa original (atlas-espacios-verdes)\n",
        "    - area_m2: area en metros cuadrados\n",
        "    - date: fecha de la muestra.\n",
        "    \n",
        "    estas variables las sumamos a los efectos practicos de representacion y filtrado.\n",
        "\n",
        "\n",
        "\n"
      ]
    },
    {
      "cell_type": "markdown",
      "id": "ceae5e2c",
      "metadata": {
        "id": "ceae5e2c"
      },
      "source": [
        "- Leer los datos"
      ]
    },
    {
      "cell_type": "code",
      "execution_count": 80,
      "id": "f6e0a21d-304f-4ece-a268-5b168ad47686",
      "metadata": {
        "id": "f6e0a21d-304f-4ece-a268-5b168ad47686",
        "colab": {
          "base_uri": "https://localhost:8080/"
        },
        "outputId": "30641311-443c-496d-f63d-1b4c9ba270d8"
      },
      "outputs": [
        {
          "output_type": "stream",
          "name": "stdout",
          "text": [
            "Looking in indexes: https://pypi.org/simple, https://us-python.pkg.dev/colab-wheels/public/simple/\n",
            "Requirement already satisfied: gdown in /usr/local/lib/python3.7/dist-packages (4.4.0)\n",
            "Requirement already satisfied: tqdm in /usr/local/lib/python3.7/dist-packages (from gdown) (4.64.0)\n",
            "Requirement already satisfied: requests[socks] in /usr/local/lib/python3.7/dist-packages (from gdown) (2.23.0)\n",
            "Requirement already satisfied: filelock in /usr/local/lib/python3.7/dist-packages (from gdown) (3.7.1)\n",
            "Requirement already satisfied: beautifulsoup4 in /usr/local/lib/python3.7/dist-packages (from gdown) (4.6.3)\n",
            "Requirement already satisfied: six in /usr/local/lib/python3.7/dist-packages (from gdown) (1.15.0)\n",
            "Requirement already satisfied: certifi>=2017.4.17 in /usr/local/lib/python3.7/dist-packages (from requests[socks]->gdown) (2022.6.15)\n",
            "Requirement already satisfied: chardet<4,>=3.0.2 in /usr/local/lib/python3.7/dist-packages (from requests[socks]->gdown) (3.0.4)\n",
            "Requirement already satisfied: urllib3!=1.25.0,!=1.25.1,<1.26,>=1.21.1 in /usr/local/lib/python3.7/dist-packages (from requests[socks]->gdown) (1.24.3)\n",
            "Requirement already satisfied: idna<3,>=2.5 in /usr/local/lib/python3.7/dist-packages (from requests[socks]->gdown) (2.10)\n",
            "Requirement already satisfied: PySocks!=1.5.7,>=1.5.6 in /usr/local/lib/python3.7/dist-packages (from requests[socks]->gdown) (1.7.1)\n",
            "Looking in indexes: https://pypi.org/simple, https://us-python.pkg.dev/colab-wheels/public/simple/\n",
            "Requirement already satisfied: missingno in /usr/local/lib/python3.7/dist-packages (0.5.1)\n",
            "Requirement already satisfied: numpy in /usr/local/lib/python3.7/dist-packages (from missingno) (1.21.6)\n",
            "Requirement already satisfied: seaborn in /usr/local/lib/python3.7/dist-packages (from missingno) (0.11.2)\n",
            "Requirement already satisfied: scipy in /usr/local/lib/python3.7/dist-packages (from missingno) (1.4.1)\n",
            "Requirement already satisfied: matplotlib in /usr/local/lib/python3.7/dist-packages (from missingno) (3.2.2)\n",
            "Requirement already satisfied: pyparsing!=2.0.4,!=2.1.2,!=2.1.6,>=2.0.1 in /usr/local/lib/python3.7/dist-packages (from matplotlib->missingno) (3.0.9)\n",
            "Requirement already satisfied: cycler>=0.10 in /usr/local/lib/python3.7/dist-packages (from matplotlib->missingno) (0.11.0)\n",
            "Requirement already satisfied: python-dateutil>=2.1 in /usr/local/lib/python3.7/dist-packages (from matplotlib->missingno) (2.8.2)\n",
            "Requirement already satisfied: kiwisolver>=1.0.1 in /usr/local/lib/python3.7/dist-packages (from matplotlib->missingno) (1.4.3)\n",
            "Requirement already satisfied: typing-extensions in /usr/local/lib/python3.7/dist-packages (from kiwisolver>=1.0.1->matplotlib->missingno) (4.1.1)\n",
            "Requirement already satisfied: six>=1.5 in /usr/local/lib/python3.7/dist-packages (from python-dateutil>=2.1->matplotlib->missingno) (1.15.0)\n",
            "Requirement already satisfied: pandas>=0.23 in /usr/local/lib/python3.7/dist-packages (from seaborn->missingno) (1.3.5)\n",
            "Requirement already satisfied: pytz>=2017.3 in /usr/local/lib/python3.7/dist-packages (from pandas>=0.23->seaborn->missingno) (2022.1)\n"
          ]
        }
      ],
      "source": [
        "# Setup necesario para correr pandas profiling\n",
        "#!pip install pandas_profiling==2.8.0\n",
        "#!pip install pandas==1.2.0\n",
        "########################################\n",
        "# Importación necesaria para correr pandas profiling y descargar reporte\n",
        "#from pandas_profiling import ProfileReport\n",
        "from google.colab import files\n",
        "########################################\n",
        "# Descarga de base de datos\n",
        "# from link @ https://github.com/felixlapalma/monitoreo-espacios-verdes-diplo202X/blob/main/data/ab-initio-dataset-build.md\n",
        "########################################\n",
        "!pip install gdown\n",
        "!pip install missingno"
      ]
    },
    {
      "cell_type": "code",
      "source": [
        "# Carga de librerías necesarias\n",
        "import pandas as pd\n",
        "import numpy as np\n",
        "import matplotlib.dates as mdates # Esto sirve para manipular fechas en los gráficos\n",
        "import matplotlib.pyplot as plt\n",
        "import datetime\n"
      ],
      "metadata": {
        "id": "rn5YxWb1r86M"
      },
      "id": "rn5YxWb1r86M",
      "execution_count": 81,
      "outputs": []
    },
    {
      "cell_type": "markdown",
      "id": "f7324639",
      "metadata": {
        "id": "f7324639"
      },
      "source": [
        "## __Extra__\n",
        "\n",
        "Generar alguna receta alternativa, basada en las propuestas mencionadas (o alguna completamente diferente :-) )."
      ]
    },
    {
      "cell_type": "markdown",
      "source": [
        "### Receta [Extra] = Normalizacion + Filtrado Por  10% de Nubosidad + Imputacion Estacional"
      ],
      "metadata": {
        "id": "O9Z0FwVF1_cM"
      },
      "id": "O9Z0FwVF1_cM"
    },
    {
      "cell_type": "markdown",
      "source": [
        "##1- Descarga del dataset"
      ],
      "metadata": {
        "id": "_fODGgR14TnS"
      },
      "id": "_fODGgR14TnS"
    },
    {
      "cell_type": "code",
      "execution_count": 82,
      "id": "0a543c19-bc55-4bc3-a241-2a2395cae3cf",
      "metadata": {
        "id": "0a543c19-bc55-4bc3-a241-2a2395cae3cf",
        "colab": {
          "base_uri": "https://localhost:8080/"
        },
        "outputId": "24895dee-9a72-454b-8458-1e8e5890cf5a"
      },
      "outputs": [
        {
          "output_type": "stream",
          "name": "stdout",
          "text": [
            "Running on CoLab\n",
            "Downloading...\n",
            "From: https://drive.google.com/uc?id=1tgbIQaEXzIghcFYyd2YM9iMho4TDHHFd\n",
            "To: /content/espacios-verdes-indexs-cba-20170101-20220420.zip\n",
            "100% 170M/170M [00:00<00:00, 222MB/s]\n"
          ]
        }
      ],
      "source": [
        "import pandas as pd  \n",
        "\n",
        "if 'google.colab' in str(get_ipython()):\n",
        "    print('Running on CoLab')\n",
        "    # running on colab\n",
        "    # from link @ https://github.com/felixlapalma/monitoreo-espacios-verdes-diplo202X/blob/main/data/ab-initio-dataset-build.md\n",
        "    !gdown https://drive.google.com/file/d/1tgbIQaEXzIghcFYyd2YM9iMho4TDHHFd/view?usp=sharing --fuzzy\n",
        "    # Notar el cambio del path y el tipo de archivo (no lo descomprimimos)\n",
        "    df_=pd.read_csv('/content/espacios-verdes-indexs-cba-20170101-20220420.zip',index_col=0)\n",
        "else:\n",
        "    # recuerde descargar el dataset desde los links mencionados en el README\n",
        "    df_=pd.read_csv('../data/cba/espacios-verdes-indexs-cba-20170101-20220420.csv',index_col=0)"
      ]
    },
    {
      "cell_type": "code",
      "source": [
        "# Utilizamos la librería missingno para la visualización del total de datos\n",
        "import missingno as msno"
      ],
      "metadata": {
        "id": "nqiJ_pupQOVL"
      },
      "id": "nqiJ_pupQOVL",
      "execution_count": 83,
      "outputs": []
    },
    {
      "cell_type": "markdown",
      "source": [
        "##2- Obtención del dataframe"
      ],
      "metadata": {
        "id": "OoJiFlE14hGC"
      },
      "id": "OoJiFlE14hGC"
    },
    {
      "cell_type": "code",
      "source": [
        "df_=pd.read_csv(\"/content/espacios-verdes-indexs-cba-20170101-20220420.zip\", index_col=0)\n",
        "df_"
      ],
      "metadata": {
        "colab": {
          "base_uri": "https://localhost:8080/",
          "height": 661
        },
        "id": "oj1vQFifx1HA",
        "outputId": "e0085efe-4ba4-45e3-88b9-1464ab222059"
      },
      "id": "oj1vQFifx1HA",
      "execution_count": 84,
      "outputs": [
        {
          "output_type": "execute_result",
          "data": {
            "text/plain": [
              "        B02_min  B02_max  B02_mean  B02_median  B02_nodata  B02_range  \\\n",
              "0        0.0871   0.1421  0.102570     0.09650         0.0     0.0550   \n",
              "1        0.0970   0.1936  0.118354     0.10660         0.0     0.0966   \n",
              "2        0.0992   0.1273  0.111805     0.11290         0.0     0.0281   \n",
              "3        0.0995   0.1933  0.118491     0.11355         0.0     0.0938   \n",
              "4        0.1059   0.1385  0.122453     0.12240         0.0     0.0326   \n",
              "...         ...      ...       ...         ...         ...        ...   \n",
              "208927   0.0990   0.1684  0.115990     0.11270         0.0     0.0694   \n",
              "208928   0.1145   0.3240  0.149746     0.13665         0.0     0.2095   \n",
              "208929   0.0993   0.1388  0.110870     0.10625         0.0     0.0395   \n",
              "208930   0.0991   0.1407  0.124008     0.12570         0.0     0.0416   \n",
              "208931   0.0874   0.1347  0.104697     0.10180         0.0     0.0473   \n",
              "\n",
              "        B02_count  B03_min  B03_max  B03_mean  ...  sipi_median  sipi_nodata  \\\n",
              "0              47   0.0768   0.1516  0.098885  ...     0.884216          0.0   \n",
              "1              13   0.1006   0.1949  0.122154  ...     0.971875          0.0   \n",
              "2              19   0.1037   0.1369  0.117795  ...     0.973017          0.0   \n",
              "3              66   0.0993   0.1990  0.124512  ...     0.966202          0.0   \n",
              "4              47   0.1036   0.1580  0.132455  ...     0.993986          0.0   \n",
              "...           ...      ...      ...       ...  ...          ...          ...   \n",
              "208927         31   0.0862   0.1627  0.107387  ...     0.892669          0.0   \n",
              "208928         80   0.0977   0.3363  0.149332  ...     1.084102          0.0   \n",
              "208929         10   0.0930   0.1473  0.106160  ...     0.914887          0.0   \n",
              "208930         53   0.0852   0.1377  0.118574  ...     0.991200          0.0   \n",
              "208931         95   0.0707   0.1321  0.095941  ...     0.889747          0.0   \n",
              "\n",
              "        sipi_range  sipi_count  \\\n",
              "0         0.453065          47   \n",
              "1         0.247045          13   \n",
              "2         0.207006          19   \n",
              "3         0.258424          66   \n",
              "4         0.260419          47   \n",
              "...            ...         ...   \n",
              "208927    0.545993          31   \n",
              "208928    2.805242          80   \n",
              "208929    0.199024          10   \n",
              "208930    0.299910          53   \n",
              "208931    0.456241          95   \n",
              "\n",
              "                                                   raster  clouds_on_raster  \\\n",
              "0       S2A_MSIL1C_20170103T142022_N0204_R010_T20JLL_2...               0.0   \n",
              "1       S2A_MSIL1C_20170103T142022_N0204_R010_T20JLL_2...               0.0   \n",
              "2       S2A_MSIL1C_20170103T142022_N0204_R010_T20JLL_2...               0.0   \n",
              "3       S2A_MSIL1C_20170103T142022_N0204_R010_T20JLL_2...               0.0   \n",
              "4       S2A_MSIL1C_20170103T142022_N0204_R010_T20JLL_2...               0.0   \n",
              "...                                                   ...               ...   \n",
              "208927  S2A_MSIL1C_20220417T141741_N0400_R010_T20JLL_2...               0.0   \n",
              "208928  S2A_MSIL1C_20220417T141741_N0400_R010_T20JLL_2...               0.0   \n",
              "208929  S2A_MSIL1C_20220417T141741_N0400_R010_T20JLL_2...               0.0   \n",
              "208930  S2A_MSIL1C_20220417T141741_N0400_R010_T20JLL_2...               0.0   \n",
              "208931  S2A_MSIL1C_20220417T141741_N0400_R010_T20JLL_2...               0.0   \n",
              "\n",
              "           osm_id                name      area_m2        date  \n",
              "0       605976736                 NaN  4650.710032  2017-01-03  \n",
              "1       559322368                 NaN  1502.000513  2017-01-03  \n",
              "2       559322369                 NaN  2004.192528  2017-01-03  \n",
              "3       559328111                 NaN  6940.507640  2017-01-03  \n",
              "4       559328112                 NaN  4587.356048  2017-01-03  \n",
              "...           ...                 ...          ...         ...  \n",
              "208927  307532496                 NaN  3824.467794  2022-04-17  \n",
              "208928  307535460  Plaza Exodo Jujeño  7184.535857  2022-04-17  \n",
              "208929  307796387                 NaN  1147.997645  2022-04-17  \n",
              "208930  307097955                 NaN  5185.690046  2022-04-17  \n",
              "208931  901791744                 NaN  9394.381202  2022-04-17  \n",
              "\n",
              "[208932 rows x 167 columns]"
            ],
            "text/html": [
              "\n",
              "  <div id=\"df-cb82af7e-d1fa-43f9-9d7d-216d5970bcb7\">\n",
              "    <div class=\"colab-df-container\">\n",
              "      <div>\n",
              "<style scoped>\n",
              "    .dataframe tbody tr th:only-of-type {\n",
              "        vertical-align: middle;\n",
              "    }\n",
              "\n",
              "    .dataframe tbody tr th {\n",
              "        vertical-align: top;\n",
              "    }\n",
              "\n",
              "    .dataframe thead th {\n",
              "        text-align: right;\n",
              "    }\n",
              "</style>\n",
              "<table border=\"1\" class=\"dataframe\">\n",
              "  <thead>\n",
              "    <tr style=\"text-align: right;\">\n",
              "      <th></th>\n",
              "      <th>B02_min</th>\n",
              "      <th>B02_max</th>\n",
              "      <th>B02_mean</th>\n",
              "      <th>B02_median</th>\n",
              "      <th>B02_nodata</th>\n",
              "      <th>B02_range</th>\n",
              "      <th>B02_count</th>\n",
              "      <th>B03_min</th>\n",
              "      <th>B03_max</th>\n",
              "      <th>B03_mean</th>\n",
              "      <th>...</th>\n",
              "      <th>sipi_median</th>\n",
              "      <th>sipi_nodata</th>\n",
              "      <th>sipi_range</th>\n",
              "      <th>sipi_count</th>\n",
              "      <th>raster</th>\n",
              "      <th>clouds_on_raster</th>\n",
              "      <th>osm_id</th>\n",
              "      <th>name</th>\n",
              "      <th>area_m2</th>\n",
              "      <th>date</th>\n",
              "    </tr>\n",
              "  </thead>\n",
              "  <tbody>\n",
              "    <tr>\n",
              "      <th>0</th>\n",
              "      <td>0.0871</td>\n",
              "      <td>0.1421</td>\n",
              "      <td>0.102570</td>\n",
              "      <td>0.09650</td>\n",
              "      <td>0.0</td>\n",
              "      <td>0.0550</td>\n",
              "      <td>47</td>\n",
              "      <td>0.0768</td>\n",
              "      <td>0.1516</td>\n",
              "      <td>0.098885</td>\n",
              "      <td>...</td>\n",
              "      <td>0.884216</td>\n",
              "      <td>0.0</td>\n",
              "      <td>0.453065</td>\n",
              "      <td>47</td>\n",
              "      <td>S2A_MSIL1C_20170103T142022_N0204_R010_T20JLL_2...</td>\n",
              "      <td>0.0</td>\n",
              "      <td>605976736</td>\n",
              "      <td>NaN</td>\n",
              "      <td>4650.710032</td>\n",
              "      <td>2017-01-03</td>\n",
              "    </tr>\n",
              "    <tr>\n",
              "      <th>1</th>\n",
              "      <td>0.0970</td>\n",
              "      <td>0.1936</td>\n",
              "      <td>0.118354</td>\n",
              "      <td>0.10660</td>\n",
              "      <td>0.0</td>\n",
              "      <td>0.0966</td>\n",
              "      <td>13</td>\n",
              "      <td>0.1006</td>\n",
              "      <td>0.1949</td>\n",
              "      <td>0.122154</td>\n",
              "      <td>...</td>\n",
              "      <td>0.971875</td>\n",
              "      <td>0.0</td>\n",
              "      <td>0.247045</td>\n",
              "      <td>13</td>\n",
              "      <td>S2A_MSIL1C_20170103T142022_N0204_R010_T20JLL_2...</td>\n",
              "      <td>0.0</td>\n",
              "      <td>559322368</td>\n",
              "      <td>NaN</td>\n",
              "      <td>1502.000513</td>\n",
              "      <td>2017-01-03</td>\n",
              "    </tr>\n",
              "    <tr>\n",
              "      <th>2</th>\n",
              "      <td>0.0992</td>\n",
              "      <td>0.1273</td>\n",
              "      <td>0.111805</td>\n",
              "      <td>0.11290</td>\n",
              "      <td>0.0</td>\n",
              "      <td>0.0281</td>\n",
              "      <td>19</td>\n",
              "      <td>0.1037</td>\n",
              "      <td>0.1369</td>\n",
              "      <td>0.117795</td>\n",
              "      <td>...</td>\n",
              "      <td>0.973017</td>\n",
              "      <td>0.0</td>\n",
              "      <td>0.207006</td>\n",
              "      <td>19</td>\n",
              "      <td>S2A_MSIL1C_20170103T142022_N0204_R010_T20JLL_2...</td>\n",
              "      <td>0.0</td>\n",
              "      <td>559322369</td>\n",
              "      <td>NaN</td>\n",
              "      <td>2004.192528</td>\n",
              "      <td>2017-01-03</td>\n",
              "    </tr>\n",
              "    <tr>\n",
              "      <th>3</th>\n",
              "      <td>0.0995</td>\n",
              "      <td>0.1933</td>\n",
              "      <td>0.118491</td>\n",
              "      <td>0.11355</td>\n",
              "      <td>0.0</td>\n",
              "      <td>0.0938</td>\n",
              "      <td>66</td>\n",
              "      <td>0.0993</td>\n",
              "      <td>0.1990</td>\n",
              "      <td>0.124512</td>\n",
              "      <td>...</td>\n",
              "      <td>0.966202</td>\n",
              "      <td>0.0</td>\n",
              "      <td>0.258424</td>\n",
              "      <td>66</td>\n",
              "      <td>S2A_MSIL1C_20170103T142022_N0204_R010_T20JLL_2...</td>\n",
              "      <td>0.0</td>\n",
              "      <td>559328111</td>\n",
              "      <td>NaN</td>\n",
              "      <td>6940.507640</td>\n",
              "      <td>2017-01-03</td>\n",
              "    </tr>\n",
              "    <tr>\n",
              "      <th>4</th>\n",
              "      <td>0.1059</td>\n",
              "      <td>0.1385</td>\n",
              "      <td>0.122453</td>\n",
              "      <td>0.12240</td>\n",
              "      <td>0.0</td>\n",
              "      <td>0.0326</td>\n",
              "      <td>47</td>\n",
              "      <td>0.1036</td>\n",
              "      <td>0.1580</td>\n",
              "      <td>0.132455</td>\n",
              "      <td>...</td>\n",
              "      <td>0.993986</td>\n",
              "      <td>0.0</td>\n",
              "      <td>0.260419</td>\n",
              "      <td>47</td>\n",
              "      <td>S2A_MSIL1C_20170103T142022_N0204_R010_T20JLL_2...</td>\n",
              "      <td>0.0</td>\n",
              "      <td>559328112</td>\n",
              "      <td>NaN</td>\n",
              "      <td>4587.356048</td>\n",
              "      <td>2017-01-03</td>\n",
              "    </tr>\n",
              "    <tr>\n",
              "      <th>...</th>\n",
              "      <td>...</td>\n",
              "      <td>...</td>\n",
              "      <td>...</td>\n",
              "      <td>...</td>\n",
              "      <td>...</td>\n",
              "      <td>...</td>\n",
              "      <td>...</td>\n",
              "      <td>...</td>\n",
              "      <td>...</td>\n",
              "      <td>...</td>\n",
              "      <td>...</td>\n",
              "      <td>...</td>\n",
              "      <td>...</td>\n",
              "      <td>...</td>\n",
              "      <td>...</td>\n",
              "      <td>...</td>\n",
              "      <td>...</td>\n",
              "      <td>...</td>\n",
              "      <td>...</td>\n",
              "      <td>...</td>\n",
              "      <td>...</td>\n",
              "    </tr>\n",
              "    <tr>\n",
              "      <th>208927</th>\n",
              "      <td>0.0990</td>\n",
              "      <td>0.1684</td>\n",
              "      <td>0.115990</td>\n",
              "      <td>0.11270</td>\n",
              "      <td>0.0</td>\n",
              "      <td>0.0694</td>\n",
              "      <td>31</td>\n",
              "      <td>0.0862</td>\n",
              "      <td>0.1627</td>\n",
              "      <td>0.107387</td>\n",
              "      <td>...</td>\n",
              "      <td>0.892669</td>\n",
              "      <td>0.0</td>\n",
              "      <td>0.545993</td>\n",
              "      <td>31</td>\n",
              "      <td>S2A_MSIL1C_20220417T141741_N0400_R010_T20JLL_2...</td>\n",
              "      <td>0.0</td>\n",
              "      <td>307532496</td>\n",
              "      <td>NaN</td>\n",
              "      <td>3824.467794</td>\n",
              "      <td>2022-04-17</td>\n",
              "    </tr>\n",
              "    <tr>\n",
              "      <th>208928</th>\n",
              "      <td>0.1145</td>\n",
              "      <td>0.3240</td>\n",
              "      <td>0.149746</td>\n",
              "      <td>0.13665</td>\n",
              "      <td>0.0</td>\n",
              "      <td>0.2095</td>\n",
              "      <td>80</td>\n",
              "      <td>0.0977</td>\n",
              "      <td>0.3363</td>\n",
              "      <td>0.149332</td>\n",
              "      <td>...</td>\n",
              "      <td>1.084102</td>\n",
              "      <td>0.0</td>\n",
              "      <td>2.805242</td>\n",
              "      <td>80</td>\n",
              "      <td>S2A_MSIL1C_20220417T141741_N0400_R010_T20JLL_2...</td>\n",
              "      <td>0.0</td>\n",
              "      <td>307535460</td>\n",
              "      <td>Plaza Exodo Jujeño</td>\n",
              "      <td>7184.535857</td>\n",
              "      <td>2022-04-17</td>\n",
              "    </tr>\n",
              "    <tr>\n",
              "      <th>208929</th>\n",
              "      <td>0.0993</td>\n",
              "      <td>0.1388</td>\n",
              "      <td>0.110870</td>\n",
              "      <td>0.10625</td>\n",
              "      <td>0.0</td>\n",
              "      <td>0.0395</td>\n",
              "      <td>10</td>\n",
              "      <td>0.0930</td>\n",
              "      <td>0.1473</td>\n",
              "      <td>0.106160</td>\n",
              "      <td>...</td>\n",
              "      <td>0.914887</td>\n",
              "      <td>0.0</td>\n",
              "      <td>0.199024</td>\n",
              "      <td>10</td>\n",
              "      <td>S2A_MSIL1C_20220417T141741_N0400_R010_T20JLL_2...</td>\n",
              "      <td>0.0</td>\n",
              "      <td>307796387</td>\n",
              "      <td>NaN</td>\n",
              "      <td>1147.997645</td>\n",
              "      <td>2022-04-17</td>\n",
              "    </tr>\n",
              "    <tr>\n",
              "      <th>208930</th>\n",
              "      <td>0.0991</td>\n",
              "      <td>0.1407</td>\n",
              "      <td>0.124008</td>\n",
              "      <td>0.12570</td>\n",
              "      <td>0.0</td>\n",
              "      <td>0.0416</td>\n",
              "      <td>53</td>\n",
              "      <td>0.0852</td>\n",
              "      <td>0.1377</td>\n",
              "      <td>0.118574</td>\n",
              "      <td>...</td>\n",
              "      <td>0.991200</td>\n",
              "      <td>0.0</td>\n",
              "      <td>0.299910</td>\n",
              "      <td>53</td>\n",
              "      <td>S2A_MSIL1C_20220417T141741_N0400_R010_T20JLL_2...</td>\n",
              "      <td>0.0</td>\n",
              "      <td>307097955</td>\n",
              "      <td>NaN</td>\n",
              "      <td>5185.690046</td>\n",
              "      <td>2022-04-17</td>\n",
              "    </tr>\n",
              "    <tr>\n",
              "      <th>208931</th>\n",
              "      <td>0.0874</td>\n",
              "      <td>0.1347</td>\n",
              "      <td>0.104697</td>\n",
              "      <td>0.10180</td>\n",
              "      <td>0.0</td>\n",
              "      <td>0.0473</td>\n",
              "      <td>95</td>\n",
              "      <td>0.0707</td>\n",
              "      <td>0.1321</td>\n",
              "      <td>0.095941</td>\n",
              "      <td>...</td>\n",
              "      <td>0.889747</td>\n",
              "      <td>0.0</td>\n",
              "      <td>0.456241</td>\n",
              "      <td>95</td>\n",
              "      <td>S2A_MSIL1C_20220417T141741_N0400_R010_T20JLL_2...</td>\n",
              "      <td>0.0</td>\n",
              "      <td>901791744</td>\n",
              "      <td>NaN</td>\n",
              "      <td>9394.381202</td>\n",
              "      <td>2022-04-17</td>\n",
              "    </tr>\n",
              "  </tbody>\n",
              "</table>\n",
              "<p>208932 rows × 167 columns</p>\n",
              "</div>\n",
              "      <button class=\"colab-df-convert\" onclick=\"convertToInteractive('df-cb82af7e-d1fa-43f9-9d7d-216d5970bcb7')\"\n",
              "              title=\"Convert this dataframe to an interactive table.\"\n",
              "              style=\"display:none;\">\n",
              "        \n",
              "  <svg xmlns=\"http://www.w3.org/2000/svg\" height=\"24px\"viewBox=\"0 0 24 24\"\n",
              "       width=\"24px\">\n",
              "    <path d=\"M0 0h24v24H0V0z\" fill=\"none\"/>\n",
              "    <path d=\"M18.56 5.44l.94 2.06.94-2.06 2.06-.94-2.06-.94-.94-2.06-.94 2.06-2.06.94zm-11 1L8.5 8.5l.94-2.06 2.06-.94-2.06-.94L8.5 2.5l-.94 2.06-2.06.94zm10 10l.94 2.06.94-2.06 2.06-.94-2.06-.94-.94-2.06-.94 2.06-2.06.94z\"/><path d=\"M17.41 7.96l-1.37-1.37c-.4-.4-.92-.59-1.43-.59-.52 0-1.04.2-1.43.59L10.3 9.45l-7.72 7.72c-.78.78-.78 2.05 0 2.83L4 21.41c.39.39.9.59 1.41.59.51 0 1.02-.2 1.41-.59l7.78-7.78 2.81-2.81c.8-.78.8-2.07 0-2.86zM5.41 20L4 18.59l7.72-7.72 1.47 1.35L5.41 20z\"/>\n",
              "  </svg>\n",
              "      </button>\n",
              "      \n",
              "  <style>\n",
              "    .colab-df-container {\n",
              "      display:flex;\n",
              "      flex-wrap:wrap;\n",
              "      gap: 12px;\n",
              "    }\n",
              "\n",
              "    .colab-df-convert {\n",
              "      background-color: #E8F0FE;\n",
              "      border: none;\n",
              "      border-radius: 50%;\n",
              "      cursor: pointer;\n",
              "      display: none;\n",
              "      fill: #1967D2;\n",
              "      height: 32px;\n",
              "      padding: 0 0 0 0;\n",
              "      width: 32px;\n",
              "    }\n",
              "\n",
              "    .colab-df-convert:hover {\n",
              "      background-color: #E2EBFA;\n",
              "      box-shadow: 0px 1px 2px rgba(60, 64, 67, 0.3), 0px 1px 3px 1px rgba(60, 64, 67, 0.15);\n",
              "      fill: #174EA6;\n",
              "    }\n",
              "\n",
              "    [theme=dark] .colab-df-convert {\n",
              "      background-color: #3B4455;\n",
              "      fill: #D2E3FC;\n",
              "    }\n",
              "\n",
              "    [theme=dark] .colab-df-convert:hover {\n",
              "      background-color: #434B5C;\n",
              "      box-shadow: 0px 1px 3px 1px rgba(0, 0, 0, 0.15);\n",
              "      filter: drop-shadow(0px 1px 2px rgba(0, 0, 0, 0.3));\n",
              "      fill: #FFFFFF;\n",
              "    }\n",
              "  </style>\n",
              "\n",
              "      <script>\n",
              "        const buttonEl =\n",
              "          document.querySelector('#df-cb82af7e-d1fa-43f9-9d7d-216d5970bcb7 button.colab-df-convert');\n",
              "        buttonEl.style.display =\n",
              "          google.colab.kernel.accessAllowed ? 'block' : 'none';\n",
              "\n",
              "        async function convertToInteractive(key) {\n",
              "          const element = document.querySelector('#df-cb82af7e-d1fa-43f9-9d7d-216d5970bcb7');\n",
              "          const dataTable =\n",
              "            await google.colab.kernel.invokeFunction('convertToInteractive',\n",
              "                                                     [key], {});\n",
              "          if (!dataTable) return;\n",
              "\n",
              "          const docLinkHtml = 'Like what you see? Visit the ' +\n",
              "            '<a target=\"_blank\" href=https://colab.research.google.com/notebooks/data_table.ipynb>data table notebook</a>'\n",
              "            + ' to learn more about interactive tables.';\n",
              "          element.innerHTML = '';\n",
              "          dataTable['output_type'] = 'display_data';\n",
              "          await google.colab.output.renderOutput(dataTable, element);\n",
              "          const docLink = document.createElement('div');\n",
              "          docLink.innerHTML = docLinkHtml;\n",
              "          element.appendChild(docLink);\n",
              "        }\n",
              "      </script>\n",
              "    </div>\n",
              "  </div>\n",
              "  "
            ]
          },
          "metadata": {},
          "execution_count": 84
        }
      ]
    },
    {
      "cell_type": "markdown",
      "source": [
        "##3- Extracción de columnas de interés"
      ],
      "metadata": {
        "id": "qxUcVM4q0Azw"
      },
      "id": "qxUcVM4q0Azw"
    },
    {
      "cell_type": "code",
      "source": [
        "# Creamos un nuevo dataframe con las variables de interés \n",
        "df_interest_E = df_[[\"B02_median\", \"B06_median\", \"B11_median\",\"osm_id\", \"date\", \"ndvi_max\", \"area_m2\",\"raster\",\"clouds_on_raster\"]]\n",
        "len(df_interest_E)"
      ],
      "metadata": {
        "colab": {
          "base_uri": "https://localhost:8080/"
        },
        "id": "uSiD9DiH0M_l",
        "outputId": "45bcc7ea-8857-4dd5-f1c1-222e798a27a0"
      },
      "id": "uSiD9DiH0M_l",
      "execution_count": 85,
      "outputs": [
        {
          "output_type": "execute_result",
          "data": {
            "text/plain": [
              "208932"
            ]
          },
          "metadata": {},
          "execution_count": 85
        }
      ]
    },
    {
      "cell_type": "markdown",
      "source": [
        "##4- Remoción de Outliers (a nivel estacional - SIN refinar por año)"
      ],
      "metadata": {
        "id": "KYFTLl__3508"
      },
      "id": "KYFTLl__3508"
    },
    {
      "cell_type": "code",
      "execution_count": 86,
      "metadata": {
        "outputId": "383c52bf-c6d2-4be7-ac99-835fe048ce27",
        "colab": {
          "base_uri": "https://localhost:8080/",
          "height": 953
        },
        "id": "6Z_yAmNa3wGP"
      },
      "outputs": [
        {
          "output_type": "stream",
          "name": "stderr",
          "text": [
            "/usr/local/lib/python3.7/dist-packages/ipykernel_launcher.py:3: SettingWithCopyWarning: \n",
            "A value is trying to be set on a copy of a slice from a DataFrame.\n",
            "Try using .loc[row_indexer,col_indexer] = value instead\n",
            "\n",
            "See the caveats in the documentation: https://pandas.pydata.org/pandas-docs/stable/user_guide/indexing.html#returning-a-view-versus-a-copy\n",
            "  This is separate from the ipykernel package so we can avoid doing imports until\n",
            "/usr/local/lib/python3.7/dist-packages/ipykernel_launcher.py:6: SettingWithCopyWarning: \n",
            "A value is trying to be set on a copy of a slice from a DataFrame.\n",
            "Try using .loc[row_indexer,col_indexer] = value instead\n",
            "\n",
            "See the caveats in the documentation: https://pandas.pydata.org/pandas-docs/stable/user_guide/indexing.html#returning-a-view-versus-a-copy\n",
            "  \n",
            "/usr/local/lib/python3.7/dist-packages/ipykernel_launcher.py:21: SettingWithCopyWarning: \n",
            "A value is trying to be set on a copy of a slice from a DataFrame.\n",
            "Try using .loc[row_indexer,col_indexer] = value instead\n",
            "\n",
            "See the caveats in the documentation: https://pandas.pydata.org/pandas-docs/stable/user_guide/indexing.html#returning-a-view-versus-a-copy\n"
          ]
        },
        {
          "output_type": "execute_result",
          "data": {
            "text/plain": [
              "        B02_median  B06_median  B11_median     osm_id       date  ndvi_max  \\\n",
              "0          0.09650     0.19910     0.18770  605976736 2017-01-03  0.630881   \n",
              "1          0.10660     0.25960     0.25420  559322368 2017-01-03  0.630041   \n",
              "2          0.11290     0.25550     0.24640  559322369 2017-01-03  0.622036   \n",
              "3          0.11355     0.29300     0.26675  559328111 2017-01-03  0.669891   \n",
              "4          0.12240     0.29460     0.28950  559328112 2017-01-03  0.619112   \n",
              "...            ...         ...         ...        ...        ...       ...   \n",
              "208927     0.11270     0.20520     0.18950  307532496 2022-04-17  0.563955   \n",
              "208928     0.13665     0.23835     0.27315  307535460 2022-04-17  0.490798   \n",
              "208929     0.10625     0.22425     0.22230  307796387 2022-04-17  0.566516   \n",
              "208930     0.12570     0.20880     0.25450  307097955 2022-04-17  0.534379   \n",
              "208931     0.10180     0.19080     0.19740  901791744 2022-04-17  0.635997   \n",
              "\n",
              "            area_m2                                             raster  \\\n",
              "0       4650.710032  S2A_MSIL1C_20170103T142022_N0204_R010_T20JLL_2...   \n",
              "1       1502.000513  S2A_MSIL1C_20170103T142022_N0204_R010_T20JLL_2...   \n",
              "2       2004.192528  S2A_MSIL1C_20170103T142022_N0204_R010_T20JLL_2...   \n",
              "3       6940.507640  S2A_MSIL1C_20170103T142022_N0204_R010_T20JLL_2...   \n",
              "4       4587.356048  S2A_MSIL1C_20170103T142022_N0204_R010_T20JLL_2...   \n",
              "...             ...                                                ...   \n",
              "208927  3824.467794  S2A_MSIL1C_20220417T141741_N0400_R010_T20JLL_2...   \n",
              "208928  7184.535857  S2A_MSIL1C_20220417T141741_N0400_R010_T20JLL_2...   \n",
              "208929  1147.997645  S2A_MSIL1C_20220417T141741_N0400_R010_T20JLL_2...   \n",
              "208930  5185.690046  S2A_MSIL1C_20220417T141741_N0400_R010_T20JLL_2...   \n",
              "208931  9394.381202  S2A_MSIL1C_20220417T141741_N0400_R010_T20JLL_2...   \n",
              "\n",
              "        clouds_on_raster  month  season  \n",
              "0                    0.0      1  summer  \n",
              "1                    0.0      1  summer  \n",
              "2                    0.0      1  summer  \n",
              "3                    0.0      1  summer  \n",
              "4                    0.0      1  summer  \n",
              "...                  ...    ...     ...  \n",
              "208927               0.0      4  autumn  \n",
              "208928               0.0      4  autumn  \n",
              "208929               0.0      4  autumn  \n",
              "208930               0.0      4  autumn  \n",
              "208931               0.0      4  autumn  \n",
              "\n",
              "[208932 rows x 11 columns]"
            ],
            "text/html": [
              "\n",
              "  <div id=\"df-917408f6-17af-497d-a681-e579d95646b8\">\n",
              "    <div class=\"colab-df-container\">\n",
              "      <div>\n",
              "<style scoped>\n",
              "    .dataframe tbody tr th:only-of-type {\n",
              "        vertical-align: middle;\n",
              "    }\n",
              "\n",
              "    .dataframe tbody tr th {\n",
              "        vertical-align: top;\n",
              "    }\n",
              "\n",
              "    .dataframe thead th {\n",
              "        text-align: right;\n",
              "    }\n",
              "</style>\n",
              "<table border=\"1\" class=\"dataframe\">\n",
              "  <thead>\n",
              "    <tr style=\"text-align: right;\">\n",
              "      <th></th>\n",
              "      <th>B02_median</th>\n",
              "      <th>B06_median</th>\n",
              "      <th>B11_median</th>\n",
              "      <th>osm_id</th>\n",
              "      <th>date</th>\n",
              "      <th>ndvi_max</th>\n",
              "      <th>area_m2</th>\n",
              "      <th>raster</th>\n",
              "      <th>clouds_on_raster</th>\n",
              "      <th>month</th>\n",
              "      <th>season</th>\n",
              "    </tr>\n",
              "  </thead>\n",
              "  <tbody>\n",
              "    <tr>\n",
              "      <th>0</th>\n",
              "      <td>0.09650</td>\n",
              "      <td>0.19910</td>\n",
              "      <td>0.18770</td>\n",
              "      <td>605976736</td>\n",
              "      <td>2017-01-03</td>\n",
              "      <td>0.630881</td>\n",
              "      <td>4650.710032</td>\n",
              "      <td>S2A_MSIL1C_20170103T142022_N0204_R010_T20JLL_2...</td>\n",
              "      <td>0.0</td>\n",
              "      <td>1</td>\n",
              "      <td>summer</td>\n",
              "    </tr>\n",
              "    <tr>\n",
              "      <th>1</th>\n",
              "      <td>0.10660</td>\n",
              "      <td>0.25960</td>\n",
              "      <td>0.25420</td>\n",
              "      <td>559322368</td>\n",
              "      <td>2017-01-03</td>\n",
              "      <td>0.630041</td>\n",
              "      <td>1502.000513</td>\n",
              "      <td>S2A_MSIL1C_20170103T142022_N0204_R010_T20JLL_2...</td>\n",
              "      <td>0.0</td>\n",
              "      <td>1</td>\n",
              "      <td>summer</td>\n",
              "    </tr>\n",
              "    <tr>\n",
              "      <th>2</th>\n",
              "      <td>0.11290</td>\n",
              "      <td>0.25550</td>\n",
              "      <td>0.24640</td>\n",
              "      <td>559322369</td>\n",
              "      <td>2017-01-03</td>\n",
              "      <td>0.622036</td>\n",
              "      <td>2004.192528</td>\n",
              "      <td>S2A_MSIL1C_20170103T142022_N0204_R010_T20JLL_2...</td>\n",
              "      <td>0.0</td>\n",
              "      <td>1</td>\n",
              "      <td>summer</td>\n",
              "    </tr>\n",
              "    <tr>\n",
              "      <th>3</th>\n",
              "      <td>0.11355</td>\n",
              "      <td>0.29300</td>\n",
              "      <td>0.26675</td>\n",
              "      <td>559328111</td>\n",
              "      <td>2017-01-03</td>\n",
              "      <td>0.669891</td>\n",
              "      <td>6940.507640</td>\n",
              "      <td>S2A_MSIL1C_20170103T142022_N0204_R010_T20JLL_2...</td>\n",
              "      <td>0.0</td>\n",
              "      <td>1</td>\n",
              "      <td>summer</td>\n",
              "    </tr>\n",
              "    <tr>\n",
              "      <th>4</th>\n",
              "      <td>0.12240</td>\n",
              "      <td>0.29460</td>\n",
              "      <td>0.28950</td>\n",
              "      <td>559328112</td>\n",
              "      <td>2017-01-03</td>\n",
              "      <td>0.619112</td>\n",
              "      <td>4587.356048</td>\n",
              "      <td>S2A_MSIL1C_20170103T142022_N0204_R010_T20JLL_2...</td>\n",
              "      <td>0.0</td>\n",
              "      <td>1</td>\n",
              "      <td>summer</td>\n",
              "    </tr>\n",
              "    <tr>\n",
              "      <th>...</th>\n",
              "      <td>...</td>\n",
              "      <td>...</td>\n",
              "      <td>...</td>\n",
              "      <td>...</td>\n",
              "      <td>...</td>\n",
              "      <td>...</td>\n",
              "      <td>...</td>\n",
              "      <td>...</td>\n",
              "      <td>...</td>\n",
              "      <td>...</td>\n",
              "      <td>...</td>\n",
              "    </tr>\n",
              "    <tr>\n",
              "      <th>208927</th>\n",
              "      <td>0.11270</td>\n",
              "      <td>0.20520</td>\n",
              "      <td>0.18950</td>\n",
              "      <td>307532496</td>\n",
              "      <td>2022-04-17</td>\n",
              "      <td>0.563955</td>\n",
              "      <td>3824.467794</td>\n",
              "      <td>S2A_MSIL1C_20220417T141741_N0400_R010_T20JLL_2...</td>\n",
              "      <td>0.0</td>\n",
              "      <td>4</td>\n",
              "      <td>autumn</td>\n",
              "    </tr>\n",
              "    <tr>\n",
              "      <th>208928</th>\n",
              "      <td>0.13665</td>\n",
              "      <td>0.23835</td>\n",
              "      <td>0.27315</td>\n",
              "      <td>307535460</td>\n",
              "      <td>2022-04-17</td>\n",
              "      <td>0.490798</td>\n",
              "      <td>7184.535857</td>\n",
              "      <td>S2A_MSIL1C_20220417T141741_N0400_R010_T20JLL_2...</td>\n",
              "      <td>0.0</td>\n",
              "      <td>4</td>\n",
              "      <td>autumn</td>\n",
              "    </tr>\n",
              "    <tr>\n",
              "      <th>208929</th>\n",
              "      <td>0.10625</td>\n",
              "      <td>0.22425</td>\n",
              "      <td>0.22230</td>\n",
              "      <td>307796387</td>\n",
              "      <td>2022-04-17</td>\n",
              "      <td>0.566516</td>\n",
              "      <td>1147.997645</td>\n",
              "      <td>S2A_MSIL1C_20220417T141741_N0400_R010_T20JLL_2...</td>\n",
              "      <td>0.0</td>\n",
              "      <td>4</td>\n",
              "      <td>autumn</td>\n",
              "    </tr>\n",
              "    <tr>\n",
              "      <th>208930</th>\n",
              "      <td>0.12570</td>\n",
              "      <td>0.20880</td>\n",
              "      <td>0.25450</td>\n",
              "      <td>307097955</td>\n",
              "      <td>2022-04-17</td>\n",
              "      <td>0.534379</td>\n",
              "      <td>5185.690046</td>\n",
              "      <td>S2A_MSIL1C_20220417T141741_N0400_R010_T20JLL_2...</td>\n",
              "      <td>0.0</td>\n",
              "      <td>4</td>\n",
              "      <td>autumn</td>\n",
              "    </tr>\n",
              "    <tr>\n",
              "      <th>208931</th>\n",
              "      <td>0.10180</td>\n",
              "      <td>0.19080</td>\n",
              "      <td>0.19740</td>\n",
              "      <td>901791744</td>\n",
              "      <td>2022-04-17</td>\n",
              "      <td>0.635997</td>\n",
              "      <td>9394.381202</td>\n",
              "      <td>S2A_MSIL1C_20220417T141741_N0400_R010_T20JLL_2...</td>\n",
              "      <td>0.0</td>\n",
              "      <td>4</td>\n",
              "      <td>autumn</td>\n",
              "    </tr>\n",
              "  </tbody>\n",
              "</table>\n",
              "<p>208932 rows × 11 columns</p>\n",
              "</div>\n",
              "      <button class=\"colab-df-convert\" onclick=\"convertToInteractive('df-917408f6-17af-497d-a681-e579d95646b8')\"\n",
              "              title=\"Convert this dataframe to an interactive table.\"\n",
              "              style=\"display:none;\">\n",
              "        \n",
              "  <svg xmlns=\"http://www.w3.org/2000/svg\" height=\"24px\"viewBox=\"0 0 24 24\"\n",
              "       width=\"24px\">\n",
              "    <path d=\"M0 0h24v24H0V0z\" fill=\"none\"/>\n",
              "    <path d=\"M18.56 5.44l.94 2.06.94-2.06 2.06-.94-2.06-.94-.94-2.06-.94 2.06-2.06.94zm-11 1L8.5 8.5l.94-2.06 2.06-.94-2.06-.94L8.5 2.5l-.94 2.06-2.06.94zm10 10l.94 2.06.94-2.06 2.06-.94-2.06-.94-.94-2.06-.94 2.06-2.06.94z\"/><path d=\"M17.41 7.96l-1.37-1.37c-.4-.4-.92-.59-1.43-.59-.52 0-1.04.2-1.43.59L10.3 9.45l-7.72 7.72c-.78.78-.78 2.05 0 2.83L4 21.41c.39.39.9.59 1.41.59.51 0 1.02-.2 1.41-.59l7.78-7.78 2.81-2.81c.8-.78.8-2.07 0-2.86zM5.41 20L4 18.59l7.72-7.72 1.47 1.35L5.41 20z\"/>\n",
              "  </svg>\n",
              "      </button>\n",
              "      \n",
              "  <style>\n",
              "    .colab-df-container {\n",
              "      display:flex;\n",
              "      flex-wrap:wrap;\n",
              "      gap: 12px;\n",
              "    }\n",
              "\n",
              "    .colab-df-convert {\n",
              "      background-color: #E8F0FE;\n",
              "      border: none;\n",
              "      border-radius: 50%;\n",
              "      cursor: pointer;\n",
              "      display: none;\n",
              "      fill: #1967D2;\n",
              "      height: 32px;\n",
              "      padding: 0 0 0 0;\n",
              "      width: 32px;\n",
              "    }\n",
              "\n",
              "    .colab-df-convert:hover {\n",
              "      background-color: #E2EBFA;\n",
              "      box-shadow: 0px 1px 2px rgba(60, 64, 67, 0.3), 0px 1px 3px 1px rgba(60, 64, 67, 0.15);\n",
              "      fill: #174EA6;\n",
              "    }\n",
              "\n",
              "    [theme=dark] .colab-df-convert {\n",
              "      background-color: #3B4455;\n",
              "      fill: #D2E3FC;\n",
              "    }\n",
              "\n",
              "    [theme=dark] .colab-df-convert:hover {\n",
              "      background-color: #434B5C;\n",
              "      box-shadow: 0px 1px 3px 1px rgba(0, 0, 0, 0.15);\n",
              "      filter: drop-shadow(0px 1px 2px rgba(0, 0, 0, 0.3));\n",
              "      fill: #FFFFFF;\n",
              "    }\n",
              "  </style>\n",
              "\n",
              "      <script>\n",
              "        const buttonEl =\n",
              "          document.querySelector('#df-917408f6-17af-497d-a681-e579d95646b8 button.colab-df-convert');\n",
              "        buttonEl.style.display =\n",
              "          google.colab.kernel.accessAllowed ? 'block' : 'none';\n",
              "\n",
              "        async function convertToInteractive(key) {\n",
              "          const element = document.querySelector('#df-917408f6-17af-497d-a681-e579d95646b8');\n",
              "          const dataTable =\n",
              "            await google.colab.kernel.invokeFunction('convertToInteractive',\n",
              "                                                     [key], {});\n",
              "          if (!dataTable) return;\n",
              "\n",
              "          const docLinkHtml = 'Like what you see? Visit the ' +\n",
              "            '<a target=\"_blank\" href=https://colab.research.google.com/notebooks/data_table.ipynb>data table notebook</a>'\n",
              "            + ' to learn more about interactive tables.';\n",
              "          element.innerHTML = '';\n",
              "          dataTable['output_type'] = 'display_data';\n",
              "          await google.colab.output.renderOutput(dataTable, element);\n",
              "          const docLink = document.createElement('div');\n",
              "          docLink.innerHTML = docLinkHtml;\n",
              "          element.appendChild(docLink);\n",
              "        }\n",
              "      </script>\n",
              "    </div>\n",
              "  </div>\n",
              "  "
            ]
          },
          "metadata": {},
          "execution_count": 86
        }
      ],
      "source": [
        "# Para la remoción de outliers por estación, definimos la estación a la que corresponde cada registro. \n",
        "# Convertimos la columna date a tipo datetime\n",
        "df_interest_E['date']= pd.to_datetime(df_interest_E['date'])\n",
        "\n",
        "# Extraemos el mes de cada registro.\n",
        "df_interest_E['month'] = df_interest_E['date'].dt.month\n",
        "\n",
        "# Aplicamos la siguiente función para determinar la estación a la que corresponde cada registro.\n",
        "def seasons(df, col):\n",
        "    Seasons = []\n",
        "    for month in df[col]:\n",
        "        if month in (1, 2, 3):\n",
        "            season = 'summer'\n",
        "        elif month in (4, 5, 6):\n",
        "            season = 'autumn'\n",
        "        elif month in (7, 8, 9):\n",
        "            season = 'winter'\n",
        "        else:\n",
        "            season = 'spring'\n",
        "        Seasons.append(season)\n",
        "    df[\"season\"]= Seasons\n",
        "\n",
        "seasons(df_interest_E, \"month\")\n",
        "df_interest_E"
      ],
      "id": "6Z_yAmNa3wGP"
    },
    {
      "cell_type": "code",
      "source": [
        "# Generamos nuevas columnas de cada banda para cada estación\n",
        "df_interest_E.loc[df_interest_E['season'] == 'summer', 'B02_summer'] = df_interest_E['B02_median']  \n",
        "df_interest_E.loc[df_interest_E['season'] == 'autumn', 'B02_autumn'] = df_interest_E['B02_median']\n",
        "df_interest_E.loc[df_interest_E['season'] == 'winter', 'B02_winter'] = df_interest_E['B02_median']\n",
        "df_interest_E.loc[df_interest_E['season'] == 'spring', 'B02_spring'] = df_interest_E['B02_median']\n",
        "\n",
        "df_interest_E.loc[df_interest_E['season'] == 'summer', 'B06_summer'] = df_interest_E['B06_median']  \n",
        "df_interest_E.loc[df_interest_E['season'] == 'autumn', 'B06_autumn'] = df_interest_E['B06_median']\n",
        "df_interest_E.loc[df_interest_E['season'] == 'winter', 'B06_winter'] = df_interest_E['B06_median']\n",
        "df_interest_E.loc[df_interest_E['season'] == 'spring', 'B06_spring'] = df_interest_E['B06_median']\n",
        "\n",
        "df_interest_E.loc[df_interest_E['season'] == 'summer', 'B11_summer'] = df_interest_E['B11_median']  \n",
        "df_interest_E.loc[df_interest_E['season'] == 'autumn', 'B11_autumn'] = df_interest_E['B11_median']\n",
        "df_interest_E.loc[df_interest_E['season'] == 'winter', 'B11_winter'] = df_interest_E['B11_median']\n",
        "df_interest_E.loc[df_interest_E['season'] == 'spring', 'B11_spring'] = df_interest_E['B11_median']"
      ],
      "metadata": {
        "colab": {
          "base_uri": "https://localhost:8080/"
        },
        "id": "9rmHlcPfZwFX",
        "outputId": "be9b9d3d-3051-4410-efc4-23eae4a1c929"
      },
      "id": "9rmHlcPfZwFX",
      "execution_count": 87,
      "outputs": [
        {
          "output_type": "stream",
          "name": "stderr",
          "text": [
            "/usr/local/lib/python3.7/dist-packages/pandas/core/indexing.py:1681: SettingWithCopyWarning: \n",
            "A value is trying to be set on a copy of a slice from a DataFrame.\n",
            "Try using .loc[row_indexer,col_indexer] = value instead\n",
            "\n",
            "See the caveats in the documentation: https://pandas.pydata.org/pandas-docs/stable/user_guide/indexing.html#returning-a-view-versus-a-copy\n",
            "  self.obj[key] = empty_value\n",
            "/usr/local/lib/python3.7/dist-packages/pandas/core/indexing.py:1773: SettingWithCopyWarning: \n",
            "A value is trying to be set on a copy of a slice from a DataFrame.\n",
            "Try using .loc[row_indexer,col_indexer] = value instead\n",
            "\n",
            "See the caveats in the documentation: https://pandas.pydata.org/pandas-docs/stable/user_guide/indexing.html#returning-a-view-versus-a-copy\n",
            "  self._setitem_single_column(ilocs[0], value, pi)\n"
          ]
        }
      ]
    },
    {
      "cell_type": "code",
      "source": [
        "# Creamos lista de nuevas columnas para usarla como argumento en la función que detecta outliers\n",
        "Season_values = ['B02_summer', 'B02_autumn', 'B02_winter', 'B02_spring', 'B06_summer', 'B06_autumn', 'B06_winter', \n",
        "                'B06_spring', 'B11_summer', 'B11_autumn', 'B11_winter', 'B11_spring']"
      ],
      "metadata": {
        "id": "Eg0pKSjqZv29"
      },
      "id": "Eg0pKSjqZv29",
      "execution_count": 88,
      "outputs": []
    },
    {
      "cell_type": "code",
      "source": [
        "def find_outliers(df, col_list):\n",
        "    # calculamos cuartiles 1 y 3, y el interquartil (iqr)\n",
        "    for col in col_list:\n",
        "        if col==\"NaN\":\n",
        "            continue\n",
        "        q1 = df[col].quantile(0.25)\n",
        "        q3 = df[col].quantile(0.75)\n",
        "        iqr = q3 - q1 \n",
        "        # calculamos límite superior e inferior\n",
        "        ls = q1 + 1.5 * iqr\n",
        "        li = q3 - 1.5 * iqr\n",
        "        # Generamos nueva columna\n",
        "        df['outl_'+col]=  np.where((df[col] >ls)| (df[col] < li),1,0)"
      ],
      "metadata": {
        "id": "jbAa4ouUayKs"
      },
      "id": "jbAa4ouUayKs",
      "execution_count": 89,
      "outputs": []
    },
    {
      "cell_type": "code",
      "source": [
        "# Aplicamos la función de detección de outliers\n",
        "find_outliers(df_interest_E, Season_values)"
      ],
      "metadata": {
        "colab": {
          "base_uri": "https://localhost:8080/"
        },
        "id": "j2zpXQbGbGxr",
        "outputId": "03ce1eb6-0a08-4085-fbd4-15c28192616d"
      },
      "id": "j2zpXQbGbGxr",
      "execution_count": 90,
      "outputs": [
        {
          "output_type": "stream",
          "name": "stderr",
          "text": [
            "/usr/local/lib/python3.7/dist-packages/ipykernel_launcher.py:13: SettingWithCopyWarning: \n",
            "A value is trying to be set on a copy of a slice from a DataFrame.\n",
            "Try using .loc[row_indexer,col_indexer] = value instead\n",
            "\n",
            "See the caveats in the documentation: https://pandas.pydata.org/pandas-docs/stable/user_guide/indexing.html#returning-a-view-versus-a-copy\n",
            "  del sys.path[0]\n"
          ]
        }
      ]
    },
    {
      "cell_type": "code",
      "source": [
        "# Se quitan aquellos registros donde se observa que para las tres bandas bajo análisis (en cada estación), \n",
        "# los valores son outliers (valor = 1)\n",
        "df_interest_E2_summer = df_interest_E[~((df_interest_E['outl_B02_summer']==1) & (df_interest_E['outl_B06_summer']==1) & \n",
        "                        (df_interest_E['outl_B11_summer']==1))]\n",
        "print(len(df_interest_E2_summer))\n",
        "\n",
        "df_interest_E2_autumn = df_interest_E2_summer[~((df_interest_E['outl_B02_autumn']==1) & \n",
        "                        (df_interest_E2_summer['outl_B06_autumn']==1) & (df_interest_E2_summer['outl_B11_autumn']==1))]\n",
        "print(len(df_interest_E2_autumn))\n",
        "\n",
        "df_interest_E2_winter = df_interest_E2_autumn[~((df_interest_E['outl_B02_winter']==1) & \n",
        "                        (df_interest_E2_autumn['outl_B06_winter']==1) & (df_interest_E2_autumn['outl_B11_winter']==1))]\n",
        "print(len(df_interest_E2_winter))\n",
        "\n",
        "df_interest_E2_spring = df_interest_E2_winter[~((df_interest_E['outl_B02_spring']==1) & \n",
        "                        (df_interest_E2_winter['outl_B06_spring']==1) & (df_interest_E2_winter['outl_B11_spring']==1))]\n",
        "print(len(df_interest_E2_spring))"
      ],
      "metadata": {
        "colab": {
          "base_uri": "https://localhost:8080/"
        },
        "id": "K7mUCBxmbGiJ",
        "outputId": "1ba8b807-89f5-40f3-9e72-90105ae19752"
      },
      "id": "K7mUCBxmbGiJ",
      "execution_count": 91,
      "outputs": [
        {
          "output_type": "stream",
          "name": "stdout",
          "text": [
            "205669\n"
          ]
        },
        {
          "output_type": "stream",
          "name": "stderr",
          "text": [
            "/usr/local/lib/python3.7/dist-packages/ipykernel_launcher.py:8: UserWarning: Boolean Series key will be reindexed to match DataFrame index.\n",
            "  \n"
          ]
        },
        {
          "output_type": "stream",
          "name": "stdout",
          "text": [
            "202722\n"
          ]
        },
        {
          "output_type": "stream",
          "name": "stderr",
          "text": [
            "/usr/local/lib/python3.7/dist-packages/ipykernel_launcher.py:12: UserWarning: Boolean Series key will be reindexed to match DataFrame index.\n",
            "  if sys.path[0] == '':\n"
          ]
        },
        {
          "output_type": "stream",
          "name": "stdout",
          "text": [
            "200130\n"
          ]
        },
        {
          "output_type": "stream",
          "name": "stderr",
          "text": [
            "/usr/local/lib/python3.7/dist-packages/ipykernel_launcher.py:16: UserWarning: Boolean Series key will be reindexed to match DataFrame index.\n",
            "  app.launch_new_instance()\n"
          ]
        },
        {
          "output_type": "stream",
          "name": "stdout",
          "text": [
            "197680\n"
          ]
        }
      ]
    },
    {
      "cell_type": "markdown",
      "source": [
        "##Dividimos el conjunto de datos por estación"
      ],
      "metadata": {
        "id": "UhicSwd4OdTN"
      },
      "id": "UhicSwd4OdTN"
    },
    {
      "cell_type": "code",
      "source": [
        "df_interest_E2_spring.columns"
      ],
      "metadata": {
        "id": "h4nl8EfbWFYn",
        "outputId": "6e20776e-33e4-46a5-c801-d9d3ef8d84d7",
        "colab": {
          "base_uri": "https://localhost:8080/"
        }
      },
      "id": "h4nl8EfbWFYn",
      "execution_count": 92,
      "outputs": [
        {
          "output_type": "execute_result",
          "data": {
            "text/plain": [
              "Index(['B02_median', 'B06_median', 'B11_median', 'osm_id', 'date', 'ndvi_max',\n",
              "       'area_m2', 'raster', 'clouds_on_raster', 'month', 'season',\n",
              "       'B02_summer', 'B02_autumn', 'B02_winter', 'B02_spring', 'B06_summer',\n",
              "       'B06_autumn', 'B06_winter', 'B06_spring', 'B11_summer', 'B11_autumn',\n",
              "       'B11_winter', 'B11_spring', 'outl_B02_summer', 'outl_B02_autumn',\n",
              "       'outl_B02_winter', 'outl_B02_spring', 'outl_B06_summer',\n",
              "       'outl_B06_autumn', 'outl_B06_winter', 'outl_B06_spring',\n",
              "       'outl_B11_summer', 'outl_B11_autumn', 'outl_B11_winter',\n",
              "       'outl_B11_spring'],\n",
              "      dtype='object')"
            ]
          },
          "metadata": {},
          "execution_count": 92
        }
      ]
    },
    {
      "cell_type": "code",
      "source": [
        "df_interest_summer = df_interest_E2_spring[df_interest_E2_spring['season']==\"summer\"]\n",
        "df_interest_autumn = df_interest_E2_spring[df_interest_E2_spring['season']==\"autumn\"]\n",
        "df_interest_winter = df_interest_E2_spring[df_interest_E2_spring['season']==\"winter\"]\n",
        "df_interest_spring = df_interest_E2_spring[df_interest_E2_spring['season']==\"spring\"]"
      ],
      "metadata": {
        "id": "w3KM1krJVeFr"
      },
      "id": "w3KM1krJVeFr",
      "execution_count": 93,
      "outputs": []
    },
    {
      "cell_type": "markdown",
      "source": [
        "Seleccionamos las columnas de interés para cada subconjunto"
      ],
      "metadata": {
        "id": "PHM5L1FjWTI6"
      },
      "id": "PHM5L1FjWTI6"
    },
    {
      "cell_type": "code",
      "source": [
        "df_summer = df_interest_summer[['B02_median', 'B06_median', 'B11_median', 'osm_id', 'date', 'ndvi_max',\n",
        "       'area_m2', 'raster', 'clouds_on_raster', 'month', 'season','B02_summer',  'B06_summer',\n",
        "    'B11_summer', 'outl_B02_summer', 'outl_B06_summer',\n",
        "       'outl_B11_summer']]\n",
        "\n",
        "df_autumn = df_interest_autumn[['B02_median', 'B06_median', 'B11_median', 'osm_id', 'date', 'ndvi_max',\n",
        "       'area_m2', 'raster', 'clouds_on_raster', 'month', 'season','B02_autumn',  'B06_autumn',\n",
        "    'B11_autumn', 'outl_B02_autumn', 'outl_B06_autumn',\n",
        "       'outl_B11_autumn']]\n",
        "\n",
        "df_winter = df_interest_winter[['B02_median', 'B06_median', 'B11_median', 'osm_id', 'date', 'ndvi_max',\n",
        "       'area_m2', 'raster', 'clouds_on_raster', 'month', 'season','B02_winter',  'B06_winter',\n",
        "    'B11_winter', 'outl_B02_winter', 'outl_B06_winter',\n",
        "       'outl_B11_winter']]\n",
        "\n",
        "df_spring = df_interest_spring[['B02_median', 'B06_median', 'B11_median', 'osm_id', 'date', 'ndvi_max',\n",
        "       'area_m2', 'raster', 'clouds_on_raster', 'month', 'season','B02_spring',  'B06_spring',\n",
        "    'B11_spring', 'outl_B02_spring', 'outl_B06_spring',\n",
        "       'outl_B11_spring']]                    "
      ],
      "metadata": {
        "id": "vTWyjpFMWbQW"
      },
      "id": "vTWyjpFMWbQW",
      "execution_count": 94,
      "outputs": []
    },
    {
      "cell_type": "markdown",
      "source": [
        "##5- Normalización para cada subconjunto\n",
        "Utilizamos el objeto scikit-learn MinMaxScaler para escalar los datos, debido a que imputaremos por los K-vecinos más cercanos. Dicho algoritmo utiliza medidas de distancias y se ve afectado por la escala de las variables de entrada. Efectuamos la normalización para cada subconjunto por separado."
      ],
      "metadata": {
        "id": "6s6q16pZdd3N"
      },
      "id": "6s6q16pZdd3N"
    },
    {
      "cell_type": "code",
      "source": [
        "cols_summer = ['B02_median', 'B06_median', 'B11_median', 'ndvi_max',\n",
        "       'B02_summer',  'B06_summer', 'B11_summer']\n",
        "cols_autumn = ['B02_median', 'B06_median', 'B11_median', 'ndvi_max',\n",
        "       'B02_autumn',  'B06_autumn', 'B11_autumn']\n",
        "cols_winter = ['B02_median', 'B06_median', 'B11_median', 'ndvi_max',\n",
        "       'B02_winter',  'B06_winter', 'B11_winter']\n",
        "cols_spring = ['B02_median', 'B06_median', 'B11_median', 'ndvi_max',\n",
        "       'B02_spring', 'B06_spring', 'B11_spring']\n"
      ],
      "metadata": {
        "id": "T7JWnViX-esb"
      },
      "id": "T7JWnViX-esb",
      "execution_count": 95,
      "outputs": []
    },
    {
      "cell_type": "code",
      "source": [
        "from sklearn.preprocessing import MinMaxScaler"
      ],
      "metadata": {
        "id": "gscrR-kPIHoJ"
      },
      "id": "gscrR-kPIHoJ",
      "execution_count": 96,
      "outputs": []
    },
    {
      "cell_type": "code",
      "source": [
        "#Subconjunto verano\n",
        "estandarizador1 = MinMaxScaler()\n",
        "estandarizador1.fit(df_summer[cols_summer])\n",
        "df_summer.loc[:, cols_summer] = estandarizador1.transform(df_summer[cols_summer])\n",
        "df_summer"
      ],
      "metadata": {
        "colab": {
          "base_uri": "https://localhost:8080/",
          "height": 753
        },
        "id": "3WgdNkGfdigd",
        "outputId": "b09a06dd-7254-4e66-8010-b3470c2d54a7"
      },
      "id": "3WgdNkGfdigd",
      "execution_count": 97,
      "outputs": [
        {
          "output_type": "stream",
          "name": "stderr",
          "text": [
            "/usr/local/lib/python3.7/dist-packages/pandas/core/indexing.py:1835: SettingWithCopyWarning: \n",
            "A value is trying to be set on a copy of a slice from a DataFrame.\n",
            "Try using .loc[row_indexer,col_indexer] = value instead\n",
            "\n",
            "See the caveats in the documentation: https://pandas.pydata.org/pandas-docs/stable/user_guide/indexing.html#returning-a-view-versus-a-copy\n",
            "  self._setitem_single_column(loc, value[:, i].tolist(), pi)\n"
          ]
        },
        {
          "output_type": "execute_result",
          "data": {
            "text/plain": [
              "        B02_median  B06_median  B11_median     osm_id       date  ndvi_max  \\\n",
              "0         0.059714    0.434332    0.417777  605976736 2017-01-03  0.662894   \n",
              "1         0.084792    0.630283    0.598532  559322368 2017-01-03  0.661913   \n",
              "2         0.100435    0.617004    0.577331  559322369 2017-01-03  0.652560   \n",
              "3         0.102048    0.738461    0.632645  559328111 2017-01-03  0.708477   \n",
              "4         0.124022    0.743644    0.694482  559328112 2017-01-03  0.649143   \n",
              "...            ...         ...         ...        ...        ...       ...   \n",
              "206656    0.101676    0.593684    0.498777  307531370 2022-03-28  0.674109   \n",
              "206657    0.067412    0.485182    0.421854  307532496 2022-03-28  0.663206   \n",
              "206658    0.119801    0.661215    0.607774  307535460 2022-03-28  0.615957   \n",
              "206659    0.058473    0.581862    0.499320  307796387 2022-03-28  0.703242   \n",
              "206660    0.101179    0.554494    0.558576  307097956 2022-03-28  0.605767   \n",
              "\n",
              "            area_m2                                             raster  \\\n",
              "0       4650.710032  S2A_MSIL1C_20170103T142022_N0204_R010_T20JLL_2...   \n",
              "1       1502.000513  S2A_MSIL1C_20170103T142022_N0204_R010_T20JLL_2...   \n",
              "2       2004.192528  S2A_MSIL1C_20170103T142022_N0204_R010_T20JLL_2...   \n",
              "3       6940.507640  S2A_MSIL1C_20170103T142022_N0204_R010_T20JLL_2...   \n",
              "4       4587.356048  S2A_MSIL1C_20170103T142022_N0204_R010_T20JLL_2...   \n",
              "...             ...                                                ...   \n",
              "206656  3658.725375  S2A_MSIL1C_20220328T141741_N0400_R010_T20JLL_2...   \n",
              "206657  3824.467794  S2A_MSIL1C_20220328T141741_N0400_R010_T20JLL_2...   \n",
              "206658  7184.535857  S2A_MSIL1C_20220328T141741_N0400_R010_T20JLL_2...   \n",
              "206659  1147.997645  S2A_MSIL1C_20220328T141741_N0400_R010_T20JLL_2...   \n",
              "206660  1611.043847  S2A_MSIL1C_20220328T141741_N0400_R010_T20JLL_2...   \n",
              "\n",
              "        clouds_on_raster  month  season  B02_summer  B06_summer  B11_summer  \\\n",
              "0                    0.0      1  summer    0.059714    0.434332    0.417777   \n",
              "1                    0.0      1  summer    0.084792    0.630283    0.598532   \n",
              "2                    0.0      1  summer    0.100435    0.617004    0.577331   \n",
              "3                    0.0      1  summer    0.102048    0.738461    0.632645   \n",
              "4                    0.0      1  summer    0.124022    0.743644    0.694482   \n",
              "...                  ...    ...     ...         ...         ...         ...   \n",
              "206656               0.0      3  summer    0.101676    0.593684    0.498777   \n",
              "206657               0.0      3  summer    0.067412    0.485182    0.421854   \n",
              "206658               0.0      3  summer    0.119801    0.661215    0.607774   \n",
              "206659               0.0      3  summer    0.058473    0.581862    0.499320   \n",
              "206660               0.0      3  summer    0.101179    0.554494    0.558576   \n",
              "\n",
              "        outl_B02_summer  outl_B06_summer  outl_B11_summer  \n",
              "0                     0                0                0  \n",
              "1                     0                0                0  \n",
              "2                     0                0                0  \n",
              "3                     0                1                0  \n",
              "4                     0                1                1  \n",
              "...                 ...              ...              ...  \n",
              "206656                0                0                0  \n",
              "206657                0                0                0  \n",
              "206658                0                0                0  \n",
              "206659                0                0                0  \n",
              "206660                0                0                0  \n",
              "\n",
              "[60325 rows x 17 columns]"
            ],
            "text/html": [
              "\n",
              "  <div id=\"df-92a762d0-ea3c-4c10-8b58-81990fe02352\">\n",
              "    <div class=\"colab-df-container\">\n",
              "      <div>\n",
              "<style scoped>\n",
              "    .dataframe tbody tr th:only-of-type {\n",
              "        vertical-align: middle;\n",
              "    }\n",
              "\n",
              "    .dataframe tbody tr th {\n",
              "        vertical-align: top;\n",
              "    }\n",
              "\n",
              "    .dataframe thead th {\n",
              "        text-align: right;\n",
              "    }\n",
              "</style>\n",
              "<table border=\"1\" class=\"dataframe\">\n",
              "  <thead>\n",
              "    <tr style=\"text-align: right;\">\n",
              "      <th></th>\n",
              "      <th>B02_median</th>\n",
              "      <th>B06_median</th>\n",
              "      <th>B11_median</th>\n",
              "      <th>osm_id</th>\n",
              "      <th>date</th>\n",
              "      <th>ndvi_max</th>\n",
              "      <th>area_m2</th>\n",
              "      <th>raster</th>\n",
              "      <th>clouds_on_raster</th>\n",
              "      <th>month</th>\n",
              "      <th>season</th>\n",
              "      <th>B02_summer</th>\n",
              "      <th>B06_summer</th>\n",
              "      <th>B11_summer</th>\n",
              "      <th>outl_B02_summer</th>\n",
              "      <th>outl_B06_summer</th>\n",
              "      <th>outl_B11_summer</th>\n",
              "    </tr>\n",
              "  </thead>\n",
              "  <tbody>\n",
              "    <tr>\n",
              "      <th>0</th>\n",
              "      <td>0.059714</td>\n",
              "      <td>0.434332</td>\n",
              "      <td>0.417777</td>\n",
              "      <td>605976736</td>\n",
              "      <td>2017-01-03</td>\n",
              "      <td>0.662894</td>\n",
              "      <td>4650.710032</td>\n",
              "      <td>S2A_MSIL1C_20170103T142022_N0204_R010_T20JLL_2...</td>\n",
              "      <td>0.0</td>\n",
              "      <td>1</td>\n",
              "      <td>summer</td>\n",
              "      <td>0.059714</td>\n",
              "      <td>0.434332</td>\n",
              "      <td>0.417777</td>\n",
              "      <td>0</td>\n",
              "      <td>0</td>\n",
              "      <td>0</td>\n",
              "    </tr>\n",
              "    <tr>\n",
              "      <th>1</th>\n",
              "      <td>0.084792</td>\n",
              "      <td>0.630283</td>\n",
              "      <td>0.598532</td>\n",
              "      <td>559322368</td>\n",
              "      <td>2017-01-03</td>\n",
              "      <td>0.661913</td>\n",
              "      <td>1502.000513</td>\n",
              "      <td>S2A_MSIL1C_20170103T142022_N0204_R010_T20JLL_2...</td>\n",
              "      <td>0.0</td>\n",
              "      <td>1</td>\n",
              "      <td>summer</td>\n",
              "      <td>0.084792</td>\n",
              "      <td>0.630283</td>\n",
              "      <td>0.598532</td>\n",
              "      <td>0</td>\n",
              "      <td>0</td>\n",
              "      <td>0</td>\n",
              "    </tr>\n",
              "    <tr>\n",
              "      <th>2</th>\n",
              "      <td>0.100435</td>\n",
              "      <td>0.617004</td>\n",
              "      <td>0.577331</td>\n",
              "      <td>559322369</td>\n",
              "      <td>2017-01-03</td>\n",
              "      <td>0.652560</td>\n",
              "      <td>2004.192528</td>\n",
              "      <td>S2A_MSIL1C_20170103T142022_N0204_R010_T20JLL_2...</td>\n",
              "      <td>0.0</td>\n",
              "      <td>1</td>\n",
              "      <td>summer</td>\n",
              "      <td>0.100435</td>\n",
              "      <td>0.617004</td>\n",
              "      <td>0.577331</td>\n",
              "      <td>0</td>\n",
              "      <td>0</td>\n",
              "      <td>0</td>\n",
              "    </tr>\n",
              "    <tr>\n",
              "      <th>3</th>\n",
              "      <td>0.102048</td>\n",
              "      <td>0.738461</td>\n",
              "      <td>0.632645</td>\n",
              "      <td>559328111</td>\n",
              "      <td>2017-01-03</td>\n",
              "      <td>0.708477</td>\n",
              "      <td>6940.507640</td>\n",
              "      <td>S2A_MSIL1C_20170103T142022_N0204_R010_T20JLL_2...</td>\n",
              "      <td>0.0</td>\n",
              "      <td>1</td>\n",
              "      <td>summer</td>\n",
              "      <td>0.102048</td>\n",
              "      <td>0.738461</td>\n",
              "      <td>0.632645</td>\n",
              "      <td>0</td>\n",
              "      <td>1</td>\n",
              "      <td>0</td>\n",
              "    </tr>\n",
              "    <tr>\n",
              "      <th>4</th>\n",
              "      <td>0.124022</td>\n",
              "      <td>0.743644</td>\n",
              "      <td>0.694482</td>\n",
              "      <td>559328112</td>\n",
              "      <td>2017-01-03</td>\n",
              "      <td>0.649143</td>\n",
              "      <td>4587.356048</td>\n",
              "      <td>S2A_MSIL1C_20170103T142022_N0204_R010_T20JLL_2...</td>\n",
              "      <td>0.0</td>\n",
              "      <td>1</td>\n",
              "      <td>summer</td>\n",
              "      <td>0.124022</td>\n",
              "      <td>0.743644</td>\n",
              "      <td>0.694482</td>\n",
              "      <td>0</td>\n",
              "      <td>1</td>\n",
              "      <td>1</td>\n",
              "    </tr>\n",
              "    <tr>\n",
              "      <th>...</th>\n",
              "      <td>...</td>\n",
              "      <td>...</td>\n",
              "      <td>...</td>\n",
              "      <td>...</td>\n",
              "      <td>...</td>\n",
              "      <td>...</td>\n",
              "      <td>...</td>\n",
              "      <td>...</td>\n",
              "      <td>...</td>\n",
              "      <td>...</td>\n",
              "      <td>...</td>\n",
              "      <td>...</td>\n",
              "      <td>...</td>\n",
              "      <td>...</td>\n",
              "      <td>...</td>\n",
              "      <td>...</td>\n",
              "      <td>...</td>\n",
              "    </tr>\n",
              "    <tr>\n",
              "      <th>206656</th>\n",
              "      <td>0.101676</td>\n",
              "      <td>0.593684</td>\n",
              "      <td>0.498777</td>\n",
              "      <td>307531370</td>\n",
              "      <td>2022-03-28</td>\n",
              "      <td>0.674109</td>\n",
              "      <td>3658.725375</td>\n",
              "      <td>S2A_MSIL1C_20220328T141741_N0400_R010_T20JLL_2...</td>\n",
              "      <td>0.0</td>\n",
              "      <td>3</td>\n",
              "      <td>summer</td>\n",
              "      <td>0.101676</td>\n",
              "      <td>0.593684</td>\n",
              "      <td>0.498777</td>\n",
              "      <td>0</td>\n",
              "      <td>0</td>\n",
              "      <td>0</td>\n",
              "    </tr>\n",
              "    <tr>\n",
              "      <th>206657</th>\n",
              "      <td>0.067412</td>\n",
              "      <td>0.485182</td>\n",
              "      <td>0.421854</td>\n",
              "      <td>307532496</td>\n",
              "      <td>2022-03-28</td>\n",
              "      <td>0.663206</td>\n",
              "      <td>3824.467794</td>\n",
              "      <td>S2A_MSIL1C_20220328T141741_N0400_R010_T20JLL_2...</td>\n",
              "      <td>0.0</td>\n",
              "      <td>3</td>\n",
              "      <td>summer</td>\n",
              "      <td>0.067412</td>\n",
              "      <td>0.485182</td>\n",
              "      <td>0.421854</td>\n",
              "      <td>0</td>\n",
              "      <td>0</td>\n",
              "      <td>0</td>\n",
              "    </tr>\n",
              "    <tr>\n",
              "      <th>206658</th>\n",
              "      <td>0.119801</td>\n",
              "      <td>0.661215</td>\n",
              "      <td>0.607774</td>\n",
              "      <td>307535460</td>\n",
              "      <td>2022-03-28</td>\n",
              "      <td>0.615957</td>\n",
              "      <td>7184.535857</td>\n",
              "      <td>S2A_MSIL1C_20220328T141741_N0400_R010_T20JLL_2...</td>\n",
              "      <td>0.0</td>\n",
              "      <td>3</td>\n",
              "      <td>summer</td>\n",
              "      <td>0.119801</td>\n",
              "      <td>0.661215</td>\n",
              "      <td>0.607774</td>\n",
              "      <td>0</td>\n",
              "      <td>0</td>\n",
              "      <td>0</td>\n",
              "    </tr>\n",
              "    <tr>\n",
              "      <th>206659</th>\n",
              "      <td>0.058473</td>\n",
              "      <td>0.581862</td>\n",
              "      <td>0.499320</td>\n",
              "      <td>307796387</td>\n",
              "      <td>2022-03-28</td>\n",
              "      <td>0.703242</td>\n",
              "      <td>1147.997645</td>\n",
              "      <td>S2A_MSIL1C_20220328T141741_N0400_R010_T20JLL_2...</td>\n",
              "      <td>0.0</td>\n",
              "      <td>3</td>\n",
              "      <td>summer</td>\n",
              "      <td>0.058473</td>\n",
              "      <td>0.581862</td>\n",
              "      <td>0.499320</td>\n",
              "      <td>0</td>\n",
              "      <td>0</td>\n",
              "      <td>0</td>\n",
              "    </tr>\n",
              "    <tr>\n",
              "      <th>206660</th>\n",
              "      <td>0.101179</td>\n",
              "      <td>0.554494</td>\n",
              "      <td>0.558576</td>\n",
              "      <td>307097956</td>\n",
              "      <td>2022-03-28</td>\n",
              "      <td>0.605767</td>\n",
              "      <td>1611.043847</td>\n",
              "      <td>S2A_MSIL1C_20220328T141741_N0400_R010_T20JLL_2...</td>\n",
              "      <td>0.0</td>\n",
              "      <td>3</td>\n",
              "      <td>summer</td>\n",
              "      <td>0.101179</td>\n",
              "      <td>0.554494</td>\n",
              "      <td>0.558576</td>\n",
              "      <td>0</td>\n",
              "      <td>0</td>\n",
              "      <td>0</td>\n",
              "    </tr>\n",
              "  </tbody>\n",
              "</table>\n",
              "<p>60325 rows × 17 columns</p>\n",
              "</div>\n",
              "      <button class=\"colab-df-convert\" onclick=\"convertToInteractive('df-92a762d0-ea3c-4c10-8b58-81990fe02352')\"\n",
              "              title=\"Convert this dataframe to an interactive table.\"\n",
              "              style=\"display:none;\">\n",
              "        \n",
              "  <svg xmlns=\"http://www.w3.org/2000/svg\" height=\"24px\"viewBox=\"0 0 24 24\"\n",
              "       width=\"24px\">\n",
              "    <path d=\"M0 0h24v24H0V0z\" fill=\"none\"/>\n",
              "    <path d=\"M18.56 5.44l.94 2.06.94-2.06 2.06-.94-2.06-.94-.94-2.06-.94 2.06-2.06.94zm-11 1L8.5 8.5l.94-2.06 2.06-.94-2.06-.94L8.5 2.5l-.94 2.06-2.06.94zm10 10l.94 2.06.94-2.06 2.06-.94-2.06-.94-.94-2.06-.94 2.06-2.06.94z\"/><path d=\"M17.41 7.96l-1.37-1.37c-.4-.4-.92-.59-1.43-.59-.52 0-1.04.2-1.43.59L10.3 9.45l-7.72 7.72c-.78.78-.78 2.05 0 2.83L4 21.41c.39.39.9.59 1.41.59.51 0 1.02-.2 1.41-.59l7.78-7.78 2.81-2.81c.8-.78.8-2.07 0-2.86zM5.41 20L4 18.59l7.72-7.72 1.47 1.35L5.41 20z\"/>\n",
              "  </svg>\n",
              "      </button>\n",
              "      \n",
              "  <style>\n",
              "    .colab-df-container {\n",
              "      display:flex;\n",
              "      flex-wrap:wrap;\n",
              "      gap: 12px;\n",
              "    }\n",
              "\n",
              "    .colab-df-convert {\n",
              "      background-color: #E8F0FE;\n",
              "      border: none;\n",
              "      border-radius: 50%;\n",
              "      cursor: pointer;\n",
              "      display: none;\n",
              "      fill: #1967D2;\n",
              "      height: 32px;\n",
              "      padding: 0 0 0 0;\n",
              "      width: 32px;\n",
              "    }\n",
              "\n",
              "    .colab-df-convert:hover {\n",
              "      background-color: #E2EBFA;\n",
              "      box-shadow: 0px 1px 2px rgba(60, 64, 67, 0.3), 0px 1px 3px 1px rgba(60, 64, 67, 0.15);\n",
              "      fill: #174EA6;\n",
              "    }\n",
              "\n",
              "    [theme=dark] .colab-df-convert {\n",
              "      background-color: #3B4455;\n",
              "      fill: #D2E3FC;\n",
              "    }\n",
              "\n",
              "    [theme=dark] .colab-df-convert:hover {\n",
              "      background-color: #434B5C;\n",
              "      box-shadow: 0px 1px 3px 1px rgba(0, 0, 0, 0.15);\n",
              "      filter: drop-shadow(0px 1px 2px rgba(0, 0, 0, 0.3));\n",
              "      fill: #FFFFFF;\n",
              "    }\n",
              "  </style>\n",
              "\n",
              "      <script>\n",
              "        const buttonEl =\n",
              "          document.querySelector('#df-92a762d0-ea3c-4c10-8b58-81990fe02352 button.colab-df-convert');\n",
              "        buttonEl.style.display =\n",
              "          google.colab.kernel.accessAllowed ? 'block' : 'none';\n",
              "\n",
              "        async function convertToInteractive(key) {\n",
              "          const element = document.querySelector('#df-92a762d0-ea3c-4c10-8b58-81990fe02352');\n",
              "          const dataTable =\n",
              "            await google.colab.kernel.invokeFunction('convertToInteractive',\n",
              "                                                     [key], {});\n",
              "          if (!dataTable) return;\n",
              "\n",
              "          const docLinkHtml = 'Like what you see? Visit the ' +\n",
              "            '<a target=\"_blank\" href=https://colab.research.google.com/notebooks/data_table.ipynb>data table notebook</a>'\n",
              "            + ' to learn more about interactive tables.';\n",
              "          element.innerHTML = '';\n",
              "          dataTable['output_type'] = 'display_data';\n",
              "          await google.colab.output.renderOutput(dataTable, element);\n",
              "          const docLink = document.createElement('div');\n",
              "          docLink.innerHTML = docLinkHtml;\n",
              "          element.appendChild(docLink);\n",
              "        }\n",
              "      </script>\n",
              "    </div>\n",
              "  </div>\n",
              "  "
            ]
          },
          "metadata": {},
          "execution_count": 97
        }
      ]
    },
    {
      "cell_type": "code",
      "source": [
        "#Subconjunto otoño\n",
        "estandarizador2 = MinMaxScaler()\n",
        "estandarizador2.fit(df_autumn[cols_autumn])\n",
        "df_autumn.loc[:, cols_autumn] = estandarizador2.transform(df_autumn[cols_autumn])\n",
        "df_autumn"
      ],
      "metadata": {
        "id": "Bq3F_uScHTVh",
        "outputId": "2ca69267-ad32-4c1d-f61b-ac28e846fc4d",
        "colab": {
          "base_uri": "https://localhost:8080/",
          "height": 753
        }
      },
      "id": "Bq3F_uScHTVh",
      "execution_count": 98,
      "outputs": [
        {
          "output_type": "stream",
          "name": "stderr",
          "text": [
            "/usr/local/lib/python3.7/dist-packages/pandas/core/indexing.py:1835: SettingWithCopyWarning: \n",
            "A value is trying to be set on a copy of a slice from a DataFrame.\n",
            "Try using .loc[row_indexer,col_indexer] = value instead\n",
            "\n",
            "See the caveats in the documentation: https://pandas.pydata.org/pandas-docs/stable/user_guide/indexing.html#returning-a-view-versus-a-copy\n",
            "  self._setitem_single_column(loc, value[:, i].tolist(), pi)\n"
          ]
        },
        {
          "output_type": "execute_result",
          "data": {
            "text/plain": [
              "        B02_median  B06_median  B11_median     osm_id       date  ndvi_max  \\\n",
              "4542           NaN         NaN         NaN  567533027 2017-04-03       NaN   \n",
              "4543           NaN         NaN         NaN  567533024 2017-04-03       NaN   \n",
              "4544           NaN         NaN         NaN  567186536 2017-04-03       NaN   \n",
              "4545           NaN         NaN         NaN  559322369 2017-04-03       NaN   \n",
              "4546           NaN         NaN         NaN  559328112 2017-04-03       NaN   \n",
              "...            ...         ...         ...        ...        ...       ...   \n",
              "208927    0.127158    0.484265    0.432084  307532496 2022-04-17  0.544724   \n",
              "208928    0.216076    0.588070    0.652071  307535460 2022-04-17  0.468146   \n",
              "208929    0.103211    0.543917    0.518343  307796387 2022-04-17  0.547404   \n",
              "208930    0.175422    0.495538    0.603024  307097955 2022-04-17  0.513764   \n",
              "208931    0.086690    0.439173    0.452860  901791744 2022-04-17  0.620134   \n",
              "\n",
              "             area_m2                                             raster  \\\n",
              "4542    11345.928553  S2A_MSIL1C_20170403T142031_N0204_R010_T20JLL_2...   \n",
              "4543     1203.377855  S2A_MSIL1C_20170403T142031_N0204_R010_T20JLL_2...   \n",
              "4544     5343.511217  S2A_MSIL1C_20170403T142031_N0204_R010_T20JLL_2...   \n",
              "4545     2004.192528  S2A_MSIL1C_20170403T142031_N0204_R010_T20JLL_2...   \n",
              "4546     4587.356048  S2A_MSIL1C_20170403T142031_N0204_R010_T20JLL_2...   \n",
              "...              ...                                                ...   \n",
              "208927   3824.467794  S2A_MSIL1C_20220417T141741_N0400_R010_T20JLL_2...   \n",
              "208928   7184.535857  S2A_MSIL1C_20220417T141741_N0400_R010_T20JLL_2...   \n",
              "208929   1147.997645  S2A_MSIL1C_20220417T141741_N0400_R010_T20JLL_2...   \n",
              "208930   5185.690046  S2A_MSIL1C_20220417T141741_N0400_R010_T20JLL_2...   \n",
              "208931   9394.381202  S2A_MSIL1C_20220417T141741_N0400_R010_T20JLL_2...   \n",
              "\n",
              "        clouds_on_raster  month  season  B02_autumn  B06_autumn  B11_autumn  \\\n",
              "4542           99.960368      4  autumn         NaN         NaN         NaN   \n",
              "4543           99.960368      4  autumn         NaN         NaN         NaN   \n",
              "4544           99.960368      4  autumn         NaN         NaN         NaN   \n",
              "4545           99.960368      4  autumn         NaN         NaN         NaN   \n",
              "4546           99.960368      4  autumn         NaN         NaN         NaN   \n",
              "...                  ...    ...     ...         ...         ...         ...   \n",
              "208927          0.000000      4  autumn    0.127158    0.484265    0.432084   \n",
              "208928          0.000000      4  autumn    0.216076    0.588070    0.652071   \n",
              "208929          0.000000      4  autumn    0.103211    0.543917    0.518343   \n",
              "208930          0.000000      4  autumn    0.175422    0.495538    0.603024   \n",
              "208931          0.000000      4  autumn    0.086690    0.439173    0.452860   \n",
              "\n",
              "        outl_B02_autumn  outl_B06_autumn  outl_B11_autumn  \n",
              "4542                  0                0                0  \n",
              "4543                  0                0                0  \n",
              "4544                  0                0                0  \n",
              "4545                  0                0                0  \n",
              "4546                  0                0                0  \n",
              "...                 ...              ...              ...  \n",
              "208927                0                0                0  \n",
              "208928                0                0                0  \n",
              "208929                0                0                0  \n",
              "208930                0                0                0  \n",
              "208931                0                0                0  \n",
              "\n",
              "[43987 rows x 17 columns]"
            ],
            "text/html": [
              "\n",
              "  <div id=\"df-8387828e-3c2c-4ae6-8d39-5d45e0422627\">\n",
              "    <div class=\"colab-df-container\">\n",
              "      <div>\n",
              "<style scoped>\n",
              "    .dataframe tbody tr th:only-of-type {\n",
              "        vertical-align: middle;\n",
              "    }\n",
              "\n",
              "    .dataframe tbody tr th {\n",
              "        vertical-align: top;\n",
              "    }\n",
              "\n",
              "    .dataframe thead th {\n",
              "        text-align: right;\n",
              "    }\n",
              "</style>\n",
              "<table border=\"1\" class=\"dataframe\">\n",
              "  <thead>\n",
              "    <tr style=\"text-align: right;\">\n",
              "      <th></th>\n",
              "      <th>B02_median</th>\n",
              "      <th>B06_median</th>\n",
              "      <th>B11_median</th>\n",
              "      <th>osm_id</th>\n",
              "      <th>date</th>\n",
              "      <th>ndvi_max</th>\n",
              "      <th>area_m2</th>\n",
              "      <th>raster</th>\n",
              "      <th>clouds_on_raster</th>\n",
              "      <th>month</th>\n",
              "      <th>season</th>\n",
              "      <th>B02_autumn</th>\n",
              "      <th>B06_autumn</th>\n",
              "      <th>B11_autumn</th>\n",
              "      <th>outl_B02_autumn</th>\n",
              "      <th>outl_B06_autumn</th>\n",
              "      <th>outl_B11_autumn</th>\n",
              "    </tr>\n",
              "  </thead>\n",
              "  <tbody>\n",
              "    <tr>\n",
              "      <th>4542</th>\n",
              "      <td>NaN</td>\n",
              "      <td>NaN</td>\n",
              "      <td>NaN</td>\n",
              "      <td>567533027</td>\n",
              "      <td>2017-04-03</td>\n",
              "      <td>NaN</td>\n",
              "      <td>11345.928553</td>\n",
              "      <td>S2A_MSIL1C_20170403T142031_N0204_R010_T20JLL_2...</td>\n",
              "      <td>99.960368</td>\n",
              "      <td>4</td>\n",
              "      <td>autumn</td>\n",
              "      <td>NaN</td>\n",
              "      <td>NaN</td>\n",
              "      <td>NaN</td>\n",
              "      <td>0</td>\n",
              "      <td>0</td>\n",
              "      <td>0</td>\n",
              "    </tr>\n",
              "    <tr>\n",
              "      <th>4543</th>\n",
              "      <td>NaN</td>\n",
              "      <td>NaN</td>\n",
              "      <td>NaN</td>\n",
              "      <td>567533024</td>\n",
              "      <td>2017-04-03</td>\n",
              "      <td>NaN</td>\n",
              "      <td>1203.377855</td>\n",
              "      <td>S2A_MSIL1C_20170403T142031_N0204_R010_T20JLL_2...</td>\n",
              "      <td>99.960368</td>\n",
              "      <td>4</td>\n",
              "      <td>autumn</td>\n",
              "      <td>NaN</td>\n",
              "      <td>NaN</td>\n",
              "      <td>NaN</td>\n",
              "      <td>0</td>\n",
              "      <td>0</td>\n",
              "      <td>0</td>\n",
              "    </tr>\n",
              "    <tr>\n",
              "      <th>4544</th>\n",
              "      <td>NaN</td>\n",
              "      <td>NaN</td>\n",
              "      <td>NaN</td>\n",
              "      <td>567186536</td>\n",
              "      <td>2017-04-03</td>\n",
              "      <td>NaN</td>\n",
              "      <td>5343.511217</td>\n",
              "      <td>S2A_MSIL1C_20170403T142031_N0204_R010_T20JLL_2...</td>\n",
              "      <td>99.960368</td>\n",
              "      <td>4</td>\n",
              "      <td>autumn</td>\n",
              "      <td>NaN</td>\n",
              "      <td>NaN</td>\n",
              "      <td>NaN</td>\n",
              "      <td>0</td>\n",
              "      <td>0</td>\n",
              "      <td>0</td>\n",
              "    </tr>\n",
              "    <tr>\n",
              "      <th>4545</th>\n",
              "      <td>NaN</td>\n",
              "      <td>NaN</td>\n",
              "      <td>NaN</td>\n",
              "      <td>559322369</td>\n",
              "      <td>2017-04-03</td>\n",
              "      <td>NaN</td>\n",
              "      <td>2004.192528</td>\n",
              "      <td>S2A_MSIL1C_20170403T142031_N0204_R010_T20JLL_2...</td>\n",
              "      <td>99.960368</td>\n",
              "      <td>4</td>\n",
              "      <td>autumn</td>\n",
              "      <td>NaN</td>\n",
              "      <td>NaN</td>\n",
              "      <td>NaN</td>\n",
              "      <td>0</td>\n",
              "      <td>0</td>\n",
              "      <td>0</td>\n",
              "    </tr>\n",
              "    <tr>\n",
              "      <th>4546</th>\n",
              "      <td>NaN</td>\n",
              "      <td>NaN</td>\n",
              "      <td>NaN</td>\n",
              "      <td>559328112</td>\n",
              "      <td>2017-04-03</td>\n",
              "      <td>NaN</td>\n",
              "      <td>4587.356048</td>\n",
              "      <td>S2A_MSIL1C_20170403T142031_N0204_R010_T20JLL_2...</td>\n",
              "      <td>99.960368</td>\n",
              "      <td>4</td>\n",
              "      <td>autumn</td>\n",
              "      <td>NaN</td>\n",
              "      <td>NaN</td>\n",
              "      <td>NaN</td>\n",
              "      <td>0</td>\n",
              "      <td>0</td>\n",
              "      <td>0</td>\n",
              "    </tr>\n",
              "    <tr>\n",
              "      <th>...</th>\n",
              "      <td>...</td>\n",
              "      <td>...</td>\n",
              "      <td>...</td>\n",
              "      <td>...</td>\n",
              "      <td>...</td>\n",
              "      <td>...</td>\n",
              "      <td>...</td>\n",
              "      <td>...</td>\n",
              "      <td>...</td>\n",
              "      <td>...</td>\n",
              "      <td>...</td>\n",
              "      <td>...</td>\n",
              "      <td>...</td>\n",
              "      <td>...</td>\n",
              "      <td>...</td>\n",
              "      <td>...</td>\n",
              "      <td>...</td>\n",
              "    </tr>\n",
              "    <tr>\n",
              "      <th>208927</th>\n",
              "      <td>0.127158</td>\n",
              "      <td>0.484265</td>\n",
              "      <td>0.432084</td>\n",
              "      <td>307532496</td>\n",
              "      <td>2022-04-17</td>\n",
              "      <td>0.544724</td>\n",
              "      <td>3824.467794</td>\n",
              "      <td>S2A_MSIL1C_20220417T141741_N0400_R010_T20JLL_2...</td>\n",
              "      <td>0.000000</td>\n",
              "      <td>4</td>\n",
              "      <td>autumn</td>\n",
              "      <td>0.127158</td>\n",
              "      <td>0.484265</td>\n",
              "      <td>0.432084</td>\n",
              "      <td>0</td>\n",
              "      <td>0</td>\n",
              "      <td>0</td>\n",
              "    </tr>\n",
              "    <tr>\n",
              "      <th>208928</th>\n",
              "      <td>0.216076</td>\n",
              "      <td>0.588070</td>\n",
              "      <td>0.652071</td>\n",
              "      <td>307535460</td>\n",
              "      <td>2022-04-17</td>\n",
              "      <td>0.468146</td>\n",
              "      <td>7184.535857</td>\n",
              "      <td>S2A_MSIL1C_20220417T141741_N0400_R010_T20JLL_2...</td>\n",
              "      <td>0.000000</td>\n",
              "      <td>4</td>\n",
              "      <td>autumn</td>\n",
              "      <td>0.216076</td>\n",
              "      <td>0.588070</td>\n",
              "      <td>0.652071</td>\n",
              "      <td>0</td>\n",
              "      <td>0</td>\n",
              "      <td>0</td>\n",
              "    </tr>\n",
              "    <tr>\n",
              "      <th>208929</th>\n",
              "      <td>0.103211</td>\n",
              "      <td>0.543917</td>\n",
              "      <td>0.518343</td>\n",
              "      <td>307796387</td>\n",
              "      <td>2022-04-17</td>\n",
              "      <td>0.547404</td>\n",
              "      <td>1147.997645</td>\n",
              "      <td>S2A_MSIL1C_20220417T141741_N0400_R010_T20JLL_2...</td>\n",
              "      <td>0.000000</td>\n",
              "      <td>4</td>\n",
              "      <td>autumn</td>\n",
              "      <td>0.103211</td>\n",
              "      <td>0.543917</td>\n",
              "      <td>0.518343</td>\n",
              "      <td>0</td>\n",
              "      <td>0</td>\n",
              "      <td>0</td>\n",
              "    </tr>\n",
              "    <tr>\n",
              "      <th>208930</th>\n",
              "      <td>0.175422</td>\n",
              "      <td>0.495538</td>\n",
              "      <td>0.603024</td>\n",
              "      <td>307097955</td>\n",
              "      <td>2022-04-17</td>\n",
              "      <td>0.513764</td>\n",
              "      <td>5185.690046</td>\n",
              "      <td>S2A_MSIL1C_20220417T141741_N0400_R010_T20JLL_2...</td>\n",
              "      <td>0.000000</td>\n",
              "      <td>4</td>\n",
              "      <td>autumn</td>\n",
              "      <td>0.175422</td>\n",
              "      <td>0.495538</td>\n",
              "      <td>0.603024</td>\n",
              "      <td>0</td>\n",
              "      <td>0</td>\n",
              "      <td>0</td>\n",
              "    </tr>\n",
              "    <tr>\n",
              "      <th>208931</th>\n",
              "      <td>0.086690</td>\n",
              "      <td>0.439173</td>\n",
              "      <td>0.452860</td>\n",
              "      <td>901791744</td>\n",
              "      <td>2022-04-17</td>\n",
              "      <td>0.620134</td>\n",
              "      <td>9394.381202</td>\n",
              "      <td>S2A_MSIL1C_20220417T141741_N0400_R010_T20JLL_2...</td>\n",
              "      <td>0.000000</td>\n",
              "      <td>4</td>\n",
              "      <td>autumn</td>\n",
              "      <td>0.086690</td>\n",
              "      <td>0.439173</td>\n",
              "      <td>0.452860</td>\n",
              "      <td>0</td>\n",
              "      <td>0</td>\n",
              "      <td>0</td>\n",
              "    </tr>\n",
              "  </tbody>\n",
              "</table>\n",
              "<p>43987 rows × 17 columns</p>\n",
              "</div>\n",
              "      <button class=\"colab-df-convert\" onclick=\"convertToInteractive('df-8387828e-3c2c-4ae6-8d39-5d45e0422627')\"\n",
              "              title=\"Convert this dataframe to an interactive table.\"\n",
              "              style=\"display:none;\">\n",
              "        \n",
              "  <svg xmlns=\"http://www.w3.org/2000/svg\" height=\"24px\"viewBox=\"0 0 24 24\"\n",
              "       width=\"24px\">\n",
              "    <path d=\"M0 0h24v24H0V0z\" fill=\"none\"/>\n",
              "    <path d=\"M18.56 5.44l.94 2.06.94-2.06 2.06-.94-2.06-.94-.94-2.06-.94 2.06-2.06.94zm-11 1L8.5 8.5l.94-2.06 2.06-.94-2.06-.94L8.5 2.5l-.94 2.06-2.06.94zm10 10l.94 2.06.94-2.06 2.06-.94-2.06-.94-.94-2.06-.94 2.06-2.06.94z\"/><path d=\"M17.41 7.96l-1.37-1.37c-.4-.4-.92-.59-1.43-.59-.52 0-1.04.2-1.43.59L10.3 9.45l-7.72 7.72c-.78.78-.78 2.05 0 2.83L4 21.41c.39.39.9.59 1.41.59.51 0 1.02-.2 1.41-.59l7.78-7.78 2.81-2.81c.8-.78.8-2.07 0-2.86zM5.41 20L4 18.59l7.72-7.72 1.47 1.35L5.41 20z\"/>\n",
              "  </svg>\n",
              "      </button>\n",
              "      \n",
              "  <style>\n",
              "    .colab-df-container {\n",
              "      display:flex;\n",
              "      flex-wrap:wrap;\n",
              "      gap: 12px;\n",
              "    }\n",
              "\n",
              "    .colab-df-convert {\n",
              "      background-color: #E8F0FE;\n",
              "      border: none;\n",
              "      border-radius: 50%;\n",
              "      cursor: pointer;\n",
              "      display: none;\n",
              "      fill: #1967D2;\n",
              "      height: 32px;\n",
              "      padding: 0 0 0 0;\n",
              "      width: 32px;\n",
              "    }\n",
              "\n",
              "    .colab-df-convert:hover {\n",
              "      background-color: #E2EBFA;\n",
              "      box-shadow: 0px 1px 2px rgba(60, 64, 67, 0.3), 0px 1px 3px 1px rgba(60, 64, 67, 0.15);\n",
              "      fill: #174EA6;\n",
              "    }\n",
              "\n",
              "    [theme=dark] .colab-df-convert {\n",
              "      background-color: #3B4455;\n",
              "      fill: #D2E3FC;\n",
              "    }\n",
              "\n",
              "    [theme=dark] .colab-df-convert:hover {\n",
              "      background-color: #434B5C;\n",
              "      box-shadow: 0px 1px 3px 1px rgba(0, 0, 0, 0.15);\n",
              "      filter: drop-shadow(0px 1px 2px rgba(0, 0, 0, 0.3));\n",
              "      fill: #FFFFFF;\n",
              "    }\n",
              "  </style>\n",
              "\n",
              "      <script>\n",
              "        const buttonEl =\n",
              "          document.querySelector('#df-8387828e-3c2c-4ae6-8d39-5d45e0422627 button.colab-df-convert');\n",
              "        buttonEl.style.display =\n",
              "          google.colab.kernel.accessAllowed ? 'block' : 'none';\n",
              "\n",
              "        async function convertToInteractive(key) {\n",
              "          const element = document.querySelector('#df-8387828e-3c2c-4ae6-8d39-5d45e0422627');\n",
              "          const dataTable =\n",
              "            await google.colab.kernel.invokeFunction('convertToInteractive',\n",
              "                                                     [key], {});\n",
              "          if (!dataTable) return;\n",
              "\n",
              "          const docLinkHtml = 'Like what you see? Visit the ' +\n",
              "            '<a target=\"_blank\" href=https://colab.research.google.com/notebooks/data_table.ipynb>data table notebook</a>'\n",
              "            + ' to learn more about interactive tables.';\n",
              "          element.innerHTML = '';\n",
              "          dataTable['output_type'] = 'display_data';\n",
              "          await google.colab.output.renderOutput(dataTable, element);\n",
              "          const docLink = document.createElement('div');\n",
              "          docLink.innerHTML = docLinkHtml;\n",
              "          element.appendChild(docLink);\n",
              "        }\n",
              "      </script>\n",
              "    </div>\n",
              "  </div>\n",
              "  "
            ]
          },
          "metadata": {},
          "execution_count": 98
        }
      ]
    },
    {
      "cell_type": "code",
      "source": [
        "#Subconjunto invierno\n",
        "estandarizador3 = MinMaxScaler()\n",
        "estandarizador3.fit(df_winter[cols_winter])\n",
        "df_winter.loc[:, cols_winter] = estandarizador3.transform(df_winter[cols_winter])\n",
        "df_winter"
      ],
      "metadata": {
        "id": "RcigNO6kHTA1",
        "outputId": "f1658d02-a12f-4cb4-ad3e-e688e853cc45",
        "colab": {
          "base_uri": "https://localhost:8080/",
          "height": 753
        }
      },
      "id": "RcigNO6kHTA1",
      "execution_count": 99,
      "outputs": [
        {
          "output_type": "stream",
          "name": "stderr",
          "text": [
            "/usr/local/lib/python3.7/dist-packages/pandas/core/indexing.py:1835: SettingWithCopyWarning: \n",
            "A value is trying to be set on a copy of a slice from a DataFrame.\n",
            "Try using .loc[row_indexer,col_indexer] = value instead\n",
            "\n",
            "See the caveats in the documentation: https://pandas.pydata.org/pandas-docs/stable/user_guide/indexing.html#returning-a-view-versus-a-copy\n",
            "  self._setitem_single_column(loc, value[:, i].tolist(), pi)\n"
          ]
        },
        {
          "output_type": "execute_result",
          "data": {
            "text/plain": [
              "        B02_median  B06_median  B11_median     osm_id       date  ndvi_max  \\\n",
              "7570           NaN         NaN         NaN  605976737 2017-07-12       NaN   \n",
              "7571           NaN         NaN         NaN  605976738 2017-07-12       NaN   \n",
              "7572           NaN         NaN         NaN  559322368 2017-07-12       NaN   \n",
              "7573           NaN         NaN         NaN  559322369 2017-07-12       NaN   \n",
              "7574           NaN         NaN         NaN  559328111 2017-07-12       NaN   \n",
              "...            ...         ...         ...        ...        ...       ...   \n",
              "183189    0.300622    0.700000    0.653785  308115425 2021-09-29  0.449080   \n",
              "183190    0.144090    0.168578    0.104420  308115608 2021-09-29  0.268492   \n",
              "183191    0.218944    0.800849    0.624140  308220055 2021-09-29  0.638596   \n",
              "183192    0.268714    0.792144    0.735310  307796387 2021-09-29  0.467793   \n",
              "183193    0.248645    0.543312    0.396638   25926534 2021-09-29  0.535281   \n",
              "\n",
              "             area_m2                                             raster  \\\n",
              "7570     4310.381780  S2A_MSIL1C_20170712T142041_N0205_R010_T20JLL_2...   \n",
              "7571     1701.355603  S2A_MSIL1C_20170712T142041_N0205_R010_T20JLL_2...   \n",
              "7572     1502.000513  S2A_MSIL1C_20170712T142041_N0205_R010_T20JLL_2...   \n",
              "7573     2004.192528  S2A_MSIL1C_20170712T142041_N0205_R010_T20JLL_2...   \n",
              "7574     6940.507640  S2A_MSIL1C_20170712T142041_N0205_R010_T20JLL_2...   \n",
              "...              ...                                                ...   \n",
              "183189   5783.100639  S2A_MSIL1C_20210929T141741_N0301_R010_T20JLL_2...   \n",
              "183190   1414.554340  S2A_MSIL1C_20210929T141741_N0301_R010_T20JLL_2...   \n",
              "183191   2594.278780  S2A_MSIL1C_20210929T141741_N0301_R010_T20JLL_2...   \n",
              "183192   1147.997645  S2A_MSIL1C_20210929T141741_N0301_R010_T20JLL_2...   \n",
              "183193  15105.827181  S2A_MSIL1C_20210929T141741_N0301_R010_T20JLL_2...   \n",
              "\n",
              "        clouds_on_raster  month  season  B02_winter  B06_winter  B11_winter  \\\n",
              "7570           97.244996      7  winter         NaN         NaN         NaN   \n",
              "7571           97.244996      7  winter         NaN         NaN         NaN   \n",
              "7572           97.244996      7  winter         NaN         NaN         NaN   \n",
              "7573           97.244996      7  winter         NaN         NaN         NaN   \n",
              "7574           97.244996      7  winter         NaN         NaN         NaN   \n",
              "...                  ...    ...     ...         ...         ...         ...   \n",
              "183189         23.889456      9  winter    0.300622    0.700000    0.653785   \n",
              "183190         23.889456      9  winter    0.144090    0.168578    0.104420   \n",
              "183191         23.889456      9  winter    0.218944    0.800849    0.624140   \n",
              "183192         23.889456      9  winter    0.268714    0.792144    0.735310   \n",
              "183193         23.889456      9  winter    0.248645    0.543312    0.396638   \n",
              "\n",
              "        outl_B02_winter  outl_B06_winter  outl_B11_winter  \n",
              "7570                  0                0                0  \n",
              "7571                  0                0                0  \n",
              "7572                  0                0                0  \n",
              "7573                  0                0                0  \n",
              "7574                  0                0                0  \n",
              "...                 ...              ...              ...  \n",
              "183189                1                0                0  \n",
              "183190                0                1                1  \n",
              "183191                0                1                0  \n",
              "183192                0                1                0  \n",
              "183193                0                0                0  \n",
              "\n",
              "[45856 rows x 17 columns]"
            ],
            "text/html": [
              "\n",
              "  <div id=\"df-d853f1b8-21c8-436b-be45-c3cb1a5324bd\">\n",
              "    <div class=\"colab-df-container\">\n",
              "      <div>\n",
              "<style scoped>\n",
              "    .dataframe tbody tr th:only-of-type {\n",
              "        vertical-align: middle;\n",
              "    }\n",
              "\n",
              "    .dataframe tbody tr th {\n",
              "        vertical-align: top;\n",
              "    }\n",
              "\n",
              "    .dataframe thead th {\n",
              "        text-align: right;\n",
              "    }\n",
              "</style>\n",
              "<table border=\"1\" class=\"dataframe\">\n",
              "  <thead>\n",
              "    <tr style=\"text-align: right;\">\n",
              "      <th></th>\n",
              "      <th>B02_median</th>\n",
              "      <th>B06_median</th>\n",
              "      <th>B11_median</th>\n",
              "      <th>osm_id</th>\n",
              "      <th>date</th>\n",
              "      <th>ndvi_max</th>\n",
              "      <th>area_m2</th>\n",
              "      <th>raster</th>\n",
              "      <th>clouds_on_raster</th>\n",
              "      <th>month</th>\n",
              "      <th>season</th>\n",
              "      <th>B02_winter</th>\n",
              "      <th>B06_winter</th>\n",
              "      <th>B11_winter</th>\n",
              "      <th>outl_B02_winter</th>\n",
              "      <th>outl_B06_winter</th>\n",
              "      <th>outl_B11_winter</th>\n",
              "    </tr>\n",
              "  </thead>\n",
              "  <tbody>\n",
              "    <tr>\n",
              "      <th>7570</th>\n",
              "      <td>NaN</td>\n",
              "      <td>NaN</td>\n",
              "      <td>NaN</td>\n",
              "      <td>605976737</td>\n",
              "      <td>2017-07-12</td>\n",
              "      <td>NaN</td>\n",
              "      <td>4310.381780</td>\n",
              "      <td>S2A_MSIL1C_20170712T142041_N0205_R010_T20JLL_2...</td>\n",
              "      <td>97.244996</td>\n",
              "      <td>7</td>\n",
              "      <td>winter</td>\n",
              "      <td>NaN</td>\n",
              "      <td>NaN</td>\n",
              "      <td>NaN</td>\n",
              "      <td>0</td>\n",
              "      <td>0</td>\n",
              "      <td>0</td>\n",
              "    </tr>\n",
              "    <tr>\n",
              "      <th>7571</th>\n",
              "      <td>NaN</td>\n",
              "      <td>NaN</td>\n",
              "      <td>NaN</td>\n",
              "      <td>605976738</td>\n",
              "      <td>2017-07-12</td>\n",
              "      <td>NaN</td>\n",
              "      <td>1701.355603</td>\n",
              "      <td>S2A_MSIL1C_20170712T142041_N0205_R010_T20JLL_2...</td>\n",
              "      <td>97.244996</td>\n",
              "      <td>7</td>\n",
              "      <td>winter</td>\n",
              "      <td>NaN</td>\n",
              "      <td>NaN</td>\n",
              "      <td>NaN</td>\n",
              "      <td>0</td>\n",
              "      <td>0</td>\n",
              "      <td>0</td>\n",
              "    </tr>\n",
              "    <tr>\n",
              "      <th>7572</th>\n",
              "      <td>NaN</td>\n",
              "      <td>NaN</td>\n",
              "      <td>NaN</td>\n",
              "      <td>559322368</td>\n",
              "      <td>2017-07-12</td>\n",
              "      <td>NaN</td>\n",
              "      <td>1502.000513</td>\n",
              "      <td>S2A_MSIL1C_20170712T142041_N0205_R010_T20JLL_2...</td>\n",
              "      <td>97.244996</td>\n",
              "      <td>7</td>\n",
              "      <td>winter</td>\n",
              "      <td>NaN</td>\n",
              "      <td>NaN</td>\n",
              "      <td>NaN</td>\n",
              "      <td>0</td>\n",
              "      <td>0</td>\n",
              "      <td>0</td>\n",
              "    </tr>\n",
              "    <tr>\n",
              "      <th>7573</th>\n",
              "      <td>NaN</td>\n",
              "      <td>NaN</td>\n",
              "      <td>NaN</td>\n",
              "      <td>559322369</td>\n",
              "      <td>2017-07-12</td>\n",
              "      <td>NaN</td>\n",
              "      <td>2004.192528</td>\n",
              "      <td>S2A_MSIL1C_20170712T142041_N0205_R010_T20JLL_2...</td>\n",
              "      <td>97.244996</td>\n",
              "      <td>7</td>\n",
              "      <td>winter</td>\n",
              "      <td>NaN</td>\n",
              "      <td>NaN</td>\n",
              "      <td>NaN</td>\n",
              "      <td>0</td>\n",
              "      <td>0</td>\n",
              "      <td>0</td>\n",
              "    </tr>\n",
              "    <tr>\n",
              "      <th>7574</th>\n",
              "      <td>NaN</td>\n",
              "      <td>NaN</td>\n",
              "      <td>NaN</td>\n",
              "      <td>559328111</td>\n",
              "      <td>2017-07-12</td>\n",
              "      <td>NaN</td>\n",
              "      <td>6940.507640</td>\n",
              "      <td>S2A_MSIL1C_20170712T142041_N0205_R010_T20JLL_2...</td>\n",
              "      <td>97.244996</td>\n",
              "      <td>7</td>\n",
              "      <td>winter</td>\n",
              "      <td>NaN</td>\n",
              "      <td>NaN</td>\n",
              "      <td>NaN</td>\n",
              "      <td>0</td>\n",
              "      <td>0</td>\n",
              "      <td>0</td>\n",
              "    </tr>\n",
              "    <tr>\n",
              "      <th>...</th>\n",
              "      <td>...</td>\n",
              "      <td>...</td>\n",
              "      <td>...</td>\n",
              "      <td>...</td>\n",
              "      <td>...</td>\n",
              "      <td>...</td>\n",
              "      <td>...</td>\n",
              "      <td>...</td>\n",
              "      <td>...</td>\n",
              "      <td>...</td>\n",
              "      <td>...</td>\n",
              "      <td>...</td>\n",
              "      <td>...</td>\n",
              "      <td>...</td>\n",
              "      <td>...</td>\n",
              "      <td>...</td>\n",
              "      <td>...</td>\n",
              "    </tr>\n",
              "    <tr>\n",
              "      <th>183189</th>\n",
              "      <td>0.300622</td>\n",
              "      <td>0.700000</td>\n",
              "      <td>0.653785</td>\n",
              "      <td>308115425</td>\n",
              "      <td>2021-09-29</td>\n",
              "      <td>0.449080</td>\n",
              "      <td>5783.100639</td>\n",
              "      <td>S2A_MSIL1C_20210929T141741_N0301_R010_T20JLL_2...</td>\n",
              "      <td>23.889456</td>\n",
              "      <td>9</td>\n",
              "      <td>winter</td>\n",
              "      <td>0.300622</td>\n",
              "      <td>0.700000</td>\n",
              "      <td>0.653785</td>\n",
              "      <td>1</td>\n",
              "      <td>0</td>\n",
              "      <td>0</td>\n",
              "    </tr>\n",
              "    <tr>\n",
              "      <th>183190</th>\n",
              "      <td>0.144090</td>\n",
              "      <td>0.168578</td>\n",
              "      <td>0.104420</td>\n",
              "      <td>308115608</td>\n",
              "      <td>2021-09-29</td>\n",
              "      <td>0.268492</td>\n",
              "      <td>1414.554340</td>\n",
              "      <td>S2A_MSIL1C_20210929T141741_N0301_R010_T20JLL_2...</td>\n",
              "      <td>23.889456</td>\n",
              "      <td>9</td>\n",
              "      <td>winter</td>\n",
              "      <td>0.144090</td>\n",
              "      <td>0.168578</td>\n",
              "      <td>0.104420</td>\n",
              "      <td>0</td>\n",
              "      <td>1</td>\n",
              "      <td>1</td>\n",
              "    </tr>\n",
              "    <tr>\n",
              "      <th>183191</th>\n",
              "      <td>0.218944</td>\n",
              "      <td>0.800849</td>\n",
              "      <td>0.624140</td>\n",
              "      <td>308220055</td>\n",
              "      <td>2021-09-29</td>\n",
              "      <td>0.638596</td>\n",
              "      <td>2594.278780</td>\n",
              "      <td>S2A_MSIL1C_20210929T141741_N0301_R010_T20JLL_2...</td>\n",
              "      <td>23.889456</td>\n",
              "      <td>9</td>\n",
              "      <td>winter</td>\n",
              "      <td>0.218944</td>\n",
              "      <td>0.800849</td>\n",
              "      <td>0.624140</td>\n",
              "      <td>0</td>\n",
              "      <td>1</td>\n",
              "      <td>0</td>\n",
              "    </tr>\n",
              "    <tr>\n",
              "      <th>183192</th>\n",
              "      <td>0.268714</td>\n",
              "      <td>0.792144</td>\n",
              "      <td>0.735310</td>\n",
              "      <td>307796387</td>\n",
              "      <td>2021-09-29</td>\n",
              "      <td>0.467793</td>\n",
              "      <td>1147.997645</td>\n",
              "      <td>S2A_MSIL1C_20210929T141741_N0301_R010_T20JLL_2...</td>\n",
              "      <td>23.889456</td>\n",
              "      <td>9</td>\n",
              "      <td>winter</td>\n",
              "      <td>0.268714</td>\n",
              "      <td>0.792144</td>\n",
              "      <td>0.735310</td>\n",
              "      <td>0</td>\n",
              "      <td>1</td>\n",
              "      <td>0</td>\n",
              "    </tr>\n",
              "    <tr>\n",
              "      <th>183193</th>\n",
              "      <td>0.248645</td>\n",
              "      <td>0.543312</td>\n",
              "      <td>0.396638</td>\n",
              "      <td>25926534</td>\n",
              "      <td>2021-09-29</td>\n",
              "      <td>0.535281</td>\n",
              "      <td>15105.827181</td>\n",
              "      <td>S2A_MSIL1C_20210929T141741_N0301_R010_T20JLL_2...</td>\n",
              "      <td>23.889456</td>\n",
              "      <td>9</td>\n",
              "      <td>winter</td>\n",
              "      <td>0.248645</td>\n",
              "      <td>0.543312</td>\n",
              "      <td>0.396638</td>\n",
              "      <td>0</td>\n",
              "      <td>0</td>\n",
              "      <td>0</td>\n",
              "    </tr>\n",
              "  </tbody>\n",
              "</table>\n",
              "<p>45856 rows × 17 columns</p>\n",
              "</div>\n",
              "      <button class=\"colab-df-convert\" onclick=\"convertToInteractive('df-d853f1b8-21c8-436b-be45-c3cb1a5324bd')\"\n",
              "              title=\"Convert this dataframe to an interactive table.\"\n",
              "              style=\"display:none;\">\n",
              "        \n",
              "  <svg xmlns=\"http://www.w3.org/2000/svg\" height=\"24px\"viewBox=\"0 0 24 24\"\n",
              "       width=\"24px\">\n",
              "    <path d=\"M0 0h24v24H0V0z\" fill=\"none\"/>\n",
              "    <path d=\"M18.56 5.44l.94 2.06.94-2.06 2.06-.94-2.06-.94-.94-2.06-.94 2.06-2.06.94zm-11 1L8.5 8.5l.94-2.06 2.06-.94-2.06-.94L8.5 2.5l-.94 2.06-2.06.94zm10 10l.94 2.06.94-2.06 2.06-.94-2.06-.94-.94-2.06-.94 2.06-2.06.94z\"/><path d=\"M17.41 7.96l-1.37-1.37c-.4-.4-.92-.59-1.43-.59-.52 0-1.04.2-1.43.59L10.3 9.45l-7.72 7.72c-.78.78-.78 2.05 0 2.83L4 21.41c.39.39.9.59 1.41.59.51 0 1.02-.2 1.41-.59l7.78-7.78 2.81-2.81c.8-.78.8-2.07 0-2.86zM5.41 20L4 18.59l7.72-7.72 1.47 1.35L5.41 20z\"/>\n",
              "  </svg>\n",
              "      </button>\n",
              "      \n",
              "  <style>\n",
              "    .colab-df-container {\n",
              "      display:flex;\n",
              "      flex-wrap:wrap;\n",
              "      gap: 12px;\n",
              "    }\n",
              "\n",
              "    .colab-df-convert {\n",
              "      background-color: #E8F0FE;\n",
              "      border: none;\n",
              "      border-radius: 50%;\n",
              "      cursor: pointer;\n",
              "      display: none;\n",
              "      fill: #1967D2;\n",
              "      height: 32px;\n",
              "      padding: 0 0 0 0;\n",
              "      width: 32px;\n",
              "    }\n",
              "\n",
              "    .colab-df-convert:hover {\n",
              "      background-color: #E2EBFA;\n",
              "      box-shadow: 0px 1px 2px rgba(60, 64, 67, 0.3), 0px 1px 3px 1px rgba(60, 64, 67, 0.15);\n",
              "      fill: #174EA6;\n",
              "    }\n",
              "\n",
              "    [theme=dark] .colab-df-convert {\n",
              "      background-color: #3B4455;\n",
              "      fill: #D2E3FC;\n",
              "    }\n",
              "\n",
              "    [theme=dark] .colab-df-convert:hover {\n",
              "      background-color: #434B5C;\n",
              "      box-shadow: 0px 1px 3px 1px rgba(0, 0, 0, 0.15);\n",
              "      filter: drop-shadow(0px 1px 2px rgba(0, 0, 0, 0.3));\n",
              "      fill: #FFFFFF;\n",
              "    }\n",
              "  </style>\n",
              "\n",
              "      <script>\n",
              "        const buttonEl =\n",
              "          document.querySelector('#df-d853f1b8-21c8-436b-be45-c3cb1a5324bd button.colab-df-convert');\n",
              "        buttonEl.style.display =\n",
              "          google.colab.kernel.accessAllowed ? 'block' : 'none';\n",
              "\n",
              "        async function convertToInteractive(key) {\n",
              "          const element = document.querySelector('#df-d853f1b8-21c8-436b-be45-c3cb1a5324bd');\n",
              "          const dataTable =\n",
              "            await google.colab.kernel.invokeFunction('convertToInteractive',\n",
              "                                                     [key], {});\n",
              "          if (!dataTable) return;\n",
              "\n",
              "          const docLinkHtml = 'Like what you see? Visit the ' +\n",
              "            '<a target=\"_blank\" href=https://colab.research.google.com/notebooks/data_table.ipynb>data table notebook</a>'\n",
              "            + ' to learn more about interactive tables.';\n",
              "          element.innerHTML = '';\n",
              "          dataTable['output_type'] = 'display_data';\n",
              "          await google.colab.output.renderOutput(dataTable, element);\n",
              "          const docLink = document.createElement('div');\n",
              "          docLink.innerHTML = docLinkHtml;\n",
              "          element.appendChild(docLink);\n",
              "        }\n",
              "      </script>\n",
              "    </div>\n",
              "  </div>\n",
              "  "
            ]
          },
          "metadata": {},
          "execution_count": 99
        }
      ]
    },
    {
      "cell_type": "code",
      "source": [
        "#subconjunto primavera\n",
        "estandarizador4 = MinMaxScaler()\n",
        "estandarizador4.fit(df_spring[cols_spring])\n",
        "df_spring.loc[:, cols_spring] = estandarizador4.transform(df_spring[cols_spring])\n",
        "df_spring"
      ],
      "metadata": {
        "id": "h86tZ-gKHSyz",
        "outputId": "3f4221a1-a8f9-4b7e-92b5-3167b2a992b9",
        "colab": {
          "base_uri": "https://localhost:8080/",
          "height": 753
        }
      },
      "id": "h86tZ-gKHSyz",
      "execution_count": 100,
      "outputs": [
        {
          "output_type": "stream",
          "name": "stderr",
          "text": [
            "/usr/local/lib/python3.7/dist-packages/pandas/core/indexing.py:1835: SettingWithCopyWarning: \n",
            "A value is trying to be set on a copy of a slice from a DataFrame.\n",
            "Try using .loc[row_indexer,col_indexer] = value instead\n",
            "\n",
            "See the caveats in the documentation: https://pandas.pydata.org/pandas-docs/stable/user_guide/indexing.html#returning-a-view-versus-a-copy\n",
            "  self._setitem_single_column(loc, value[:, i].tolist(), pi)\n"
          ]
        },
        {
          "output_type": "execute_result",
          "data": {
            "text/plain": [
              "        B02_median  B06_median  B11_median     osm_id       date  ndvi_max  \\\n",
              "12869     0.109339    0.527922    0.541925  307531370 2017-10-15  0.588559   \n",
              "12870     0.062462    0.478571    0.489605  307532496 2017-10-15  0.561315   \n",
              "12871     0.133759    0.590260    0.686355  307535460 2017-10-15  0.503925   \n",
              "12872     0.148975    0.480519    0.621644  307818289 2017-10-15  0.401215   \n",
              "12873     0.101853    0.539610    0.629905  307796632 2017-10-15  0.604364   \n",
              "...            ...         ...         ...        ...        ...       ...   \n",
              "195301         NaN         NaN         NaN  559322369 2021-12-28       NaN   \n",
              "195302         NaN         NaN         NaN  559322368 2021-12-28       NaN   \n",
              "195303         NaN         NaN         NaN  572612095 2021-12-28       NaN   \n",
              "195304         NaN         NaN         NaN  363076249 2021-12-28       NaN   \n",
              "195305         NaN         NaN         NaN  366502373 2021-12-28       NaN   \n",
              "\n",
              "            area_m2                                             raster  \\\n",
              "12869   3658.725375  S2B_MSIL1C_20171015T142029_N0205_R010_T20JLL_2...   \n",
              "12870   3824.467794  S2B_MSIL1C_20171015T142029_N0205_R010_T20JLL_2...   \n",
              "12871   7184.535857  S2B_MSIL1C_20171015T142029_N0205_R010_T20JLL_2...   \n",
              "12872   1041.152026  S2B_MSIL1C_20171015T142029_N0205_R010_T20JLL_2...   \n",
              "12873   6574.431543  S2B_MSIL1C_20171015T142029_N0205_R010_T20JLL_2...   \n",
              "...             ...                                                ...   \n",
              "195301  2004.192528  S2A_MSIL1C_20211228T141741_N0301_R010_T20JLL_2...   \n",
              "195302  1502.000513  S2A_MSIL1C_20211228T141741_N0301_R010_T20JLL_2...   \n",
              "195303  4056.927248  S2A_MSIL1C_20211228T141741_N0301_R010_T20JLL_2...   \n",
              "195304  1492.152733  S2A_MSIL1C_20211228T141741_N0301_R010_T20JLL_2...   \n",
              "195305   926.932501  S2A_MSIL1C_20211228T141741_N0301_R010_T20JLL_2...   \n",
              "\n",
              "        clouds_on_raster  month  season  B02_spring  B06_spring  B11_spring  \\\n",
              "12869           0.000000     10  spring    0.109339    0.527922    0.541925   \n",
              "12870           0.000000     10  spring    0.062462    0.478571    0.489605   \n",
              "12871           0.000000     10  spring    0.133759    0.590260    0.686355   \n",
              "12872           0.000000     10  spring    0.148975    0.480519    0.621644   \n",
              "12873           0.000000     10  spring    0.101853    0.539610    0.629905   \n",
              "...                  ...    ...     ...         ...         ...         ...   \n",
              "195301         92.004816     12  spring         NaN         NaN         NaN   \n",
              "195302         92.004816     12  spring         NaN         NaN         NaN   \n",
              "195303         92.004816     12  spring         NaN         NaN         NaN   \n",
              "195304         92.004816     12  spring         NaN         NaN         NaN   \n",
              "195305         92.004816     12  spring         NaN         NaN         NaN   \n",
              "\n",
              "        outl_B02_spring  outl_B06_spring  outl_B11_spring  \n",
              "12869                 0                0                0  \n",
              "12870                 0                0                0  \n",
              "12871                 0                0                0  \n",
              "12872                 0                0                0  \n",
              "12873                 0                0                0  \n",
              "...                 ...              ...              ...  \n",
              "195301                0                0                0  \n",
              "195302                0                0                0  \n",
              "195303                0                0                0  \n",
              "195304                0                0                0  \n",
              "195305                0                0                0  \n",
              "\n",
              "[47512 rows x 17 columns]"
            ],
            "text/html": [
              "\n",
              "  <div id=\"df-e9340bc8-f03d-4f47-9a99-42c3dee39584\">\n",
              "    <div class=\"colab-df-container\">\n",
              "      <div>\n",
              "<style scoped>\n",
              "    .dataframe tbody tr th:only-of-type {\n",
              "        vertical-align: middle;\n",
              "    }\n",
              "\n",
              "    .dataframe tbody tr th {\n",
              "        vertical-align: top;\n",
              "    }\n",
              "\n",
              "    .dataframe thead th {\n",
              "        text-align: right;\n",
              "    }\n",
              "</style>\n",
              "<table border=\"1\" class=\"dataframe\">\n",
              "  <thead>\n",
              "    <tr style=\"text-align: right;\">\n",
              "      <th></th>\n",
              "      <th>B02_median</th>\n",
              "      <th>B06_median</th>\n",
              "      <th>B11_median</th>\n",
              "      <th>osm_id</th>\n",
              "      <th>date</th>\n",
              "      <th>ndvi_max</th>\n",
              "      <th>area_m2</th>\n",
              "      <th>raster</th>\n",
              "      <th>clouds_on_raster</th>\n",
              "      <th>month</th>\n",
              "      <th>season</th>\n",
              "      <th>B02_spring</th>\n",
              "      <th>B06_spring</th>\n",
              "      <th>B11_spring</th>\n",
              "      <th>outl_B02_spring</th>\n",
              "      <th>outl_B06_spring</th>\n",
              "      <th>outl_B11_spring</th>\n",
              "    </tr>\n",
              "  </thead>\n",
              "  <tbody>\n",
              "    <tr>\n",
              "      <th>12869</th>\n",
              "      <td>0.109339</td>\n",
              "      <td>0.527922</td>\n",
              "      <td>0.541925</td>\n",
              "      <td>307531370</td>\n",
              "      <td>2017-10-15</td>\n",
              "      <td>0.588559</td>\n",
              "      <td>3658.725375</td>\n",
              "      <td>S2B_MSIL1C_20171015T142029_N0205_R010_T20JLL_2...</td>\n",
              "      <td>0.000000</td>\n",
              "      <td>10</td>\n",
              "      <td>spring</td>\n",
              "      <td>0.109339</td>\n",
              "      <td>0.527922</td>\n",
              "      <td>0.541925</td>\n",
              "      <td>0</td>\n",
              "      <td>0</td>\n",
              "      <td>0</td>\n",
              "    </tr>\n",
              "    <tr>\n",
              "      <th>12870</th>\n",
              "      <td>0.062462</td>\n",
              "      <td>0.478571</td>\n",
              "      <td>0.489605</td>\n",
              "      <td>307532496</td>\n",
              "      <td>2017-10-15</td>\n",
              "      <td>0.561315</td>\n",
              "      <td>3824.467794</td>\n",
              "      <td>S2B_MSIL1C_20171015T142029_N0205_R010_T20JLL_2...</td>\n",
              "      <td>0.000000</td>\n",
              "      <td>10</td>\n",
              "      <td>spring</td>\n",
              "      <td>0.062462</td>\n",
              "      <td>0.478571</td>\n",
              "      <td>0.489605</td>\n",
              "      <td>0</td>\n",
              "      <td>0</td>\n",
              "      <td>0</td>\n",
              "    </tr>\n",
              "    <tr>\n",
              "      <th>12871</th>\n",
              "      <td>0.133759</td>\n",
              "      <td>0.590260</td>\n",
              "      <td>0.686355</td>\n",
              "      <td>307535460</td>\n",
              "      <td>2017-10-15</td>\n",
              "      <td>0.503925</td>\n",
              "      <td>7184.535857</td>\n",
              "      <td>S2B_MSIL1C_20171015T142029_N0205_R010_T20JLL_2...</td>\n",
              "      <td>0.000000</td>\n",
              "      <td>10</td>\n",
              "      <td>spring</td>\n",
              "      <td>0.133759</td>\n",
              "      <td>0.590260</td>\n",
              "      <td>0.686355</td>\n",
              "      <td>0</td>\n",
              "      <td>0</td>\n",
              "      <td>0</td>\n",
              "    </tr>\n",
              "    <tr>\n",
              "      <th>12872</th>\n",
              "      <td>0.148975</td>\n",
              "      <td>0.480519</td>\n",
              "      <td>0.621644</td>\n",
              "      <td>307818289</td>\n",
              "      <td>2017-10-15</td>\n",
              "      <td>0.401215</td>\n",
              "      <td>1041.152026</td>\n",
              "      <td>S2B_MSIL1C_20171015T142029_N0205_R010_T20JLL_2...</td>\n",
              "      <td>0.000000</td>\n",
              "      <td>10</td>\n",
              "      <td>spring</td>\n",
              "      <td>0.148975</td>\n",
              "      <td>0.480519</td>\n",
              "      <td>0.621644</td>\n",
              "      <td>0</td>\n",
              "      <td>0</td>\n",
              "      <td>0</td>\n",
              "    </tr>\n",
              "    <tr>\n",
              "      <th>12873</th>\n",
              "      <td>0.101853</td>\n",
              "      <td>0.539610</td>\n",
              "      <td>0.629905</td>\n",
              "      <td>307796632</td>\n",
              "      <td>2017-10-15</td>\n",
              "      <td>0.604364</td>\n",
              "      <td>6574.431543</td>\n",
              "      <td>S2B_MSIL1C_20171015T142029_N0205_R010_T20JLL_2...</td>\n",
              "      <td>0.000000</td>\n",
              "      <td>10</td>\n",
              "      <td>spring</td>\n",
              "      <td>0.101853</td>\n",
              "      <td>0.539610</td>\n",
              "      <td>0.629905</td>\n",
              "      <td>0</td>\n",
              "      <td>0</td>\n",
              "      <td>0</td>\n",
              "    </tr>\n",
              "    <tr>\n",
              "      <th>...</th>\n",
              "      <td>...</td>\n",
              "      <td>...</td>\n",
              "      <td>...</td>\n",
              "      <td>...</td>\n",
              "      <td>...</td>\n",
              "      <td>...</td>\n",
              "      <td>...</td>\n",
              "      <td>...</td>\n",
              "      <td>...</td>\n",
              "      <td>...</td>\n",
              "      <td>...</td>\n",
              "      <td>...</td>\n",
              "      <td>...</td>\n",
              "      <td>...</td>\n",
              "      <td>...</td>\n",
              "      <td>...</td>\n",
              "      <td>...</td>\n",
              "    </tr>\n",
              "    <tr>\n",
              "      <th>195301</th>\n",
              "      <td>NaN</td>\n",
              "      <td>NaN</td>\n",
              "      <td>NaN</td>\n",
              "      <td>559322369</td>\n",
              "      <td>2021-12-28</td>\n",
              "      <td>NaN</td>\n",
              "      <td>2004.192528</td>\n",
              "      <td>S2A_MSIL1C_20211228T141741_N0301_R010_T20JLL_2...</td>\n",
              "      <td>92.004816</td>\n",
              "      <td>12</td>\n",
              "      <td>spring</td>\n",
              "      <td>NaN</td>\n",
              "      <td>NaN</td>\n",
              "      <td>NaN</td>\n",
              "      <td>0</td>\n",
              "      <td>0</td>\n",
              "      <td>0</td>\n",
              "    </tr>\n",
              "    <tr>\n",
              "      <th>195302</th>\n",
              "      <td>NaN</td>\n",
              "      <td>NaN</td>\n",
              "      <td>NaN</td>\n",
              "      <td>559322368</td>\n",
              "      <td>2021-12-28</td>\n",
              "      <td>NaN</td>\n",
              "      <td>1502.000513</td>\n",
              "      <td>S2A_MSIL1C_20211228T141741_N0301_R010_T20JLL_2...</td>\n",
              "      <td>92.004816</td>\n",
              "      <td>12</td>\n",
              "      <td>spring</td>\n",
              "      <td>NaN</td>\n",
              "      <td>NaN</td>\n",
              "      <td>NaN</td>\n",
              "      <td>0</td>\n",
              "      <td>0</td>\n",
              "      <td>0</td>\n",
              "    </tr>\n",
              "    <tr>\n",
              "      <th>195303</th>\n",
              "      <td>NaN</td>\n",
              "      <td>NaN</td>\n",
              "      <td>NaN</td>\n",
              "      <td>572612095</td>\n",
              "      <td>2021-12-28</td>\n",
              "      <td>NaN</td>\n",
              "      <td>4056.927248</td>\n",
              "      <td>S2A_MSIL1C_20211228T141741_N0301_R010_T20JLL_2...</td>\n",
              "      <td>92.004816</td>\n",
              "      <td>12</td>\n",
              "      <td>spring</td>\n",
              "      <td>NaN</td>\n",
              "      <td>NaN</td>\n",
              "      <td>NaN</td>\n",
              "      <td>0</td>\n",
              "      <td>0</td>\n",
              "      <td>0</td>\n",
              "    </tr>\n",
              "    <tr>\n",
              "      <th>195304</th>\n",
              "      <td>NaN</td>\n",
              "      <td>NaN</td>\n",
              "      <td>NaN</td>\n",
              "      <td>363076249</td>\n",
              "      <td>2021-12-28</td>\n",
              "      <td>NaN</td>\n",
              "      <td>1492.152733</td>\n",
              "      <td>S2A_MSIL1C_20211228T141741_N0301_R010_T20JLL_2...</td>\n",
              "      <td>92.004816</td>\n",
              "      <td>12</td>\n",
              "      <td>spring</td>\n",
              "      <td>NaN</td>\n",
              "      <td>NaN</td>\n",
              "      <td>NaN</td>\n",
              "      <td>0</td>\n",
              "      <td>0</td>\n",
              "      <td>0</td>\n",
              "    </tr>\n",
              "    <tr>\n",
              "      <th>195305</th>\n",
              "      <td>NaN</td>\n",
              "      <td>NaN</td>\n",
              "      <td>NaN</td>\n",
              "      <td>366502373</td>\n",
              "      <td>2021-12-28</td>\n",
              "      <td>NaN</td>\n",
              "      <td>926.932501</td>\n",
              "      <td>S2A_MSIL1C_20211228T141741_N0301_R010_T20JLL_2...</td>\n",
              "      <td>92.004816</td>\n",
              "      <td>12</td>\n",
              "      <td>spring</td>\n",
              "      <td>NaN</td>\n",
              "      <td>NaN</td>\n",
              "      <td>NaN</td>\n",
              "      <td>0</td>\n",
              "      <td>0</td>\n",
              "      <td>0</td>\n",
              "    </tr>\n",
              "  </tbody>\n",
              "</table>\n",
              "<p>47512 rows × 17 columns</p>\n",
              "</div>\n",
              "      <button class=\"colab-df-convert\" onclick=\"convertToInteractive('df-e9340bc8-f03d-4f47-9a99-42c3dee39584')\"\n",
              "              title=\"Convert this dataframe to an interactive table.\"\n",
              "              style=\"display:none;\">\n",
              "        \n",
              "  <svg xmlns=\"http://www.w3.org/2000/svg\" height=\"24px\"viewBox=\"0 0 24 24\"\n",
              "       width=\"24px\">\n",
              "    <path d=\"M0 0h24v24H0V0z\" fill=\"none\"/>\n",
              "    <path d=\"M18.56 5.44l.94 2.06.94-2.06 2.06-.94-2.06-.94-.94-2.06-.94 2.06-2.06.94zm-11 1L8.5 8.5l.94-2.06 2.06-.94-2.06-.94L8.5 2.5l-.94 2.06-2.06.94zm10 10l.94 2.06.94-2.06 2.06-.94-2.06-.94-.94-2.06-.94 2.06-2.06.94z\"/><path d=\"M17.41 7.96l-1.37-1.37c-.4-.4-.92-.59-1.43-.59-.52 0-1.04.2-1.43.59L10.3 9.45l-7.72 7.72c-.78.78-.78 2.05 0 2.83L4 21.41c.39.39.9.59 1.41.59.51 0 1.02-.2 1.41-.59l7.78-7.78 2.81-2.81c.8-.78.8-2.07 0-2.86zM5.41 20L4 18.59l7.72-7.72 1.47 1.35L5.41 20z\"/>\n",
              "  </svg>\n",
              "      </button>\n",
              "      \n",
              "  <style>\n",
              "    .colab-df-container {\n",
              "      display:flex;\n",
              "      flex-wrap:wrap;\n",
              "      gap: 12px;\n",
              "    }\n",
              "\n",
              "    .colab-df-convert {\n",
              "      background-color: #E8F0FE;\n",
              "      border: none;\n",
              "      border-radius: 50%;\n",
              "      cursor: pointer;\n",
              "      display: none;\n",
              "      fill: #1967D2;\n",
              "      height: 32px;\n",
              "      padding: 0 0 0 0;\n",
              "      width: 32px;\n",
              "    }\n",
              "\n",
              "    .colab-df-convert:hover {\n",
              "      background-color: #E2EBFA;\n",
              "      box-shadow: 0px 1px 2px rgba(60, 64, 67, 0.3), 0px 1px 3px 1px rgba(60, 64, 67, 0.15);\n",
              "      fill: #174EA6;\n",
              "    }\n",
              "\n",
              "    [theme=dark] .colab-df-convert {\n",
              "      background-color: #3B4455;\n",
              "      fill: #D2E3FC;\n",
              "    }\n",
              "\n",
              "    [theme=dark] .colab-df-convert:hover {\n",
              "      background-color: #434B5C;\n",
              "      box-shadow: 0px 1px 3px 1px rgba(0, 0, 0, 0.15);\n",
              "      filter: drop-shadow(0px 1px 2px rgba(0, 0, 0, 0.3));\n",
              "      fill: #FFFFFF;\n",
              "    }\n",
              "  </style>\n",
              "\n",
              "      <script>\n",
              "        const buttonEl =\n",
              "          document.querySelector('#df-e9340bc8-f03d-4f47-9a99-42c3dee39584 button.colab-df-convert');\n",
              "        buttonEl.style.display =\n",
              "          google.colab.kernel.accessAllowed ? 'block' : 'none';\n",
              "\n",
              "        async function convertToInteractive(key) {\n",
              "          const element = document.querySelector('#df-e9340bc8-f03d-4f47-9a99-42c3dee39584');\n",
              "          const dataTable =\n",
              "            await google.colab.kernel.invokeFunction('convertToInteractive',\n",
              "                                                     [key], {});\n",
              "          if (!dataTable) return;\n",
              "\n",
              "          const docLinkHtml = 'Like what you see? Visit the ' +\n",
              "            '<a target=\"_blank\" href=https://colab.research.google.com/notebooks/data_table.ipynb>data table notebook</a>'\n",
              "            + ' to learn more about interactive tables.';\n",
              "          element.innerHTML = '';\n",
              "          dataTable['output_type'] = 'display_data';\n",
              "          await google.colab.output.renderOutput(dataTable, element);\n",
              "          const docLink = document.createElement('div');\n",
              "          docLink.innerHTML = docLinkHtml;\n",
              "          element.appendChild(docLink);\n",
              "        }\n",
              "      </script>\n",
              "    </div>\n",
              "  </div>\n",
              "  "
            ]
          },
          "metadata": {},
          "execution_count": 100
        }
      ]
    },
    {
      "cell_type": "markdown",
      "source": [
        "##6- Aplicación de filtro por 10% de nubosidad"
      ],
      "metadata": {
        "id": "Hp-v_QZLlFRW"
      },
      "id": "Hp-v_QZLlFRW"
    },
    {
      "cell_type": "code",
      "source": [
        "# Filtramos por nubosidad < 10%\n",
        "df_summer_clouds = df_summer[df_summer['clouds_on_raster']<0.1]\n",
        "print(len(df_summer_clouds))\n",
        "\n",
        "df_autumn_clouds = df_autumn[df_autumn['clouds_on_raster']<0.1]\n",
        "print(len(df_autumn_clouds))\n",
        "\n",
        "df_winter_clouds = df_winter[df_winter['clouds_on_raster']<0.1]\n",
        "print(len(df_winter_clouds))\n",
        "\n",
        "df_spring_clouds = df_spring[df_spring['clouds_on_raster']<0.1]\n",
        "print(len(df_spring_clouds))"
      ],
      "metadata": {
        "colab": {
          "base_uri": "https://localhost:8080/"
        },
        "id": "B9cQ2xKYdiR-",
        "outputId": "07eb0474-bc4d-43e1-b62e-aac1985b85e1"
      },
      "id": "B9cQ2xKYdiR-",
      "execution_count": 101,
      "outputs": [
        {
          "output_type": "stream",
          "name": "stdout",
          "text": [
            "31250\n",
            "25297\n",
            "28714\n",
            "27546\n"
          ]
        }
      ]
    },
    {
      "cell_type": "code",
      "source": [
        "msno.bar(df_summer_clouds,figsize=(14, 6), sort=\"ascending\",fontsize=12, color='red')"
      ],
      "metadata": {
        "colab": {
          "base_uri": "https://localhost:8080/",
          "height": 522
        },
        "id": "o4JItX2MBo7D",
        "outputId": "90c3706e-5bbc-4e2c-c558-f733128427bc"
      },
      "id": "o4JItX2MBo7D",
      "execution_count": 102,
      "outputs": [
        {
          "output_type": "execute_result",
          "data": {
            "text/plain": [
              "<matplotlib.axes._subplots.AxesSubplot at 0x7f36ff385150>"
            ]
          },
          "metadata": {},
          "execution_count": 102
        },
        {
          "output_type": "display_data",
          "data": {
            "text/plain": [
              "<Figure size 1008x432 with 3 Axes>"
            ],
            "image/png": "[encoded data removed]"
          },
          "metadata": {
            "needs_background": "light"
          }
        }
      ]
    },
    {
      "cell_type": "code",
      "source": [
        "msno.bar(df_autumn_clouds,figsize=(14, 6), sort=\"ascending\",fontsize=12, color='coral')"
      ],
      "metadata": {
        "id": "H7nJ7pXxRq_y",
        "outputId": "66182c49-2d63-4766-891c-78bfc9aa0c48",
        "colab": {
          "base_uri": "https://localhost:8080/",
          "height": 520
        }
      },
      "id": "H7nJ7pXxRq_y",
      "execution_count": 103,
      "outputs": [
        {
          "output_type": "execute_result",
          "data": {
            "text/plain": [
              "<matplotlib.axes._subplots.AxesSubplot at 0x7f36ff43d810>"
            ]
          },
          "metadata": {},
          "execution_count": 103
        },
        {
          "output_type": "display_data",
          "data": {
            "text/plain": [
              "<Figure size 1008x432 with 3 Axes>"
            ],
            "image/png": "[encoded data removed]"
          },
          "metadata": {
            "needs_background": "light"
          }
        }
      ]
    },
    {
      "cell_type": "code",
      "source": [
        "\n",
        "msno.bar(df_winter_clouds,figsize=(14, 6), sort=\"ascending\",fontsize=12, color='blue')"
      ],
      "metadata": {
        "id": "SmKfmbHaRqwS",
        "outputId": "651a04e4-5729-4865-b70e-7b1f75541897",
        "colab": {
          "base_uri": "https://localhost:8080/",
          "height": 517
        }
      },
      "id": "SmKfmbHaRqwS",
      "execution_count": 104,
      "outputs": [
        {
          "output_type": "execute_result",
          "data": {
            "text/plain": [
              "<matplotlib.axes._subplots.AxesSubplot at 0x7f36ff20cd90>"
            ]
          },
          "metadata": {},
          "execution_count": 104
        },
        {
          "output_type": "display_data",
          "data": {
            "text/plain": [
              "<Figure size 1008x432 with 3 Axes>"
            ],
            "image/png": "[encoded data removed]"
          },
          "metadata": {
            "needs_background": "light"
          }
        }
      ]
    },
    {
      "cell_type": "code",
      "source": [
        "\n",
        "msno.bar(df_spring_clouds,figsize=(14, 6), sort=\"ascending\",fontsize=12, color='green')"
      ],
      "metadata": {
        "id": "bBtgzXcsRqdK",
        "outputId": "d47cca0c-3e81-4f1b-e10b-b811ab16c8ff",
        "colab": {
          "base_uri": "https://localhost:8080/",
          "height": 517
        }
      },
      "id": "bBtgzXcsRqdK",
      "execution_count": 105,
      "outputs": [
        {
          "output_type": "execute_result",
          "data": {
            "text/plain": [
              "<matplotlib.axes._subplots.AxesSubplot at 0x7f36ff105f90>"
            ]
          },
          "metadata": {},
          "execution_count": 105
        },
        {
          "output_type": "display_data",
          "data": {
            "text/plain": [
              "<Figure size 1008x432 with 3 Axes>"
            ],
            "image/png": "[encoded data removed]"
          },
          "metadata": {
            "needs_background": "light"
          }
        }
      ]
    },
    {
      "cell_type": "markdown",
      "source": [
        "**El subconjunto otoño no presenta datos faltantes para imputar.**"
      ],
      "metadata": {
        "id": "-vatHN-lQxjU"
      },
      "id": "-vatHN-lQxjU"
    },
    {
      "cell_type": "markdown",
      "source": [
        "##7a- Imputación con filtro de nubosidad\n",
        "Imputamos valores nulos a las variables bajo el criterio del K-vecino más cercano"
      ],
      "metadata": {
        "id": "iCqm-5PwmEbe"
      },
      "id": "iCqm-5PwmEbe"
    },
    {
      "cell_type": "code",
      "source": [
        "#Subconjunto verano\n",
        "from sklearn.experimental import enable_iterative_imputer\n",
        "from sklearn.neighbors import KNeighborsRegressor\n",
        "from sklearn.impute import IterativeImputer\n",
        "\n",
        "df_imp_summer = df_summer_clouds.copy()\n",
        "\n",
        "kn_imputer = IterativeImputer(random_state=0, estimator=KNeighborsRegressor())\n",
        "df_imp_summer[cols_summer] = kn_imputer.fit_transform(df_imp_summer[cols_summer])"
      ],
      "metadata": {
        "colab": {
          "base_uri": "https://localhost:8080/"
        },
        "id": "jqxIvZ8fmjYK",
        "outputId": "00544005-8608-4782-ea52-a043b7ff24f4"
      },
      "id": "jqxIvZ8fmjYK",
      "execution_count": 106,
      "outputs": [
        {
          "output_type": "stream",
          "name": "stderr",
          "text": [
            "/usr/local/lib/python3.7/dist-packages/sklearn/impute/_iterative.py:701: ConvergenceWarning: [IterativeImputer] Early stopping criterion not reached.\n",
            "  ConvergenceWarning,\n"
          ]
        }
      ]
    },
    {
      "cell_type": "code",
      "source": [
        "msno.bar(df_imp_summer,figsize=(14, 6), sort=\"ascending\",fontsize=12, color='red')"
      ],
      "metadata": {
        "colab": {
          "base_uri": "https://localhost:8080/",
          "height": 522
        },
        "id": "McP5MON8nASn",
        "outputId": "49d58ab4-03d1-4fe0-efc5-778b060e206a"
      },
      "id": "McP5MON8nASn",
      "execution_count": 107,
      "outputs": [
        {
          "output_type": "execute_result",
          "data": {
            "text/plain": [
              "<matplotlib.axes._subplots.AxesSubplot at 0x7f36fefe5550>"
            ]
          },
          "metadata": {},
          "execution_count": 107
        },
        {
          "output_type": "display_data",
          "data": {
            "text/plain": [
              "<Figure size 1008x432 with 3 Axes>"
            ],
            "image/png": "[encoded data removed]"
          },
          "metadata": {
            "needs_background": "light"
          }
        }
      ]
    },
    {
      "cell_type": "code",
      "source": [
        "#Subconjunto invierno\n",
        "df_imp_winter = df_winter_clouds.copy()\n",
        "\n",
        "kn_imputer = IterativeImputer(random_state=0, estimator=KNeighborsRegressor())\n",
        "df_imp_winter[cols_winter] = kn_imputer.fit_transform(df_imp_winter[cols_winter])"
      ],
      "metadata": {
        "id": "uXcd1WkbUJgi",
        "outputId": "3920fdb8-1c24-44d4-8f21-9dfcbc7f8c37",
        "colab": {
          "base_uri": "https://localhost:8080/"
        }
      },
      "id": "uXcd1WkbUJgi",
      "execution_count": 108,
      "outputs": [
        {
          "output_type": "stream",
          "name": "stderr",
          "text": [
            "/usr/local/lib/python3.7/dist-packages/sklearn/impute/_iterative.py:701: ConvergenceWarning: [IterativeImputer] Early stopping criterion not reached.\n",
            "  ConvergenceWarning,\n"
          ]
        }
      ]
    },
    {
      "cell_type": "code",
      "source": [
        "msno.bar(df_imp_winter,figsize=(14, 6), sort=\"ascending\",fontsize=12, color='blue')"
      ],
      "metadata": {
        "id": "io2wfHXbUxve",
        "outputId": "1c0e57af-1015-423b-c0ec-01a536aef618",
        "colab": {
          "base_uri": "https://localhost:8080/",
          "height": 517
        }
      },
      "id": "io2wfHXbUxve",
      "execution_count": 109,
      "outputs": [
        {
          "output_type": "execute_result",
          "data": {
            "text/plain": [
              "<matplotlib.axes._subplots.AxesSubplot at 0x7f36ff7fef90>"
            ]
          },
          "metadata": {},
          "execution_count": 109
        },
        {
          "output_type": "display_data",
          "data": {
            "text/plain": [
              "<Figure size 1008x432 with 3 Axes>"
            ],
            "image/png": "[encoded data removed]"
          },
          "metadata": {
            "needs_background": "light"
          }
        }
      ]
    },
    {
      "cell_type": "code",
      "source": [
        "#Subconjunto primavera\n",
        "df_imp_spring = df_spring_clouds.copy()\n",
        "\n",
        "kn_imputer = IterativeImputer(random_state=0, estimator=KNeighborsRegressor())\n",
        "df_imp_spring[cols_spring] = kn_imputer.fit_transform(df_imp_spring[cols_spring])"
      ],
      "metadata": {
        "id": "jLu53yiDUJSr",
        "outputId": "080b4a88-4ff9-4d8e-d299-62d2c9862de1",
        "colab": {
          "base_uri": "https://localhost:8080/"
        }
      },
      "id": "jLu53yiDUJSr",
      "execution_count": 110,
      "outputs": [
        {
          "output_type": "stream",
          "name": "stderr",
          "text": [
            "/usr/local/lib/python3.7/dist-packages/sklearn/impute/_iterative.py:701: ConvergenceWarning: [IterativeImputer] Early stopping criterion not reached.\n",
            "  ConvergenceWarning,\n"
          ]
        }
      ]
    },
    {
      "cell_type": "code",
      "source": [
        "msno.bar(df_imp_spring,figsize=(14, 6), sort=\"ascending\",fontsize=12, color='green')"
      ],
      "metadata": {
        "id": "tgELc8aYUync",
        "outputId": "c7c130b9-cdaa-40f9-9948-f68368506df6",
        "colab": {
          "base_uri": "https://localhost:8080/",
          "height": 517
        }
      },
      "id": "tgELc8aYUync",
      "execution_count": 111,
      "outputs": [
        {
          "output_type": "execute_result",
          "data": {
            "text/plain": [
              "<matplotlib.axes._subplots.AxesSubplot at 0x7f36fee39e50>"
            ]
          },
          "metadata": {},
          "execution_count": 111
        },
        {
          "output_type": "display_data",
          "data": {
            "text/plain": [
              "<Figure size 1008x432 with 3 Axes>"
            ],
            "image/png": "[encoded data removed]"
          },
          "metadata": {
            "needs_background": "light"
          }
        }
      ]
    },
    {
      "cell_type": "markdown",
      "source": [
        "La siguiente gráfica muestra las funciones de distribución para la variable ndvi_max antes y después de realizar la imputación, con filtro en nubosidad."
      ],
      "metadata": {
        "id": "pk99UmpnsXCi"
      },
      "id": "pk99UmpnsXCi"
    },
    {
      "cell_type": "code",
      "source": [
        "import seaborn as sns\n",
        "sns.set_context('talk')"
      ],
      "metadata": {
        "id": "iLBbFgF5rwMY"
      },
      "id": "iLBbFgF5rwMY",
      "execution_count": 112,
      "outputs": []
    },
    {
      "cell_type": "code",
      "source": [
        "df_imp_ndvi_summer = df_imp_summer.ndvi_max.to_frame()\n",
        "df_imp_ndvi_summer['Imputation'] = 'KNN over ndvi_max'\n",
        "df_ndvi_summer = df_summer_clouds.ndvi_max.dropna().to_frame()\n",
        "df_ndvi_summer['Imputation'] = 'Original'\n",
        "data = pd.concat([df_imp_ndvi_summer, df_ndvi_summer], ignore_index=True)\n",
        "fig = plt.figure(figsize=(8, 5))\n",
        "g = sns.kdeplot(data=data, x='ndvi_max', hue='Imputation')\n",
        "plt.title(\"Subconjunto Verano\")"
      ],
      "metadata": {
        "colab": {
          "base_uri": "https://localhost:8080/",
          "height": 393
        },
        "id": "pHCENI2dqDwi",
        "outputId": "fd729a5b-3409-4681-e183-7bc6b14481b0"
      },
      "id": "pHCENI2dqDwi",
      "execution_count": 113,
      "outputs": [
        {
          "output_type": "execute_result",
          "data": {
            "text/plain": [
              "Text(0.5, 1.0, 'Subconjunto Verano')"
            ]
          },
          "metadata": {},
          "execution_count": 113
        },
        {
          "output_type": "display_data",
          "data": {
            "text/plain": [
              "<Figure size 576x360 with 1 Axes>"
            ],
            "image/png": "[encoded data removed]"
          },
          "metadata": {
            "needs_background": "light"
          }
        }
      ]
    },
    {
      "cell_type": "code",
      "source": [
        "df_imp_ndvi_winter = df_imp_winter.ndvi_max.to_frame()\n",
        "df_imp_ndvi_winter['Imputation'] = 'KNN over ndvi_max'\n",
        "df_ndvi_winter = df_winter_clouds.ndvi_max.dropna().to_frame()\n",
        "df_ndvi_winter['Imputation'] = 'Original'\n",
        "data = pd.concat([df_imp_ndvi_winter, df_ndvi_winter], ignore_index=True)\n",
        "fig = plt.figure(figsize=(8, 5))\n",
        "h = sns.kdeplot(data=data, x='ndvi_max', hue='Imputation')\n",
        "plt.title(\"Subconjunto Invierno\")"
      ],
      "metadata": {
        "id": "TZLFyh5OZpBR",
        "outputId": "a517dbad-a313-4d42-8d1e-86439e46809f",
        "colab": {
          "base_uri": "https://localhost:8080/",
          "height": 393
        }
      },
      "id": "TZLFyh5OZpBR",
      "execution_count": 114,
      "outputs": [
        {
          "output_type": "execute_result",
          "data": {
            "text/plain": [
              "Text(0.5, 1.0, 'Subconjunto Invierno')"
            ]
          },
          "metadata": {},
          "execution_count": 114
        },
        {
          "output_type": "display_data",
          "data": {
            "text/plain": [
              "<Figure size 576x360 with 1 Axes>"
            ],
            "image/png": "[encoded data removed]"
          },
          "metadata": {
            "needs_background": "light"
          }
        }
      ]
    },
    {
      "cell_type": "code",
      "source": [
        "df_imp_ndvi_spring = df_imp_spring.ndvi_max.to_frame()\n",
        "df_imp_ndvi_spring['Imputation'] = 'KNN over ndvi_max'\n",
        "df_ndvi_spring = df_spring_clouds.ndvi_max.dropna().to_frame()\n",
        "df_ndvi_spring['Imputation'] = 'Original'\n",
        "data = pd.concat([df_imp_ndvi_spring, df_ndvi_spring], ignore_index=True)\n",
        "fig = plt.figure(figsize=(8, 5))\n",
        "j = sns.kdeplot(data=data, x='ndvi_max', hue='Imputation')\n",
        "plt.title(\"Subconjunto Primavera\")"
      ],
      "metadata": {
        "id": "Q2rVpW-ZaVQT",
        "outputId": "4e5914ac-1760-4caf-ed22-ab5c22849c70",
        "colab": {
          "base_uri": "https://localhost:8080/",
          "height": 393
        }
      },
      "id": "Q2rVpW-ZaVQT",
      "execution_count": 115,
      "outputs": [
        {
          "output_type": "execute_result",
          "data": {
            "text/plain": [
              "Text(0.5, 1.0, 'Subconjunto Primavera')"
            ]
          },
          "metadata": {},
          "execution_count": 115
        },
        {
          "output_type": "display_data",
          "data": {
            "text/plain": [
              "<Figure size 576x360 with 1 Axes>"
            ],
            "image/png": "[encoded data removed]"
          },
          "metadata": {
            "needs_background": "light"
          }
        }
      ]
    },
    {
      "cell_type": "markdown",
      "source": [
        "##7a- Imputación sin filtro de nubosidad\n",
        "Imputamos valores nulos a las variables bajo el criterio del K-vecino más cercano, sin realizar previamente el filtrado por nubosidad. Primeramente visualizamos los datos a imputar para cada uno de los subconjuntos."
      ],
      "metadata": {
        "id": "jxVYIOfN7cAe"
      },
      "id": "jxVYIOfN7cAe"
    },
    {
      "cell_type": "code",
      "source": [
        "msno.bar(df_summer,figsize=(14, 6), sort=\"ascending\",fontsize=12, color='red')"
      ],
      "metadata": {
        "id": "mI_y-fOJbcTI",
        "outputId": "784d3166-666f-4e73-db99-109272fa39ae",
        "colab": {
          "base_uri": "https://localhost:8080/",
          "height": 522
        }
      },
      "id": "mI_y-fOJbcTI",
      "execution_count": 116,
      "outputs": [
        {
          "output_type": "execute_result",
          "data": {
            "text/plain": [
              "<matplotlib.axes._subplots.AxesSubplot at 0x7f36fe8e81d0>"
            ]
          },
          "metadata": {},
          "execution_count": 116
        },
        {
          "output_type": "display_data",
          "data": {
            "text/plain": [
              "<Figure size 1008x432 with 3 Axes>"
            ],
            "image/png": "[encoded data removed]"
          },
          "metadata": {
            "needs_background": "light"
          }
        }
      ]
    },
    {
      "cell_type": "code",
      "source": [
        "msno.bar(df_autumn,figsize=(14, 6), sort=\"ascending\",fontsize=12, color='coral')"
      ],
      "metadata": {
        "id": "7VT2zAR5b5uh",
        "outputId": "cb852b4e-a8f6-4103-a9ae-a620d84a96f3",
        "colab": {
          "base_uri": "https://localhost:8080/",
          "height": 520
        }
      },
      "id": "7VT2zAR5b5uh",
      "execution_count": 117,
      "outputs": [
        {
          "output_type": "execute_result",
          "data": {
            "text/plain": [
              "<matplotlib.axes._subplots.AxesSubplot at 0x7f36fe76ee10>"
            ]
          },
          "metadata": {},
          "execution_count": 117
        },
        {
          "output_type": "display_data",
          "data": {
            "text/plain": [
              "<Figure size 1008x432 with 3 Axes>"
            ],
            "image/png": "[encoded data removed]"
          },
          "metadata": {
            "needs_background": "light"
          }
        }
      ]
    },
    {
      "cell_type": "code",
      "source": [
        "msno.bar(df_winter,figsize=(14, 6), sort=\"ascending\",fontsize=12, color='blue')"
      ],
      "metadata": {
        "id": "e8qv7zBfb49y",
        "outputId": "0acb47b7-fb4a-4967-ef79-75e42d61b777",
        "colab": {
          "base_uri": "https://localhost:8080/",
          "height": 517
        }
      },
      "id": "e8qv7zBfb49y",
      "execution_count": 118,
      "outputs": [
        {
          "output_type": "execute_result",
          "data": {
            "text/plain": [
              "<matplotlib.axes._subplots.AxesSubplot at 0x7f36fe64cdd0>"
            ]
          },
          "metadata": {},
          "execution_count": 118
        },
        {
          "output_type": "display_data",
          "data": {
            "text/plain": [
              "<Figure size 1008x432 with 3 Axes>"
            ],
            "image/png": "[encoded data removed]"
          },
          "metadata": {
            "needs_background": "light"
          }
        }
      ]
    },
    {
      "cell_type": "code",
      "source": [
        "msno.bar(df_spring,figsize=(14, 6), sort=\"ascending\",fontsize=12, color='green')"
      ],
      "metadata": {
        "id": "lIAFa66Pb4sv",
        "outputId": "96d2ca64-d83a-4195-84e5-e86e17388606",
        "colab": {
          "base_uri": "https://localhost:8080/",
          "height": 517
        }
      },
      "id": "lIAFa66Pb4sv",
      "execution_count": 119,
      "outputs": [
        {
          "output_type": "execute_result",
          "data": {
            "text/plain": [
              "<matplotlib.axes._subplots.AxesSubplot at 0x7f36fe46d3d0>"
            ]
          },
          "metadata": {},
          "execution_count": 119
        },
        {
          "output_type": "display_data",
          "data": {
            "text/plain": [
              "<Figure size 1008x432 with 3 Axes>"
            ],
            "image/png": "[encoded data removed]"
          },
          "metadata": {
            "needs_background": "light"
          }
        }
      ]
    },
    {
      "cell_type": "markdown",
      "source": [
        "Observamos que los 4 subconjuntos estacionales presentan datos faltantes para imputar"
      ],
      "metadata": {
        "id": "bV7F-6uHcTPK"
      },
      "id": "bV7F-6uHcTPK"
    },
    {
      "cell_type": "markdown",
      "source": [
        "**Imputación**"
      ],
      "metadata": {
        "id": "8ZZq9sZ3kzWF"
      },
      "id": "8ZZq9sZ3kzWF"
    },
    {
      "cell_type": "code",
      "source": [
        "#Subconjunto verano\n",
        "df_imp_summer2 = df_summer.copy()\n",
        "\n",
        "kn_imputer = IterativeImputer(random_state=0, estimator=KNeighborsRegressor())\n",
        "df_imp_summer2[cols_summer] = kn_imputer.fit_transform(df_imp_summer2[cols_summer])"
      ],
      "metadata": {
        "id": "7RYHmKG2eDiK"
      },
      "id": "7RYHmKG2eDiK",
      "execution_count": 120,
      "outputs": []
    },
    {
      "cell_type": "code",
      "source": [
        "#Subconjunto otoño\n",
        "df_imp_autumn2 = df_autumn.copy()\n",
        "\n",
        "kn_imputer = IterativeImputer(random_state=0, estimator=KNeighborsRegressor())\n",
        "df_imp_autumn2[cols_autumn] = kn_imputer.fit_transform(df_imp_autumn2[cols_autumn])"
      ],
      "metadata": {
        "id": "I1AQkimMeT0v",
        "outputId": "d5d8b62a-532e-41e3-b947-6056772a6f0f",
        "colab": {
          "base_uri": "https://localhost:8080/"
        }
      },
      "id": "I1AQkimMeT0v",
      "execution_count": 121,
      "outputs": [
        {
          "output_type": "stream",
          "name": "stderr",
          "text": [
            "/usr/local/lib/python3.7/dist-packages/sklearn/impute/_iterative.py:701: ConvergenceWarning: [IterativeImputer] Early stopping criterion not reached.\n",
            "  ConvergenceWarning,\n"
          ]
        }
      ]
    },
    {
      "cell_type": "code",
      "source": [
        "#Subconjunto invierno\n",
        "df_imp_winter2 = df_winter.copy()\n",
        "\n",
        "kn_imputer = IterativeImputer(random_state=0, estimator=KNeighborsRegressor())\n",
        "df_imp_winter2[cols_winter] = kn_imputer.fit_transform(df_imp_winter2[cols_winter])"
      ],
      "metadata": {
        "id": "my2Y4XEzeThm"
      },
      "id": "my2Y4XEzeThm",
      "execution_count": 122,
      "outputs": []
    },
    {
      "cell_type": "code",
      "source": [
        "#Subconjunto primavera\n",
        "df_imp_spring2 = df_spring.copy()\n",
        "\n",
        "kn_imputer = IterativeImputer(random_state=0, estimator=KNeighborsRegressor())\n",
        "df_imp_spring2[cols_spring] = kn_imputer.fit_transform(df_imp_spring2[cols_spring])"
      ],
      "metadata": {
        "id": "3eeaCQSCeTUu",
        "outputId": "9c16c775-ab56-4bd5-b478-b5e520f5c02f",
        "colab": {
          "base_uri": "https://localhost:8080/"
        }
      },
      "id": "3eeaCQSCeTUu",
      "execution_count": 123,
      "outputs": [
        {
          "output_type": "stream",
          "name": "stderr",
          "text": [
            "/usr/local/lib/python3.7/dist-packages/sklearn/impute/_iterative.py:701: ConvergenceWarning: [IterativeImputer] Early stopping criterion not reached.\n",
            "  ConvergenceWarning,\n"
          ]
        }
      ]
    },
    {
      "cell_type": "markdown",
      "source": [
        "La siguiente gráfica muestra las funciones de distribución para la variable ndvi_max antes y después de realizar la imputación, sin filtro en nubosidad."
      ],
      "metadata": {
        "id": "aRwQcvkExp9P"
      },
      "id": "aRwQcvkExp9P"
    },
    {
      "cell_type": "code",
      "source": [
        "df_imp_ndvi_summer2 = df_imp_summer2.ndvi_max.to_frame()\n",
        "df_imp_ndvi_summer2['Imputation'] = 'KNN over ndvi_max'\n",
        "df_ndvi_summer2 = df_summer.ndvi_max.dropna().to_frame()\n",
        "df_ndvi_summer2['Imputation'] = 'Original'\n",
        "data = pd.concat([df_imp_ndvi_summer2, df_ndvi_summer2], ignore_index=True)\n",
        "fig = plt.figure(figsize=(8, 5))\n",
        "g = sns.kdeplot(data=data, x='ndvi_max', hue='Imputation')\n",
        "plt.title(\"Subconjunto Verano\")"
      ],
      "metadata": {
        "id": "AgkBwwWXfs6d",
        "outputId": "027d6ece-4f2d-43c9-95c4-adaa77875eb2",
        "colab": {
          "base_uri": "https://localhost:8080/",
          "height": 393
        }
      },
      "id": "AgkBwwWXfs6d",
      "execution_count": 124,
      "outputs": [
        {
          "output_type": "execute_result",
          "data": {
            "text/plain": [
              "Text(0.5, 1.0, 'Subconjunto Verano')"
            ]
          },
          "metadata": {},
          "execution_count": 124
        },
        {
          "output_type": "display_data",
          "data": {
            "text/plain": [
              "<Figure size 576x360 with 1 Axes>"
            ],
            "image/png": "[encoded data removed]"
          },
          "metadata": {
            "needs_background": "light"
          }
        }
      ]
    },
    {
      "cell_type": "code",
      "source": [
        "df_imp_ndvi_autumn2 = df_imp_autumn2.ndvi_max.to_frame()\n",
        "df_imp_ndvi_autumn2['Imputation'] = 'KNN over ndvi_max'\n",
        "df_ndvi_autumn2 = df_autumn.ndvi_max.dropna().to_frame()\n",
        "df_ndvi_autumn2['Imputation'] = 'Original'\n",
        "data = pd.concat([df_imp_ndvi_autumn2, df_ndvi_autumn2], ignore_index=True)\n",
        "fig = plt.figure(figsize=(8, 5))\n",
        "m2 = sns.kdeplot(data=data, x='ndvi_max', hue='Imputation')\n",
        "plt.title(\"Subconjunto Invierno\")"
      ],
      "metadata": {
        "id": "8Uk3ZtKmfsjv",
        "outputId": "b195d6e5-f857-4885-d060-b1f713549bc4",
        "colab": {
          "base_uri": "https://localhost:8080/",
          "height": 393
        }
      },
      "id": "8Uk3ZtKmfsjv",
      "execution_count": 125,
      "outputs": [
        {
          "output_type": "execute_result",
          "data": {
            "text/plain": [
              "Text(0.5, 1.0, 'Subconjunto Invierno')"
            ]
          },
          "metadata": {},
          "execution_count": 125
        },
        {
          "output_type": "display_data",
          "data": {
            "text/plain": [
              "<Figure size 576x360 with 1 Axes>"
            ],
            "image/png": "[encoded data removed]"
          },
          "metadata": {
            "needs_background": "light"
          }
        }
      ]
    },
    {
      "cell_type": "code",
      "source": [
        "df_imp_ndvi_winter2 = df_imp_winter2.ndvi_max.to_frame()\n",
        "df_imp_ndvi_winter2['Imputation'] = 'KNN over ndvi_max'\n",
        "df_ndvi_winter2 = df_winter.ndvi_max.dropna().to_frame()\n",
        "df_ndvi_winter2['Imputation'] = 'Original'\n",
        "data = pd.concat([df_imp_ndvi_winter2, df_ndvi_winter2], ignore_index=True)\n",
        "fig = plt.figure(figsize=(8, 5))\n",
        "h = sns.kdeplot(data=data, x='ndvi_max', hue='Imputation')\n",
        "plt.title(\"Subconjunto Invierno\")"
      ],
      "metadata": {
        "id": "RaMyK8LBkOBn",
        "outputId": "bf82e4cc-ab5e-4b30-a136-43bb05a25258",
        "colab": {
          "base_uri": "https://localhost:8080/",
          "height": 393
        }
      },
      "id": "RaMyK8LBkOBn",
      "execution_count": 126,
      "outputs": [
        {
          "output_type": "execute_result",
          "data": {
            "text/plain": [
              "Text(0.5, 1.0, 'Subconjunto Invierno')"
            ]
          },
          "metadata": {},
          "execution_count": 126
        },
        {
          "output_type": "display_data",
          "data": {
            "text/plain": [
              "<Figure size 576x360 with 1 Axes>"
            ],
            "image/png": "[encoded data removed]"
          },
          "metadata": {
            "needs_background": "light"
          }
        }
      ]
    },
    {
      "cell_type": "code",
      "source": [
        "df_imp_ndvi_spring2 = df_imp_spring2.ndvi_max.to_frame()\n",
        "df_imp_ndvi_spring2['Imputation'] = 'KNN over ndvi_max'\n",
        "df_ndvi_spring2 = df_spring.ndvi_max.dropna().to_frame()\n",
        "df_ndvi_spring2['Imputation'] = 'Original'\n",
        "data = pd.concat([df_imp_ndvi_spring2, df_ndvi_spring2], ignore_index=True)\n",
        "fig = plt.figure(figsize=(8, 5))\n",
        "j = sns.kdeplot(data=data, x='ndvi_max', hue='Imputation')\n",
        "plt.title(\"Subconjunto Primavera\")"
      ],
      "metadata": {
        "id": "bMyGZMuRkPQP",
        "outputId": "22c85aee-ff4e-47f7-f1f4-ee34bbd1bb83",
        "colab": {
          "base_uri": "https://localhost:8080/",
          "height": 393
        }
      },
      "id": "bMyGZMuRkPQP",
      "execution_count": 127,
      "outputs": [
        {
          "output_type": "execute_result",
          "data": {
            "text/plain": [
              "Text(0.5, 1.0, 'Subconjunto Primavera')"
            ]
          },
          "metadata": {},
          "execution_count": 127
        },
        {
          "output_type": "display_data",
          "data": {
            "text/plain": [
              "<Figure size 576x360 with 1 Axes>"
            ],
            "image/png": "[encoded data removed]"
          },
          "metadata": {
            "needs_background": "light"
          }
        }
      ]
    }
  ],
  "metadata": {
    "kernelspec": {
      "display_name": "Python 3 (ipykernel)",
      "language": "python",
      "name": "python3"
    },
    "language_info": {
      "codemirror_mode": {
        "name": "ipython",
        "version": 3
      },
      "file_extension": ".py",
      "mimetype": "text/x-python",
      "name": "python",
      "nbconvert_exporter": "python",
      "pygments_lexer": "ipython3",
      "version": "3.9.7"
    },
    "colab": {
      "name": "EyCD_MEV_Garay_v1.ipynb",
      "provenance": [],
      "include_colab_link": true
    }
  },
  "nbformat": 4,
  "nbformat_minor": 5
}