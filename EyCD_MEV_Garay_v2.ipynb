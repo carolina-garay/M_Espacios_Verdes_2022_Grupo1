{
  "cells": [
    {
      "cell_type": "markdown",
      "metadata": {
        "id": "view-in-github",
        "colab_type": "text"
      },
      "source": [
        "<a href=\"https://colab.research.google.com/github/carolina-garay/M_Espacios_Verdes_2022_Grupo1/blob/TP2_EyCD_Garay/EyCD_MEV_Garay_v2.ipynb\" target=\"_parent\"><img src=\"https://colab.research.google.com/assets/colab-badge.svg\" alt=\"Open In Colab\"/></a>"
      ]
    },
    {
      "cell_type": "markdown",
      "id": "5ae369d0-fb59-4e77-a928-a6417de1a666",
      "metadata": {
        "id": "5ae369d0-fb59-4e77-a928-a6417de1a666"
      },
      "source": [
        "# Mentoria: Monitoreo de Espacios Verdes\n",
        "\n",
        "__DIPLODATOS 2022 - FAMAF UNC__\n",
        "\n",
        "_Felix Rojo Lapalma_\n",
        "\n",
        "## Exploración y Curación de Datos \n",
        "\n",
        "_GRUPO1_\n",
        "\n",
        "Alumnos\n",
        "\n",
        "- Artola, María Fernanda\n",
        "- Garay, Carolina\n",
        "- Ormaechea, Sebastián\n",
        "\n",
        "\n",
        "En esta etapa ya hemos avanzado en (basados en el [TP-Analisis-Visualizacion](https://github.com/felixlapalma/monitoreo-espacios-verdes-diplo202X/blob/main/notebooks-tp/Analisis-y-Visualizacion-MEV-TP.ipynb)):\n",
        "\n",
        "- análisis y exploración del conjunto de datos (aunque sea superficialmente)\n",
        "- set representativo: Es decir, aprendimos que podemos llegar a trabajar con un set mas reducido (de las caracteristicas - columnas del dataframe) e igualmente vamos a estar representando gran parte del conjunto.\n",
        "- inputacion de valores:   \n",
        "    - tenemos formas de inputar valores en rangos temporales que no tenemos (para una cierta zona) utilizando otros rangos temporales (aqui aprovechamos fuertemente la estacionalidad de lo que estamos monitoreando)\n",
        "    - que un outlier en un rango temporal puede ser un valor nominal en otro rango temporal.\n",
        "\n",
        "- etc\n",
        "\n",
        "En lo que sigue vamos a aplicar mucho de lo obtenido en el TP anterior para \"curar\" nuestro dataset con diferentes recetas. Por curar nos referimos a generar los procesos necesarios (trazables y reproducibles) que nos lleven del conjunto original de datos (que debe permanecer inmutable) hasta un conjunto que pueda ser consumido por distintos algorimos de aprendizaje. Las recetas pasaran de las mas simples, hasta algunas mas elaboradas. Una de las intenciones de todo proceso de curacion es salvar, en base a ciertos supuestos, la mayor cantidad de datos (puesto que la recoleccion de los mismos, etc, suele ser un proceso costoso tanto en recursos como en tiempo, entre otras cosas).\n",
        "\n",
        "### Fuentes\n",
        "\n",
        "El presente trabajo práctico está inspirado en los correspondientes de:\n",
        "\n",
        "- [jbergamasco2019](https://github.com/jbergamasco/DiploDatos2019)\n",
        "\n",
        "- [TP-Analisis-Visualizacion](https://github.com/felixlapalma/monitoreo-espacios-verdes-diplo202X/blob/main/notebooks-tp/Analisis-y-Visualizacion-MEV-TP.ipynb)\n",
        "\n",
        "Para una introducción un poco mas extensa respecto al origen de los datos y su procesamiento se pueden referir a :\n",
        "- [ab-initio-data-build](https://github.com/felixlapalma/monitoreo-espacios-verdes-diplo202X/blob/main/data/ab-initio-dataset-build.md)\n",
        "- [ab-initio-analisis-visualizacion](https://github.com/felixlapalma/monitoreo-espacios-verdes-diplo202X/blob/main/data/ab-initio-analisis-visualizacion.md)\n"
      ]
    },
    {
      "cell_type": "markdown",
      "id": "6f28e001",
      "metadata": {
        "id": "6f28e001"
      },
      "source": [
        "## Sobre el Trabajo Requerido\n",
        "\n",
        "Se propone la elaboración de un conjunto de procedimientos (\\*.py o notebooks) que nos permitan partiendo del dataset original obtener uno nuevo y \"curado\".\n",
        "Respecto a las recetas mencionadas, son las que van a dar origen a los distintos procedimientos y nos van a permitir inferir (ya en el proximo TP) la importancia del proceso de curación.\n",
        "\n",
        "### Sobre las recetas\n",
        "\n",
        "La idea de construccion de una receta es que pueda ser aprovechada cuando le llegue un set nuevo de datos. Tanto  para su transformacion para incorporarlos al set de entramiento como para su posible uso en inferencia.\n",
        "\n",
        "__DISCLAIMER__: En lo siguiente vamos a presentar un numero limitado (~4) de recetas (para el problema en cuestión).\n",
        "\n",
        "### ab-initio\n",
        "\n",
        "- elija (basados en lo aprendido en el TP anterior) un conjunto de bandas e indices que considere representativo. Adicione a su elección:\n",
        "    - raster: raster del cual se extraen los estadísticos\n",
        "    - clouds_on_raster: nubosidad del raster completo\n",
        "    - osm_id: identificador asociado a la capa original (atlas-espacios-verdes)\n",
        "    - area_m2: area en metros cuadrados\n",
        "    - date: fecha de la muestra.\n",
        "    \n",
        "    estas variables las sumamos a los efectos practicos de representacion y filtrado.\n",
        "\n",
        "\n",
        "\n",
        "### [A] Esfuerzo Nulo"
      ]
    },
    {
      "cell_type": "markdown",
      "id": "ceae5e2c",
      "metadata": {
        "id": "ceae5e2c"
      },
      "source": [
        "- Leer los datos"
      ]
    },
    {
      "cell_type": "code",
      "execution_count": 5,
      "id": "f6e0a21d-304f-4ece-a268-5b168ad47686",
      "metadata": {
        "id": "f6e0a21d-304f-4ece-a268-5b168ad47686",
        "colab": {
          "base_uri": "https://localhost:8080/"
        },
        "outputId": "9c03ca88-a6a8-469e-8084-cfd84115b376"
      },
      "outputs": [
        {
          "output_type": "stream",
          "name": "stdout",
          "text": [
            "Looking in indexes: https://pypi.org/simple, https://us-python.pkg.dev/colab-wheels/public/simple/\n",
            "Requirement already satisfied: gdown in /usr/local/lib/python3.7/dist-packages (4.4.0)\n",
            "Requirement already satisfied: tqdm in /usr/local/lib/python3.7/dist-packages (from gdown) (4.64.0)\n",
            "Requirement already satisfied: filelock in /usr/local/lib/python3.7/dist-packages (from gdown) (3.7.1)\n",
            "Requirement already satisfied: beautifulsoup4 in /usr/local/lib/python3.7/dist-packages (from gdown) (4.6.3)\n",
            "Requirement already satisfied: requests[socks] in /usr/local/lib/python3.7/dist-packages (from gdown) (2.23.0)\n",
            "Requirement already satisfied: six in /usr/local/lib/python3.7/dist-packages (from gdown) (1.15.0)\n",
            "Requirement already satisfied: chardet<4,>=3.0.2 in /usr/local/lib/python3.7/dist-packages (from requests[socks]->gdown) (3.0.4)\n",
            "Requirement already satisfied: certifi>=2017.4.17 in /usr/local/lib/python3.7/dist-packages (from requests[socks]->gdown) (2022.6.15)\n",
            "Requirement already satisfied: idna<3,>=2.5 in /usr/local/lib/python3.7/dist-packages (from requests[socks]->gdown) (2.10)\n",
            "Requirement already satisfied: urllib3!=1.25.0,!=1.25.1,<1.26,>=1.21.1 in /usr/local/lib/python3.7/dist-packages (from requests[socks]->gdown) (1.24.3)\n",
            "Requirement already satisfied: PySocks!=1.5.7,>=1.5.6 in /usr/local/lib/python3.7/dist-packages (from requests[socks]->gdown) (1.7.1)\n",
            "Looking in indexes: https://pypi.org/simple, https://us-python.pkg.dev/colab-wheels/public/simple/\n",
            "Requirement already satisfied: missingno in /usr/local/lib/python3.7/dist-packages (0.5.1)\n",
            "Requirement already satisfied: matplotlib in /usr/local/lib/python3.7/dist-packages (from missingno) (3.2.2)\n",
            "Requirement already satisfied: numpy in /usr/local/lib/python3.7/dist-packages (from missingno) (1.21.6)\n",
            "Requirement already satisfied: seaborn in /usr/local/lib/python3.7/dist-packages (from missingno) (0.11.2)\n",
            "Requirement already satisfied: scipy in /usr/local/lib/python3.7/dist-packages (from missingno) (1.4.1)\n",
            "Requirement already satisfied: kiwisolver>=1.0.1 in /usr/local/lib/python3.7/dist-packages (from matplotlib->missingno) (1.4.3)\n",
            "Requirement already satisfied: pyparsing!=2.0.4,!=2.1.2,!=2.1.6,>=2.0.1 in /usr/local/lib/python3.7/dist-packages (from matplotlib->missingno) (3.0.9)\n",
            "Requirement already satisfied: cycler>=0.10 in /usr/local/lib/python3.7/dist-packages (from matplotlib->missingno) (0.11.0)\n",
            "Requirement already satisfied: python-dateutil>=2.1 in /usr/local/lib/python3.7/dist-packages (from matplotlib->missingno) (2.8.2)\n",
            "Requirement already satisfied: typing-extensions in /usr/local/lib/python3.7/dist-packages (from kiwisolver>=1.0.1->matplotlib->missingno) (4.1.1)\n",
            "Requirement already satisfied: six>=1.5 in /usr/local/lib/python3.7/dist-packages (from python-dateutil>=2.1->matplotlib->missingno) (1.15.0)\n",
            "Requirement already satisfied: pandas>=0.23 in /usr/local/lib/python3.7/dist-packages (from seaborn->missingno) (1.3.5)\n",
            "Requirement already satisfied: pytz>=2017.3 in /usr/local/lib/python3.7/dist-packages (from pandas>=0.23->seaborn->missingno) (2022.1)\n"
          ]
        }
      ],
      "source": [
        "# Setup necesario para correr pandas profiling\n",
        "#!pip install pandas_profiling==2.8.0\n",
        "#!pip install pandas==1.2.0\n",
        "########################################\n",
        "# Importación necesaria para correr pandas profiling y descargar reporte\n",
        "#from pandas_profiling import ProfileReport\n",
        "from google.colab import files\n",
        "########################################\n",
        "# Descarga de base de datos\n",
        "# from link @ https://github.com/felixlapalma/monitoreo-espacios-verdes-diplo202X/blob/main/data/ab-initio-dataset-build.md\n",
        "########################################\n",
        "!pip install gdown\n",
        "!pip install missingno"
      ]
    },
    {
      "cell_type": "code",
      "execution_count": 6,
      "id": "d6e9dc25",
      "metadata": {
        "id": "d6e9dc25",
        "colab": {
          "base_uri": "https://localhost:8080/"
        },
        "outputId": "552a5ef8-5e0e-44f8-9e16-62d089b5bf31"
      },
      "outputs": [
        {
          "output_type": "stream",
          "name": "stdout",
          "text": [
            "Downloading...\n",
            "From: https://drive.google.com/uc?id=1tgbIQaEXzIghcFYyd2YM9iMho4TDHHFd\n",
            "To: /content/espacios-verdes-indexs-cba-20170101-20220420.zip\n",
            "100% 170M/170M [00:04<00:00, 37.9MB/s]\n"
          ]
        }
      ],
      "source": [
        "# Descarga de archivo\n",
        "!gdown https://drive.google.com/file/d/1tgbIQaEXzIghcFYyd2YM9iMho4TDHHFd/view?usp=sharing --fuzzy"
      ]
    },
    {
      "cell_type": "code",
      "source": [
        "# Carga de librerías necesarias\n",
        "import pandas as pd\n",
        "import numpy as np\n",
        "import matplotlib.dates as mdates # Esto sirve para manipular fechas en los gráficos\n",
        "import matplotlib.pyplot as plt\n",
        "import datetime\n"
      ],
      "metadata": {
        "id": "rn5YxWb1r86M"
      },
      "id": "rn5YxWb1r86M",
      "execution_count": 75,
      "outputs": []
    },
    {
      "cell_type": "code",
      "execution_count": 76,
      "id": "7e225f0f-5a2d-4aed-9d84-40499e0d22d1",
      "metadata": {
        "id": "7e225f0f-5a2d-4aed-9d84-40499e0d22d1",
        "scrolled": true,
        "outputId": "c84d6d18-055b-486e-901a-68d4d2b403bf",
        "colab": {
          "base_uri": "https://localhost:8080/",
          "height": 661
        }
      },
      "outputs": [
        {
          "output_type": "execute_result",
          "data": {
            "text/plain": [
              "        B02_min  B02_max  B02_mean  B02_median  B02_nodata  B02_range  \\\n",
              "0        0.0871   0.1421  0.102570     0.09650         0.0     0.0550   \n",
              "1        0.0970   0.1936  0.118354     0.10660         0.0     0.0966   \n",
              "2        0.0992   0.1273  0.111805     0.11290         0.0     0.0281   \n",
              "3        0.0995   0.1933  0.118491     0.11355         0.0     0.0938   \n",
              "4        0.1059   0.1385  0.122453     0.12240         0.0     0.0326   \n",
              "...         ...      ...       ...         ...         ...        ...   \n",
              "208927   0.0990   0.1684  0.115990     0.11270         0.0     0.0694   \n",
              "208928   0.1145   0.3240  0.149746     0.13665         0.0     0.2095   \n",
              "208929   0.0993   0.1388  0.110870     0.10625         0.0     0.0395   \n",
              "208930   0.0991   0.1407  0.124008     0.12570         0.0     0.0416   \n",
              "208931   0.0874   0.1347  0.104697     0.10180         0.0     0.0473   \n",
              "\n",
              "        B02_count  B03_min  B03_max  B03_mean  ...  sipi_median  sipi_nodata  \\\n",
              "0              47   0.0768   0.1516  0.098885  ...     0.884216          0.0   \n",
              "1              13   0.1006   0.1949  0.122154  ...     0.971875          0.0   \n",
              "2              19   0.1037   0.1369  0.117795  ...     0.973017          0.0   \n",
              "3              66   0.0993   0.1990  0.124512  ...     0.966202          0.0   \n",
              "4              47   0.1036   0.1580  0.132455  ...     0.993986          0.0   \n",
              "...           ...      ...      ...       ...  ...          ...          ...   \n",
              "208927         31   0.0862   0.1627  0.107387  ...     0.892669          0.0   \n",
              "208928         80   0.0977   0.3363  0.149332  ...     1.084102          0.0   \n",
              "208929         10   0.0930   0.1473  0.106160  ...     0.914887          0.0   \n",
              "208930         53   0.0852   0.1377  0.118574  ...     0.991200          0.0   \n",
              "208931         95   0.0707   0.1321  0.095941  ...     0.889747          0.0   \n",
              "\n",
              "        sipi_range  sipi_count  \\\n",
              "0         0.453065          47   \n",
              "1         0.247045          13   \n",
              "2         0.207006          19   \n",
              "3         0.258424          66   \n",
              "4         0.260419          47   \n",
              "...            ...         ...   \n",
              "208927    0.545993          31   \n",
              "208928    2.805242          80   \n",
              "208929    0.199024          10   \n",
              "208930    0.299910          53   \n",
              "208931    0.456241          95   \n",
              "\n",
              "                                                   raster  clouds_on_raster  \\\n",
              "0       S2A_MSIL1C_20170103T142022_N0204_R010_T20JLL_2...               0.0   \n",
              "1       S2A_MSIL1C_20170103T142022_N0204_R010_T20JLL_2...               0.0   \n",
              "2       S2A_MSIL1C_20170103T142022_N0204_R010_T20JLL_2...               0.0   \n",
              "3       S2A_MSIL1C_20170103T142022_N0204_R010_T20JLL_2...               0.0   \n",
              "4       S2A_MSIL1C_20170103T142022_N0204_R010_T20JLL_2...               0.0   \n",
              "...                                                   ...               ...   \n",
              "208927  S2A_MSIL1C_20220417T141741_N0400_R010_T20JLL_2...               0.0   \n",
              "208928  S2A_MSIL1C_20220417T141741_N0400_R010_T20JLL_2...               0.0   \n",
              "208929  S2A_MSIL1C_20220417T141741_N0400_R010_T20JLL_2...               0.0   \n",
              "208930  S2A_MSIL1C_20220417T141741_N0400_R010_T20JLL_2...               0.0   \n",
              "208931  S2A_MSIL1C_20220417T141741_N0400_R010_T20JLL_2...               0.0   \n",
              "\n",
              "           osm_id                name      area_m2        date  \n",
              "0       605976736                 NaN  4650.710032  2017-01-03  \n",
              "1       559322368                 NaN  1502.000513  2017-01-03  \n",
              "2       559322369                 NaN  2004.192528  2017-01-03  \n",
              "3       559328111                 NaN  6940.507640  2017-01-03  \n",
              "4       559328112                 NaN  4587.356048  2017-01-03  \n",
              "...           ...                 ...          ...         ...  \n",
              "208927  307532496                 NaN  3824.467794  2022-04-17  \n",
              "208928  307535460  Plaza Exodo Jujeño  7184.535857  2022-04-17  \n",
              "208929  307796387                 NaN  1147.997645  2022-04-17  \n",
              "208930  307097955                 NaN  5185.690046  2022-04-17  \n",
              "208931  901791744                 NaN  9394.381202  2022-04-17  \n",
              "\n",
              "[208932 rows x 167 columns]"
            ],
            "text/html": [
              "\n",
              "  <div id=\"df-842f3310-5bae-4a77-b0ff-c14a73a353fa\">\n",
              "    <div class=\"colab-df-container\">\n",
              "      <div>\n",
              "<style scoped>\n",
              "    .dataframe tbody tr th:only-of-type {\n",
              "        vertical-align: middle;\n",
              "    }\n",
              "\n",
              "    .dataframe tbody tr th {\n",
              "        vertical-align: top;\n",
              "    }\n",
              "\n",
              "    .dataframe thead th {\n",
              "        text-align: right;\n",
              "    }\n",
              "</style>\n",
              "<table border=\"1\" class=\"dataframe\">\n",
              "  <thead>\n",
              "    <tr style=\"text-align: right;\">\n",
              "      <th></th>\n",
              "      <th>B02_min</th>\n",
              "      <th>B02_max</th>\n",
              "      <th>B02_mean</th>\n",
              "      <th>B02_median</th>\n",
              "      <th>B02_nodata</th>\n",
              "      <th>B02_range</th>\n",
              "      <th>B02_count</th>\n",
              "      <th>B03_min</th>\n",
              "      <th>B03_max</th>\n",
              "      <th>B03_mean</th>\n",
              "      <th>...</th>\n",
              "      <th>sipi_median</th>\n",
              "      <th>sipi_nodata</th>\n",
              "      <th>sipi_range</th>\n",
              "      <th>sipi_count</th>\n",
              "      <th>raster</th>\n",
              "      <th>clouds_on_raster</th>\n",
              "      <th>osm_id</th>\n",
              "      <th>name</th>\n",
              "      <th>area_m2</th>\n",
              "      <th>date</th>\n",
              "    </tr>\n",
              "  </thead>\n",
              "  <tbody>\n",
              "    <tr>\n",
              "      <th>0</th>\n",
              "      <td>0.0871</td>\n",
              "      <td>0.1421</td>\n",
              "      <td>0.102570</td>\n",
              "      <td>0.09650</td>\n",
              "      <td>0.0</td>\n",
              "      <td>0.0550</td>\n",
              "      <td>47</td>\n",
              "      <td>0.0768</td>\n",
              "      <td>0.1516</td>\n",
              "      <td>0.098885</td>\n",
              "      <td>...</td>\n",
              "      <td>0.884216</td>\n",
              "      <td>0.0</td>\n",
              "      <td>0.453065</td>\n",
              "      <td>47</td>\n",
              "      <td>S2A_MSIL1C_20170103T142022_N0204_R010_T20JLL_2...</td>\n",
              "      <td>0.0</td>\n",
              "      <td>605976736</td>\n",
              "      <td>NaN</td>\n",
              "      <td>4650.710032</td>\n",
              "      <td>2017-01-03</td>\n",
              "    </tr>\n",
              "    <tr>\n",
              "      <th>1</th>\n",
              "      <td>0.0970</td>\n",
              "      <td>0.1936</td>\n",
              "      <td>0.118354</td>\n",
              "      <td>0.10660</td>\n",
              "      <td>0.0</td>\n",
              "      <td>0.0966</td>\n",
              "      <td>13</td>\n",
              "      <td>0.1006</td>\n",
              "      <td>0.1949</td>\n",
              "      <td>0.122154</td>\n",
              "      <td>...</td>\n",
              "      <td>0.971875</td>\n",
              "      <td>0.0</td>\n",
              "      <td>0.247045</td>\n",
              "      <td>13</td>\n",
              "      <td>S2A_MSIL1C_20170103T142022_N0204_R010_T20JLL_2...</td>\n",
              "      <td>0.0</td>\n",
              "      <td>559322368</td>\n",
              "      <td>NaN</td>\n",
              "      <td>1502.000513</td>\n",
              "      <td>2017-01-03</td>\n",
              "    </tr>\n",
              "    <tr>\n",
              "      <th>2</th>\n",
              "      <td>0.0992</td>\n",
              "      <td>0.1273</td>\n",
              "      <td>0.111805</td>\n",
              "      <td>0.11290</td>\n",
              "      <td>0.0</td>\n",
              "      <td>0.0281</td>\n",
              "      <td>19</td>\n",
              "      <td>0.1037</td>\n",
              "      <td>0.1369</td>\n",
              "      <td>0.117795</td>\n",
              "      <td>...</td>\n",
              "      <td>0.973017</td>\n",
              "      <td>0.0</td>\n",
              "      <td>0.207006</td>\n",
              "      <td>19</td>\n",
              "      <td>S2A_MSIL1C_20170103T142022_N0204_R010_T20JLL_2...</td>\n",
              "      <td>0.0</td>\n",
              "      <td>559322369</td>\n",
              "      <td>NaN</td>\n",
              "      <td>2004.192528</td>\n",
              "      <td>2017-01-03</td>\n",
              "    </tr>\n",
              "    <tr>\n",
              "      <th>3</th>\n",
              "      <td>0.0995</td>\n",
              "      <td>0.1933</td>\n",
              "      <td>0.118491</td>\n",
              "      <td>0.11355</td>\n",
              "      <td>0.0</td>\n",
              "      <td>0.0938</td>\n",
              "      <td>66</td>\n",
              "      <td>0.0993</td>\n",
              "      <td>0.1990</td>\n",
              "      <td>0.124512</td>\n",
              "      <td>...</td>\n",
              "      <td>0.966202</td>\n",
              "      <td>0.0</td>\n",
              "      <td>0.258424</td>\n",
              "      <td>66</td>\n",
              "      <td>S2A_MSIL1C_20170103T142022_N0204_R010_T20JLL_2...</td>\n",
              "      <td>0.0</td>\n",
              "      <td>559328111</td>\n",
              "      <td>NaN</td>\n",
              "      <td>6940.507640</td>\n",
              "      <td>2017-01-03</td>\n",
              "    </tr>\n",
              "    <tr>\n",
              "      <th>4</th>\n",
              "      <td>0.1059</td>\n",
              "      <td>0.1385</td>\n",
              "      <td>0.122453</td>\n",
              "      <td>0.12240</td>\n",
              "      <td>0.0</td>\n",
              "      <td>0.0326</td>\n",
              "      <td>47</td>\n",
              "      <td>0.1036</td>\n",
              "      <td>0.1580</td>\n",
              "      <td>0.132455</td>\n",
              "      <td>...</td>\n",
              "      <td>0.993986</td>\n",
              "      <td>0.0</td>\n",
              "      <td>0.260419</td>\n",
              "      <td>47</td>\n",
              "      <td>S2A_MSIL1C_20170103T142022_N0204_R010_T20JLL_2...</td>\n",
              "      <td>0.0</td>\n",
              "      <td>559328112</td>\n",
              "      <td>NaN</td>\n",
              "      <td>4587.356048</td>\n",
              "      <td>2017-01-03</td>\n",
              "    </tr>\n",
              "    <tr>\n",
              "      <th>...</th>\n",
              "      <td>...</td>\n",
              "      <td>...</td>\n",
              "      <td>...</td>\n",
              "      <td>...</td>\n",
              "      <td>...</td>\n",
              "      <td>...</td>\n",
              "      <td>...</td>\n",
              "      <td>...</td>\n",
              "      <td>...</td>\n",
              "      <td>...</td>\n",
              "      <td>...</td>\n",
              "      <td>...</td>\n",
              "      <td>...</td>\n",
              "      <td>...</td>\n",
              "      <td>...</td>\n",
              "      <td>...</td>\n",
              "      <td>...</td>\n",
              "      <td>...</td>\n",
              "      <td>...</td>\n",
              "      <td>...</td>\n",
              "      <td>...</td>\n",
              "    </tr>\n",
              "    <tr>\n",
              "      <th>208927</th>\n",
              "      <td>0.0990</td>\n",
              "      <td>0.1684</td>\n",
              "      <td>0.115990</td>\n",
              "      <td>0.11270</td>\n",
              "      <td>0.0</td>\n",
              "      <td>0.0694</td>\n",
              "      <td>31</td>\n",
              "      <td>0.0862</td>\n",
              "      <td>0.1627</td>\n",
              "      <td>0.107387</td>\n",
              "      <td>...</td>\n",
              "      <td>0.892669</td>\n",
              "      <td>0.0</td>\n",
              "      <td>0.545993</td>\n",
              "      <td>31</td>\n",
              "      <td>S2A_MSIL1C_20220417T141741_N0400_R010_T20JLL_2...</td>\n",
              "      <td>0.0</td>\n",
              "      <td>307532496</td>\n",
              "      <td>NaN</td>\n",
              "      <td>3824.467794</td>\n",
              "      <td>2022-04-17</td>\n",
              "    </tr>\n",
              "    <tr>\n",
              "      <th>208928</th>\n",
              "      <td>0.1145</td>\n",
              "      <td>0.3240</td>\n",
              "      <td>0.149746</td>\n",
              "      <td>0.13665</td>\n",
              "      <td>0.0</td>\n",
              "      <td>0.2095</td>\n",
              "      <td>80</td>\n",
              "      <td>0.0977</td>\n",
              "      <td>0.3363</td>\n",
              "      <td>0.149332</td>\n",
              "      <td>...</td>\n",
              "      <td>1.084102</td>\n",
              "      <td>0.0</td>\n",
              "      <td>2.805242</td>\n",
              "      <td>80</td>\n",
              "      <td>S2A_MSIL1C_20220417T141741_N0400_R010_T20JLL_2...</td>\n",
              "      <td>0.0</td>\n",
              "      <td>307535460</td>\n",
              "      <td>Plaza Exodo Jujeño</td>\n",
              "      <td>7184.535857</td>\n",
              "      <td>2022-04-17</td>\n",
              "    </tr>\n",
              "    <tr>\n",
              "      <th>208929</th>\n",
              "      <td>0.0993</td>\n",
              "      <td>0.1388</td>\n",
              "      <td>0.110870</td>\n",
              "      <td>0.10625</td>\n",
              "      <td>0.0</td>\n",
              "      <td>0.0395</td>\n",
              "      <td>10</td>\n",
              "      <td>0.0930</td>\n",
              "      <td>0.1473</td>\n",
              "      <td>0.106160</td>\n",
              "      <td>...</td>\n",
              "      <td>0.914887</td>\n",
              "      <td>0.0</td>\n",
              "      <td>0.199024</td>\n",
              "      <td>10</td>\n",
              "      <td>S2A_MSIL1C_20220417T141741_N0400_R010_T20JLL_2...</td>\n",
              "      <td>0.0</td>\n",
              "      <td>307796387</td>\n",
              "      <td>NaN</td>\n",
              "      <td>1147.997645</td>\n",
              "      <td>2022-04-17</td>\n",
              "    </tr>\n",
              "    <tr>\n",
              "      <th>208930</th>\n",
              "      <td>0.0991</td>\n",
              "      <td>0.1407</td>\n",
              "      <td>0.124008</td>\n",
              "      <td>0.12570</td>\n",
              "      <td>0.0</td>\n",
              "      <td>0.0416</td>\n",
              "      <td>53</td>\n",
              "      <td>0.0852</td>\n",
              "      <td>0.1377</td>\n",
              "      <td>0.118574</td>\n",
              "      <td>...</td>\n",
              "      <td>0.991200</td>\n",
              "      <td>0.0</td>\n",
              "      <td>0.299910</td>\n",
              "      <td>53</td>\n",
              "      <td>S2A_MSIL1C_20220417T141741_N0400_R010_T20JLL_2...</td>\n",
              "      <td>0.0</td>\n",
              "      <td>307097955</td>\n",
              "      <td>NaN</td>\n",
              "      <td>5185.690046</td>\n",
              "      <td>2022-04-17</td>\n",
              "    </tr>\n",
              "    <tr>\n",
              "      <th>208931</th>\n",
              "      <td>0.0874</td>\n",
              "      <td>0.1347</td>\n",
              "      <td>0.104697</td>\n",
              "      <td>0.10180</td>\n",
              "      <td>0.0</td>\n",
              "      <td>0.0473</td>\n",
              "      <td>95</td>\n",
              "      <td>0.0707</td>\n",
              "      <td>0.1321</td>\n",
              "      <td>0.095941</td>\n",
              "      <td>...</td>\n",
              "      <td>0.889747</td>\n",
              "      <td>0.0</td>\n",
              "      <td>0.456241</td>\n",
              "      <td>95</td>\n",
              "      <td>S2A_MSIL1C_20220417T141741_N0400_R010_T20JLL_2...</td>\n",
              "      <td>0.0</td>\n",
              "      <td>901791744</td>\n",
              "      <td>NaN</td>\n",
              "      <td>9394.381202</td>\n",
              "      <td>2022-04-17</td>\n",
              "    </tr>\n",
              "  </tbody>\n",
              "</table>\n",
              "<p>208932 rows × 167 columns</p>\n",
              "</div>\n",
              "      <button class=\"colab-df-convert\" onclick=\"convertToInteractive('df-842f3310-5bae-4a77-b0ff-c14a73a353fa')\"\n",
              "              title=\"Convert this dataframe to an interactive table.\"\n",
              "              style=\"display:none;\">\n",
              "        \n",
              "  <svg xmlns=\"http://www.w3.org/2000/svg\" height=\"24px\"viewBox=\"0 0 24 24\"\n",
              "       width=\"24px\">\n",
              "    <path d=\"M0 0h24v24H0V0z\" fill=\"none\"/>\n",
              "    <path d=\"M18.56 5.44l.94 2.06.94-2.06 2.06-.94-2.06-.94-.94-2.06-.94 2.06-2.06.94zm-11 1L8.5 8.5l.94-2.06 2.06-.94-2.06-.94L8.5 2.5l-.94 2.06-2.06.94zm10 10l.94 2.06.94-2.06 2.06-.94-2.06-.94-.94-2.06-.94 2.06-2.06.94z\"/><path d=\"M17.41 7.96l-1.37-1.37c-.4-.4-.92-.59-1.43-.59-.52 0-1.04.2-1.43.59L10.3 9.45l-7.72 7.72c-.78.78-.78 2.05 0 2.83L4 21.41c.39.39.9.59 1.41.59.51 0 1.02-.2 1.41-.59l7.78-7.78 2.81-2.81c.8-.78.8-2.07 0-2.86zM5.41 20L4 18.59l7.72-7.72 1.47 1.35L5.41 20z\"/>\n",
              "  </svg>\n",
              "      </button>\n",
              "      \n",
              "  <style>\n",
              "    .colab-df-container {\n",
              "      display:flex;\n",
              "      flex-wrap:wrap;\n",
              "      gap: 12px;\n",
              "    }\n",
              "\n",
              "    .colab-df-convert {\n",
              "      background-color: #E8F0FE;\n",
              "      border: none;\n",
              "      border-radius: 50%;\n",
              "      cursor: pointer;\n",
              "      display: none;\n",
              "      fill: #1967D2;\n",
              "      height: 32px;\n",
              "      padding: 0 0 0 0;\n",
              "      width: 32px;\n",
              "    }\n",
              "\n",
              "    .colab-df-convert:hover {\n",
              "      background-color: #E2EBFA;\n",
              "      box-shadow: 0px 1px 2px rgba(60, 64, 67, 0.3), 0px 1px 3px 1px rgba(60, 64, 67, 0.15);\n",
              "      fill: #174EA6;\n",
              "    }\n",
              "\n",
              "    [theme=dark] .colab-df-convert {\n",
              "      background-color: #3B4455;\n",
              "      fill: #D2E3FC;\n",
              "    }\n",
              "\n",
              "    [theme=dark] .colab-df-convert:hover {\n",
              "      background-color: #434B5C;\n",
              "      box-shadow: 0px 1px 3px 1px rgba(0, 0, 0, 0.15);\n",
              "      filter: drop-shadow(0px 1px 2px rgba(0, 0, 0, 0.3));\n",
              "      fill: #FFFFFF;\n",
              "    }\n",
              "  </style>\n",
              "\n",
              "      <script>\n",
              "        const buttonEl =\n",
              "          document.querySelector('#df-842f3310-5bae-4a77-b0ff-c14a73a353fa button.colab-df-convert');\n",
              "        buttonEl.style.display =\n",
              "          google.colab.kernel.accessAllowed ? 'block' : 'none';\n",
              "\n",
              "        async function convertToInteractive(key) {\n",
              "          const element = document.querySelector('#df-842f3310-5bae-4a77-b0ff-c14a73a353fa');\n",
              "          const dataTable =\n",
              "            await google.colab.kernel.invokeFunction('convertToInteractive',\n",
              "                                                     [key], {});\n",
              "          if (!dataTable) return;\n",
              "\n",
              "          const docLinkHtml = 'Like what you see? Visit the ' +\n",
              "            '<a target=\"_blank\" href=https://colab.research.google.com/notebooks/data_table.ipynb>data table notebook</a>'\n",
              "            + ' to learn more about interactive tables.';\n",
              "          element.innerHTML = '';\n",
              "          dataTable['output_type'] = 'display_data';\n",
              "          await google.colab.output.renderOutput(dataTable, element);\n",
              "          const docLink = document.createElement('div');\n",
              "          docLink.innerHTML = docLinkHtml;\n",
              "          element.appendChild(docLink);\n",
              "        }\n",
              "      </script>\n",
              "    </div>\n",
              "  </div>\n",
              "  "
            ]
          },
          "metadata": {},
          "execution_count": 76
        }
      ],
      "source": [
        "# Lectura de csv y obtención de dataframe \n",
        "df_=pd.read_csv(\"/content/espacios-verdes-indexs-cba-20170101-20220420.zip\", index_col=0)\n",
        "df_"
      ]
    },
    {
      "cell_type": "code",
      "execution_count": 8,
      "id": "d2b89d47",
      "metadata": {
        "id": "d2b89d47",
        "outputId": "629c59dc-f9e4-4a3d-f9d6-1aed9d33a023",
        "colab": {
          "base_uri": "https://localhost:8080/"
        }
      },
      "outputs": [
        {
          "output_type": "stream",
          "name": "stdout",
          "text": [
            "<class 'pandas.core.frame.DataFrame'>\n",
            "Int64Index: 208932 entries, 0 to 208931\n",
            "Columns: 167 entries, B02_min to date\n",
            "dtypes: float64(140), int64(24), object(3)\n",
            "memory usage: 267.8+ MB\n"
          ]
        }
      ],
      "source": [
        "df_.info()"
      ]
    },
    {
      "cell_type": "markdown",
      "id": "63b49f55",
      "metadata": {
        "id": "63b49f55"
      },
      "source": [
        "- Extraer las columnas de interes (## ab-initio)"
      ]
    },
    {
      "cell_type": "code",
      "execution_count": 9,
      "id": "d2821e9f-d138-4e80-ab11-630b75fd2529",
      "metadata": {
        "id": "d2821e9f-d138-4e80-ab11-630b75fd2529",
        "outputId": "b673b223-6301-4dae-a44c-d2ec7c98cab0",
        "colab": {
          "base_uri": "https://localhost:8080/"
        }
      },
      "outputs": [
        {
          "output_type": "execute_result",
          "data": {
            "text/plain": [
              "208932"
            ]
          },
          "metadata": {},
          "execution_count": 9
        }
      ],
      "source": [
        "# Creamos un nuevo dataframe con las columnas de interés \n",
        "df_interest = df_[[\"B02_median\", \"B06_median\", \"B11_median\",\"osm_id\", \"date\", \"ndvi_max\", \"area_m2\",\"raster\",\"clouds_on_raster\"]]\n",
        "len(df_interest)"
      ]
    },
    {
      "cell_type": "code",
      "execution_count": 10,
      "id": "32f53758-b86c-4259-94c5-378229e45311",
      "metadata": {
        "id": "32f53758-b86c-4259-94c5-378229e45311",
        "outputId": "7eba6601-b1c5-4a00-c875-4626bbf1eccc",
        "colab": {
          "base_uri": "https://localhost:8080/",
          "height": 512
        }
      },
      "outputs": [
        {
          "output_type": "execute_result",
          "data": {
            "text/plain": [
              "<matplotlib.axes._subplots.AxesSubplot at 0x7f406f923290>"
            ]
          },
          "metadata": {},
          "execution_count": 10
        },
        {
          "output_type": "display_data",
          "data": {
            "text/plain": [
              "<Figure size 1008x432 with 3 Axes>"
            ],
            "image/png": "[encoded data removed]"
          },
          "metadata": {
            "needs_background": "light"
          }
        }
      ],
      "source": [
        "# Utilizamos la librería missingno para el análisis de datos faltantes \n",
        "import missingno as msno\n",
        "# Graficamos los datos faltantes de varias variables, incluidas las de interés\n",
        "msno.bar(df_interest,figsize=(14, 6), sort=\"ascending\",fontsize=12, color='tomato') "
      ]
    },
    {
      "cell_type": "markdown",
      "id": "8ada3539",
      "metadata": {
        "id": "8ada3539"
      },
      "source": [
        "- Desechar valores nulos"
      ]
    },
    {
      "cell_type": "code",
      "execution_count": 11,
      "id": "037fdb04-da9d-4803-a3b9-e7855dcf210e",
      "metadata": {
        "id": "037fdb04-da9d-4803-a3b9-e7855dcf210e"
      },
      "outputs": [],
      "source": [
        "# Desechamos valores nulos de las columnas de interés y generamos nuevo dataframe \n",
        "df_interest_A1=df_interest.dropna(subset=[\"B02_median\",\"B06_median\",\"B11_median\"])"
      ]
    },
    {
      "cell_type": "code",
      "execution_count": 12,
      "id": "c734f1c4-dfeb-4a88-b929-0040e47045e8",
      "metadata": {
        "scrolled": true,
        "id": "c734f1c4-dfeb-4a88-b929-0040e47045e8",
        "outputId": "de747718-c4aa-40e4-e149-45cce408bac9",
        "colab": {
          "base_uri": "https://localhost:8080/",
          "height": 512
        }
      },
      "outputs": [
        {
          "output_type": "execute_result",
          "data": {
            "text/plain": [
              "<matplotlib.axes._subplots.AxesSubplot at 0x7f406c8775d0>"
            ]
          },
          "metadata": {},
          "execution_count": 12
        },
        {
          "output_type": "display_data",
          "data": {
            "text/plain": [
              "<Figure size 1008x432 with 3 Axes>"
            ],
            "image/png": "[encoded data removed]"
          },
          "metadata": {
            "needs_background": "light"
          }
        }
      ],
      "source": [
        "# Graficamos nuevamente y observamos que ya no hay presentes valores nulos\n",
        "msno.bar(df_interest_A1,figsize=(14, 6), sort=\"ascending\",fontsize=12, color='lightblue') "
      ]
    },
    {
      "cell_type": "markdown",
      "id": "07544d17",
      "metadata": {
        "id": "07544d17"
      },
      "source": [
        "- Filtrar por nubosidad < 10%"
      ]
    },
    {
      "cell_type": "code",
      "execution_count": 13,
      "id": "4f33f01c-00e6-475d-9b43-3e70c8060a75",
      "metadata": {
        "id": "4f33f01c-00e6-475d-9b43-3e70c8060a75",
        "outputId": "29cc1bf6-2e54-42c7-fd82-68fb64669b36",
        "colab": {
          "base_uri": "https://localhost:8080/"
        }
      },
      "outputs": [
        {
          "output_type": "stream",
          "name": "stdout",
          "text": [
            "0.000000     110639\n",
            "0.325822        757\n",
            "0.212517        757\n",
            "0.533689        757\n",
            "0.622331        757\n",
            "              ...  \n",
            "98.880824        25\n",
            "98.602103        18\n",
            "92.987497        13\n",
            "89.006244         8\n",
            "93.299774         2\n",
            "Name: clouds_on_raster, Length: 105, dtype: int64\n"
          ]
        },
        {
          "output_type": "execute_result",
          "data": {
            "text/plain": [
              "114424"
            ]
          },
          "metadata": {},
          "execution_count": 13
        }
      ],
      "source": [
        "# Filtramos por nubosidad < 10% y creamos nuevo dataframe\n",
        "print(df_interest_A1.clouds_on_raster.value_counts())\n",
        "\n",
        "df_interest_A2=df_interest_A1[df_interest_A1['clouds_on_raster']<0.1]\n",
        "len(df_interest_A2)"
      ]
    },
    {
      "cell_type": "markdown",
      "id": "778b180d",
      "metadata": {
        "id": "778b180d"
      },
      "source": [
        "- Remocion de Outliers (a nivel general sin considerar estacionalidad)\n",
        "\n",
        "Para remover outliers, primero definimos una función que genere nuevas columnas que diferencien outliers (valor=1), del resto de los registros (valor=0).\n",
        "Luego, para la eliminación de outliers, aplicamos el criterio de quitar aquellos registros donde se observa que para las tres bandas bajo análisis (columnas), los valores son outliers (valor=1).  "
      ]
    },
    {
      "cell_type": "code",
      "execution_count": 15,
      "id": "6e014b28",
      "metadata": {
        "id": "6e014b28"
      },
      "outputs": [],
      "source": [
        "def find_outliers(df, col_list):\n",
        "    # calculamos cuartiles 1 y 3, y el interquartil (iqr)\n",
        "    for col in col_list:\n",
        "        if col==\"NaN\":\n",
        "            continue\n",
        "        q1 = df[col].quantile(0.25)\n",
        "        q3 = df[col].quantile(0.75)\n",
        "        iqr = q3 - q1 \n",
        "        # calculamos límite superior e inferior\n",
        "        ls = q1 + 1.5 * iqr\n",
        "        li = q3 - 1.5 * iqr\n",
        "        # Generamos nueva columna\n",
        "        df['outl_'+col]=  np.where((df[col] >ls)| (df[col] < li),1,0)"
      ]
    },
    {
      "cell_type": "code",
      "execution_count": 16,
      "id": "0bca812c",
      "metadata": {
        "id": "0bca812c",
        "outputId": "b0eafc54-4ace-41d7-c009-1c1ed9364e30",
        "colab": {
          "base_uri": "https://localhost:8080/"
        }
      },
      "outputs": [
        {
          "output_type": "stream",
          "name": "stderr",
          "text": [
            "/usr/local/lib/python3.7/dist-packages/ipykernel_launcher.py:13: SettingWithCopyWarning: \n",
            "A value is trying to be set on a copy of a slice from a DataFrame.\n",
            "Try using .loc[row_indexer,col_indexer] = value instead\n",
            "\n",
            "See the caveats in the documentation: https://pandas.pydata.org/pandas-docs/stable/user_guide/indexing.html#returning-a-view-versus-a-copy\n",
            "  del sys.path[0]\n"
          ]
        }
      ],
      "source": [
        "bandas = ['B02_median', 'B06_median', 'B11_median']\n",
        "find_outliers(df_interest_A2, bandas)"
      ]
    },
    {
      "cell_type": "code",
      "execution_count": 17,
      "id": "c1e6d96a",
      "metadata": {
        "id": "c1e6d96a",
        "outputId": "4a1180fd-a7cc-47bf-f0a4-bb1384de9ecd",
        "colab": {
          "base_uri": "https://localhost:8080/",
          "height": 644
        }
      },
      "outputs": [
        {
          "output_type": "execute_result",
          "data": {
            "text/plain": [
              "        B02_median  B06_median  B11_median     osm_id        date  ndvi_max  \\\n",
              "0          0.09650     0.19910     0.18770  605976736  2017-01-03  0.630881   \n",
              "1          0.10660     0.25960     0.25420  559322368  2017-01-03  0.630041   \n",
              "2          0.11290     0.25550     0.24640  559322369  2017-01-03  0.622036   \n",
              "3          0.11355     0.29300     0.26675  559328111  2017-01-03  0.669891   \n",
              "4          0.12240     0.29460     0.28950  559328112  2017-01-03  0.619112   \n",
              "...            ...         ...         ...        ...         ...       ...   \n",
              "208927     0.11270     0.20520     0.18950  307532496  2022-04-17  0.563955   \n",
              "208928     0.13665     0.23835     0.27315  307535460  2022-04-17  0.490798   \n",
              "208929     0.10625     0.22425     0.22230  307796387  2022-04-17  0.566516   \n",
              "208930     0.12570     0.20880     0.25450  307097955  2022-04-17  0.534379   \n",
              "208931     0.10180     0.19080     0.19740  901791744  2022-04-17  0.635997   \n",
              "\n",
              "            area_m2                                             raster  \\\n",
              "0       4650.710032  S2A_MSIL1C_20170103T142022_N0204_R010_T20JLL_2...   \n",
              "1       1502.000513  S2A_MSIL1C_20170103T142022_N0204_R010_T20JLL_2...   \n",
              "2       2004.192528  S2A_MSIL1C_20170103T142022_N0204_R010_T20JLL_2...   \n",
              "3       6940.507640  S2A_MSIL1C_20170103T142022_N0204_R010_T20JLL_2...   \n",
              "4       4587.356048  S2A_MSIL1C_20170103T142022_N0204_R010_T20JLL_2...   \n",
              "...             ...                                                ...   \n",
              "208927  3824.467794  S2A_MSIL1C_20220417T141741_N0400_R010_T20JLL_2...   \n",
              "208928  7184.535857  S2A_MSIL1C_20220417T141741_N0400_R010_T20JLL_2...   \n",
              "208929  1147.997645  S2A_MSIL1C_20220417T141741_N0400_R010_T20JLL_2...   \n",
              "208930  5185.690046  S2A_MSIL1C_20220417T141741_N0400_R010_T20JLL_2...   \n",
              "208931  9394.381202  S2A_MSIL1C_20220417T141741_N0400_R010_T20JLL_2...   \n",
              "\n",
              "        clouds_on_raster  outl_B02_median  outl_B06_median  outl_B11_median  \n",
              "0                    0.0                1                0                0  \n",
              "1                    0.0                0                1                0  \n",
              "2                    0.0                0                0                0  \n",
              "3                    0.0                0                1                0  \n",
              "4                    0.0                0                1                0  \n",
              "...                  ...              ...              ...              ...  \n",
              "208927               0.0                0                0                0  \n",
              "208928               0.0                0                0                0  \n",
              "208929               0.0                0                0                0  \n",
              "208930               0.0                0                0                0  \n",
              "208931               0.0                0                0                0  \n",
              "\n",
              "[114424 rows x 12 columns]"
            ],
            "text/html": [
              "\n",
              "  <div id=\"df-8b53122e-b9c1-4434-9036-5f87ca995b3e\">\n",
              "    <div class=\"colab-df-container\">\n",
              "      <div>\n",
              "<style scoped>\n",
              "    .dataframe tbody tr th:only-of-type {\n",
              "        vertical-align: middle;\n",
              "    }\n",
              "\n",
              "    .dataframe tbody tr th {\n",
              "        vertical-align: top;\n",
              "    }\n",
              "\n",
              "    .dataframe thead th {\n",
              "        text-align: right;\n",
              "    }\n",
              "</style>\n",
              "<table border=\"1\" class=\"dataframe\">\n",
              "  <thead>\n",
              "    <tr style=\"text-align: right;\">\n",
              "      <th></th>\n",
              "      <th>B02_median</th>\n",
              "      <th>B06_median</th>\n",
              "      <th>B11_median</th>\n",
              "      <th>osm_id</th>\n",
              "      <th>date</th>\n",
              "      <th>ndvi_max</th>\n",
              "      <th>area_m2</th>\n",
              "      <th>raster</th>\n",
              "      <th>clouds_on_raster</th>\n",
              "      <th>outl_B02_median</th>\n",
              "      <th>outl_B06_median</th>\n",
              "      <th>outl_B11_median</th>\n",
              "    </tr>\n",
              "  </thead>\n",
              "  <tbody>\n",
              "    <tr>\n",
              "      <th>0</th>\n",
              "      <td>0.09650</td>\n",
              "      <td>0.19910</td>\n",
              "      <td>0.18770</td>\n",
              "      <td>605976736</td>\n",
              "      <td>2017-01-03</td>\n",
              "      <td>0.630881</td>\n",
              "      <td>4650.710032</td>\n",
              "      <td>S2A_MSIL1C_20170103T142022_N0204_R010_T20JLL_2...</td>\n",
              "      <td>0.0</td>\n",
              "      <td>1</td>\n",
              "      <td>0</td>\n",
              "      <td>0</td>\n",
              "    </tr>\n",
              "    <tr>\n",
              "      <th>1</th>\n",
              "      <td>0.10660</td>\n",
              "      <td>0.25960</td>\n",
              "      <td>0.25420</td>\n",
              "      <td>559322368</td>\n",
              "      <td>2017-01-03</td>\n",
              "      <td>0.630041</td>\n",
              "      <td>1502.000513</td>\n",
              "      <td>S2A_MSIL1C_20170103T142022_N0204_R010_T20JLL_2...</td>\n",
              "      <td>0.0</td>\n",
              "      <td>0</td>\n",
              "      <td>1</td>\n",
              "      <td>0</td>\n",
              "    </tr>\n",
              "    <tr>\n",
              "      <th>2</th>\n",
              "      <td>0.11290</td>\n",
              "      <td>0.25550</td>\n",
              "      <td>0.24640</td>\n",
              "      <td>559322369</td>\n",
              "      <td>2017-01-03</td>\n",
              "      <td>0.622036</td>\n",
              "      <td>2004.192528</td>\n",
              "      <td>S2A_MSIL1C_20170103T142022_N0204_R010_T20JLL_2...</td>\n",
              "      <td>0.0</td>\n",
              "      <td>0</td>\n",
              "      <td>0</td>\n",
              "      <td>0</td>\n",
              "    </tr>\n",
              "    <tr>\n",
              "      <th>3</th>\n",
              "      <td>0.11355</td>\n",
              "      <td>0.29300</td>\n",
              "      <td>0.26675</td>\n",
              "      <td>559328111</td>\n",
              "      <td>2017-01-03</td>\n",
              "      <td>0.669891</td>\n",
              "      <td>6940.507640</td>\n",
              "      <td>S2A_MSIL1C_20170103T142022_N0204_R010_T20JLL_2...</td>\n",
              "      <td>0.0</td>\n",
              "      <td>0</td>\n",
              "      <td>1</td>\n",
              "      <td>0</td>\n",
              "    </tr>\n",
              "    <tr>\n",
              "      <th>4</th>\n",
              "      <td>0.12240</td>\n",
              "      <td>0.29460</td>\n",
              "      <td>0.28950</td>\n",
              "      <td>559328112</td>\n",
              "      <td>2017-01-03</td>\n",
              "      <td>0.619112</td>\n",
              "      <td>4587.356048</td>\n",
              "      <td>S2A_MSIL1C_20170103T142022_N0204_R010_T20JLL_2...</td>\n",
              "      <td>0.0</td>\n",
              "      <td>0</td>\n",
              "      <td>1</td>\n",
              "      <td>0</td>\n",
              "    </tr>\n",
              "    <tr>\n",
              "      <th>...</th>\n",
              "      <td>...</td>\n",
              "      <td>...</td>\n",
              "      <td>...</td>\n",
              "      <td>...</td>\n",
              "      <td>...</td>\n",
              "      <td>...</td>\n",
              "      <td>...</td>\n",
              "      <td>...</td>\n",
              "      <td>...</td>\n",
              "      <td>...</td>\n",
              "      <td>...</td>\n",
              "      <td>...</td>\n",
              "    </tr>\n",
              "    <tr>\n",
              "      <th>208927</th>\n",
              "      <td>0.11270</td>\n",
              "      <td>0.20520</td>\n",
              "      <td>0.18950</td>\n",
              "      <td>307532496</td>\n",
              "      <td>2022-04-17</td>\n",
              "      <td>0.563955</td>\n",
              "      <td>3824.467794</td>\n",
              "      <td>S2A_MSIL1C_20220417T141741_N0400_R010_T20JLL_2...</td>\n",
              "      <td>0.0</td>\n",
              "      <td>0</td>\n",
              "      <td>0</td>\n",
              "      <td>0</td>\n",
              "    </tr>\n",
              "    <tr>\n",
              "      <th>208928</th>\n",
              "      <td>0.13665</td>\n",
              "      <td>0.23835</td>\n",
              "      <td>0.27315</td>\n",
              "      <td>307535460</td>\n",
              "      <td>2022-04-17</td>\n",
              "      <td>0.490798</td>\n",
              "      <td>7184.535857</td>\n",
              "      <td>S2A_MSIL1C_20220417T141741_N0400_R010_T20JLL_2...</td>\n",
              "      <td>0.0</td>\n",
              "      <td>0</td>\n",
              "      <td>0</td>\n",
              "      <td>0</td>\n",
              "    </tr>\n",
              "    <tr>\n",
              "      <th>208929</th>\n",
              "      <td>0.10625</td>\n",
              "      <td>0.22425</td>\n",
              "      <td>0.22230</td>\n",
              "      <td>307796387</td>\n",
              "      <td>2022-04-17</td>\n",
              "      <td>0.566516</td>\n",
              "      <td>1147.997645</td>\n",
              "      <td>S2A_MSIL1C_20220417T141741_N0400_R010_T20JLL_2...</td>\n",
              "      <td>0.0</td>\n",
              "      <td>0</td>\n",
              "      <td>0</td>\n",
              "      <td>0</td>\n",
              "    </tr>\n",
              "    <tr>\n",
              "      <th>208930</th>\n",
              "      <td>0.12570</td>\n",
              "      <td>0.20880</td>\n",
              "      <td>0.25450</td>\n",
              "      <td>307097955</td>\n",
              "      <td>2022-04-17</td>\n",
              "      <td>0.534379</td>\n",
              "      <td>5185.690046</td>\n",
              "      <td>S2A_MSIL1C_20220417T141741_N0400_R010_T20JLL_2...</td>\n",
              "      <td>0.0</td>\n",
              "      <td>0</td>\n",
              "      <td>0</td>\n",
              "      <td>0</td>\n",
              "    </tr>\n",
              "    <tr>\n",
              "      <th>208931</th>\n",
              "      <td>0.10180</td>\n",
              "      <td>0.19080</td>\n",
              "      <td>0.19740</td>\n",
              "      <td>901791744</td>\n",
              "      <td>2022-04-17</td>\n",
              "      <td>0.635997</td>\n",
              "      <td>9394.381202</td>\n",
              "      <td>S2A_MSIL1C_20220417T141741_N0400_R010_T20JLL_2...</td>\n",
              "      <td>0.0</td>\n",
              "      <td>0</td>\n",
              "      <td>0</td>\n",
              "      <td>0</td>\n",
              "    </tr>\n",
              "  </tbody>\n",
              "</table>\n",
              "<p>114424 rows × 12 columns</p>\n",
              "</div>\n",
              "      <button class=\"colab-df-convert\" onclick=\"convertToInteractive('df-8b53122e-b9c1-4434-9036-5f87ca995b3e')\"\n",
              "              title=\"Convert this dataframe to an interactive table.\"\n",
              "              style=\"display:none;\">\n",
              "        \n",
              "  <svg xmlns=\"http://www.w3.org/2000/svg\" height=\"24px\"viewBox=\"0 0 24 24\"\n",
              "       width=\"24px\">\n",
              "    <path d=\"M0 0h24v24H0V0z\" fill=\"none\"/>\n",
              "    <path d=\"M18.56 5.44l.94 2.06.94-2.06 2.06-.94-2.06-.94-.94-2.06-.94 2.06-2.06.94zm-11 1L8.5 8.5l.94-2.06 2.06-.94-2.06-.94L8.5 2.5l-.94 2.06-2.06.94zm10 10l.94 2.06.94-2.06 2.06-.94-2.06-.94-.94-2.06-.94 2.06-2.06.94z\"/><path d=\"M17.41 7.96l-1.37-1.37c-.4-.4-.92-.59-1.43-.59-.52 0-1.04.2-1.43.59L10.3 9.45l-7.72 7.72c-.78.78-.78 2.05 0 2.83L4 21.41c.39.39.9.59 1.41.59.51 0 1.02-.2 1.41-.59l7.78-7.78 2.81-2.81c.8-.78.8-2.07 0-2.86zM5.41 20L4 18.59l7.72-7.72 1.47 1.35L5.41 20z\"/>\n",
              "  </svg>\n",
              "      </button>\n",
              "      \n",
              "  <style>\n",
              "    .colab-df-container {\n",
              "      display:flex;\n",
              "      flex-wrap:wrap;\n",
              "      gap: 12px;\n",
              "    }\n",
              "\n",
              "    .colab-df-convert {\n",
              "      background-color: #E8F0FE;\n",
              "      border: none;\n",
              "      border-radius: 50%;\n",
              "      cursor: pointer;\n",
              "      display: none;\n",
              "      fill: #1967D2;\n",
              "      height: 32px;\n",
              "      padding: 0 0 0 0;\n",
              "      width: 32px;\n",
              "    }\n",
              "\n",
              "    .colab-df-convert:hover {\n",
              "      background-color: #E2EBFA;\n",
              "      box-shadow: 0px 1px 2px rgba(60, 64, 67, 0.3), 0px 1px 3px 1px rgba(60, 64, 67, 0.15);\n",
              "      fill: #174EA6;\n",
              "    }\n",
              "\n",
              "    [theme=dark] .colab-df-convert {\n",
              "      background-color: #3B4455;\n",
              "      fill: #D2E3FC;\n",
              "    }\n",
              "\n",
              "    [theme=dark] .colab-df-convert:hover {\n",
              "      background-color: #434B5C;\n",
              "      box-shadow: 0px 1px 3px 1px rgba(0, 0, 0, 0.15);\n",
              "      filter: drop-shadow(0px 1px 2px rgba(0, 0, 0, 0.3));\n",
              "      fill: #FFFFFF;\n",
              "    }\n",
              "  </style>\n",
              "\n",
              "      <script>\n",
              "        const buttonEl =\n",
              "          document.querySelector('#df-8b53122e-b9c1-4434-9036-5f87ca995b3e button.colab-df-convert');\n",
              "        buttonEl.style.display =\n",
              "          google.colab.kernel.accessAllowed ? 'block' : 'none';\n",
              "\n",
              "        async function convertToInteractive(key) {\n",
              "          const element = document.querySelector('#df-8b53122e-b9c1-4434-9036-5f87ca995b3e');\n",
              "          const dataTable =\n",
              "            await google.colab.kernel.invokeFunction('convertToInteractive',\n",
              "                                                     [key], {});\n",
              "          if (!dataTable) return;\n",
              "\n",
              "          const docLinkHtml = 'Like what you see? Visit the ' +\n",
              "            '<a target=\"_blank\" href=https://colab.research.google.com/notebooks/data_table.ipynb>data table notebook</a>'\n",
              "            + ' to learn more about interactive tables.';\n",
              "          element.innerHTML = '';\n",
              "          dataTable['output_type'] = 'display_data';\n",
              "          await google.colab.output.renderOutput(dataTable, element);\n",
              "          const docLink = document.createElement('div');\n",
              "          docLink.innerHTML = docLinkHtml;\n",
              "          element.appendChild(docLink);\n",
              "        }\n",
              "      </script>\n",
              "    </div>\n",
              "  </div>\n",
              "  "
            ]
          },
          "metadata": {},
          "execution_count": 17
        }
      ],
      "source": [
        "df_interest_A2"
      ]
    },
    {
      "cell_type": "code",
      "execution_count": 18,
      "id": "e003c945-1bb9-4b04-bec7-8e197fa0dc43",
      "metadata": {
        "id": "e003c945-1bb9-4b04-bec7-8e197fa0dc43",
        "outputId": "12b1cf00-6464-4470-973d-911efbe1a32b",
        "colab": {
          "base_uri": "https://localhost:8080/"
        }
      },
      "outputs": [
        {
          "output_type": "execute_result",
          "data": {
            "text/plain": [
              "112391"
            ]
          },
          "metadata": {},
          "execution_count": 18
        }
      ],
      "source": [
        "# Se quitan aquellos registros donde se observa que para las tres bandas bajo análisis, los valores son outliers\n",
        "df_interest_A3 = df_interest_A2[~((df_interest_A2['outl_B02_median']==1) & (df_interest_A2['outl_B06_median']==1) & (df_interest_A2['outl_B11_median']==1))]\n",
        "len(df_interest_A3)"
      ]
    },
    {
      "cell_type": "markdown",
      "id": "abfec52a",
      "metadata": {
        "id": "abfec52a"
      },
      "source": [
        "- Grabar los datos transformados"
      ]
    },
    {
      "cell_type": "code",
      "execution_count": 19,
      "id": "91767462",
      "metadata": {
        "id": "91767462"
      },
      "outputs": [],
      "source": [
        "# Aquí está faltando el paso de grabar los resultados"
      ]
    },
    {
      "cell_type": "markdown",
      "id": "dd3825fc",
      "metadata": {
        "id": "dd3825fc"
      },
      "source": [
        "### Receta [B] Imputacion General + Filtrado Por Nubosidad \n",
        "\n",
        "- Leer los datos\n",
        "- Extraer las columnas de interes (## ab-initio)"
      ]
    },
    {
      "cell_type": "code",
      "execution_count": 44,
      "id": "9a907da3-7abc-4eef-b98e-ddebc35952cb",
      "metadata": {
        "id": "9a907da3-7abc-4eef-b98e-ddebc35952cb",
        "outputId": "ee3d57c0-0907-436a-e5fb-d2540acbd3ca",
        "colab": {
          "base_uri": "https://localhost:8080/"
        }
      },
      "outputs": [
        {
          "output_type": "execute_result",
          "data": {
            "text/plain": [
              "208932"
            ]
          },
          "metadata": {},
          "execution_count": 44
        }
      ],
      "source": [
        "# Dado que la lectura de datos y extracción de columnas ya se realizó anteriormente, generamos un nuevo dataframe para \n",
        "# procesar, en base a df_interest. Este contiene las columnas de interés pero sin ningún procesamiento.\n",
        "df_interest_B1 = df_interest.copy()\n",
        "len(df_interest_B1)"
      ]
    },
    {
      "cell_type": "markdown",
      "id": "bbdf0888",
      "metadata": {
        "id": "bbdf0888"
      },
      "source": [
        "- Remoción de Outliers (a nivel general sin considerar estacionalidad)"
      ]
    },
    {
      "cell_type": "code",
      "execution_count": 45,
      "id": "396947bd",
      "metadata": {
        "id": "396947bd",
        "outputId": "1c5d6df2-cf34-4ec8-ba16-9425a60695a9",
        "colab": {
          "base_uri": "https://localhost:8080/"
        }
      },
      "outputs": [
        {
          "output_type": "execute_result",
          "data": {
            "text/plain": [
              "200681"
            ]
          },
          "metadata": {},
          "execution_count": 45
        }
      ],
      "source": [
        "# Aplicamos la función desarrollada anteriormente\n",
        "find_outliers(df_interest_B1, bandas)\n",
        "# Removemos outliers\n",
        "df_interest_B2 = df_interest_B1[~((df_interest_B1['outl_B02_median']==1) & (df_interest_B1['outl_B06_median']==1) & (df_interest_B1['outl_B11_median']==1))]\n",
        "len(df_interest_B2)"
      ]
    },
    {
      "cell_type": "markdown",
      "id": "eede1c53",
      "metadata": {
        "id": "eede1c53"
      },
      "source": [
        "- Imputar valores nulos (definir el criterio, o estadistico, _media_, _mediana_, etc)"
      ]
    },
    {
      "cell_type": "code",
      "execution_count": 46,
      "id": "7c9fb8a1",
      "metadata": {
        "id": "7c9fb8a1",
        "outputId": "8a87ae64-eda4-4019-8a92-ac64f04ab0d3",
        "colab": {
          "base_uri": "https://localhost:8080/",
          "height": 587
        }
      },
      "outputs": [
        {
          "output_type": "stream",
          "name": "stderr",
          "text": [
            "/usr/local/lib/python3.7/dist-packages/sklearn/impute/_iterative.py:701: ConvergenceWarning: [IterativeImputer] Early stopping criterion not reached.\n",
            "  ConvergenceWarning,\n"
          ]
        },
        {
          "output_type": "stream",
          "name": "stdout",
          "text": [
            "200681\n"
          ]
        },
        {
          "output_type": "execute_result",
          "data": {
            "text/plain": [
              "<matplotlib.axes._subplots.AxesSubplot at 0x7f406add57d0>"
            ]
          },
          "metadata": {},
          "execution_count": 46
        },
        {
          "output_type": "display_data",
          "data": {
            "text/plain": [
              "<Figure size 1008x432 with 3 Axes>"
            ],
            "image/png": "[encoded data removed]"
          },
          "metadata": {
            "needs_background": "light"
          }
        }
      ],
      "source": [
        "# Imputamos valores nulos bajo el criterio del vecino más cercano\n",
        "from sklearn.experimental import enable_iterative_imputer\n",
        "from sklearn.neighbors import KNeighborsRegressor\n",
        "from sklearn.impute import IterativeImputer\n",
        "\n",
        "df_interest_B3 = df_interest_B2.copy()\n",
        "\n",
        "kn_imputer = IterativeImputer(random_state=0, estimator=KNeighborsRegressor())\n",
        "df_interest_B3[['ndvi_max','B02_median', 'B06_median', 'B11_median']] = kn_imputer.fit_transform(df_interest_B3[['ndvi_max','B02_median', 'B06_median', 'B11_median']])\n",
        "print(len(df_interest_B3))\n",
        "msno.bar(df_interest_B3,figsize=(14, 6), sort=\"ascending\",fontsize=12, color='lightblue')"
      ]
    },
    {
      "cell_type": "markdown",
      "id": "ec4bbcce",
      "metadata": {
        "id": "ec4bbcce"
      },
      "source": [
        "- Filtrar por nubosidad < 10%"
      ]
    },
    {
      "cell_type": "code",
      "execution_count": 47,
      "id": "60e544b8",
      "metadata": {
        "id": "60e544b8",
        "outputId": "e99baf26-ef98-4f32-fc89-399d6d517c66",
        "colab": {
          "base_uri": "https://localhost:8080/"
        }
      },
      "outputs": [
        {
          "output_type": "execute_result",
          "data": {
            "text/plain": [
              "114497"
            ]
          },
          "metadata": {},
          "execution_count": 47
        }
      ],
      "source": [
        "# Filtrar por nubosidad < 10%\n",
        "df_interest_B4=df_interest_B3[df_interest_B3['clouds_on_raster']<0.1]\n",
        "len(df_interest_B4)"
      ]
    },
    {
      "cell_type": "markdown",
      "id": "21634c65",
      "metadata": {
        "id": "21634c65"
      },
      "source": [
        "- Grabar los datos transformados"
      ]
    },
    {
      "cell_type": "code",
      "execution_count": 48,
      "id": "baacdcb7",
      "metadata": {
        "id": "baacdcb7"
      },
      "outputs": [],
      "source": [
        "# Aquí está faltando el paso de grabar los resultados"
      ]
    },
    {
      "cell_type": "markdown",
      "id": "088625db",
      "metadata": {
        "id": "088625db"
      },
      "source": [
        "### Receta [C] Imputacion Estacional + Filtrado Por Nubosidad \n",
        "\n",
        "- Leer los datos\n",
        "- Extraer las columnas de interes (## ab-initio)"
      ]
    },
    {
      "cell_type": "code",
      "execution_count": 25,
      "id": "041d0125",
      "metadata": {
        "id": "041d0125",
        "outputId": "c0b31cab-abc6-4abf-ca4b-b4196a9f3159",
        "colab": {
          "base_uri": "https://localhost:8080/"
        }
      },
      "outputs": [
        {
          "output_type": "execute_result",
          "data": {
            "text/plain": [
              "208932"
            ]
          },
          "metadata": {},
          "execution_count": 25
        }
      ],
      "source": [
        "# Dado que la lectura de datos y extracción de columnas ya se realizó anteriormente, generamos un nuevo dataframe para \n",
        "# procesar, en base a df_interest. Este contiene las columnas de interés pero sin ningún procesamiento.\n",
        "df_interest_C1 = df_interest.copy()\n",
        "len(df_interest_C1)"
      ]
    },
    {
      "cell_type": "markdown",
      "id": "7f19f13f",
      "metadata": {
        "id": "7f19f13f"
      },
      "source": [
        "- Remoción de Outliers (a nivel estacional - SIN refinar por año)"
      ]
    },
    {
      "cell_type": "code",
      "execution_count": 26,
      "id": "58fd1409",
      "metadata": {
        "id": "58fd1409",
        "outputId": "ad556359-9bf4-468a-b9c8-963d9515a142",
        "colab": {
          "base_uri": "https://localhost:8080/",
          "height": 644
        }
      },
      "outputs": [
        {
          "output_type": "execute_result",
          "data": {
            "text/plain": [
              "        B02_median  B06_median  B11_median     osm_id       date  ndvi_max  \\\n",
              "0          0.09650     0.19910     0.18770  605976736 2017-01-03  0.630881   \n",
              "1          0.10660     0.25960     0.25420  559322368 2017-01-03  0.630041   \n",
              "2          0.11290     0.25550     0.24640  559322369 2017-01-03  0.622036   \n",
              "3          0.11355     0.29300     0.26675  559328111 2017-01-03  0.669891   \n",
              "4          0.12240     0.29460     0.28950  559328112 2017-01-03  0.619112   \n",
              "...            ...         ...         ...        ...        ...       ...   \n",
              "208927     0.11270     0.20520     0.18950  307532496 2022-04-17  0.563955   \n",
              "208928     0.13665     0.23835     0.27315  307535460 2022-04-17  0.490798   \n",
              "208929     0.10625     0.22425     0.22230  307796387 2022-04-17  0.566516   \n",
              "208930     0.12570     0.20880     0.25450  307097955 2022-04-17  0.534379   \n",
              "208931     0.10180     0.19080     0.19740  901791744 2022-04-17  0.635997   \n",
              "\n",
              "            area_m2                                             raster  \\\n",
              "0       4650.710032  S2A_MSIL1C_20170103T142022_N0204_R010_T20JLL_2...   \n",
              "1       1502.000513  S2A_MSIL1C_20170103T142022_N0204_R010_T20JLL_2...   \n",
              "2       2004.192528  S2A_MSIL1C_20170103T142022_N0204_R010_T20JLL_2...   \n",
              "3       6940.507640  S2A_MSIL1C_20170103T142022_N0204_R010_T20JLL_2...   \n",
              "4       4587.356048  S2A_MSIL1C_20170103T142022_N0204_R010_T20JLL_2...   \n",
              "...             ...                                                ...   \n",
              "208927  3824.467794  S2A_MSIL1C_20220417T141741_N0400_R010_T20JLL_2...   \n",
              "208928  7184.535857  S2A_MSIL1C_20220417T141741_N0400_R010_T20JLL_2...   \n",
              "208929  1147.997645  S2A_MSIL1C_20220417T141741_N0400_R010_T20JLL_2...   \n",
              "208930  5185.690046  S2A_MSIL1C_20220417T141741_N0400_R010_T20JLL_2...   \n",
              "208931  9394.381202  S2A_MSIL1C_20220417T141741_N0400_R010_T20JLL_2...   \n",
              "\n",
              "        clouds_on_raster  month  season  \n",
              "0                    0.0      1  summer  \n",
              "1                    0.0      1  summer  \n",
              "2                    0.0      1  summer  \n",
              "3                    0.0      1  summer  \n",
              "4                    0.0      1  summer  \n",
              "...                  ...    ...     ...  \n",
              "208927               0.0      4  autumn  \n",
              "208928               0.0      4  autumn  \n",
              "208929               0.0      4  autumn  \n",
              "208930               0.0      4  autumn  \n",
              "208931               0.0      4  autumn  \n",
              "\n",
              "[208932 rows x 11 columns]"
            ],
            "text/html": [
              "\n",
              "  <div id=\"df-d72e2ce0-363b-471d-93e7-081fda66bf61\">\n",
              "    <div class=\"colab-df-container\">\n",
              "      <div>\n",
              "<style scoped>\n",
              "    .dataframe tbody tr th:only-of-type {\n",
              "        vertical-align: middle;\n",
              "    }\n",
              "\n",
              "    .dataframe tbody tr th {\n",
              "        vertical-align: top;\n",
              "    }\n",
              "\n",
              "    .dataframe thead th {\n",
              "        text-align: right;\n",
              "    }\n",
              "</style>\n",
              "<table border=\"1\" class=\"dataframe\">\n",
              "  <thead>\n",
              "    <tr style=\"text-align: right;\">\n",
              "      <th></th>\n",
              "      <th>B02_median</th>\n",
              "      <th>B06_median</th>\n",
              "      <th>B11_median</th>\n",
              "      <th>osm_id</th>\n",
              "      <th>date</th>\n",
              "      <th>ndvi_max</th>\n",
              "      <th>area_m2</th>\n",
              "      <th>raster</th>\n",
              "      <th>clouds_on_raster</th>\n",
              "      <th>month</th>\n",
              "      <th>season</th>\n",
              "    </tr>\n",
              "  </thead>\n",
              "  <tbody>\n",
              "    <tr>\n",
              "      <th>0</th>\n",
              "      <td>0.09650</td>\n",
              "      <td>0.19910</td>\n",
              "      <td>0.18770</td>\n",
              "      <td>605976736</td>\n",
              "      <td>2017-01-03</td>\n",
              "      <td>0.630881</td>\n",
              "      <td>4650.710032</td>\n",
              "      <td>S2A_MSIL1C_20170103T142022_N0204_R010_T20JLL_2...</td>\n",
              "      <td>0.0</td>\n",
              "      <td>1</td>\n",
              "      <td>summer</td>\n",
              "    </tr>\n",
              "    <tr>\n",
              "      <th>1</th>\n",
              "      <td>0.10660</td>\n",
              "      <td>0.25960</td>\n",
              "      <td>0.25420</td>\n",
              "      <td>559322368</td>\n",
              "      <td>2017-01-03</td>\n",
              "      <td>0.630041</td>\n",
              "      <td>1502.000513</td>\n",
              "      <td>S2A_MSIL1C_20170103T142022_N0204_R010_T20JLL_2...</td>\n",
              "      <td>0.0</td>\n",
              "      <td>1</td>\n",
              "      <td>summer</td>\n",
              "    </tr>\n",
              "    <tr>\n",
              "      <th>2</th>\n",
              "      <td>0.11290</td>\n",
              "      <td>0.25550</td>\n",
              "      <td>0.24640</td>\n",
              "      <td>559322369</td>\n",
              "      <td>2017-01-03</td>\n",
              "      <td>0.622036</td>\n",
              "      <td>2004.192528</td>\n",
              "      <td>S2A_MSIL1C_20170103T142022_N0204_R010_T20JLL_2...</td>\n",
              "      <td>0.0</td>\n",
              "      <td>1</td>\n",
              "      <td>summer</td>\n",
              "    </tr>\n",
              "    <tr>\n",
              "      <th>3</th>\n",
              "      <td>0.11355</td>\n",
              "      <td>0.29300</td>\n",
              "      <td>0.26675</td>\n",
              "      <td>559328111</td>\n",
              "      <td>2017-01-03</td>\n",
              "      <td>0.669891</td>\n",
              "      <td>6940.507640</td>\n",
              "      <td>S2A_MSIL1C_20170103T142022_N0204_R010_T20JLL_2...</td>\n",
              "      <td>0.0</td>\n",
              "      <td>1</td>\n",
              "      <td>summer</td>\n",
              "    </tr>\n",
              "    <tr>\n",
              "      <th>4</th>\n",
              "      <td>0.12240</td>\n",
              "      <td>0.29460</td>\n",
              "      <td>0.28950</td>\n",
              "      <td>559328112</td>\n",
              "      <td>2017-01-03</td>\n",
              "      <td>0.619112</td>\n",
              "      <td>4587.356048</td>\n",
              "      <td>S2A_MSIL1C_20170103T142022_N0204_R010_T20JLL_2...</td>\n",
              "      <td>0.0</td>\n",
              "      <td>1</td>\n",
              "      <td>summer</td>\n",
              "    </tr>\n",
              "    <tr>\n",
              "      <th>...</th>\n",
              "      <td>...</td>\n",
              "      <td>...</td>\n",
              "      <td>...</td>\n",
              "      <td>...</td>\n",
              "      <td>...</td>\n",
              "      <td>...</td>\n",
              "      <td>...</td>\n",
              "      <td>...</td>\n",
              "      <td>...</td>\n",
              "      <td>...</td>\n",
              "      <td>...</td>\n",
              "    </tr>\n",
              "    <tr>\n",
              "      <th>208927</th>\n",
              "      <td>0.11270</td>\n",
              "      <td>0.20520</td>\n",
              "      <td>0.18950</td>\n",
              "      <td>307532496</td>\n",
              "      <td>2022-04-17</td>\n",
              "      <td>0.563955</td>\n",
              "      <td>3824.467794</td>\n",
              "      <td>S2A_MSIL1C_20220417T141741_N0400_R010_T20JLL_2...</td>\n",
              "      <td>0.0</td>\n",
              "      <td>4</td>\n",
              "      <td>autumn</td>\n",
              "    </tr>\n",
              "    <tr>\n",
              "      <th>208928</th>\n",
              "      <td>0.13665</td>\n",
              "      <td>0.23835</td>\n",
              "      <td>0.27315</td>\n",
              "      <td>307535460</td>\n",
              "      <td>2022-04-17</td>\n",
              "      <td>0.490798</td>\n",
              "      <td>7184.535857</td>\n",
              "      <td>S2A_MSIL1C_20220417T141741_N0400_R010_T20JLL_2...</td>\n",
              "      <td>0.0</td>\n",
              "      <td>4</td>\n",
              "      <td>autumn</td>\n",
              "    </tr>\n",
              "    <tr>\n",
              "      <th>208929</th>\n",
              "      <td>0.10625</td>\n",
              "      <td>0.22425</td>\n",
              "      <td>0.22230</td>\n",
              "      <td>307796387</td>\n",
              "      <td>2022-04-17</td>\n",
              "      <td>0.566516</td>\n",
              "      <td>1147.997645</td>\n",
              "      <td>S2A_MSIL1C_20220417T141741_N0400_R010_T20JLL_2...</td>\n",
              "      <td>0.0</td>\n",
              "      <td>4</td>\n",
              "      <td>autumn</td>\n",
              "    </tr>\n",
              "    <tr>\n",
              "      <th>208930</th>\n",
              "      <td>0.12570</td>\n",
              "      <td>0.20880</td>\n",
              "      <td>0.25450</td>\n",
              "      <td>307097955</td>\n",
              "      <td>2022-04-17</td>\n",
              "      <td>0.534379</td>\n",
              "      <td>5185.690046</td>\n",
              "      <td>S2A_MSIL1C_20220417T141741_N0400_R010_T20JLL_2...</td>\n",
              "      <td>0.0</td>\n",
              "      <td>4</td>\n",
              "      <td>autumn</td>\n",
              "    </tr>\n",
              "    <tr>\n",
              "      <th>208931</th>\n",
              "      <td>0.10180</td>\n",
              "      <td>0.19080</td>\n",
              "      <td>0.19740</td>\n",
              "      <td>901791744</td>\n",
              "      <td>2022-04-17</td>\n",
              "      <td>0.635997</td>\n",
              "      <td>9394.381202</td>\n",
              "      <td>S2A_MSIL1C_20220417T141741_N0400_R010_T20JLL_2...</td>\n",
              "      <td>0.0</td>\n",
              "      <td>4</td>\n",
              "      <td>autumn</td>\n",
              "    </tr>\n",
              "  </tbody>\n",
              "</table>\n",
              "<p>208932 rows × 11 columns</p>\n",
              "</div>\n",
              "      <button class=\"colab-df-convert\" onclick=\"convertToInteractive('df-d72e2ce0-363b-471d-93e7-081fda66bf61')\"\n",
              "              title=\"Convert this dataframe to an interactive table.\"\n",
              "              style=\"display:none;\">\n",
              "        \n",
              "  <svg xmlns=\"http://www.w3.org/2000/svg\" height=\"24px\"viewBox=\"0 0 24 24\"\n",
              "       width=\"24px\">\n",
              "    <path d=\"M0 0h24v24H0V0z\" fill=\"none\"/>\n",
              "    <path d=\"M18.56 5.44l.94 2.06.94-2.06 2.06-.94-2.06-.94-.94-2.06-.94 2.06-2.06.94zm-11 1L8.5 8.5l.94-2.06 2.06-.94-2.06-.94L8.5 2.5l-.94 2.06-2.06.94zm10 10l.94 2.06.94-2.06 2.06-.94-2.06-.94-.94-2.06-.94 2.06-2.06.94z\"/><path d=\"M17.41 7.96l-1.37-1.37c-.4-.4-.92-.59-1.43-.59-.52 0-1.04.2-1.43.59L10.3 9.45l-7.72 7.72c-.78.78-.78 2.05 0 2.83L4 21.41c.39.39.9.59 1.41.59.51 0 1.02-.2 1.41-.59l7.78-7.78 2.81-2.81c.8-.78.8-2.07 0-2.86zM5.41 20L4 18.59l7.72-7.72 1.47 1.35L5.41 20z\"/>\n",
              "  </svg>\n",
              "      </button>\n",
              "      \n",
              "  <style>\n",
              "    .colab-df-container {\n",
              "      display:flex;\n",
              "      flex-wrap:wrap;\n",
              "      gap: 12px;\n",
              "    }\n",
              "\n",
              "    .colab-df-convert {\n",
              "      background-color: #E8F0FE;\n",
              "      border: none;\n",
              "      border-radius: 50%;\n",
              "      cursor: pointer;\n",
              "      display: none;\n",
              "      fill: #1967D2;\n",
              "      height: 32px;\n",
              "      padding: 0 0 0 0;\n",
              "      width: 32px;\n",
              "    }\n",
              "\n",
              "    .colab-df-convert:hover {\n",
              "      background-color: #E2EBFA;\n",
              "      box-shadow: 0px 1px 2px rgba(60, 64, 67, 0.3), 0px 1px 3px 1px rgba(60, 64, 67, 0.15);\n",
              "      fill: #174EA6;\n",
              "    }\n",
              "\n",
              "    [theme=dark] .colab-df-convert {\n",
              "      background-color: #3B4455;\n",
              "      fill: #D2E3FC;\n",
              "    }\n",
              "\n",
              "    [theme=dark] .colab-df-convert:hover {\n",
              "      background-color: #434B5C;\n",
              "      box-shadow: 0px 1px 3px 1px rgba(0, 0, 0, 0.15);\n",
              "      filter: drop-shadow(0px 1px 2px rgba(0, 0, 0, 0.3));\n",
              "      fill: #FFFFFF;\n",
              "    }\n",
              "  </style>\n",
              "\n",
              "      <script>\n",
              "        const buttonEl =\n",
              "          document.querySelector('#df-d72e2ce0-363b-471d-93e7-081fda66bf61 button.colab-df-convert');\n",
              "        buttonEl.style.display =\n",
              "          google.colab.kernel.accessAllowed ? 'block' : 'none';\n",
              "\n",
              "        async function convertToInteractive(key) {\n",
              "          const element = document.querySelector('#df-d72e2ce0-363b-471d-93e7-081fda66bf61');\n",
              "          const dataTable =\n",
              "            await google.colab.kernel.invokeFunction('convertToInteractive',\n",
              "                                                     [key], {});\n",
              "          if (!dataTable) return;\n",
              "\n",
              "          const docLinkHtml = 'Like what you see? Visit the ' +\n",
              "            '<a target=\"_blank\" href=https://colab.research.google.com/notebooks/data_table.ipynb>data table notebook</a>'\n",
              "            + ' to learn more about interactive tables.';\n",
              "          element.innerHTML = '';\n",
              "          dataTable['output_type'] = 'display_data';\n",
              "          await google.colab.output.renderOutput(dataTable, element);\n",
              "          const docLink = document.createElement('div');\n",
              "          docLink.innerHTML = docLinkHtml;\n",
              "          element.appendChild(docLink);\n",
              "        }\n",
              "      </script>\n",
              "    </div>\n",
              "  </div>\n",
              "  "
            ]
          },
          "metadata": {},
          "execution_count": 26
        }
      ],
      "source": [
        "# Para la remoción de outliers por estación, defiinimos la estación a la que corresponde cada registro. \n",
        "# Convertimos la columna date a tipo datetime\n",
        "df_interest_C1['date']= pd.to_datetime(df_interest_C1['date'])\n",
        "\n",
        "# Extraemos el mes de cada registro.\n",
        "df_interest_C1['month'] = df_interest_C1['date'].dt.month\n",
        "\n",
        "# Aplicamos la siguiente función para determinar la estación a la que corresponde cada registro.\n",
        "def seasons(df, col):\n",
        "    Seasons = []\n",
        "    for month in df[col]:\n",
        "        if month in (1, 2, 3):\n",
        "            season = 'summer'\n",
        "        elif month in (4, 5, 6):\n",
        "            season = 'autumn'\n",
        "        elif month in (7, 8, 9):\n",
        "            season = 'winter'\n",
        "        else:\n",
        "            season = 'spring'\n",
        "        Seasons.append(season)\n",
        "    df[\"season\"]= Seasons\n",
        "\n",
        "seasons(df_interest_C1, \"month\")\n",
        "df_interest_C1"
      ]
    },
    {
      "cell_type": "code",
      "execution_count": 27,
      "id": "a808a191",
      "metadata": {
        "scrolled": true,
        "id": "a808a191"
      },
      "outputs": [],
      "source": [
        "# Generamos nuevas columnas de cada banda para cada estación\n",
        "df_interest_C1.loc[df_interest_C1['season'] == 'summer', 'B02_summer'] = df_interest_C1['B02_median']  \n",
        "df_interest_C1.loc[df_interest_C1['season'] == 'autumn', 'B02_autumn'] = df_interest_C1['B02_median']\n",
        "df_interest_C1.loc[df_interest_C1['season'] == 'winter', 'B02_winter'] = df_interest_C1['B02_median']\n",
        "df_interest_C1.loc[df_interest_C1['season'] == 'spring', 'B02_spring'] = df_interest_C1['B02_median']\n",
        "\n",
        "df_interest_C1.loc[df_interest_C1['season'] == 'summer', 'B06_summer'] = df_interest_C1['B06_median']  \n",
        "df_interest_C1.loc[df_interest_C1['season'] == 'autumn', 'B06_autumn'] = df_interest_C1['B06_median']\n",
        "df_interest_C1.loc[df_interest_C1['season'] == 'winter', 'B06_winter'] = df_interest_C1['B06_median']\n",
        "df_interest_C1.loc[df_interest_C1['season'] == 'spring', 'B06_spring'] = df_interest_C1['B06_median']\n",
        "\n",
        "df_interest_C1.loc[df_interest_C1['season'] == 'summer', 'B11_summer'] = df_interest_C1['B11_median']  \n",
        "df_interest_C1.loc[df_interest_C1['season'] == 'autumn', 'B11_autumn'] = df_interest_C1['B11_median']\n",
        "df_interest_C1.loc[df_interest_C1['season'] == 'winter', 'B11_winter'] = df_interest_C1['B11_median']\n",
        "df_interest_C1.loc[df_interest_C1['season'] == 'spring', 'B11_spring'] = df_interest_C1['B11_median']"
      ]
    },
    {
      "cell_type": "code",
      "execution_count": 28,
      "id": "65ea835f",
      "metadata": {
        "id": "65ea835f"
      },
      "outputs": [],
      "source": [
        "# Creamos lista de nuevas columnas para usarla como argumento en la función que detecta outliers\n",
        "Season_values = ['B02_summer', 'B02_autumn', 'B02_winter', 'B02_spring', 'B06_summer', 'B06_autumn', 'B06_winter', \n",
        "                'B06_spring', 'B11_summer', 'B11_autumn', 'B11_winter', 'B11_spring']\n",
        "\n",
        "# Aplicamos la función de detección de outliers\n",
        "find_outliers(df_interest_C1, Season_values)"
      ]
    },
    {
      "cell_type": "code",
      "execution_count": 29,
      "id": "79df55d0",
      "metadata": {
        "scrolled": false,
        "id": "79df55d0",
        "outputId": "37cfba1c-4565-4e54-bcc4-0ea0d0c4b8e0",
        "colab": {
          "base_uri": "https://localhost:8080/"
        }
      },
      "outputs": [
        {
          "output_type": "stream",
          "name": "stdout",
          "text": [
            "205669\n",
            "202722\n"
          ]
        },
        {
          "output_type": "stream",
          "name": "stderr",
          "text": [
            "/usr/local/lib/python3.7/dist-packages/ipykernel_launcher.py:8: UserWarning: Boolean Series key will be reindexed to match DataFrame index.\n",
            "  \n",
            "/usr/local/lib/python3.7/dist-packages/ipykernel_launcher.py:12: UserWarning: Boolean Series key will be reindexed to match DataFrame index.\n",
            "  if sys.path[0] == '':\n"
          ]
        },
        {
          "output_type": "stream",
          "name": "stdout",
          "text": [
            "200130\n",
            "197680\n"
          ]
        },
        {
          "output_type": "stream",
          "name": "stderr",
          "text": [
            "/usr/local/lib/python3.7/dist-packages/ipykernel_launcher.py:16: UserWarning: Boolean Series key will be reindexed to match DataFrame index.\n",
            "  app.launch_new_instance()\n"
          ]
        }
      ],
      "source": [
        "# Se quitan aquellos registros donde se observa que para las tres bandas bajo análisis (en cada estación), \n",
        "# los valores son outliers (valor = 1)\n",
        "df_interest_E2_summer = df_interest_C1[~((df_interest_C1['outl_B02_summer']==1) & (df_interest_C1['outl_B06_summer']==1) & \n",
        "                        (df_interest_C1['outl_B11_summer']==1))]\n",
        "print(len(df_interest_E2_summer))\n",
        "\n",
        "df_interest_E2_autumn = df_interest_E2_summer[~((df_interest_C1['outl_B02_autumn']==1) & \n",
        "                        (df_interest_E2_summer['outl_B06_autumn']==1) & (df_interest_E2_summer['outl_B11_autumn']==1))]\n",
        "print(len(df_interest_E2_autumn))\n",
        "\n",
        "df_interest_E2_winter = df_interest_E2_autumn[~((df_interest_C1['outl_B02_winter']==1) & \n",
        "                        (df_interest_E2_autumn['outl_B06_winter']==1) & (df_interest_E2_autumn['outl_B11_winter']==1))]\n",
        "print(len(df_interest_E2_winter))\n",
        "\n",
        "df_interest_E2_spring = df_interest_E2_winter[~((df_interest_C1['outl_B02_spring']==1) & \n",
        "                        (df_interest_E2_winter['outl_B06_spring']==1) & (df_interest_E2_winter['outl_B11_spring']==1))]\n",
        "print(len(df_interest_E2_spring))"
      ]
    },
    {
      "cell_type": "code",
      "execution_count": 30,
      "id": "4d083b60",
      "metadata": {
        "id": "4d083b60",
        "outputId": "4171a8da-2d9a-479b-f3e8-0a09cee1299c",
        "colab": {
          "base_uri": "https://localhost:8080/",
          "height": 516
        }
      },
      "outputs": [
        {
          "output_type": "execute_result",
          "data": {
            "text/plain": [
              "<matplotlib.axes._subplots.AxesSubplot at 0x7f406b2852d0>"
            ]
          },
          "metadata": {},
          "execution_count": 30
        },
        {
          "output_type": "display_data",
          "data": {
            "text/plain": [
              "<Figure size 1008x432 with 3 Axes>"
            ],
            "image/png": "[encoded data removed]"
          },
          "metadata": {
            "needs_background": "light"
          }
        }
      ],
      "source": [
        "msno.bar(df_interest_C2_spring,figsize=(14, 6), sort=\"ascending\",fontsize=12, color='tomato')"
      ]
    },
    {
      "cell_type": "markdown",
      "id": "30476c26",
      "metadata": {
        "id": "30476c26"
      },
      "source": [
        "- Imputar valores nulos (a nivel estacional - definir el criterio, o estadistico, _media_, _mediana_, etc)"
      ]
    },
    {
      "cell_type": "code",
      "execution_count": 31,
      "id": "13293bd2",
      "metadata": {
        "id": "13293bd2",
        "outputId": "b2e9f655-3784-496c-e815-2ec2e30acc68",
        "colab": {
          "base_uri": "https://localhost:8080/",
          "height": 591
        }
      },
      "outputs": [
        {
          "output_type": "stream",
          "name": "stderr",
          "text": [
            "/usr/local/lib/python3.7/dist-packages/sklearn/impute/_iterative.py:701: ConvergenceWarning: [IterativeImputer] Early stopping criterion not reached.\n",
            "  ConvergenceWarning,\n"
          ]
        },
        {
          "output_type": "stream",
          "name": "stdout",
          "text": [
            "197680\n"
          ]
        },
        {
          "output_type": "execute_result",
          "data": {
            "text/plain": [
              "<matplotlib.axes._subplots.AxesSubplot at 0x7f406b02b850>"
            ]
          },
          "metadata": {},
          "execution_count": 31
        },
        {
          "output_type": "display_data",
          "data": {
            "text/plain": [
              "<Figure size 1008x432 with 3 Axes>"
            ],
            "image/png": "[encoded data removed]"
          },
          "metadata": {
            "needs_background": "light"
          }
        }
      ],
      "source": [
        "# Imputamos valores nulos a nivel estacional bajo el criterio del vecino más cercano\n",
        "df_interest_C3 = df_interest_C2_spring.copy()\n",
        "\n",
        "kn_imputer = IterativeImputer(random_state=0, estimator=KNeighborsRegressor())\n",
        "df_interest_C3[Season_values] = kn_imputer.fit_transform(df_interest_C3[Season_values])\n",
        "\n",
        "print(len(df_interest_C3))\n",
        "msno.bar(df_interest_C3,figsize=(14, 6), sort=\"ascending\",fontsize=12, color='lightblue')\n"
      ]
    },
    {
      "cell_type": "markdown",
      "id": "3072f366",
      "metadata": {
        "id": "3072f366"
      },
      "source": [
        "- Filtrar por nubosidad:\n",
        "    - < 20%\n",
        "    - < 40%"
      ]
    },
    {
      "cell_type": "code",
      "execution_count": 32,
      "id": "df0b9a70",
      "metadata": {
        "id": "df0b9a70",
        "outputId": "2c9012ea-2edf-4d34-851c-9b47112ff2de",
        "colab": {
          "base_uri": "https://localhost:8080/"
        }
      },
      "outputs": [
        {
          "output_type": "stream",
          "name": "stdout",
          "text": [
            "115009\n",
            "117969\n"
          ]
        }
      ],
      "source": [
        "# Filtramos por nubosidad < 20% y luego < 40%\n",
        "df_interest_C4_20 = df_interest_C3[df_interest_C3['clouds_on_raster']<0.2]\n",
        "print(len(df_interest_C4_20))\n",
        "df_interest_C4_40 = df_interest_C3[df_interest_C3['clouds_on_raster']<0.4]\n",
        "print(len(df_interest_C4_40))\n"
      ]
    },
    {
      "cell_type": "markdown",
      "id": "92155d98",
      "metadata": {
        "id": "92155d98"
      },
      "source": [
        "- Grabar los datos transformados"
      ]
    },
    {
      "cell_type": "code",
      "execution_count": 33,
      "id": "5394dbda",
      "metadata": {
        "id": "5394dbda"
      },
      "outputs": [],
      "source": [
        "# Aquí está faltando el paso de grabar los resultados"
      ]
    },
    {
      "cell_type": "markdown",
      "id": "0155a721",
      "metadata": {
        "id": "0155a721"
      },
      "source": [
        "### Receta [D] Imputacion Estacional + Filtrado Por Nubosidad + Normalizacion \n",
        "\n",
        "__NOTA__: Para ciertos algoritmos puede ser necesario normalizar los datos (para facilitar su convergencia). Se le ocurre alguna forma de hacerlo? (Existen muchas alternativas, elija alguna de ellas - justificando su eleccion). Utilizando alguna que le parezca interesante, actualice la siguiente receta basada en [C]\n",
        "\n",
        "- Leer los datos\n",
        "- Extraer las columnas de interes (## ab-initio)"
      ]
    },
    {
      "cell_type": "code",
      "execution_count": 34,
      "id": "5a723d22",
      "metadata": {
        "id": "5a723d22",
        "outputId": "ba219470-f707-4b85-c345-3f72e1af2ae6",
        "colab": {
          "base_uri": "https://localhost:8080/"
        }
      },
      "outputs": [
        {
          "output_type": "execute_result",
          "data": {
            "text/plain": [
              "208932"
            ]
          },
          "metadata": {},
          "execution_count": 34
        }
      ],
      "source": [
        "# Dado que la lectura de datos y extracción de columnas ya se realizó anteriormente, generamos un nuevo dataframe para \n",
        "# procesar, en base a df_interest. Este contiene las columnas de interés pero sin ningún procesamiento.\n",
        "df_interest_D1 = df_interest.copy()\n",
        "len(df_interest_D1)"
      ]
    },
    {
      "cell_type": "markdown",
      "id": "ca42c232",
      "metadata": {
        "id": "ca42c232"
      },
      "source": [
        "- Remoción de Outliers (a nivel estacional - SIN refinar por año)"
      ]
    },
    {
      "cell_type": "code",
      "execution_count": 35,
      "id": "582d295e",
      "metadata": {
        "id": "582d295e",
        "outputId": "b2038de4-d4da-4255-984d-61b55f799206",
        "colab": {
          "base_uri": "https://localhost:8080/"
        }
      },
      "outputs": [
        {
          "output_type": "stream",
          "name": "stdout",
          "text": [
            "205669\n",
            "202722\n"
          ]
        },
        {
          "output_type": "stream",
          "name": "stderr",
          "text": [
            "/usr/local/lib/python3.7/dist-packages/ipykernel_launcher.py:37: UserWarning: Boolean Series key will be reindexed to match DataFrame index.\n",
            "/usr/local/lib/python3.7/dist-packages/ipykernel_launcher.py:41: UserWarning: Boolean Series key will be reindexed to match DataFrame index.\n"
          ]
        },
        {
          "output_type": "stream",
          "name": "stdout",
          "text": [
            "200130\n",
            "197680\n"
          ]
        },
        {
          "output_type": "stream",
          "name": "stderr",
          "text": [
            "/usr/local/lib/python3.7/dist-packages/ipykernel_launcher.py:45: UserWarning: Boolean Series key will be reindexed to match DataFrame index.\n"
          ]
        }
      ],
      "source": [
        "# Para la remoción de outliers por estación, defiinimos la estación a la que corresponde cada registro. \n",
        "# Convertimos la columna date a tipo datetime\n",
        "df_interest_D1['date']= pd.to_datetime(df_interest_D1['date'])\n",
        "\n",
        "# Extraemos el mes de cada registro.\n",
        "df_interest_D1['month'] = df_interest_D1['date'].dt.month\n",
        "\n",
        "# Aplicamos la función (seasons)creada anteriormente para determinar la estación a la que corresponde cada registro.\n",
        "seasons(df_interest_D1, \"month\")\n",
        "\n",
        "# Generamos nuevas columnas de cada banda para cada estación\n",
        "df_interest_D1.loc[df_interest_D1['season'] == 'summer', 'B02_summer'] = df_interest_D1['B02_median']  \n",
        "df_interest_D1.loc[df_interest_D1['season'] == 'autumn', 'B02_autumn'] = df_interest_D1['B02_median']\n",
        "df_interest_D1.loc[df_interest_D1['season'] == 'winter', 'B02_winter'] = df_interest_D1['B02_median']\n",
        "df_interest_D1.loc[df_interest_D1['season'] == 'spring', 'B02_spring'] = df_interest_D1['B02_median']\n",
        "\n",
        "df_interest_D1.loc[df_interest_D1['season'] == 'summer', 'B06_summer'] = df_interest_D1['B06_median']  \n",
        "df_interest_D1.loc[df_interest_D1['season'] == 'autumn', 'B06_autumn'] = df_interest_D1['B06_median']\n",
        "df_interest_D1.loc[df_interest_D1['season'] == 'winter', 'B06_winter'] = df_interest_D1['B06_median']\n",
        "df_interest_D1.loc[df_interest_D1['season'] == 'spring', 'B06_spring'] = df_interest_D1['B06_median']\n",
        "\n",
        "df_interest_D1.loc[df_interest_D1['season'] == 'summer', 'B11_summer'] = df_interest_D1['B11_median']  \n",
        "df_interest_D1.loc[df_interest_D1['season'] == 'autumn', 'B11_autumn'] = df_interest_D1['B11_median']\n",
        "df_interest_D1.loc[df_interest_D1['season'] == 'winter', 'B11_winter'] = df_interest_D1['B11_median']\n",
        "df_interest_D1.loc[df_interest_D1['season'] == 'spring', 'B11_spring'] = df_interest_D1['B11_median']\n",
        "\n",
        "# Aplicamos la función de detección de outliers utilizando la lista ya creada de columnas de interés (Season_values)\n",
        "find_outliers(df_interest_D1, Season_values)\n",
        "\n",
        "# Se quitan aquellos registros donde se observa que para las tres bandas bajo análisis (en cada estación), \n",
        "# los valores son outliers (valor = 1)\n",
        "df_interest_D2_summer = df_interest_D1[~((df_interest_D1['outl_B02_summer']==1) & (df_interest_D1['outl_B06_summer']==1) & \n",
        "                        (df_interest_D1['outl_B11_summer']==1))]\n",
        "print(len(df_interest_D2_summer))\n",
        "\n",
        "df_interest_D2_autumn = df_interest_D2_summer[~((df_interest_D1['outl_B02_autumn']==1) & \n",
        "                        (df_interest_D2_summer['outl_B06_autumn']==1) & (df_interest_D2_summer['outl_B11_autumn']==1))]\n",
        "print(len(df_interest_D2_autumn))\n",
        "\n",
        "df_interest_D2_winter = df_interest_D2_autumn[~((df_interest_D1['outl_B02_winter']==1) & \n",
        "                        (df_interest_D2_autumn['outl_B06_winter']==1) & (df_interest_D2_autumn['outl_B11_winter']==1))]\n",
        "print(len(df_interest_D2_winter))\n",
        "\n",
        "df_interest_D2_spring = df_interest_D2_winter[~((df_interest_D1['outl_B02_spring']==1) & \n",
        "                        (df_interest_D2_winter['outl_B06_spring']==1) & (df_interest_D2_winter['outl_B11_spring']==1))]\n",
        "print(len(df_interest_D2_spring))"
      ]
    },
    {
      "cell_type": "markdown",
      "id": "a6fdc444",
      "metadata": {
        "id": "a6fdc444"
      },
      "source": [
        "- Imputar valores nulos (definir el criterio, o estadistico, _media_, _mediana_, etc)"
      ]
    },
    {
      "cell_type": "code",
      "execution_count": 37,
      "id": "769e4beb",
      "metadata": {
        "id": "769e4beb",
        "outputId": "9f3ae56e-231f-497f-84bd-238516b3af24",
        "colab": {
          "base_uri": "https://localhost:8080/"
        }
      },
      "outputs": [
        {
          "output_type": "stream",
          "name": "stderr",
          "text": [
            "/usr/local/lib/python3.7/dist-packages/sklearn/impute/_iterative.py:701: ConvergenceWarning: [IterativeImputer] Early stopping criterion not reached.\n",
            "  ConvergenceWarning,\n"
          ]
        }
      ],
      "source": [
        "# Imputamos valores nulos de todas las columnas bajo el criterio del vecino más cercano\n",
        "cols = ['ndvi_max', 'B02_median', 'B06_median', 'B11_median', 'B02_summer', 'B02_autumn', 'B02_winter', 'B02_spring', 'B06_summer', 'B06_autumn', 'B06_winter', \n",
        "                'B06_spring', 'B11_summer', 'B11_autumn', 'B11_winter', 'B11_spring']\n",
        "df_interest_D3 = df_interest_D2_spring.copy()\n",
        "\n",
        "kn_imputer = IterativeImputer(random_state=0, estimator=KNeighborsRegressor())\n",
        "df_interest_D3[cols] = kn_imputer.fit_transform(df_interest_D3[cols])\n",
        "\n",
        "# Podemos graficar como quedaron todas las columnas imputadas pero hay que tener en cuenta que tarda en correr\n",
        "# msno.bar(df_interest_D3,figsize=(14, 6), sort=\"ascending\",fontsize=12, color='lightblue')"
      ]
    },
    {
      "cell_type": "code",
      "source": [
        "df_imp_ndvi = df_interest_D3.ndvi_max.to_frame()\n",
        "df_imp_ndvi['Imputation'] = 'KNN over ndvi_max'\n",
        "df_ndvi = df_interest_D2_spring.ndvi_max.dropna().to_frame()\n",
        "df_ndvi['Imputation'] = 'Original'\n",
        "data = pd.concat([df_imp_ndvi, df_ndvi], ignore_index=True)\n",
        "fig = plt.figure(figsize=(8, 5))\n",
        "g = sns.kdeplot(data=data, x='ndvi_max', hue='Imputation')"
      ],
      "metadata": {
        "colab": {
          "base_uri": "https://localhost:8080/",
          "height": 355
        },
        "id": "vPImYf0QtDmF",
        "outputId": "4ac57540-d0dd-415a-beb5-482063e8eb7f"
      },
      "id": "vPImYf0QtDmF",
      "execution_count": 84,
      "outputs": [
        {
          "output_type": "display_data",
          "data": {
            "text/plain": [
              "<Figure size 576x360 with 1 Axes>"
            ],
            "image/png": "[encoded data removed]"
          },
          "metadata": {
            "needs_background": "light"
          }
        }
      ]
    },
    {
      "cell_type": "markdown",
      "id": "7f009705",
      "metadata": {
        "id": "7f009705"
      },
      "source": [
        "- Filtrar por nubosidad:\n",
        "    - < 40%"
      ]
    },
    {
      "cell_type": "code",
      "execution_count": 38,
      "id": "529c0a1f",
      "metadata": {
        "id": "529c0a1f",
        "outputId": "73086c26-6afb-4167-e250-d2b78d461b91",
        "colab": {
          "base_uri": "https://localhost:8080/"
        }
      },
      "outputs": [
        {
          "output_type": "stream",
          "name": "stdout",
          "text": [
            "117969\n"
          ]
        }
      ],
      "source": [
        "# Filtramos por nubosidad < 40%\n",
        "df_interest_D4 = df_interest_D3[df_interest_D3['clouds_on_raster']<0.4]\n",
        "print(len(df_interest_D4))"
      ]
    },
    {
      "cell_type": "markdown",
      "id": "3b3e428b",
      "metadata": {
        "id": "3b3e428b"
      },
      "source": [
        "- __NORMALIZACION__"
      ]
    },
    {
      "cell_type": "code",
      "execution_count": 39,
      "id": "b8b66ef1",
      "metadata": {
        "scrolled": false,
        "id": "b8b66ef1",
        "outputId": "2350d425-e65e-4d35-f813-7aac16c5f83e",
        "colab": {
          "base_uri": "https://localhost:8080/",
          "height": 753
        }
      },
      "outputs": [
        {
          "output_type": "stream",
          "name": "stderr",
          "text": [
            "/usr/local/lib/python3.7/dist-packages/pandas/core/indexing.py:1835: SettingWithCopyWarning: \n",
            "A value is trying to be set on a copy of a slice from a DataFrame.\n",
            "Try using .loc[row_indexer,col_indexer] = value instead\n",
            "\n",
            "See the caveats in the documentation: https://pandas.pydata.org/pandas-docs/stable/user_guide/indexing.html#returning-a-view-versus-a-copy\n",
            "  self._setitem_single_column(loc, value[:, i].tolist(), pi)\n"
          ]
        },
        {
          "output_type": "execute_result",
          "data": {
            "text/plain": [
              "        B02_median  B06_median  B11_median     osm_id       date  ndvi_max  \\\n",
              "0         0.132107    0.473099    0.400782  605976736 2017-01-03  0.590913   \n",
              "1         0.187586    0.686541    0.574185  559322368 2017-01-03  0.589940   \n",
              "2         0.222192    0.672076    0.553846  559322369 2017-01-03  0.580665   \n",
              "3         0.225762    0.804375    0.606910  559328111 2017-01-03  0.636115   \n",
              "4         0.274375    0.810019    0.666232  559328112 2017-01-03  0.577276   \n",
              "...            ...         ...         ...        ...        ...       ...   \n",
              "208927    0.221093    0.494620    0.405476  307532496 2022-04-17  0.513365   \n",
              "208928    0.352650    0.611572    0.623598  307535460 2022-04-17  0.428595   \n",
              "208929    0.185663    0.561827    0.491004  307796387 2022-04-17  0.516332   \n",
              "208930    0.292502    0.507321    0.574967  307097955 2022-04-17  0.479094   \n",
              "208931    0.161219    0.443817    0.426076  901791744 2022-04-17  0.596842   \n",
              "\n",
              "            area_m2                                             raster  \\\n",
              "0       4650.710032  S2A_MSIL1C_20170103T142022_N0204_R010_T20JLL_2...   \n",
              "1       1502.000513  S2A_MSIL1C_20170103T142022_N0204_R010_T20JLL_2...   \n",
              "2       2004.192528  S2A_MSIL1C_20170103T142022_N0204_R010_T20JLL_2...   \n",
              "3       6940.507640  S2A_MSIL1C_20170103T142022_N0204_R010_T20JLL_2...   \n",
              "4       4587.356048  S2A_MSIL1C_20170103T142022_N0204_R010_T20JLL_2...   \n",
              "...             ...                                                ...   \n",
              "208927  3824.467794  S2A_MSIL1C_20220417T141741_N0400_R010_T20JLL_2...   \n",
              "208928  7184.535857  S2A_MSIL1C_20220417T141741_N0400_R010_T20JLL_2...   \n",
              "208929  1147.997645  S2A_MSIL1C_20220417T141741_N0400_R010_T20JLL_2...   \n",
              "208930  5185.690046  S2A_MSIL1C_20220417T141741_N0400_R010_T20JLL_2...   \n",
              "208931  9394.381202  S2A_MSIL1C_20220417T141741_N0400_R010_T20JLL_2...   \n",
              "\n",
              "        clouds_on_raster  month  ... outl_B02_winter  outl_B02_spring  \\\n",
              "0                    0.0      1  ...               0                0   \n",
              "1                    0.0      1  ...               0                0   \n",
              "2                    0.0      1  ...               0                0   \n",
              "3                    0.0      1  ...               0                0   \n",
              "4                    0.0      1  ...               0                0   \n",
              "...                  ...    ...  ...             ...              ...   \n",
              "208927               0.0      4  ...               0                0   \n",
              "208928               0.0      4  ...               0                0   \n",
              "208929               0.0      4  ...               0                0   \n",
              "208930               0.0      4  ...               0                0   \n",
              "208931               0.0      4  ...               0                0   \n",
              "\n",
              "        outl_B06_summer  outl_B06_autumn  outl_B06_winter  outl_B06_spring  \\\n",
              "0                     0                0                0                0   \n",
              "1                     0                0                0                0   \n",
              "2                     0                0                0                0   \n",
              "3                     1                0                0                0   \n",
              "4                     1                0                0                0   \n",
              "...                 ...              ...              ...              ...   \n",
              "208927                0                0                0                0   \n",
              "208928                0                0                0                0   \n",
              "208929                0                0                0                0   \n",
              "208930                0                0                0                0   \n",
              "208931                0                0                0                0   \n",
              "\n",
              "        outl_B11_summer  outl_B11_autumn  outl_B11_winter  outl_B11_spring  \n",
              "0                     0                0                0                0  \n",
              "1                     0                0                0                0  \n",
              "2                     0                0                0                0  \n",
              "3                     0                0                0                0  \n",
              "4                     1                0                0                0  \n",
              "...                 ...              ...              ...              ...  \n",
              "208927                0                0                0                0  \n",
              "208928                0                0                0                0  \n",
              "208929                0                0                0                0  \n",
              "208930                0                0                0                0  \n",
              "208931                0                0                0                0  \n",
              "\n",
              "[117969 rows x 35 columns]"
            ],
            "text/html": [
              "\n",
              "  <div id=\"df-42ee777d-6004-4146-87cf-b0b2c673bb1e\">\n",
              "    <div class=\"colab-df-container\">\n",
              "      <div>\n",
              "<style scoped>\n",
              "    .dataframe tbody tr th:only-of-type {\n",
              "        vertical-align: middle;\n",
              "    }\n",
              "\n",
              "    .dataframe tbody tr th {\n",
              "        vertical-align: top;\n",
              "    }\n",
              "\n",
              "    .dataframe thead th {\n",
              "        text-align: right;\n",
              "    }\n",
              "</style>\n",
              "<table border=\"1\" class=\"dataframe\">\n",
              "  <thead>\n",
              "    <tr style=\"text-align: right;\">\n",
              "      <th></th>\n",
              "      <th>B02_median</th>\n",
              "      <th>B06_median</th>\n",
              "      <th>B11_median</th>\n",
              "      <th>osm_id</th>\n",
              "      <th>date</th>\n",
              "      <th>ndvi_max</th>\n",
              "      <th>area_m2</th>\n",
              "      <th>raster</th>\n",
              "      <th>clouds_on_raster</th>\n",
              "      <th>month</th>\n",
              "      <th>...</th>\n",
              "      <th>outl_B02_winter</th>\n",
              "      <th>outl_B02_spring</th>\n",
              "      <th>outl_B06_summer</th>\n",
              "      <th>outl_B06_autumn</th>\n",
              "      <th>outl_B06_winter</th>\n",
              "      <th>outl_B06_spring</th>\n",
              "      <th>outl_B11_summer</th>\n",
              "      <th>outl_B11_autumn</th>\n",
              "      <th>outl_B11_winter</th>\n",
              "      <th>outl_B11_spring</th>\n",
              "    </tr>\n",
              "  </thead>\n",
              "  <tbody>\n",
              "    <tr>\n",
              "      <th>0</th>\n",
              "      <td>0.132107</td>\n",
              "      <td>0.473099</td>\n",
              "      <td>0.400782</td>\n",
              "      <td>605976736</td>\n",
              "      <td>2017-01-03</td>\n",
              "      <td>0.590913</td>\n",
              "      <td>4650.710032</td>\n",
              "      <td>S2A_MSIL1C_20170103T142022_N0204_R010_T20JLL_2...</td>\n",
              "      <td>0.0</td>\n",
              "      <td>1</td>\n",
              "      <td>...</td>\n",
              "      <td>0</td>\n",
              "      <td>0</td>\n",
              "      <td>0</td>\n",
              "      <td>0</td>\n",
              "      <td>0</td>\n",
              "      <td>0</td>\n",
              "      <td>0</td>\n",
              "      <td>0</td>\n",
              "      <td>0</td>\n",
              "      <td>0</td>\n",
              "    </tr>\n",
              "    <tr>\n",
              "      <th>1</th>\n",
              "      <td>0.187586</td>\n",
              "      <td>0.686541</td>\n",
              "      <td>0.574185</td>\n",
              "      <td>559322368</td>\n",
              "      <td>2017-01-03</td>\n",
              "      <td>0.589940</td>\n",
              "      <td>1502.000513</td>\n",
              "      <td>S2A_MSIL1C_20170103T142022_N0204_R010_T20JLL_2...</td>\n",
              "      <td>0.0</td>\n",
              "      <td>1</td>\n",
              "      <td>...</td>\n",
              "      <td>0</td>\n",
              "      <td>0</td>\n",
              "      <td>0</td>\n",
              "      <td>0</td>\n",
              "      <td>0</td>\n",
              "      <td>0</td>\n",
              "      <td>0</td>\n",
              "      <td>0</td>\n",
              "      <td>0</td>\n",
              "      <td>0</td>\n",
              "    </tr>\n",
              "    <tr>\n",
              "      <th>2</th>\n",
              "      <td>0.222192</td>\n",
              "      <td>0.672076</td>\n",
              "      <td>0.553846</td>\n",
              "      <td>559322369</td>\n",
              "      <td>2017-01-03</td>\n",
              "      <td>0.580665</td>\n",
              "      <td>2004.192528</td>\n",
              "      <td>S2A_MSIL1C_20170103T142022_N0204_R010_T20JLL_2...</td>\n",
              "      <td>0.0</td>\n",
              "      <td>1</td>\n",
              "      <td>...</td>\n",
              "      <td>0</td>\n",
              "      <td>0</td>\n",
              "      <td>0</td>\n",
              "      <td>0</td>\n",
              "      <td>0</td>\n",
              "      <td>0</td>\n",
              "      <td>0</td>\n",
              "      <td>0</td>\n",
              "      <td>0</td>\n",
              "      <td>0</td>\n",
              "    </tr>\n",
              "    <tr>\n",
              "      <th>3</th>\n",
              "      <td>0.225762</td>\n",
              "      <td>0.804375</td>\n",
              "      <td>0.606910</td>\n",
              "      <td>559328111</td>\n",
              "      <td>2017-01-03</td>\n",
              "      <td>0.636115</td>\n",
              "      <td>6940.507640</td>\n",
              "      <td>S2A_MSIL1C_20170103T142022_N0204_R010_T20JLL_2...</td>\n",
              "      <td>0.0</td>\n",
              "      <td>1</td>\n",
              "      <td>...</td>\n",
              "      <td>0</td>\n",
              "      <td>0</td>\n",
              "      <td>1</td>\n",
              "      <td>0</td>\n",
              "      <td>0</td>\n",
              "      <td>0</td>\n",
              "      <td>0</td>\n",
              "      <td>0</td>\n",
              "      <td>0</td>\n",
              "      <td>0</td>\n",
              "    </tr>\n",
              "    <tr>\n",
              "      <th>4</th>\n",
              "      <td>0.274375</td>\n",
              "      <td>0.810019</td>\n",
              "      <td>0.666232</td>\n",
              "      <td>559328112</td>\n",
              "      <td>2017-01-03</td>\n",
              "      <td>0.577276</td>\n",
              "      <td>4587.356048</td>\n",
              "      <td>S2A_MSIL1C_20170103T142022_N0204_R010_T20JLL_2...</td>\n",
              "      <td>0.0</td>\n",
              "      <td>1</td>\n",
              "      <td>...</td>\n",
              "      <td>0</td>\n",
              "      <td>0</td>\n",
              "      <td>1</td>\n",
              "      <td>0</td>\n",
              "      <td>0</td>\n",
              "      <td>0</td>\n",
              "      <td>1</td>\n",
              "      <td>0</td>\n",
              "      <td>0</td>\n",
              "      <td>0</td>\n",
              "    </tr>\n",
              "    <tr>\n",
              "      <th>...</th>\n",
              "      <td>...</td>\n",
              "      <td>...</td>\n",
              "      <td>...</td>\n",
              "      <td>...</td>\n",
              "      <td>...</td>\n",
              "      <td>...</td>\n",
              "      <td>...</td>\n",
              "      <td>...</td>\n",
              "      <td>...</td>\n",
              "      <td>...</td>\n",
              "      <td>...</td>\n",
              "      <td>...</td>\n",
              "      <td>...</td>\n",
              "      <td>...</td>\n",
              "      <td>...</td>\n",
              "      <td>...</td>\n",
              "      <td>...</td>\n",
              "      <td>...</td>\n",
              "      <td>...</td>\n",
              "      <td>...</td>\n",
              "      <td>...</td>\n",
              "    </tr>\n",
              "    <tr>\n",
              "      <th>208927</th>\n",
              "      <td>0.221093</td>\n",
              "      <td>0.494620</td>\n",
              "      <td>0.405476</td>\n",
              "      <td>307532496</td>\n",
              "      <td>2022-04-17</td>\n",
              "      <td>0.513365</td>\n",
              "      <td>3824.467794</td>\n",
              "      <td>S2A_MSIL1C_20220417T141741_N0400_R010_T20JLL_2...</td>\n",
              "      <td>0.0</td>\n",
              "      <td>4</td>\n",
              "      <td>...</td>\n",
              "      <td>0</td>\n",
              "      <td>0</td>\n",
              "      <td>0</td>\n",
              "      <td>0</td>\n",
              "      <td>0</td>\n",
              "      <td>0</td>\n",
              "      <td>0</td>\n",
              "      <td>0</td>\n",
              "      <td>0</td>\n",
              "      <td>0</td>\n",
              "    </tr>\n",
              "    <tr>\n",
              "      <th>208928</th>\n",
              "      <td>0.352650</td>\n",
              "      <td>0.611572</td>\n",
              "      <td>0.623598</td>\n",
              "      <td>307535460</td>\n",
              "      <td>2022-04-17</td>\n",
              "      <td>0.428595</td>\n",
              "      <td>7184.535857</td>\n",
              "      <td>S2A_MSIL1C_20220417T141741_N0400_R010_T20JLL_2...</td>\n",
              "      <td>0.0</td>\n",
              "      <td>4</td>\n",
              "      <td>...</td>\n",
              "      <td>0</td>\n",
              "      <td>0</td>\n",
              "      <td>0</td>\n",
              "      <td>0</td>\n",
              "      <td>0</td>\n",
              "      <td>0</td>\n",
              "      <td>0</td>\n",
              "      <td>0</td>\n",
              "      <td>0</td>\n",
              "      <td>0</td>\n",
              "    </tr>\n",
              "    <tr>\n",
              "      <th>208929</th>\n",
              "      <td>0.185663</td>\n",
              "      <td>0.561827</td>\n",
              "      <td>0.491004</td>\n",
              "      <td>307796387</td>\n",
              "      <td>2022-04-17</td>\n",
              "      <td>0.516332</td>\n",
              "      <td>1147.997645</td>\n",
              "      <td>S2A_MSIL1C_20220417T141741_N0400_R010_T20JLL_2...</td>\n",
              "      <td>0.0</td>\n",
              "      <td>4</td>\n",
              "      <td>...</td>\n",
              "      <td>0</td>\n",
              "      <td>0</td>\n",
              "      <td>0</td>\n",
              "      <td>0</td>\n",
              "      <td>0</td>\n",
              "      <td>0</td>\n",
              "      <td>0</td>\n",
              "      <td>0</td>\n",
              "      <td>0</td>\n",
              "      <td>0</td>\n",
              "    </tr>\n",
              "    <tr>\n",
              "      <th>208930</th>\n",
              "      <td>0.292502</td>\n",
              "      <td>0.507321</td>\n",
              "      <td>0.574967</td>\n",
              "      <td>307097955</td>\n",
              "      <td>2022-04-17</td>\n",
              "      <td>0.479094</td>\n",
              "      <td>5185.690046</td>\n",
              "      <td>S2A_MSIL1C_20220417T141741_N0400_R010_T20JLL_2...</td>\n",
              "      <td>0.0</td>\n",
              "      <td>4</td>\n",
              "      <td>...</td>\n",
              "      <td>0</td>\n",
              "      <td>0</td>\n",
              "      <td>0</td>\n",
              "      <td>0</td>\n",
              "      <td>0</td>\n",
              "      <td>0</td>\n",
              "      <td>0</td>\n",
              "      <td>0</td>\n",
              "      <td>0</td>\n",
              "      <td>0</td>\n",
              "    </tr>\n",
              "    <tr>\n",
              "      <th>208931</th>\n",
              "      <td>0.161219</td>\n",
              "      <td>0.443817</td>\n",
              "      <td>0.426076</td>\n",
              "      <td>901791744</td>\n",
              "      <td>2022-04-17</td>\n",
              "      <td>0.596842</td>\n",
              "      <td>9394.381202</td>\n",
              "      <td>S2A_MSIL1C_20220417T141741_N0400_R010_T20JLL_2...</td>\n",
              "      <td>0.0</td>\n",
              "      <td>4</td>\n",
              "      <td>...</td>\n",
              "      <td>0</td>\n",
              "      <td>0</td>\n",
              "      <td>0</td>\n",
              "      <td>0</td>\n",
              "      <td>0</td>\n",
              "      <td>0</td>\n",
              "      <td>0</td>\n",
              "      <td>0</td>\n",
              "      <td>0</td>\n",
              "      <td>0</td>\n",
              "    </tr>\n",
              "  </tbody>\n",
              "</table>\n",
              "<p>117969 rows × 35 columns</p>\n",
              "</div>\n",
              "      <button class=\"colab-df-convert\" onclick=\"convertToInteractive('df-42ee777d-6004-4146-87cf-b0b2c673bb1e')\"\n",
              "              title=\"Convert this dataframe to an interactive table.\"\n",
              "              style=\"display:none;\">\n",
              "        \n",
              "  <svg xmlns=\"http://www.w3.org/2000/svg\" height=\"24px\"viewBox=\"0 0 24 24\"\n",
              "       width=\"24px\">\n",
              "    <path d=\"M0 0h24v24H0V0z\" fill=\"none\"/>\n",
              "    <path d=\"M18.56 5.44l.94 2.06.94-2.06 2.06-.94-2.06-.94-.94-2.06-.94 2.06-2.06.94zm-11 1L8.5 8.5l.94-2.06 2.06-.94-2.06-.94L8.5 2.5l-.94 2.06-2.06.94zm10 10l.94 2.06.94-2.06 2.06-.94-2.06-.94-.94-2.06-.94 2.06-2.06.94z\"/><path d=\"M17.41 7.96l-1.37-1.37c-.4-.4-.92-.59-1.43-.59-.52 0-1.04.2-1.43.59L10.3 9.45l-7.72 7.72c-.78.78-.78 2.05 0 2.83L4 21.41c.39.39.9.59 1.41.59.51 0 1.02-.2 1.41-.59l7.78-7.78 2.81-2.81c.8-.78.8-2.07 0-2.86zM5.41 20L4 18.59l7.72-7.72 1.47 1.35L5.41 20z\"/>\n",
              "  </svg>\n",
              "      </button>\n",
              "      \n",
              "  <style>\n",
              "    .colab-df-container {\n",
              "      display:flex;\n",
              "      flex-wrap:wrap;\n",
              "      gap: 12px;\n",
              "    }\n",
              "\n",
              "    .colab-df-convert {\n",
              "      background-color: #E8F0FE;\n",
              "      border: none;\n",
              "      border-radius: 50%;\n",
              "      cursor: pointer;\n",
              "      display: none;\n",
              "      fill: #1967D2;\n",
              "      height: 32px;\n",
              "      padding: 0 0 0 0;\n",
              "      width: 32px;\n",
              "    }\n",
              "\n",
              "    .colab-df-convert:hover {\n",
              "      background-color: #E2EBFA;\n",
              "      box-shadow: 0px 1px 2px rgba(60, 64, 67, 0.3), 0px 1px 3px 1px rgba(60, 64, 67, 0.15);\n",
              "      fill: #174EA6;\n",
              "    }\n",
              "\n",
              "    [theme=dark] .colab-df-convert {\n",
              "      background-color: #3B4455;\n",
              "      fill: #D2E3FC;\n",
              "    }\n",
              "\n",
              "    [theme=dark] .colab-df-convert:hover {\n",
              "      background-color: #434B5C;\n",
              "      box-shadow: 0px 1px 3px 1px rgba(0, 0, 0, 0.15);\n",
              "      filter: drop-shadow(0px 1px 2px rgba(0, 0, 0, 0.3));\n",
              "      fill: #FFFFFF;\n",
              "    }\n",
              "  </style>\n",
              "\n",
              "      <script>\n",
              "        const buttonEl =\n",
              "          document.querySelector('#df-42ee777d-6004-4146-87cf-b0b2c673bb1e button.colab-df-convert');\n",
              "        buttonEl.style.display =\n",
              "          google.colab.kernel.accessAllowed ? 'block' : 'none';\n",
              "\n",
              "        async function convertToInteractive(key) {\n",
              "          const element = document.querySelector('#df-42ee777d-6004-4146-87cf-b0b2c673bb1e');\n",
              "          const dataTable =\n",
              "            await google.colab.kernel.invokeFunction('convertToInteractive',\n",
              "                                                     [key], {});\n",
              "          if (!dataTable) return;\n",
              "\n",
              "          const docLinkHtml = 'Like what you see? Visit the ' +\n",
              "            '<a target=\"_blank\" href=https://colab.research.google.com/notebooks/data_table.ipynb>data table notebook</a>'\n",
              "            + ' to learn more about interactive tables.';\n",
              "          element.innerHTML = '';\n",
              "          dataTable['output_type'] = 'display_data';\n",
              "          await google.colab.output.renderOutput(dataTable, element);\n",
              "          const docLink = document.createElement('div');\n",
              "          docLink.innerHTML = docLinkHtml;\n",
              "          element.appendChild(docLink);\n",
              "        }\n",
              "      </script>\n",
              "    </div>\n",
              "  </div>\n",
              "  "
            ]
          },
          "metadata": {},
          "execution_count": 39
        }
      ],
      "source": [
        "# Aplicamos a todas las columnas una estandarización de tipo Min Max Scaler. Este transforma las características \n",
        "# escalándolas a un rango dado, por defecto (0,1). Este tipo de escalado suele denominarse frecuentemente \"normalización\"\n",
        "\n",
        "from sklearn.preprocessing import MinMaxScaler\n",
        "estandarizador = MinMaxScaler()\n",
        "estandarizador.fit(df_interest_D4[cols])\n",
        "df_interest_D4.loc[:, cols] = estandarizador.transform(df_interest_D4[cols])\n",
        "df_interest_D4"
      ]
    },
    {
      "cell_type": "markdown",
      "id": "fe73c2f8",
      "metadata": {
        "id": "fe73c2f8"
      },
      "source": [
        "- Grabar los datos transformados"
      ]
    },
    {
      "cell_type": "code",
      "execution_count": 43,
      "id": "5b68b43c",
      "metadata": {
        "id": "5b68b43c"
      },
      "outputs": [],
      "source": [
        "# Aquí está faltando el paso de grabar los resultados"
      ]
    },
    {
      "cell_type": "markdown",
      "id": "b6c1a19f",
      "metadata": {
        "id": "b6c1a19f"
      },
      "source": [
        "## Sugerencia\n",
        "\n",
        "Considere cada paso de la receta como una función. Es decir al finalizar una receta tendra tantas funciones como pasos. Esto le va a permitir reordenar y reutilizar las mismas sin necesidad de reescribir ningun codigo extra. Esto le sera particularmente util para una de las preguntas de la siguiente sección.\n",
        "\n",
        "\n",
        "## Recetas + Comparativa\n",
        "\n",
        "Una vez generadas las recetas se debera generar una suerte de tabla comparativa entre las mismas, poniendo de relevancia la cantidad de datos desechados/recuperados en cada instancia. _Note que todos las recetas tienen un mismo eje_.\n",
        "\n",
        "¿Cual es su percepcion de como resultaran cada una de las recetas en un algoritmo de aprendizaje?\n",
        "\n",
        "¿Que pasa si en la receta [C] o [D] primero filtra por nubosidad y despues remueve outliers? Considere esto como variante y definalo como [C-1] y [C-2] ([D-1]/[D-2])."
      ]
    },
    {
      "cell_type": "code",
      "execution_count": 41,
      "id": "92b32326",
      "metadata": {
        "id": "92b32326"
      },
      "outputs": [],
      "source": [
        "# Tabla comparativa\n",
        "\n",
        "# Percepción de como resultaran cada una de las recetas en un algoritmo de aprendizaje\n",
        "\n",
        "# Respuesta a ¿Qué pasa si en la receta [C] o [D] primero filtra por nubosidad y después remueve outliers?"
      ]
    },
    {
      "cell_type": "markdown",
      "id": "f7324639",
      "metadata": {
        "id": "f7324639"
      },
      "source": [
        "## __Extra__\n",
        "\n",
        "Generar alguna receta alternativa, basada en las propuestas mencionadas (o alguna completamente diferente :-) )."
      ]
    },
    {
      "cell_type": "markdown",
      "source": [
        "### Receta [Extra] = Normalizacion + Filtrado Por  10% de Nubosidad + Imputacion Estacional"
      ],
      "metadata": {
        "id": "O9Z0FwVF1_cM"
      },
      "id": "O9Z0FwVF1_cM"
    },
    {
      "cell_type": "markdown",
      "source": [
        "#CONSULTA\n",
        "##CONSULTAR SI CONVIENE HACER ANTES DE LA IMPUTACIÓN EL FILTRADO POR NUBOSIDAD O DESPUÉS. \n",
        "## LOS DOS CASOS ESTAN HECHOS"
      ],
      "metadata": {
        "id": "v-5JrIl00-ik"
      },
      "id": "v-5JrIl00-ik"
    },
    {
      "cell_type": "markdown",
      "source": [
        "##1- Descarga del dataset"
      ],
      "metadata": {
        "id": "_fODGgR14TnS"
      },
      "id": "_fODGgR14TnS"
    },
    {
      "cell_type": "code",
      "execution_count": 40,
      "id": "0a543c19-bc55-4bc3-a241-2a2395cae3cf",
      "metadata": {
        "id": "0a543c19-bc55-4bc3-a241-2a2395cae3cf",
        "colab": {
          "base_uri": "https://localhost:8080/"
        },
        "outputId": "b28e8ae9-8f9a-44f5-aa52-69a7133d7053"
      },
      "outputs": [
        {
          "output_type": "stream",
          "name": "stdout",
          "text": [
            "Running on CoLab\n",
            "Downloading...\n",
            "From: https://drive.google.com/uc?id=1tgbIQaEXzIghcFYyd2YM9iMho4TDHHFd\n",
            "To: /content/espacios-verdes-indexs-cba-20170101-20220420.zip\n",
            "100% 170M/170M [00:03<00:00, 47.9MB/s]\n"
          ]
        }
      ],
      "source": [
        "import pandas as pd  \n",
        "\n",
        "if 'google.colab' in str(get_ipython()):\n",
        "    print('Running on CoLab')\n",
        "    # running on colab\n",
        "    # from link @ https://github.com/felixlapalma/monitoreo-espacios-verdes-diplo202X/blob/main/data/ab-initio-dataset-build.md\n",
        "    !gdown https://drive.google.com/file/d/1tgbIQaEXzIghcFYyd2YM9iMho4TDHHFd/view?usp=sharing --fuzzy\n",
        "    # Notar el cambio del path y el tipo de archivo (no lo descomprimimos)\n",
        "    df_=pd.read_csv('/content/espacios-verdes-indexs-cba-20170101-20220420.zip',index_col=0)\n",
        "else:\n",
        "    # recuerde descargar el dataset desde los links mencionados en el README\n",
        "    df_=pd.read_csv('../data/cba/espacios-verdes-indexs-cba-20170101-20220420.csv',index_col=0)"
      ]
    },
    {
      "cell_type": "markdown",
      "source": [
        "##2- Obtención del dataframe"
      ],
      "metadata": {
        "id": "OoJiFlE14hGC"
      },
      "id": "OoJiFlE14hGC"
    },
    {
      "cell_type": "code",
      "source": [
        "df_=pd.read_csv(\"/content/espacios-verdes-indexs-cba-20170101-20220420.zip\", index_col=0)\n",
        "df_"
      ],
      "metadata": {
        "colab": {
          "base_uri": "https://localhost:8080/",
          "height": 661
        },
        "id": "oj1vQFifx1HA",
        "outputId": "de3e3b4d-0db5-4634-8a65-b1fd91546807"
      },
      "id": "oj1vQFifx1HA",
      "execution_count": 49,
      "outputs": [
        {
          "output_type": "execute_result",
          "data": {
            "text/plain": [
              "        B02_min  B02_max  B02_mean  B02_median  B02_nodata  B02_range  \\\n",
              "0        0.0871   0.1421  0.102570     0.09650         0.0     0.0550   \n",
              "1        0.0970   0.1936  0.118354     0.10660         0.0     0.0966   \n",
              "2        0.0992   0.1273  0.111805     0.11290         0.0     0.0281   \n",
              "3        0.0995   0.1933  0.118491     0.11355         0.0     0.0938   \n",
              "4        0.1059   0.1385  0.122453     0.12240         0.0     0.0326   \n",
              "...         ...      ...       ...         ...         ...        ...   \n",
              "208927   0.0990   0.1684  0.115990     0.11270         0.0     0.0694   \n",
              "208928   0.1145   0.3240  0.149746     0.13665         0.0     0.2095   \n",
              "208929   0.0993   0.1388  0.110870     0.10625         0.0     0.0395   \n",
              "208930   0.0991   0.1407  0.124008     0.12570         0.0     0.0416   \n",
              "208931   0.0874   0.1347  0.104697     0.10180         0.0     0.0473   \n",
              "\n",
              "        B02_count  B03_min  B03_max  B03_mean  ...  sipi_median  sipi_nodata  \\\n",
              "0              47   0.0768   0.1516  0.098885  ...     0.884216          0.0   \n",
              "1              13   0.1006   0.1949  0.122154  ...     0.971875          0.0   \n",
              "2              19   0.1037   0.1369  0.117795  ...     0.973017          0.0   \n",
              "3              66   0.0993   0.1990  0.124512  ...     0.966202          0.0   \n",
              "4              47   0.1036   0.1580  0.132455  ...     0.993986          0.0   \n",
              "...           ...      ...      ...       ...  ...          ...          ...   \n",
              "208927         31   0.0862   0.1627  0.107387  ...     0.892669          0.0   \n",
              "208928         80   0.0977   0.3363  0.149332  ...     1.084102          0.0   \n",
              "208929         10   0.0930   0.1473  0.106160  ...     0.914887          0.0   \n",
              "208930         53   0.0852   0.1377  0.118574  ...     0.991200          0.0   \n",
              "208931         95   0.0707   0.1321  0.095941  ...     0.889747          0.0   \n",
              "\n",
              "        sipi_range  sipi_count  \\\n",
              "0         0.453065          47   \n",
              "1         0.247045          13   \n",
              "2         0.207006          19   \n",
              "3         0.258424          66   \n",
              "4         0.260419          47   \n",
              "...            ...         ...   \n",
              "208927    0.545993          31   \n",
              "208928    2.805242          80   \n",
              "208929    0.199024          10   \n",
              "208930    0.299910          53   \n",
              "208931    0.456241          95   \n",
              "\n",
              "                                                   raster  clouds_on_raster  \\\n",
              "0       S2A_MSIL1C_20170103T142022_N0204_R010_T20JLL_2...               0.0   \n",
              "1       S2A_MSIL1C_20170103T142022_N0204_R010_T20JLL_2...               0.0   \n",
              "2       S2A_MSIL1C_20170103T142022_N0204_R010_T20JLL_2...               0.0   \n",
              "3       S2A_MSIL1C_20170103T142022_N0204_R010_T20JLL_2...               0.0   \n",
              "4       S2A_MSIL1C_20170103T142022_N0204_R010_T20JLL_2...               0.0   \n",
              "...                                                   ...               ...   \n",
              "208927  S2A_MSIL1C_20220417T141741_N0400_R010_T20JLL_2...               0.0   \n",
              "208928  S2A_MSIL1C_20220417T141741_N0400_R010_T20JLL_2...               0.0   \n",
              "208929  S2A_MSIL1C_20220417T141741_N0400_R010_T20JLL_2...               0.0   \n",
              "208930  S2A_MSIL1C_20220417T141741_N0400_R010_T20JLL_2...               0.0   \n",
              "208931  S2A_MSIL1C_20220417T141741_N0400_R010_T20JLL_2...               0.0   \n",
              "\n",
              "           osm_id                name      area_m2        date  \n",
              "0       605976736                 NaN  4650.710032  2017-01-03  \n",
              "1       559322368                 NaN  1502.000513  2017-01-03  \n",
              "2       559322369                 NaN  2004.192528  2017-01-03  \n",
              "3       559328111                 NaN  6940.507640  2017-01-03  \n",
              "4       559328112                 NaN  4587.356048  2017-01-03  \n",
              "...           ...                 ...          ...         ...  \n",
              "208927  307532496                 NaN  3824.467794  2022-04-17  \n",
              "208928  307535460  Plaza Exodo Jujeño  7184.535857  2022-04-17  \n",
              "208929  307796387                 NaN  1147.997645  2022-04-17  \n",
              "208930  307097955                 NaN  5185.690046  2022-04-17  \n",
              "208931  901791744                 NaN  9394.381202  2022-04-17  \n",
              "\n",
              "[208932 rows x 167 columns]"
            ],
            "text/html": [
              "\n",
              "  <div id=\"df-e7cc1fd7-3c0a-4d1d-81e9-5dca0c260862\">\n",
              "    <div class=\"colab-df-container\">\n",
              "      <div>\n",
              "<style scoped>\n",
              "    .dataframe tbody tr th:only-of-type {\n",
              "        vertical-align: middle;\n",
              "    }\n",
              "\n",
              "    .dataframe tbody tr th {\n",
              "        vertical-align: top;\n",
              "    }\n",
              "\n",
              "    .dataframe thead th {\n",
              "        text-align: right;\n",
              "    }\n",
              "</style>\n",
              "<table border=\"1\" class=\"dataframe\">\n",
              "  <thead>\n",
              "    <tr style=\"text-align: right;\">\n",
              "      <th></th>\n",
              "      <th>B02_min</th>\n",
              "      <th>B02_max</th>\n",
              "      <th>B02_mean</th>\n",
              "      <th>B02_median</th>\n",
              "      <th>B02_nodata</th>\n",
              "      <th>B02_range</th>\n",
              "      <th>B02_count</th>\n",
              "      <th>B03_min</th>\n",
              "      <th>B03_max</th>\n",
              "      <th>B03_mean</th>\n",
              "      <th>...</th>\n",
              "      <th>sipi_median</th>\n",
              "      <th>sipi_nodata</th>\n",
              "      <th>sipi_range</th>\n",
              "      <th>sipi_count</th>\n",
              "      <th>raster</th>\n",
              "      <th>clouds_on_raster</th>\n",
              "      <th>osm_id</th>\n",
              "      <th>name</th>\n",
              "      <th>area_m2</th>\n",
              "      <th>date</th>\n",
              "    </tr>\n",
              "  </thead>\n",
              "  <tbody>\n",
              "    <tr>\n",
              "      <th>0</th>\n",
              "      <td>0.0871</td>\n",
              "      <td>0.1421</td>\n",
              "      <td>0.102570</td>\n",
              "      <td>0.09650</td>\n",
              "      <td>0.0</td>\n",
              "      <td>0.0550</td>\n",
              "      <td>47</td>\n",
              "      <td>0.0768</td>\n",
              "      <td>0.1516</td>\n",
              "      <td>0.098885</td>\n",
              "      <td>...</td>\n",
              "      <td>0.884216</td>\n",
              "      <td>0.0</td>\n",
              "      <td>0.453065</td>\n",
              "      <td>47</td>\n",
              "      <td>S2A_MSIL1C_20170103T142022_N0204_R010_T20JLL_2...</td>\n",
              "      <td>0.0</td>\n",
              "      <td>605976736</td>\n",
              "      <td>NaN</td>\n",
              "      <td>4650.710032</td>\n",
              "      <td>2017-01-03</td>\n",
              "    </tr>\n",
              "    <tr>\n",
              "      <th>1</th>\n",
              "      <td>0.0970</td>\n",
              "      <td>0.1936</td>\n",
              "      <td>0.118354</td>\n",
              "      <td>0.10660</td>\n",
              "      <td>0.0</td>\n",
              "      <td>0.0966</td>\n",
              "      <td>13</td>\n",
              "      <td>0.1006</td>\n",
              "      <td>0.1949</td>\n",
              "      <td>0.122154</td>\n",
              "      <td>...</td>\n",
              "      <td>0.971875</td>\n",
              "      <td>0.0</td>\n",
              "      <td>0.247045</td>\n",
              "      <td>13</td>\n",
              "      <td>S2A_MSIL1C_20170103T142022_N0204_R010_T20JLL_2...</td>\n",
              "      <td>0.0</td>\n",
              "      <td>559322368</td>\n",
              "      <td>NaN</td>\n",
              "      <td>1502.000513</td>\n",
              "      <td>2017-01-03</td>\n",
              "    </tr>\n",
              "    <tr>\n",
              "      <th>2</th>\n",
              "      <td>0.0992</td>\n",
              "      <td>0.1273</td>\n",
              "      <td>0.111805</td>\n",
              "      <td>0.11290</td>\n",
              "      <td>0.0</td>\n",
              "      <td>0.0281</td>\n",
              "      <td>19</td>\n",
              "      <td>0.1037</td>\n",
              "      <td>0.1369</td>\n",
              "      <td>0.117795</td>\n",
              "      <td>...</td>\n",
              "      <td>0.973017</td>\n",
              "      <td>0.0</td>\n",
              "      <td>0.207006</td>\n",
              "      <td>19</td>\n",
              "      <td>S2A_MSIL1C_20170103T142022_N0204_R010_T20JLL_2...</td>\n",
              "      <td>0.0</td>\n",
              "      <td>559322369</td>\n",
              "      <td>NaN</td>\n",
              "      <td>2004.192528</td>\n",
              "      <td>2017-01-03</td>\n",
              "    </tr>\n",
              "    <tr>\n",
              "      <th>3</th>\n",
              "      <td>0.0995</td>\n",
              "      <td>0.1933</td>\n",
              "      <td>0.118491</td>\n",
              "      <td>0.11355</td>\n",
              "      <td>0.0</td>\n",
              "      <td>0.0938</td>\n",
              "      <td>66</td>\n",
              "      <td>0.0993</td>\n",
              "      <td>0.1990</td>\n",
              "      <td>0.124512</td>\n",
              "      <td>...</td>\n",
              "      <td>0.966202</td>\n",
              "      <td>0.0</td>\n",
              "      <td>0.258424</td>\n",
              "      <td>66</td>\n",
              "      <td>S2A_MSIL1C_20170103T142022_N0204_R010_T20JLL_2...</td>\n",
              "      <td>0.0</td>\n",
              "      <td>559328111</td>\n",
              "      <td>NaN</td>\n",
              "      <td>6940.507640</td>\n",
              "      <td>2017-01-03</td>\n",
              "    </tr>\n",
              "    <tr>\n",
              "      <th>4</th>\n",
              "      <td>0.1059</td>\n",
              "      <td>0.1385</td>\n",
              "      <td>0.122453</td>\n",
              "      <td>0.12240</td>\n",
              "      <td>0.0</td>\n",
              "      <td>0.0326</td>\n",
              "      <td>47</td>\n",
              "      <td>0.1036</td>\n",
              "      <td>0.1580</td>\n",
              "      <td>0.132455</td>\n",
              "      <td>...</td>\n",
              "      <td>0.993986</td>\n",
              "      <td>0.0</td>\n",
              "      <td>0.260419</td>\n",
              "      <td>47</td>\n",
              "      <td>S2A_MSIL1C_20170103T142022_N0204_R010_T20JLL_2...</td>\n",
              "      <td>0.0</td>\n",
              "      <td>559328112</td>\n",
              "      <td>NaN</td>\n",
              "      <td>4587.356048</td>\n",
              "      <td>2017-01-03</td>\n",
              "    </tr>\n",
              "    <tr>\n",
              "      <th>...</th>\n",
              "      <td>...</td>\n",
              "      <td>...</td>\n",
              "      <td>...</td>\n",
              "      <td>...</td>\n",
              "      <td>...</td>\n",
              "      <td>...</td>\n",
              "      <td>...</td>\n",
              "      <td>...</td>\n",
              "      <td>...</td>\n",
              "      <td>...</td>\n",
              "      <td>...</td>\n",
              "      <td>...</td>\n",
              "      <td>...</td>\n",
              "      <td>...</td>\n",
              "      <td>...</td>\n",
              "      <td>...</td>\n",
              "      <td>...</td>\n",
              "      <td>...</td>\n",
              "      <td>...</td>\n",
              "      <td>...</td>\n",
              "      <td>...</td>\n",
              "    </tr>\n",
              "    <tr>\n",
              "      <th>208927</th>\n",
              "      <td>0.0990</td>\n",
              "      <td>0.1684</td>\n",
              "      <td>0.115990</td>\n",
              "      <td>0.11270</td>\n",
              "      <td>0.0</td>\n",
              "      <td>0.0694</td>\n",
              "      <td>31</td>\n",
              "      <td>0.0862</td>\n",
              "      <td>0.1627</td>\n",
              "      <td>0.107387</td>\n",
              "      <td>...</td>\n",
              "      <td>0.892669</td>\n",
              "      <td>0.0</td>\n",
              "      <td>0.545993</td>\n",
              "      <td>31</td>\n",
              "      <td>S2A_MSIL1C_20220417T141741_N0400_R010_T20JLL_2...</td>\n",
              "      <td>0.0</td>\n",
              "      <td>307532496</td>\n",
              "      <td>NaN</td>\n",
              "      <td>3824.467794</td>\n",
              "      <td>2022-04-17</td>\n",
              "    </tr>\n",
              "    <tr>\n",
              "      <th>208928</th>\n",
              "      <td>0.1145</td>\n",
              "      <td>0.3240</td>\n",
              "      <td>0.149746</td>\n",
              "      <td>0.13665</td>\n",
              "      <td>0.0</td>\n",
              "      <td>0.2095</td>\n",
              "      <td>80</td>\n",
              "      <td>0.0977</td>\n",
              "      <td>0.3363</td>\n",
              "      <td>0.149332</td>\n",
              "      <td>...</td>\n",
              "      <td>1.084102</td>\n",
              "      <td>0.0</td>\n",
              "      <td>2.805242</td>\n",
              "      <td>80</td>\n",
              "      <td>S2A_MSIL1C_20220417T141741_N0400_R010_T20JLL_2...</td>\n",
              "      <td>0.0</td>\n",
              "      <td>307535460</td>\n",
              "      <td>Plaza Exodo Jujeño</td>\n",
              "      <td>7184.535857</td>\n",
              "      <td>2022-04-17</td>\n",
              "    </tr>\n",
              "    <tr>\n",
              "      <th>208929</th>\n",
              "      <td>0.0993</td>\n",
              "      <td>0.1388</td>\n",
              "      <td>0.110870</td>\n",
              "      <td>0.10625</td>\n",
              "      <td>0.0</td>\n",
              "      <td>0.0395</td>\n",
              "      <td>10</td>\n",
              "      <td>0.0930</td>\n",
              "      <td>0.1473</td>\n",
              "      <td>0.106160</td>\n",
              "      <td>...</td>\n",
              "      <td>0.914887</td>\n",
              "      <td>0.0</td>\n",
              "      <td>0.199024</td>\n",
              "      <td>10</td>\n",
              "      <td>S2A_MSIL1C_20220417T141741_N0400_R010_T20JLL_2...</td>\n",
              "      <td>0.0</td>\n",
              "      <td>307796387</td>\n",
              "      <td>NaN</td>\n",
              "      <td>1147.997645</td>\n",
              "      <td>2022-04-17</td>\n",
              "    </tr>\n",
              "    <tr>\n",
              "      <th>208930</th>\n",
              "      <td>0.0991</td>\n",
              "      <td>0.1407</td>\n",
              "      <td>0.124008</td>\n",
              "      <td>0.12570</td>\n",
              "      <td>0.0</td>\n",
              "      <td>0.0416</td>\n",
              "      <td>53</td>\n",
              "      <td>0.0852</td>\n",
              "      <td>0.1377</td>\n",
              "      <td>0.118574</td>\n",
              "      <td>...</td>\n",
              "      <td>0.991200</td>\n",
              "      <td>0.0</td>\n",
              "      <td>0.299910</td>\n",
              "      <td>53</td>\n",
              "      <td>S2A_MSIL1C_20220417T141741_N0400_R010_T20JLL_2...</td>\n",
              "      <td>0.0</td>\n",
              "      <td>307097955</td>\n",
              "      <td>NaN</td>\n",
              "      <td>5185.690046</td>\n",
              "      <td>2022-04-17</td>\n",
              "    </tr>\n",
              "    <tr>\n",
              "      <th>208931</th>\n",
              "      <td>0.0874</td>\n",
              "      <td>0.1347</td>\n",
              "      <td>0.104697</td>\n",
              "      <td>0.10180</td>\n",
              "      <td>0.0</td>\n",
              "      <td>0.0473</td>\n",
              "      <td>95</td>\n",
              "      <td>0.0707</td>\n",
              "      <td>0.1321</td>\n",
              "      <td>0.095941</td>\n",
              "      <td>...</td>\n",
              "      <td>0.889747</td>\n",
              "      <td>0.0</td>\n",
              "      <td>0.456241</td>\n",
              "      <td>95</td>\n",
              "      <td>S2A_MSIL1C_20220417T141741_N0400_R010_T20JLL_2...</td>\n",
              "      <td>0.0</td>\n",
              "      <td>901791744</td>\n",
              "      <td>NaN</td>\n",
              "      <td>9394.381202</td>\n",
              "      <td>2022-04-17</td>\n",
              "    </tr>\n",
              "  </tbody>\n",
              "</table>\n",
              "<p>208932 rows × 167 columns</p>\n",
              "</div>\n",
              "      <button class=\"colab-df-convert\" onclick=\"convertToInteractive('df-e7cc1fd7-3c0a-4d1d-81e9-5dca0c260862')\"\n",
              "              title=\"Convert this dataframe to an interactive table.\"\n",
              "              style=\"display:none;\">\n",
              "        \n",
              "  <svg xmlns=\"http://www.w3.org/2000/svg\" height=\"24px\"viewBox=\"0 0 24 24\"\n",
              "       width=\"24px\">\n",
              "    <path d=\"M0 0h24v24H0V0z\" fill=\"none\"/>\n",
              "    <path d=\"M18.56 5.44l.94 2.06.94-2.06 2.06-.94-2.06-.94-.94-2.06-.94 2.06-2.06.94zm-11 1L8.5 8.5l.94-2.06 2.06-.94-2.06-.94L8.5 2.5l-.94 2.06-2.06.94zm10 10l.94 2.06.94-2.06 2.06-.94-2.06-.94-.94-2.06-.94 2.06-2.06.94z\"/><path d=\"M17.41 7.96l-1.37-1.37c-.4-.4-.92-.59-1.43-.59-.52 0-1.04.2-1.43.59L10.3 9.45l-7.72 7.72c-.78.78-.78 2.05 0 2.83L4 21.41c.39.39.9.59 1.41.59.51 0 1.02-.2 1.41-.59l7.78-7.78 2.81-2.81c.8-.78.8-2.07 0-2.86zM5.41 20L4 18.59l7.72-7.72 1.47 1.35L5.41 20z\"/>\n",
              "  </svg>\n",
              "      </button>\n",
              "      \n",
              "  <style>\n",
              "    .colab-df-container {\n",
              "      display:flex;\n",
              "      flex-wrap:wrap;\n",
              "      gap: 12px;\n",
              "    }\n",
              "\n",
              "    .colab-df-convert {\n",
              "      background-color: #E8F0FE;\n",
              "      border: none;\n",
              "      border-radius: 50%;\n",
              "      cursor: pointer;\n",
              "      display: none;\n",
              "      fill: #1967D2;\n",
              "      height: 32px;\n",
              "      padding: 0 0 0 0;\n",
              "      width: 32px;\n",
              "    }\n",
              "\n",
              "    .colab-df-convert:hover {\n",
              "      background-color: #E2EBFA;\n",
              "      box-shadow: 0px 1px 2px rgba(60, 64, 67, 0.3), 0px 1px 3px 1px rgba(60, 64, 67, 0.15);\n",
              "      fill: #174EA6;\n",
              "    }\n",
              "\n",
              "    [theme=dark] .colab-df-convert {\n",
              "      background-color: #3B4455;\n",
              "      fill: #D2E3FC;\n",
              "    }\n",
              "\n",
              "    [theme=dark] .colab-df-convert:hover {\n",
              "      background-color: #434B5C;\n",
              "      box-shadow: 0px 1px 3px 1px rgba(0, 0, 0, 0.15);\n",
              "      filter: drop-shadow(0px 1px 2px rgba(0, 0, 0, 0.3));\n",
              "      fill: #FFFFFF;\n",
              "    }\n",
              "  </style>\n",
              "\n",
              "      <script>\n",
              "        const buttonEl =\n",
              "          document.querySelector('#df-e7cc1fd7-3c0a-4d1d-81e9-5dca0c260862 button.colab-df-convert');\n",
              "        buttonEl.style.display =\n",
              "          google.colab.kernel.accessAllowed ? 'block' : 'none';\n",
              "\n",
              "        async function convertToInteractive(key) {\n",
              "          const element = document.querySelector('#df-e7cc1fd7-3c0a-4d1d-81e9-5dca0c260862');\n",
              "          const dataTable =\n",
              "            await google.colab.kernel.invokeFunction('convertToInteractive',\n",
              "                                                     [key], {});\n",
              "          if (!dataTable) return;\n",
              "\n",
              "          const docLinkHtml = 'Like what you see? Visit the ' +\n",
              "            '<a target=\"_blank\" href=https://colab.research.google.com/notebooks/data_table.ipynb>data table notebook</a>'\n",
              "            + ' to learn more about interactive tables.';\n",
              "          element.innerHTML = '';\n",
              "          dataTable['output_type'] = 'display_data';\n",
              "          await google.colab.output.renderOutput(dataTable, element);\n",
              "          const docLink = document.createElement('div');\n",
              "          docLink.innerHTML = docLinkHtml;\n",
              "          element.appendChild(docLink);\n",
              "        }\n",
              "      </script>\n",
              "    </div>\n",
              "  </div>\n",
              "  "
            ]
          },
          "metadata": {},
          "execution_count": 49
        }
      ]
    },
    {
      "cell_type": "markdown",
      "source": [
        "##3- Extracción de columnas de interés"
      ],
      "metadata": {
        "id": "qxUcVM4q0Azw"
      },
      "id": "qxUcVM4q0Azw"
    },
    {
      "cell_type": "code",
      "source": [
        "# Creamos un nuevo dataframe con las variables de interés \n",
        "df_interest_E = df_[[\"B02_median\", \"B06_median\", \"B11_median\",\"osm_id\", \"date\", \"ndvi_max\", \"area_m2\",\"raster\",\"clouds_on_raster\"]]\n",
        "len(df_interest_E)"
      ],
      "metadata": {
        "colab": {
          "base_uri": "https://localhost:8080/"
        },
        "id": "uSiD9DiH0M_l",
        "outputId": "8177b2ba-ae57-4872-ec33-95384ec6e0e1"
      },
      "id": "uSiD9DiH0M_l",
      "execution_count": 54,
      "outputs": [
        {
          "output_type": "execute_result",
          "data": {
            "text/plain": [
              "208932"
            ]
          },
          "metadata": {},
          "execution_count": 54
        }
      ]
    },
    {
      "cell_type": "markdown",
      "source": [
        "##4- Remoción de Outliers (a nivel estacional - SIN refinar por año)"
      ],
      "metadata": {
        "id": "KYFTLl__3508"
      },
      "id": "KYFTLl__3508"
    },
    {
      "cell_type": "code",
      "execution_count": 55,
      "metadata": {
        "outputId": "ce84b441-7496-44a4-8bfd-f3c1774e7aa0",
        "colab": {
          "base_uri": "https://localhost:8080/",
          "height": 953
        },
        "id": "6Z_yAmNa3wGP"
      },
      "outputs": [
        {
          "output_type": "stream",
          "name": "stderr",
          "text": [
            "/usr/local/lib/python3.7/dist-packages/ipykernel_launcher.py:3: SettingWithCopyWarning: \n",
            "A value is trying to be set on a copy of a slice from a DataFrame.\n",
            "Try using .loc[row_indexer,col_indexer] = value instead\n",
            "\n",
            "See the caveats in the documentation: https://pandas.pydata.org/pandas-docs/stable/user_guide/indexing.html#returning-a-view-versus-a-copy\n",
            "  This is separate from the ipykernel package so we can avoid doing imports until\n",
            "/usr/local/lib/python3.7/dist-packages/ipykernel_launcher.py:6: SettingWithCopyWarning: \n",
            "A value is trying to be set on a copy of a slice from a DataFrame.\n",
            "Try using .loc[row_indexer,col_indexer] = value instead\n",
            "\n",
            "See the caveats in the documentation: https://pandas.pydata.org/pandas-docs/stable/user_guide/indexing.html#returning-a-view-versus-a-copy\n",
            "  \n",
            "/usr/local/lib/python3.7/dist-packages/ipykernel_launcher.py:21: SettingWithCopyWarning: \n",
            "A value is trying to be set on a copy of a slice from a DataFrame.\n",
            "Try using .loc[row_indexer,col_indexer] = value instead\n",
            "\n",
            "See the caveats in the documentation: https://pandas.pydata.org/pandas-docs/stable/user_guide/indexing.html#returning-a-view-versus-a-copy\n"
          ]
        },
        {
          "output_type": "execute_result",
          "data": {
            "text/plain": [
              "        B02_median  B06_median  B11_median     osm_id       date  ndvi_max  \\\n",
              "0          0.09650     0.19910     0.18770  605976736 2017-01-03  0.630881   \n",
              "1          0.10660     0.25960     0.25420  559322368 2017-01-03  0.630041   \n",
              "2          0.11290     0.25550     0.24640  559322369 2017-01-03  0.622036   \n",
              "3          0.11355     0.29300     0.26675  559328111 2017-01-03  0.669891   \n",
              "4          0.12240     0.29460     0.28950  559328112 2017-01-03  0.619112   \n",
              "...            ...         ...         ...        ...        ...       ...   \n",
              "208927     0.11270     0.20520     0.18950  307532496 2022-04-17  0.563955   \n",
              "208928     0.13665     0.23835     0.27315  307535460 2022-04-17  0.490798   \n",
              "208929     0.10625     0.22425     0.22230  307796387 2022-04-17  0.566516   \n",
              "208930     0.12570     0.20880     0.25450  307097955 2022-04-17  0.534379   \n",
              "208931     0.10180     0.19080     0.19740  901791744 2022-04-17  0.635997   \n",
              "\n",
              "            area_m2                                             raster  \\\n",
              "0       4650.710032  S2A_MSIL1C_20170103T142022_N0204_R010_T20JLL_2...   \n",
              "1       1502.000513  S2A_MSIL1C_20170103T142022_N0204_R010_T20JLL_2...   \n",
              "2       2004.192528  S2A_MSIL1C_20170103T142022_N0204_R010_T20JLL_2...   \n",
              "3       6940.507640  S2A_MSIL1C_20170103T142022_N0204_R010_T20JLL_2...   \n",
              "4       4587.356048  S2A_MSIL1C_20170103T142022_N0204_R010_T20JLL_2...   \n",
              "...             ...                                                ...   \n",
              "208927  3824.467794  S2A_MSIL1C_20220417T141741_N0400_R010_T20JLL_2...   \n",
              "208928  7184.535857  S2A_MSIL1C_20220417T141741_N0400_R010_T20JLL_2...   \n",
              "208929  1147.997645  S2A_MSIL1C_20220417T141741_N0400_R010_T20JLL_2...   \n",
              "208930  5185.690046  S2A_MSIL1C_20220417T141741_N0400_R010_T20JLL_2...   \n",
              "208931  9394.381202  S2A_MSIL1C_20220417T141741_N0400_R010_T20JLL_2...   \n",
              "\n",
              "        clouds_on_raster  month  season  \n",
              "0                    0.0      1  summer  \n",
              "1                    0.0      1  summer  \n",
              "2                    0.0      1  summer  \n",
              "3                    0.0      1  summer  \n",
              "4                    0.0      1  summer  \n",
              "...                  ...    ...     ...  \n",
              "208927               0.0      4  autumn  \n",
              "208928               0.0      4  autumn  \n",
              "208929               0.0      4  autumn  \n",
              "208930               0.0      4  autumn  \n",
              "208931               0.0      4  autumn  \n",
              "\n",
              "[208932 rows x 11 columns]"
            ],
            "text/html": [
              "\n",
              "  <div id=\"df-c28932c6-e7b5-407f-a378-bb41d9df0c56\">\n",
              "    <div class=\"colab-df-container\">\n",
              "      <div>\n",
              "<style scoped>\n",
              "    .dataframe tbody tr th:only-of-type {\n",
              "        vertical-align: middle;\n",
              "    }\n",
              "\n",
              "    .dataframe tbody tr th {\n",
              "        vertical-align: top;\n",
              "    }\n",
              "\n",
              "    .dataframe thead th {\n",
              "        text-align: right;\n",
              "    }\n",
              "</style>\n",
              "<table border=\"1\" class=\"dataframe\">\n",
              "  <thead>\n",
              "    <tr style=\"text-align: right;\">\n",
              "      <th></th>\n",
              "      <th>B02_median</th>\n",
              "      <th>B06_median</th>\n",
              "      <th>B11_median</th>\n",
              "      <th>osm_id</th>\n",
              "      <th>date</th>\n",
              "      <th>ndvi_max</th>\n",
              "      <th>area_m2</th>\n",
              "      <th>raster</th>\n",
              "      <th>clouds_on_raster</th>\n",
              "      <th>month</th>\n",
              "      <th>season</th>\n",
              "    </tr>\n",
              "  </thead>\n",
              "  <tbody>\n",
              "    <tr>\n",
              "      <th>0</th>\n",
              "      <td>0.09650</td>\n",
              "      <td>0.19910</td>\n",
              "      <td>0.18770</td>\n",
              "      <td>605976736</td>\n",
              "      <td>2017-01-03</td>\n",
              "      <td>0.630881</td>\n",
              "      <td>4650.710032</td>\n",
              "      <td>S2A_MSIL1C_20170103T142022_N0204_R010_T20JLL_2...</td>\n",
              "      <td>0.0</td>\n",
              "      <td>1</td>\n",
              "      <td>summer</td>\n",
              "    </tr>\n",
              "    <tr>\n",
              "      <th>1</th>\n",
              "      <td>0.10660</td>\n",
              "      <td>0.25960</td>\n",
              "      <td>0.25420</td>\n",
              "      <td>559322368</td>\n",
              "      <td>2017-01-03</td>\n",
              "      <td>0.630041</td>\n",
              "      <td>1502.000513</td>\n",
              "      <td>S2A_MSIL1C_20170103T142022_N0204_R010_T20JLL_2...</td>\n",
              "      <td>0.0</td>\n",
              "      <td>1</td>\n",
              "      <td>summer</td>\n",
              "    </tr>\n",
              "    <tr>\n",
              "      <th>2</th>\n",
              "      <td>0.11290</td>\n",
              "      <td>0.25550</td>\n",
              "      <td>0.24640</td>\n",
              "      <td>559322369</td>\n",
              "      <td>2017-01-03</td>\n",
              "      <td>0.622036</td>\n",
              "      <td>2004.192528</td>\n",
              "      <td>S2A_MSIL1C_20170103T142022_N0204_R010_T20JLL_2...</td>\n",
              "      <td>0.0</td>\n",
              "      <td>1</td>\n",
              "      <td>summer</td>\n",
              "    </tr>\n",
              "    <tr>\n",
              "      <th>3</th>\n",
              "      <td>0.11355</td>\n",
              "      <td>0.29300</td>\n",
              "      <td>0.26675</td>\n",
              "      <td>559328111</td>\n",
              "      <td>2017-01-03</td>\n",
              "      <td>0.669891</td>\n",
              "      <td>6940.507640</td>\n",
              "      <td>S2A_MSIL1C_20170103T142022_N0204_R010_T20JLL_2...</td>\n",
              "      <td>0.0</td>\n",
              "      <td>1</td>\n",
              "      <td>summer</td>\n",
              "    </tr>\n",
              "    <tr>\n",
              "      <th>4</th>\n",
              "      <td>0.12240</td>\n",
              "      <td>0.29460</td>\n",
              "      <td>0.28950</td>\n",
              "      <td>559328112</td>\n",
              "      <td>2017-01-03</td>\n",
              "      <td>0.619112</td>\n",
              "      <td>4587.356048</td>\n",
              "      <td>S2A_MSIL1C_20170103T142022_N0204_R010_T20JLL_2...</td>\n",
              "      <td>0.0</td>\n",
              "      <td>1</td>\n",
              "      <td>summer</td>\n",
              "    </tr>\n",
              "    <tr>\n",
              "      <th>...</th>\n",
              "      <td>...</td>\n",
              "      <td>...</td>\n",
              "      <td>...</td>\n",
              "      <td>...</td>\n",
              "      <td>...</td>\n",
              "      <td>...</td>\n",
              "      <td>...</td>\n",
              "      <td>...</td>\n",
              "      <td>...</td>\n",
              "      <td>...</td>\n",
              "      <td>...</td>\n",
              "    </tr>\n",
              "    <tr>\n",
              "      <th>208927</th>\n",
              "      <td>0.11270</td>\n",
              "      <td>0.20520</td>\n",
              "      <td>0.18950</td>\n",
              "      <td>307532496</td>\n",
              "      <td>2022-04-17</td>\n",
              "      <td>0.563955</td>\n",
              "      <td>3824.467794</td>\n",
              "      <td>S2A_MSIL1C_20220417T141741_N0400_R010_T20JLL_2...</td>\n",
              "      <td>0.0</td>\n",
              "      <td>4</td>\n",
              "      <td>autumn</td>\n",
              "    </tr>\n",
              "    <tr>\n",
              "      <th>208928</th>\n",
              "      <td>0.13665</td>\n",
              "      <td>0.23835</td>\n",
              "      <td>0.27315</td>\n",
              "      <td>307535460</td>\n",
              "      <td>2022-04-17</td>\n",
              "      <td>0.490798</td>\n",
              "      <td>7184.535857</td>\n",
              "      <td>S2A_MSIL1C_20220417T141741_N0400_R010_T20JLL_2...</td>\n",
              "      <td>0.0</td>\n",
              "      <td>4</td>\n",
              "      <td>autumn</td>\n",
              "    </tr>\n",
              "    <tr>\n",
              "      <th>208929</th>\n",
              "      <td>0.10625</td>\n",
              "      <td>0.22425</td>\n",
              "      <td>0.22230</td>\n",
              "      <td>307796387</td>\n",
              "      <td>2022-04-17</td>\n",
              "      <td>0.566516</td>\n",
              "      <td>1147.997645</td>\n",
              "      <td>S2A_MSIL1C_20220417T141741_N0400_R010_T20JLL_2...</td>\n",
              "      <td>0.0</td>\n",
              "      <td>4</td>\n",
              "      <td>autumn</td>\n",
              "    </tr>\n",
              "    <tr>\n",
              "      <th>208930</th>\n",
              "      <td>0.12570</td>\n",
              "      <td>0.20880</td>\n",
              "      <td>0.25450</td>\n",
              "      <td>307097955</td>\n",
              "      <td>2022-04-17</td>\n",
              "      <td>0.534379</td>\n",
              "      <td>5185.690046</td>\n",
              "      <td>S2A_MSIL1C_20220417T141741_N0400_R010_T20JLL_2...</td>\n",
              "      <td>0.0</td>\n",
              "      <td>4</td>\n",
              "      <td>autumn</td>\n",
              "    </tr>\n",
              "    <tr>\n",
              "      <th>208931</th>\n",
              "      <td>0.10180</td>\n",
              "      <td>0.19080</td>\n",
              "      <td>0.19740</td>\n",
              "      <td>901791744</td>\n",
              "      <td>2022-04-17</td>\n",
              "      <td>0.635997</td>\n",
              "      <td>9394.381202</td>\n",
              "      <td>S2A_MSIL1C_20220417T141741_N0400_R010_T20JLL_2...</td>\n",
              "      <td>0.0</td>\n",
              "      <td>4</td>\n",
              "      <td>autumn</td>\n",
              "    </tr>\n",
              "  </tbody>\n",
              "</table>\n",
              "<p>208932 rows × 11 columns</p>\n",
              "</div>\n",
              "      <button class=\"colab-df-convert\" onclick=\"convertToInteractive('df-c28932c6-e7b5-407f-a378-bb41d9df0c56')\"\n",
              "              title=\"Convert this dataframe to an interactive table.\"\n",
              "              style=\"display:none;\">\n",
              "        \n",
              "  <svg xmlns=\"http://www.w3.org/2000/svg\" height=\"24px\"viewBox=\"0 0 24 24\"\n",
              "       width=\"24px\">\n",
              "    <path d=\"M0 0h24v24H0V0z\" fill=\"none\"/>\n",
              "    <path d=\"M18.56 5.44l.94 2.06.94-2.06 2.06-.94-2.06-.94-.94-2.06-.94 2.06-2.06.94zm-11 1L8.5 8.5l.94-2.06 2.06-.94-2.06-.94L8.5 2.5l-.94 2.06-2.06.94zm10 10l.94 2.06.94-2.06 2.06-.94-2.06-.94-.94-2.06-.94 2.06-2.06.94z\"/><path d=\"M17.41 7.96l-1.37-1.37c-.4-.4-.92-.59-1.43-.59-.52 0-1.04.2-1.43.59L10.3 9.45l-7.72 7.72c-.78.78-.78 2.05 0 2.83L4 21.41c.39.39.9.59 1.41.59.51 0 1.02-.2 1.41-.59l7.78-7.78 2.81-2.81c.8-.78.8-2.07 0-2.86zM5.41 20L4 18.59l7.72-7.72 1.47 1.35L5.41 20z\"/>\n",
              "  </svg>\n",
              "      </button>\n",
              "      \n",
              "  <style>\n",
              "    .colab-df-container {\n",
              "      display:flex;\n",
              "      flex-wrap:wrap;\n",
              "      gap: 12px;\n",
              "    }\n",
              "\n",
              "    .colab-df-convert {\n",
              "      background-color: #E8F0FE;\n",
              "      border: none;\n",
              "      border-radius: 50%;\n",
              "      cursor: pointer;\n",
              "      display: none;\n",
              "      fill: #1967D2;\n",
              "      height: 32px;\n",
              "      padding: 0 0 0 0;\n",
              "      width: 32px;\n",
              "    }\n",
              "\n",
              "    .colab-df-convert:hover {\n",
              "      background-color: #E2EBFA;\n",
              "      box-shadow: 0px 1px 2px rgba(60, 64, 67, 0.3), 0px 1px 3px 1px rgba(60, 64, 67, 0.15);\n",
              "      fill: #174EA6;\n",
              "    }\n",
              "\n",
              "    [theme=dark] .colab-df-convert {\n",
              "      background-color: #3B4455;\n",
              "      fill: #D2E3FC;\n",
              "    }\n",
              "\n",
              "    [theme=dark] .colab-df-convert:hover {\n",
              "      background-color: #434B5C;\n",
              "      box-shadow: 0px 1px 3px 1px rgba(0, 0, 0, 0.15);\n",
              "      filter: drop-shadow(0px 1px 2px rgba(0, 0, 0, 0.3));\n",
              "      fill: #FFFFFF;\n",
              "    }\n",
              "  </style>\n",
              "\n",
              "      <script>\n",
              "        const buttonEl =\n",
              "          document.querySelector('#df-c28932c6-e7b5-407f-a378-bb41d9df0c56 button.colab-df-convert');\n",
              "        buttonEl.style.display =\n",
              "          google.colab.kernel.accessAllowed ? 'block' : 'none';\n",
              "\n",
              "        async function convertToInteractive(key) {\n",
              "          const element = document.querySelector('#df-c28932c6-e7b5-407f-a378-bb41d9df0c56');\n",
              "          const dataTable =\n",
              "            await google.colab.kernel.invokeFunction('convertToInteractive',\n",
              "                                                     [key], {});\n",
              "          if (!dataTable) return;\n",
              "\n",
              "          const docLinkHtml = 'Like what you see? Visit the ' +\n",
              "            '<a target=\"_blank\" href=https://colab.research.google.com/notebooks/data_table.ipynb>data table notebook</a>'\n",
              "            + ' to learn more about interactive tables.';\n",
              "          element.innerHTML = '';\n",
              "          dataTable['output_type'] = 'display_data';\n",
              "          await google.colab.output.renderOutput(dataTable, element);\n",
              "          const docLink = document.createElement('div');\n",
              "          docLink.innerHTML = docLinkHtml;\n",
              "          element.appendChild(docLink);\n",
              "        }\n",
              "      </script>\n",
              "    </div>\n",
              "  </div>\n",
              "  "
            ]
          },
          "metadata": {},
          "execution_count": 55
        }
      ],
      "source": [
        "# Para la remoción de outliers por estación, definimos la estación a la que corresponde cada registro. \n",
        "# Convertimos la columna date a tipo datetime\n",
        "df_interest_E['date']= pd.to_datetime(df_interest_E['date'])\n",
        "\n",
        "# Extraemos el mes de cada registro.\n",
        "df_interest_E['month'] = df_interest_E['date'].dt.month\n",
        "\n",
        "# Aplicamos la siguiente función para determinar la estación a la que corresponde cada registro.\n",
        "def seasons(df, col):\n",
        "    Seasons = []\n",
        "    for month in df[col]:\n",
        "        if month in (1, 2, 3):\n",
        "            season = 'summer'\n",
        "        elif month in (4, 5, 6):\n",
        "            season = 'autumn'\n",
        "        elif month in (7, 8, 9):\n",
        "            season = 'winter'\n",
        "        else:\n",
        "            season = 'spring'\n",
        "        Seasons.append(season)\n",
        "    df[\"season\"]= Seasons\n",
        "\n",
        "seasons(df_interest_E, \"month\")\n",
        "df_interest_E"
      ],
      "id": "6Z_yAmNa3wGP"
    },
    {
      "cell_type": "code",
      "source": [
        "# Generamos nuevas columnas de cada banda para cada estación\n",
        "df_interest_E.loc[df_interest_E['season'] == 'summer', 'B02_summer'] = df_interest_E['B02_median']  \n",
        "df_interest_E.loc[df_interest_E['season'] == 'autumn', 'B02_autumn'] = df_interest_E['B02_median']\n",
        "df_interest_E.loc[df_interest_E['season'] == 'winter', 'B02_winter'] = df_interest_E['B02_median']\n",
        "df_interest_E.loc[df_interest_E['season'] == 'spring', 'B02_spring'] = df_interest_E['B02_median']\n",
        "\n",
        "df_interest_E.loc[df_interest_E['season'] == 'summer', 'B06_summer'] = df_interest_E['B06_median']  \n",
        "df_interest_E.loc[df_interest_E['season'] == 'autumn', 'B06_autumn'] = df_interest_E['B06_median']\n",
        "df_interest_E.loc[df_interest_E['season'] == 'winter', 'B06_winter'] = df_interest_E['B06_median']\n",
        "df_interest_E.loc[df_interest_E['season'] == 'spring', 'B06_spring'] = df_interest_E['B06_median']\n",
        "\n",
        "df_interest_E.loc[df_interest_E['season'] == 'summer', 'B11_summer'] = df_interest_E['B11_median']  \n",
        "df_interest_E.loc[df_interest_E['season'] == 'autumn', 'B11_autumn'] = df_interest_E['B11_median']\n",
        "df_interest_E.loc[df_interest_E['season'] == 'winter', 'B11_winter'] = df_interest_E['B11_median']\n",
        "df_interest_E.loc[df_interest_E['season'] == 'spring', 'B11_spring'] = df_interest_E['B11_median']"
      ],
      "metadata": {
        "colab": {
          "base_uri": "https://localhost:8080/"
        },
        "id": "9rmHlcPfZwFX",
        "outputId": "680b1408-2d21-44c5-c1a1-d29bfc65cfc1"
      },
      "id": "9rmHlcPfZwFX",
      "execution_count": 57,
      "outputs": [
        {
          "output_type": "stream",
          "name": "stderr",
          "text": [
            "/usr/local/lib/python3.7/dist-packages/pandas/core/indexing.py:1681: SettingWithCopyWarning: \n",
            "A value is trying to be set on a copy of a slice from a DataFrame.\n",
            "Try using .loc[row_indexer,col_indexer] = value instead\n",
            "\n",
            "See the caveats in the documentation: https://pandas.pydata.org/pandas-docs/stable/user_guide/indexing.html#returning-a-view-versus-a-copy\n",
            "  self.obj[key] = empty_value\n",
            "/usr/local/lib/python3.7/dist-packages/pandas/core/indexing.py:1773: SettingWithCopyWarning: \n",
            "A value is trying to be set on a copy of a slice from a DataFrame.\n",
            "Try using .loc[row_indexer,col_indexer] = value instead\n",
            "\n",
            "See the caveats in the documentation: https://pandas.pydata.org/pandas-docs/stable/user_guide/indexing.html#returning-a-view-versus-a-copy\n",
            "  self._setitem_single_column(ilocs[0], value, pi)\n"
          ]
        }
      ]
    },
    {
      "cell_type": "code",
      "source": [
        "# Creamos lista de nuevas columnas para usarla como argumento en la función que detecta outliers\n",
        "Season_values = ['B02_summer', 'B02_autumn', 'B02_winter', 'B02_spring', 'B06_summer', 'B06_autumn', 'B06_winter', \n",
        "                'B06_spring', 'B11_summer', 'B11_autumn', 'B11_winter', 'B11_spring']"
      ],
      "metadata": {
        "id": "Eg0pKSjqZv29"
      },
      "id": "Eg0pKSjqZv29",
      "execution_count": 58,
      "outputs": []
    },
    {
      "cell_type": "code",
      "source": [
        "def find_outliers(df, col_list):\n",
        "    # calculamos cuartiles 1 y 3, y el interquartil (iqr)\n",
        "    for col in col_list:\n",
        "        if col==\"NaN\":\n",
        "            continue\n",
        "        q1 = df[col].quantile(0.25)\n",
        "        q3 = df[col].quantile(0.75)\n",
        "        iqr = q3 - q1 \n",
        "        # calculamos límite superior e inferior\n",
        "        ls = q1 + 1.5 * iqr\n",
        "        li = q3 - 1.5 * iqr\n",
        "        # Generamos nueva columna\n",
        "        df['outl_'+col]=  np.where((df[col] >ls)| (df[col] < li),1,0)"
      ],
      "metadata": {
        "id": "jbAa4ouUayKs"
      },
      "id": "jbAa4ouUayKs",
      "execution_count": 59,
      "outputs": []
    },
    {
      "cell_type": "code",
      "source": [
        "# Aplicamos la función de detección de outliers\n",
        "find_outliers(df_interest_E, Season_values)"
      ],
      "metadata": {
        "colab": {
          "base_uri": "https://localhost:8080/"
        },
        "id": "j2zpXQbGbGxr",
        "outputId": "08bebbac-d325-47ad-d348-10976d762934"
      },
      "id": "j2zpXQbGbGxr",
      "execution_count": 60,
      "outputs": [
        {
          "output_type": "stream",
          "name": "stderr",
          "text": [
            "/usr/local/lib/python3.7/dist-packages/ipykernel_launcher.py:13: SettingWithCopyWarning: \n",
            "A value is trying to be set on a copy of a slice from a DataFrame.\n",
            "Try using .loc[row_indexer,col_indexer] = value instead\n",
            "\n",
            "See the caveats in the documentation: https://pandas.pydata.org/pandas-docs/stable/user_guide/indexing.html#returning-a-view-versus-a-copy\n",
            "  del sys.path[0]\n"
          ]
        }
      ]
    },
    {
      "cell_type": "code",
      "source": [
        "# Se quitan aquellos registros donde se observa que para las tres bandas bajo análisis (en cada estación), \n",
        "# los valores son outliers (valor = 1)\n",
        "df_interest_E2_summer = df_interest_E[~((df_interest_E['outl_B02_summer']==1) & (df_interest_E['outl_B06_summer']==1) & \n",
        "                        (df_interest_E['outl_B11_summer']==1))]\n",
        "print(len(df_interest_E2_summer))\n",
        "\n",
        "df_interest_E2_autumn = df_interest_E2_summer[~((df_interest_E['outl_B02_autumn']==1) & \n",
        "                        (df_interest_E2_summer['outl_B06_autumn']==1) & (df_interest_E2_summer['outl_B11_autumn']==1))]\n",
        "print(len(df_interest_E2_autumn))\n",
        "\n",
        "df_interest_E2_winter = df_interest_E2_autumn[~((df_interest_E['outl_B02_winter']==1) & \n",
        "                        (df_interest_E2_autumn['outl_B06_winter']==1) & (df_interest_E2_autumn['outl_B11_winter']==1))]\n",
        "print(len(df_interest_E2_winter))\n",
        "\n",
        "df_interest_E2_spring = df_interest_E2_winter[~((df_interest_E['outl_B02_spring']==1) & \n",
        "                        (df_interest_E2_winter['outl_B06_spring']==1) & (df_interest_E2_winter['outl_B11_spring']==1))]\n",
        "print(len(df_interest_E2_spring))"
      ],
      "metadata": {
        "colab": {
          "base_uri": "https://localhost:8080/"
        },
        "id": "K7mUCBxmbGiJ",
        "outputId": "b8c62564-c1ce-4c27-8e91-c335152b6f3e"
      },
      "id": "K7mUCBxmbGiJ",
      "execution_count": 62,
      "outputs": [
        {
          "output_type": "stream",
          "name": "stdout",
          "text": [
            "205669\n"
          ]
        },
        {
          "output_type": "stream",
          "name": "stderr",
          "text": [
            "/usr/local/lib/python3.7/dist-packages/ipykernel_launcher.py:8: UserWarning: Boolean Series key will be reindexed to match DataFrame index.\n",
            "  \n"
          ]
        },
        {
          "output_type": "stream",
          "name": "stdout",
          "text": [
            "202722\n"
          ]
        },
        {
          "output_type": "stream",
          "name": "stderr",
          "text": [
            "/usr/local/lib/python3.7/dist-packages/ipykernel_launcher.py:12: UserWarning: Boolean Series key will be reindexed to match DataFrame index.\n",
            "  if sys.path[0] == '':\n"
          ]
        },
        {
          "output_type": "stream",
          "name": "stdout",
          "text": [
            "200130\n"
          ]
        },
        {
          "output_type": "stream",
          "name": "stderr",
          "text": [
            "/usr/local/lib/python3.7/dist-packages/ipykernel_launcher.py:16: UserWarning: Boolean Series key will be reindexed to match DataFrame index.\n",
            "  app.launch_new_instance()\n"
          ]
        },
        {
          "output_type": "stream",
          "name": "stdout",
          "text": [
            "197680\n"
          ]
        }
      ]
    },
    {
      "cell_type": "code",
      "source": [
        "msno.bar(df_interest_E2_spring,figsize=(14, 6), sort=\"ascending\",fontsize=12, color='red')"
      ],
      "metadata": {
        "colab": {
          "base_uri": "https://localhost:8080/",
          "height": 516
        },
        "id": "mMKpQl17dL7h",
        "outputId": "08313024-c1dd-4d04-86ff-ce8526698608"
      },
      "id": "mMKpQl17dL7h",
      "execution_count": 64,
      "outputs": [
        {
          "output_type": "execute_result",
          "data": {
            "text/plain": [
              "<matplotlib.axes._subplots.AxesSubplot at 0x7f406a927590>"
            ]
          },
          "metadata": {},
          "execution_count": 64
        },
        {
          "output_type": "display_data",
          "data": {
            "text/plain": [
              "<Figure size 1008x432 with 3 Axes>"
            ],
            "image/png": "[encoded data removed]"
          },
          "metadata": {
            "needs_background": "light"
          }
        }
      ]
    },
    {
      "cell_type": "markdown",
      "source": [
        "##5- Normalización\n",
        "Utilizamos el objeto scikit-learn MinMaxScaler para escalar los datos, debido a que imputaremos por los K-vecinos más cercanos. Dicho algoritmo utiliza medidas de distancias y se ve afectado por la escala de las variables de entrada."
      ],
      "metadata": {
        "id": "6s6q16pZdd3N"
      },
      "id": "6s6q16pZdd3N"
    },
    {
      "cell_type": "code",
      "source": [
        "from sklearn.preprocessing import MinMaxScaler\n",
        "estandarizador = MinMaxScaler()\n",
        "estandarizador.fit(df_interest_E2_spring[cols])\n",
        "df_interest_E2_spring.loc[:, cols] = estandarizador.transform(df_interest_E2_spring[cols])\n",
        "df_interest_E2_spring"
      ],
      "metadata": {
        "colab": {
          "base_uri": "https://localhost:8080/",
          "height": 753
        },
        "id": "3WgdNkGfdigd",
        "outputId": "0e62a775-aac1-42e3-8b52-e6354758e91a"
      },
      "id": "3WgdNkGfdigd",
      "execution_count": 65,
      "outputs": [
        {
          "output_type": "stream",
          "name": "stderr",
          "text": [
            "/usr/local/lib/python3.7/dist-packages/pandas/core/indexing.py:1835: SettingWithCopyWarning: \n",
            "A value is trying to be set on a copy of a slice from a DataFrame.\n",
            "Try using .loc[row_indexer,col_indexer] = value instead\n",
            "\n",
            "See the caveats in the documentation: https://pandas.pydata.org/pandas-docs/stable/user_guide/indexing.html#returning-a-view-versus-a-copy\n",
            "  self._setitem_single_column(loc, value[:, i].tolist(), pi)\n"
          ]
        },
        {
          "output_type": "execute_result",
          "data": {
            "text/plain": [
              "        B02_median  B06_median  B11_median     osm_id       date  ndvi_max  \\\n",
              "0         0.058466    0.439953    0.414224  605976736 2017-01-03  0.620063   \n",
              "1         0.083019    0.619132    0.583737  559322368 2017-01-03  0.619198   \n",
              "2         0.098335    0.606989    0.563854  559322369 2017-01-03  0.610947   \n",
              "3         0.099915    0.718051    0.615728  559328111 2017-01-03  0.660273   \n",
              "4         0.121429    0.722790    0.673719  559328112 2017-01-03  0.607932   \n",
              "...            ...         ...         ...        ...        ...       ...   \n",
              "208927    0.097849    0.458019    0.418812  307532496 2022-04-17  0.551080   \n",
              "208928    0.156071    0.556197    0.632042  307535460 2022-04-17  0.475674   \n",
              "208929    0.082168    0.514438    0.502422  307796387 2022-04-17  0.553720   \n",
              "208930    0.129452    0.468681    0.584502  307097955 2022-04-17  0.520595   \n",
              "208931    0.071350    0.415371    0.438950  901791744 2022-04-17  0.625337   \n",
              "\n",
              "            area_m2                                             raster  \\\n",
              "0       4650.710032  S2A_MSIL1C_20170103T142022_N0204_R010_T20JLL_2...   \n",
              "1       1502.000513  S2A_MSIL1C_20170103T142022_N0204_R010_T20JLL_2...   \n",
              "2       2004.192528  S2A_MSIL1C_20170103T142022_N0204_R010_T20JLL_2...   \n",
              "3       6940.507640  S2A_MSIL1C_20170103T142022_N0204_R010_T20JLL_2...   \n",
              "4       4587.356048  S2A_MSIL1C_20170103T142022_N0204_R010_T20JLL_2...   \n",
              "...             ...                                                ...   \n",
              "208927  3824.467794  S2A_MSIL1C_20220417T141741_N0400_R010_T20JLL_2...   \n",
              "208928  7184.535857  S2A_MSIL1C_20220417T141741_N0400_R010_T20JLL_2...   \n",
              "208929  1147.997645  S2A_MSIL1C_20220417T141741_N0400_R010_T20JLL_2...   \n",
              "208930  5185.690046  S2A_MSIL1C_20220417T141741_N0400_R010_T20JLL_2...   \n",
              "208931  9394.381202  S2A_MSIL1C_20220417T141741_N0400_R010_T20JLL_2...   \n",
              "\n",
              "        clouds_on_raster  month  ... outl_B02_winter  outl_B02_spring  \\\n",
              "0                    0.0      1  ...               0                0   \n",
              "1                    0.0      1  ...               0                0   \n",
              "2                    0.0      1  ...               0                0   \n",
              "3                    0.0      1  ...               0                0   \n",
              "4                    0.0      1  ...               0                0   \n",
              "...                  ...    ...  ...             ...              ...   \n",
              "208927               0.0      4  ...               0                0   \n",
              "208928               0.0      4  ...               0                0   \n",
              "208929               0.0      4  ...               0                0   \n",
              "208930               0.0      4  ...               0                0   \n",
              "208931               0.0      4  ...               0                0   \n",
              "\n",
              "        outl_B06_summer  outl_B06_autumn  outl_B06_winter  outl_B06_spring  \\\n",
              "0                     0                0                0                0   \n",
              "1                     0                0                0                0   \n",
              "2                     0                0                0                0   \n",
              "3                     1                0                0                0   \n",
              "4                     1                0                0                0   \n",
              "...                 ...              ...              ...              ...   \n",
              "208927                0                0                0                0   \n",
              "208928                0                0                0                0   \n",
              "208929                0                0                0                0   \n",
              "208930                0                0                0                0   \n",
              "208931                0                0                0                0   \n",
              "\n",
              "        outl_B11_summer  outl_B11_autumn  outl_B11_winter  outl_B11_spring  \n",
              "0                     0                0                0                0  \n",
              "1                     0                0                0                0  \n",
              "2                     0                0                0                0  \n",
              "3                     0                0                0                0  \n",
              "4                     1                0                0                0  \n",
              "...                 ...              ...              ...              ...  \n",
              "208927                0                0                0                0  \n",
              "208928                0                0                0                0  \n",
              "208929                0                0                0                0  \n",
              "208930                0                0                0                0  \n",
              "208931                0                0                0                0  \n",
              "\n",
              "[197680 rows x 35 columns]"
            ],
            "text/html": [
              "\n",
              "  <div id=\"df-5c9751bd-9907-4b06-a3d0-9a249f27678f\">\n",
              "    <div class=\"colab-df-container\">\n",
              "      <div>\n",
              "<style scoped>\n",
              "    .dataframe tbody tr th:only-of-type {\n",
              "        vertical-align: middle;\n",
              "    }\n",
              "\n",
              "    .dataframe tbody tr th {\n",
              "        vertical-align: top;\n",
              "    }\n",
              "\n",
              "    .dataframe thead th {\n",
              "        text-align: right;\n",
              "    }\n",
              "</style>\n",
              "<table border=\"1\" class=\"dataframe\">\n",
              "  <thead>\n",
              "    <tr style=\"text-align: right;\">\n",
              "      <th></th>\n",
              "      <th>B02_median</th>\n",
              "      <th>B06_median</th>\n",
              "      <th>B11_median</th>\n",
              "      <th>osm_id</th>\n",
              "      <th>date</th>\n",
              "      <th>ndvi_max</th>\n",
              "      <th>area_m2</th>\n",
              "      <th>raster</th>\n",
              "      <th>clouds_on_raster</th>\n",
              "      <th>month</th>\n",
              "      <th>...</th>\n",
              "      <th>outl_B02_winter</th>\n",
              "      <th>outl_B02_spring</th>\n",
              "      <th>outl_B06_summer</th>\n",
              "      <th>outl_B06_autumn</th>\n",
              "      <th>outl_B06_winter</th>\n",
              "      <th>outl_B06_spring</th>\n",
              "      <th>outl_B11_summer</th>\n",
              "      <th>outl_B11_autumn</th>\n",
              "      <th>outl_B11_winter</th>\n",
              "      <th>outl_B11_spring</th>\n",
              "    </tr>\n",
              "  </thead>\n",
              "  <tbody>\n",
              "    <tr>\n",
              "      <th>0</th>\n",
              "      <td>0.058466</td>\n",
              "      <td>0.439953</td>\n",
              "      <td>0.414224</td>\n",
              "      <td>605976736</td>\n",
              "      <td>2017-01-03</td>\n",
              "      <td>0.620063</td>\n",
              "      <td>4650.710032</td>\n",
              "      <td>S2A_MSIL1C_20170103T142022_N0204_R010_T20JLL_2...</td>\n",
              "      <td>0.0</td>\n",
              "      <td>1</td>\n",
              "      <td>...</td>\n",
              "      <td>0</td>\n",
              "      <td>0</td>\n",
              "      <td>0</td>\n",
              "      <td>0</td>\n",
              "      <td>0</td>\n",
              "      <td>0</td>\n",
              "      <td>0</td>\n",
              "      <td>0</td>\n",
              "      <td>0</td>\n",
              "      <td>0</td>\n",
              "    </tr>\n",
              "    <tr>\n",
              "      <th>1</th>\n",
              "      <td>0.083019</td>\n",
              "      <td>0.619132</td>\n",
              "      <td>0.583737</td>\n",
              "      <td>559322368</td>\n",
              "      <td>2017-01-03</td>\n",
              "      <td>0.619198</td>\n",
              "      <td>1502.000513</td>\n",
              "      <td>S2A_MSIL1C_20170103T142022_N0204_R010_T20JLL_2...</td>\n",
              "      <td>0.0</td>\n",
              "      <td>1</td>\n",
              "      <td>...</td>\n",
              "      <td>0</td>\n",
              "      <td>0</td>\n",
              "      <td>0</td>\n",
              "      <td>0</td>\n",
              "      <td>0</td>\n",
              "      <td>0</td>\n",
              "      <td>0</td>\n",
              "      <td>0</td>\n",
              "      <td>0</td>\n",
              "      <td>0</td>\n",
              "    </tr>\n",
              "    <tr>\n",
              "      <th>2</th>\n",
              "      <td>0.098335</td>\n",
              "      <td>0.606989</td>\n",
              "      <td>0.563854</td>\n",
              "      <td>559322369</td>\n",
              "      <td>2017-01-03</td>\n",
              "      <td>0.610947</td>\n",
              "      <td>2004.192528</td>\n",
              "      <td>S2A_MSIL1C_20170103T142022_N0204_R010_T20JLL_2...</td>\n",
              "      <td>0.0</td>\n",
              "      <td>1</td>\n",
              "      <td>...</td>\n",
              "      <td>0</td>\n",
              "      <td>0</td>\n",
              "      <td>0</td>\n",
              "      <td>0</td>\n",
              "      <td>0</td>\n",
              "      <td>0</td>\n",
              "      <td>0</td>\n",
              "      <td>0</td>\n",
              "      <td>0</td>\n",
              "      <td>0</td>\n",
              "    </tr>\n",
              "    <tr>\n",
              "      <th>3</th>\n",
              "      <td>0.099915</td>\n",
              "      <td>0.718051</td>\n",
              "      <td>0.615728</td>\n",
              "      <td>559328111</td>\n",
              "      <td>2017-01-03</td>\n",
              "      <td>0.660273</td>\n",
              "      <td>6940.507640</td>\n",
              "      <td>S2A_MSIL1C_20170103T142022_N0204_R010_T20JLL_2...</td>\n",
              "      <td>0.0</td>\n",
              "      <td>1</td>\n",
              "      <td>...</td>\n",
              "      <td>0</td>\n",
              "      <td>0</td>\n",
              "      <td>1</td>\n",
              "      <td>0</td>\n",
              "      <td>0</td>\n",
              "      <td>0</td>\n",
              "      <td>0</td>\n",
              "      <td>0</td>\n",
              "      <td>0</td>\n",
              "      <td>0</td>\n",
              "    </tr>\n",
              "    <tr>\n",
              "      <th>4</th>\n",
              "      <td>0.121429</td>\n",
              "      <td>0.722790</td>\n",
              "      <td>0.673719</td>\n",
              "      <td>559328112</td>\n",
              "      <td>2017-01-03</td>\n",
              "      <td>0.607932</td>\n",
              "      <td>4587.356048</td>\n",
              "      <td>S2A_MSIL1C_20170103T142022_N0204_R010_T20JLL_2...</td>\n",
              "      <td>0.0</td>\n",
              "      <td>1</td>\n",
              "      <td>...</td>\n",
              "      <td>0</td>\n",
              "      <td>0</td>\n",
              "      <td>1</td>\n",
              "      <td>0</td>\n",
              "      <td>0</td>\n",
              "      <td>0</td>\n",
              "      <td>1</td>\n",
              "      <td>0</td>\n",
              "      <td>0</td>\n",
              "      <td>0</td>\n",
              "    </tr>\n",
              "    <tr>\n",
              "      <th>...</th>\n",
              "      <td>...</td>\n",
              "      <td>...</td>\n",
              "      <td>...</td>\n",
              "      <td>...</td>\n",
              "      <td>...</td>\n",
              "      <td>...</td>\n",
              "      <td>...</td>\n",
              "      <td>...</td>\n",
              "      <td>...</td>\n",
              "      <td>...</td>\n",
              "      <td>...</td>\n",
              "      <td>...</td>\n",
              "      <td>...</td>\n",
              "      <td>...</td>\n",
              "      <td>...</td>\n",
              "      <td>...</td>\n",
              "      <td>...</td>\n",
              "      <td>...</td>\n",
              "      <td>...</td>\n",
              "      <td>...</td>\n",
              "      <td>...</td>\n",
              "    </tr>\n",
              "    <tr>\n",
              "      <th>208927</th>\n",
              "      <td>0.097849</td>\n",
              "      <td>0.458019</td>\n",
              "      <td>0.418812</td>\n",
              "      <td>307532496</td>\n",
              "      <td>2022-04-17</td>\n",
              "      <td>0.551080</td>\n",
              "      <td>3824.467794</td>\n",
              "      <td>S2A_MSIL1C_20220417T141741_N0400_R010_T20JLL_2...</td>\n",
              "      <td>0.0</td>\n",
              "      <td>4</td>\n",
              "      <td>...</td>\n",
              "      <td>0</td>\n",
              "      <td>0</td>\n",
              "      <td>0</td>\n",
              "      <td>0</td>\n",
              "      <td>0</td>\n",
              "      <td>0</td>\n",
              "      <td>0</td>\n",
              "      <td>0</td>\n",
              "      <td>0</td>\n",
              "      <td>0</td>\n",
              "    </tr>\n",
              "    <tr>\n",
              "      <th>208928</th>\n",
              "      <td>0.156071</td>\n",
              "      <td>0.556197</td>\n",
              "      <td>0.632042</td>\n",
              "      <td>307535460</td>\n",
              "      <td>2022-04-17</td>\n",
              "      <td>0.475674</td>\n",
              "      <td>7184.535857</td>\n",
              "      <td>S2A_MSIL1C_20220417T141741_N0400_R010_T20JLL_2...</td>\n",
              "      <td>0.0</td>\n",
              "      <td>4</td>\n",
              "      <td>...</td>\n",
              "      <td>0</td>\n",
              "      <td>0</td>\n",
              "      <td>0</td>\n",
              "      <td>0</td>\n",
              "      <td>0</td>\n",
              "      <td>0</td>\n",
              "      <td>0</td>\n",
              "      <td>0</td>\n",
              "      <td>0</td>\n",
              "      <td>0</td>\n",
              "    </tr>\n",
              "    <tr>\n",
              "      <th>208929</th>\n",
              "      <td>0.082168</td>\n",
              "      <td>0.514438</td>\n",
              "      <td>0.502422</td>\n",
              "      <td>307796387</td>\n",
              "      <td>2022-04-17</td>\n",
              "      <td>0.553720</td>\n",
              "      <td>1147.997645</td>\n",
              "      <td>S2A_MSIL1C_20220417T141741_N0400_R010_T20JLL_2...</td>\n",
              "      <td>0.0</td>\n",
              "      <td>4</td>\n",
              "      <td>...</td>\n",
              "      <td>0</td>\n",
              "      <td>0</td>\n",
              "      <td>0</td>\n",
              "      <td>0</td>\n",
              "      <td>0</td>\n",
              "      <td>0</td>\n",
              "      <td>0</td>\n",
              "      <td>0</td>\n",
              "      <td>0</td>\n",
              "      <td>0</td>\n",
              "    </tr>\n",
              "    <tr>\n",
              "      <th>208930</th>\n",
              "      <td>0.129452</td>\n",
              "      <td>0.468681</td>\n",
              "      <td>0.584502</td>\n",
              "      <td>307097955</td>\n",
              "      <td>2022-04-17</td>\n",
              "      <td>0.520595</td>\n",
              "      <td>5185.690046</td>\n",
              "      <td>S2A_MSIL1C_20220417T141741_N0400_R010_T20JLL_2...</td>\n",
              "      <td>0.0</td>\n",
              "      <td>4</td>\n",
              "      <td>...</td>\n",
              "      <td>0</td>\n",
              "      <td>0</td>\n",
              "      <td>0</td>\n",
              "      <td>0</td>\n",
              "      <td>0</td>\n",
              "      <td>0</td>\n",
              "      <td>0</td>\n",
              "      <td>0</td>\n",
              "      <td>0</td>\n",
              "      <td>0</td>\n",
              "    </tr>\n",
              "    <tr>\n",
              "      <th>208931</th>\n",
              "      <td>0.071350</td>\n",
              "      <td>0.415371</td>\n",
              "      <td>0.438950</td>\n",
              "      <td>901791744</td>\n",
              "      <td>2022-04-17</td>\n",
              "      <td>0.625337</td>\n",
              "      <td>9394.381202</td>\n",
              "      <td>S2A_MSIL1C_20220417T141741_N0400_R010_T20JLL_2...</td>\n",
              "      <td>0.0</td>\n",
              "      <td>4</td>\n",
              "      <td>...</td>\n",
              "      <td>0</td>\n",
              "      <td>0</td>\n",
              "      <td>0</td>\n",
              "      <td>0</td>\n",
              "      <td>0</td>\n",
              "      <td>0</td>\n",
              "      <td>0</td>\n",
              "      <td>0</td>\n",
              "      <td>0</td>\n",
              "      <td>0</td>\n",
              "    </tr>\n",
              "  </tbody>\n",
              "</table>\n",
              "<p>197680 rows × 35 columns</p>\n",
              "</div>\n",
              "      <button class=\"colab-df-convert\" onclick=\"convertToInteractive('df-5c9751bd-9907-4b06-a3d0-9a249f27678f')\"\n",
              "              title=\"Convert this dataframe to an interactive table.\"\n",
              "              style=\"display:none;\">\n",
              "        \n",
              "  <svg xmlns=\"http://www.w3.org/2000/svg\" height=\"24px\"viewBox=\"0 0 24 24\"\n",
              "       width=\"24px\">\n",
              "    <path d=\"M0 0h24v24H0V0z\" fill=\"none\"/>\n",
              "    <path d=\"M18.56 5.44l.94 2.06.94-2.06 2.06-.94-2.06-.94-.94-2.06-.94 2.06-2.06.94zm-11 1L8.5 8.5l.94-2.06 2.06-.94-2.06-.94L8.5 2.5l-.94 2.06-2.06.94zm10 10l.94 2.06.94-2.06 2.06-.94-2.06-.94-.94-2.06-.94 2.06-2.06.94z\"/><path d=\"M17.41 7.96l-1.37-1.37c-.4-.4-.92-.59-1.43-.59-.52 0-1.04.2-1.43.59L10.3 9.45l-7.72 7.72c-.78.78-.78 2.05 0 2.83L4 21.41c.39.39.9.59 1.41.59.51 0 1.02-.2 1.41-.59l7.78-7.78 2.81-2.81c.8-.78.8-2.07 0-2.86zM5.41 20L4 18.59l7.72-7.72 1.47 1.35L5.41 20z\"/>\n",
              "  </svg>\n",
              "      </button>\n",
              "      \n",
              "  <style>\n",
              "    .colab-df-container {\n",
              "      display:flex;\n",
              "      flex-wrap:wrap;\n",
              "      gap: 12px;\n",
              "    }\n",
              "\n",
              "    .colab-df-convert {\n",
              "      background-color: #E8F0FE;\n",
              "      border: none;\n",
              "      border-radius: 50%;\n",
              "      cursor: pointer;\n",
              "      display: none;\n",
              "      fill: #1967D2;\n",
              "      height: 32px;\n",
              "      padding: 0 0 0 0;\n",
              "      width: 32px;\n",
              "    }\n",
              "\n",
              "    .colab-df-convert:hover {\n",
              "      background-color: #E2EBFA;\n",
              "      box-shadow: 0px 1px 2px rgba(60, 64, 67, 0.3), 0px 1px 3px 1px rgba(60, 64, 67, 0.15);\n",
              "      fill: #174EA6;\n",
              "    }\n",
              "\n",
              "    [theme=dark] .colab-df-convert {\n",
              "      background-color: #3B4455;\n",
              "      fill: #D2E3FC;\n",
              "    }\n",
              "\n",
              "    [theme=dark] .colab-df-convert:hover {\n",
              "      background-color: #434B5C;\n",
              "      box-shadow: 0px 1px 3px 1px rgba(0, 0, 0, 0.15);\n",
              "      filter: drop-shadow(0px 1px 2px rgba(0, 0, 0, 0.3));\n",
              "      fill: #FFFFFF;\n",
              "    }\n",
              "  </style>\n",
              "\n",
              "      <script>\n",
              "        const buttonEl =\n",
              "          document.querySelector('#df-5c9751bd-9907-4b06-a3d0-9a249f27678f button.colab-df-convert');\n",
              "        buttonEl.style.display =\n",
              "          google.colab.kernel.accessAllowed ? 'block' : 'none';\n",
              "\n",
              "        async function convertToInteractive(key) {\n",
              "          const element = document.querySelector('#df-5c9751bd-9907-4b06-a3d0-9a249f27678f');\n",
              "          const dataTable =\n",
              "            await google.colab.kernel.invokeFunction('convertToInteractive',\n",
              "                                                     [key], {});\n",
              "          if (!dataTable) return;\n",
              "\n",
              "          const docLinkHtml = 'Like what you see? Visit the ' +\n",
              "            '<a target=\"_blank\" href=https://colab.research.google.com/notebooks/data_table.ipynb>data table notebook</a>'\n",
              "            + ' to learn more about interactive tables.';\n",
              "          element.innerHTML = '';\n",
              "          dataTable['output_type'] = 'display_data';\n",
              "          await google.colab.output.renderOutput(dataTable, element);\n",
              "          const docLink = document.createElement('div');\n",
              "          docLink.innerHTML = docLinkHtml;\n",
              "          element.appendChild(docLink);\n",
              "        }\n",
              "      </script>\n",
              "    </div>\n",
              "  </div>\n",
              "  "
            ]
          },
          "metadata": {},
          "execution_count": 65
        }
      ]
    },
    {
      "cell_type": "markdown",
      "source": [
        "##6- Aplicación de filtro por 10% de nubosidad"
      ],
      "metadata": {
        "id": "Hp-v_QZLlFRW"
      },
      "id": "Hp-v_QZLlFRW"
    },
    {
      "cell_type": "code",
      "source": [
        "# Filtramos por nubosidad < 10%\n",
        "df_interest_EN = df_interest_E2_spring[df_interest_E2_spring['clouds_on_raster']<0.1]\n",
        "print(len(df_interest_EN))"
      ],
      "metadata": {
        "colab": {
          "base_uri": "https://localhost:8080/"
        },
        "id": "B9cQ2xKYdiR-",
        "outputId": "1c360b0b-ea00-4ca2-a031-ace706e08d76"
      },
      "id": "B9cQ2xKYdiR-",
      "execution_count": 67,
      "outputs": [
        {
          "output_type": "stream",
          "name": "stdout",
          "text": [
            "112807\n"
          ]
        }
      ]
    },
    {
      "cell_type": "markdown",
      "source": [
        "##7- Imputación\n",
        "Imputamos valores nulos de todas las columnas bajo el criterio del K-vecino más cercano"
      ],
      "metadata": {
        "id": "iCqm-5PwmEbe"
      },
      "id": "iCqm-5PwmEbe"
    },
    {
      "cell_type": "code",
      "source": [
        "cols = ['ndvi_max', 'B02_median', 'B06_median', 'B11_median', 'B02_summer', 'B02_autumn', 'B02_winter', 'B02_spring', 'B06_summer', 'B06_autumn', 'B06_winter', \n",
        "                'B06_spring', 'B11_summer', 'B11_autumn', 'B11_winter', 'B11_spring']\n",
        "#df_interest_EI = df_interest_EN.copy()\n",
        "df_interest_EI = df_interest_E2_spring\n",
        "\n",
        "kn_imputer = IterativeImputer(random_state=0, estimator=KNeighborsRegressor())\n",
        "df_interest_EI[cols] = kn_imputer.fit_transform(df_interest_EI[cols])\n",
        "\n",
        "# Podemos graficar como quedaron todas las columnas imputadas pero hay que tener en cuenta que tarda en correr\n",
        "# msno.bar(df_interest_D3,figsize=(14, 6), sort=\"ascending\",fontsize=12, color='lightblue')"
      ],
      "metadata": {
        "colab": {
          "base_uri": "https://localhost:8080/"
        },
        "id": "jqxIvZ8fmjYK",
        "outputId": "a99c7d05-d40a-4cbd-82c5-619fdf81b254"
      },
      "id": "jqxIvZ8fmjYK",
      "execution_count": 82,
      "outputs": [
        {
          "output_type": "stream",
          "name": "stderr",
          "text": [
            "/usr/local/lib/python3.7/dist-packages/sklearn/impute/_iterative.py:701: ConvergenceWarning: [IterativeImputer] Early stopping criterion not reached.\n",
            "  ConvergenceWarning,\n",
            "/usr/local/lib/python3.7/dist-packages/pandas/core/frame.py:3678: SettingWithCopyWarning: \n",
            "A value is trying to be set on a copy of a slice from a DataFrame.\n",
            "Try using .loc[row_indexer,col_indexer] = value instead\n",
            "\n",
            "See the caveats in the documentation: https://pandas.pydata.org/pandas-docs/stable/user_guide/indexing.html#returning-a-view-versus-a-copy\n",
            "  self[col] = igetitem(value, i)\n"
          ]
        }
      ]
    },
    {
      "cell_type": "code",
      "source": [
        "msno.bar(df_interest_EI,figsize=(14, 6), sort=\"ascending\",fontsize=12, color='orange')"
      ],
      "metadata": {
        "colab": {
          "base_uri": "https://localhost:8080/",
          "height": 516
        },
        "id": "McP5MON8nASn",
        "outputId": "54e34106-43eb-4e03-f794-0575223658c7"
      },
      "id": "McP5MON8nASn",
      "execution_count": 69,
      "outputs": [
        {
          "output_type": "execute_result",
          "data": {
            "text/plain": [
              "<matplotlib.axes._subplots.AxesSubplot at 0x7f406436fb90>"
            ]
          },
          "metadata": {},
          "execution_count": 69
        },
        {
          "output_type": "display_data",
          "data": {
            "text/plain": [
              "<Figure size 1008x432 with 3 Axes>"
            ],
            "image/png": "[encoded data removed]"
          },
          "metadata": {
            "needs_background": "light"
          }
        }
      ]
    },
    {
      "cell_type": "markdown",
      "source": [
        "La siguiente gráfica muestra las funciones de distribución para la variable ndvi_max antes y después de realizar la imputación, con filtro en nubosidad."
      ],
      "metadata": {
        "id": "pk99UmpnsXCi"
      },
      "id": "pk99UmpnsXCi"
    },
    {
      "cell_type": "code",
      "source": [
        "import seaborn as sns\n",
        "sns.set_context('talk')"
      ],
      "metadata": {
        "id": "iLBbFgF5rwMY"
      },
      "id": "iLBbFgF5rwMY",
      "execution_count": 72,
      "outputs": []
    },
    {
      "cell_type": "code",
      "source": [
        "df_imp_ndvi = df_interest_EI.ndvi_max.to_frame()\n",
        "df_imp_ndvi['Imputation'] = 'KNN over ndvi_max'\n",
        "df_ndvi = df_interest_EN.ndvi_max.dropna().to_frame()\n",
        "df_ndvi['Imputation'] = 'Original'\n",
        "data = pd.concat([df_imp_ndvi, df_ndvi], ignore_index=True)\n",
        "fig = plt.figure(figsize=(8, 5))\n",
        "g = sns.kdeplot(data=data, x='ndvi_max', hue='Imputation')"
      ],
      "metadata": {
        "colab": {
          "base_uri": "https://localhost:8080/",
          "height": 355
        },
        "id": "pHCENI2dqDwi",
        "outputId": "30e4e570-bd6e-438d-deb2-b8fa0c858de3"
      },
      "id": "pHCENI2dqDwi",
      "execution_count": 81,
      "outputs": [
        {
          "output_type": "display_data",
          "data": {
            "text/plain": [
              "<Figure size 576x360 with 1 Axes>"
            ],
            "image/png": "[encoded data removed]"
          },
          "metadata": {
            "needs_background": "light"
          }
        }
      ]
    },
    {
      "cell_type": "markdown",
      "source": [
        "La siguiente gráfica muestra las funciones de distribución para la variable ndvi_max antes y después de realizar la imputación, sin filtro en nubosidad."
      ],
      "metadata": {
        "id": "aRwQcvkExp9P"
      },
      "id": "aRwQcvkExp9P"
    },
    {
      "cell_type": "code",
      "source": [
        "df_imp_ndvi = df_interest_EI.ndvi_max.to_frame()\n",
        "df_imp_ndvi['Imputation'] = 'KNN over ndvi_max'\n",
        "df_ndvi = df_interest_EN.ndvi_max.dropna().to_frame()\n",
        "df_ndvi['Imputation'] = 'Original'\n",
        "data = pd.concat([df_imp_ndvi, df_ndvi], ignore_index=True)\n",
        "fig = plt.figure(figsize=(8, 5))\n",
        "g = sns.kdeplot(data=data, x='ndvi_max', hue='Imputation')"
      ],
      "metadata": {
        "colab": {
          "base_uri": "https://localhost:8080/",
          "height": 355
        },
        "id": "5JX0dRoHxMC2",
        "outputId": "127f10b1-057c-40bc-9ad2-9609415c879d"
      },
      "id": "5JX0dRoHxMC2",
      "execution_count": 83,
      "outputs": [
        {
          "output_type": "display_data",
          "data": {
            "text/plain": [
              "<Figure size 576x360 with 1 Axes>"
            ],
            "image/png": "[encoded data removed]"
          },
          "metadata": {
            "needs_background": "light"
          }
        }
      ]
    }
  ],
  "metadata": {
    "kernelspec": {
      "display_name": "Python 3 (ipykernel)",
      "language": "python",
      "name": "python3"
    },
    "language_info": {
      "codemirror_mode": {
        "name": "ipython",
        "version": 3
      },
      "file_extension": ".py",
      "mimetype": "text/x-python",
      "name": "python",
      "nbconvert_exporter": "python",
      "pygments_lexer": "ipython3",
      "version": "3.9.7"
    },
    "colab": {
      "name": "EyCD_MEV_Garay_v1.ipynb",
      "provenance": [],
      "include_colab_link": true
    }
  },
  "nbformat": 4,
  "nbformat_minor": 5
}