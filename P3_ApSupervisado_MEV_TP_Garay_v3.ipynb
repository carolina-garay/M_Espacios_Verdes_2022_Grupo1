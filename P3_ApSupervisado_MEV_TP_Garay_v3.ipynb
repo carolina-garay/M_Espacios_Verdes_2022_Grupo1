{
  "cells": [
    {
      "cell_type": "markdown",
      "metadata": {
        "id": "view-in-github",
        "colab_type": "text"
      },
      "source": [
        "<a href=\"https://colab.research.google.com/github/carolina-garay/M_Espacios_Verdes_2022_Grupo1/blob/TP3_ApSupervisado_Garay/P3_ApSupervisado_MEV_TP_Garay_v3.ipynb\" target=\"_parent\"><img src=\"https://colab.research.google.com/assets/colab-badge.svg\" alt=\"Open In Colab\"/></a>"
      ]
    },
    {
      "cell_type": "markdown",
      "id": "5ae369d0-fb59-4e77-a928-a6417de1a666",
      "metadata": {
        "id": "5ae369d0-fb59-4e77-a928-a6417de1a666"
      },
      "source": [
        "# Mentoria: Monitoreo de Espacios Verdes\n",
        "\n",
        "__DIPLODATOS 2022 - FAMAF UNC__\n",
        "\n",
        "_Felix Rojo Lapalma_\n",
        "\n",
        "## **Aprendizaje Supervisado**\n",
        "\n",
        "**_GRUPO1_**\n",
        "\n",
        "Alumnos\n",
        "\n",
        "- Artola, María Fernanda\n",
        "- Garay, Carolina\n",
        "- Ormaechea, Sebastián\n",
        "\n",
        "\n",
        "\n",
        "En esta etapa ya hemos avanzado en\n",
        "\n",
        "- [TP-Analisis-Visualizacion](https://github.com/felixlapalma/monitoreo-espacios-verdes-diplo202X/blob/main/notebooks-tp/Analisis-y-Visualizacion-MEV-TP.ipynb):\n",
        "\n",
        "  - análisis y exploración del conjunto de datos (aunque sea superficialmente)\n",
        "  - set representativo: Es decir, aprendimos que podemos llegar a trabajar con un set mas reducido (de las caracteristicas - columnas del dataframe) e igualmente vamos a estar representando gran parte del conjunto.\n",
        "  - inputacion de valores:   \n",
        "    - tenemos formas de inputar valores en rangos temporales que no tenemos (para una cierta zona) utilizando otros rangos temporales (aqui aprovechamos fuertemente la estacionalidad de lo que estamos monitoreando)\n",
        "    - que un outlier en un rango temporal puede ser un valor nominal en otro rango temporal.\n",
        "  - etc\n",
        "\n",
        "- [TP-Exploracion-y-Curación](https://drive.google.com/file/d/1-E0ijX7LTRczoAwYG7eAyfDb5PElyEfi/view?usp=sharing):\n",
        "\n",
        " - \"Curación\" de nuestro dataset con diferentes recetas. Por curar nos referimos a generar los procesos necesarios (trazables y reproducibles) que nos lleven del conjunto original de datos (que debe permanecer inmutable) hasta un conjunto que pueda ser consumido por distintos algorimos de aprendizaje. Entre ellos:\n",
        "    - filtrado\n",
        "    - imputacion de valores\n",
        "    - etc\n",
        "\n",
        "Es decir en esta instancia ya contamos con las recetas o procesos que nos permiten, partiendo del set de datos crudos pasar a un dataset listo para ser consumidos por los modelos de aprendizaje supervisado que seleccionemos.\n",
        " \n",
        "### Fuentes\n",
        "\n",
        "El presente trabajo práctico está inspirado en los correspondientes de:\n",
        "\n",
        "- [jbergamasco2019](https://github.com/jbergamasco/DiploDatos2019)\n",
        "\n",
        "- [TP-Analisis-Visualizacion](https://github.com/felixlapalma/monitoreo-espacios-verdes-diplo202X/blob/main/notebooks-tp/Analisis-y-Visualizacion-MEV-TP.ipynb)\n",
        "\n",
        "- [TP-Exploracion-y-Curación](https://drive.google.com/file/d/1-E0ijX7LTRczoAwYG7eAyfDb5PElyEfi/view?usp=sharing)\n",
        "\n",
        "## Sobre el Trabajo Requerido\n",
        "\n",
        "En este trabajo proponemos  explorar y aplicar lo aprendido en el curso (Aprendizaje Supervisado) integrandolo con lo desarrollado en los prácticos de Análisis y visualización y el correspondiente a Exploración y Curación de datos.\n",
        "\n",
        "### Conceptual\n",
        "\n",
        "Algunas de las preguntas que deberemos responder (avanzando en el TP):\n",
        "\n",
        "- ¿Cual seria el problema que pretendemos resolver utilizando Aprendizaje Supervisado? ¿Es un problema de clasificación o de regresion? Que distingue a uno de otro?\n",
        "\n",
        "- ¿Es suficiente un solo modelo? ¿Que tan importante es la parte temporal? ¿Necesitamos que sea estacional?\n",
        "\n",
        "- ¿Es necesario utilizar todas las bandas del raster o con ciertos indices es suficiente? (Esto ya lo respondio parcialmente en las TPs anteriores)\n",
        "\n",
        "- ¿Podríamos utilizar los modelos para detectar alguna clase de anomalía en el comportamiento de una dada región? ¿Como? \n",
        "\n",
        "- ¿Piensa que podriamos utilizar el enfoque actual (OBIA- Object-based Image Analysis) para clasificar a nivel de pixel? ¿Que deberiamos suponer o asumir para que esto sea valido?*\n",
        "\n",
        "*_Comentario_: _Si bien no lo mencionamos en forma explicita la forma de seleccionar y computar las diferentes propiedades en los rasters para la creacion del dataset implico el acceso a nivel de objetos o zonas. No se realizo un analisis de pixel sino a nivel de un \"conjunto\" de pixeles._\n",
        "\n",
        "### Hands-on\n",
        "\n",
        "A nivel de implementacion vamos a requerir la aplicación de diferentes modelos sobre el conjunto de datos (al menos 2 de ellos):\n",
        "\n",
        "- [ExtraTreeClassifier](https://scikit-learn.org/stable/modules/generated/sklearn.tree.ExtraTreeClassifier.html#sklearn.tree.ExtraTreeClassifier)\n",
        "- [RandomForestClassifier](https://scikit-learn.org/stable/modules/generated/sklearn.ensemble.RandomForestClassifier.html?highlight=random%20forest#sklearn.ensemble.RandomForestClassifier)\n",
        "- [XGBoost](https://xgboost.readthedocs.io/en/stable/)\n",
        "\n",
        "#### Pasos\n",
        "\n",
        "1. Descarga del Set de Datos$^1$\n",
        "2. Curacion (Recetas TP Exploración y Curación)\n",
        "3. Generacion de Features Extras$^2$\n",
        "4. Split Dataset\n",
        "5. Entrenamiento del Modelo\n",
        "  - [a] Grid Search\n",
        "  - [b] tunning de Hiperparametros\n",
        "6. Presentacion de Resultados y Metricas\n",
        "\n",
        "\n",
        "### Que Presentar?\n",
        "\n",
        "Set de Notebooks en los cuales se apliquen 2 modelos al menos de los mencionados junto al menos 3 de las recetas generadas en el TP de Exploracion y Curación. Para ello puede seguir los pasos del step anterior. \n",
        "En el curso del TP debemos poder responder (adicionalmente):\n",
        "- ¿Que receta parece otorgar el mejor ratio de costo/beneficio? Respecto a este punto considere que muchas veces el mayor \"accuracy\" (por solo nombrar una metrica) no significa el mayor beneficio. Esto se puede entender si consideramos que un modelo no se reduce solo a su inferencia, sino a todos lo pasos que nos permiten llevarla adelante.\n",
        "- Respecto a los modelos, para los `Trees` es necesario normalizar los datos? y para `XGB`?\n",
        "- Intuitivamente uno pensaria que los clasificadores deberian andar mejor en los espacios mas grandes (o de mayor area). Tiene alguna forma de corroborar o refutar esta idea?\n",
        "\n",
        "- Si el modelo fuera utilizado para identificar anómalias en espacios verdes,sobre que preferiria tener mayor efectividad? (el conocido dilema ¿Precision o Recall?) Es decir que proporcion de los espacios verdes identificados como sanos estaban sanos? (Precision) o que proporcion de los espacios verdes actualmente sanos, fueron identificados como tales? (Recall)\n",
        "Como ayuda piense las implicancias (mas allá del espacio verde en si) de marcar siempre en falta algun sitio (logistica, transporte, etc).\n",
        "\n",
        "\n",
        "$^1$ Para esta etapa hemos adicionado al set de datos originales un set de [espacios \"no-verdes\"](https://github.com/felixlapalma/monitoreo-espacios-verdes-diplo202X/blob/main/data/ab-initio-dataset-build.md#espacios-no-verdes-o-indefinidos). Esto con el fin de tener un esquema claro de separacion \"verde/No-verde\" para ayudarlo en el entrenamiento de su sistema. \n",
        "Para poder utilizarlo le recomendamos que lo procese en forma similar al dataset original (puede utilizar las mismas recetas). Una vez procesado cada uno por su cuenta y con los label correspondientes, puede unificar los datasets en uno único. Puede consultar [estructura-datos](https://github.com/felixlapalma/monitoreo-espacios-verdes-diplo202X/blob/main/data/estructura-datos.md) para ver las diferencias (minimas) entre los datasets.\n",
        "\n",
        "$^2$ Respecto al paso 3, mencionamos que puede ser necesario la generacion adicional de algun feature extra a posteriori de la receta (esto podria incorporarse en la receta si se considera beneficioso). Recuerde que los procesos de Ciencia de Datos son altamente no lineales y de iteracion continua (al menos en su fase inicial). Particualarmente la generacion de features relacionados a fechas, meses, estaciones, DOY (day of year) o WOY (weak of year) pueden resultarle util para responder algunas de las preguntas conceptuales.\n",
        "\n",
        "__EXTRA__: Set de pasos descriptivos que seguiria para poder implementar/responder la ultima de las preguntas conceptuales (OBIA vs PBIA- pixel based image analysis).\n",
        "\n",
        "__EXTRA$^2$__: Implementación en codigo de __EXTRA__ \n",
        "\n",
        "\n",
        "Cada una de las notebooks tiene que tener la secuencia propuesta (o variaciones debidamente justificadas). Con las metricas utilizadas, matrices de confusion, etc. Se valorará analisis de tradeoff (o costo beneficio) entre los modelos y las recetas utilizadas.\n"
      ]
    },
    {
      "cell_type": "markdown",
      "source": [
        "###Apunte\n",
        "\n",
        "La idea del practico, es un end2end (o una iteracion completa)  de los pasos que solemos realizar cuando enfrentamos un  problema de datos (lista bastante simplificada):\n",
        "-recepcion de los datos\n",
        "\n",
        "-curacion de los mismos\n",
        "\n",
        "-seleccion de modelos entrenamiento\n",
        "\n",
        "-analisis de resultados\n",
        "\n",
        "En ese aspecto, la adición de los espacios no verdes tiene la idea de sumarle una instancia de clase mas al problema y poder \"estresar\" un poco los modelos (y en el mismo camino tambien ayudarlos)\n",
        "\n",
        "**Lo que nos gustaría poder predecir en una primera instancia simplificada es si podemos dada las características de un espacio (los features que uds calcularon o definieron) identificarlo o no como un espacio verde**\n",
        "\n",
        "A posteriori podemos intentar usar ese enfoque para ver la degradacion de un espacio"
      ],
      "metadata": {
        "id": "LZFTLapzdj7r"
      },
      "id": "LZFTLapzdj7r"
    },
    {
      "cell_type": "code",
      "execution_count": 49,
      "id": "0a543c19-bc55-4bc3-a241-2a2395cae3cf",
      "metadata": {
        "colab": {
          "base_uri": "https://localhost:8080/"
        },
        "id": "0a543c19-bc55-4bc3-a241-2a2395cae3cf",
        "outputId": "d9afcf2d-b665-4507-eba2-57d1e3f555f4"
      },
      "outputs": [
        {
          "output_type": "stream",
          "name": "stdout",
          "text": [
            "Running on CoLab\n",
            "Downloading...\n",
            "From: https://drive.google.com/uc?id=1tgbIQaEXzIghcFYyd2YM9iMho4TDHHFd\n",
            "To: /content/espacios-verdes-indexs-cba-20170101-20220420.zip\n",
            "100% 170M/170M [00:01<00:00, 151MB/s]\n",
            "Downloading...\n",
            "From: https://drive.google.com/uc?id=1mfir4DZxT3g9tQkPJzCAZYy2VS2VHp7O\n",
            "To: /content/espacios-NO-verdes-indexs-cba-20170101-20220420.zip\n",
            "100% 78.7M/78.7M [00:00<00:00, 145MB/s]\n",
            "time: 18 s (started: 2022-09-16 01:05:46 +00:00)\n"
          ]
        }
      ],
      "source": [
        "import pandas as pd\n",
        "if 'google.colab' in str(get_ipython()):\n",
        "    print('Running on CoLab')\n",
        "    # running on colab\n",
        "    # from link @ https://github.com/felixlapalma/monitoreo-espacios-verdes-diplo202X/blob/main/data/ab-initio-dataset-build.md\n",
        "    !gdown https://drive.google.com/file/d/1tgbIQaEXzIghcFYyd2YM9iMho4TDHHFd/view?usp=sharing --fuzzy\n",
        "    !gdown https://drive.google.com/file/d/1mfir4DZxT3g9tQkPJzCAZYy2VS2VHp7O/view?usp=sharing --fuzzy\n",
        "    # Notar el cambio del path y el tipo de archivo (no lo descomprimimos)\n",
        "    df_verde=pd.read_csv('/content/espacios-verdes-indexs-cba-20170101-20220420.zip',index_col=0)\n",
        "    df_no_verde=pd.read_csv('/content/espacios-NO-verdes-indexs-cba-20170101-20220420.zip',index_col=0)\n",
        "else:\n",
        "    # recuerde descargar el dataset desde los links mencionados en el README\n",
        "    df_verde=pd.read_csv('../data/cba/espacios-verdes-indexs-cba-20170101-20220420.csv',index_col=0)\n",
        "    df_no_verde=pd.read_csv('/data/cba/espacios-NO-verdes-indexs-cba-20170101-20220420.csv',index_col=0)"
      ]
    },
    {
      "cell_type": "code",
      "source": [
        "# Carga de librerías necesarias\n",
        "!pip install ipython-autotime\n",
        "%load_ext autotime\n",
        "import os\n",
        "import pandas as pd\n",
        "import numpy as np\n",
        "import matplotlib.pyplot as plt\n",
        "import seaborn as sns\n",
        "import missingno as msno\n",
        "from sklearn.experimental import enable_iterative_imputer\n",
        "from sklearn.neighbors import KNeighborsRegressor\n",
        "from sklearn.impute import IterativeImputer\n",
        "\n",
        "\n",
        "from sklearn.preprocessing import StandardScaler, LabelEncoder\n",
        "from sklearn.impute import SimpleImputer\n",
        "from sklearn.model_selection import train_test_split, GridSearchCV, StratifiedKFold\n",
        "from sklearn.model_selection import RepeatedStratifiedKFold\n",
        "from sklearn.metrics import accuracy_score, ConfusionMatrixDisplay, classification_report\n",
        "from sklearn.feature_selection import SelectKBest\n",
        "from sklearn.feature_selection import f_classif\n",
        "from scipy.stats import randint as sp_randint\n",
        "from sklearn.model_selection import RandomizedSearchCV\n",
        "\n",
        "from sklearn.tree import DecisionTreeClassifier\n",
        "from sklearn.linear_model import SGDClassifier\n",
        "from sklearn.linear_model import RidgeClassifier\n",
        "from sklearn.neighbors import KNeighborsClassifier\n",
        "from sklearn.svm import SVC\n",
        "from sklearn.ensemble import BaggingClassifier\n",
        "from sklearn.ensemble import RandomForestClassifier\n",
        "from sklearn.linear_model import LogisticRegression\n",
        "import lightgbm as lgb\n",
        "from sklearn.metrics import confusion_matrix\n",
        "from sklearn.ensemble import ExtraTreesClassifier as ETC"
      ],
      "metadata": {
        "id": "x3lEvtLMc8Tp",
        "colab": {
          "base_uri": "https://localhost:8080/"
        },
        "outputId": "ba30d91b-fd34-4019-8aa8-5fc2c7eac0f5"
      },
      "id": "x3lEvtLMc8Tp",
      "execution_count": 50,
      "outputs": [
        {
          "output_type": "stream",
          "name": "stdout",
          "text": [
            "Looking in indexes: https://pypi.org/simple, https://us-python.pkg.dev/colab-wheels/public/simple/\n",
            "Requirement already satisfied: ipython-autotime in /usr/local/lib/python3.7/dist-packages (0.3.1)\n",
            "Requirement already satisfied: ipython in /usr/local/lib/python3.7/dist-packages (from ipython-autotime) (7.9.0)\n",
            "Requirement already satisfied: decorator in /usr/local/lib/python3.7/dist-packages (from ipython->ipython-autotime) (4.4.2)\n",
            "Requirement already satisfied: pexpect in /usr/local/lib/python3.7/dist-packages (from ipython->ipython-autotime) (4.8.0)\n",
            "Requirement already satisfied: prompt-toolkit<2.1.0,>=2.0.0 in /usr/local/lib/python3.7/dist-packages (from ipython->ipython-autotime) (2.0.10)\n",
            "Requirement already satisfied: pickleshare in /usr/local/lib/python3.7/dist-packages (from ipython->ipython-autotime) (0.7.5)\n",
            "Requirement already satisfied: jedi>=0.10 in /usr/local/lib/python3.7/dist-packages (from ipython->ipython-autotime) (0.18.1)\n",
            "Requirement already satisfied: backcall in /usr/local/lib/python3.7/dist-packages (from ipython->ipython-autotime) (0.2.0)\n",
            "Requirement already satisfied: traitlets>=4.2 in /usr/local/lib/python3.7/dist-packages (from ipython->ipython-autotime) (5.1.1)\n",
            "Requirement already satisfied: pygments in /usr/local/lib/python3.7/dist-packages (from ipython->ipython-autotime) (2.6.1)\n",
            "Requirement already satisfied: setuptools>=18.5 in /usr/local/lib/python3.7/dist-packages (from ipython->ipython-autotime) (57.4.0)\n",
            "Requirement already satisfied: parso<0.9.0,>=0.8.0 in /usr/local/lib/python3.7/dist-packages (from jedi>=0.10->ipython->ipython-autotime) (0.8.3)\n",
            "Requirement already satisfied: wcwidth in /usr/local/lib/python3.7/dist-packages (from prompt-toolkit<2.1.0,>=2.0.0->ipython->ipython-autotime) (0.2.5)\n",
            "Requirement already satisfied: six>=1.9.0 in /usr/local/lib/python3.7/dist-packages (from prompt-toolkit<2.1.0,>=2.0.0->ipython->ipython-autotime) (1.15.0)\n",
            "Requirement already satisfied: ptyprocess>=0.5 in /usr/local/lib/python3.7/dist-packages (from pexpect->ipython->ipython-autotime) (0.7.0)\n",
            "The autotime extension is already loaded. To reload it, use:\n",
            "  %reload_ext autotime\n",
            "time: 3.37 s (started: 2022-09-16 01:06:04 +00:00)\n"
          ]
        }
      ]
    },
    {
      "cell_type": "code",
      "execution_count": 51,
      "id": "39bc292e-2922-4ce9-8870-d838f46f9f7c",
      "metadata": {
        "colab": {
          "base_uri": "https://localhost:8080/",
          "height": 395
        },
        "id": "39bc292e-2922-4ce9-8870-d838f46f9f7c",
        "outputId": "e8ee2e10-e357-4f6f-d4ed-529a98a4ad21"
      },
      "outputs": [
        {
          "output_type": "execute_result",
          "data": {
            "text/plain": [
              "   B02_min  B02_max  B02_mean  B02_median  B02_nodata  B02_range  B02_count  \\\n",
              "0   0.0871   0.1421  0.102570     0.09650         0.0     0.0550         47   \n",
              "1   0.0970   0.1936  0.118354     0.10660         0.0     0.0966         13   \n",
              "2   0.0992   0.1273  0.111805     0.11290         0.0     0.0281         19   \n",
              "3   0.0995   0.1933  0.118491     0.11355         0.0     0.0938         66   \n",
              "4   0.1059   0.1385  0.122453     0.12240         0.0     0.0326         47   \n",
              "\n",
              "   B03_min  B03_max  B03_mean  ...  sipi_median  sipi_nodata  sipi_range  \\\n",
              "0   0.0768   0.1516  0.098885  ...     0.884216          0.0    0.453065   \n",
              "1   0.1006   0.1949  0.122154  ...     0.971875          0.0    0.247045   \n",
              "2   0.1037   0.1369  0.117795  ...     0.973017          0.0    0.207006   \n",
              "3   0.0993   0.1990  0.124512  ...     0.966202          0.0    0.258424   \n",
              "4   0.1036   0.1580  0.132455  ...     0.993986          0.0    0.260419   \n",
              "\n",
              "   sipi_count                                             raster  \\\n",
              "0          47  S2A_MSIL1C_20170103T142022_N0204_R010_T20JLL_2...   \n",
              "1          13  S2A_MSIL1C_20170103T142022_N0204_R010_T20JLL_2...   \n",
              "2          19  S2A_MSIL1C_20170103T142022_N0204_R010_T20JLL_2...   \n",
              "3          66  S2A_MSIL1C_20170103T142022_N0204_R010_T20JLL_2...   \n",
              "4          47  S2A_MSIL1C_20170103T142022_N0204_R010_T20JLL_2...   \n",
              "\n",
              "   clouds_on_raster     osm_id  name      area_m2        date  \n",
              "0               0.0  605976736   NaN  4650.710032  2017-01-03  \n",
              "1               0.0  559322368   NaN  1502.000513  2017-01-03  \n",
              "2               0.0  559322369   NaN  2004.192528  2017-01-03  \n",
              "3               0.0  559328111   NaN  6940.507640  2017-01-03  \n",
              "4               0.0  559328112   NaN  4587.356048  2017-01-03  \n",
              "\n",
              "[5 rows x 167 columns]"
            ],
            "text/html": [
              "\n",
              "  <div id=\"df-b8c3ecf1-d9d9-48b8-bce7-fc8a00509038\">\n",
              "    <div class=\"colab-df-container\">\n",
              "      <div>\n",
              "<style scoped>\n",
              "    .dataframe tbody tr th:only-of-type {\n",
              "        vertical-align: middle;\n",
              "    }\n",
              "\n",
              "    .dataframe tbody tr th {\n",
              "        vertical-align: top;\n",
              "    }\n",
              "\n",
              "    .dataframe thead th {\n",
              "        text-align: right;\n",
              "    }\n",
              "</style>\n",
              "<table border=\"1\" class=\"dataframe\">\n",
              "  <thead>\n",
              "    <tr style=\"text-align: right;\">\n",
              "      <th></th>\n",
              "      <th>B02_min</th>\n",
              "      <th>B02_max</th>\n",
              "      <th>B02_mean</th>\n",
              "      <th>B02_median</th>\n",
              "      <th>B02_nodata</th>\n",
              "      <th>B02_range</th>\n",
              "      <th>B02_count</th>\n",
              "      <th>B03_min</th>\n",
              "      <th>B03_max</th>\n",
              "      <th>B03_mean</th>\n",
              "      <th>...</th>\n",
              "      <th>sipi_median</th>\n",
              "      <th>sipi_nodata</th>\n",
              "      <th>sipi_range</th>\n",
              "      <th>sipi_count</th>\n",
              "      <th>raster</th>\n",
              "      <th>clouds_on_raster</th>\n",
              "      <th>osm_id</th>\n",
              "      <th>name</th>\n",
              "      <th>area_m2</th>\n",
              "      <th>date</th>\n",
              "    </tr>\n",
              "  </thead>\n",
              "  <tbody>\n",
              "    <tr>\n",
              "      <th>0</th>\n",
              "      <td>0.0871</td>\n",
              "      <td>0.1421</td>\n",
              "      <td>0.102570</td>\n",
              "      <td>0.09650</td>\n",
              "      <td>0.0</td>\n",
              "      <td>0.0550</td>\n",
              "      <td>47</td>\n",
              "      <td>0.0768</td>\n",
              "      <td>0.1516</td>\n",
              "      <td>0.098885</td>\n",
              "      <td>...</td>\n",
              "      <td>0.884216</td>\n",
              "      <td>0.0</td>\n",
              "      <td>0.453065</td>\n",
              "      <td>47</td>\n",
              "      <td>S2A_MSIL1C_20170103T142022_N0204_R010_T20JLL_2...</td>\n",
              "      <td>0.0</td>\n",
              "      <td>605976736</td>\n",
              "      <td>NaN</td>\n",
              "      <td>4650.710032</td>\n",
              "      <td>2017-01-03</td>\n",
              "    </tr>\n",
              "    <tr>\n",
              "      <th>1</th>\n",
              "      <td>0.0970</td>\n",
              "      <td>0.1936</td>\n",
              "      <td>0.118354</td>\n",
              "      <td>0.10660</td>\n",
              "      <td>0.0</td>\n",
              "      <td>0.0966</td>\n",
              "      <td>13</td>\n",
              "      <td>0.1006</td>\n",
              "      <td>0.1949</td>\n",
              "      <td>0.122154</td>\n",
              "      <td>...</td>\n",
              "      <td>0.971875</td>\n",
              "      <td>0.0</td>\n",
              "      <td>0.247045</td>\n",
              "      <td>13</td>\n",
              "      <td>S2A_MSIL1C_20170103T142022_N0204_R010_T20JLL_2...</td>\n",
              "      <td>0.0</td>\n",
              "      <td>559322368</td>\n",
              "      <td>NaN</td>\n",
              "      <td>1502.000513</td>\n",
              "      <td>2017-01-03</td>\n",
              "    </tr>\n",
              "    <tr>\n",
              "      <th>2</th>\n",
              "      <td>0.0992</td>\n",
              "      <td>0.1273</td>\n",
              "      <td>0.111805</td>\n",
              "      <td>0.11290</td>\n",
              "      <td>0.0</td>\n",
              "      <td>0.0281</td>\n",
              "      <td>19</td>\n",
              "      <td>0.1037</td>\n",
              "      <td>0.1369</td>\n",
              "      <td>0.117795</td>\n",
              "      <td>...</td>\n",
              "      <td>0.973017</td>\n",
              "      <td>0.0</td>\n",
              "      <td>0.207006</td>\n",
              "      <td>19</td>\n",
              "      <td>S2A_MSIL1C_20170103T142022_N0204_R010_T20JLL_2...</td>\n",
              "      <td>0.0</td>\n",
              "      <td>559322369</td>\n",
              "      <td>NaN</td>\n",
              "      <td>2004.192528</td>\n",
              "      <td>2017-01-03</td>\n",
              "    </tr>\n",
              "    <tr>\n",
              "      <th>3</th>\n",
              "      <td>0.0995</td>\n",
              "      <td>0.1933</td>\n",
              "      <td>0.118491</td>\n",
              "      <td>0.11355</td>\n",
              "      <td>0.0</td>\n",
              "      <td>0.0938</td>\n",
              "      <td>66</td>\n",
              "      <td>0.0993</td>\n",
              "      <td>0.1990</td>\n",
              "      <td>0.124512</td>\n",
              "      <td>...</td>\n",
              "      <td>0.966202</td>\n",
              "      <td>0.0</td>\n",
              "      <td>0.258424</td>\n",
              "      <td>66</td>\n",
              "      <td>S2A_MSIL1C_20170103T142022_N0204_R010_T20JLL_2...</td>\n",
              "      <td>0.0</td>\n",
              "      <td>559328111</td>\n",
              "      <td>NaN</td>\n",
              "      <td>6940.507640</td>\n",
              "      <td>2017-01-03</td>\n",
              "    </tr>\n",
              "    <tr>\n",
              "      <th>4</th>\n",
              "      <td>0.1059</td>\n",
              "      <td>0.1385</td>\n",
              "      <td>0.122453</td>\n",
              "      <td>0.12240</td>\n",
              "      <td>0.0</td>\n",
              "      <td>0.0326</td>\n",
              "      <td>47</td>\n",
              "      <td>0.1036</td>\n",
              "      <td>0.1580</td>\n",
              "      <td>0.132455</td>\n",
              "      <td>...</td>\n",
              "      <td>0.993986</td>\n",
              "      <td>0.0</td>\n",
              "      <td>0.260419</td>\n",
              "      <td>47</td>\n",
              "      <td>S2A_MSIL1C_20170103T142022_N0204_R010_T20JLL_2...</td>\n",
              "      <td>0.0</td>\n",
              "      <td>559328112</td>\n",
              "      <td>NaN</td>\n",
              "      <td>4587.356048</td>\n",
              "      <td>2017-01-03</td>\n",
              "    </tr>\n",
              "  </tbody>\n",
              "</table>\n",
              "<p>5 rows × 167 columns</p>\n",
              "</div>\n",
              "      <button class=\"colab-df-convert\" onclick=\"convertToInteractive('df-b8c3ecf1-d9d9-48b8-bce7-fc8a00509038')\"\n",
              "              title=\"Convert this dataframe to an interactive table.\"\n",
              "              style=\"display:none;\">\n",
              "        \n",
              "  <svg xmlns=\"http://www.w3.org/2000/svg\" height=\"24px\"viewBox=\"0 0 24 24\"\n",
              "       width=\"24px\">\n",
              "    <path d=\"M0 0h24v24H0V0z\" fill=\"none\"/>\n",
              "    <path d=\"M18.56 5.44l.94 2.06.94-2.06 2.06-.94-2.06-.94-.94-2.06-.94 2.06-2.06.94zm-11 1L8.5 8.5l.94-2.06 2.06-.94-2.06-.94L8.5 2.5l-.94 2.06-2.06.94zm10 10l.94 2.06.94-2.06 2.06-.94-2.06-.94-.94-2.06-.94 2.06-2.06.94z\"/><path d=\"M17.41 7.96l-1.37-1.37c-.4-.4-.92-.59-1.43-.59-.52 0-1.04.2-1.43.59L10.3 9.45l-7.72 7.72c-.78.78-.78 2.05 0 2.83L4 21.41c.39.39.9.59 1.41.59.51 0 1.02-.2 1.41-.59l7.78-7.78 2.81-2.81c.8-.78.8-2.07 0-2.86zM5.41 20L4 18.59l7.72-7.72 1.47 1.35L5.41 20z\"/>\n",
              "  </svg>\n",
              "      </button>\n",
              "      \n",
              "  <style>\n",
              "    .colab-df-container {\n",
              "      display:flex;\n",
              "      flex-wrap:wrap;\n",
              "      gap: 12px;\n",
              "    }\n",
              "\n",
              "    .colab-df-convert {\n",
              "      background-color: #E8F0FE;\n",
              "      border: none;\n",
              "      border-radius: 50%;\n",
              "      cursor: pointer;\n",
              "      display: none;\n",
              "      fill: #1967D2;\n",
              "      height: 32px;\n",
              "      padding: 0 0 0 0;\n",
              "      width: 32px;\n",
              "    }\n",
              "\n",
              "    .colab-df-convert:hover {\n",
              "      background-color: #E2EBFA;\n",
              "      box-shadow: 0px 1px 2px rgba(60, 64, 67, 0.3), 0px 1px 3px 1px rgba(60, 64, 67, 0.15);\n",
              "      fill: #174EA6;\n",
              "    }\n",
              "\n",
              "    [theme=dark] .colab-df-convert {\n",
              "      background-color: #3B4455;\n",
              "      fill: #D2E3FC;\n",
              "    }\n",
              "\n",
              "    [theme=dark] .colab-df-convert:hover {\n",
              "      background-color: #434B5C;\n",
              "      box-shadow: 0px 1px 3px 1px rgba(0, 0, 0, 0.15);\n",
              "      filter: drop-shadow(0px 1px 2px rgba(0, 0, 0, 0.3));\n",
              "      fill: #FFFFFF;\n",
              "    }\n",
              "  </style>\n",
              "\n",
              "      <script>\n",
              "        const buttonEl =\n",
              "          document.querySelector('#df-b8c3ecf1-d9d9-48b8-bce7-fc8a00509038 button.colab-df-convert');\n",
              "        buttonEl.style.display =\n",
              "          google.colab.kernel.accessAllowed ? 'block' : 'none';\n",
              "\n",
              "        async function convertToInteractive(key) {\n",
              "          const element = document.querySelector('#df-b8c3ecf1-d9d9-48b8-bce7-fc8a00509038');\n",
              "          const dataTable =\n",
              "            await google.colab.kernel.invokeFunction('convertToInteractive',\n",
              "                                                     [key], {});\n",
              "          if (!dataTable) return;\n",
              "\n",
              "          const docLinkHtml = 'Like what you see? Visit the ' +\n",
              "            '<a target=\"_blank\" href=https://colab.research.google.com/notebooks/data_table.ipynb>data table notebook</a>'\n",
              "            + ' to learn more about interactive tables.';\n",
              "          element.innerHTML = '';\n",
              "          dataTable['output_type'] = 'display_data';\n",
              "          await google.colab.output.renderOutput(dataTable, element);\n",
              "          const docLink = document.createElement('div');\n",
              "          docLink.innerHTML = docLinkHtml;\n",
              "          element.appendChild(docLink);\n",
              "        }\n",
              "      </script>\n",
              "    </div>\n",
              "  </div>\n",
              "  "
            ]
          },
          "metadata": {},
          "execution_count": 51
        },
        {
          "output_type": "stream",
          "name": "stdout",
          "text": [
            "time: 39.8 ms (started: 2022-09-16 01:06:07 +00:00)\n"
          ]
        }
      ],
      "source": [
        "df_verde.head()"
      ]
    },
    {
      "cell_type": "code",
      "source": [
        "df_no_verde.head()"
      ],
      "metadata": {
        "id": "XHiCZAe_AdFZ",
        "colab": {
          "base_uri": "https://localhost:8080/",
          "height": 465
        },
        "outputId": "d511a550-e1a3-402c-cf90-0ea5755ce9bc"
      },
      "id": "XHiCZAe_AdFZ",
      "execution_count": 52,
      "outputs": [
        {
          "output_type": "execute_result",
          "data": {
            "text/plain": [
              "   B02_min  B02_max  B02_mean  B02_median  B02_nodata  B02_range  B02_count  \\\n",
              "0   0.0894   0.3261  0.165313     0.15350         0.0     0.2367        313   \n",
              "1   0.0950   0.5436  0.166934     0.14690         0.0     0.4486        317   \n",
              "2   0.0867   0.3236  0.163555     0.15535         0.0     0.2369        314   \n",
              "3   0.0874   0.3107  0.134499     0.13110         0.0     0.2233        315   \n",
              "4   0.0826   0.2872  0.127382     0.11620         0.0     0.2046        313   \n",
              "\n",
              "   B03_min  B03_max  B03_mean  ...  sipi_nodata  sipi_range  sipi_count  \\\n",
              "0   0.0827   0.3737  0.168369  ...          0.0   88.165550         313   \n",
              "1   0.0927   0.5340  0.170916  ...          0.0   69.959171         317   \n",
              "2   0.0807   0.3693  0.164975  ...          0.0   52.476419         314   \n",
              "3   0.0776   0.3101  0.132847  ...          0.0   35.171722         315   \n",
              "4   0.0722   0.3367  0.124013  ...          0.0    1.484326         313   \n",
              "\n",
              "                                              raster  clouds_on_raster  \\\n",
              "0  S2A_MSIL1C_20170103T142022_N0204_R010_T20JLL_2...               0.0   \n",
              "1  S2A_MSIL1C_20170103T142022_N0204_R010_T20JLL_2...               0.0   \n",
              "2  S2A_MSIL1C_20170103T142022_N0204_R010_T20JLL_2...               0.0   \n",
              "3  S2A_MSIL1C_20170103T142022_N0204_R010_T20JLL_2...               0.0   \n",
              "4  S2A_MSIL1C_20170103T142022_N0204_R010_T20JLL_2...               0.0   \n",
              "\n",
              "    osm_id       name       area_m2               desc        date  \n",
              "0  259-nev  undefined  31365.484905             Barrio  2017-01-03  \n",
              "1  237-nev  undefined  31365.484905  Barrio-Zona-Verde  2017-01-03  \n",
              "2  236-nev  undefined  31365.484905  Barrio-Zona-Verde  2017-01-03  \n",
              "3  235-nev  undefined  31365.484905  Barrio-Zona-Verde  2017-01-03  \n",
              "4  234-nev  undefined  31365.484905  Barrio-Zona-Verde  2017-01-03  \n",
              "\n",
              "[5 rows x 168 columns]"
            ],
            "text/html": [
              "\n",
              "  <div id=\"df-d845f0d8-561d-4f36-9d5b-c00fbb5deea3\">\n",
              "    <div class=\"colab-df-container\">\n",
              "      <div>\n",
              "<style scoped>\n",
              "    .dataframe tbody tr th:only-of-type {\n",
              "        vertical-align: middle;\n",
              "    }\n",
              "\n",
              "    .dataframe tbody tr th {\n",
              "        vertical-align: top;\n",
              "    }\n",
              "\n",
              "    .dataframe thead th {\n",
              "        text-align: right;\n",
              "    }\n",
              "</style>\n",
              "<table border=\"1\" class=\"dataframe\">\n",
              "  <thead>\n",
              "    <tr style=\"text-align: right;\">\n",
              "      <th></th>\n",
              "      <th>B02_min</th>\n",
              "      <th>B02_max</th>\n",
              "      <th>B02_mean</th>\n",
              "      <th>B02_median</th>\n",
              "      <th>B02_nodata</th>\n",
              "      <th>B02_range</th>\n",
              "      <th>B02_count</th>\n",
              "      <th>B03_min</th>\n",
              "      <th>B03_max</th>\n",
              "      <th>B03_mean</th>\n",
              "      <th>...</th>\n",
              "      <th>sipi_nodata</th>\n",
              "      <th>sipi_range</th>\n",
              "      <th>sipi_count</th>\n",
              "      <th>raster</th>\n",
              "      <th>clouds_on_raster</th>\n",
              "      <th>osm_id</th>\n",
              "      <th>name</th>\n",
              "      <th>area_m2</th>\n",
              "      <th>desc</th>\n",
              "      <th>date</th>\n",
              "    </tr>\n",
              "  </thead>\n",
              "  <tbody>\n",
              "    <tr>\n",
              "      <th>0</th>\n",
              "      <td>0.0894</td>\n",
              "      <td>0.3261</td>\n",
              "      <td>0.165313</td>\n",
              "      <td>0.15350</td>\n",
              "      <td>0.0</td>\n",
              "      <td>0.2367</td>\n",
              "      <td>313</td>\n",
              "      <td>0.0827</td>\n",
              "      <td>0.3737</td>\n",
              "      <td>0.168369</td>\n",
              "      <td>...</td>\n",
              "      <td>0.0</td>\n",
              "      <td>88.165550</td>\n",
              "      <td>313</td>\n",
              "      <td>S2A_MSIL1C_20170103T142022_N0204_R010_T20JLL_2...</td>\n",
              "      <td>0.0</td>\n",
              "      <td>259-nev</td>\n",
              "      <td>undefined</td>\n",
              "      <td>31365.484905</td>\n",
              "      <td>Barrio</td>\n",
              "      <td>2017-01-03</td>\n",
              "    </tr>\n",
              "    <tr>\n",
              "      <th>1</th>\n",
              "      <td>0.0950</td>\n",
              "      <td>0.5436</td>\n",
              "      <td>0.166934</td>\n",
              "      <td>0.14690</td>\n",
              "      <td>0.0</td>\n",
              "      <td>0.4486</td>\n",
              "      <td>317</td>\n",
              "      <td>0.0927</td>\n",
              "      <td>0.5340</td>\n",
              "      <td>0.170916</td>\n",
              "      <td>...</td>\n",
              "      <td>0.0</td>\n",
              "      <td>69.959171</td>\n",
              "      <td>317</td>\n",
              "      <td>S2A_MSIL1C_20170103T142022_N0204_R010_T20JLL_2...</td>\n",
              "      <td>0.0</td>\n",
              "      <td>237-nev</td>\n",
              "      <td>undefined</td>\n",
              "      <td>31365.484905</td>\n",
              "      <td>Barrio-Zona-Verde</td>\n",
              "      <td>2017-01-03</td>\n",
              "    </tr>\n",
              "    <tr>\n",
              "      <th>2</th>\n",
              "      <td>0.0867</td>\n",
              "      <td>0.3236</td>\n",
              "      <td>0.163555</td>\n",
              "      <td>0.15535</td>\n",
              "      <td>0.0</td>\n",
              "      <td>0.2369</td>\n",
              "      <td>314</td>\n",
              "      <td>0.0807</td>\n",
              "      <td>0.3693</td>\n",
              "      <td>0.164975</td>\n",
              "      <td>...</td>\n",
              "      <td>0.0</td>\n",
              "      <td>52.476419</td>\n",
              "      <td>314</td>\n",
              "      <td>S2A_MSIL1C_20170103T142022_N0204_R010_T20JLL_2...</td>\n",
              "      <td>0.0</td>\n",
              "      <td>236-nev</td>\n",
              "      <td>undefined</td>\n",
              "      <td>31365.484905</td>\n",
              "      <td>Barrio-Zona-Verde</td>\n",
              "      <td>2017-01-03</td>\n",
              "    </tr>\n",
              "    <tr>\n",
              "      <th>3</th>\n",
              "      <td>0.0874</td>\n",
              "      <td>0.3107</td>\n",
              "      <td>0.134499</td>\n",
              "      <td>0.13110</td>\n",
              "      <td>0.0</td>\n",
              "      <td>0.2233</td>\n",
              "      <td>315</td>\n",
              "      <td>0.0776</td>\n",
              "      <td>0.3101</td>\n",
              "      <td>0.132847</td>\n",
              "      <td>...</td>\n",
              "      <td>0.0</td>\n",
              "      <td>35.171722</td>\n",
              "      <td>315</td>\n",
              "      <td>S2A_MSIL1C_20170103T142022_N0204_R010_T20JLL_2...</td>\n",
              "      <td>0.0</td>\n",
              "      <td>235-nev</td>\n",
              "      <td>undefined</td>\n",
              "      <td>31365.484905</td>\n",
              "      <td>Barrio-Zona-Verde</td>\n",
              "      <td>2017-01-03</td>\n",
              "    </tr>\n",
              "    <tr>\n",
              "      <th>4</th>\n",
              "      <td>0.0826</td>\n",
              "      <td>0.2872</td>\n",
              "      <td>0.127382</td>\n",
              "      <td>0.11620</td>\n",
              "      <td>0.0</td>\n",
              "      <td>0.2046</td>\n",
              "      <td>313</td>\n",
              "      <td>0.0722</td>\n",
              "      <td>0.3367</td>\n",
              "      <td>0.124013</td>\n",
              "      <td>...</td>\n",
              "      <td>0.0</td>\n",
              "      <td>1.484326</td>\n",
              "      <td>313</td>\n",
              "      <td>S2A_MSIL1C_20170103T142022_N0204_R010_T20JLL_2...</td>\n",
              "      <td>0.0</td>\n",
              "      <td>234-nev</td>\n",
              "      <td>undefined</td>\n",
              "      <td>31365.484905</td>\n",
              "      <td>Barrio-Zona-Verde</td>\n",
              "      <td>2017-01-03</td>\n",
              "    </tr>\n",
              "  </tbody>\n",
              "</table>\n",
              "<p>5 rows × 168 columns</p>\n",
              "</div>\n",
              "      <button class=\"colab-df-convert\" onclick=\"convertToInteractive('df-d845f0d8-561d-4f36-9d5b-c00fbb5deea3')\"\n",
              "              title=\"Convert this dataframe to an interactive table.\"\n",
              "              style=\"display:none;\">\n",
              "        \n",
              "  <svg xmlns=\"http://www.w3.org/2000/svg\" height=\"24px\"viewBox=\"0 0 24 24\"\n",
              "       width=\"24px\">\n",
              "    <path d=\"M0 0h24v24H0V0z\" fill=\"none\"/>\n",
              "    <path d=\"M18.56 5.44l.94 2.06.94-2.06 2.06-.94-2.06-.94-.94-2.06-.94 2.06-2.06.94zm-11 1L8.5 8.5l.94-2.06 2.06-.94-2.06-.94L8.5 2.5l-.94 2.06-2.06.94zm10 10l.94 2.06.94-2.06 2.06-.94-2.06-.94-.94-2.06-.94 2.06-2.06.94z\"/><path d=\"M17.41 7.96l-1.37-1.37c-.4-.4-.92-.59-1.43-.59-.52 0-1.04.2-1.43.59L10.3 9.45l-7.72 7.72c-.78.78-.78 2.05 0 2.83L4 21.41c.39.39.9.59 1.41.59.51 0 1.02-.2 1.41-.59l7.78-7.78 2.81-2.81c.8-.78.8-2.07 0-2.86zM5.41 20L4 18.59l7.72-7.72 1.47 1.35L5.41 20z\"/>\n",
              "  </svg>\n",
              "      </button>\n",
              "      \n",
              "  <style>\n",
              "    .colab-df-container {\n",
              "      display:flex;\n",
              "      flex-wrap:wrap;\n",
              "      gap: 12px;\n",
              "    }\n",
              "\n",
              "    .colab-df-convert {\n",
              "      background-color: #E8F0FE;\n",
              "      border: none;\n",
              "      border-radius: 50%;\n",
              "      cursor: pointer;\n",
              "      display: none;\n",
              "      fill: #1967D2;\n",
              "      height: 32px;\n",
              "      padding: 0 0 0 0;\n",
              "      width: 32px;\n",
              "    }\n",
              "\n",
              "    .colab-df-convert:hover {\n",
              "      background-color: #E2EBFA;\n",
              "      box-shadow: 0px 1px 2px rgba(60, 64, 67, 0.3), 0px 1px 3px 1px rgba(60, 64, 67, 0.15);\n",
              "      fill: #174EA6;\n",
              "    }\n",
              "\n",
              "    [theme=dark] .colab-df-convert {\n",
              "      background-color: #3B4455;\n",
              "      fill: #D2E3FC;\n",
              "    }\n",
              "\n",
              "    [theme=dark] .colab-df-convert:hover {\n",
              "      background-color: #434B5C;\n",
              "      box-shadow: 0px 1px 3px 1px rgba(0, 0, 0, 0.15);\n",
              "      filter: drop-shadow(0px 1px 2px rgba(0, 0, 0, 0.3));\n",
              "      fill: #FFFFFF;\n",
              "    }\n",
              "  </style>\n",
              "\n",
              "      <script>\n",
              "        const buttonEl =\n",
              "          document.querySelector('#df-d845f0d8-561d-4f36-9d5b-c00fbb5deea3 button.colab-df-convert');\n",
              "        buttonEl.style.display =\n",
              "          google.colab.kernel.accessAllowed ? 'block' : 'none';\n",
              "\n",
              "        async function convertToInteractive(key) {\n",
              "          const element = document.querySelector('#df-d845f0d8-561d-4f36-9d5b-c00fbb5deea3');\n",
              "          const dataTable =\n",
              "            await google.colab.kernel.invokeFunction('convertToInteractive',\n",
              "                                                     [key], {});\n",
              "          if (!dataTable) return;\n",
              "\n",
              "          const docLinkHtml = 'Like what you see? Visit the ' +\n",
              "            '<a target=\"_blank\" href=https://colab.research.google.com/notebooks/data_table.ipynb>data table notebook</a>'\n",
              "            + ' to learn more about interactive tables.';\n",
              "          element.innerHTML = '';\n",
              "          dataTable['output_type'] = 'display_data';\n",
              "          await google.colab.output.renderOutput(dataTable, element);\n",
              "          const docLink = document.createElement('div');\n",
              "          docLink.innerHTML = docLinkHtml;\n",
              "          element.appendChild(docLink);\n",
              "        }\n",
              "      </script>\n",
              "    </div>\n",
              "  </div>\n",
              "  "
            ]
          },
          "metadata": {},
          "execution_count": 52
        },
        {
          "output_type": "stream",
          "name": "stdout",
          "text": [
            "time: 33.3 ms (started: 2022-09-16 01:06:07 +00:00)\n"
          ]
        }
      ]
    },
    {
      "cell_type": "code",
      "source": [
        "print(df_verde[\"date\"].max())\n",
        "print(df_verde[\"date\"].min())\n",
        "print(\"****************No verde*****************************\")\n",
        "print(df_no_verde[\"date\"].max())\n",
        "print(df_no_verde[\"date\"].min())"
      ],
      "metadata": {
        "colab": {
          "base_uri": "https://localhost:8080/"
        },
        "id": "q-klCNR_n3sR",
        "outputId": "f3309ec8-c0aa-4224-f13e-fc7b821b8d4c"
      },
      "id": "q-klCNR_n3sR",
      "execution_count": 53,
      "outputs": [
        {
          "output_type": "stream",
          "name": "stdout",
          "text": [
            "2022-04-17\n",
            "2017-01-03\n",
            "****************No verde*****************************\n",
            "2022-04-17\n",
            "2017-01-03\n",
            "time: 51.1 ms (started: 2022-09-16 01:06:07 +00:00)\n"
          ]
        }
      ]
    },
    {
      "cell_type": "code",
      "source": [
        "df_verde1 = df_verde[[\"B02_median\", \"B06_median\", \"B11_median\", \"date\", \"ndvi_max\", \"area_m2\",\"raster\",\"clouds_on_raster\"]]"
      ],
      "metadata": {
        "id": "7UdkAZWe7ay1",
        "colab": {
          "base_uri": "https://localhost:8080/"
        },
        "outputId": "1db381c5-30b3-49b3-91bb-60a20e7f7924"
      },
      "id": "7UdkAZWe7ay1",
      "execution_count": 54,
      "outputs": [
        {
          "output_type": "stream",
          "name": "stdout",
          "text": [
            "time: 13.2 ms (started: 2022-09-16 01:06:07 +00:00)\n"
          ]
        }
      ]
    },
    {
      "cell_type": "code",
      "source": [
        "df_no_verde1 = df_no_verde[[\"B02_median\", \"B06_median\", \"B11_median\", \"date\", \"ndvi_max\", \"area_m2\",\"raster\",\"clouds_on_raster\"]]"
      ],
      "metadata": {
        "id": "weXxnFVt7anr",
        "colab": {
          "base_uri": "https://localhost:8080/"
        },
        "outputId": "a79ffaf5-b317-4a99-b129-aa1ccd503f53"
      },
      "id": "weXxnFVt7anr",
      "execution_count": 55,
      "outputs": [
        {
          "output_type": "stream",
          "name": "stdout",
          "text": [
            "time: 9.72 ms (started: 2022-09-16 01:06:07 +00:00)\n"
          ]
        }
      ]
    },
    {
      "cell_type": "markdown",
      "source": [
        "###Espacio Verde"
      ],
      "metadata": {
        "id": "4qo2dcE1dmIW"
      },
      "id": "4qo2dcE1dmIW"
    },
    {
      "cell_type": "code",
      "source": [
        "# Graficamos datos faltantes del Espacio Verde\n",
        "msno.bar(df_verde1,figsize=(12, 6), sort=\"ascending\",fontsize=12, color='tomato') "
      ],
      "metadata": {
        "id": "qXTSD_oEQwac",
        "colab": {
          "base_uri": "https://localhost:8080/",
          "height": 530
        },
        "outputId": "7733812e-250c-47a6-a18a-4fbdc7665b05"
      },
      "id": "qXTSD_oEQwac",
      "execution_count": 56,
      "outputs": [
        {
          "output_type": "execute_result",
          "data": {
            "text/plain": [
              "<matplotlib.axes._subplots.AxesSubplot at 0x7f041bd79410>"
            ]
          },
          "metadata": {},
          "execution_count": 56
        },
        {
          "output_type": "display_data",
          "data": {
            "text/plain": [
              "<Figure size 864x432 with 3 Axes>"
            ],
            "image/png": "[encoded data removed]"
          },
          "metadata": {
            "needs_background": "light"
          }
        },
        {
          "output_type": "stream",
          "name": "stdout",
          "text": [
            "time: 1.13 s (started: 2022-09-16 01:06:07 +00:00)\n"
          ]
        }
      ]
    },
    {
      "cell_type": "code",
      "source": [
        "# Creamos un nuevo dataframe con las variables de interés \n",
        "\n",
        "df_interest_E = df_verde[[\"B02_median\", \"B06_median\", \"B11_median\", \"ndvi_max\", \"area_m2\",\"date\",\"clouds_on_raster\"]]\n",
        "len(df_interest_E)"
      ],
      "metadata": {
        "colab": {
          "base_uri": "https://localhost:8080/"
        },
        "id": "Hb9kUCBaSy7c",
        "outputId": "80953a9b-2e19-4544-a825-dc91daf1b487"
      },
      "id": "Hb9kUCBaSy7c",
      "execution_count": 57,
      "outputs": [
        {
          "output_type": "execute_result",
          "data": {
            "text/plain": [
              "208932"
            ]
          },
          "metadata": {},
          "execution_count": 57
        },
        {
          "output_type": "stream",
          "name": "stdout",
          "text": [
            "time: 16.7 ms (started: 2022-09-16 01:06:08 +00:00)\n"
          ]
        }
      ]
    },
    {
      "cell_type": "markdown",
      "source": [
        "###Removemos outliers"
      ],
      "metadata": {
        "id": "lXvXHRQpX9Na"
      },
      "id": "lXvXHRQpX9Na"
    },
    {
      "cell_type": "code",
      "source": [
        "# Para la remoción de outliers por estación, definimos la estación a la que corresponde cada registro. \n",
        "# Convertimos la columna date a tipo datetime\n",
        "df_interest_E['date']= pd.to_datetime(df_interest_E['date'])\n",
        "\n",
        "# Extraemos el mes de cada registro.\n",
        "df_interest_E['month'] = df_interest_E['date'].dt.month\n",
        "\n",
        "# Aplicamos la siguiente función para determinar la estación a la que corresponde cada registro.\n",
        "def seasons(df, col):\n",
        "    Seasons = []\n",
        "    for month in df[col]:\n",
        "        if month in (1, 2, 3):\n",
        "            season = 'summer'\n",
        "        elif month in (4, 5, 6):\n",
        "            season = 'autumn'\n",
        "        elif month in (7, 8, 9):\n",
        "            season = 'winter'\n",
        "        else:\n",
        "            season = 'spring'\n",
        "        Seasons.append(season)\n",
        "    df[\"season\"]= Seasons\n",
        "\n",
        "seasons(df_interest_E, \"month\")\n",
        "df_interest_E"
      ],
      "metadata": {
        "colab": {
          "base_uri": "https://localhost:8080/",
          "height": 755
        },
        "id": "dmXQ9dDmYCNs",
        "outputId": "a49b01e2-d6d2-4c4a-bf03-7ee0484e093f"
      },
      "id": "dmXQ9dDmYCNs",
      "execution_count": 58,
      "outputs": [
        {
          "output_type": "stream",
          "name": "stderr",
          "text": [
            "/usr/local/lib/python3.7/dist-packages/ipykernel_launcher.py:3: SettingWithCopyWarning: \n",
            "A value is trying to be set on a copy of a slice from a DataFrame.\n",
            "Try using .loc[row_indexer,col_indexer] = value instead\n",
            "\n",
            "See the caveats in the documentation: https://pandas.pydata.org/pandas-docs/stable/user_guide/indexing.html#returning-a-view-versus-a-copy\n",
            "  This is separate from the ipykernel package so we can avoid doing imports until\n",
            "/usr/local/lib/python3.7/dist-packages/ipykernel_launcher.py:6: SettingWithCopyWarning: \n",
            "A value is trying to be set on a copy of a slice from a DataFrame.\n",
            "Try using .loc[row_indexer,col_indexer] = value instead\n",
            "\n",
            "See the caveats in the documentation: https://pandas.pydata.org/pandas-docs/stable/user_guide/indexing.html#returning-a-view-versus-a-copy\n",
            "  \n",
            "/usr/local/lib/python3.7/dist-packages/ipykernel_launcher.py:21: SettingWithCopyWarning: \n",
            "A value is trying to be set on a copy of a slice from a DataFrame.\n",
            "Try using .loc[row_indexer,col_indexer] = value instead\n",
            "\n",
            "See the caveats in the documentation: https://pandas.pydata.org/pandas-docs/stable/user_guide/indexing.html#returning-a-view-versus-a-copy\n"
          ]
        },
        {
          "output_type": "execute_result",
          "data": {
            "text/plain": [
              "        B02_median  B06_median  B11_median  ndvi_max      area_m2       date  \\\n",
              "0          0.09650     0.19910     0.18770  0.630881  4650.710032 2017-01-03   \n",
              "1          0.10660     0.25960     0.25420  0.630041  1502.000513 2017-01-03   \n",
              "2          0.11290     0.25550     0.24640  0.622036  2004.192528 2017-01-03   \n",
              "3          0.11355     0.29300     0.26675  0.669891  6940.507640 2017-01-03   \n",
              "4          0.12240     0.29460     0.28950  0.619112  4587.356048 2017-01-03   \n",
              "...            ...         ...         ...       ...          ...        ...   \n",
              "208927     0.11270     0.20520     0.18950  0.563955  3824.467794 2022-04-17   \n",
              "208928     0.13665     0.23835     0.27315  0.490798  7184.535857 2022-04-17   \n",
              "208929     0.10625     0.22425     0.22230  0.566516  1147.997645 2022-04-17   \n",
              "208930     0.12570     0.20880     0.25450  0.534379  5185.690046 2022-04-17   \n",
              "208931     0.10180     0.19080     0.19740  0.635997  9394.381202 2022-04-17   \n",
              "\n",
              "        clouds_on_raster  month  season  \n",
              "0                    0.0      1  summer  \n",
              "1                    0.0      1  summer  \n",
              "2                    0.0      1  summer  \n",
              "3                    0.0      1  summer  \n",
              "4                    0.0      1  summer  \n",
              "...                  ...    ...     ...  \n",
              "208927               0.0      4  autumn  \n",
              "208928               0.0      4  autumn  \n",
              "208929               0.0      4  autumn  \n",
              "208930               0.0      4  autumn  \n",
              "208931               0.0      4  autumn  \n",
              "\n",
              "[208932 rows x 9 columns]"
            ],
            "text/html": [
              "\n",
              "  <div id=\"df-1db73435-d5a1-41b6-ab39-d8fa7f40cdc3\">\n",
              "    <div class=\"colab-df-container\">\n",
              "      <div>\n",
              "<style scoped>\n",
              "    .dataframe tbody tr th:only-of-type {\n",
              "        vertical-align: middle;\n",
              "    }\n",
              "\n",
              "    .dataframe tbody tr th {\n",
              "        vertical-align: top;\n",
              "    }\n",
              "\n",
              "    .dataframe thead th {\n",
              "        text-align: right;\n",
              "    }\n",
              "</style>\n",
              "<table border=\"1\" class=\"dataframe\">\n",
              "  <thead>\n",
              "    <tr style=\"text-align: right;\">\n",
              "      <th></th>\n",
              "      <th>B02_median</th>\n",
              "      <th>B06_median</th>\n",
              "      <th>B11_median</th>\n",
              "      <th>ndvi_max</th>\n",
              "      <th>area_m2</th>\n",
              "      <th>date</th>\n",
              "      <th>clouds_on_raster</th>\n",
              "      <th>month</th>\n",
              "      <th>season</th>\n",
              "    </tr>\n",
              "  </thead>\n",
              "  <tbody>\n",
              "    <tr>\n",
              "      <th>0</th>\n",
              "      <td>0.09650</td>\n",
              "      <td>0.19910</td>\n",
              "      <td>0.18770</td>\n",
              "      <td>0.630881</td>\n",
              "      <td>4650.710032</td>\n",
              "      <td>2017-01-03</td>\n",
              "      <td>0.0</td>\n",
              "      <td>1</td>\n",
              "      <td>summer</td>\n",
              "    </tr>\n",
              "    <tr>\n",
              "      <th>1</th>\n",
              "      <td>0.10660</td>\n",
              "      <td>0.25960</td>\n",
              "      <td>0.25420</td>\n",
              "      <td>0.630041</td>\n",
              "      <td>1502.000513</td>\n",
              "      <td>2017-01-03</td>\n",
              "      <td>0.0</td>\n",
              "      <td>1</td>\n",
              "      <td>summer</td>\n",
              "    </tr>\n",
              "    <tr>\n",
              "      <th>2</th>\n",
              "      <td>0.11290</td>\n",
              "      <td>0.25550</td>\n",
              "      <td>0.24640</td>\n",
              "      <td>0.622036</td>\n",
              "      <td>2004.192528</td>\n",
              "      <td>2017-01-03</td>\n",
              "      <td>0.0</td>\n",
              "      <td>1</td>\n",
              "      <td>summer</td>\n",
              "    </tr>\n",
              "    <tr>\n",
              "      <th>3</th>\n",
              "      <td>0.11355</td>\n",
              "      <td>0.29300</td>\n",
              "      <td>0.26675</td>\n",
              "      <td>0.669891</td>\n",
              "      <td>6940.507640</td>\n",
              "      <td>2017-01-03</td>\n",
              "      <td>0.0</td>\n",
              "      <td>1</td>\n",
              "      <td>summer</td>\n",
              "    </tr>\n",
              "    <tr>\n",
              "      <th>4</th>\n",
              "      <td>0.12240</td>\n",
              "      <td>0.29460</td>\n",
              "      <td>0.28950</td>\n",
              "      <td>0.619112</td>\n",
              "      <td>4587.356048</td>\n",
              "      <td>2017-01-03</td>\n",
              "      <td>0.0</td>\n",
              "      <td>1</td>\n",
              "      <td>summer</td>\n",
              "    </tr>\n",
              "    <tr>\n",
              "      <th>...</th>\n",
              "      <td>...</td>\n",
              "      <td>...</td>\n",
              "      <td>...</td>\n",
              "      <td>...</td>\n",
              "      <td>...</td>\n",
              "      <td>...</td>\n",
              "      <td>...</td>\n",
              "      <td>...</td>\n",
              "      <td>...</td>\n",
              "    </tr>\n",
              "    <tr>\n",
              "      <th>208927</th>\n",
              "      <td>0.11270</td>\n",
              "      <td>0.20520</td>\n",
              "      <td>0.18950</td>\n",
              "      <td>0.563955</td>\n",
              "      <td>3824.467794</td>\n",
              "      <td>2022-04-17</td>\n",
              "      <td>0.0</td>\n",
              "      <td>4</td>\n",
              "      <td>autumn</td>\n",
              "    </tr>\n",
              "    <tr>\n",
              "      <th>208928</th>\n",
              "      <td>0.13665</td>\n",
              "      <td>0.23835</td>\n",
              "      <td>0.27315</td>\n",
              "      <td>0.490798</td>\n",
              "      <td>7184.535857</td>\n",
              "      <td>2022-04-17</td>\n",
              "      <td>0.0</td>\n",
              "      <td>4</td>\n",
              "      <td>autumn</td>\n",
              "    </tr>\n",
              "    <tr>\n",
              "      <th>208929</th>\n",
              "      <td>0.10625</td>\n",
              "      <td>0.22425</td>\n",
              "      <td>0.22230</td>\n",
              "      <td>0.566516</td>\n",
              "      <td>1147.997645</td>\n",
              "      <td>2022-04-17</td>\n",
              "      <td>0.0</td>\n",
              "      <td>4</td>\n",
              "      <td>autumn</td>\n",
              "    </tr>\n",
              "    <tr>\n",
              "      <th>208930</th>\n",
              "      <td>0.12570</td>\n",
              "      <td>0.20880</td>\n",
              "      <td>0.25450</td>\n",
              "      <td>0.534379</td>\n",
              "      <td>5185.690046</td>\n",
              "      <td>2022-04-17</td>\n",
              "      <td>0.0</td>\n",
              "      <td>4</td>\n",
              "      <td>autumn</td>\n",
              "    </tr>\n",
              "    <tr>\n",
              "      <th>208931</th>\n",
              "      <td>0.10180</td>\n",
              "      <td>0.19080</td>\n",
              "      <td>0.19740</td>\n",
              "      <td>0.635997</td>\n",
              "      <td>9394.381202</td>\n",
              "      <td>2022-04-17</td>\n",
              "      <td>0.0</td>\n",
              "      <td>4</td>\n",
              "      <td>autumn</td>\n",
              "    </tr>\n",
              "  </tbody>\n",
              "</table>\n",
              "<p>208932 rows × 9 columns</p>\n",
              "</div>\n",
              "      <button class=\"colab-df-convert\" onclick=\"convertToInteractive('df-1db73435-d5a1-41b6-ab39-d8fa7f40cdc3')\"\n",
              "              title=\"Convert this dataframe to an interactive table.\"\n",
              "              style=\"display:none;\">\n",
              "        \n",
              "  <svg xmlns=\"http://www.w3.org/2000/svg\" height=\"24px\"viewBox=\"0 0 24 24\"\n",
              "       width=\"24px\">\n",
              "    <path d=\"M0 0h24v24H0V0z\" fill=\"none\"/>\n",
              "    <path d=\"M18.56 5.44l.94 2.06.94-2.06 2.06-.94-2.06-.94-.94-2.06-.94 2.06-2.06.94zm-11 1L8.5 8.5l.94-2.06 2.06-.94-2.06-.94L8.5 2.5l-.94 2.06-2.06.94zm10 10l.94 2.06.94-2.06 2.06-.94-2.06-.94-.94-2.06-.94 2.06-2.06.94z\"/><path d=\"M17.41 7.96l-1.37-1.37c-.4-.4-.92-.59-1.43-.59-.52 0-1.04.2-1.43.59L10.3 9.45l-7.72 7.72c-.78.78-.78 2.05 0 2.83L4 21.41c.39.39.9.59 1.41.59.51 0 1.02-.2 1.41-.59l7.78-7.78 2.81-2.81c.8-.78.8-2.07 0-2.86zM5.41 20L4 18.59l7.72-7.72 1.47 1.35L5.41 20z\"/>\n",
              "  </svg>\n",
              "      </button>\n",
              "      \n",
              "  <style>\n",
              "    .colab-df-container {\n",
              "      display:flex;\n",
              "      flex-wrap:wrap;\n",
              "      gap: 12px;\n",
              "    }\n",
              "\n",
              "    .colab-df-convert {\n",
              "      background-color: #E8F0FE;\n",
              "      border: none;\n",
              "      border-radius: 50%;\n",
              "      cursor: pointer;\n",
              "      display: none;\n",
              "      fill: #1967D2;\n",
              "      height: 32px;\n",
              "      padding: 0 0 0 0;\n",
              "      width: 32px;\n",
              "    }\n",
              "\n",
              "    .colab-df-convert:hover {\n",
              "      background-color: #E2EBFA;\n",
              "      box-shadow: 0px 1px 2px rgba(60, 64, 67, 0.3), 0px 1px 3px 1px rgba(60, 64, 67, 0.15);\n",
              "      fill: #174EA6;\n",
              "    }\n",
              "\n",
              "    [theme=dark] .colab-df-convert {\n",
              "      background-color: #3B4455;\n",
              "      fill: #D2E3FC;\n",
              "    }\n",
              "\n",
              "    [theme=dark] .colab-df-convert:hover {\n",
              "      background-color: #434B5C;\n",
              "      box-shadow: 0px 1px 3px 1px rgba(0, 0, 0, 0.15);\n",
              "      filter: drop-shadow(0px 1px 2px rgba(0, 0, 0, 0.3));\n",
              "      fill: #FFFFFF;\n",
              "    }\n",
              "  </style>\n",
              "\n",
              "      <script>\n",
              "        const buttonEl =\n",
              "          document.querySelector('#df-1db73435-d5a1-41b6-ab39-d8fa7f40cdc3 button.colab-df-convert');\n",
              "        buttonEl.style.display =\n",
              "          google.colab.kernel.accessAllowed ? 'block' : 'none';\n",
              "\n",
              "        async function convertToInteractive(key) {\n",
              "          const element = document.querySelector('#df-1db73435-d5a1-41b6-ab39-d8fa7f40cdc3');\n",
              "          const dataTable =\n",
              "            await google.colab.kernel.invokeFunction('convertToInteractive',\n",
              "                                                     [key], {});\n",
              "          if (!dataTable) return;\n",
              "\n",
              "          const docLinkHtml = 'Like what you see? Visit the ' +\n",
              "            '<a target=\"_blank\" href=https://colab.research.google.com/notebooks/data_table.ipynb>data table notebook</a>'\n",
              "            + ' to learn more about interactive tables.';\n",
              "          element.innerHTML = '';\n",
              "          dataTable['output_type'] = 'display_data';\n",
              "          await google.colab.output.renderOutput(dataTable, element);\n",
              "          const docLink = document.createElement('div');\n",
              "          docLink.innerHTML = docLinkHtml;\n",
              "          element.appendChild(docLink);\n",
              "        }\n",
              "      </script>\n",
              "    </div>\n",
              "  </div>\n",
              "  "
            ]
          },
          "metadata": {},
          "execution_count": 58
        },
        {
          "output_type": "stream",
          "name": "stdout",
          "text": [
            "time: 240 ms (started: 2022-09-16 01:06:08 +00:00)\n"
          ]
        }
      ]
    },
    {
      "cell_type": "code",
      "source": [
        "# Generamos nuevas columnas de cada banda para cada estación\n",
        "df_interest_E.loc[df_interest_E['season'] == 'summer', 'B02_summer'] = df_interest_E['B02_median']  \n",
        "df_interest_E.loc[df_interest_E['season'] == 'autumn', 'B02_autumn'] = df_interest_E['B02_median']\n",
        "df_interest_E.loc[df_interest_E['season'] == 'winter', 'B02_winter'] = df_interest_E['B02_median']\n",
        "df_interest_E.loc[df_interest_E['season'] == 'spring', 'B02_spring'] = df_interest_E['B02_median']\n",
        "\n",
        "df_interest_E.loc[df_interest_E['season'] == 'summer', 'B06_summer'] = df_interest_E['B06_median']  \n",
        "df_interest_E.loc[df_interest_E['season'] == 'autumn', 'B06_autumn'] = df_interest_E['B06_median']\n",
        "df_interest_E.loc[df_interest_E['season'] == 'winter', 'B06_winter'] = df_interest_E['B06_median']\n",
        "df_interest_E.loc[df_interest_E['season'] == 'spring', 'B06_spring'] = df_interest_E['B06_median']\n",
        "\n",
        "df_interest_E.loc[df_interest_E['season'] == 'summer', 'B11_summer'] = df_interest_E['B11_median']  \n",
        "df_interest_E.loc[df_interest_E['season'] == 'autumn', 'B11_autumn'] = df_interest_E['B11_median']\n",
        "df_interest_E.loc[df_interest_E['season'] == 'winter', 'B11_winter'] = df_interest_E['B11_median']\n",
        "df_interest_E.loc[df_interest_E['season'] == 'spring', 'B11_spring'] = df_interest_E['B11_median']\n",
        "\n",
        "# Creamos lista de nuevas columnas para usarla como argumento en la función que detecta outliers\n",
        "Season_values = ['B02_summer', 'B02_autumn', 'B02_winter', 'B02_spring', 'B06_summer', 'B06_autumn', 'B06_winter', \n",
        "                'B06_spring', 'B11_summer', 'B11_autumn', 'B11_winter', 'B11_spring']\n",
        "\n",
        "def find_outliers(df, col_list):\n",
        "    # calculamos cuartiles 1 y 3, y el interquartil (iqr)\n",
        "    for col in col_list:\n",
        "        if col==\"NaN\":\n",
        "            continue\n",
        "        q1 = df[col].quantile(0.25)\n",
        "        q3 = df[col].quantile(0.75)\n",
        "        iqr = q3 - q1 \n",
        "        # calculamos límite superior e inferior\n",
        "        ls = q1 + 1.5 * iqr\n",
        "        li = q3 - 1.5 * iqr\n",
        "        # Generamos nueva columna\n",
        "        df['outl_'+col]=  np.where((df[col] >ls)| (df[col] < li),1,0) \n",
        "\n",
        "# Aplicamos la función de detección de outliers\n",
        "find_outliers(df_interest_E, Season_values)        \n",
        "\n",
        "# Se quitan aquellos registros donde se observa que para las tres bandas bajo análisis (en cada estación), \n",
        "# los valores son outliers (valor = 1)\n",
        "df_interest_E2_summer = df_interest_E[~((df_interest_E['outl_B02_summer']==1) & (df_interest_E['outl_B06_summer']==1) & \n",
        "                        (df_interest_E['outl_B11_summer']==1))]\n",
        "print(len(df_interest_E2_summer))\n",
        "\n",
        "df_interest_E2_autumn = df_interest_E2_summer[~((df_interest_E2_summer['outl_B02_autumn']==1) & \n",
        "                        (df_interest_E2_summer['outl_B06_autumn']==1) & (df_interest_E2_summer['outl_B11_autumn']==1))]\n",
        "print(len(df_interest_E2_autumn))\n",
        "\n",
        "df_interest_E2_winter = df_interest_E2_autumn[~((df_interest_E2_autumn['outl_B02_winter']==1) & \n",
        "                        (df_interest_E2_autumn['outl_B06_winter']==1) & (df_interest_E2_autumn['outl_B11_winter']==1))]\n",
        "print(len(df_interest_E2_winter))\n",
        "\n",
        "df_interest_E2_spring = df_interest_E2_winter[~((df_interest_E2_winter['outl_B02_spring']==1) & \n",
        "                        (df_interest_E2_winter['outl_B06_spring']==1) & (df_interest_E2_winter['outl_B11_spring']==1))]\n",
        "print(len(df_interest_E2_spring))               "
      ],
      "metadata": {
        "colab": {
          "base_uri": "https://localhost:8080/"
        },
        "id": "hsaoOTv0YYkl",
        "outputId": "e5ed40c7-f79d-4810-f860-90a1974342a4"
      },
      "id": "hsaoOTv0YYkl",
      "execution_count": 59,
      "outputs": [
        {
          "output_type": "stream",
          "name": "stderr",
          "text": [
            "/usr/local/lib/python3.7/dist-packages/pandas/core/indexing.py:1681: SettingWithCopyWarning: \n",
            "A value is trying to be set on a copy of a slice from a DataFrame.\n",
            "Try using .loc[row_indexer,col_indexer] = value instead\n",
            "\n",
            "See the caveats in the documentation: https://pandas.pydata.org/pandas-docs/stable/user_guide/indexing.html#returning-a-view-versus-a-copy\n",
            "  self.obj[key] = empty_value\n",
            "/usr/local/lib/python3.7/dist-packages/pandas/core/indexing.py:1773: SettingWithCopyWarning: \n",
            "A value is trying to be set on a copy of a slice from a DataFrame.\n",
            "Try using .loc[row_indexer,col_indexer] = value instead\n",
            "\n",
            "See the caveats in the documentation: https://pandas.pydata.org/pandas-docs/stable/user_guide/indexing.html#returning-a-view-versus-a-copy\n",
            "  self._setitem_single_column(ilocs[0], value, pi)\n",
            "/usr/local/lib/python3.7/dist-packages/ipykernel_launcher.py:33: SettingWithCopyWarning: \n",
            "A value is trying to be set on a copy of a slice from a DataFrame.\n",
            "Try using .loc[row_indexer,col_indexer] = value instead\n",
            "\n",
            "See the caveats in the documentation: https://pandas.pydata.org/pandas-docs/stable/user_guide/indexing.html#returning-a-view-versus-a-copy\n"
          ]
        },
        {
          "output_type": "stream",
          "name": "stdout",
          "text": [
            "205669\n",
            "202722\n",
            "200130\n",
            "197680\n",
            "time: 584 ms (started: 2022-09-16 01:06:09 +00:00)\n"
          ]
        }
      ]
    },
    {
      "cell_type": "markdown",
      "source": [
        "Dividimos el conjunto de datos por estación"
      ],
      "metadata": {
        "id": "1iR3QBSue9eY"
      },
      "id": "1iR3QBSue9eY"
    },
    {
      "cell_type": "code",
      "source": [
        "df_interest_summer = df_interest_E2_spring[df_interest_E2_spring['season']==\"summer\"]\n",
        "df_interest_autumn = df_interest_E2_spring[df_interest_E2_spring['season']==\"autumn\"]\n",
        "df_interest_winter = df_interest_E2_spring[df_interest_E2_spring['season']==\"winter\"]\n",
        "df_interest_spring = df_interest_E2_spring[df_interest_E2_spring['season']==\"spring\"]"
      ],
      "metadata": {
        "id": "rW2yVzT-euG1",
        "colab": {
          "base_uri": "https://localhost:8080/"
        },
        "outputId": "66b5f378-46d2-4125-c85b-c160cb193ded"
      },
      "id": "rW2yVzT-euG1",
      "execution_count": 60,
      "outputs": [
        {
          "output_type": "stream",
          "name": "stdout",
          "text": [
            "time: 93.8 ms (started: 2022-09-16 01:06:09 +00:00)\n"
          ]
        }
      ]
    },
    {
      "cell_type": "markdown",
      "source": [
        "###Espacio No verde"
      ],
      "metadata": {
        "id": "e2HXjph0TFjs"
      },
      "id": "e2HXjph0TFjs"
    },
    {
      "cell_type": "code",
      "source": [
        "# Graficamos los datos faltantes del espacio no verde\n",
        "msno.bar(df_no_verde1,figsize=(12, 6), sort=\"ascending\",fontsize=12, color='blue');"
      ],
      "metadata": {
        "colab": {
          "base_uri": "https://localhost:8080/",
          "height": 506
        },
        "id": "rvIanYbBbvDc",
        "outputId": "267f0d71-3c7d-495b-8009-fca1660a3cf6"
      },
      "id": "rvIanYbBbvDc",
      "execution_count": 61,
      "outputs": [
        {
          "output_type": "display_data",
          "data": {
            "text/plain": [
              "<Figure size 864x432 with 3 Axes>"
            ],
            "image/png": "[encoded data removed]"
          },
          "metadata": {
            "needs_background": "light"
          }
        },
        {
          "output_type": "stream",
          "name": "stdout",
          "text": [
            "time: 949 ms (started: 2022-09-16 01:06:09 +00:00)\n"
          ]
        }
      ]
    },
    {
      "cell_type": "code",
      "source": [
        "df_interest_E = df_no_verde1\n",
        "len(df_interest_E)"
      ],
      "metadata": {
        "colab": {
          "base_uri": "https://localhost:8080/"
        },
        "id": "uh6_ERsDTkb5",
        "outputId": "f56876ee-8417-41a7-c006-a2c482f170ae"
      },
      "id": "uh6_ERsDTkb5",
      "execution_count": 62,
      "outputs": [
        {
          "output_type": "execute_result",
          "data": {
            "text/plain": [
              "96600"
            ]
          },
          "metadata": {},
          "execution_count": 62
        },
        {
          "output_type": "stream",
          "name": "stdout",
          "text": [
            "time: 5.91 ms (started: 2022-09-16 01:06:10 +00:00)\n"
          ]
        }
      ]
    },
    {
      "cell_type": "code",
      "source": [
        "# Para la remoción de outliers por estación, definimos la estación a la que corresponde cada registro. \n",
        "# Convertimos la columna date a tipo datetime\n",
        "df_interest_E['date']= pd.to_datetime(df_interest_E['date'])\n",
        "\n",
        "# Extraemos el mes de cada registro.\n",
        "df_interest_E['month'] = df_interest_E['date'].dt.month\n",
        "\n",
        "# Aplicamos la función para determinar la estación a la que corresponde cada registro.\n",
        "seasons(df_interest_E, \"month\")\n",
        "\n",
        "# Generamos nuevas columnas de cada banda para cada estación\n",
        "df_interest_E.loc[df_interest_E['season'] == 'summer', 'B02_summer'] = df_interest_E['B02_median']  \n",
        "df_interest_E.loc[df_interest_E['season'] == 'autumn', 'B02_autumn'] = df_interest_E['B02_median']\n",
        "df_interest_E.loc[df_interest_E['season'] == 'winter', 'B02_winter'] = df_interest_E['B02_median']\n",
        "df_interest_E.loc[df_interest_E['season'] == 'spring', 'B02_spring'] = df_interest_E['B02_median']\n",
        "\n",
        "df_interest_E.loc[df_interest_E['season'] == 'summer', 'B06_summer'] = df_interest_E['B06_median']  \n",
        "df_interest_E.loc[df_interest_E['season'] == 'autumn', 'B06_autumn'] = df_interest_E['B06_median']\n",
        "df_interest_E.loc[df_interest_E['season'] == 'winter', 'B06_winter'] = df_interest_E['B06_median']\n",
        "df_interest_E.loc[df_interest_E['season'] == 'spring', 'B06_spring'] = df_interest_E['B06_median']\n",
        "\n",
        "df_interest_E.loc[df_interest_E['season'] == 'summer', 'B11_summer'] = df_interest_E['B11_median']  \n",
        "df_interest_E.loc[df_interest_E['season'] == 'autumn', 'B11_autumn'] = df_interest_E['B11_median']\n",
        "df_interest_E.loc[df_interest_E['season'] == 'winter', 'B11_winter'] = df_interest_E['B11_median']\n",
        "df_interest_E.loc[df_interest_E['season'] == 'spring', 'B11_spring'] = df_interest_E['B11_median']\n",
        "\n",
        "# Aplicamos la función de detección de outliers\n",
        "find_outliers(df_interest_E, Season_values)\n",
        "\n",
        "# Se quitan aquellos registros donde se observa que para las tres bandas bajo análisis (en cada estación), \n",
        "# los valores son outliers (valor = 1)\n",
        "df_interest_E2_summer = df_interest_E[~((df_interest_E['outl_B02_summer']==1) & (df_interest_E['outl_B06_summer']==1) & \n",
        "                        (df_interest_E['outl_B11_summer']==1))]\n",
        "print(len(df_interest_E2_summer))\n",
        "\n",
        "df_interest_E2_autumn = df_interest_E2_summer[~((df_interest_E2_summer['outl_B02_autumn']==1) & \n",
        "                        (df_interest_E2_summer['outl_B06_autumn']==1) & (df_interest_E2_summer['outl_B11_autumn']==1))]\n",
        "print(len(df_interest_E2_autumn))\n",
        "\n",
        "df_interest_E2_winter = df_interest_E2_autumn[~((df_interest_E2_autumn['outl_B02_winter']==1) & \n",
        "                        (df_interest_E2_autumn['outl_B06_winter']==1) & (df_interest_E2_autumn['outl_B11_winter']==1))]\n",
        "print(len(df_interest_E2_winter))\n",
        "\n",
        "df_interest_E2_spring = df_interest_E2_winter[~((df_interest_E2_winter['outl_B02_spring']==1) & \n",
        "                        (df_interest_E2_winter['outl_B06_spring']==1) & (df_interest_E2_winter['outl_B11_spring']==1))]\n",
        "print(len(df_interest_E2_spring))\n",
        "\n"
      ],
      "metadata": {
        "colab": {
          "base_uri": "https://localhost:8080/"
        },
        "id": "44tGrGiDUaJK",
        "outputId": "81745da8-6064-4a23-819b-2aa0930d34ad"
      },
      "id": "44tGrGiDUaJK",
      "execution_count": 63,
      "outputs": [
        {
          "output_type": "stream",
          "name": "stderr",
          "text": [
            "/usr/local/lib/python3.7/dist-packages/ipykernel_launcher.py:3: SettingWithCopyWarning: \n",
            "A value is trying to be set on a copy of a slice from a DataFrame.\n",
            "Try using .loc[row_indexer,col_indexer] = value instead\n",
            "\n",
            "See the caveats in the documentation: https://pandas.pydata.org/pandas-docs/stable/user_guide/indexing.html#returning-a-view-versus-a-copy\n",
            "  This is separate from the ipykernel package so we can avoid doing imports until\n",
            "/usr/local/lib/python3.7/dist-packages/ipykernel_launcher.py:6: SettingWithCopyWarning: \n",
            "A value is trying to be set on a copy of a slice from a DataFrame.\n",
            "Try using .loc[row_indexer,col_indexer] = value instead\n",
            "\n",
            "See the caveats in the documentation: https://pandas.pydata.org/pandas-docs/stable/user_guide/indexing.html#returning-a-view-versus-a-copy\n",
            "  \n",
            "/usr/local/lib/python3.7/dist-packages/ipykernel_launcher.py:21: SettingWithCopyWarning: \n",
            "A value is trying to be set on a copy of a slice from a DataFrame.\n",
            "Try using .loc[row_indexer,col_indexer] = value instead\n",
            "\n",
            "See the caveats in the documentation: https://pandas.pydata.org/pandas-docs/stable/user_guide/indexing.html#returning-a-view-versus-a-copy\n",
            "/usr/local/lib/python3.7/dist-packages/ipykernel_launcher.py:33: SettingWithCopyWarning: \n",
            "A value is trying to be set on a copy of a slice from a DataFrame.\n",
            "Try using .loc[row_indexer,col_indexer] = value instead\n",
            "\n",
            "See the caveats in the documentation: https://pandas.pydata.org/pandas-docs/stable/user_guide/indexing.html#returning-a-view-versus-a-copy\n"
          ]
        },
        {
          "output_type": "stream",
          "name": "stdout",
          "text": [
            "94992\n",
            "93272\n",
            "91959\n",
            "90663\n",
            "time: 362 ms (started: 2022-09-16 01:06:10 +00:00)\n"
          ]
        }
      ]
    },
    {
      "cell_type": "markdown",
      "source": [
        "Dividimos el conjunto de datos por estación"
      ],
      "metadata": {
        "id": "oUkyiv4ZXvFP"
      },
      "id": "oUkyiv4ZXvFP"
    },
    {
      "cell_type": "code",
      "source": [
        "df_interest_summer_NV = df_interest_E2_spring[df_interest_E2_spring['season']==\"summer\"]\n",
        "df_interest_autumn_NV = df_interest_E2_spring[df_interest_E2_spring['season']==\"autumn\"]\n",
        "df_interest_winter_NV = df_interest_E2_spring[df_interest_E2_spring['season']==\"winter\"]\n",
        "df_interest_spring_NV = df_interest_E2_spring[df_interest_E2_spring['season']==\"spring\"]"
      ],
      "metadata": {
        "id": "D8SGdOd1wnYd",
        "colab": {
          "base_uri": "https://localhost:8080/"
        },
        "outputId": "277e511b-ff14-40a6-e20b-c3a580cc8a06"
      },
      "id": "D8SGdOd1wnYd",
      "execution_count": 64,
      "outputs": [
        {
          "output_type": "stream",
          "name": "stdout",
          "text": [
            "time: 45.7 ms (started: 2022-09-16 01:06:11 +00:00)\n"
          ]
        }
      ]
    },
    {
      "cell_type": "markdown",
      "source": [
        "Seleccionamos las columnas de interés para cada subconjunto"
      ],
      "metadata": {
        "id": "Y0chvQ6wznk-"
      },
      "id": "Y0chvQ6wznk-"
    },
    {
      "cell_type": "code",
      "source": [
        "df_summer = df_interest_summer[['B02_median', 'B06_median', 'B11_median','area_m2', 'ndvi_max'\n",
        "       , 'clouds_on_raster']]\n",
        "df_autumn = df_interest_autumn[['B02_median', 'B06_median', 'B11_median','area_m2', 'ndvi_max'\n",
        "       , 'clouds_on_raster']]  \n",
        "df_winter = df_interest_winter[['B02_median', 'B06_median', 'B11_median','area_m2', 'ndvi_max'\n",
        "       , 'clouds_on_raster']]\n",
        "df_spring = df_interest_spring[['B02_median', 'B06_median', 'B11_median','area_m2', 'ndvi_max'\n",
        "       , 'clouds_on_raster']]  \n",
        "\n",
        "df_summer_NV = df_interest_summer_NV[['B02_median', 'B06_median', 'B11_median','area_m2', 'ndvi_max'\n",
        "       , 'clouds_on_raster']]\n",
        "df_autumn_NV = df_interest_autumn_NV[['B02_median', 'B06_median', 'B11_median','area_m2', 'ndvi_max'\n",
        "       , 'clouds_on_raster']]  \n",
        "df_winter_NV = df_interest_winter_NV[['B02_median', 'B06_median', 'B11_median','area_m2', 'ndvi_max'\n",
        "       , 'clouds_on_raster']]\n",
        "df_spring_NV = df_interest_spring_NV[['B02_median', 'B06_median', 'B11_median','area_m2', 'ndvi_max'\n",
        "       , 'clouds_on_raster']]                            "
      ],
      "metadata": {
        "id": "yyhnlPcizlgK",
        "colab": {
          "base_uri": "https://localhost:8080/"
        },
        "outputId": "46896812-74ab-4919-8c20-ed14273c1a0a"
      },
      "id": "yyhnlPcizlgK",
      "execution_count": 65,
      "outputs": [
        {
          "output_type": "stream",
          "name": "stdout",
          "text": [
            "time: 25.8 ms (started: 2022-09-16 01:06:11 +00:00)\n"
          ]
        }
      ]
    },
    {
      "cell_type": "markdown",
      "source": [
        "Filtramos por nubosidad"
      ],
      "metadata": {
        "id": "7zulvi-r2lY-"
      },
      "id": "7zulvi-r2lY-"
    },
    {
      "cell_type": "code",
      "source": [
        "# Filtramos por nubosidad < 30%\n",
        "\n",
        "#Espacio Verde\n",
        "df_summer_clouds = df_summer[df_summer['clouds_on_raster']<30]\n",
        "df_autumn_clouds = df_autumn[df_autumn['clouds_on_raster']<30]\n",
        "df_winter_clouds = df_winter[df_winter['clouds_on_raster']<30]\n",
        "df_spring_clouds = df_spring[df_spring['clouds_on_raster']<30]\n",
        "\n",
        "#Espacio No Verde\n",
        "df_summer_clouds_NV = df_summer_NV[df_summer_NV['clouds_on_raster']<30]\n",
        "df_autumn_clouds_NV = df_autumn_NV[df_autumn_NV['clouds_on_raster']<30]\n",
        "df_winter_clouds_NV = df_winter_NV[df_winter_NV['clouds_on_raster']<30]\n",
        "df_spring_clouds_NV = df_spring_NV[df_spring_NV['clouds_on_raster']<30]"
      ],
      "metadata": {
        "colab": {
          "base_uri": "https://localhost:8080/"
        },
        "id": "7tLvXRDEjcou",
        "outputId": "c355f6f3-397e-48d7-b9d9-871c5efe4820"
      },
      "id": "7tLvXRDEjcou",
      "execution_count": 66,
      "outputs": [
        {
          "output_type": "stream",
          "name": "stdout",
          "text": [
            "time: 29.4 ms (started: 2022-09-16 01:06:11 +00:00)\n"
          ]
        }
      ]
    },
    {
      "cell_type": "code",
      "source": [
        "# Graficamos registros faltantes de ambos espacios\n",
        "plt.figure(figsize=(12,10))\n",
        "plt.suptitle('Registros faltantes para cada subconjunto del Espacio Verde', x=0.5, y=1.05, fontsize=23)\n",
        "\n",
        "plt.subplot(2, 2, 1)\n",
        "msno.bar(df_summer_clouds,figsize=(14, 6), sort=\"ascending\",fontsize=12, color='red')\n",
        "plt.title('Subconjunto Verano', pad=16)\n",
        "\n",
        "plt.subplot(2, 2, 2)\n",
        "msno.bar(df_winter_clouds,figsize=(14, 6), sort=\"ascending\",fontsize=12, color='blue')\n",
        "plt.title('Subconjunto Invierno', pad=16)\n",
        "plt.tight_layout(h_pad=10, w_pad=3)\n",
        "\n",
        "plt.subplot(2, 2, 3)\n",
        "msno.bar(df_autumn_clouds,figsize=(14, 6), sort=\"ascending\",fontsize=12, color='coral')\n",
        "plt.title('Subconjunto Otoño', pad=16)\n",
        "\n",
        "plt.subplot(2, 2, 4)\n",
        "msno.bar(df_spring_clouds,figsize=(14, 6), sort=\"ascending\",fontsize=12, color='green')\n",
        "plt.title('Subconjunto Primavera', pad=16);\n",
        "\n",
        "# Graficamos registros faltantes para Espacio No Verde\n",
        "plt.figure(figsize=(12,10))\n",
        "plt.suptitle('Registros faltantes para cada subconjunto del Espacio No Verde', x=0.5, y=1.05, fontsize=23)\n",
        "\n",
        "plt.subplot(2, 2, 1)\n",
        "msno.bar(df_summer_clouds_NV,figsize=(14, 6), sort=\"ascending\",fontsize=12, color='red')\n",
        "plt.title('Subconjunto Verano', pad=16)\n",
        "\n",
        "plt.subplot(2, 2, 2)\n",
        "msno.bar(df_winter_clouds_NV,figsize=(14, 6), sort=\"ascending\",fontsize=12, color='blue')\n",
        "plt.title('Subconjunto Invierno', pad=16)\n",
        "plt.tight_layout(h_pad=9, w_pad=3)\n",
        "\n",
        "plt.subplot(2, 2, 3)\n",
        "msno.bar(df_autumn_clouds_NV,figsize=(14, 6), sort=\"ascending\",fontsize=12, color='coral')\n",
        "plt.title('Subconjunto Otoño', pad=16)\n",
        "\n",
        "plt.subplot(2, 2, 4)\n",
        "msno.bar(df_spring_clouds_NV,figsize=(14, 6), sort=\"ascending\",fontsize=12, color='green')\n",
        "plt.title('Subconjunto Primavera', pad=16);"
      ],
      "metadata": {
        "colab": {
          "base_uri": "https://localhost:8080/",
          "height": 1000
        },
        "id": "Z71zj5TFk5Aw",
        "outputId": "8b2b4787-7a95-47fd-cc27-e7800b56c743"
      },
      "id": "Z71zj5TFk5Aw",
      "execution_count": 67,
      "outputs": [
        {
          "output_type": "display_data",
          "data": {
            "text/plain": [
              "<Figure size 1008x432 with 12 Axes>"
            ],
            "image/png": "[encoded data removed]"
          },
          "metadata": {
            "needs_background": "light"
          }
        },
        {
          "output_type": "display_data",
          "data": {
            "text/plain": [
              "<Figure size 1008x432 with 12 Axes>"
            ],
            "image/png": "[encoded data removed]"
          },
          "metadata": {
            "needs_background": "light"
          }
        },
        {
          "output_type": "stream",
          "name": "stdout",
          "text": [
            "time: 10.1 s (started: 2022-09-16 01:06:11 +00:00)\n"
          ]
        }
      ]
    },
    {
      "cell_type": "markdown",
      "source": [
        "###Realizamos Imputación bajo el criterio del K-vecino más cercano"
      ],
      "metadata": {
        "id": "r14YwYTmmbft"
      },
      "id": "r14YwYTmmbft"
    },
    {
      "cell_type": "code",
      "source": [
        "cols= ['ndvi_max', 'B02_median', 'B06_median', 'B11_median']"
      ],
      "metadata": {
        "colab": {
          "base_uri": "https://localhost:8080/"
        },
        "id": "0iG-0qealS4e",
        "outputId": "ca19369b-f4c8-4ea7-b50a-75c5ebb40715"
      },
      "id": "0iG-0qealS4e",
      "execution_count": 68,
      "outputs": [
        {
          "output_type": "stream",
          "name": "stdout",
          "text": [
            "time: 1.07 ms (started: 2022-09-16 01:06:21 +00:00)\n"
          ]
        }
      ]
    },
    {
      "cell_type": "code",
      "source": [
        "kn_imputer = IterativeImputer(random_state=0, estimator=KNeighborsRegressor())\n",
        "\n",
        "############Espacio Verde##############\n",
        "#Subconjunto verano\n",
        "df_imp_summer = df_summer_clouds.copy()\n",
        "df_imp_summer[cols] = kn_imputer.fit_transform(df_imp_summer[cols])\n",
        "\n",
        "#Subconjunto otoño\n",
        "df_imp_autumn = df_autumn_clouds.copy()\n",
        "df_imp_autumn[cols] = kn_imputer.fit_transform(df_imp_autumn[cols])\n",
        "\n",
        "#Subconjunto invierno\n",
        "df_imp_winter = df_winter_clouds.copy()\n",
        "df_imp_winter[cols] = kn_imputer.fit_transform(df_imp_winter[cols])\n",
        "\n",
        "#Subconjunto primavera\n",
        "df_imp_spring = df_spring_clouds.copy()\n",
        "df_imp_spring[cols] = kn_imputer.fit_transform(df_imp_spring[cols])\n",
        "\n",
        "############## Espacio No Verde ###########\n",
        "#Subconjunto verano\n",
        "df_imp_summer_NV = df_summer_clouds_NV.copy()\n",
        "df_imp_summer_NV[cols] = kn_imputer.fit_transform(df_imp_summer_NV[cols])\n",
        "\n",
        "#Subconjunto otoño\n",
        "df_imp_autumn_NV = df_autumn_clouds_NV.copy()\n",
        "df_imp_autumn_NV[cols] = kn_imputer.fit_transform(df_imp_autumn_NV[cols])\n",
        "\n",
        "#Subconjunto invierno\n",
        "df_imp_winter_NV = df_winter_clouds_NV.copy()\n",
        "df_imp_winter_NV[cols] = kn_imputer.fit_transform(df_imp_winter_NV[cols])\n",
        "\n",
        "#Subconjunto primavera\n",
        "df_imp_spring_NV = df_spring_clouds.copy()\n",
        "df_imp_spring_NV[cols] = kn_imputer.fit_transform(df_imp_spring_NV[cols])"
      ],
      "metadata": {
        "id": "R9fxZR6cnLYC"
      },
      "id": "R9fxZR6cnLYC",
      "execution_count": null,
      "outputs": []
    },
    {
      "cell_type": "markdown",
      "source": [
        "###Actualizamos los subconjuntos con la asignación de clase"
      ],
      "metadata": {
        "id": "d_c97EPpqC7O"
      },
      "id": "d_c97EPpqC7O"
    },
    {
      "cell_type": "code",
      "source": [
        "df_imp_summer['clasif_']=1 # espacio verde\n",
        "df_imp_summer_NV['clasif_']=0 # espacio NO verde -> En primera instancia suponemos todos espacios no verdes\n",
        "df_imp_autumn['clasif_']=1 \n",
        "df_imp_autumn_NV['clasif_']=0 \n",
        "df_imp_winter['clasif_']=1 \n",
        "df_imp_winter_NV['clasif_']=0 \n",
        "df_imp_spring['clasif_']=1 \n",
        "df_imp_spring_NV['clasif_']=0 "
      ],
      "metadata": {
        "id": "wVwUWoKIEq5L",
        "colab": {
          "base_uri": "https://localhost:8080/"
        },
        "outputId": "0b5d14e3-3aa6-4e52-d435-70683ed86098"
      },
      "id": "wVwUWoKIEq5L",
      "execution_count": 70,
      "outputs": [
        {
          "output_type": "stream",
          "name": "stdout",
          "text": [
            "time: 13.7 ms (started: 2022-09-16 01:06:49 +00:00)\n"
          ]
        }
      ]
    },
    {
      "cell_type": "code",
      "source": [
        "df_imp_summer"
      ],
      "metadata": {
        "colab": {
          "base_uri": "https://localhost:8080/",
          "height": 425
        },
        "id": "GeOausTCqfp3",
        "outputId": "56d6d7d5-74a5-4b8c-b124-759eb4df8242"
      },
      "id": "GeOausTCqfp3",
      "execution_count": 71,
      "outputs": [
        {
          "output_type": "execute_result",
          "data": {
            "text/plain": [
              "        B02_median  B06_median  B11_median      area_m2  ndvi_max  \\\n",
              "0          0.09650     0.19910     0.18770  4650.710032  0.630881   \n",
              "1          0.10660     0.25960     0.25420  1502.000513  0.630041   \n",
              "2          0.11290     0.25550     0.24640  2004.192528  0.622036   \n",
              "3          0.11355     0.29300     0.26675  6940.507640  0.669891   \n",
              "4          0.12240     0.29460     0.28950  4587.356048  0.619112   \n",
              "...            ...         ...         ...          ...       ...   \n",
              "206656     0.11340     0.24830     0.21750  3658.725375  0.640479   \n",
              "206657     0.09960     0.21480     0.18920  3824.467794  0.631148   \n",
              "206658     0.12070     0.26915     0.25760  7184.535857  0.590711   \n",
              "206659     0.09600     0.24465     0.21770  1147.997645  0.665411   \n",
              "206660     0.11320     0.23620     0.23950  1611.043847  0.581990   \n",
              "\n",
              "        clouds_on_raster  clasif_  \n",
              "0                    0.0        1  \n",
              "1                    0.0        1  \n",
              "2                    0.0        1  \n",
              "3                    0.0        1  \n",
              "4                    0.0        1  \n",
              "...                  ...      ...  \n",
              "206656               0.0        1  \n",
              "206657               0.0        1  \n",
              "206658               0.0        1  \n",
              "206659               0.0        1  \n",
              "206660               0.0        1  \n",
              "\n",
              "[43289 rows x 7 columns]"
            ],
            "text/html": [
              "\n",
              "  <div id=\"df-c52e08ec-6f0a-4f45-80d3-8c0a997a8b98\">\n",
              "    <div class=\"colab-df-container\">\n",
              "      <div>\n",
              "<style scoped>\n",
              "    .dataframe tbody tr th:only-of-type {\n",
              "        vertical-align: middle;\n",
              "    }\n",
              "\n",
              "    .dataframe tbody tr th {\n",
              "        vertical-align: top;\n",
              "    }\n",
              "\n",
              "    .dataframe thead th {\n",
              "        text-align: right;\n",
              "    }\n",
              "</style>\n",
              "<table border=\"1\" class=\"dataframe\">\n",
              "  <thead>\n",
              "    <tr style=\"text-align: right;\">\n",
              "      <th></th>\n",
              "      <th>B02_median</th>\n",
              "      <th>B06_median</th>\n",
              "      <th>B11_median</th>\n",
              "      <th>area_m2</th>\n",
              "      <th>ndvi_max</th>\n",
              "      <th>clouds_on_raster</th>\n",
              "      <th>clasif_</th>\n",
              "    </tr>\n",
              "  </thead>\n",
              "  <tbody>\n",
              "    <tr>\n",
              "      <th>0</th>\n",
              "      <td>0.09650</td>\n",
              "      <td>0.19910</td>\n",
              "      <td>0.18770</td>\n",
              "      <td>4650.710032</td>\n",
              "      <td>0.630881</td>\n",
              "      <td>0.0</td>\n",
              "      <td>1</td>\n",
              "    </tr>\n",
              "    <tr>\n",
              "      <th>1</th>\n",
              "      <td>0.10660</td>\n",
              "      <td>0.25960</td>\n",
              "      <td>0.25420</td>\n",
              "      <td>1502.000513</td>\n",
              "      <td>0.630041</td>\n",
              "      <td>0.0</td>\n",
              "      <td>1</td>\n",
              "    </tr>\n",
              "    <tr>\n",
              "      <th>2</th>\n",
              "      <td>0.11290</td>\n",
              "      <td>0.25550</td>\n",
              "      <td>0.24640</td>\n",
              "      <td>2004.192528</td>\n",
              "      <td>0.622036</td>\n",
              "      <td>0.0</td>\n",
              "      <td>1</td>\n",
              "    </tr>\n",
              "    <tr>\n",
              "      <th>3</th>\n",
              "      <td>0.11355</td>\n",
              "      <td>0.29300</td>\n",
              "      <td>0.26675</td>\n",
              "      <td>6940.507640</td>\n",
              "      <td>0.669891</td>\n",
              "      <td>0.0</td>\n",
              "      <td>1</td>\n",
              "    </tr>\n",
              "    <tr>\n",
              "      <th>4</th>\n",
              "      <td>0.12240</td>\n",
              "      <td>0.29460</td>\n",
              "      <td>0.28950</td>\n",
              "      <td>4587.356048</td>\n",
              "      <td>0.619112</td>\n",
              "      <td>0.0</td>\n",
              "      <td>1</td>\n",
              "    </tr>\n",
              "    <tr>\n",
              "      <th>...</th>\n",
              "      <td>...</td>\n",
              "      <td>...</td>\n",
              "      <td>...</td>\n",
              "      <td>...</td>\n",
              "      <td>...</td>\n",
              "      <td>...</td>\n",
              "      <td>...</td>\n",
              "    </tr>\n",
              "    <tr>\n",
              "      <th>206656</th>\n",
              "      <td>0.11340</td>\n",
              "      <td>0.24830</td>\n",
              "      <td>0.21750</td>\n",
              "      <td>3658.725375</td>\n",
              "      <td>0.640479</td>\n",
              "      <td>0.0</td>\n",
              "      <td>1</td>\n",
              "    </tr>\n",
              "    <tr>\n",
              "      <th>206657</th>\n",
              "      <td>0.09960</td>\n",
              "      <td>0.21480</td>\n",
              "      <td>0.18920</td>\n",
              "      <td>3824.467794</td>\n",
              "      <td>0.631148</td>\n",
              "      <td>0.0</td>\n",
              "      <td>1</td>\n",
              "    </tr>\n",
              "    <tr>\n",
              "      <th>206658</th>\n",
              "      <td>0.12070</td>\n",
              "      <td>0.26915</td>\n",
              "      <td>0.25760</td>\n",
              "      <td>7184.535857</td>\n",
              "      <td>0.590711</td>\n",
              "      <td>0.0</td>\n",
              "      <td>1</td>\n",
              "    </tr>\n",
              "    <tr>\n",
              "      <th>206659</th>\n",
              "      <td>0.09600</td>\n",
              "      <td>0.24465</td>\n",
              "      <td>0.21770</td>\n",
              "      <td>1147.997645</td>\n",
              "      <td>0.665411</td>\n",
              "      <td>0.0</td>\n",
              "      <td>1</td>\n",
              "    </tr>\n",
              "    <tr>\n",
              "      <th>206660</th>\n",
              "      <td>0.11320</td>\n",
              "      <td>0.23620</td>\n",
              "      <td>0.23950</td>\n",
              "      <td>1611.043847</td>\n",
              "      <td>0.581990</td>\n",
              "      <td>0.0</td>\n",
              "      <td>1</td>\n",
              "    </tr>\n",
              "  </tbody>\n",
              "</table>\n",
              "<p>43289 rows × 7 columns</p>\n",
              "</div>\n",
              "      <button class=\"colab-df-convert\" onclick=\"convertToInteractive('df-c52e08ec-6f0a-4f45-80d3-8c0a997a8b98')\"\n",
              "              title=\"Convert this dataframe to an interactive table.\"\n",
              "              style=\"display:none;\">\n",
              "        \n",
              "  <svg xmlns=\"http://www.w3.org/2000/svg\" height=\"24px\"viewBox=\"0 0 24 24\"\n",
              "       width=\"24px\">\n",
              "    <path d=\"M0 0h24v24H0V0z\" fill=\"none\"/>\n",
              "    <path d=\"M18.56 5.44l.94 2.06.94-2.06 2.06-.94-2.06-.94-.94-2.06-.94 2.06-2.06.94zm-11 1L8.5 8.5l.94-2.06 2.06-.94-2.06-.94L8.5 2.5l-.94 2.06-2.06.94zm10 10l.94 2.06.94-2.06 2.06-.94-2.06-.94-.94-2.06-.94 2.06-2.06.94z\"/><path d=\"M17.41 7.96l-1.37-1.37c-.4-.4-.92-.59-1.43-.59-.52 0-1.04.2-1.43.59L10.3 9.45l-7.72 7.72c-.78.78-.78 2.05 0 2.83L4 21.41c.39.39.9.59 1.41.59.51 0 1.02-.2 1.41-.59l7.78-7.78 2.81-2.81c.8-.78.8-2.07 0-2.86zM5.41 20L4 18.59l7.72-7.72 1.47 1.35L5.41 20z\"/>\n",
              "  </svg>\n",
              "      </button>\n",
              "      \n",
              "  <style>\n",
              "    .colab-df-container {\n",
              "      display:flex;\n",
              "      flex-wrap:wrap;\n",
              "      gap: 12px;\n",
              "    }\n",
              "\n",
              "    .colab-df-convert {\n",
              "      background-color: #E8F0FE;\n",
              "      border: none;\n",
              "      border-radius: 50%;\n",
              "      cursor: pointer;\n",
              "      display: none;\n",
              "      fill: #1967D2;\n",
              "      height: 32px;\n",
              "      padding: 0 0 0 0;\n",
              "      width: 32px;\n",
              "    }\n",
              "\n",
              "    .colab-df-convert:hover {\n",
              "      background-color: #E2EBFA;\n",
              "      box-shadow: 0px 1px 2px rgba(60, 64, 67, 0.3), 0px 1px 3px 1px rgba(60, 64, 67, 0.15);\n",
              "      fill: #174EA6;\n",
              "    }\n",
              "\n",
              "    [theme=dark] .colab-df-convert {\n",
              "      background-color: #3B4455;\n",
              "      fill: #D2E3FC;\n",
              "    }\n",
              "\n",
              "    [theme=dark] .colab-df-convert:hover {\n",
              "      background-color: #434B5C;\n",
              "      box-shadow: 0px 1px 3px 1px rgba(0, 0, 0, 0.15);\n",
              "      filter: drop-shadow(0px 1px 2px rgba(0, 0, 0, 0.3));\n",
              "      fill: #FFFFFF;\n",
              "    }\n",
              "  </style>\n",
              "\n",
              "      <script>\n",
              "        const buttonEl =\n",
              "          document.querySelector('#df-c52e08ec-6f0a-4f45-80d3-8c0a997a8b98 button.colab-df-convert');\n",
              "        buttonEl.style.display =\n",
              "          google.colab.kernel.accessAllowed ? 'block' : 'none';\n",
              "\n",
              "        async function convertToInteractive(key) {\n",
              "          const element = document.querySelector('#df-c52e08ec-6f0a-4f45-80d3-8c0a997a8b98');\n",
              "          const dataTable =\n",
              "            await google.colab.kernel.invokeFunction('convertToInteractive',\n",
              "                                                     [key], {});\n",
              "          if (!dataTable) return;\n",
              "\n",
              "          const docLinkHtml = 'Like what you see? Visit the ' +\n",
              "            '<a target=\"_blank\" href=https://colab.research.google.com/notebooks/data_table.ipynb>data table notebook</a>'\n",
              "            + ' to learn more about interactive tables.';\n",
              "          element.innerHTML = '';\n",
              "          dataTable['output_type'] = 'display_data';\n",
              "          await google.colab.output.renderOutput(dataTable, element);\n",
              "          const docLink = document.createElement('div');\n",
              "          docLink.innerHTML = docLinkHtml;\n",
              "          element.appendChild(docLink);\n",
              "        }\n",
              "      </script>\n",
              "    </div>\n",
              "  </div>\n",
              "  "
            ]
          },
          "metadata": {},
          "execution_count": 71
        },
        {
          "output_type": "stream",
          "name": "stdout",
          "text": [
            "time: 30.9 ms (started: 2022-09-16 01:06:49 +00:00)\n"
          ]
        }
      ]
    },
    {
      "cell_type": "markdown",
      "source": [
        "###Unimos subconjuntos de espacio verde y no verde para cada estación"
      ],
      "metadata": {
        "id": "otp9YRNHeTk8"
      },
      "id": "otp9YRNHeTk8"
    },
    {
      "cell_type": "code",
      "source": [
        "df_1sum =pd.concat([df_imp_summer,df_imp_summer_NV],axis=0)\n",
        "df_2aut =pd.concat([df_imp_autumn,df_imp_autumn_NV],axis=0)\n",
        "df_3win =pd.concat([df_imp_winter,df_imp_winter_NV],axis=0)\n",
        "df_4spr =pd.concat([df_imp_spring,df_imp_spring_NV],axis=0)"
      ],
      "metadata": {
        "id": "_g1JVT7-B3IX",
        "colab": {
          "base_uri": "https://localhost:8080/"
        },
        "outputId": "adc7a33e-6d16-4acc-9bfd-0552cc448408"
      },
      "id": "_g1JVT7-B3IX",
      "execution_count": 72,
      "outputs": [
        {
          "output_type": "stream",
          "name": "stdout",
          "text": [
            "time: 90.3 ms (started: 2022-09-16 01:06:49 +00:00)\n"
          ]
        }
      ]
    },
    {
      "cell_type": "markdown",
      "source": [
        "Eliminamos la columna correspondiente a nubes, ya que no tiene relevancia para el entrenamiento de modelos. También eliminamos la variable area_m2, ya que luego de probar varios modelos concluimos que con dicha variable se producía sobreajuste."
      ],
      "metadata": {
        "id": "7pxJXvjEwmsb"
      },
      "id": "7pxJXvjEwmsb"
    },
    {
      "cell_type": "code",
      "source": [
        "df_1sum = df_1sum.drop(columns=['clouds_on_raster','area_m2'])\n",
        "df_2aut = df_2aut.drop(columns=['clouds_on_raster','area_m2'])\n",
        "df_3win = df_3win.drop(columns=['clouds_on_raster','area_m2'])\n",
        "df_4spr = df_4spr.drop(columns=['clouds_on_raster','area_m2'])"
      ],
      "metadata": {
        "colab": {
          "base_uri": "https://localhost:8080/"
        },
        "id": "X3B-v4ljLWBW",
        "outputId": "9d7e1a44-2e5b-44e1-9f68-5736434bd0f0"
      },
      "id": "X3B-v4ljLWBW",
      "execution_count": 73,
      "outputs": [
        {
          "output_type": "stream",
          "name": "stdout",
          "text": [
            "time: 16.7 ms (started: 2022-09-16 01:08:53 +00:00)\n"
          ]
        }
      ]
    },
    {
      "cell_type": "code",
      "source": [
        "df_1sum[:3]"
      ],
      "metadata": {
        "colab": {
          "base_uri": "https://localhost:8080/",
          "height": 156
        },
        "id": "_N_0EmOGx31y",
        "outputId": "b3593456-7810-460d-acc9-d65a32a3ce7c"
      },
      "id": "_N_0EmOGx31y",
      "execution_count": 74,
      "outputs": [
        {
          "output_type": "execute_result",
          "data": {
            "text/plain": [
              "   B02_median  B06_median  B11_median  ndvi_max  clasif_\n",
              "0      0.0965      0.1991      0.1877  0.630881        1\n",
              "1      0.1066      0.2596      0.2542  0.630041        1\n",
              "2      0.1129      0.2555      0.2464  0.622036        1"
            ],
            "text/html": [
              "\n",
              "  <div id=\"df-f6862682-ce82-4c7a-a5a5-e8918f7b9eae\">\n",
              "    <div class=\"colab-df-container\">\n",
              "      <div>\n",
              "<style scoped>\n",
              "    .dataframe tbody tr th:only-of-type {\n",
              "        vertical-align: middle;\n",
              "    }\n",
              "\n",
              "    .dataframe tbody tr th {\n",
              "        vertical-align: top;\n",
              "    }\n",
              "\n",
              "    .dataframe thead th {\n",
              "        text-align: right;\n",
              "    }\n",
              "</style>\n",
              "<table border=\"1\" class=\"dataframe\">\n",
              "  <thead>\n",
              "    <tr style=\"text-align: right;\">\n",
              "      <th></th>\n",
              "      <th>B02_median</th>\n",
              "      <th>B06_median</th>\n",
              "      <th>B11_median</th>\n",
              "      <th>ndvi_max</th>\n",
              "      <th>clasif_</th>\n",
              "    </tr>\n",
              "  </thead>\n",
              "  <tbody>\n",
              "    <tr>\n",
              "      <th>0</th>\n",
              "      <td>0.0965</td>\n",
              "      <td>0.1991</td>\n",
              "      <td>0.1877</td>\n",
              "      <td>0.630881</td>\n",
              "      <td>1</td>\n",
              "    </tr>\n",
              "    <tr>\n",
              "      <th>1</th>\n",
              "      <td>0.1066</td>\n",
              "      <td>0.2596</td>\n",
              "      <td>0.2542</td>\n",
              "      <td>0.630041</td>\n",
              "      <td>1</td>\n",
              "    </tr>\n",
              "    <tr>\n",
              "      <th>2</th>\n",
              "      <td>0.1129</td>\n",
              "      <td>0.2555</td>\n",
              "      <td>0.2464</td>\n",
              "      <td>0.622036</td>\n",
              "      <td>1</td>\n",
              "    </tr>\n",
              "  </tbody>\n",
              "</table>\n",
              "</div>\n",
              "      <button class=\"colab-df-convert\" onclick=\"convertToInteractive('df-f6862682-ce82-4c7a-a5a5-e8918f7b9eae')\"\n",
              "              title=\"Convert this dataframe to an interactive table.\"\n",
              "              style=\"display:none;\">\n",
              "        \n",
              "  <svg xmlns=\"http://www.w3.org/2000/svg\" height=\"24px\"viewBox=\"0 0 24 24\"\n",
              "       width=\"24px\">\n",
              "    <path d=\"M0 0h24v24H0V0z\" fill=\"none\"/>\n",
              "    <path d=\"M18.56 5.44l.94 2.06.94-2.06 2.06-.94-2.06-.94-.94-2.06-.94 2.06-2.06.94zm-11 1L8.5 8.5l.94-2.06 2.06-.94-2.06-.94L8.5 2.5l-.94 2.06-2.06.94zm10 10l.94 2.06.94-2.06 2.06-.94-2.06-.94-.94-2.06-.94 2.06-2.06.94z\"/><path d=\"M17.41 7.96l-1.37-1.37c-.4-.4-.92-.59-1.43-.59-.52 0-1.04.2-1.43.59L10.3 9.45l-7.72 7.72c-.78.78-.78 2.05 0 2.83L4 21.41c.39.39.9.59 1.41.59.51 0 1.02-.2 1.41-.59l7.78-7.78 2.81-2.81c.8-.78.8-2.07 0-2.86zM5.41 20L4 18.59l7.72-7.72 1.47 1.35L5.41 20z\"/>\n",
              "  </svg>\n",
              "      </button>\n",
              "      \n",
              "  <style>\n",
              "    .colab-df-container {\n",
              "      display:flex;\n",
              "      flex-wrap:wrap;\n",
              "      gap: 12px;\n",
              "    }\n",
              "\n",
              "    .colab-df-convert {\n",
              "      background-color: #E8F0FE;\n",
              "      border: none;\n",
              "      border-radius: 50%;\n",
              "      cursor: pointer;\n",
              "      display: none;\n",
              "      fill: #1967D2;\n",
              "      height: 32px;\n",
              "      padding: 0 0 0 0;\n",
              "      width: 32px;\n",
              "    }\n",
              "\n",
              "    .colab-df-convert:hover {\n",
              "      background-color: #E2EBFA;\n",
              "      box-shadow: 0px 1px 2px rgba(60, 64, 67, 0.3), 0px 1px 3px 1px rgba(60, 64, 67, 0.15);\n",
              "      fill: #174EA6;\n",
              "    }\n",
              "\n",
              "    [theme=dark] .colab-df-convert {\n",
              "      background-color: #3B4455;\n",
              "      fill: #D2E3FC;\n",
              "    }\n",
              "\n",
              "    [theme=dark] .colab-df-convert:hover {\n",
              "      background-color: #434B5C;\n",
              "      box-shadow: 0px 1px 3px 1px rgba(0, 0, 0, 0.15);\n",
              "      filter: drop-shadow(0px 1px 2px rgba(0, 0, 0, 0.3));\n",
              "      fill: #FFFFFF;\n",
              "    }\n",
              "  </style>\n",
              "\n",
              "      <script>\n",
              "        const buttonEl =\n",
              "          document.querySelector('#df-f6862682-ce82-4c7a-a5a5-e8918f7b9eae button.colab-df-convert');\n",
              "        buttonEl.style.display =\n",
              "          google.colab.kernel.accessAllowed ? 'block' : 'none';\n",
              "\n",
              "        async function convertToInteractive(key) {\n",
              "          const element = document.querySelector('#df-f6862682-ce82-4c7a-a5a5-e8918f7b9eae');\n",
              "          const dataTable =\n",
              "            await google.colab.kernel.invokeFunction('convertToInteractive',\n",
              "                                                     [key], {});\n",
              "          if (!dataTable) return;\n",
              "\n",
              "          const docLinkHtml = 'Like what you see? Visit the ' +\n",
              "            '<a target=\"_blank\" href=https://colab.research.google.com/notebooks/data_table.ipynb>data table notebook</a>'\n",
              "            + ' to learn more about interactive tables.';\n",
              "          element.innerHTML = '';\n",
              "          dataTable['output_type'] = 'display_data';\n",
              "          await google.colab.output.renderOutput(dataTable, element);\n",
              "          const docLink = document.createElement('div');\n",
              "          docLink.innerHTML = docLinkHtml;\n",
              "          element.appendChild(docLink);\n",
              "        }\n",
              "      </script>\n",
              "    </div>\n",
              "  </div>\n",
              "  "
            ]
          },
          "metadata": {},
          "execution_count": 74
        },
        {
          "output_type": "stream",
          "name": "stdout",
          "text": [
            "time: 16.9 ms (started: 2022-09-16 01:08:59 +00:00)\n"
          ]
        }
      ]
    },
    {
      "cell_type": "markdown",
      "source": [
        "###Subdivisión de cada subconjunto entre variables predictoras (X) y target(y)"
      ],
      "metadata": {
        "id": "Oz-LrSRLykxp"
      },
      "id": "Oz-LrSRLykxp"
    },
    {
      "cell_type": "code",
      "source": [
        "#Subconjunto Verano\n",
        "y1 = df_1sum.clasif_\n",
        "X1 = df_1sum.drop('clasif_',axis=1)\n",
        "\n",
        "#Subconjunto Otoño\n",
        "y2 = df_2aut.clasif_\n",
        "X2 = df_2aut.drop('clasif_',axis=1)\n",
        "\n",
        "#Subconjunto Invierno\n",
        "y3 = df_3win.clasif_\n",
        "X3 = df_3win.drop('clasif_',axis=1)\n",
        "\n",
        "#Subconjunto Primavera\n",
        "y4 = df_4spr.clasif_\n",
        "X4 = df_4spr.drop('clasif_',axis=1)"
      ],
      "metadata": {
        "id": "wHCVSUIeHE5t",
        "colab": {
          "base_uri": "https://localhost:8080/"
        },
        "outputId": "05397bbf-c628-48e5-9d65-1ba76e50353d"
      },
      "id": "wHCVSUIeHE5t",
      "execution_count": 75,
      "outputs": [
        {
          "output_type": "stream",
          "name": "stdout",
          "text": [
            "time: 14.7 ms (started: 2022-09-16 01:09:04 +00:00)\n"
          ]
        }
      ]
    },
    {
      "cell_type": "code",
      "source": [
        "# Dividimos cada subconjunto\n",
        "x_train1, x_test1, y_train1, y_test1 = train_test_split(X1, y1, train_size=0.8, random_state = 8)\n",
        "\n",
        "x_train2, x_test2, y_train2, y_test2 = train_test_split(X2, y2, train_size=0.8, random_state = 8)\n",
        "\n",
        "x_train3, x_test3, y_train3, y_test3 = train_test_split(X3, y3, train_size=0.8, random_state = 8)\n",
        "\n",
        "x_train4, x_test4, y_train4, y_test4 = train_test_split(X4, y4, train_size=0.8, random_state = 8)"
      ],
      "metadata": {
        "id": "ImplwxsAGQEz",
        "colab": {
          "base_uri": "https://localhost:8080/"
        },
        "outputId": "e96600b1-6f11-41d6-8358-6c031ee6dca1"
      },
      "id": "ImplwxsAGQEz",
      "execution_count": 76,
      "outputs": [
        {
          "output_type": "stream",
          "name": "stdout",
          "text": [
            "time: 39 ms (started: 2022-09-16 01:09:07 +00:00)\n"
          ]
        }
      ]
    },
    {
      "cell_type": "code",
      "source": [
        "x_train1"
      ],
      "metadata": {
        "colab": {
          "base_uri": "https://localhost:8080/",
          "height": 425
        },
        "id": "XbPET-Dhcco7",
        "outputId": "3b924067-15b0-43b4-a279-967b9cf70c2b"
      },
      "id": "XbPET-Dhcco7",
      "execution_count": 77,
      "outputs": [
        {
          "output_type": "execute_result",
          "data": {
            "text/plain": [
              "        B02_median  B06_median  B11_median  ndvi_max\n",
              "2798       0.09635     0.24320     0.21445  0.646400\n",
              "31415      0.12170     0.22240     0.25400  0.651305\n",
              "3113       0.09710     0.20060     0.16830  0.646686\n",
              "66565      0.09295     0.27140     0.20645  0.740825\n",
              "22168      0.09120     0.23030     0.19860  0.717340\n",
              "...            ...         ...         ...       ...\n",
              "195315     0.11600     0.20155     0.20995  0.551742\n",
              "90895      0.17310     0.28550     0.36210  0.555730\n",
              "106031     0.11135     0.22101     0.21464  0.627777\n",
              "114763     0.11780     0.22225     0.20390  0.599154\n",
              "22024      0.11290     0.23360     0.24090  0.588571\n",
              "\n",
              "[50453 rows x 4 columns]"
            ],
            "text/html": [
              "\n",
              "  <div id=\"df-2a7f78c9-27a3-486b-a744-4e5fbb790173\">\n",
              "    <div class=\"colab-df-container\">\n",
              "      <div>\n",
              "<style scoped>\n",
              "    .dataframe tbody tr th:only-of-type {\n",
              "        vertical-align: middle;\n",
              "    }\n",
              "\n",
              "    .dataframe tbody tr th {\n",
              "        vertical-align: top;\n",
              "    }\n",
              "\n",
              "    .dataframe thead th {\n",
              "        text-align: right;\n",
              "    }\n",
              "</style>\n",
              "<table border=\"1\" class=\"dataframe\">\n",
              "  <thead>\n",
              "    <tr style=\"text-align: right;\">\n",
              "      <th></th>\n",
              "      <th>B02_median</th>\n",
              "      <th>B06_median</th>\n",
              "      <th>B11_median</th>\n",
              "      <th>ndvi_max</th>\n",
              "    </tr>\n",
              "  </thead>\n",
              "  <tbody>\n",
              "    <tr>\n",
              "      <th>2798</th>\n",
              "      <td>0.09635</td>\n",
              "      <td>0.24320</td>\n",
              "      <td>0.21445</td>\n",
              "      <td>0.646400</td>\n",
              "    </tr>\n",
              "    <tr>\n",
              "      <th>31415</th>\n",
              "      <td>0.12170</td>\n",
              "      <td>0.22240</td>\n",
              "      <td>0.25400</td>\n",
              "      <td>0.651305</td>\n",
              "    </tr>\n",
              "    <tr>\n",
              "      <th>3113</th>\n",
              "      <td>0.09710</td>\n",
              "      <td>0.20060</td>\n",
              "      <td>0.16830</td>\n",
              "      <td>0.646686</td>\n",
              "    </tr>\n",
              "    <tr>\n",
              "      <th>66565</th>\n",
              "      <td>0.09295</td>\n",
              "      <td>0.27140</td>\n",
              "      <td>0.20645</td>\n",
              "      <td>0.740825</td>\n",
              "    </tr>\n",
              "    <tr>\n",
              "      <th>22168</th>\n",
              "      <td>0.09120</td>\n",
              "      <td>0.23030</td>\n",
              "      <td>0.19860</td>\n",
              "      <td>0.717340</td>\n",
              "    </tr>\n",
              "    <tr>\n",
              "      <th>...</th>\n",
              "      <td>...</td>\n",
              "      <td>...</td>\n",
              "      <td>...</td>\n",
              "      <td>...</td>\n",
              "    </tr>\n",
              "    <tr>\n",
              "      <th>195315</th>\n",
              "      <td>0.11600</td>\n",
              "      <td>0.20155</td>\n",
              "      <td>0.20995</td>\n",
              "      <td>0.551742</td>\n",
              "    </tr>\n",
              "    <tr>\n",
              "      <th>90895</th>\n",
              "      <td>0.17310</td>\n",
              "      <td>0.28550</td>\n",
              "      <td>0.36210</td>\n",
              "      <td>0.555730</td>\n",
              "    </tr>\n",
              "    <tr>\n",
              "      <th>106031</th>\n",
              "      <td>0.11135</td>\n",
              "      <td>0.22101</td>\n",
              "      <td>0.21464</td>\n",
              "      <td>0.627777</td>\n",
              "    </tr>\n",
              "    <tr>\n",
              "      <th>114763</th>\n",
              "      <td>0.11780</td>\n",
              "      <td>0.22225</td>\n",
              "      <td>0.20390</td>\n",
              "      <td>0.599154</td>\n",
              "    </tr>\n",
              "    <tr>\n",
              "      <th>22024</th>\n",
              "      <td>0.11290</td>\n",
              "      <td>0.23360</td>\n",
              "      <td>0.24090</td>\n",
              "      <td>0.588571</td>\n",
              "    </tr>\n",
              "  </tbody>\n",
              "</table>\n",
              "<p>50453 rows × 4 columns</p>\n",
              "</div>\n",
              "      <button class=\"colab-df-convert\" onclick=\"convertToInteractive('df-2a7f78c9-27a3-486b-a744-4e5fbb790173')\"\n",
              "              title=\"Convert this dataframe to an interactive table.\"\n",
              "              style=\"display:none;\">\n",
              "        \n",
              "  <svg xmlns=\"http://www.w3.org/2000/svg\" height=\"24px\"viewBox=\"0 0 24 24\"\n",
              "       width=\"24px\">\n",
              "    <path d=\"M0 0h24v24H0V0z\" fill=\"none\"/>\n",
              "    <path d=\"M18.56 5.44l.94 2.06.94-2.06 2.06-.94-2.06-.94-.94-2.06-.94 2.06-2.06.94zm-11 1L8.5 8.5l.94-2.06 2.06-.94-2.06-.94L8.5 2.5l-.94 2.06-2.06.94zm10 10l.94 2.06.94-2.06 2.06-.94-2.06-.94-.94-2.06-.94 2.06-2.06.94z\"/><path d=\"M17.41 7.96l-1.37-1.37c-.4-.4-.92-.59-1.43-.59-.52 0-1.04.2-1.43.59L10.3 9.45l-7.72 7.72c-.78.78-.78 2.05 0 2.83L4 21.41c.39.39.9.59 1.41.59.51 0 1.02-.2 1.41-.59l7.78-7.78 2.81-2.81c.8-.78.8-2.07 0-2.86zM5.41 20L4 18.59l7.72-7.72 1.47 1.35L5.41 20z\"/>\n",
              "  </svg>\n",
              "      </button>\n",
              "      \n",
              "  <style>\n",
              "    .colab-df-container {\n",
              "      display:flex;\n",
              "      flex-wrap:wrap;\n",
              "      gap: 12px;\n",
              "    }\n",
              "\n",
              "    .colab-df-convert {\n",
              "      background-color: #E8F0FE;\n",
              "      border: none;\n",
              "      border-radius: 50%;\n",
              "      cursor: pointer;\n",
              "      display: none;\n",
              "      fill: #1967D2;\n",
              "      height: 32px;\n",
              "      padding: 0 0 0 0;\n",
              "      width: 32px;\n",
              "    }\n",
              "\n",
              "    .colab-df-convert:hover {\n",
              "      background-color: #E2EBFA;\n",
              "      box-shadow: 0px 1px 2px rgba(60, 64, 67, 0.3), 0px 1px 3px 1px rgba(60, 64, 67, 0.15);\n",
              "      fill: #174EA6;\n",
              "    }\n",
              "\n",
              "    [theme=dark] .colab-df-convert {\n",
              "      background-color: #3B4455;\n",
              "      fill: #D2E3FC;\n",
              "    }\n",
              "\n",
              "    [theme=dark] .colab-df-convert:hover {\n",
              "      background-color: #434B5C;\n",
              "      box-shadow: 0px 1px 3px 1px rgba(0, 0, 0, 0.15);\n",
              "      filter: drop-shadow(0px 1px 2px rgba(0, 0, 0, 0.3));\n",
              "      fill: #FFFFFF;\n",
              "    }\n",
              "  </style>\n",
              "\n",
              "      <script>\n",
              "        const buttonEl =\n",
              "          document.querySelector('#df-2a7f78c9-27a3-486b-a744-4e5fbb790173 button.colab-df-convert');\n",
              "        buttonEl.style.display =\n",
              "          google.colab.kernel.accessAllowed ? 'block' : 'none';\n",
              "\n",
              "        async function convertToInteractive(key) {\n",
              "          const element = document.querySelector('#df-2a7f78c9-27a3-486b-a744-4e5fbb790173');\n",
              "          const dataTable =\n",
              "            await google.colab.kernel.invokeFunction('convertToInteractive',\n",
              "                                                     [key], {});\n",
              "          if (!dataTable) return;\n",
              "\n",
              "          const docLinkHtml = 'Like what you see? Visit the ' +\n",
              "            '<a target=\"_blank\" href=https://colab.research.google.com/notebooks/data_table.ipynb>data table notebook</a>'\n",
              "            + ' to learn more about interactive tables.';\n",
              "          element.innerHTML = '';\n",
              "          dataTable['output_type'] = 'display_data';\n",
              "          await google.colab.output.renderOutput(dataTable, element);\n",
              "          const docLink = document.createElement('div');\n",
              "          docLink.innerHTML = docLinkHtml;\n",
              "          element.appendChild(docLink);\n",
              "        }\n",
              "      </script>\n",
              "    </div>\n",
              "  </div>\n",
              "  "
            ]
          },
          "metadata": {},
          "execution_count": 77
        },
        {
          "output_type": "stream",
          "name": "stdout",
          "text": [
            "time: 18.5 ms (started: 2022-09-16 01:09:08 +00:00)\n"
          ]
        }
      ]
    },
    {
      "cell_type": "markdown",
      "source": [
        "###Planteo de modelos"
      ],
      "metadata": {
        "id": "O-hbdCtSJ2sK"
      },
      "id": "O-hbdCtSJ2sK"
    },
    {
      "cell_type": "code",
      "source": [
        "import itertools\n",
        "import matplotlib.pyplot as plt\n",
        "from sklearn.metrics import confusion_matrix\n",
        "from sklearn.utils.multiclass import unique_labels\n",
        "\n",
        "def plot_confusion_matrix(y_verd, y_pred, classes,\n",
        "                          normalize=False,\n",
        "                          title=None,\n",
        "                          cmap=plt.cm.Blues,\n",
        "                          ax=None):\n",
        "    \"\"\"\n",
        "    This function prints and plots the confusion matrix.\n",
        "    Normalization can be applied by setting `normalize=True`.\n",
        "    \"\"\"\n",
        "    cm = confusion_matrix(y_verd, y_pred)\n",
        "    classes = classes[unique_labels(y_verd, y_pred)]\n",
        "    if normalize:\n",
        "        cm = cm.astype('float') / cm.sum(axis=1)[:, np.newaxis]\n",
        "    \n",
        "    if ax == None:\n",
        "        fig, ax = plt.subplots()    \n",
        "\n",
        "\n",
        "    am = ax.imshow(cm, interpolation='nearest', cmap=cmap)\n",
        "    ax.figure.colorbar(am, ax=ax)\n",
        "    ax.set(xticks=np.arange(cm.shape[1]),\n",
        "           yticks=np.arange(cm.shape[0]),\n",
        "           xticklabels=classes, yticklabels=classes,\n",
        "           ylabel='Etiqueta correcta',\n",
        "           xlabel='Etiqueta predicha',\n",
        "           title=title,)\n",
        "\n",
        "    \n",
        "\n",
        "    fmt = '.2f' if normalize else 'd'\n",
        "    thresh = cm.max() / 2.\n",
        "    for i, j in itertools.product(range(cm.shape[0]), range(cm.shape[1])):\n",
        "        ax.text(j, i, format(cm[i, j], fmt),\n",
        "                 horizontalalignment=\"center\",\n",
        "                 color=\"white\" if cm[i, j] > thresh else \"black\")\n",
        "    \n",
        "    plt.setp(ax.get_xticklabels(), rotation=45, ha=\"right\",\n",
        "             rotation_mode=\"anchor\")\n",
        "    return ax\n"
      ],
      "metadata": {
        "id": "eJVCmmN7J7PM",
        "colab": {
          "base_uri": "https://localhost:8080/"
        },
        "outputId": "55417e19-d051-4406-b98f-40ac5de8465f"
      },
      "id": "eJVCmmN7J7PM",
      "execution_count": 78,
      "outputs": [
        {
          "output_type": "stream",
          "name": "stdout",
          "text": [
            "time: 3.97 ms (started: 2022-09-16 01:09:12 +00:00)\n"
          ]
        }
      ]
    },
    {
      "cell_type": "markdown",
      "source": [
        "###Planteamos distintos modelos con parámetros por defecto"
      ],
      "metadata": {
        "id": "OqaP_zC4T3WZ"
      },
      "id": "OqaP_zC4T3WZ"
    },
    {
      "cell_type": "code",
      "source": [
        "from sklearn.model_selection import cross_val_score, cross_validate, KFold, StratifiedKFold, LeaveOneOut, LeavePOut\n",
        "from sklearn.metrics import recall_score, accuracy_score, precision_score, f1_score, roc_auc_score, mean_squared_error, r2_score, confusion_matrix, classification_report, ConfusionMatrixDisplay\n",
        "\n",
        "from sklearn.tree import DecisionTreeClassifier\n",
        "from sklearn.ensemble import RandomForestClassifier\n",
        "from sklearn.linear_model import LogisticRegression\n",
        "from sklearn.neural_network import MLPClassifier\n",
        "from xgboost import XGBClassifier\n",
        "from lightgbm import LGBMClassifier\n",
        "from sklearn.naive_bayes import GaussianNB\n",
        "from sklearn.svm import LinearSVC\n",
        "\n",
        "\n",
        "clfs =  [DecisionTreeClassifier(),\n",
        "        RandomForestClassifier(),\n",
        "        LogisticRegression(),\n",
        "        MLPClassifier(),\n",
        "        XGBClassifier(),\n",
        "        GaussianNB(),\n",
        "        LinearSVC()]\n",
        "\n",
        "names = ['Arbol de decisión',\n",
        "        'Random Forest',\n",
        "        'Regresión Logística',\n",
        "        'Perceptrón multicapa',\n",
        "        'XGBoost',\n",
        "        'Naive Bayes',\n",
        "        'SVM']\n",
        "\n",
        "trained_models = []\n",
        "accuracy_models = []\n",
        "\n",
        "print(\"Sunconjunto Verano\")\n",
        "for clf, name in zip(clfs, names):\n",
        "    print(name)\n",
        "    clf.fit(x_train1, y_train1)\n",
        "    train_predictions = clf.predict(x_train1)\n",
        "    accuracy = accuracy_score(y_train1, train_predictions)\n",
        "    print(f\"Accuracy train {name}: %.2f%%\" % (accuracy * 100.0))\n",
        "\n",
        "    test_predictions = clf.predict(x_test1)\n",
        "    accuracy = accuracy_score(y_test1, test_predictions)\n",
        "    print(f\"Accuracy test {name}: %.2f%%\" % (accuracy * 100.0))\n",
        "    trained_models.append(clf)    \n",
        "    accuracy_models.append(accuracy)\n",
        "\n",
        "    "
      ],
      "metadata": {
        "colab": {
          "base_uri": "https://localhost:8080/"
        },
        "id": "OXSfhyOoCXyD",
        "outputId": "be2dcb08-5dee-43d7-a3fb-60aaaa678cd0"
      },
      "id": "OXSfhyOoCXyD",
      "execution_count": 79,
      "outputs": [
        {
          "output_type": "stream",
          "name": "stdout",
          "text": [
            "Sunconjunto Verano\n",
            "Arbol de decisión\n",
            "Accuracy train Arbol de decisión: 100.00%\n",
            "Accuracy test Arbol de decisión: 86.10%\n",
            "Random Forest\n",
            "Accuracy train Random Forest: 100.00%\n",
            "Accuracy test Random Forest: 90.53%\n",
            "Regresión Logística\n",
            "Accuracy train Regresión Logística: 85.66%\n",
            "Accuracy test Regresión Logística: 86.33%\n",
            "Perceptrón multicapa\n"
          ]
        },
        {
          "output_type": "stream",
          "name": "stderr",
          "text": [
            "/usr/local/lib/python3.7/dist-packages/sklearn/neural_network/_multilayer_perceptron.py:696: ConvergenceWarning: Stochastic Optimizer: Maximum iterations (200) reached and the optimization hasn't converged yet.\n",
            "  ConvergenceWarning,\n"
          ]
        },
        {
          "output_type": "stream",
          "name": "stdout",
          "text": [
            "Accuracy train Perceptrón multicapa: 89.36%\n",
            "Accuracy test Perceptrón multicapa: 89.75%\n",
            "XGBoost\n",
            "Accuracy train XGBoost: 89.16%\n",
            "Accuracy test XGBoost: 89.33%\n",
            "Naive Bayes\n",
            "Accuracy train Naive Bayes: 78.17%\n",
            "Accuracy test Naive Bayes: 78.94%\n",
            "SVM\n",
            "Accuracy train SVM: 86.90%\n",
            "Accuracy test SVM: 87.43%\n",
            "time: 2min 1s (started: 2022-09-16 01:09:16 +00:00)\n"
          ]
        }
      ]
    },
    {
      "cell_type": "code",
      "source": [
        "print(\"Sunconjunto Otoño\")\n",
        "for clf, name in zip(clfs, names):\n",
        "    print(name)\n",
        "    clf.fit(x_train2, y_train2)\n",
        "    train_predictions2 = clf.predict(x_train2)\n",
        "    accuracy = accuracy_score(y_train2, train_predictions2)\n",
        "    print(f\"Accuracy train {name}: %.2f%%\" % (accuracy * 100.0))\n",
        "\n",
        "    test_predictions2 = clf.predict(x_test2)\n",
        "    accuracy = accuracy_score(y_test2, test_predictions2)\n",
        "    print(f\"Accuracy test {name}: %.2f%%\" % (accuracy * 100.0))\n",
        "    trained_models.append(clf)    \n",
        "    accuracy_models.append(accuracy)\n"
      ],
      "metadata": {
        "colab": {
          "base_uri": "https://localhost:8080/"
        },
        "id": "vBEYzEaKVS55",
        "outputId": "98623f4a-5eb6-4a4c-f4a7-e95614bc9b13"
      },
      "id": "vBEYzEaKVS55",
      "execution_count": 32,
      "outputs": [
        {
          "output_type": "stream",
          "name": "stdout",
          "text": [
            "Sunconjunto Otoño\n",
            "Arbol de decisión\n",
            "Accuracy train Arbol de decisión: 100.00%\n",
            "Accuracy test Arbol de decisión: 100.00%\n",
            "Random Forest\n",
            "Accuracy train Random Forest: 100.00%\n",
            "Accuracy test Random Forest: 100.00%\n",
            "Regresión Logística\n",
            "Accuracy train Regresión Logística: 31.35%\n",
            "Accuracy test Regresión Logística: 30.38%\n",
            "Perceptrón multicapa\n",
            "Accuracy train Perceptrón multicapa: 68.65%\n",
            "Accuracy test Perceptrón multicapa: 69.62%\n",
            "XGBoost\n",
            "Accuracy train XGBoost: 100.00%\n",
            "Accuracy test XGBoost: 100.00%\n",
            "Naive Bayes\n",
            "Accuracy train Naive Bayes: 100.00%\n",
            "Accuracy test Naive Bayes: 100.00%\n",
            "SVM\n",
            "Accuracy train SVM: 96.44%\n",
            "Accuracy test SVM: 96.20%\n",
            "time: 21.5 s (started: 2022-09-16 00:16:41 +00:00)\n"
          ]
        },
        {
          "output_type": "stream",
          "name": "stderr",
          "text": [
            "/usr/local/lib/python3.7/dist-packages/sklearn/svm/_base.py:1208: ConvergenceWarning: Liblinear failed to converge, increase the number of iterations.\n",
            "  ConvergenceWarning,\n"
          ]
        }
      ]
    },
    {
      "cell_type": "markdown",
      "source": [
        "###Obtenemos mejores parámetros para modelo **RandomForestClassifier**"
      ],
      "metadata": {
        "id": "XCrK3h9_cyFM"
      },
      "id": "XCrK3h9_cyFM"
    },
    {
      "cell_type": "markdown",
      "source": [
        "###Subconjunto Verano"
      ],
      "metadata": {
        "id": "rWJspl3hdDnf"
      },
      "id": "rWJspl3hdDnf"
    },
    {
      "cell_type": "code",
      "source": [
        "from sklearn.ensemble import RandomForestClassifier as RFC"
      ],
      "metadata": {
        "colab": {
          "base_uri": "https://localhost:8080/"
        },
        "id": "BwmCvA3Io0qK",
        "outputId": "346f98d0-69be-4f7b-f453-975704356f17"
      },
      "id": "BwmCvA3Io0qK",
      "execution_count": 80,
      "outputs": [
        {
          "output_type": "stream",
          "name": "stdout",
          "text": [
            "time: 705 µs (started: 2022-09-16 01:12:47 +00:00)\n"
          ]
        }
      ]
    },
    {
      "cell_type": "code",
      "source": [
        "\n",
        "\n",
        "params={#'criterion':('gini','entropy'), \n",
        "        'min_samples_leaf':(2,3,4),\n",
        "        'min_samples_split':(100,110,120),\n",
        "        #'max_features':(\"auto\",\"sqrt\",\"log2\",None),\n",
        "        'n_estimators' : (10,11,12,13,14)}\n",
        "\n",
        "rfc = RFC(random_state=22,criterion='entropy',max_features=\"auto\")\n",
        "grid = RandomizedSearchCV(rfc, params, scoring='accuracy', cv=5,n_jobs=4)\n",
        "grid.fit(x_train1,y_train1)\n",
        "print('Best Decision Tree accuracy: ',grid.best_score_)\n",
        "print(grid.best_estimator_)"
      ],
      "metadata": {
        "colab": {
          "base_uri": "https://localhost:8080/",
          "height": 413
        },
        "id": "CPFxyN5EKGJQ",
        "outputId": "b14ae312-049e-457b-f398-66019a4d23db"
      },
      "id": "CPFxyN5EKGJQ",
      "execution_count": 34,
      "outputs": [
        {
          "output_type": "error",
          "ename": "KeyboardInterrupt",
          "evalue": "ignored",
          "traceback": [
            "\u001b[0;31m---------------------------------------------------------------------------\u001b[0m",
            "\u001b[0;31mKeyboardInterrupt\u001b[0m                         Traceback (most recent call last)",
            "\u001b[0;32m<ipython-input-34-94aea7e5cd77>\u001b[0m in \u001b[0;36m<module>\u001b[0;34m\u001b[0m\n\u001b[1;32m      7\u001b[0m \u001b[0mrfc\u001b[0m \u001b[0;34m=\u001b[0m \u001b[0mRFC\u001b[0m\u001b[0;34m(\u001b[0m\u001b[0mrandom_state\u001b[0m\u001b[0;34m=\u001b[0m\u001b[0;36m22\u001b[0m\u001b[0;34m,\u001b[0m\u001b[0mcriterion\u001b[0m\u001b[0;34m=\u001b[0m\u001b[0;34m'entropy'\u001b[0m\u001b[0;34m,\u001b[0m\u001b[0mmax_features\u001b[0m\u001b[0;34m=\u001b[0m\u001b[0;34m\"auto\"\u001b[0m\u001b[0;34m)\u001b[0m\u001b[0;34m\u001b[0m\u001b[0;34m\u001b[0m\u001b[0m\n\u001b[1;32m      8\u001b[0m \u001b[0mgrid\u001b[0m \u001b[0;34m=\u001b[0m \u001b[0mRandomizedSearchCV\u001b[0m\u001b[0;34m(\u001b[0m\u001b[0mrfc\u001b[0m\u001b[0;34m,\u001b[0m \u001b[0mparams\u001b[0m\u001b[0;34m,\u001b[0m \u001b[0mscoring\u001b[0m\u001b[0;34m=\u001b[0m\u001b[0;34m'accuracy'\u001b[0m\u001b[0;34m,\u001b[0m \u001b[0mcv\u001b[0m\u001b[0;34m=\u001b[0m\u001b[0;36m5\u001b[0m\u001b[0;34m,\u001b[0m\u001b[0mn_jobs\u001b[0m\u001b[0;34m=\u001b[0m\u001b[0;36m4\u001b[0m\u001b[0;34m)\u001b[0m\u001b[0;34m\u001b[0m\u001b[0;34m\u001b[0m\u001b[0m\n\u001b[0;32m----> 9\u001b[0;31m \u001b[0mgrid\u001b[0m\u001b[0;34m.\u001b[0m\u001b[0mfit\u001b[0m\u001b[0;34m(\u001b[0m\u001b[0mx_train1\u001b[0m\u001b[0;34m,\u001b[0m\u001b[0my_train1\u001b[0m\u001b[0;34m)\u001b[0m\u001b[0;34m\u001b[0m\u001b[0;34m\u001b[0m\u001b[0m\n\u001b[0m\u001b[1;32m     10\u001b[0m \u001b[0mprint\u001b[0m\u001b[0;34m(\u001b[0m\u001b[0;34m'Best Decision Tree accuracy: '\u001b[0m\u001b[0;34m,\u001b[0m\u001b[0mgrid\u001b[0m\u001b[0;34m.\u001b[0m\u001b[0mbest_score_\u001b[0m\u001b[0;34m)\u001b[0m\u001b[0;34m\u001b[0m\u001b[0;34m\u001b[0m\u001b[0m\n\u001b[1;32m     11\u001b[0m \u001b[0mprint\u001b[0m\u001b[0;34m(\u001b[0m\u001b[0mgrid\u001b[0m\u001b[0;34m.\u001b[0m\u001b[0mbest_estimator_\u001b[0m\u001b[0;34m)\u001b[0m\u001b[0;34m\u001b[0m\u001b[0;34m\u001b[0m\u001b[0m\n",
            "\u001b[0;32m/usr/local/lib/python3.7/dist-packages/sklearn/model_selection/_search.py\u001b[0m in \u001b[0;36mfit\u001b[0;34m(self, X, y, groups, **fit_params)\u001b[0m\n\u001b[1;32m    889\u001b[0m                 \u001b[0;32mreturn\u001b[0m \u001b[0mresults\u001b[0m\u001b[0;34m\u001b[0m\u001b[0;34m\u001b[0m\u001b[0m\n\u001b[1;32m    890\u001b[0m \u001b[0;34m\u001b[0m\u001b[0m\n\u001b[0;32m--> 891\u001b[0;31m             \u001b[0mself\u001b[0m\u001b[0;34m.\u001b[0m\u001b[0m_run_search\u001b[0m\u001b[0;34m(\u001b[0m\u001b[0mevaluate_candidates\u001b[0m\u001b[0;34m)\u001b[0m\u001b[0;34m\u001b[0m\u001b[0;34m\u001b[0m\u001b[0m\n\u001b[0m\u001b[1;32m    892\u001b[0m \u001b[0;34m\u001b[0m\u001b[0m\n\u001b[1;32m    893\u001b[0m             \u001b[0;31m# multimetric is determined here because in the case of a callable\u001b[0m\u001b[0;34m\u001b[0m\u001b[0;34m\u001b[0m\u001b[0;34m\u001b[0m\u001b[0m\n",
            "\u001b[0;32m/usr/local/lib/python3.7/dist-packages/sklearn/model_selection/_search.py\u001b[0m in \u001b[0;36m_run_search\u001b[0;34m(self, evaluate_candidates)\u001b[0m\n\u001b[1;32m   1766\u001b[0m         evaluate_candidates(\n\u001b[1;32m   1767\u001b[0m             ParameterSampler(\n\u001b[0;32m-> 1768\u001b[0;31m                 \u001b[0mself\u001b[0m\u001b[0;34m.\u001b[0m\u001b[0mparam_distributions\u001b[0m\u001b[0;34m,\u001b[0m \u001b[0mself\u001b[0m\u001b[0;34m.\u001b[0m\u001b[0mn_iter\u001b[0m\u001b[0;34m,\u001b[0m \u001b[0mrandom_state\u001b[0m\u001b[0;34m=\u001b[0m\u001b[0mself\u001b[0m\u001b[0;34m.\u001b[0m\u001b[0mrandom_state\u001b[0m\u001b[0;34m\u001b[0m\u001b[0;34m\u001b[0m\u001b[0m\n\u001b[0m\u001b[1;32m   1769\u001b[0m             )\n\u001b[1;32m   1770\u001b[0m         )\n",
            "\u001b[0;32m/usr/local/lib/python3.7/dist-packages/sklearn/model_selection/_search.py\u001b[0m in \u001b[0;36mevaluate_candidates\u001b[0;34m(candidate_params, cv, more_results)\u001b[0m\n\u001b[1;32m    849\u001b[0m                     )\n\u001b[1;32m    850\u001b[0m                     for (cand_idx, parameters), (split_idx, (train, test)) in product(\n\u001b[0;32m--> 851\u001b[0;31m                         \u001b[0menumerate\u001b[0m\u001b[0;34m(\u001b[0m\u001b[0mcandidate_params\u001b[0m\u001b[0;34m)\u001b[0m\u001b[0;34m,\u001b[0m \u001b[0menumerate\u001b[0m\u001b[0;34m(\u001b[0m\u001b[0mcv\u001b[0m\u001b[0;34m.\u001b[0m\u001b[0msplit\u001b[0m\u001b[0;34m(\u001b[0m\u001b[0mX\u001b[0m\u001b[0;34m,\u001b[0m \u001b[0my\u001b[0m\u001b[0;34m,\u001b[0m \u001b[0mgroups\u001b[0m\u001b[0;34m)\u001b[0m\u001b[0;34m)\u001b[0m\u001b[0;34m\u001b[0m\u001b[0;34m\u001b[0m\u001b[0m\n\u001b[0m\u001b[1;32m    852\u001b[0m                     )\n\u001b[1;32m    853\u001b[0m                 )\n",
            "\u001b[0;32m/usr/local/lib/python3.7/dist-packages/joblib/parallel.py\u001b[0m in \u001b[0;36m__call__\u001b[0;34m(self, iterable)\u001b[0m\n\u001b[1;32m   1054\u001b[0m \u001b[0;34m\u001b[0m\u001b[0m\n\u001b[1;32m   1055\u001b[0m             \u001b[0;32mwith\u001b[0m \u001b[0mself\u001b[0m\u001b[0;34m.\u001b[0m\u001b[0m_backend\u001b[0m\u001b[0;34m.\u001b[0m\u001b[0mretrieval_context\u001b[0m\u001b[0;34m(\u001b[0m\u001b[0;34m)\u001b[0m\u001b[0;34m:\u001b[0m\u001b[0;34m\u001b[0m\u001b[0;34m\u001b[0m\u001b[0m\n\u001b[0;32m-> 1056\u001b[0;31m                 \u001b[0mself\u001b[0m\u001b[0;34m.\u001b[0m\u001b[0mretrieve\u001b[0m\u001b[0;34m(\u001b[0m\u001b[0;34m)\u001b[0m\u001b[0;34m\u001b[0m\u001b[0;34m\u001b[0m\u001b[0m\n\u001b[0m\u001b[1;32m   1057\u001b[0m             \u001b[0;31m# Make sure that we get a last message telling us we are done\u001b[0m\u001b[0;34m\u001b[0m\u001b[0;34m\u001b[0m\u001b[0;34m\u001b[0m\u001b[0m\n\u001b[1;32m   1058\u001b[0m             \u001b[0melapsed_time\u001b[0m \u001b[0;34m=\u001b[0m \u001b[0mtime\u001b[0m\u001b[0;34m.\u001b[0m\u001b[0mtime\u001b[0m\u001b[0;34m(\u001b[0m\u001b[0;34m)\u001b[0m \u001b[0;34m-\u001b[0m \u001b[0mself\u001b[0m\u001b[0;34m.\u001b[0m\u001b[0m_start_time\u001b[0m\u001b[0;34m\u001b[0m\u001b[0;34m\u001b[0m\u001b[0m\n",
            "\u001b[0;32m/usr/local/lib/python3.7/dist-packages/joblib/parallel.py\u001b[0m in \u001b[0;36mretrieve\u001b[0;34m(self)\u001b[0m\n\u001b[1;32m    933\u001b[0m             \u001b[0;32mtry\u001b[0m\u001b[0;34m:\u001b[0m\u001b[0;34m\u001b[0m\u001b[0;34m\u001b[0m\u001b[0m\n\u001b[1;32m    934\u001b[0m                 \u001b[0;32mif\u001b[0m \u001b[0mgetattr\u001b[0m\u001b[0;34m(\u001b[0m\u001b[0mself\u001b[0m\u001b[0;34m.\u001b[0m\u001b[0m_backend\u001b[0m\u001b[0;34m,\u001b[0m \u001b[0;34m'supports_timeout'\u001b[0m\u001b[0;34m,\u001b[0m \u001b[0;32mFalse\u001b[0m\u001b[0;34m)\u001b[0m\u001b[0;34m:\u001b[0m\u001b[0;34m\u001b[0m\u001b[0;34m\u001b[0m\u001b[0m\n\u001b[0;32m--> 935\u001b[0;31m                     \u001b[0mself\u001b[0m\u001b[0;34m.\u001b[0m\u001b[0m_output\u001b[0m\u001b[0;34m.\u001b[0m\u001b[0mextend\u001b[0m\u001b[0;34m(\u001b[0m\u001b[0mjob\u001b[0m\u001b[0;34m.\u001b[0m\u001b[0mget\u001b[0m\u001b[0;34m(\u001b[0m\u001b[0mtimeout\u001b[0m\u001b[0;34m=\u001b[0m\u001b[0mself\u001b[0m\u001b[0;34m.\u001b[0m\u001b[0mtimeout\u001b[0m\u001b[0;34m)\u001b[0m\u001b[0;34m)\u001b[0m\u001b[0;34m\u001b[0m\u001b[0;34m\u001b[0m\u001b[0m\n\u001b[0m\u001b[1;32m    936\u001b[0m                 \u001b[0;32melse\u001b[0m\u001b[0;34m:\u001b[0m\u001b[0;34m\u001b[0m\u001b[0;34m\u001b[0m\u001b[0m\n\u001b[1;32m    937\u001b[0m                     \u001b[0mself\u001b[0m\u001b[0;34m.\u001b[0m\u001b[0m_output\u001b[0m\u001b[0;34m.\u001b[0m\u001b[0mextend\u001b[0m\u001b[0;34m(\u001b[0m\u001b[0mjob\u001b[0m\u001b[0;34m.\u001b[0m\u001b[0mget\u001b[0m\u001b[0;34m(\u001b[0m\u001b[0;34m)\u001b[0m\u001b[0;34m)\u001b[0m\u001b[0;34m\u001b[0m\u001b[0;34m\u001b[0m\u001b[0m\n",
            "\u001b[0;32m/usr/local/lib/python3.7/dist-packages/joblib/_parallel_backends.py\u001b[0m in \u001b[0;36mwrap_future_result\u001b[0;34m(future, timeout)\u001b[0m\n\u001b[1;32m    540\u001b[0m         AsyncResults.get from multiprocessing.\"\"\"\n\u001b[1;32m    541\u001b[0m         \u001b[0;32mtry\u001b[0m\u001b[0;34m:\u001b[0m\u001b[0;34m\u001b[0m\u001b[0;34m\u001b[0m\u001b[0m\n\u001b[0;32m--> 542\u001b[0;31m             \u001b[0;32mreturn\u001b[0m \u001b[0mfuture\u001b[0m\u001b[0;34m.\u001b[0m\u001b[0mresult\u001b[0m\u001b[0;34m(\u001b[0m\u001b[0mtimeout\u001b[0m\u001b[0;34m=\u001b[0m\u001b[0mtimeout\u001b[0m\u001b[0;34m)\u001b[0m\u001b[0;34m\u001b[0m\u001b[0;34m\u001b[0m\u001b[0m\n\u001b[0m\u001b[1;32m    543\u001b[0m         \u001b[0;32mexcept\u001b[0m \u001b[0mCfTimeoutError\u001b[0m \u001b[0;32mas\u001b[0m \u001b[0me\u001b[0m\u001b[0;34m:\u001b[0m\u001b[0;34m\u001b[0m\u001b[0;34m\u001b[0m\u001b[0m\n\u001b[1;32m    544\u001b[0m             \u001b[0;32mraise\u001b[0m \u001b[0mTimeoutError\u001b[0m \u001b[0;32mfrom\u001b[0m \u001b[0me\u001b[0m\u001b[0;34m\u001b[0m\u001b[0;34m\u001b[0m\u001b[0m\n",
            "\u001b[0;32m/usr/lib/python3.7/concurrent/futures/_base.py\u001b[0m in \u001b[0;36mresult\u001b[0;34m(self, timeout)\u001b[0m\n\u001b[1;32m    428\u001b[0m                 \u001b[0;32mreturn\u001b[0m \u001b[0mself\u001b[0m\u001b[0;34m.\u001b[0m\u001b[0m__get_result\u001b[0m\u001b[0;34m(\u001b[0m\u001b[0;34m)\u001b[0m\u001b[0;34m\u001b[0m\u001b[0;34m\u001b[0m\u001b[0m\n\u001b[1;32m    429\u001b[0m \u001b[0;34m\u001b[0m\u001b[0m\n\u001b[0;32m--> 430\u001b[0;31m             \u001b[0mself\u001b[0m\u001b[0;34m.\u001b[0m\u001b[0m_condition\u001b[0m\u001b[0;34m.\u001b[0m\u001b[0mwait\u001b[0m\u001b[0;34m(\u001b[0m\u001b[0mtimeout\u001b[0m\u001b[0;34m)\u001b[0m\u001b[0;34m\u001b[0m\u001b[0;34m\u001b[0m\u001b[0m\n\u001b[0m\u001b[1;32m    431\u001b[0m \u001b[0;34m\u001b[0m\u001b[0m\n\u001b[1;32m    432\u001b[0m             \u001b[0;32mif\u001b[0m \u001b[0mself\u001b[0m\u001b[0;34m.\u001b[0m\u001b[0m_state\u001b[0m \u001b[0;32min\u001b[0m \u001b[0;34m[\u001b[0m\u001b[0mCANCELLED\u001b[0m\u001b[0;34m,\u001b[0m \u001b[0mCANCELLED_AND_NOTIFIED\u001b[0m\u001b[0;34m]\u001b[0m\u001b[0;34m:\u001b[0m\u001b[0;34m\u001b[0m\u001b[0;34m\u001b[0m\u001b[0m\n",
            "\u001b[0;32m/usr/lib/python3.7/threading.py\u001b[0m in \u001b[0;36mwait\u001b[0;34m(self, timeout)\u001b[0m\n\u001b[1;32m    294\u001b[0m         \u001b[0;32mtry\u001b[0m\u001b[0;34m:\u001b[0m    \u001b[0;31m# restore state no matter what (e.g., KeyboardInterrupt)\u001b[0m\u001b[0;34m\u001b[0m\u001b[0;34m\u001b[0m\u001b[0m\n\u001b[1;32m    295\u001b[0m             \u001b[0;32mif\u001b[0m \u001b[0mtimeout\u001b[0m \u001b[0;32mis\u001b[0m \u001b[0;32mNone\u001b[0m\u001b[0;34m:\u001b[0m\u001b[0;34m\u001b[0m\u001b[0;34m\u001b[0m\u001b[0m\n\u001b[0;32m--> 296\u001b[0;31m                 \u001b[0mwaiter\u001b[0m\u001b[0;34m.\u001b[0m\u001b[0macquire\u001b[0m\u001b[0;34m(\u001b[0m\u001b[0;34m)\u001b[0m\u001b[0;34m\u001b[0m\u001b[0;34m\u001b[0m\u001b[0m\n\u001b[0m\u001b[1;32m    297\u001b[0m                 \u001b[0mgotit\u001b[0m \u001b[0;34m=\u001b[0m \u001b[0;32mTrue\u001b[0m\u001b[0;34m\u001b[0m\u001b[0;34m\u001b[0m\u001b[0m\n\u001b[1;32m    298\u001b[0m             \u001b[0;32melse\u001b[0m\u001b[0;34m:\u001b[0m\u001b[0;34m\u001b[0m\u001b[0;34m\u001b[0m\u001b[0m\n",
            "\u001b[0;31mKeyboardInterrupt\u001b[0m: "
          ]
        },
        {
          "output_type": "stream",
          "name": "stdout",
          "text": [
            "time: 9.22 s (started: 2022-09-16 00:17:08 +00:00)\n"
          ]
        }
      ]
    },
    {
      "cell_type": "code",
      "source": [
        "rfc1 = RFC(random_state=22, criterion=\"entropy\",\n",
        "                                       max_features=\"auto\", min_samples_leaf=2,\n",
        "                       min_samples_split=100, n_estimators=14)\n",
        "rfc1.fit(x_train1, y_train1)\n",
        "print(\"Train dataset accuracy: %0.03f\" % rfc1.score(x_train1,y_train1))"
      ],
      "metadata": {
        "id": "tbJ3Hp_6UyNq",
        "colab": {
          "base_uri": "https://localhost:8080/"
        },
        "outputId": "76699654-411c-4585-c4e3-3d9a39413336"
      },
      "id": "tbJ3Hp_6UyNq",
      "execution_count": 81,
      "outputs": [
        {
          "output_type": "stream",
          "name": "stdout",
          "text": [
            "Train dataset accuracy: 0.910\n",
            "time: 2.1 s (started: 2022-09-16 01:12:51 +00:00)\n"
          ]
        }
      ]
    },
    {
      "cell_type": "code",
      "source": [
        "y_test_predt1 = rfc1.predict(x_test1)\n",
        "print(\"Test dataset accuracy: %0.03f\" % rfc1.score(x_test1,y_test1))\n",
        "print(\"****Reporte de clasificación sobre conjunto de evaluación (métricas)*****\") \n",
        "print(classification_report(y_test1, y_test_predt1)) \n",
        "plot_confusion_matrix(y_test1, y_test_predt1, classes=df_1sum.clasif_.unique(),\n",
        "                        title=\"Matriz de confusión para función de coste entropy\");"
      ],
      "metadata": {
        "id": "xQR2c6jtVLkS",
        "colab": {
          "base_uri": "https://localhost:8080/",
          "height": 515
        },
        "outputId": "671170c1-6db5-418c-db90-fd6008038208"
      },
      "id": "xQR2c6jtVLkS",
      "execution_count": 82,
      "outputs": [
        {
          "output_type": "stream",
          "name": "stdout",
          "text": [
            "Test dataset accuracy: 0.902\n",
            "****Reporte de clasificación sobre conjunto de evaluación (métricas)*****\n",
            "              precision    recall  f1-score   support\n",
            "\n",
            "           0       0.88      0.79      0.83      3834\n",
            "           1       0.91      0.95      0.93      8780\n",
            "\n",
            "    accuracy                           0.90     12614\n",
            "   macro avg       0.89      0.87      0.88     12614\n",
            "weighted avg       0.90      0.90      0.90     12614\n",
            "\n"
          ]
        },
        {
          "output_type": "display_data",
          "data": {
            "text/plain": [
              "<Figure size 432x288 with 2 Axes>"
            ],
            "image/png": "[encoded data removed]"
          },
          "metadata": {
            "needs_background": "light"
          }
        },
        {
          "output_type": "stream",
          "name": "stdout",
          "text": [
            "time: 330 ms (started: 2022-09-16 01:12:55 +00:00)\n"
          ]
        }
      ]
    },
    {
      "cell_type": "markdown",
      "source": [
        "###Subconjunto Otoño"
      ],
      "metadata": {
        "id": "2U_pR2sFWIud"
      },
      "id": "2U_pR2sFWIud"
    },
    {
      "cell_type": "code",
      "source": [
        "rfc_o = RFC(random_state=22,criterion='entropy',max_features=\"auto\")\n",
        "grid2 = RandomizedSearchCV(rfc_o, params, scoring='accuracy', cv=5,n_jobs=4)\n",
        "grid2.fit(x_train2,y_train2)\n",
        "print('Best Decision Tree accuracy: ',grid2.best_score_)\n",
        "print(grid2.best_estimator_)"
      ],
      "metadata": {
        "colab": {
          "base_uri": "https://localhost:8080/"
        },
        "id": "TarLneK4WCPR",
        "outputId": "53b53170-a7a9-4857-a2d8-4764a65e06bc"
      },
      "id": "TarLneK4WCPR",
      "execution_count": 83,
      "outputs": [
        {
          "output_type": "stream",
          "name": "stdout",
          "text": [
            "Best Decision Tree accuracy:  0.8830459152254304\n",
            "RandomForestClassifier(criterion='entropy', min_samples_leaf=4,\n",
            "                       min_samples_split=110, n_estimators=14, random_state=22)\n",
            "time: 51.9 s (started: 2022-09-16 01:12:59 +00:00)\n"
          ]
        }
      ]
    },
    {
      "cell_type": "code",
      "source": [
        "rfc2 = RFC(random_state=22, criterion=\"entropy\",\n",
        "                                       max_features=\"auto\", min_samples_leaf=3,\n",
        "                       min_samples_split=100, n_estimators=14)\n",
        "rfc2.fit(x_train2, y_train2)\n",
        "print(\"Train dataset accuracy: %0.03f\" % rfc2.score(x_train2,y_train2))"
      ],
      "metadata": {
        "colab": {
          "base_uri": "https://localhost:8080/"
        },
        "id": "UpW26V8hWB7L",
        "outputId": "01822c5d-22c7-43ba-a1cd-7d645e1b8482"
      },
      "id": "UpW26V8hWB7L",
      "execution_count": 109,
      "outputs": [
        {
          "output_type": "stream",
          "name": "stdout",
          "text": [
            "Train dataset accuracy: 0.902\n",
            "time: 1.67 s (started: 2022-09-16 03:58:18 +00:00)\n"
          ]
        }
      ]
    },
    {
      "cell_type": "code",
      "source": [
        "y_test_predt2 = rfc2.predict(x_test2)\n",
        "print(\"Test dataset accuracy: %0.03f\" % rfc2.score(x_test2,y_test2))\n",
        "print(\"****Reporte de clasificación sobre conjunto de evaluación (métricas)*****\") \n",
        "print(classification_report(y_test2, y_test_predt2)) \n",
        "plot_confusion_matrix(y_test2, y_test_predt2, classes=df_2aut.clasif_.unique(),\n",
        "                        title=\"Matriz de confusión para función de coste entropy\");"
      ],
      "metadata": {
        "colab": {
          "base_uri": "https://localhost:8080/",
          "height": 515
        },
        "id": "mzEfXN5hWBqE",
        "outputId": "35161650-8629-4c3b-c131-ed167b39cb9c"
      },
      "id": "mzEfXN5hWBqE",
      "execution_count": 39,
      "outputs": [
        {
          "output_type": "stream",
          "name": "stdout",
          "text": [
            "Test dataset accuracy: 1.000\n",
            "****Reporte de clasificación sobre conjunto de evaluación (métricas)*****\n",
            "              precision    recall  f1-score   support\n",
            "\n",
            "           0       1.00      1.00      1.00      3204\n",
            "           1       1.00      1.00      1.00      7341\n",
            "\n",
            "    accuracy                           1.00     10545\n",
            "   macro avg       1.00      1.00      1.00     10545\n",
            "weighted avg       1.00      1.00      1.00     10545\n",
            "\n"
          ]
        },
        {
          "output_type": "display_data",
          "data": {
            "text/plain": [
              "<Figure size 432x288 with 2 Axes>"
            ],
            "image/png": "[encoded data removed]"
          },
          "metadata": {
            "needs_background": "light"
          }
        },
        {
          "output_type": "stream",
          "name": "stdout",
          "text": [
            "time: 280 ms (started: 2022-09-16 00:18:00 +00:00)\n"
          ]
        }
      ]
    },
    {
      "cell_type": "markdown",
      "source": [
        "###Subconjunto Invierno"
      ],
      "metadata": {
        "id": "SAkDnsDYWqeq"
      },
      "id": "SAkDnsDYWqeq"
    },
    {
      "cell_type": "code",
      "source": [
        "rfc_i = RFC(random_state=22,criterion='entropy',max_features=\"auto\")\n",
        "grid3 = RandomizedSearchCV(rfc_i, params, scoring='accuracy', cv=5,n_jobs=4)\n",
        "grid3.fit(x_train3,y_train3)\n",
        "print('Best Decision Tree accuracy: ',grid3.best_score_)\n",
        "print(grid3.best_estimator_)"
      ],
      "metadata": {
        "colab": {
          "base_uri": "https://localhost:8080/"
        },
        "id": "X6dVLdoYW1EL",
        "outputId": "b03533e9-5ef5-4119-c96a-290779e1fa90"
      },
      "id": "X6dVLdoYW1EL",
      "execution_count": 107,
      "outputs": [
        {
          "output_type": "stream",
          "name": "stdout",
          "text": [
            "Best Decision Tree accuracy:  0.8564256795835743\n",
            "RandomForestClassifier(criterion='entropy', max_features=2, min_samples_leaf=2,\n",
            "                       min_samples_split=186, n_estimators=18, random_state=22)\n",
            "time: 1min 21s (started: 2022-09-16 03:43:50 +00:00)\n"
          ]
        }
      ]
    },
    {
      "cell_type": "code",
      "source": [
        "rfc3 = RFC(random_state=22, criterion=\"entropy\",\n",
        "                                       max_features=\"auto\", min_samples_leaf=3,\n",
        "                       min_samples_split=100, n_estimators=14)\n",
        "rfc3.fit(x_train3, y_train3)\n",
        "print(\"Train dataset accuracy: %0.03f\" % rfc3.score(x_train3,y_train3))"
      ],
      "metadata": {
        "colab": {
          "base_uri": "https://localhost:8080/"
        },
        "id": "IPFNieHGYM0F",
        "outputId": "cfdc910c-605d-4faa-bb4e-758f2a0e7aad"
      },
      "id": "IPFNieHGYM0F",
      "execution_count": 41,
      "outputs": [
        {
          "output_type": "stream",
          "name": "stdout",
          "text": [
            "Train dataset accuracy: 1.000\n",
            "time: 779 ms (started: 2022-09-16 00:18:28 +00:00)\n"
          ]
        }
      ]
    },
    {
      "cell_type": "code",
      "source": [
        "y_test_predt3 = rfc3.predict(x_test3)\n",
        "print(\"Test dataset accuracy: %0.03f\" % rfc3.score(x_test3,y_test3))\n",
        "print(\"****Reporte de clasificación sobre conjunto de evaluación (métricas)*****\") \n",
        "print(classification_report(y_test3, y_test_predt3)) \n",
        "plot_confusion_matrix(y_test3, y_test_predt3, classes=df_3win.clasif_.unique(),\n",
        "                        title=\"Matriz de confusión para función de coste entropy\");"
      ],
      "metadata": {
        "colab": {
          "base_uri": "https://localhost:8080/",
          "height": 515
        },
        "id": "A-BImuViY2bV",
        "outputId": "b94ab3f6-08db-43d6-c16e-ba07f2d71fc4"
      },
      "id": "A-BImuViY2bV",
      "execution_count": 42,
      "outputs": [
        {
          "output_type": "stream",
          "name": "stdout",
          "text": [
            "Test dataset accuracy: 1.000\n",
            "****Reporte de clasificación sobre conjunto de evaluación (métricas)*****\n",
            "              precision    recall  f1-score   support\n",
            "\n",
            "           0       1.00      1.00      1.00      3314\n",
            "           1       1.00      1.00      1.00      7493\n",
            "\n",
            "    accuracy                           1.00     10807\n",
            "   macro avg       1.00      1.00      1.00     10807\n",
            "weighted avg       1.00      1.00      1.00     10807\n",
            "\n"
          ]
        },
        {
          "output_type": "display_data",
          "data": {
            "text/plain": [
              "<Figure size 432x288 with 2 Axes>"
            ],
            "image/png": "[encoded data removed]"
          },
          "metadata": {
            "needs_background": "light"
          }
        },
        {
          "output_type": "stream",
          "name": "stdout",
          "text": [
            "time: 256 ms (started: 2022-09-16 00:18:32 +00:00)\n"
          ]
        }
      ]
    },
    {
      "cell_type": "markdown",
      "source": [
        "###Subconjunto Primavera"
      ],
      "metadata": {
        "id": "y9-vZCBVZNee"
      },
      "id": "y9-vZCBVZNee"
    },
    {
      "cell_type": "markdown",
      "source": [
        "**Revisar este resultado**"
      ],
      "metadata": {
        "id": "7FSsO_jDakHV"
      },
      "id": "7FSsO_jDakHV"
    },
    {
      "cell_type": "code",
      "source": [
        "rfc_p = RFC(random_state=22,criterion='entropy',max_features=\"auto\")\n",
        "grid4 = RandomizedSearchCV(rfc_p, params, scoring='accuracy', cv=5,n_jobs=4)\n",
        "grid4.fit(x_train4,y_train4)\n",
        "print('Best Decision Tree accuracy: ',grid4.best_score_)\n",
        "print(grid4.best_estimator_)"
      ],
      "metadata": {
        "colab": {
          "base_uri": "https://localhost:8080/"
        },
        "id": "pBdwMT1qZTWv",
        "outputId": "0116783e-0663-4812-9802-045fff9eb8ae"
      },
      "id": "pBdwMT1qZTWv",
      "execution_count": 108,
      "outputs": [
        {
          "output_type": "stream",
          "name": "stdout",
          "text": [
            "Best Decision Tree accuracy:  0.331771408714782\n",
            "RandomForestClassifier(criterion='entropy', max_features=4, min_samples_leaf=4,\n",
            "                       min_samples_split=187, n_estimators=17, random_state=22)\n",
            "time: 6min 1s (started: 2022-09-16 03:52:16 +00:00)\n"
          ]
        }
      ]
    },
    {
      "cell_type": "code",
      "source": [
        "rfc4 = RFC(random_state=22, criterion=\"entropy\",\n",
        "                                       max_features=\"auto\", min_samples_leaf=4,\n",
        "                       min_samples_split=110, n_estimators=10)\n",
        "rfc4.fit(x_train4, y_train4)\n",
        "print(\"Train dataset accuracy: %0.03f\" % rfc4.score(x_train4,y_train4))\n",
        "\n",
        "y_test_predt4 = rfc4.predict(x_test4)\n",
        "print(\"Test dataset accuracy: %0.03f\" % rfc4.score(x_test4,y_test4))\n",
        "print(\"****Reporte de clasificación sobre conjunto de evaluación (métricas)*****\") \n",
        "print(classification_report(y_test4, y_test_predt4)) \n",
        "plot_confusion_matrix(y_test4, y_test_predt4, classes=df_4spr.clasif_.unique(),\n",
        "                        title=\"Matriz de confusión para función de coste entropy\");"
      ],
      "metadata": {
        "colab": {
          "base_uri": "https://localhost:8080/",
          "height": 534
        },
        "id": "MKF6YSCEZbKH",
        "outputId": "eef13517-cf86-46dc-b40d-f7ed1e9c541f"
      },
      "id": "MKF6YSCEZbKH",
      "execution_count": 106,
      "outputs": [
        {
          "output_type": "stream",
          "name": "stdout",
          "text": [
            "Train dataset accuracy: 0.554\n",
            "Test dataset accuracy: 0.286\n",
            "****Reporte de clasificación sobre conjunto de evaluación (métricas)*****\n",
            "              precision    recall  f1-score   support\n",
            "\n",
            "           0       0.28      0.26      0.27      7854\n",
            "           1       0.29      0.31      0.30      7779\n",
            "\n",
            "    accuracy                           0.29     15633\n",
            "   macro avg       0.29      0.29      0.29     15633\n",
            "weighted avg       0.29      0.29      0.29     15633\n",
            "\n"
          ]
        },
        {
          "output_type": "display_data",
          "data": {
            "text/plain": [
              "<Figure size 432x288 with 2 Axes>"
            ],
            "image/png": "[encoded data removed]"
          },
          "metadata": {
            "needs_background": "light"
          }
        },
        {
          "output_type": "stream",
          "name": "stdout",
          "text": [
            "time: 3.96 s (started: 2022-09-16 03:43:46 +00:00)\n"
          ]
        }
      ]
    },
    {
      "cell_type": "markdown",
      "source": [
        "###Obtenemos mejores parámetros para modelo **ExtraTreesClassifier**"
      ],
      "metadata": {
        "id": "kd51q4Jhu-wW"
      },
      "id": "kd51q4Jhu-wW"
    },
    {
      "cell_type": "code",
      "source": [
        "params = { \n",
        "          'min_samples_leaf':(1,2,3,4),\n",
        "          'min_samples_split':(186,187,188),\n",
        "          'max_features':(2,3,4),\n",
        "          'n_estimators' : (16,17,18,19,20)}\n"
      ],
      "metadata": {
        "colab": {
          "base_uri": "https://localhost:8080/"
        },
        "id": "-qRaX9tXPhuk",
        "outputId": "717b8ac3-9410-456c-f479-06c1fe22d89b"
      },
      "id": "-qRaX9tXPhuk",
      "execution_count": 99,
      "outputs": [
        {
          "output_type": "stream",
          "name": "stdout",
          "text": [
            "time: 9.41 ms (started: 2022-09-16 03:06:54 +00:00)\n"
          ]
        }
      ]
    },
    {
      "cell_type": "code",
      "source": [
        "x_train4"
      ],
      "metadata": {
        "colab": {
          "base_uri": "https://localhost:8080/",
          "height": 425
        },
        "id": "IHPUdrWC0usv",
        "outputId": "31209f1e-2086-49a0-e130-f2bc8c289830"
      },
      "id": "IHPUdrWC0usv",
      "execution_count": 87,
      "outputs": [
        {
          "output_type": "execute_result",
          "data": {
            "text/plain": [
              "        B02_median  B06_median  B11_median  ndvi_max\n",
              "142340     0.12630     0.22620     0.31545  0.443352\n",
              "186021     0.12325     0.24190     0.31180  0.461303\n",
              "193939     0.13710     0.27280     0.32975  0.489447\n",
              "60940      0.11800     0.19490     0.20930  0.592398\n",
              "184126     0.16100     0.24200     0.29810  0.238778\n",
              "...            ...         ...         ...       ...\n",
              "57228      0.13435     0.23715     0.23705  0.421813\n",
              "141094     0.12019     0.23470     0.25895  0.588347\n",
              "102616     0.10105     0.25650     0.24400  0.723344\n",
              "143760     0.11935     0.19620     0.24385  0.452925\n",
              "184685     0.16330     0.25400     0.33515  0.434996\n",
              "\n",
              "[62531 rows x 4 columns]"
            ],
            "text/html": [
              "\n",
              "  <div id=\"df-0fcb8900-fde8-4926-93b3-42d83c9fb35e\">\n",
              "    <div class=\"colab-df-container\">\n",
              "      <div>\n",
              "<style scoped>\n",
              "    .dataframe tbody tr th:only-of-type {\n",
              "        vertical-align: middle;\n",
              "    }\n",
              "\n",
              "    .dataframe tbody tr th {\n",
              "        vertical-align: top;\n",
              "    }\n",
              "\n",
              "    .dataframe thead th {\n",
              "        text-align: right;\n",
              "    }\n",
              "</style>\n",
              "<table border=\"1\" class=\"dataframe\">\n",
              "  <thead>\n",
              "    <tr style=\"text-align: right;\">\n",
              "      <th></th>\n",
              "      <th>B02_median</th>\n",
              "      <th>B06_median</th>\n",
              "      <th>B11_median</th>\n",
              "      <th>ndvi_max</th>\n",
              "    </tr>\n",
              "  </thead>\n",
              "  <tbody>\n",
              "    <tr>\n",
              "      <th>142340</th>\n",
              "      <td>0.12630</td>\n",
              "      <td>0.22620</td>\n",
              "      <td>0.31545</td>\n",
              "      <td>0.443352</td>\n",
              "    </tr>\n",
              "    <tr>\n",
              "      <th>186021</th>\n",
              "      <td>0.12325</td>\n",
              "      <td>0.24190</td>\n",
              "      <td>0.31180</td>\n",
              "      <td>0.461303</td>\n",
              "    </tr>\n",
              "    <tr>\n",
              "      <th>193939</th>\n",
              "      <td>0.13710</td>\n",
              "      <td>0.27280</td>\n",
              "      <td>0.32975</td>\n",
              "      <td>0.489447</td>\n",
              "    </tr>\n",
              "    <tr>\n",
              "      <th>60940</th>\n",
              "      <td>0.11800</td>\n",
              "      <td>0.19490</td>\n",
              "      <td>0.20930</td>\n",
              "      <td>0.592398</td>\n",
              "    </tr>\n",
              "    <tr>\n",
              "      <th>184126</th>\n",
              "      <td>0.16100</td>\n",
              "      <td>0.24200</td>\n",
              "      <td>0.29810</td>\n",
              "      <td>0.238778</td>\n",
              "    </tr>\n",
              "    <tr>\n",
              "      <th>...</th>\n",
              "      <td>...</td>\n",
              "      <td>...</td>\n",
              "      <td>...</td>\n",
              "      <td>...</td>\n",
              "    </tr>\n",
              "    <tr>\n",
              "      <th>57228</th>\n",
              "      <td>0.13435</td>\n",
              "      <td>0.23715</td>\n",
              "      <td>0.23705</td>\n",
              "      <td>0.421813</td>\n",
              "    </tr>\n",
              "    <tr>\n",
              "      <th>141094</th>\n",
              "      <td>0.12019</td>\n",
              "      <td>0.23470</td>\n",
              "      <td>0.25895</td>\n",
              "      <td>0.588347</td>\n",
              "    </tr>\n",
              "    <tr>\n",
              "      <th>102616</th>\n",
              "      <td>0.10105</td>\n",
              "      <td>0.25650</td>\n",
              "      <td>0.24400</td>\n",
              "      <td>0.723344</td>\n",
              "    </tr>\n",
              "    <tr>\n",
              "      <th>143760</th>\n",
              "      <td>0.11935</td>\n",
              "      <td>0.19620</td>\n",
              "      <td>0.24385</td>\n",
              "      <td>0.452925</td>\n",
              "    </tr>\n",
              "    <tr>\n",
              "      <th>184685</th>\n",
              "      <td>0.16330</td>\n",
              "      <td>0.25400</td>\n",
              "      <td>0.33515</td>\n",
              "      <td>0.434996</td>\n",
              "    </tr>\n",
              "  </tbody>\n",
              "</table>\n",
              "<p>62531 rows × 4 columns</p>\n",
              "</div>\n",
              "      <button class=\"colab-df-convert\" onclick=\"convertToInteractive('df-0fcb8900-fde8-4926-93b3-42d83c9fb35e')\"\n",
              "              title=\"Convert this dataframe to an interactive table.\"\n",
              "              style=\"display:none;\">\n",
              "        \n",
              "  <svg xmlns=\"http://www.w3.org/2000/svg\" height=\"24px\"viewBox=\"0 0 24 24\"\n",
              "       width=\"24px\">\n",
              "    <path d=\"M0 0h24v24H0V0z\" fill=\"none\"/>\n",
              "    <path d=\"M18.56 5.44l.94 2.06.94-2.06 2.06-.94-2.06-.94-.94-2.06-.94 2.06-2.06.94zm-11 1L8.5 8.5l.94-2.06 2.06-.94-2.06-.94L8.5 2.5l-.94 2.06-2.06.94zm10 10l.94 2.06.94-2.06 2.06-.94-2.06-.94-.94-2.06-.94 2.06-2.06.94z\"/><path d=\"M17.41 7.96l-1.37-1.37c-.4-.4-.92-.59-1.43-.59-.52 0-1.04.2-1.43.59L10.3 9.45l-7.72 7.72c-.78.78-.78 2.05 0 2.83L4 21.41c.39.39.9.59 1.41.59.51 0 1.02-.2 1.41-.59l7.78-7.78 2.81-2.81c.8-.78.8-2.07 0-2.86zM5.41 20L4 18.59l7.72-7.72 1.47 1.35L5.41 20z\"/>\n",
              "  </svg>\n",
              "      </button>\n",
              "      \n",
              "  <style>\n",
              "    .colab-df-container {\n",
              "      display:flex;\n",
              "      flex-wrap:wrap;\n",
              "      gap: 12px;\n",
              "    }\n",
              "\n",
              "    .colab-df-convert {\n",
              "      background-color: #E8F0FE;\n",
              "      border: none;\n",
              "      border-radius: 50%;\n",
              "      cursor: pointer;\n",
              "      display: none;\n",
              "      fill: #1967D2;\n",
              "      height: 32px;\n",
              "      padding: 0 0 0 0;\n",
              "      width: 32px;\n",
              "    }\n",
              "\n",
              "    .colab-df-convert:hover {\n",
              "      background-color: #E2EBFA;\n",
              "      box-shadow: 0px 1px 2px rgba(60, 64, 67, 0.3), 0px 1px 3px 1px rgba(60, 64, 67, 0.15);\n",
              "      fill: #174EA6;\n",
              "    }\n",
              "\n",
              "    [theme=dark] .colab-df-convert {\n",
              "      background-color: #3B4455;\n",
              "      fill: #D2E3FC;\n",
              "    }\n",
              "\n",
              "    [theme=dark] .colab-df-convert:hover {\n",
              "      background-color: #434B5C;\n",
              "      box-shadow: 0px 1px 3px 1px rgba(0, 0, 0, 0.15);\n",
              "      filter: drop-shadow(0px 1px 2px rgba(0, 0, 0, 0.3));\n",
              "      fill: #FFFFFF;\n",
              "    }\n",
              "  </style>\n",
              "\n",
              "      <script>\n",
              "        const buttonEl =\n",
              "          document.querySelector('#df-0fcb8900-fde8-4926-93b3-42d83c9fb35e button.colab-df-convert');\n",
              "        buttonEl.style.display =\n",
              "          google.colab.kernel.accessAllowed ? 'block' : 'none';\n",
              "\n",
              "        async function convertToInteractive(key) {\n",
              "          const element = document.querySelector('#df-0fcb8900-fde8-4926-93b3-42d83c9fb35e');\n",
              "          const dataTable =\n",
              "            await google.colab.kernel.invokeFunction('convertToInteractive',\n",
              "                                                     [key], {});\n",
              "          if (!dataTable) return;\n",
              "\n",
              "          const docLinkHtml = 'Like what you see? Visit the ' +\n",
              "            '<a target=\"_blank\" href=https://colab.research.google.com/notebooks/data_table.ipynb>data table notebook</a>'\n",
              "            + ' to learn more about interactive tables.';\n",
              "          element.innerHTML = '';\n",
              "          dataTable['output_type'] = 'display_data';\n",
              "          await google.colab.output.renderOutput(dataTable, element);\n",
              "          const docLink = document.createElement('div');\n",
              "          docLink.innerHTML = docLinkHtml;\n",
              "          element.appendChild(docLink);\n",
              "        }\n",
              "      </script>\n",
              "    </div>\n",
              "  </div>\n",
              "  "
            ]
          },
          "metadata": {},
          "execution_count": 87
        },
        {
          "output_type": "stream",
          "name": "stdout",
          "text": [
            "time: 18.2 ms (started: 2022-09-16 01:15:21 +00:00)\n"
          ]
        }
      ]
    },
    {
      "cell_type": "code",
      "source": [
        "from sklearn.ensemble import ExtraTreesClassifier as ETC"
      ],
      "metadata": {
        "colab": {
          "base_uri": "https://localhost:8080/"
        },
        "id": "GtnLqb0UyS_-",
        "outputId": "006de18e-779d-479c-ab0b-8a5596089501"
      },
      "id": "GtnLqb0UyS_-",
      "execution_count": 93,
      "outputs": [
        {
          "output_type": "stream",
          "name": "stdout",
          "text": [
            "time: 899 µs (started: 2022-09-16 02:45:53 +00:00)\n"
          ]
        }
      ]
    },
    {
      "cell_type": "markdown",
      "source": [
        "####Subconjunto Verano"
      ],
      "metadata": {
        "id": "VKfPV1C_MdsG"
      },
      "id": "VKfPV1C_MdsG"
    },
    {
      "cell_type": "code",
      "source": [
        "etc = ETC(max_depth=None,random_state=22,n_jobs=4, criterion='gini')\n",
        "tree_etc = GridSearchCV(etc, params, scoring='accuracy', cv=5,n_jobs=4)\n",
        "tree_etc.fit(x_train1, y_train1)\n",
        "best_tree_etc = tree_etc.best_estimator_\n",
        "print('Best Decision Tree accuracy: ', tree_etc.best_score_)\n",
        "#print('Best Decision Tree accuracy: ', tree_etc.score(,y_test))\n",
        "print(best_tree_etc)"
      ],
      "metadata": {
        "colab": {
          "base_uri": "https://localhost:8080/"
        },
        "id": "1TnUyepNyVeL",
        "outputId": "5e83e927-b893-4f67-d5f4-bfb9a956e68d"
      },
      "id": "1TnUyepNyVeL",
      "execution_count": 96,
      "outputs": [
        {
          "output_type": "stream",
          "name": "stdout",
          "text": [
            "Best Decision Tree accuracy:  0.8905912411132038\n",
            "ExtraTreesClassifier(max_features=4, min_samples_leaf=4, min_samples_split=187,\n",
            "                     n_estimators=20, n_jobs=4, random_state=22)\n",
            "time: 5min 54s (started: 2022-09-16 02:51:54 +00:00)\n"
          ]
        }
      ]
    },
    {
      "cell_type": "code",
      "source": [
        "etc2 = ETC(max_depth=None,random_state=22,n_jobs=4, criterion='entropy')\n",
        "tree_etc2 = GridSearchCV(etc2, params, scoring='accuracy', cv=5,n_jobs=4)\n",
        "tree_etc2.fit(x_train1, y_train1)\n",
        "best_tree_etc2 = tree_etc2.best_estimator_\n",
        "print('Best Decision Tree accuracy: ', tree_etc2.best_score_)\n",
        "#print('Best Decision Tree accuracy: ', tree_etc.score(,y_test))\n",
        "print(best_tree_etc2)"
      ],
      "metadata": {
        "colab": {
          "base_uri": "https://localhost:8080/"
        },
        "id": "NZ64Z-IBO8X0",
        "outputId": "52ff4ad7-a0e5-44d7-b679-51632e96bc18"
      },
      "id": "NZ64Z-IBO8X0",
      "execution_count": 98,
      "outputs": [
        {
          "output_type": "stream",
          "name": "stdout",
          "text": [
            "Best Decision Tree accuracy:  0.8909083966234324\n",
            "ExtraTreesClassifier(criterion='entropy', max_features=4, min_samples_leaf=3,\n",
            "                     min_samples_split=186, n_estimators=20, n_jobs=4,\n",
            "                     random_state=22)\n",
            "time: 6min 45s (started: 2022-09-16 03:00:08 +00:00)\n"
          ]
        }
      ]
    },
    {
      "cell_type": "markdown",
      "source": [
        "####Subconjunto Otoño"
      ],
      "metadata": {
        "id": "s9LzZI4mMpTX"
      },
      "id": "s9LzZI4mMpTX"
    },
    {
      "cell_type": "code",
      "source": [
        "etc = ETC(max_depth=None,random_state=22,n_jobs=4, criterion='gini')\n",
        "tree_etc = GridSearchCV(etc, params, scoring='accuracy', cv=5,n_jobs=4)\n",
        "tree_etc.fit(x_train2, y_train2)\n",
        "best_tree_etc = tree_etc.best_estimator_\n",
        "print('Best Decision Tree accuracy: ', tree_etc.best_score_)\n",
        "#print('Best Decision Tree accuracy: ', tree_etc.score(,y_test))\n",
        "print(best_tree_etc)"
      ],
      "metadata": {
        "colab": {
          "base_uri": "https://localhost:8080/"
        },
        "id": "WP89rayCyVF9",
        "outputId": "c45d0420-80eb-4361-d901-599986137d62"
      },
      "id": "WP89rayCyVF9",
      "execution_count": 100,
      "outputs": [
        {
          "output_type": "stream",
          "name": "stdout",
          "text": [
            "Best Decision Tree accuracy:  0.8810781579945154\n",
            "ExtraTreesClassifier(max_features=4, min_samples_split=186, n_estimators=19,\n",
            "                     n_jobs=4, random_state=22)\n",
            "time: 4min 42s (started: 2022-09-16 03:06:55 +00:00)\n"
          ]
        }
      ]
    },
    {
      "cell_type": "code",
      "source": [
        "etc2 = ETC(max_depth=None,random_state=22,n_jobs=4, criterion='entropy')\n",
        "tree_etc2 = GridSearchCV(etc2, params, scoring='accuracy', cv=5,n_jobs=4)\n",
        "tree_etc2.fit(x_train2, y_train2)\n",
        "best_tree_etc2 = tree_etc2.best_estimator_\n",
        "print('Best Decision Tree accuracy: ', tree_etc2.best_score_)\n",
        "#print('Best Decision Tree accuracy: ', tree_etc.score(,y_test))\n",
        "print(best_tree_etc2)"
      ],
      "metadata": {
        "colab": {
          "base_uri": "https://localhost:8080/"
        },
        "id": "P2iag9_dP_0d",
        "outputId": "c9581a72-8e08-49ae-bbf9-b1c1aae0b996"
      },
      "id": "P2iag9_dP_0d",
      "execution_count": 101,
      "outputs": [
        {
          "output_type": "stream",
          "name": "stdout",
          "text": [
            "Best Decision Tree accuracy:  0.8820975563277376\n",
            "ExtraTreesClassifier(criterion='entropy', max_features=4, min_samples_split=187,\n",
            "                     n_estimators=20, n_jobs=4, random_state=22)\n",
            "time: 4min 43s (started: 2022-09-16 03:11:37 +00:00)\n"
          ]
        }
      ]
    },
    {
      "cell_type": "markdown",
      "source": [
        "####Subconjunto Invierno"
      ],
      "metadata": {
        "id": "odc1sgaAQETp"
      },
      "id": "odc1sgaAQETp"
    },
    {
      "cell_type": "code",
      "source": [
        "etc = ETC(max_depth=None,random_state=22,n_jobs=4, criterion='gini')\n",
        "tree_etc = GridSearchCV(etc, params, scoring='accuracy', cv=5,n_jobs=4)\n",
        "tree_etc.fit(x_train3, y_train3)\n",
        "best_tree_etc = tree_etc.best_estimator_\n",
        "print('Best Decision Tree accuracy: ', tree_etc.best_score_)\n",
        "#print('Best Decision Tree accuracy: ', tree_etc.score(,y_test))\n",
        "print(best_tree_etc)"
      ],
      "metadata": {
        "colab": {
          "base_uri": "https://localhost:8080/"
        },
        "id": "uHfT1_aiQLA9",
        "outputId": "06c4b697-656e-4416-ed4d-d251dcfbc9c1"
      },
      "id": "uHfT1_aiQLA9",
      "execution_count": 102,
      "outputs": [
        {
          "output_type": "stream",
          "name": "stdout",
          "text": [
            "Best Decision Tree accuracy:  0.8589936379410064\n",
            "ExtraTreesClassifier(max_features=4, min_samples_split=187, n_estimators=20,\n",
            "                     n_jobs=4, random_state=22)\n",
            "time: 4min 41s (started: 2022-09-16 03:16:20 +00:00)\n"
          ]
        }
      ]
    },
    {
      "cell_type": "code",
      "source": [
        "etc2 = ETC(max_depth=None,random_state=22,n_jobs=4, criterion='entropy')\n",
        "tree_etc2 = GridSearchCV(etc2, params, scoring='accuracy', cv=5,n_jobs=4)\n",
        "tree_etc2.fit(x_train3, y_train3)\n",
        "best_tree_etc2 = tree_etc2.best_estimator_\n",
        "print('Best Decision Tree accuracy: ', tree_etc2.best_score_)\n",
        "#print('Best Decision Tree accuracy: ', tree_etc.score(,y_test))\n",
        "print(best_tree_etc2)"
      ],
      "metadata": {
        "colab": {
          "base_uri": "https://localhost:8080/"
        },
        "id": "UbhZ0hqaQRF8",
        "outputId": "bef4d5d7-be60-499a-b641-9a30f8bfa4a9"
      },
      "id": "UbhZ0hqaQRF8",
      "execution_count": 103,
      "outputs": [
        {
          "output_type": "stream",
          "name": "stdout",
          "text": [
            "Best Decision Tree accuracy:  0.8591093117408907\n",
            "ExtraTreesClassifier(criterion='entropy', max_features=4, min_samples_split=187,\n",
            "                     n_estimators=16, n_jobs=4, random_state=22)\n",
            "time: 4min 43s (started: 2022-09-16 03:21:02 +00:00)\n"
          ]
        }
      ]
    },
    {
      "cell_type": "markdown",
      "source": [
        "####Subconjunto Primavera"
      ],
      "metadata": {
        "id": "euEOv1MRQYos"
      },
      "id": "euEOv1MRQYos"
    },
    {
      "cell_type": "code",
      "source": [
        "etc = ETC(max_depth=None,random_state=22,n_jobs=4, criterion='gini')\n",
        "tree_etc = GridSearchCV(etc, params, scoring='accuracy', cv=5,n_jobs=4)\n",
        "tree_etc.fit(x_train4, y_train4)\n",
        "best_tree_etc = tree_etc.best_estimator_\n",
        "print('Best Decision Tree accuracy: ', tree_etc.best_score_)\n",
        "#print('Best Decision Tree accuracy: ', tree_etc.score(,y_test))\n",
        "print(best_tree_etc)"
      ],
      "metadata": {
        "colab": {
          "base_uri": "https://localhost:8080/"
        },
        "id": "KSYQPJ-xQhx9",
        "outputId": "3d9a7bc9-3e0d-4229-8224-fe28743c1e62"
      },
      "id": "KSYQPJ-xQhx9",
      "execution_count": 104,
      "outputs": [
        {
          "output_type": "stream",
          "name": "stdout",
          "text": [
            "Best Decision Tree accuracy:  0.3725191679321982\n",
            "ExtraTreesClassifier(max_features=2, min_samples_leaf=4, min_samples_split=188,\n",
            "                     n_estimators=17, n_jobs=4, random_state=22)\n",
            "time: 8min 58s (started: 2022-09-16 03:25:45 +00:00)\n"
          ]
        }
      ]
    },
    {
      "cell_type": "code",
      "source": [
        "etc2 = ETC(max_depth=None,random_state=22,n_jobs=4, criterion='entropy')\n",
        "tree_etc2 = GridSearchCV(etc2, params, scoring='accuracy', cv=5,n_jobs=4)\n",
        "tree_etc2.fit(x_train4, y_train4)\n",
        "best_tree_etc2 = tree_etc2.best_estimator_\n",
        "print('Best Decision Tree accuracy: ', tree_etc2.best_score_)\n",
        "#print('Best Decision Tree accuracy: ', tree_etc.score(,y_test))\n",
        "print(best_tree_etc2)"
      ],
      "metadata": {
        "colab": {
          "base_uri": "https://localhost:8080/"
        },
        "id": "RC3q1Sm-Qnxr",
        "outputId": "0cf681a8-6c2e-4379-c9be-63ac22a0cf33"
      },
      "id": "RC3q1Sm-Qnxr",
      "execution_count": 105,
      "outputs": [
        {
          "output_type": "stream",
          "name": "stdout",
          "text": [
            "Best Decision Tree accuracy:  0.3727110783737534\n",
            "ExtraTreesClassifier(criterion='entropy', max_features=2, min_samples_leaf=4,\n",
            "                     min_samples_split=188, n_estimators=16, n_jobs=4,\n",
            "                     random_state=22)\n",
            "time: 9min 2s (started: 2022-09-16 03:34:44 +00:00)\n"
          ]
        }
      ]
    }
  ],
  "metadata": {
    "kernelspec": {
      "display_name": "Python 3",
      "language": "python",
      "name": "python3"
    },
    "language_info": {
      "codemirror_mode": {
        "name": "ipython",
        "version": 3
      },
      "file_extension": ".py",
      "mimetype": "text/x-python",
      "name": "python",
      "nbconvert_exporter": "python",
      "pygments_lexer": "ipython3",
      "version": "3.9.7"
    },
    "colab": {
      "provenance": [],
      "collapsed_sections": [],
      "include_colab_link": true
    }
  },
  "nbformat": 4,
  "nbformat_minor": 5
}