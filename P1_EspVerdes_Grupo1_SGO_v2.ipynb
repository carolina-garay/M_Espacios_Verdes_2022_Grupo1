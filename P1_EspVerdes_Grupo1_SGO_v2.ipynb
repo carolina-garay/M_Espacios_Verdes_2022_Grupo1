{
  "nbformat": 4,
  "nbformat_minor": 0,
  "metadata": {
    "colab": {
      "name": "P1.EspVerdes.Grupo1.SGO.v1.ipynb",
      "provenance": [],
      "authorship_tag": "ABX9TyMIDZMSZXUlNHqkUChsEHGo",
      "include_colab_link": true
    },
    "kernelspec": {
      "name": "python3",
      "display_name": "Python 3"
    },
    "language_info": {
      "name": "python"
    }
  },
  "cells": [
    {
      "cell_type": "markdown",
      "metadata": {
        "id": "view-in-github",
        "colab_type": "text"
      },
      "source": [
        "<a href=\"https://colab.research.google.com/github/carolina-garay/M_Espacios_Verdes_2022_Grupo1/blob/Seba-Ormaechea/P1_EspVerdes_Grupo1_SGO_v2.ipynb\" target=\"_parent\"><img src=\"https://colab.research.google.com/assets/colab-badge.svg\" alt=\"Open In Colab\"/></a>"
      ]
    },
    {
      "cell_type": "markdown",
      "source": [
        "# Espacios Verdes. Práctico de análisis y visualización\n",
        "Grupo 1: \n",
        "- Artola, María Fernanda\n",
        "- Garay, Carolina\n",
        "- Nievas, Rafael\n",
        "- Ormaechea, Sebastián"
      ],
      "metadata": {
        "id": "a9kzVgo_vQoK"
      }
    },
    {
      "cell_type": "markdown",
      "source": [
        "## Introducción\n",
        "El monitoreo de espacios verdes mediante sensores remotos (satélites), puede ser una alternativa interesante para aquellos municipios que busquen preservar el buen estado de estos espacios, reduciendo la necesidad de personal especializado para el control in situ. Sería interesante que este monitoreo implique la sistematización de tareas de control y brinde indicadores efectivos para advertir estados de deterioro que requieran ser atendidos. Se espera que el análisis de datos provistos con imágenes satelitales e indicadores como NVDI (Indice Diferencial de Vegetación Normalizado), permita detectar cambios en la condición de la vegetación a través de las estaciones del año y eventualmente detectar cambios anormales que representen estados preliminares de degradación de estos espacios. \n",
        "Por otro lado, es posible que la resolución de las imagenes no permita detectar cambios a nivel de arboles individuales o que, en casos de vegetación multiestratificada, no se puedan advertir los cambios en cado estrato. "
      ],
      "metadata": {
        "id": "DJTsitDc916k"
      }
    },
    {
      "cell_type": "markdown",
      "source": [
        "## Presentación del Dataset\n",
        "El dataset disponible se encuentra en formato tabular y cuenta con 208932 registros (filas) que representan diferentes espacios verdes (plazas. parques, etc.) de la ciudad de Córdoba, tomados en diferentes fechas desde el año 2017 al 2022. La obtención de diferentes fechas para una misma zona es lo que permite luego un análisis de evolución temporal de la vegetación. \n",
        "\n",
        "El dataset también cuenta con 167 columnas que caracterizan cada uno de los  registros mediante los siguientes estadísticos o propiedades: \n",
        "- {B0i/indice}_{min,max,mean,median,nodata,range,count}:\n",
        " - min: valor mínimo alcanzado por la Banda o indice en la zona de interés.\n",
        " - max: valor máximo alcanzado por la Banda o indice en la zona de interés.\n",
        " - median: mediana alcanzada por la Banda o indice en la zona de interés.\n",
        " - nodata: cantidad de valores nulos en la Banda o indice en la zona de interés.\n",
        " - range: rango de los valores alcanzado por la Banda o indice en la zona de interés.\n",
        " - count: cantidad de valores en la zona de interés (count + nodata son la cantidad total de pixeles de un dado espacio verde)\n",
        "- raster: raster del cual se extraen los estadísticos\n",
        "- clouds_on_raster: nubosidad del raster completo\n",
        "- osm_id: identificador asociado a la capa original (atlas-espacios-verdes)\n",
        "- name: nombre del espacio ( si es que lo tiene, por ejemplo, Parque Sarmiento).\n",
        "- area_m2: area en metros cuadrados\n",
        "- date: fecha de la muestra. \n",
        "\n",
        "Los estadísticos fueron calculados en base a rasters. En forma simplificada un raster es una grilla de puntos, cada uno de los cuales tiene alguna clase de identificación geográfica, que permite ubicarlos en el espacio. Además, cada una de esas grillas de puntos se corresponde a una \"banda\". Se hace referencia a banda porque esta asociada a un rango (espectral) en el cual el elemento sensor es capaz de \"ver\" o \"capturar\" datos. Cada punto de la grilla tiene un valor que se corresponde con lo medido por el instrumento específico en el satélite. \n",
        "\n",
        "Los rasters fueron obtenidos a partir de imágenes satelitales del [Proyecto Copernicus](https://www.copernicus.eu/es/sobre-copernicus/infraestructura) y uno de sus satélites Sentinel (Sentinel 2), con una resolución de entre 2 a 10 metros. Para la descarga de estas imágenes primero se definió la zona general de interés y también ciertas características o features específicas para abordar el problema de interés. En el caso del presente dataset, la zona de interés es la Ciudad de Córdoba, la cual es enteramente captada por una pisada del satelite denominada Tile 20JLL. \n",
        " "
      ],
      "metadata": {
        "id": "NXkvOjuT-Apu"
      }
    },
    {
      "cell_type": "markdown",
      "source": [
        "Dudas sobre la sección \"Presentación del dataset\": \n",
        "- No comprendo a qué se refiere con hacer algo vistoso o demostrativo en la sección \"Presentación del dataset\".\n",
        "- Si un registro tiene valores para diferentes bandas, es porque proviene de varios rasters. Si esto es así, ¿porqué hay una columna llamada \"raster\" que hace referencia a un nombre de un solo raster?"
      ],
      "metadata": {
        "id": "wXvzCKON6ASX"
      }
    },
    {
      "cell_type": "code",
      "execution_count": null,
      "metadata": {
        "id": "tyJtbTopvP9F"
      },
      "outputs": [],
      "source": [
        "# Setup necesario para correr pandas profiling\n",
        "!pip install pandas_profiling==2.8.0\n",
        "!pip install pandas==1.2.0"
      ]
    },
    {
      "cell_type": "code",
      "source": [
        "# Importación necesaria para correr pandas profiling y descargar reporte\n",
        "from pandas_profiling import ProfileReport\n",
        "from google.colab import files"
      ],
      "metadata": {
        "id": "XtlCW4j45cZH"
      },
      "execution_count": 17,
      "outputs": []
    },
    {
      "cell_type": "code",
      "source": [
        "# Descarga de base de datos\n",
        "# from link @ https://github.com/felixlapalma/monitoreo-espacios-verdes-diplo202X/blob/main/data/ab-initio-dataset-build.md\n",
        "!gdown https://drive.google.com/file/d/1tgbIQaEXzIghcFYyd2YM9iMho4TDHHFd/view?usp=sharing --fuzzy"
      ],
      "metadata": {
        "id": "yszzZ_Bf4-91"
      },
      "execution_count": null,
      "outputs": []
    },
    {
      "cell_type": "code",
      "source": [
        "import pandas as pd"
      ],
      "metadata": {
        "id": "wuAhqqsH5P9E"
      },
      "execution_count": 3,
      "outputs": []
    },
    {
      "cell_type": "code",
      "source": [
        "# Lectura de csv y obtención de dataframe \n",
        "df_=pd.read_csv('/content/espacios-verdes-indexs-cba-20170101-20220420.zip',index_col=0)"
      ],
      "metadata": {
        "id": "GH8m1qau5RCi"
      },
      "execution_count": 4,
      "outputs": []
    },
    {
      "cell_type": "code",
      "source": [
        "# Exploración del dataset. Usamos \"display\" en lugar de \"print\" porque ofrece una mejor visualización de la tabla\n",
        "display(df_.head())"
      ],
      "metadata": {
        "colab": {
          "base_uri": "https://localhost:8080/",
          "height": 404
        },
        "id": "nGf_3tUy508w",
        "outputId": "cb31ce77-0c8d-4c4d-d44b-6ebeccc484b4"
      },
      "execution_count": 6,
      "outputs": [
        {
          "output_type": "stream",
          "name": "stdout",
          "text": [
            "Dataframe HEAD\n"
          ]
        },
        {
          "output_type": "display_data",
          "data": {
            "text/plain": [
              "   B02_min  B02_max  B02_mean  B02_median  B02_nodata  B02_range  B02_count  \\\n",
              "0   0.0871   0.1421  0.102570     0.09650         0.0     0.0550         47   \n",
              "1   0.0970   0.1936  0.118354     0.10660         0.0     0.0966         13   \n",
              "2   0.0992   0.1273  0.111805     0.11290         0.0     0.0281         19   \n",
              "3   0.0995   0.1933  0.118491     0.11355         0.0     0.0938         66   \n",
              "4   0.1059   0.1385  0.122453     0.12240         0.0     0.0326         47   \n",
              "\n",
              "   B03_min  B03_max  B03_mean  ...  sipi_median  sipi_nodata  sipi_range  \\\n",
              "0   0.0768   0.1516  0.098885  ...     0.884216          0.0    0.453065   \n",
              "1   0.1006   0.1949  0.122154  ...     0.971875          0.0    0.247045   \n",
              "2   0.1037   0.1369  0.117795  ...     0.973017          0.0    0.207006   \n",
              "3   0.0993   0.1990  0.124512  ...     0.966202          0.0    0.258424   \n",
              "4   0.1036   0.1580  0.132455  ...     0.993986          0.0    0.260419   \n",
              "\n",
              "   sipi_count                                             raster  \\\n",
              "0          47  S2A_MSIL1C_20170103T142022_N0204_R010_T20JLL_2...   \n",
              "1          13  S2A_MSIL1C_20170103T142022_N0204_R010_T20JLL_2...   \n",
              "2          19  S2A_MSIL1C_20170103T142022_N0204_R010_T20JLL_2...   \n",
              "3          66  S2A_MSIL1C_20170103T142022_N0204_R010_T20JLL_2...   \n",
              "4          47  S2A_MSIL1C_20170103T142022_N0204_R010_T20JLL_2...   \n",
              "\n",
              "   clouds_on_raster     osm_id  name      area_m2        date  \n",
              "0               0.0  605976736   NaN  4650.710032  2017-01-03  \n",
              "1               0.0  559322368   NaN  1502.000513  2017-01-03  \n",
              "2               0.0  559322369   NaN  2004.192528  2017-01-03  \n",
              "3               0.0  559328111   NaN  6940.507640  2017-01-03  \n",
              "4               0.0  559328112   NaN  4587.356048  2017-01-03  \n",
              "\n",
              "[5 rows x 167 columns]"
            ],
            "text/html": [
              "\n",
              "  <div id=\"df-1580dc49-4d8f-4bc3-a4c1-82ee5b35d626\">\n",
              "    <div class=\"colab-df-container\">\n",
              "      <div>\n",
              "<style scoped>\n",
              "    .dataframe tbody tr th:only-of-type {\n",
              "        vertical-align: middle;\n",
              "    }\n",
              "\n",
              "    .dataframe tbody tr th {\n",
              "        vertical-align: top;\n",
              "    }\n",
              "\n",
              "    .dataframe thead th {\n",
              "        text-align: right;\n",
              "    }\n",
              "</style>\n",
              "<table border=\"1\" class=\"dataframe\">\n",
              "  <thead>\n",
              "    <tr style=\"text-align: right;\">\n",
              "      <th></th>\n",
              "      <th>B02_min</th>\n",
              "      <th>B02_max</th>\n",
              "      <th>B02_mean</th>\n",
              "      <th>B02_median</th>\n",
              "      <th>B02_nodata</th>\n",
              "      <th>B02_range</th>\n",
              "      <th>B02_count</th>\n",
              "      <th>B03_min</th>\n",
              "      <th>B03_max</th>\n",
              "      <th>B03_mean</th>\n",
              "      <th>...</th>\n",
              "      <th>sipi_median</th>\n",
              "      <th>sipi_nodata</th>\n",
              "      <th>sipi_range</th>\n",
              "      <th>sipi_count</th>\n",
              "      <th>raster</th>\n",
              "      <th>clouds_on_raster</th>\n",
              "      <th>osm_id</th>\n",
              "      <th>name</th>\n",
              "      <th>area_m2</th>\n",
              "      <th>date</th>\n",
              "    </tr>\n",
              "  </thead>\n",
              "  <tbody>\n",
              "    <tr>\n",
              "      <th>0</th>\n",
              "      <td>0.0871</td>\n",
              "      <td>0.1421</td>\n",
              "      <td>0.102570</td>\n",
              "      <td>0.09650</td>\n",
              "      <td>0.0</td>\n",
              "      <td>0.0550</td>\n",
              "      <td>47</td>\n",
              "      <td>0.0768</td>\n",
              "      <td>0.1516</td>\n",
              "      <td>0.098885</td>\n",
              "      <td>...</td>\n",
              "      <td>0.884216</td>\n",
              "      <td>0.0</td>\n",
              "      <td>0.453065</td>\n",
              "      <td>47</td>\n",
              "      <td>S2A_MSIL1C_20170103T142022_N0204_R010_T20JLL_2...</td>\n",
              "      <td>0.0</td>\n",
              "      <td>605976736</td>\n",
              "      <td>NaN</td>\n",
              "      <td>4650.710032</td>\n",
              "      <td>2017-01-03</td>\n",
              "    </tr>\n",
              "    <tr>\n",
              "      <th>1</th>\n",
              "      <td>0.0970</td>\n",
              "      <td>0.1936</td>\n",
              "      <td>0.118354</td>\n",
              "      <td>0.10660</td>\n",
              "      <td>0.0</td>\n",
              "      <td>0.0966</td>\n",
              "      <td>13</td>\n",
              "      <td>0.1006</td>\n",
              "      <td>0.1949</td>\n",
              "      <td>0.122154</td>\n",
              "      <td>...</td>\n",
              "      <td>0.971875</td>\n",
              "      <td>0.0</td>\n",
              "      <td>0.247045</td>\n",
              "      <td>13</td>\n",
              "      <td>S2A_MSIL1C_20170103T142022_N0204_R010_T20JLL_2...</td>\n",
              "      <td>0.0</td>\n",
              "      <td>559322368</td>\n",
              "      <td>NaN</td>\n",
              "      <td>1502.000513</td>\n",
              "      <td>2017-01-03</td>\n",
              "    </tr>\n",
              "    <tr>\n",
              "      <th>2</th>\n",
              "      <td>0.0992</td>\n",
              "      <td>0.1273</td>\n",
              "      <td>0.111805</td>\n",
              "      <td>0.11290</td>\n",
              "      <td>0.0</td>\n",
              "      <td>0.0281</td>\n",
              "      <td>19</td>\n",
              "      <td>0.1037</td>\n",
              "      <td>0.1369</td>\n",
              "      <td>0.117795</td>\n",
              "      <td>...</td>\n",
              "      <td>0.973017</td>\n",
              "      <td>0.0</td>\n",
              "      <td>0.207006</td>\n",
              "      <td>19</td>\n",
              "      <td>S2A_MSIL1C_20170103T142022_N0204_R010_T20JLL_2...</td>\n",
              "      <td>0.0</td>\n",
              "      <td>559322369</td>\n",
              "      <td>NaN</td>\n",
              "      <td>2004.192528</td>\n",
              "      <td>2017-01-03</td>\n",
              "    </tr>\n",
              "    <tr>\n",
              "      <th>3</th>\n",
              "      <td>0.0995</td>\n",
              "      <td>0.1933</td>\n",
              "      <td>0.118491</td>\n",
              "      <td>0.11355</td>\n",
              "      <td>0.0</td>\n",
              "      <td>0.0938</td>\n",
              "      <td>66</td>\n",
              "      <td>0.0993</td>\n",
              "      <td>0.1990</td>\n",
              "      <td>0.124512</td>\n",
              "      <td>...</td>\n",
              "      <td>0.966202</td>\n",
              "      <td>0.0</td>\n",
              "      <td>0.258424</td>\n",
              "      <td>66</td>\n",
              "      <td>S2A_MSIL1C_20170103T142022_N0204_R010_T20JLL_2...</td>\n",
              "      <td>0.0</td>\n",
              "      <td>559328111</td>\n",
              "      <td>NaN</td>\n",
              "      <td>6940.507640</td>\n",
              "      <td>2017-01-03</td>\n",
              "    </tr>\n",
              "    <tr>\n",
              "      <th>4</th>\n",
              "      <td>0.1059</td>\n",
              "      <td>0.1385</td>\n",
              "      <td>0.122453</td>\n",
              "      <td>0.12240</td>\n",
              "      <td>0.0</td>\n",
              "      <td>0.0326</td>\n",
              "      <td>47</td>\n",
              "      <td>0.1036</td>\n",
              "      <td>0.1580</td>\n",
              "      <td>0.132455</td>\n",
              "      <td>...</td>\n",
              "      <td>0.993986</td>\n",
              "      <td>0.0</td>\n",
              "      <td>0.260419</td>\n",
              "      <td>47</td>\n",
              "      <td>S2A_MSIL1C_20170103T142022_N0204_R010_T20JLL_2...</td>\n",
              "      <td>0.0</td>\n",
              "      <td>559328112</td>\n",
              "      <td>NaN</td>\n",
              "      <td>4587.356048</td>\n",
              "      <td>2017-01-03</td>\n",
              "    </tr>\n",
              "  </tbody>\n",
              "</table>\n",
              "<p>5 rows × 167 columns</p>\n",
              "</div>\n",
              "      <button class=\"colab-df-convert\" onclick=\"convertToInteractive('df-1580dc49-4d8f-4bc3-a4c1-82ee5b35d626')\"\n",
              "              title=\"Convert this dataframe to an interactive table.\"\n",
              "              style=\"display:none;\">\n",
              "        \n",
              "  <svg xmlns=\"http://www.w3.org/2000/svg\" height=\"24px\"viewBox=\"0 0 24 24\"\n",
              "       width=\"24px\">\n",
              "    <path d=\"M0 0h24v24H0V0z\" fill=\"none\"/>\n",
              "    <path d=\"M18.56 5.44l.94 2.06.94-2.06 2.06-.94-2.06-.94-.94-2.06-.94 2.06-2.06.94zm-11 1L8.5 8.5l.94-2.06 2.06-.94-2.06-.94L8.5 2.5l-.94 2.06-2.06.94zm10 10l.94 2.06.94-2.06 2.06-.94-2.06-.94-.94-2.06-.94 2.06-2.06.94z\"/><path d=\"M17.41 7.96l-1.37-1.37c-.4-.4-.92-.59-1.43-.59-.52 0-1.04.2-1.43.59L10.3 9.45l-7.72 7.72c-.78.78-.78 2.05 0 2.83L4 21.41c.39.39.9.59 1.41.59.51 0 1.02-.2 1.41-.59l7.78-7.78 2.81-2.81c.8-.78.8-2.07 0-2.86zM5.41 20L4 18.59l7.72-7.72 1.47 1.35L5.41 20z\"/>\n",
              "  </svg>\n",
              "      </button>\n",
              "      \n",
              "  <style>\n",
              "    .colab-df-container {\n",
              "      display:flex;\n",
              "      flex-wrap:wrap;\n",
              "      gap: 12px;\n",
              "    }\n",
              "\n",
              "    .colab-df-convert {\n",
              "      background-color: #E8F0FE;\n",
              "      border: none;\n",
              "      border-radius: 50%;\n",
              "      cursor: pointer;\n",
              "      display: none;\n",
              "      fill: #1967D2;\n",
              "      height: 32px;\n",
              "      padding: 0 0 0 0;\n",
              "      width: 32px;\n",
              "    }\n",
              "\n",
              "    .colab-df-convert:hover {\n",
              "      background-color: #E2EBFA;\n",
              "      box-shadow: 0px 1px 2px rgba(60, 64, 67, 0.3), 0px 1px 3px 1px rgba(60, 64, 67, 0.15);\n",
              "      fill: #174EA6;\n",
              "    }\n",
              "\n",
              "    [theme=dark] .colab-df-convert {\n",
              "      background-color: #3B4455;\n",
              "      fill: #D2E3FC;\n",
              "    }\n",
              "\n",
              "    [theme=dark] .colab-df-convert:hover {\n",
              "      background-color: #434B5C;\n",
              "      box-shadow: 0px 1px 3px 1px rgba(0, 0, 0, 0.15);\n",
              "      filter: drop-shadow(0px 1px 2px rgba(0, 0, 0, 0.3));\n",
              "      fill: #FFFFFF;\n",
              "    }\n",
              "  </style>\n",
              "\n",
              "      <script>\n",
              "        const buttonEl =\n",
              "          document.querySelector('#df-1580dc49-4d8f-4bc3-a4c1-82ee5b35d626 button.colab-df-convert');\n",
              "        buttonEl.style.display =\n",
              "          google.colab.kernel.accessAllowed ? 'block' : 'none';\n",
              "\n",
              "        async function convertToInteractive(key) {\n",
              "          const element = document.querySelector('#df-1580dc49-4d8f-4bc3-a4c1-82ee5b35d626');\n",
              "          const dataTable =\n",
              "            await google.colab.kernel.invokeFunction('convertToInteractive',\n",
              "                                                     [key], {});\n",
              "          if (!dataTable) return;\n",
              "\n",
              "          const docLinkHtml = 'Like what you see? Visit the ' +\n",
              "            '<a target=\"_blank\" href=https://colab.research.google.com/notebooks/data_table.ipynb>data table notebook</a>'\n",
              "            + ' to learn more about interactive tables.';\n",
              "          element.innerHTML = '';\n",
              "          dataTable['output_type'] = 'display_data';\n",
              "          await google.colab.output.renderOutput(dataTable, element);\n",
              "          const docLink = document.createElement('div');\n",
              "          docLink.innerHTML = docLinkHtml;\n",
              "          element.appendChild(docLink);\n",
              "        }\n",
              "      </script>\n",
              "    </div>\n",
              "  </div>\n",
              "  "
            ]
          },
          "metadata": {}
        }
      ]
    },
    {
      "cell_type": "code",
      "source": [
        "df_.info()"
      ],
      "metadata": {
        "colab": {
          "base_uri": "https://localhost:8080/"
        },
        "id": "wXB0pbaP85tl",
        "outputId": "b255b377-a07d-4e3c-adab-c000b5abca9e"
      },
      "execution_count": 20,
      "outputs": [
        {
          "output_type": "stream",
          "name": "stdout",
          "text": [
            "<class 'pandas.core.frame.DataFrame'>\n",
            "Int64Index: 208932 entries, 0 to 208931\n",
            "Columns: 167 entries, B02_min to date\n",
            "dtypes: float64(140), int64(24), object(3)\n",
            "memory usage: 267.8+ MB\n"
          ]
        }
      ]
    },
    {
      "cell_type": "code",
      "source": [
        "# Imprimimos todas las variables para verificar sus nombres\n",
        "print(df_.columns.tolist())"
      ],
      "metadata": {
        "colab": {
          "base_uri": "https://localhost:8080/"
        },
        "id": "2yIc3lIrq4PD",
        "outputId": "7e932834-915f-449b-a15e-c81ffbbad19f"
      },
      "execution_count": 10,
      "outputs": [
        {
          "output_type": "stream",
          "name": "stdout",
          "text": [
            "['B02_min', 'B02_max', 'B02_mean', 'B02_median', 'B02_nodata', 'B02_range', 'B02_count', 'B03_min', 'B03_max', 'B03_mean', 'B03_median', 'B03_nodata', 'B03_range', 'B03_count', 'B04_min', 'B04_max', 'B04_mean', 'B04_median', 'B04_nodata', 'B04_range', 'B04_count', 'B05_min', 'B05_max', 'B05_mean', 'B05_median', 'B05_nodata', 'B05_range', 'B05_count', 'B06_min', 'B06_max', 'B06_mean', 'B06_median', 'B06_nodata', 'B06_range', 'B06_count', 'B07_min', 'B07_max', 'B07_mean', 'B07_median', 'B07_nodata', 'B07_range', 'B07_count', 'B8A_min', 'B8A_max', 'B8A_mean', 'B8A_median', 'B8A_nodata', 'B8A_range', 'B8A_count', 'B08_min', 'B08_max', 'B08_mean', 'B08_median', 'B08_nodata', 'B08_range', 'B08_count', 'B11_min', 'B11_max', 'B11_mean', 'B11_median', 'B11_nodata', 'B11_range', 'B11_count', 'B12_min', 'B12_max', 'B12_mean', 'B12_median', 'B12_nodata', 'B12_range', 'B12_count', 'ndvi_min', 'ndvi_max', 'ndvi_mean', 'ndvi_median', 'ndvi_nodata', 'ndvi_range', 'ndvi_count', 'ndwi_min', 'ndwi_max', 'ndwi_mean', 'ndwi_median', 'ndwi_nodata', 'ndwi_range', 'ndwi_count', 'pvr_min', 'pvr_max', 'pvr_mean', 'pvr_median', 'pvr_nodata', 'pvr_range', 'pvr_count', 'ndii_min', 'ndii_max', 'ndii_mean', 'ndii_median', 'ndii_nodata', 'ndii_range', 'ndii_count', 'mNDVI_min', 'mNDVI_max', 'mNDVI_mean', 'mNDVI_median', 'mNDVI_nodata', 'mNDVI_range', 'mNDVI_count', 'VARIGreen_min', 'VARIGreen_max', 'VARIGreen_mean', 'VARIGreen_median', 'VARIGreen_nodata', 'VARIGreen_range', 'VARIGreen_count', 'epichlb_min', 'epichlb_max', 'epichlb_mean', 'epichlb_median', 'epichlb_nodata', 'epichlb_range', 'epichlb_count', 'gari_min', 'gari_max', 'gari_mean', 'gari_median', 'gari_nodata', 'gari_range', 'gari_count', 'reip_min', 'reip_max', 'reip_mean', 'reip_median', 'reip_nodata', 'reip_range', 'reip_count', 'osavi_min', 'osavi_max', 'osavi_mean', 'osavi_median', 'osavi_nodata', 'osavi_range', 'osavi_count', 'tcari_min', 'tcari_max', 'tcari_mean', 'tcari_median', 'tcari_nodata', 'tcari_range', 'tcari_count', 'tcariOsavi_min', 'tcariOsavi_max', 'tcariOsavi_mean', 'tcariOsavi_median', 'tcariOsavi_nodata', 'tcariOsavi_range', 'tcariOsavi_count', 'sipi_min', 'sipi_max', 'sipi_mean', 'sipi_median', 'sipi_nodata', 'sipi_range', 'sipi_count', 'raster', 'clouds_on_raster', 'osm_id', 'name', 'area_m2', 'date']\n"
          ]
        }
      ]
    },
    {
      "cell_type": "markdown",
      "source": [
        "## Análisis Estadístico de Variables\n",
        "\n",
        "Para este práctico, seleccionamos las siguientes variables: \n",
        "\n",
        "- osm_id: Este es un identificador asociado a la capa original (atlas-espacios-verdes).\n",
        "- date: Fecha de la muestra.\n",
        "- B02_median: Mediana alcanzada por la Banda 02. \n",
        "- ndvi_max: Valor máximo alcanzado por el indice NDVI."
      ],
      "metadata": {
        "id": "IEU7k5DU-Ht7"
      }
    },
    {
      "cell_type": "markdown",
      "source": [
        "**Variables**: ¿Qué _tipo de variable_ es cada una? Parecen estar acotadas? ¿Son fisicamente razonables?"
      ],
      "metadata": {
        "id": "p247gjOHAPwF"
      }
    },
    {
      "cell_type": "code",
      "source": [
        "df_[[\"B02_median\", \"osm_id\", \"date\", \"ndvi_max\"]].dtypes"
      ],
      "metadata": {
        "colab": {
          "base_uri": "https://localhost:8080/"
        },
        "id": "nyDXVeSG2Md2",
        "outputId": "0fdc258f-f253-443a-f67c-ebb08939505a"
      },
      "execution_count": 24,
      "outputs": [
        {
          "output_type": "execute_result",
          "data": {
            "text/plain": [
              "B02_median    float64\n",
              "osm_id          int64\n",
              "date           object\n",
              "ndvi_max      float64\n",
              "dtype: object"
            ]
          },
          "metadata": {},
          "execution_count": 24
        }
      ]
    },
    {
      "cell_type": "markdown",
      "source": [
        "- osm_id: Variable numérica discreta con tipo de dato int64.\n",
        "- date: Variable de fecha con tipo de dato object, acotadas a un período de tiempo entre el año 2017 a 2022.\n",
        "- B02_median: Variable numérica continua con tipo de dato float64.   \n",
        "- ndvi_max: Variable numérica continua con tipo de dato float64."
      ],
      "metadata": {
        "id": "slulsGguADNx"
      }
    },
    {
      "cell_type": "markdown",
      "source": [
        "**Outliers**: ¿Existen _outliers_ en las variables seleccionadas? (Note que en la presentación de los datos, esto parece estar presente en casi todos los casos)\n",
        "\n",
        "- osm_id: \n",
        "- date: \n",
        "- B02_median:   \n",
        "- ndvi_max: "
      ],
      "metadata": {
        "id": "ZZn7edn3Aha9"
      }
    },
    {
      "cell_type": "markdown",
      "source": [
        "**Valores Faltantes**: ¿Existen? ¿Es mejor descartarlos o completarlos con un valor particular? (Quizas le sirva responder la siguiente pregunta en primer lugar)"
      ],
      "metadata": {
        "id": "Tm8bqIT5AopY"
      }
    },
    {
      "cell_type": "code",
      "source": [
        "# Análisis estadístico de bandas mediante pandas profiling\n",
        "BANDS = [\"B02\", \"B03\", \"B04\", \"B05\", \"B06\", \"B07\", \"B8A\", \"B08\", \"B11\", \"B12\"]\n",
        "TEST_COLS=[f\"{B}_median\" for B in BANDS]\n",
        "df_bandas=df_.loc[:,TEST_COLS]\n",
        "profileBandas = ProfileReport(df_bandas)\n",
        "profileBandas.to_file('df_BandasReport.html')\n",
        "files.download('df_BandasReport.html')"
      ],
      "metadata": {
        "id": "vvMu7hbUwBiD"
      },
      "execution_count": null,
      "outputs": []
    },
    {
      "cell_type": "code",
      "source": [
        "# Análisis de las variables seleccionadas mediante pandas profiling\n",
        "df_Vars=df_.loc[:,[\"B02_median\", \"osm_id\", \"date\", \"ndvi_max\"]]\n",
        "profileVars = ProfileReport(df_Vars)\n",
        "profileVars.to_file('df_VarsReport.html')\n",
        "files.download('df_VarsReport.html')"
      ],
      "metadata": {
        "id": "XCcZxuP6-sVZ"
      },
      "execution_count": null,
      "outputs": []
    },
    {
      "cell_type": "markdown",
      "source": [
        "- osm_id: No tiene valores faltantes.\n",
        "- date: No tiene valores faltantes.\n",
        "- B02_median: Tiene casi un 20% de valores faltantes. Sin embargo, es algo propio de todas las bandas presentes en el dataset   \n",
        "- ndvi_max: Tiene casi un 20% de valores faltantes."
      ],
      "metadata": {
        "id": "gjgMnO6TA0co"
      }
    },
    {
      "cell_type": "markdown",
      "source": [
        "**Distribucion de Valores**: ¿Cómo es la _distribución_ de las variables en el dataset? ¿Se parecen a alguna distribucion que recuerde? Son todas de la misma distribución?"
      ],
      "metadata": {
        "id": "lCMqE_oCBP0C"
      }
    },
    {
      "cell_type": "code",
      "source": [
        "import seaborn as sns\n",
        "import matplotlib.pyplot as plt"
      ],
      "metadata": {
        "id": "5sedZ4sK6Rhm"
      },
      "execution_count": 45,
      "outputs": []
    },
    {
      "cell_type": "code",
      "source": [
        "# Gráfica de la distribución de la variable date\n",
        "pd.to_datetime(df_['date'])\n",
        "sns.displot(df_['date'])"
      ],
      "metadata": {
        "colab": {
          "base_uri": "https://localhost:8080/",
          "height": 386
        },
        "id": "nTlDnju-9s-U",
        "outputId": "9b1de503-5171-450e-cf29-e3c8c55a480e"
      },
      "execution_count": 44,
      "outputs": [
        {
          "output_type": "execute_result",
          "data": {
            "text/plain": [
              "<seaborn.axisgrid.FacetGrid at 0x7f90f8867350>"
            ]
          },
          "metadata": {},
          "execution_count": 44
        },
        {
          "output_type": "display_data",
          "data": {
            "text/plain": [
              "<Figure size 360x360 with 1 Axes>"
            ],
            "image/png": "[encoded data removed]"
          },
          "metadata": {}
        }
      ]
    },
    {
      "cell_type": "code",
      "source": [
        "# Gráfica de la distribución de la variable B02_median\n",
        "sns.kdeplot(df_['B02_median'])"
      ],
      "metadata": {
        "colab": {
          "base_uri": "https://localhost:8080/",
          "height": 382
        },
        "id": "377tVd_-7boT",
        "outputId": "73c0e3ae-ae73-4ce6-adfb-ddd77f1b14e6"
      },
      "execution_count": 40,
      "outputs": [
        {
          "output_type": "execute_result",
          "data": {
            "text/plain": [
              "<matplotlib.axes._subplots.AxesSubplot at 0x7f90f8e4d6d0>"
            ]
          },
          "metadata": {},
          "execution_count": 40
        },
        {
          "output_type": "display_data",
          "data": {
            "text/plain": [
              "<Figure size 576x396 with 1 Axes>"
            ],
            "image/png": "[encoded data removed]"
          },
          "metadata": {}
        }
      ]
    },
    {
      "cell_type": "code",
      "source": [
        "# Gráfica de la distribución de la variable ndvi_max\n",
        "sns.kdeplot(df_['ndvi_max'])"
      ],
      "metadata": {
        "colab": {
          "base_uri": "https://localhost:8080/",
          "height": 382
        },
        "id": "-f7-4Crn897O",
        "outputId": "8c4f3f19-a03c-4bd3-bddb-d6a9b7ef49aa"
      },
      "execution_count": 42,
      "outputs": [
        {
          "output_type": "execute_result",
          "data": {
            "text/plain": [
              "<matplotlib.axes._subplots.AxesSubplot at 0x7f90f8d95350>"
            ]
          },
          "metadata": {},
          "execution_count": 42
        },
        {
          "output_type": "display_data",
          "data": {
            "text/plain": [
              "<Figure size 576x396 with 1 Axes>"
            ],
            "image/png": "[encoded data removed]"
          },
          "metadata": {}
        }
      ]
    },
    {
      "cell_type": "markdown",
      "source": [
        "- osm_id: Esta es una variable identificadora por lo que su distribución no tiene interés.\n",
        "- date: Se cuenta con la misma cantidad de casos para todos los valores (fechas) por que es una distribución equiprobable. Ver gráfica de distribución más abajo.\n",
        "- B02_median: La distribución parece ser de tipo normal con valores extremos a la derecha.  \n",
        "- ndvi_max: La distribución parece ser de tipo normal."
      ],
      "metadata": {
        "id": "xPOjfx7EB6TG"
      }
    },
    {
      "cell_type": "markdown",
      "source": [
        "**Distribucion Condicionada**: ¿Cómo es la distribución de una variable (cualquiera que haya elegido) condicionada a la variable temporal por ejemplo? ¿Tiene sentido utilizar la dependencia temporal cuando estamos intentando completar valores faltantes?\n",
        "\n",
        "- osm_id: \n",
        "- date: \n",
        "- B02_median:   \n",
        "- ndvi_max: \n",
        "\n",
        "\n",
        "En caso de calcular estadísticos, explicar por qué lo hicieron y que buscaban obtener al calcularlos. Utilizar los gráficos apropiados para mostrar el análisis realizado.  \n",
        "Además:\n",
        "\n",
        "\n",
        "-  ¿Existe _correlacion_ entre variables? ¿Entre cuales es mas \"intensa\"? -> Considere utilizar  [__pandas-profiling__](https://github.com/ydataai/pandas-profiling)\n",
        "-  Analizar la dispersión de las bandas (para un estadistico, por ejemplo la media) a lo largo del tiempo. ¿La dispersión es la misma en todos los casos? ¿O existen bandas que \"se dispersan\" mas?\n",
        "\n",
        "Utilizar gráficos que permitan visualizar de un modo simple las conclusiones."
      ],
      "metadata": {
        "id": "-YtShmZbAcPO"
      }
    },
    {
      "cell_type": "markdown",
      "source": [
        "##Series temporales\n",
        "Como las observaciones se encuentran indexadas en el tiempo, este tipo de datos se conocen como **series de tiempo**. Elija alguno de los espacios verdes mas conocidos (Parque Sarmiento por ejemplo) y responda: \n",
        "\n",
        "- ¿Cual es el período de tiempo bajo análisis?\n",
        "- Elija una banda y un indice (B02 y NDVI, por ejemplo) ambos parecen seguir alguna estacionalidad? Es decir, sus valores parecen \"repetirse\" cada cierto periodo? (Para este analisis considere utilizar la mediana de todas las mediciones {}_median).\n",
        "- Ahora extienda el analisis a todas las variables, son estacionales? Todas tienen el mismo tipo de estacionalidad? __Nota__: En este punto y etapa no se espera un criterio estricto de estacionalidad sino mostrar que bajo algun criterio (por ejemplo boxplots \"similares\" por temporada, etc) parecen serlo.\n",
        "- Seleccione un índice y grafique un boxplot para cada año. ¿Se mantiene inalterada en el tiempo la distribución? Que pasa si ese boxplot lo separa por estación (invierno,verano,otoño, primavera) y año son parecidas entre ellas en algun caso? Como se comportan año a año?\n",
        "- Tiene sentido calcular outliers para todo el tiempo de la serie o deberia segmentarse? Es decir, un outlier en otoño es lo mismo que en primavera o verano?\n",
        "- Sobre datos faltantes, existe algun intervalo temporal en el cual esto parezca ser mas recurrente (observe [ab-initio-data-build](../data/ab-initio-dataset-build.md) # Imagenes CBA) ? \n",
        "\n",
        "    __Punto Extra__: replique la imágen _cantidad de imágenes por fecha y nubosidad_, se le ocurre alguna forma alternativa de representarlo?\n",
        "- Sobre los outliers, elija alguna banda o indice y compute los outliers (bajo algun criterio que le parezca razonable), ahora contraste los mismos (o el rango de los mismos) con la representacion de los rasters ( descargables desde: [parches rbg/cloud-mask](https://drive.google.com/file/d/1VJnFvc9waDWPzm0i6UitKwlOSaQVwn_j/view?usp=sharing) ), su eleccion de outliers parece sostenerse? O esta desechando datos que podrian servir?\n",
        "- __Punto Extra__: Explique el indice NDVI, y su aplicabilidad para observar la evolución de cultivos. ¿Esto nos serviria para monitorear plazas y parques?\n",
        "- __Punto Extra__: Se le ocurre alguna forma de normalizar los datos para hacernos independientes de los años (pero si mantener la estacionalidad)? \n",
        "- __Punto Extra__: El tipo de sensor que estamos considerando esta afectado fuertemente por las condiciones luminicas, puede encontrar algún par de {imagenes, indices} que parezcan representar esta situación? Para ello deberia seleccionar imagenes cercanas temporalmente (misma semana o mes, sin nubes) y obtener sus indices. Podria concluir algo a partir de eso? O le hacen falta mas datos? (Respuesta preliminar: la informacion brindada parece ser insuficiente) \n",
        "- ¿Dado un indice, es capaz de encontrar algun rango temporal en el cual parezca romperse la estacionalidad? (Esto lo podria intentar contrastar con las imagenes en rgb para ello le recomendamos que elija un espacio verde extenso)\n",
        "- Le parece que existen espacios verdes que no sean susceptibles de ser monitoreados via las bandas o indices? \n",
        "\n",
        "    __Punto Extra__: Podria generar condiciones o criterios (tamaño, reflectancia en alguna banda, etc) que nos indiquen si un dado espacio es monitoreable ( o no) via imágenes satelitales?"
      ],
      "metadata": {
        "id": "SzqQW0B0-Ms4"
      }
    },
    {
      "cell_type": "markdown",
      "source": [
        "##Conclusiones\n",
        "Se considerará como positivo la capacidad de generar conclusiones o analisis que permitan construir nuevo conocimiento en base a los datos provistos.\n",
        "Respecto a las conclusiones, se espera que a partir de los puntos [3] y [4] hayan podido conocer el dataset y tener una idea (linea de acción) para mitigar o atacar temas tales como:\n",
        "- Outliers?\n",
        "- Faltantes de datos?\n",
        "- Todas las variables son relevantes?\n",
        "- etc\n",
        "\n",
        "No hay límites respecto a la extensión, pero se valorará el poder de síntesis y de comunicación, así como el uso de las herramientas pertinentes.."
      ],
      "metadata": {
        "id": "_b9Vmgxi-R3l"
      }
    },
    {
      "cell_type": "code",
      "source": [
        ""
      ],
      "metadata": {
        "id": "SJ_qnKAEk45_"
      },
      "execution_count": null,
      "outputs": []
    }
  ]
}