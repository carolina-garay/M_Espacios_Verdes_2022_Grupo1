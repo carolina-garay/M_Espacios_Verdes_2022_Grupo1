{
  "cells": [
    {
      "cell_type": "markdown",
      "metadata": {
        "id": "view-in-github",
        "colab_type": "text"
      },
      "source": [
        "<a href=\"https://colab.research.google.com/github/carolina-garay/M_Espacios_Verdes_2022_Grupo1/blob/TP3_ApSupervisado_Garay/P3_ApSupervisado_MEV_TP_Garay_v2.ipynb\" target=\"_parent\"><img src=\"https://colab.research.google.com/assets/colab-badge.svg\" alt=\"Open In Colab\"/></a>"
      ]
    },
    {
      "cell_type": "markdown",
      "id": "5ae369d0-fb59-4e77-a928-a6417de1a666",
      "metadata": {
        "id": "5ae369d0-fb59-4e77-a928-a6417de1a666"
      },
      "source": [
        "# Mentoria: Monitoreo de Espacios Verdes\n",
        "\n",
        "__DIPLODATOS 2022 - FAMAF UNC__\n",
        "\n",
        "_Felix Rojo Lapalma_\n",
        "\n",
        "## **Aprendizaje Supervisado**\n",
        "\n",
        "**_GRUPO1_**\n",
        "\n",
        "Alumnos\n",
        "\n",
        "- Artola, María Fernanda\n",
        "- Garay, Carolina\n",
        "- Ormaechea, Sebastián\n",
        "\n",
        "\n",
        "\n",
        "En esta etapa ya hemos avanzado en\n",
        "\n",
        "- [TP-Analisis-Visualizacion](https://github.com/felixlapalma/monitoreo-espacios-verdes-diplo202X/blob/main/notebooks-tp/Analisis-y-Visualizacion-MEV-TP.ipynb):\n",
        "\n",
        "  - análisis y exploración del conjunto de datos (aunque sea superficialmente)\n",
        "  - set representativo: Es decir, aprendimos que podemos llegar a trabajar con un set mas reducido (de las caracteristicas - columnas del dataframe) e igualmente vamos a estar representando gran parte del conjunto.\n",
        "  - inputacion de valores:   \n",
        "    - tenemos formas de inputar valores en rangos temporales que no tenemos (para una cierta zona) utilizando otros rangos temporales (aqui aprovechamos fuertemente la estacionalidad de lo que estamos monitoreando)\n",
        "    - que un outlier en un rango temporal puede ser un valor nominal en otro rango temporal.\n",
        "  - etc\n",
        "\n",
        "- [TP-Exploracion-y-Curación](https://drive.google.com/file/d/1-E0ijX7LTRczoAwYG7eAyfDb5PElyEfi/view?usp=sharing):\n",
        "\n",
        " - \"Curación\" de nuestro dataset con diferentes recetas. Por curar nos referimos a generar los procesos necesarios (trazables y reproducibles) que nos lleven del conjunto original de datos (que debe permanecer inmutable) hasta un conjunto que pueda ser consumido por distintos algorimos de aprendizaje. Entre ellos:\n",
        "    - filtrado\n",
        "    - imputacion de valores\n",
        "    - etc\n",
        "\n",
        "Es decir en esta instancia ya contamos con las recetas o procesos que nos permiten, partiendo del set de datos crudos pasar a un dataset listo para ser consumidos por los modelos de aprendizaje supervisado que seleccionemos.\n",
        " \n",
        "### Fuentes\n",
        "\n",
        "El presente trabajo práctico está inspirado en los correspondientes de:\n",
        "\n",
        "- [jbergamasco2019](https://github.com/jbergamasco/DiploDatos2019)\n",
        "\n",
        "- [TP-Analisis-Visualizacion](https://github.com/felixlapalma/monitoreo-espacios-verdes-diplo202X/blob/main/notebooks-tp/Analisis-y-Visualizacion-MEV-TP.ipynb)\n",
        "\n",
        "- [TP-Exploracion-y-Curación](https://drive.google.com/file/d/1-E0ijX7LTRczoAwYG7eAyfDb5PElyEfi/view?usp=sharing)\n",
        "\n",
        "## Sobre el Trabajo Requerido\n",
        "\n",
        "En este trabajo proponemos  explorar y aplicar lo aprendido en el curso (Aprendizaje Supervisado) integrandolo con lo desarrollado en los prácticos de Análisis y visualización y el correspondiente a Exploración y Curación de datos.\n",
        "\n",
        "### Conceptual\n",
        "\n",
        "Algunas de las preguntas que deberemos responder (avanzando en el TP):\n",
        "\n",
        "- ¿Cual seria el problema que pretendemos resolver utilizando Aprendizaje Supervisado? ¿Es un problema de clasificación o de regresion? Que distingue a uno de otro?\n",
        "\n",
        "- ¿Es suficiente un solo modelo? ¿Que tan importante es la parte temporal? ¿Necesitamos que sea estacional?\n",
        "\n",
        "- ¿Es necesario utilizar todas las bandas del raster o con ciertos indices es suficiente? (Esto ya lo respondio parcialmente en las TPs anteriores)\n",
        "\n",
        "- ¿Podríamos utilizar los modelos para detectar alguna clase de anomalía en el comportamiento de una dada región? ¿Como? \n",
        "\n",
        "- ¿Piensa que podriamos utilizar el enfoque actual (OBIA- Object-based Image Analysis) para clasificar a nivel de pixel? ¿Que deberiamos suponer o asumir para que esto sea valido?*\n",
        "\n",
        "*_Comentario_: _Si bien no lo mencionamos en forma explicita la forma de seleccionar y computar las diferentes propiedades en los rasters para la creacion del dataset implico el acceso a nivel de objetos o zonas. No se realizo un analisis de pixel sino a nivel de un \"conjunto\" de pixeles._\n",
        "\n",
        "### Hands-on\n",
        "\n",
        "A nivel de implementacion vamos a requerir la aplicación de diferentes modelos sobre el conjunto de datos (al menos 2 de ellos):\n",
        "\n",
        "- [ExtraTreeClassifier](https://scikit-learn.org/stable/modules/generated/sklearn.tree.ExtraTreeClassifier.html#sklearn.tree.ExtraTreeClassifier)\n",
        "- [RandomForestClassifier](https://scikit-learn.org/stable/modules/generated/sklearn.ensemble.RandomForestClassifier.html?highlight=random%20forest#sklearn.ensemble.RandomForestClassifier)\n",
        "- [XGBoost](https://xgboost.readthedocs.io/en/stable/)\n",
        "\n",
        "#### Pasos\n",
        "\n",
        "1. Descarga del Set de Datos$^1$\n",
        "2. Curacion (Recetas TP Exploración y Curación)\n",
        "3. Generacion de Features Extras$^2$\n",
        "4. Split Dataset\n",
        "5. Entrenamiento del Modelo\n",
        "  - [a] Grid Search\n",
        "  - [b] tunning de Hiperparametros\n",
        "6. Presentacion de Resultados y Metricas\n",
        "\n",
        "\n",
        "### Que Presentar?\n",
        "\n",
        "Set de Notebooks en los cuales se apliquen 2 modelos al menos de los mencionados junto al menos 3 de las recetas generadas en el TP de Exploracion y Curación. Para ello puede seguir los pasos del step anterior. \n",
        "En el curso del TP debemos poder responder (adicionalmente):\n",
        "- ¿Que receta parece otorgar el mejor ratio de costo/beneficio? Respecto a este punto considere que muchas veces el mayor \"accuracy\" (por solo nombrar una metrica) no significa el mayor beneficio. Esto se puede entender si consideramos que un modelo no se reduce solo a su inferencia, sino a todos lo pasos que nos permiten llevarla adelante.\n",
        "- Respecto a los modelos, para los `Trees` es necesario normalizar los datos? y para `XGB`?\n",
        "- Intuitivamente uno pensaria que los clasificadores deberian andar mejor en los espacios mas grandes (o de mayor area). Tiene alguna forma de corroborar o refutar esta idea?\n",
        "\n",
        "- Si el modelo fuera utilizado para identificar anómalias en espacios verdes,sobre que preferiria tener mayor efectividad? (el conocido dilema ¿Precision o Recall?) Es decir que proporcion de los espacios verdes identificados como sanos estaban sanos? (Precision) o que proporcion de los espacios verdes actualmente sanos, fueron identificados como tales? (Recall)\n",
        "Como ayuda piense las implicancias (mas allá del espacio verde en si) de marcar siempre en falta algun sitio (logistica, transporte, etc).\n",
        "\n",
        "\n",
        "$^1$ Para esta etapa hemos adicionado al set de datos originales un set de [espacios \"no-verdes\"](https://github.com/felixlapalma/monitoreo-espacios-verdes-diplo202X/blob/main/data/ab-initio-dataset-build.md#espacios-no-verdes-o-indefinidos). Esto con el fin de tener un esquema claro de separacion \"verde/No-verde\" para ayudarlo en el entrenamiento de su sistema. \n",
        "Para poder utilizarlo le recomendamos que lo procese en forma similar al dataset original (puede utilizar las mismas recetas). Una vez procesado cada uno por su cuenta y con los label correspondientes, puede unificar los datasets en uno único. Puede consultar [estructura-datos](https://github.com/felixlapalma/monitoreo-espacios-verdes-diplo202X/blob/main/data/estructura-datos.md) para ver las diferencias (minimas) entre los datasets.\n",
        "\n",
        "$^2$ Respecto al paso 3, mencionamos que puede ser necesario la generacion adicional de algun feature extra a posteriori de la receta (esto podria incorporarse en la receta si se considera beneficioso). Recuerde que los procesos de Ciencia de Datos son altamente no lineales y de iteracion continua (al menos en su fase inicial). Particualarmente la generacion de features relacionados a fechas, meses, estaciones, DOY (day of year) o WOY (weak of year) pueden resultarle util para responder algunas de las preguntas conceptuales.\n",
        "\n",
        "__EXTRA__: Set de pasos descriptivos que seguiria para poder implementar/responder la ultima de las preguntas conceptuales (OBIA vs PBIA- pixel based image analysis).\n",
        "\n",
        "__EXTRA$^2$__: Implementación en codigo de __EXTRA__ \n",
        "\n",
        "\n",
        "Cada una de las notebooks tiene que tener la secuencia propuesta (o variaciones debidamente justificadas). Con las metricas utilizadas, matrices de confusion, etc. Se valorará analisis de tradeoff (o costo beneficio) entre los modelos y las recetas utilizadas.\n"
      ]
    },
    {
      "cell_type": "markdown",
      "source": [
        "###Apunte\n",
        "\n",
        "La idea del practico, es un end2end (o una iteracion completa)  de los pasos que solemos realizar cuando enfrentamos un  problema de datos (lista bastante simplificada):\n",
        "-recepcion de los datos\n",
        "\n",
        "-curacion de los mismos\n",
        "\n",
        "-seleccion de modelos entrenamiento\n",
        "\n",
        "-analisis de resultados\n",
        "\n",
        "En ese aspecto, la adición de los espacios no verdes tiene la idea de sumarle una instancia de clase mas al problema y poder \"estresar\" un poco los modelos (y en el mismo camino tambien ayudarlos)\n",
        "\n",
        "**Lo que nos gustaría poder predecir en una primera instancia simplificada es si podemos dada las características de un espacio (los features que uds calcularon o definieron) identificarlo o no como un espacio verde**\n",
        "\n",
        "A posteriori podemos intentar usar ese enfoque para ver la degradacion de un espacio"
      ],
      "metadata": {
        "id": "LZFTLapzdj7r"
      },
      "id": "LZFTLapzdj7r"
    },
    {
      "cell_type": "code",
      "execution_count": 1,
      "id": "0a543c19-bc55-4bc3-a241-2a2395cae3cf",
      "metadata": {
        "colab": {
          "base_uri": "https://localhost:8080/"
        },
        "id": "0a543c19-bc55-4bc3-a241-2a2395cae3cf",
        "outputId": "c30c4363-9fbf-4d2b-d043-c728f932d9a8"
      },
      "outputs": [
        {
          "output_type": "stream",
          "name": "stdout",
          "text": [
            "Running on CoLab\n",
            "Downloading...\n",
            "From: https://drive.google.com/uc?id=1tgbIQaEXzIghcFYyd2YM9iMho4TDHHFd\n",
            "To: /content/espacios-verdes-indexs-cba-20170101-20220420.zip\n",
            "100% 170M/170M [00:00<00:00, 182MB/s]\n",
            "Downloading...\n",
            "From: https://drive.google.com/uc?id=1mfir4DZxT3g9tQkPJzCAZYy2VS2VHp7O\n",
            "To: /content/espacios-NO-verdes-indexs-cba-20170101-20220420.zip\n",
            "100% 78.7M/78.7M [00:00<00:00, 218MB/s]\n"
          ]
        }
      ],
      "source": [
        "import pandas as pd\n",
        "if 'google.colab' in str(get_ipython()):\n",
        "    print('Running on CoLab')\n",
        "    # running on colab\n",
        "    # from link @ https://github.com/felixlapalma/monitoreo-espacios-verdes-diplo202X/blob/main/data/ab-initio-dataset-build.md\n",
        "    !gdown https://drive.google.com/file/d/1tgbIQaEXzIghcFYyd2YM9iMho4TDHHFd/view?usp=sharing --fuzzy\n",
        "    !gdown https://drive.google.com/file/d/1mfir4DZxT3g9tQkPJzCAZYy2VS2VHp7O/view?usp=sharing --fuzzy\n",
        "    # Notar el cambio del path y el tipo de archivo (no lo descomprimimos)\n",
        "    df_verde=pd.read_csv('/content/espacios-verdes-indexs-cba-20170101-20220420.zip',index_col=0)\n",
        "    df_no_verde=pd.read_csv('/content/espacios-NO-verdes-indexs-cba-20170101-20220420.zip',index_col=0)\n",
        "else:\n",
        "    # recuerde descargar el dataset desde los links mencionados en el README\n",
        "    df_verde=pd.read_csv('../data/cba/espacios-verdes-indexs-cba-20170101-20220420.csv',index_col=0)\n",
        "    df_no_verde=pd.read_csv('/data/cba/espacios-NO-verdes-indexs-cba-20170101-20220420.csv',index_col=0)"
      ]
    },
    {
      "cell_type": "code",
      "source": [
        "# Carga de librerías necesarias\n",
        "!pip install ipython-autotime\n",
        "%load_ext autotime\n",
        "import os\n",
        "import pandas as pd\n",
        "import numpy as np\n",
        "import matplotlib.pyplot as plt\n",
        "import seaborn as sns\n",
        "import missingno as msno\n",
        "from sklearn.experimental import enable_iterative_imputer\n",
        "from sklearn.neighbors import KNeighborsRegressor\n",
        "from sklearn.impute import IterativeImputer\n",
        "\n",
        "\n",
        "from sklearn.preprocessing import StandardScaler, LabelEncoder\n",
        "from sklearn.impute import SimpleImputer\n",
        "from sklearn.model_selection import train_test_split, GridSearchCV, StratifiedKFold\n",
        "from sklearn.model_selection import RepeatedStratifiedKFold\n",
        "from sklearn.metrics import accuracy_score, ConfusionMatrixDisplay, classification_report\n",
        "from sklearn.feature_selection import SelectKBest\n",
        "from sklearn.feature_selection import f_classif\n",
        "from scipy.stats import randint as sp_randint\n",
        "from sklearn.model_selection import RandomizedSearchCV\n",
        "\n",
        "from sklearn.tree import DecisionTreeClassifier\n",
        "from sklearn.linear_model import SGDClassifier\n",
        "from sklearn.linear_model import RidgeClassifier\n",
        "from sklearn.neighbors import KNeighborsClassifier\n",
        "from sklearn.svm import SVC\n",
        "from sklearn.ensemble import BaggingClassifier\n",
        "from sklearn.ensemble import RandomForestClassifier\n",
        "from sklearn.linear_model import LogisticRegression\n",
        "import lightgbm as lgb\n",
        "from sklearn.metrics import confusion_matrix\n",
        "from sklearn.ensemble import ExtraTreesClassifier as ETC"
      ],
      "metadata": {
        "id": "x3lEvtLMc8Tp",
        "colab": {
          "base_uri": "https://localhost:8080/"
        },
        "outputId": "0bb1f2e6-a2c4-4162-bbfe-2d8048606a8c"
      },
      "id": "x3lEvtLMc8Tp",
      "execution_count": 22,
      "outputs": [
        {
          "output_type": "stream",
          "name": "stdout",
          "text": [
            "Looking in indexes: https://pypi.org/simple, https://us-python.pkg.dev/colab-wheels/public/simple/\n",
            "Requirement already satisfied: ipython-autotime in /usr/local/lib/python3.7/dist-packages (0.3.1)\n",
            "Requirement already satisfied: ipython in /usr/local/lib/python3.7/dist-packages (from ipython-autotime) (7.9.0)\n",
            "Requirement already satisfied: jedi>=0.10 in /usr/local/lib/python3.7/dist-packages (from ipython->ipython-autotime) (0.18.1)\n",
            "Requirement already satisfied: pygments in /usr/local/lib/python3.7/dist-packages (from ipython->ipython-autotime) (2.6.1)\n",
            "Requirement already satisfied: backcall in /usr/local/lib/python3.7/dist-packages (from ipython->ipython-autotime) (0.2.0)\n",
            "Requirement already satisfied: setuptools>=18.5 in /usr/local/lib/python3.7/dist-packages (from ipython->ipython-autotime) (57.4.0)\n",
            "Requirement already satisfied: traitlets>=4.2 in /usr/local/lib/python3.7/dist-packages (from ipython->ipython-autotime) (5.1.1)\n",
            "Requirement already satisfied: pexpect in /usr/local/lib/python3.7/dist-packages (from ipython->ipython-autotime) (4.8.0)\n",
            "Requirement already satisfied: prompt-toolkit<2.1.0,>=2.0.0 in /usr/local/lib/python3.7/dist-packages (from ipython->ipython-autotime) (2.0.10)\n",
            "Requirement already satisfied: pickleshare in /usr/local/lib/python3.7/dist-packages (from ipython->ipython-autotime) (0.7.5)\n",
            "Requirement already satisfied: decorator in /usr/local/lib/python3.7/dist-packages (from ipython->ipython-autotime) (4.4.2)\n",
            "Requirement already satisfied: parso<0.9.0,>=0.8.0 in /usr/local/lib/python3.7/dist-packages (from jedi>=0.10->ipython->ipython-autotime) (0.8.3)\n",
            "Requirement already satisfied: six>=1.9.0 in /usr/local/lib/python3.7/dist-packages (from prompt-toolkit<2.1.0,>=2.0.0->ipython->ipython-autotime) (1.15.0)\n",
            "Requirement already satisfied: wcwidth in /usr/local/lib/python3.7/dist-packages (from prompt-toolkit<2.1.0,>=2.0.0->ipython->ipython-autotime) (0.2.5)\n",
            "Requirement already satisfied: ptyprocess>=0.5 in /usr/local/lib/python3.7/dist-packages (from pexpect->ipython->ipython-autotime) (0.7.0)\n",
            "The autotime extension is already loaded. To reload it, use:\n",
            "  %reload_ext autotime\n",
            "time: 6.71 s (started: 2022-09-04 19:25:19 +00:00)\n"
          ]
        }
      ]
    },
    {
      "cell_type": "code",
      "execution_count": 3,
      "id": "39bc292e-2922-4ce9-8870-d838f46f9f7c",
      "metadata": {
        "colab": {
          "base_uri": "https://localhost:8080/",
          "height": 395
        },
        "id": "39bc292e-2922-4ce9-8870-d838f46f9f7c",
        "outputId": "23fe6321-82ae-49a4-eff7-1bd5ca6b1ad2"
      },
      "outputs": [
        {
          "output_type": "execute_result",
          "data": {
            "text/plain": [
              "   B02_min  B02_max  B02_mean  B02_median  B02_nodata  B02_range  B02_count  \\\n",
              "0   0.0871   0.1421  0.102570     0.09650         0.0     0.0550         47   \n",
              "1   0.0970   0.1936  0.118354     0.10660         0.0     0.0966         13   \n",
              "2   0.0992   0.1273  0.111805     0.11290         0.0     0.0281         19   \n",
              "3   0.0995   0.1933  0.118491     0.11355         0.0     0.0938         66   \n",
              "4   0.1059   0.1385  0.122453     0.12240         0.0     0.0326         47   \n",
              "\n",
              "   B03_min  B03_max  B03_mean  ...  sipi_median  sipi_nodata  sipi_range  \\\n",
              "0   0.0768   0.1516  0.098885  ...     0.884216          0.0    0.453065   \n",
              "1   0.1006   0.1949  0.122154  ...     0.971875          0.0    0.247045   \n",
              "2   0.1037   0.1369  0.117795  ...     0.973017          0.0    0.207006   \n",
              "3   0.0993   0.1990  0.124512  ...     0.966202          0.0    0.258424   \n",
              "4   0.1036   0.1580  0.132455  ...     0.993986          0.0    0.260419   \n",
              "\n",
              "   sipi_count                                             raster  \\\n",
              "0          47  S2A_MSIL1C_20170103T142022_N0204_R010_T20JLL_2...   \n",
              "1          13  S2A_MSIL1C_20170103T142022_N0204_R010_T20JLL_2...   \n",
              "2          19  S2A_MSIL1C_20170103T142022_N0204_R010_T20JLL_2...   \n",
              "3          66  S2A_MSIL1C_20170103T142022_N0204_R010_T20JLL_2...   \n",
              "4          47  S2A_MSIL1C_20170103T142022_N0204_R010_T20JLL_2...   \n",
              "\n",
              "   clouds_on_raster     osm_id  name      area_m2        date  \n",
              "0               0.0  605976736   NaN  4650.710032  2017-01-03  \n",
              "1               0.0  559322368   NaN  1502.000513  2017-01-03  \n",
              "2               0.0  559322369   NaN  2004.192528  2017-01-03  \n",
              "3               0.0  559328111   NaN  6940.507640  2017-01-03  \n",
              "4               0.0  559328112   NaN  4587.356048  2017-01-03  \n",
              "\n",
              "[5 rows x 167 columns]"
            ],
            "text/html": [
              "\n",
              "  <div id=\"df-a33e02e7-192c-476a-a26d-dc292cd27f5b\">\n",
              "    <div class=\"colab-df-container\">\n",
              "      <div>\n",
              "<style scoped>\n",
              "    .dataframe tbody tr th:only-of-type {\n",
              "        vertical-align: middle;\n",
              "    }\n",
              "\n",
              "    .dataframe tbody tr th {\n",
              "        vertical-align: top;\n",
              "    }\n",
              "\n",
              "    .dataframe thead th {\n",
              "        text-align: right;\n",
              "    }\n",
              "</style>\n",
              "<table border=\"1\" class=\"dataframe\">\n",
              "  <thead>\n",
              "    <tr style=\"text-align: right;\">\n",
              "      <th></th>\n",
              "      <th>B02_min</th>\n",
              "      <th>B02_max</th>\n",
              "      <th>B02_mean</th>\n",
              "      <th>B02_median</th>\n",
              "      <th>B02_nodata</th>\n",
              "      <th>B02_range</th>\n",
              "      <th>B02_count</th>\n",
              "      <th>B03_min</th>\n",
              "      <th>B03_max</th>\n",
              "      <th>B03_mean</th>\n",
              "      <th>...</th>\n",
              "      <th>sipi_median</th>\n",
              "      <th>sipi_nodata</th>\n",
              "      <th>sipi_range</th>\n",
              "      <th>sipi_count</th>\n",
              "      <th>raster</th>\n",
              "      <th>clouds_on_raster</th>\n",
              "      <th>osm_id</th>\n",
              "      <th>name</th>\n",
              "      <th>area_m2</th>\n",
              "      <th>date</th>\n",
              "    </tr>\n",
              "  </thead>\n",
              "  <tbody>\n",
              "    <tr>\n",
              "      <th>0</th>\n",
              "      <td>0.0871</td>\n",
              "      <td>0.1421</td>\n",
              "      <td>0.102570</td>\n",
              "      <td>0.09650</td>\n",
              "      <td>0.0</td>\n",
              "      <td>0.0550</td>\n",
              "      <td>47</td>\n",
              "      <td>0.0768</td>\n",
              "      <td>0.1516</td>\n",
              "      <td>0.098885</td>\n",
              "      <td>...</td>\n",
              "      <td>0.884216</td>\n",
              "      <td>0.0</td>\n",
              "      <td>0.453065</td>\n",
              "      <td>47</td>\n",
              "      <td>S2A_MSIL1C_20170103T142022_N0204_R010_T20JLL_2...</td>\n",
              "      <td>0.0</td>\n",
              "      <td>605976736</td>\n",
              "      <td>NaN</td>\n",
              "      <td>4650.710032</td>\n",
              "      <td>2017-01-03</td>\n",
              "    </tr>\n",
              "    <tr>\n",
              "      <th>1</th>\n",
              "      <td>0.0970</td>\n",
              "      <td>0.1936</td>\n",
              "      <td>0.118354</td>\n",
              "      <td>0.10660</td>\n",
              "      <td>0.0</td>\n",
              "      <td>0.0966</td>\n",
              "      <td>13</td>\n",
              "      <td>0.1006</td>\n",
              "      <td>0.1949</td>\n",
              "      <td>0.122154</td>\n",
              "      <td>...</td>\n",
              "      <td>0.971875</td>\n",
              "      <td>0.0</td>\n",
              "      <td>0.247045</td>\n",
              "      <td>13</td>\n",
              "      <td>S2A_MSIL1C_20170103T142022_N0204_R010_T20JLL_2...</td>\n",
              "      <td>0.0</td>\n",
              "      <td>559322368</td>\n",
              "      <td>NaN</td>\n",
              "      <td>1502.000513</td>\n",
              "      <td>2017-01-03</td>\n",
              "    </tr>\n",
              "    <tr>\n",
              "      <th>2</th>\n",
              "      <td>0.0992</td>\n",
              "      <td>0.1273</td>\n",
              "      <td>0.111805</td>\n",
              "      <td>0.11290</td>\n",
              "      <td>0.0</td>\n",
              "      <td>0.0281</td>\n",
              "      <td>19</td>\n",
              "      <td>0.1037</td>\n",
              "      <td>0.1369</td>\n",
              "      <td>0.117795</td>\n",
              "      <td>...</td>\n",
              "      <td>0.973017</td>\n",
              "      <td>0.0</td>\n",
              "      <td>0.207006</td>\n",
              "      <td>19</td>\n",
              "      <td>S2A_MSIL1C_20170103T142022_N0204_R010_T20JLL_2...</td>\n",
              "      <td>0.0</td>\n",
              "      <td>559322369</td>\n",
              "      <td>NaN</td>\n",
              "      <td>2004.192528</td>\n",
              "      <td>2017-01-03</td>\n",
              "    </tr>\n",
              "    <tr>\n",
              "      <th>3</th>\n",
              "      <td>0.0995</td>\n",
              "      <td>0.1933</td>\n",
              "      <td>0.118491</td>\n",
              "      <td>0.11355</td>\n",
              "      <td>0.0</td>\n",
              "      <td>0.0938</td>\n",
              "      <td>66</td>\n",
              "      <td>0.0993</td>\n",
              "      <td>0.1990</td>\n",
              "      <td>0.124512</td>\n",
              "      <td>...</td>\n",
              "      <td>0.966202</td>\n",
              "      <td>0.0</td>\n",
              "      <td>0.258424</td>\n",
              "      <td>66</td>\n",
              "      <td>S2A_MSIL1C_20170103T142022_N0204_R010_T20JLL_2...</td>\n",
              "      <td>0.0</td>\n",
              "      <td>559328111</td>\n",
              "      <td>NaN</td>\n",
              "      <td>6940.507640</td>\n",
              "      <td>2017-01-03</td>\n",
              "    </tr>\n",
              "    <tr>\n",
              "      <th>4</th>\n",
              "      <td>0.1059</td>\n",
              "      <td>0.1385</td>\n",
              "      <td>0.122453</td>\n",
              "      <td>0.12240</td>\n",
              "      <td>0.0</td>\n",
              "      <td>0.0326</td>\n",
              "      <td>47</td>\n",
              "      <td>0.1036</td>\n",
              "      <td>0.1580</td>\n",
              "      <td>0.132455</td>\n",
              "      <td>...</td>\n",
              "      <td>0.993986</td>\n",
              "      <td>0.0</td>\n",
              "      <td>0.260419</td>\n",
              "      <td>47</td>\n",
              "      <td>S2A_MSIL1C_20170103T142022_N0204_R010_T20JLL_2...</td>\n",
              "      <td>0.0</td>\n",
              "      <td>559328112</td>\n",
              "      <td>NaN</td>\n",
              "      <td>4587.356048</td>\n",
              "      <td>2017-01-03</td>\n",
              "    </tr>\n",
              "  </tbody>\n",
              "</table>\n",
              "<p>5 rows × 167 columns</p>\n",
              "</div>\n",
              "      <button class=\"colab-df-convert\" onclick=\"convertToInteractive('df-a33e02e7-192c-476a-a26d-dc292cd27f5b')\"\n",
              "              title=\"Convert this dataframe to an interactive table.\"\n",
              "              style=\"display:none;\">\n",
              "        \n",
              "  <svg xmlns=\"http://www.w3.org/2000/svg\" height=\"24px\"viewBox=\"0 0 24 24\"\n",
              "       width=\"24px\">\n",
              "    <path d=\"M0 0h24v24H0V0z\" fill=\"none\"/>\n",
              "    <path d=\"M18.56 5.44l.94 2.06.94-2.06 2.06-.94-2.06-.94-.94-2.06-.94 2.06-2.06.94zm-11 1L8.5 8.5l.94-2.06 2.06-.94-2.06-.94L8.5 2.5l-.94 2.06-2.06.94zm10 10l.94 2.06.94-2.06 2.06-.94-2.06-.94-.94-2.06-.94 2.06-2.06.94z\"/><path d=\"M17.41 7.96l-1.37-1.37c-.4-.4-.92-.59-1.43-.59-.52 0-1.04.2-1.43.59L10.3 9.45l-7.72 7.72c-.78.78-.78 2.05 0 2.83L4 21.41c.39.39.9.59 1.41.59.51 0 1.02-.2 1.41-.59l7.78-7.78 2.81-2.81c.8-.78.8-2.07 0-2.86zM5.41 20L4 18.59l7.72-7.72 1.47 1.35L5.41 20z\"/>\n",
              "  </svg>\n",
              "      </button>\n",
              "      \n",
              "  <style>\n",
              "    .colab-df-container {\n",
              "      display:flex;\n",
              "      flex-wrap:wrap;\n",
              "      gap: 12px;\n",
              "    }\n",
              "\n",
              "    .colab-df-convert {\n",
              "      background-color: #E8F0FE;\n",
              "      border: none;\n",
              "      border-radius: 50%;\n",
              "      cursor: pointer;\n",
              "      display: none;\n",
              "      fill: #1967D2;\n",
              "      height: 32px;\n",
              "      padding: 0 0 0 0;\n",
              "      width: 32px;\n",
              "    }\n",
              "\n",
              "    .colab-df-convert:hover {\n",
              "      background-color: #E2EBFA;\n",
              "      box-shadow: 0px 1px 2px rgba(60, 64, 67, 0.3), 0px 1px 3px 1px rgba(60, 64, 67, 0.15);\n",
              "      fill: #174EA6;\n",
              "    }\n",
              "\n",
              "    [theme=dark] .colab-df-convert {\n",
              "      background-color: #3B4455;\n",
              "      fill: #D2E3FC;\n",
              "    }\n",
              "\n",
              "    [theme=dark] .colab-df-convert:hover {\n",
              "      background-color: #434B5C;\n",
              "      box-shadow: 0px 1px 3px 1px rgba(0, 0, 0, 0.15);\n",
              "      filter: drop-shadow(0px 1px 2px rgba(0, 0, 0, 0.3));\n",
              "      fill: #FFFFFF;\n",
              "    }\n",
              "  </style>\n",
              "\n",
              "      <script>\n",
              "        const buttonEl =\n",
              "          document.querySelector('#df-a33e02e7-192c-476a-a26d-dc292cd27f5b button.colab-df-convert');\n",
              "        buttonEl.style.display =\n",
              "          google.colab.kernel.accessAllowed ? 'block' : 'none';\n",
              "\n",
              "        async function convertToInteractive(key) {\n",
              "          const element = document.querySelector('#df-a33e02e7-192c-476a-a26d-dc292cd27f5b');\n",
              "          const dataTable =\n",
              "            await google.colab.kernel.invokeFunction('convertToInteractive',\n",
              "                                                     [key], {});\n",
              "          if (!dataTable) return;\n",
              "\n",
              "          const docLinkHtml = 'Like what you see? Visit the ' +\n",
              "            '<a target=\"_blank\" href=https://colab.research.google.com/notebooks/data_table.ipynb>data table notebook</a>'\n",
              "            + ' to learn more about interactive tables.';\n",
              "          element.innerHTML = '';\n",
              "          dataTable['output_type'] = 'display_data';\n",
              "          await google.colab.output.renderOutput(dataTable, element);\n",
              "          const docLink = document.createElement('div');\n",
              "          docLink.innerHTML = docLinkHtml;\n",
              "          element.appendChild(docLink);\n",
              "        }\n",
              "      </script>\n",
              "    </div>\n",
              "  </div>\n",
              "  "
            ]
          },
          "metadata": {},
          "execution_count": 3
        },
        {
          "output_type": "stream",
          "name": "stdout",
          "text": [
            "time: 40 ms (started: 2022-09-04 19:21:44 +00:00)\n"
          ]
        }
      ],
      "source": [
        "df_verde.head()"
      ]
    },
    {
      "cell_type": "code",
      "source": [
        "df_no_verde.head()"
      ],
      "metadata": {
        "id": "XHiCZAe_AdFZ",
        "colab": {
          "base_uri": "https://localhost:8080/",
          "height": 465
        },
        "outputId": "46af2888-9cf8-4530-962a-766367373c49"
      },
      "id": "XHiCZAe_AdFZ",
      "execution_count": 4,
      "outputs": [
        {
          "output_type": "execute_result",
          "data": {
            "text/plain": [
              "   B02_min  B02_max  B02_mean  B02_median  B02_nodata  B02_range  B02_count  \\\n",
              "0   0.0894   0.3261  0.165313     0.15350         0.0     0.2367        313   \n",
              "1   0.0950   0.5436  0.166934     0.14690         0.0     0.4486        317   \n",
              "2   0.0867   0.3236  0.163555     0.15535         0.0     0.2369        314   \n",
              "3   0.0874   0.3107  0.134499     0.13110         0.0     0.2233        315   \n",
              "4   0.0826   0.2872  0.127382     0.11620         0.0     0.2046        313   \n",
              "\n",
              "   B03_min  B03_max  B03_mean  ...  sipi_nodata  sipi_range  sipi_count  \\\n",
              "0   0.0827   0.3737  0.168369  ...          0.0   88.165550         313   \n",
              "1   0.0927   0.5340  0.170916  ...          0.0   69.959171         317   \n",
              "2   0.0807   0.3693  0.164975  ...          0.0   52.476419         314   \n",
              "3   0.0776   0.3101  0.132847  ...          0.0   35.171722         315   \n",
              "4   0.0722   0.3367  0.124013  ...          0.0    1.484326         313   \n",
              "\n",
              "                                              raster  clouds_on_raster  \\\n",
              "0  S2A_MSIL1C_20170103T142022_N0204_R010_T20JLL_2...               0.0   \n",
              "1  S2A_MSIL1C_20170103T142022_N0204_R010_T20JLL_2...               0.0   \n",
              "2  S2A_MSIL1C_20170103T142022_N0204_R010_T20JLL_2...               0.0   \n",
              "3  S2A_MSIL1C_20170103T142022_N0204_R010_T20JLL_2...               0.0   \n",
              "4  S2A_MSIL1C_20170103T142022_N0204_R010_T20JLL_2...               0.0   \n",
              "\n",
              "    osm_id       name       area_m2               desc        date  \n",
              "0  259-nev  undefined  31365.484905             Barrio  2017-01-03  \n",
              "1  237-nev  undefined  31365.484905  Barrio-Zona-Verde  2017-01-03  \n",
              "2  236-nev  undefined  31365.484905  Barrio-Zona-Verde  2017-01-03  \n",
              "3  235-nev  undefined  31365.484905  Barrio-Zona-Verde  2017-01-03  \n",
              "4  234-nev  undefined  31365.484905  Barrio-Zona-Verde  2017-01-03  \n",
              "\n",
              "[5 rows x 168 columns]"
            ],
            "text/html": [
              "\n",
              "  <div id=\"df-05c2e4d3-2551-4514-b0f0-f2876b753300\">\n",
              "    <div class=\"colab-df-container\">\n",
              "      <div>\n",
              "<style scoped>\n",
              "    .dataframe tbody tr th:only-of-type {\n",
              "        vertical-align: middle;\n",
              "    }\n",
              "\n",
              "    .dataframe tbody tr th {\n",
              "        vertical-align: top;\n",
              "    }\n",
              "\n",
              "    .dataframe thead th {\n",
              "        text-align: right;\n",
              "    }\n",
              "</style>\n",
              "<table border=\"1\" class=\"dataframe\">\n",
              "  <thead>\n",
              "    <tr style=\"text-align: right;\">\n",
              "      <th></th>\n",
              "      <th>B02_min</th>\n",
              "      <th>B02_max</th>\n",
              "      <th>B02_mean</th>\n",
              "      <th>B02_median</th>\n",
              "      <th>B02_nodata</th>\n",
              "      <th>B02_range</th>\n",
              "      <th>B02_count</th>\n",
              "      <th>B03_min</th>\n",
              "      <th>B03_max</th>\n",
              "      <th>B03_mean</th>\n",
              "      <th>...</th>\n",
              "      <th>sipi_nodata</th>\n",
              "      <th>sipi_range</th>\n",
              "      <th>sipi_count</th>\n",
              "      <th>raster</th>\n",
              "      <th>clouds_on_raster</th>\n",
              "      <th>osm_id</th>\n",
              "      <th>name</th>\n",
              "      <th>area_m2</th>\n",
              "      <th>desc</th>\n",
              "      <th>date</th>\n",
              "    </tr>\n",
              "  </thead>\n",
              "  <tbody>\n",
              "    <tr>\n",
              "      <th>0</th>\n",
              "      <td>0.0894</td>\n",
              "      <td>0.3261</td>\n",
              "      <td>0.165313</td>\n",
              "      <td>0.15350</td>\n",
              "      <td>0.0</td>\n",
              "      <td>0.2367</td>\n",
              "      <td>313</td>\n",
              "      <td>0.0827</td>\n",
              "      <td>0.3737</td>\n",
              "      <td>0.168369</td>\n",
              "      <td>...</td>\n",
              "      <td>0.0</td>\n",
              "      <td>88.165550</td>\n",
              "      <td>313</td>\n",
              "      <td>S2A_MSIL1C_20170103T142022_N0204_R010_T20JLL_2...</td>\n",
              "      <td>0.0</td>\n",
              "      <td>259-nev</td>\n",
              "      <td>undefined</td>\n",
              "      <td>31365.484905</td>\n",
              "      <td>Barrio</td>\n",
              "      <td>2017-01-03</td>\n",
              "    </tr>\n",
              "    <tr>\n",
              "      <th>1</th>\n",
              "      <td>0.0950</td>\n",
              "      <td>0.5436</td>\n",
              "      <td>0.166934</td>\n",
              "      <td>0.14690</td>\n",
              "      <td>0.0</td>\n",
              "      <td>0.4486</td>\n",
              "      <td>317</td>\n",
              "      <td>0.0927</td>\n",
              "      <td>0.5340</td>\n",
              "      <td>0.170916</td>\n",
              "      <td>...</td>\n",
              "      <td>0.0</td>\n",
              "      <td>69.959171</td>\n",
              "      <td>317</td>\n",
              "      <td>S2A_MSIL1C_20170103T142022_N0204_R010_T20JLL_2...</td>\n",
              "      <td>0.0</td>\n",
              "      <td>237-nev</td>\n",
              "      <td>undefined</td>\n",
              "      <td>31365.484905</td>\n",
              "      <td>Barrio-Zona-Verde</td>\n",
              "      <td>2017-01-03</td>\n",
              "    </tr>\n",
              "    <tr>\n",
              "      <th>2</th>\n",
              "      <td>0.0867</td>\n",
              "      <td>0.3236</td>\n",
              "      <td>0.163555</td>\n",
              "      <td>0.15535</td>\n",
              "      <td>0.0</td>\n",
              "      <td>0.2369</td>\n",
              "      <td>314</td>\n",
              "      <td>0.0807</td>\n",
              "      <td>0.3693</td>\n",
              "      <td>0.164975</td>\n",
              "      <td>...</td>\n",
              "      <td>0.0</td>\n",
              "      <td>52.476419</td>\n",
              "      <td>314</td>\n",
              "      <td>S2A_MSIL1C_20170103T142022_N0204_R010_T20JLL_2...</td>\n",
              "      <td>0.0</td>\n",
              "      <td>236-nev</td>\n",
              "      <td>undefined</td>\n",
              "      <td>31365.484905</td>\n",
              "      <td>Barrio-Zona-Verde</td>\n",
              "      <td>2017-01-03</td>\n",
              "    </tr>\n",
              "    <tr>\n",
              "      <th>3</th>\n",
              "      <td>0.0874</td>\n",
              "      <td>0.3107</td>\n",
              "      <td>0.134499</td>\n",
              "      <td>0.13110</td>\n",
              "      <td>0.0</td>\n",
              "      <td>0.2233</td>\n",
              "      <td>315</td>\n",
              "      <td>0.0776</td>\n",
              "      <td>0.3101</td>\n",
              "      <td>0.132847</td>\n",
              "      <td>...</td>\n",
              "      <td>0.0</td>\n",
              "      <td>35.171722</td>\n",
              "      <td>315</td>\n",
              "      <td>S2A_MSIL1C_20170103T142022_N0204_R010_T20JLL_2...</td>\n",
              "      <td>0.0</td>\n",
              "      <td>235-nev</td>\n",
              "      <td>undefined</td>\n",
              "      <td>31365.484905</td>\n",
              "      <td>Barrio-Zona-Verde</td>\n",
              "      <td>2017-01-03</td>\n",
              "    </tr>\n",
              "    <tr>\n",
              "      <th>4</th>\n",
              "      <td>0.0826</td>\n",
              "      <td>0.2872</td>\n",
              "      <td>0.127382</td>\n",
              "      <td>0.11620</td>\n",
              "      <td>0.0</td>\n",
              "      <td>0.2046</td>\n",
              "      <td>313</td>\n",
              "      <td>0.0722</td>\n",
              "      <td>0.3367</td>\n",
              "      <td>0.124013</td>\n",
              "      <td>...</td>\n",
              "      <td>0.0</td>\n",
              "      <td>1.484326</td>\n",
              "      <td>313</td>\n",
              "      <td>S2A_MSIL1C_20170103T142022_N0204_R010_T20JLL_2...</td>\n",
              "      <td>0.0</td>\n",
              "      <td>234-nev</td>\n",
              "      <td>undefined</td>\n",
              "      <td>31365.484905</td>\n",
              "      <td>Barrio-Zona-Verde</td>\n",
              "      <td>2017-01-03</td>\n",
              "    </tr>\n",
              "  </tbody>\n",
              "</table>\n",
              "<p>5 rows × 168 columns</p>\n",
              "</div>\n",
              "      <button class=\"colab-df-convert\" onclick=\"convertToInteractive('df-05c2e4d3-2551-4514-b0f0-f2876b753300')\"\n",
              "              title=\"Convert this dataframe to an interactive table.\"\n",
              "              style=\"display:none;\">\n",
              "        \n",
              "  <svg xmlns=\"http://www.w3.org/2000/svg\" height=\"24px\"viewBox=\"0 0 24 24\"\n",
              "       width=\"24px\">\n",
              "    <path d=\"M0 0h24v24H0V0z\" fill=\"none\"/>\n",
              "    <path d=\"M18.56 5.44l.94 2.06.94-2.06 2.06-.94-2.06-.94-.94-2.06-.94 2.06-2.06.94zm-11 1L8.5 8.5l.94-2.06 2.06-.94-2.06-.94L8.5 2.5l-.94 2.06-2.06.94zm10 10l.94 2.06.94-2.06 2.06-.94-2.06-.94-.94-2.06-.94 2.06-2.06.94z\"/><path d=\"M17.41 7.96l-1.37-1.37c-.4-.4-.92-.59-1.43-.59-.52 0-1.04.2-1.43.59L10.3 9.45l-7.72 7.72c-.78.78-.78 2.05 0 2.83L4 21.41c.39.39.9.59 1.41.59.51 0 1.02-.2 1.41-.59l7.78-7.78 2.81-2.81c.8-.78.8-2.07 0-2.86zM5.41 20L4 18.59l7.72-7.72 1.47 1.35L5.41 20z\"/>\n",
              "  </svg>\n",
              "      </button>\n",
              "      \n",
              "  <style>\n",
              "    .colab-df-container {\n",
              "      display:flex;\n",
              "      flex-wrap:wrap;\n",
              "      gap: 12px;\n",
              "    }\n",
              "\n",
              "    .colab-df-convert {\n",
              "      background-color: #E8F0FE;\n",
              "      border: none;\n",
              "      border-radius: 50%;\n",
              "      cursor: pointer;\n",
              "      display: none;\n",
              "      fill: #1967D2;\n",
              "      height: 32px;\n",
              "      padding: 0 0 0 0;\n",
              "      width: 32px;\n",
              "    }\n",
              "\n",
              "    .colab-df-convert:hover {\n",
              "      background-color: #E2EBFA;\n",
              "      box-shadow: 0px 1px 2px rgba(60, 64, 67, 0.3), 0px 1px 3px 1px rgba(60, 64, 67, 0.15);\n",
              "      fill: #174EA6;\n",
              "    }\n",
              "\n",
              "    [theme=dark] .colab-df-convert {\n",
              "      background-color: #3B4455;\n",
              "      fill: #D2E3FC;\n",
              "    }\n",
              "\n",
              "    [theme=dark] .colab-df-convert:hover {\n",
              "      background-color: #434B5C;\n",
              "      box-shadow: 0px 1px 3px 1px rgba(0, 0, 0, 0.15);\n",
              "      filter: drop-shadow(0px 1px 2px rgba(0, 0, 0, 0.3));\n",
              "      fill: #FFFFFF;\n",
              "    }\n",
              "  </style>\n",
              "\n",
              "      <script>\n",
              "        const buttonEl =\n",
              "          document.querySelector('#df-05c2e4d3-2551-4514-b0f0-f2876b753300 button.colab-df-convert');\n",
              "        buttonEl.style.display =\n",
              "          google.colab.kernel.accessAllowed ? 'block' : 'none';\n",
              "\n",
              "        async function convertToInteractive(key) {\n",
              "          const element = document.querySelector('#df-05c2e4d3-2551-4514-b0f0-f2876b753300');\n",
              "          const dataTable =\n",
              "            await google.colab.kernel.invokeFunction('convertToInteractive',\n",
              "                                                     [key], {});\n",
              "          if (!dataTable) return;\n",
              "\n",
              "          const docLinkHtml = 'Like what you see? Visit the ' +\n",
              "            '<a target=\"_blank\" href=https://colab.research.google.com/notebooks/data_table.ipynb>data table notebook</a>'\n",
              "            + ' to learn more about interactive tables.';\n",
              "          element.innerHTML = '';\n",
              "          dataTable['output_type'] = 'display_data';\n",
              "          await google.colab.output.renderOutput(dataTable, element);\n",
              "          const docLink = document.createElement('div');\n",
              "          docLink.innerHTML = docLinkHtml;\n",
              "          element.appendChild(docLink);\n",
              "        }\n",
              "      </script>\n",
              "    </div>\n",
              "  </div>\n",
              "  "
            ]
          },
          "metadata": {},
          "execution_count": 4
        },
        {
          "output_type": "stream",
          "name": "stdout",
          "text": [
            "time: 39.3 ms (started: 2022-09-04 19:21:44 +00:00)\n"
          ]
        }
      ]
    },
    {
      "cell_type": "code",
      "source": [
        "print(df_verde[\"date\"].max())\n",
        "print(df_verde[\"date\"].min())\n",
        "print(\"****************No verde*****************************\")\n",
        "print(df_no_verde[\"date\"].max())\n",
        "print(df_no_verde[\"date\"].min())"
      ],
      "metadata": {
        "colab": {
          "base_uri": "https://localhost:8080/"
        },
        "id": "q-klCNR_n3sR",
        "outputId": "8f9687da-fac8-49b0-a0d2-00a8a3476d86"
      },
      "id": "q-klCNR_n3sR",
      "execution_count": 5,
      "outputs": [
        {
          "output_type": "stream",
          "name": "stdout",
          "text": [
            "2022-04-17\n",
            "2017-01-03\n",
            "****************No verde*****************************\n",
            "2022-04-17\n",
            "2017-01-03\n",
            "time: 64.3 ms (started: 2022-09-04 19:21:45 +00:00)\n"
          ]
        }
      ]
    },
    {
      "cell_type": "code",
      "source": [
        "df_verde1 = df_verde[[\"B02_median\", \"B06_median\", \"B11_median\",\"osm_id\", \"date\", \"ndvi_max\", \"area_m2\",\"raster\",\"clouds_on_raster\"]]"
      ],
      "metadata": {
        "id": "7UdkAZWe7ay1",
        "colab": {
          "base_uri": "https://localhost:8080/"
        },
        "outputId": "ab8ebb26-cc4d-4ccc-f4ba-ab0d8372c52d"
      },
      "id": "7UdkAZWe7ay1",
      "execution_count": 6,
      "outputs": [
        {
          "output_type": "stream",
          "name": "stdout",
          "text": [
            "time: 15.9 ms (started: 2022-09-04 19:21:45 +00:00)\n"
          ]
        }
      ]
    },
    {
      "cell_type": "code",
      "source": [
        "df_no_verde1 = df_no_verde[[\"B02_median\", \"B06_median\", \"B11_median\",\"osm_id\", \"date\", \"ndvi_max\", \"area_m2\",\"raster\",\"clouds_on_raster\"]]"
      ],
      "metadata": {
        "id": "weXxnFVt7anr",
        "colab": {
          "base_uri": "https://localhost:8080/"
        },
        "outputId": "605bd7f8-a2d5-4c67-d876-2ae5f90d63e5"
      },
      "id": "weXxnFVt7anr",
      "execution_count": 80,
      "outputs": [
        {
          "output_type": "stream",
          "name": "stdout",
          "text": [
            "time: 27 ms (started: 2022-09-04 21:37:07 +00:00)\n"
          ]
        }
      ]
    },
    {
      "cell_type": "markdown",
      "source": [
        "###Espacio Verde"
      ],
      "metadata": {
        "id": "4qo2dcE1dmIW"
      },
      "id": "4qo2dcE1dmIW"
    },
    {
      "cell_type": "code",
      "source": [
        "# Graficamos los datos faltantes \n",
        "msno.bar(df_verde1,figsize=(12, 6), sort=\"ascending\",fontsize=12, color='tomato') "
      ],
      "metadata": {
        "id": "qXTSD_oEQwac",
        "colab": {
          "base_uri": "https://localhost:8080/",
          "height": 530
        },
        "outputId": "917171d5-9af1-47f3-a884-876af3940c4b"
      },
      "id": "qXTSD_oEQwac",
      "execution_count": 8,
      "outputs": [
        {
          "output_type": "execute_result",
          "data": {
            "text/plain": [
              "<matplotlib.axes._subplots.AxesSubplot at 0x7f0b4a5eb2d0>"
            ]
          },
          "metadata": {},
          "execution_count": 8
        },
        {
          "output_type": "display_data",
          "data": {
            "text/plain": [
              "<Figure size 864x432 with 3 Axes>"
            ],
            "image/png": "[encoded data removed]"
          },
          "metadata": {
            "needs_background": "light"
          }
        },
        {
          "output_type": "stream",
          "name": "stdout",
          "text": [
            "time: 1.22 s (started: 2022-09-04 19:21:45 +00:00)\n"
          ]
        }
      ]
    },
    {
      "cell_type": "code",
      "source": [
        "# Creamos un nuevo dataframe con las variables de interés \n",
        "\n",
        "df_interest_E = df_verde[[\"B02_median\", \"B06_median\", \"B11_median\",\"osm_id\", \"date\", \"ndvi_max\", \"area_m2\",\"raster\",\"clouds_on_raster\"]]\n",
        "len(df_interest_E)"
      ],
      "metadata": {
        "colab": {
          "base_uri": "https://localhost:8080/"
        },
        "id": "Hb9kUCBaSy7c",
        "outputId": "7815f5ed-5b46-4aaf-bbcc-1ffe07b08336"
      },
      "id": "Hb9kUCBaSy7c",
      "execution_count": 9,
      "outputs": [
        {
          "output_type": "execute_result",
          "data": {
            "text/plain": [
              "208932"
            ]
          },
          "metadata": {},
          "execution_count": 9
        },
        {
          "output_type": "stream",
          "name": "stdout",
          "text": [
            "time: 23.3 ms (started: 2022-09-04 19:21:46 +00:00)\n"
          ]
        }
      ]
    },
    {
      "cell_type": "markdown",
      "source": [
        "###Removemos outliers"
      ],
      "metadata": {
        "id": "lXvXHRQpX9Na"
      },
      "id": "lXvXHRQpX9Na"
    },
    {
      "cell_type": "code",
      "source": [
        "# Para la remoción de outliers por estación, definimos la estación a la que corresponde cada registro. \n",
        "# Convertimos la columna date a tipo datetime\n",
        "df_interest_E['date']= pd.to_datetime(df_interest_E['date'])\n",
        "\n",
        "# Extraemos el mes de cada registro.\n",
        "df_interest_E['month'] = df_interest_E['date'].dt.month\n",
        "\n",
        "# Aplicamos la siguiente función para determinar la estación a la que corresponde cada registro.\n",
        "def seasons(df, col):\n",
        "    Seasons = []\n",
        "    for month in df[col]:\n",
        "        if month in (1, 2, 3):\n",
        "            season = 'summer'\n",
        "        elif month in (4, 5, 6):\n",
        "            season = 'autumn'\n",
        "        elif month in (7, 8, 9):\n",
        "            season = 'winter'\n",
        "        else:\n",
        "            season = 'spring'\n",
        "        Seasons.append(season)\n",
        "    df[\"season\"]= Seasons\n",
        "\n",
        "seasons(df_interest_E, \"month\")\n",
        "df_interest_E"
      ],
      "metadata": {
        "colab": {
          "base_uri": "https://localhost:8080/",
          "height": 971
        },
        "id": "dmXQ9dDmYCNs",
        "outputId": "56840c9a-7245-4184-9126-675a4f309edf"
      },
      "id": "dmXQ9dDmYCNs",
      "execution_count": 10,
      "outputs": [
        {
          "output_type": "stream",
          "name": "stderr",
          "text": [
            "/usr/local/lib/python3.7/dist-packages/ipykernel_launcher.py:3: SettingWithCopyWarning: \n",
            "A value is trying to be set on a copy of a slice from a DataFrame.\n",
            "Try using .loc[row_indexer,col_indexer] = value instead\n",
            "\n",
            "See the caveats in the documentation: https://pandas.pydata.org/pandas-docs/stable/user_guide/indexing.html#returning-a-view-versus-a-copy\n",
            "  This is separate from the ipykernel package so we can avoid doing imports until\n",
            "/usr/local/lib/python3.7/dist-packages/ipykernel_launcher.py:6: SettingWithCopyWarning: \n",
            "A value is trying to be set on a copy of a slice from a DataFrame.\n",
            "Try using .loc[row_indexer,col_indexer] = value instead\n",
            "\n",
            "See the caveats in the documentation: https://pandas.pydata.org/pandas-docs/stable/user_guide/indexing.html#returning-a-view-versus-a-copy\n",
            "  \n",
            "/usr/local/lib/python3.7/dist-packages/ipykernel_launcher.py:21: SettingWithCopyWarning: \n",
            "A value is trying to be set on a copy of a slice from a DataFrame.\n",
            "Try using .loc[row_indexer,col_indexer] = value instead\n",
            "\n",
            "See the caveats in the documentation: https://pandas.pydata.org/pandas-docs/stable/user_guide/indexing.html#returning-a-view-versus-a-copy\n"
          ]
        },
        {
          "output_type": "execute_result",
          "data": {
            "text/plain": [
              "        B02_median  B06_median  B11_median     osm_id       date  ndvi_max  \\\n",
              "0          0.09650     0.19910     0.18770  605976736 2017-01-03  0.630881   \n",
              "1          0.10660     0.25960     0.25420  559322368 2017-01-03  0.630041   \n",
              "2          0.11290     0.25550     0.24640  559322369 2017-01-03  0.622036   \n",
              "3          0.11355     0.29300     0.26675  559328111 2017-01-03  0.669891   \n",
              "4          0.12240     0.29460     0.28950  559328112 2017-01-03  0.619112   \n",
              "...            ...         ...         ...        ...        ...       ...   \n",
              "208927     0.11270     0.20520     0.18950  307532496 2022-04-17  0.563955   \n",
              "208928     0.13665     0.23835     0.27315  307535460 2022-04-17  0.490798   \n",
              "208929     0.10625     0.22425     0.22230  307796387 2022-04-17  0.566516   \n",
              "208930     0.12570     0.20880     0.25450  307097955 2022-04-17  0.534379   \n",
              "208931     0.10180     0.19080     0.19740  901791744 2022-04-17  0.635997   \n",
              "\n",
              "            area_m2                                             raster  \\\n",
              "0       4650.710032  S2A_MSIL1C_20170103T142022_N0204_R010_T20JLL_2...   \n",
              "1       1502.000513  S2A_MSIL1C_20170103T142022_N0204_R010_T20JLL_2...   \n",
              "2       2004.192528  S2A_MSIL1C_20170103T142022_N0204_R010_T20JLL_2...   \n",
              "3       6940.507640  S2A_MSIL1C_20170103T142022_N0204_R010_T20JLL_2...   \n",
              "4       4587.356048  S2A_MSIL1C_20170103T142022_N0204_R010_T20JLL_2...   \n",
              "...             ...                                                ...   \n",
              "208927  3824.467794  S2A_MSIL1C_20220417T141741_N0400_R010_T20JLL_2...   \n",
              "208928  7184.535857  S2A_MSIL1C_20220417T141741_N0400_R010_T20JLL_2...   \n",
              "208929  1147.997645  S2A_MSIL1C_20220417T141741_N0400_R010_T20JLL_2...   \n",
              "208930  5185.690046  S2A_MSIL1C_20220417T141741_N0400_R010_T20JLL_2...   \n",
              "208931  9394.381202  S2A_MSIL1C_20220417T141741_N0400_R010_T20JLL_2...   \n",
              "\n",
              "        clouds_on_raster  month  season  \n",
              "0                    0.0      1  summer  \n",
              "1                    0.0      1  summer  \n",
              "2                    0.0      1  summer  \n",
              "3                    0.0      1  summer  \n",
              "4                    0.0      1  summer  \n",
              "...                  ...    ...     ...  \n",
              "208927               0.0      4  autumn  \n",
              "208928               0.0      4  autumn  \n",
              "208929               0.0      4  autumn  \n",
              "208930               0.0      4  autumn  \n",
              "208931               0.0      4  autumn  \n",
              "\n",
              "[208932 rows x 11 columns]"
            ],
            "text/html": [
              "\n",
              "  <div id=\"df-9ed1dad7-471a-45b5-97ad-a3b518de345a\">\n",
              "    <div class=\"colab-df-container\">\n",
              "      <div>\n",
              "<style scoped>\n",
              "    .dataframe tbody tr th:only-of-type {\n",
              "        vertical-align: middle;\n",
              "    }\n",
              "\n",
              "    .dataframe tbody tr th {\n",
              "        vertical-align: top;\n",
              "    }\n",
              "\n",
              "    .dataframe thead th {\n",
              "        text-align: right;\n",
              "    }\n",
              "</style>\n",
              "<table border=\"1\" class=\"dataframe\">\n",
              "  <thead>\n",
              "    <tr style=\"text-align: right;\">\n",
              "      <th></th>\n",
              "      <th>B02_median</th>\n",
              "      <th>B06_median</th>\n",
              "      <th>B11_median</th>\n",
              "      <th>osm_id</th>\n",
              "      <th>date</th>\n",
              "      <th>ndvi_max</th>\n",
              "      <th>area_m2</th>\n",
              "      <th>raster</th>\n",
              "      <th>clouds_on_raster</th>\n",
              "      <th>month</th>\n",
              "      <th>season</th>\n",
              "    </tr>\n",
              "  </thead>\n",
              "  <tbody>\n",
              "    <tr>\n",
              "      <th>0</th>\n",
              "      <td>0.09650</td>\n",
              "      <td>0.19910</td>\n",
              "      <td>0.18770</td>\n",
              "      <td>605976736</td>\n",
              "      <td>2017-01-03</td>\n",
              "      <td>0.630881</td>\n",
              "      <td>4650.710032</td>\n",
              "      <td>S2A_MSIL1C_20170103T142022_N0204_R010_T20JLL_2...</td>\n",
              "      <td>0.0</td>\n",
              "      <td>1</td>\n",
              "      <td>summer</td>\n",
              "    </tr>\n",
              "    <tr>\n",
              "      <th>1</th>\n",
              "      <td>0.10660</td>\n",
              "      <td>0.25960</td>\n",
              "      <td>0.25420</td>\n",
              "      <td>559322368</td>\n",
              "      <td>2017-01-03</td>\n",
              "      <td>0.630041</td>\n",
              "      <td>1502.000513</td>\n",
              "      <td>S2A_MSIL1C_20170103T142022_N0204_R010_T20JLL_2...</td>\n",
              "      <td>0.0</td>\n",
              "      <td>1</td>\n",
              "      <td>summer</td>\n",
              "    </tr>\n",
              "    <tr>\n",
              "      <th>2</th>\n",
              "      <td>0.11290</td>\n",
              "      <td>0.25550</td>\n",
              "      <td>0.24640</td>\n",
              "      <td>559322369</td>\n",
              "      <td>2017-01-03</td>\n",
              "      <td>0.622036</td>\n",
              "      <td>2004.192528</td>\n",
              "      <td>S2A_MSIL1C_20170103T142022_N0204_R010_T20JLL_2...</td>\n",
              "      <td>0.0</td>\n",
              "      <td>1</td>\n",
              "      <td>summer</td>\n",
              "    </tr>\n",
              "    <tr>\n",
              "      <th>3</th>\n",
              "      <td>0.11355</td>\n",
              "      <td>0.29300</td>\n",
              "      <td>0.26675</td>\n",
              "      <td>559328111</td>\n",
              "      <td>2017-01-03</td>\n",
              "      <td>0.669891</td>\n",
              "      <td>6940.507640</td>\n",
              "      <td>S2A_MSIL1C_20170103T142022_N0204_R010_T20JLL_2...</td>\n",
              "      <td>0.0</td>\n",
              "      <td>1</td>\n",
              "      <td>summer</td>\n",
              "    </tr>\n",
              "    <tr>\n",
              "      <th>4</th>\n",
              "      <td>0.12240</td>\n",
              "      <td>0.29460</td>\n",
              "      <td>0.28950</td>\n",
              "      <td>559328112</td>\n",
              "      <td>2017-01-03</td>\n",
              "      <td>0.619112</td>\n",
              "      <td>4587.356048</td>\n",
              "      <td>S2A_MSIL1C_20170103T142022_N0204_R010_T20JLL_2...</td>\n",
              "      <td>0.0</td>\n",
              "      <td>1</td>\n",
              "      <td>summer</td>\n",
              "    </tr>\n",
              "    <tr>\n",
              "      <th>...</th>\n",
              "      <td>...</td>\n",
              "      <td>...</td>\n",
              "      <td>...</td>\n",
              "      <td>...</td>\n",
              "      <td>...</td>\n",
              "      <td>...</td>\n",
              "      <td>...</td>\n",
              "      <td>...</td>\n",
              "      <td>...</td>\n",
              "      <td>...</td>\n",
              "      <td>...</td>\n",
              "    </tr>\n",
              "    <tr>\n",
              "      <th>208927</th>\n",
              "      <td>0.11270</td>\n",
              "      <td>0.20520</td>\n",
              "      <td>0.18950</td>\n",
              "      <td>307532496</td>\n",
              "      <td>2022-04-17</td>\n",
              "      <td>0.563955</td>\n",
              "      <td>3824.467794</td>\n",
              "      <td>S2A_MSIL1C_20220417T141741_N0400_R010_T20JLL_2...</td>\n",
              "      <td>0.0</td>\n",
              "      <td>4</td>\n",
              "      <td>autumn</td>\n",
              "    </tr>\n",
              "    <tr>\n",
              "      <th>208928</th>\n",
              "      <td>0.13665</td>\n",
              "      <td>0.23835</td>\n",
              "      <td>0.27315</td>\n",
              "      <td>307535460</td>\n",
              "      <td>2022-04-17</td>\n",
              "      <td>0.490798</td>\n",
              "      <td>7184.535857</td>\n",
              "      <td>S2A_MSIL1C_20220417T141741_N0400_R010_T20JLL_2...</td>\n",
              "      <td>0.0</td>\n",
              "      <td>4</td>\n",
              "      <td>autumn</td>\n",
              "    </tr>\n",
              "    <tr>\n",
              "      <th>208929</th>\n",
              "      <td>0.10625</td>\n",
              "      <td>0.22425</td>\n",
              "      <td>0.22230</td>\n",
              "      <td>307796387</td>\n",
              "      <td>2022-04-17</td>\n",
              "      <td>0.566516</td>\n",
              "      <td>1147.997645</td>\n",
              "      <td>S2A_MSIL1C_20220417T141741_N0400_R010_T20JLL_2...</td>\n",
              "      <td>0.0</td>\n",
              "      <td>4</td>\n",
              "      <td>autumn</td>\n",
              "    </tr>\n",
              "    <tr>\n",
              "      <th>208930</th>\n",
              "      <td>0.12570</td>\n",
              "      <td>0.20880</td>\n",
              "      <td>0.25450</td>\n",
              "      <td>307097955</td>\n",
              "      <td>2022-04-17</td>\n",
              "      <td>0.534379</td>\n",
              "      <td>5185.690046</td>\n",
              "      <td>S2A_MSIL1C_20220417T141741_N0400_R010_T20JLL_2...</td>\n",
              "      <td>0.0</td>\n",
              "      <td>4</td>\n",
              "      <td>autumn</td>\n",
              "    </tr>\n",
              "    <tr>\n",
              "      <th>208931</th>\n",
              "      <td>0.10180</td>\n",
              "      <td>0.19080</td>\n",
              "      <td>0.19740</td>\n",
              "      <td>901791744</td>\n",
              "      <td>2022-04-17</td>\n",
              "      <td>0.635997</td>\n",
              "      <td>9394.381202</td>\n",
              "      <td>S2A_MSIL1C_20220417T141741_N0400_R010_T20JLL_2...</td>\n",
              "      <td>0.0</td>\n",
              "      <td>4</td>\n",
              "      <td>autumn</td>\n",
              "    </tr>\n",
              "  </tbody>\n",
              "</table>\n",
              "<p>208932 rows × 11 columns</p>\n",
              "</div>\n",
              "      <button class=\"colab-df-convert\" onclick=\"convertToInteractive('df-9ed1dad7-471a-45b5-97ad-a3b518de345a')\"\n",
              "              title=\"Convert this dataframe to an interactive table.\"\n",
              "              style=\"display:none;\">\n",
              "        \n",
              "  <svg xmlns=\"http://www.w3.org/2000/svg\" height=\"24px\"viewBox=\"0 0 24 24\"\n",
              "       width=\"24px\">\n",
              "    <path d=\"M0 0h24v24H0V0z\" fill=\"none\"/>\n",
              "    <path d=\"M18.56 5.44l.94 2.06.94-2.06 2.06-.94-2.06-.94-.94-2.06-.94 2.06-2.06.94zm-11 1L8.5 8.5l.94-2.06 2.06-.94-2.06-.94L8.5 2.5l-.94 2.06-2.06.94zm10 10l.94 2.06.94-2.06 2.06-.94-2.06-.94-.94-2.06-.94 2.06-2.06.94z\"/><path d=\"M17.41 7.96l-1.37-1.37c-.4-.4-.92-.59-1.43-.59-.52 0-1.04.2-1.43.59L10.3 9.45l-7.72 7.72c-.78.78-.78 2.05 0 2.83L4 21.41c.39.39.9.59 1.41.59.51 0 1.02-.2 1.41-.59l7.78-7.78 2.81-2.81c.8-.78.8-2.07 0-2.86zM5.41 20L4 18.59l7.72-7.72 1.47 1.35L5.41 20z\"/>\n",
              "  </svg>\n",
              "      </button>\n",
              "      \n",
              "  <style>\n",
              "    .colab-df-container {\n",
              "      display:flex;\n",
              "      flex-wrap:wrap;\n",
              "      gap: 12px;\n",
              "    }\n",
              "\n",
              "    .colab-df-convert {\n",
              "      background-color: #E8F0FE;\n",
              "      border: none;\n",
              "      border-radius: 50%;\n",
              "      cursor: pointer;\n",
              "      display: none;\n",
              "      fill: #1967D2;\n",
              "      height: 32px;\n",
              "      padding: 0 0 0 0;\n",
              "      width: 32px;\n",
              "    }\n",
              "\n",
              "    .colab-df-convert:hover {\n",
              "      background-color: #E2EBFA;\n",
              "      box-shadow: 0px 1px 2px rgba(60, 64, 67, 0.3), 0px 1px 3px 1px rgba(60, 64, 67, 0.15);\n",
              "      fill: #174EA6;\n",
              "    }\n",
              "\n",
              "    [theme=dark] .colab-df-convert {\n",
              "      background-color: #3B4455;\n",
              "      fill: #D2E3FC;\n",
              "    }\n",
              "\n",
              "    [theme=dark] .colab-df-convert:hover {\n",
              "      background-color: #434B5C;\n",
              "      box-shadow: 0px 1px 3px 1px rgba(0, 0, 0, 0.15);\n",
              "      filter: drop-shadow(0px 1px 2px rgba(0, 0, 0, 0.3));\n",
              "      fill: #FFFFFF;\n",
              "    }\n",
              "  </style>\n",
              "\n",
              "      <script>\n",
              "        const buttonEl =\n",
              "          document.querySelector('#df-9ed1dad7-471a-45b5-97ad-a3b518de345a button.colab-df-convert');\n",
              "        buttonEl.style.display =\n",
              "          google.colab.kernel.accessAllowed ? 'block' : 'none';\n",
              "\n",
              "        async function convertToInteractive(key) {\n",
              "          const element = document.querySelector('#df-9ed1dad7-471a-45b5-97ad-a3b518de345a');\n",
              "          const dataTable =\n",
              "            await google.colab.kernel.invokeFunction('convertToInteractive',\n",
              "                                                     [key], {});\n",
              "          if (!dataTable) return;\n",
              "\n",
              "          const docLinkHtml = 'Like what you see? Visit the ' +\n",
              "            '<a target=\"_blank\" href=https://colab.research.google.com/notebooks/data_table.ipynb>data table notebook</a>'\n",
              "            + ' to learn more about interactive tables.';\n",
              "          element.innerHTML = '';\n",
              "          dataTable['output_type'] = 'display_data';\n",
              "          await google.colab.output.renderOutput(dataTable, element);\n",
              "          const docLink = document.createElement('div');\n",
              "          docLink.innerHTML = docLinkHtml;\n",
              "          element.appendChild(docLink);\n",
              "        }\n",
              "      </script>\n",
              "    </div>\n",
              "  </div>\n",
              "  "
            ]
          },
          "metadata": {},
          "execution_count": 10
        },
        {
          "output_type": "stream",
          "name": "stdout",
          "text": [
            "time: 229 ms (started: 2022-09-04 19:21:46 +00:00)\n"
          ]
        }
      ]
    },
    {
      "cell_type": "code",
      "source": [
        "# Generamos nuevas columnas de cada banda para cada estación\n",
        "df_interest_E.loc[df_interest_E['season'] == 'summer', 'B02_summer'] = df_interest_E['B02_median']  \n",
        "df_interest_E.loc[df_interest_E['season'] == 'autumn', 'B02_autumn'] = df_interest_E['B02_median']\n",
        "df_interest_E.loc[df_interest_E['season'] == 'winter', 'B02_winter'] = df_interest_E['B02_median']\n",
        "df_interest_E.loc[df_interest_E['season'] == 'spring', 'B02_spring'] = df_interest_E['B02_median']\n",
        "\n",
        "df_interest_E.loc[df_interest_E['season'] == 'summer', 'B06_summer'] = df_interest_E['B06_median']  \n",
        "df_interest_E.loc[df_interest_E['season'] == 'autumn', 'B06_autumn'] = df_interest_E['B06_median']\n",
        "df_interest_E.loc[df_interest_E['season'] == 'winter', 'B06_winter'] = df_interest_E['B06_median']\n",
        "df_interest_E.loc[df_interest_E['season'] == 'spring', 'B06_spring'] = df_interest_E['B06_median']\n",
        "\n",
        "df_interest_E.loc[df_interest_E['season'] == 'summer', 'B11_summer'] = df_interest_E['B11_median']  \n",
        "df_interest_E.loc[df_interest_E['season'] == 'autumn', 'B11_autumn'] = df_interest_E['B11_median']\n",
        "df_interest_E.loc[df_interest_E['season'] == 'winter', 'B11_winter'] = df_interest_E['B11_median']\n",
        "df_interest_E.loc[df_interest_E['season'] == 'spring', 'B11_spring'] = df_interest_E['B11_median']\n",
        "\n",
        "# Creamos lista de nuevas columnas para usarla como argumento en la función que detecta outliers\n",
        "Season_values = ['B02_summer', 'B02_autumn', 'B02_winter', 'B02_spring', 'B06_summer', 'B06_autumn', 'B06_winter', \n",
        "                'B06_spring', 'B11_summer', 'B11_autumn', 'B11_winter', 'B11_spring']\n",
        "\n",
        "def find_outliers(df, col_list):\n",
        "    # calculamos cuartiles 1 y 3, y el interquartil (iqr)\n",
        "    for col in col_list:\n",
        "        if col==\"NaN\":\n",
        "            continue\n",
        "        q1 = df[col].quantile(0.25)\n",
        "        q3 = df[col].quantile(0.75)\n",
        "        iqr = q3 - q1 \n",
        "        # calculamos límite superior e inferior\n",
        "        ls = q1 + 1.5 * iqr\n",
        "        li = q3 - 1.5 * iqr\n",
        "        # Generamos nueva columna\n",
        "        df['outl_'+col]=  np.where((df[col] >ls)| (df[col] < li),1,0) \n",
        "\n",
        "# Aplicamos la función de detección de outliers\n",
        "find_outliers(df_interest_E, Season_values)        \n",
        "\n",
        "# Se quitan aquellos registros donde se observa que para las tres bandas bajo análisis (en cada estación), \n",
        "# los valores son outliers (valor = 1)\n",
        "df_interest_E2_summer = df_interest_E[~((df_interest_E['outl_B02_summer']==1) & (df_interest_E['outl_B06_summer']==1) & \n",
        "                        (df_interest_E['outl_B11_summer']==1))]\n",
        "print(len(df_interest_E2_summer))\n",
        "\n",
        "df_interest_E2_autumn = df_interest_E2_summer[~((df_interest_E2_summer['outl_B02_autumn']==1) & \n",
        "                        (df_interest_E2_summer['outl_B06_autumn']==1) & (df_interest_E2_summer['outl_B11_autumn']==1))]\n",
        "print(len(df_interest_E2_autumn))\n",
        "\n",
        "df_interest_E2_winter = df_interest_E2_autumn[~((df_interest_E2_autumn['outl_B02_winter']==1) & \n",
        "                        (df_interest_E2_autumn['outl_B06_winter']==1) & (df_interest_E2_autumn['outl_B11_winter']==1))]\n",
        "print(len(df_interest_E2_winter))\n",
        "\n",
        "df_interest_E2_spring = df_interest_E2_winter[~((df_interest_E2_winter['outl_B02_spring']==1) & \n",
        "                        (df_interest_E2_winter['outl_B06_spring']==1) & (df_interest_E2_winter['outl_B11_spring']==1))]\n",
        "print(len(df_interest_E2_spring))               "
      ],
      "metadata": {
        "colab": {
          "base_uri": "https://localhost:8080/"
        },
        "id": "hsaoOTv0YYkl",
        "outputId": "c6813b09-5caf-4f50-b831-b9350d34fe18"
      },
      "id": "hsaoOTv0YYkl",
      "execution_count": 11,
      "outputs": [
        {
          "output_type": "stream",
          "name": "stderr",
          "text": [
            "/usr/local/lib/python3.7/dist-packages/pandas/core/indexing.py:1681: SettingWithCopyWarning: \n",
            "A value is trying to be set on a copy of a slice from a DataFrame.\n",
            "Try using .loc[row_indexer,col_indexer] = value instead\n",
            "\n",
            "See the caveats in the documentation: https://pandas.pydata.org/pandas-docs/stable/user_guide/indexing.html#returning-a-view-versus-a-copy\n",
            "  self.obj[key] = empty_value\n",
            "/usr/local/lib/python3.7/dist-packages/pandas/core/indexing.py:1773: SettingWithCopyWarning: \n",
            "A value is trying to be set on a copy of a slice from a DataFrame.\n",
            "Try using .loc[row_indexer,col_indexer] = value instead\n",
            "\n",
            "See the caveats in the documentation: https://pandas.pydata.org/pandas-docs/stable/user_guide/indexing.html#returning-a-view-versus-a-copy\n",
            "  self._setitem_single_column(ilocs[0], value, pi)\n",
            "/usr/local/lib/python3.7/dist-packages/ipykernel_launcher.py:33: SettingWithCopyWarning: \n",
            "A value is trying to be set on a copy of a slice from a DataFrame.\n",
            "Try using .loc[row_indexer,col_indexer] = value instead\n",
            "\n",
            "See the caveats in the documentation: https://pandas.pydata.org/pandas-docs/stable/user_guide/indexing.html#returning-a-view-versus-a-copy\n"
          ]
        },
        {
          "output_type": "stream",
          "name": "stdout",
          "text": [
            "205669\n",
            "202722\n",
            "200130\n",
            "197680\n",
            "time: 554 ms (started: 2022-09-04 19:21:46 +00:00)\n"
          ]
        }
      ]
    },
    {
      "cell_type": "markdown",
      "source": [
        "Dividimos el conjunto de datos por estación"
      ],
      "metadata": {
        "id": "1iR3QBSue9eY"
      },
      "id": "1iR3QBSue9eY"
    },
    {
      "cell_type": "code",
      "source": [
        "df_interest_summer = df_interest_E2_spring[df_interest_E2_spring['season']==\"summer\"]\n",
        "df_interest_autumn = df_interest_E2_spring[df_interest_E2_spring['season']==\"autumn\"]\n",
        "df_interest_winter = df_interest_E2_spring[df_interest_E2_spring['season']==\"winter\"]\n",
        "df_interest_spring = df_interest_E2_spring[df_interest_E2_spring['season']==\"spring\"]"
      ],
      "metadata": {
        "id": "rW2yVzT-euG1",
        "colab": {
          "base_uri": "https://localhost:8080/"
        },
        "outputId": "52f609e5-b0d2-46a9-9994-a53057a5df4d"
      },
      "id": "rW2yVzT-euG1",
      "execution_count": 12,
      "outputs": [
        {
          "output_type": "stream",
          "name": "stdout",
          "text": [
            "time: 93.6 ms (started: 2022-09-04 19:21:47 +00:00)\n"
          ]
        }
      ]
    },
    {
      "cell_type": "markdown",
      "source": [
        "###Espacio No verde"
      ],
      "metadata": {
        "id": "e2HXjph0TFjs"
      },
      "id": "e2HXjph0TFjs"
    },
    {
      "cell_type": "code",
      "source": [
        "# Graficamos los datos faltantes del espacio no verde\n",
        "msno.bar(df_no_verde1,figsize=(12, 6), sort=\"ascending\",fontsize=12, color='blue');"
      ],
      "metadata": {
        "colab": {
          "base_uri": "https://localhost:8080/",
          "height": 506
        },
        "id": "rvIanYbBbvDc",
        "outputId": "615d1a4f-9698-42c4-e4cc-1c82e319d168"
      },
      "id": "rvIanYbBbvDc",
      "execution_count": 81,
      "outputs": [
        {
          "output_type": "display_data",
          "data": {
            "text/plain": [
              "<Figure size 864x432 with 3 Axes>"
            ],
            "image/png": "[encoded data removed]"
          },
          "metadata": {
            "needs_background": "light"
          }
        },
        {
          "output_type": "stream",
          "name": "stdout",
          "text": [
            "time: 828 ms (started: 2022-09-04 21:37:15 +00:00)\n"
          ]
        }
      ]
    },
    {
      "cell_type": "code",
      "source": [
        "df_interest_E = df_no_verde1\n",
        "len(df_interest_E)"
      ],
      "metadata": {
        "colab": {
          "base_uri": "https://localhost:8080/"
        },
        "id": "uh6_ERsDTkb5",
        "outputId": "8a0af290-ba0a-4625-cb75-5d399b68fffd"
      },
      "id": "uh6_ERsDTkb5",
      "execution_count": 14,
      "outputs": [
        {
          "output_type": "execute_result",
          "data": {
            "text/plain": [
              "96600"
            ]
          },
          "metadata": {},
          "execution_count": 14
        },
        {
          "output_type": "stream",
          "name": "stdout",
          "text": [
            "time: 5.08 ms (started: 2022-09-04 19:21:48 +00:00)\n"
          ]
        }
      ]
    },
    {
      "cell_type": "code",
      "source": [
        "# Para la remoción de outliers por estación, definimos la estación a la que corresponde cada registro. \n",
        "# Convertimos la columna date a tipo datetime\n",
        "df_interest_E['date']= pd.to_datetime(df_interest_E['date'])\n",
        "\n",
        "# Extraemos el mes de cada registro.\n",
        "df_interest_E['month'] = df_interest_E['date'].dt.month\n",
        "\n",
        "# Aplicamos la función para determinar la estación a la que corresponde cada registro.\n",
        "seasons(df_interest_E, \"month\")\n",
        "\n",
        "# Generamos nuevas columnas de cada banda para cada estación\n",
        "df_interest_E.loc[df_interest_E['season'] == 'summer', 'B02_summer'] = df_interest_E['B02_median']  \n",
        "df_interest_E.loc[df_interest_E['season'] == 'autumn', 'B02_autumn'] = df_interest_E['B02_median']\n",
        "df_interest_E.loc[df_interest_E['season'] == 'winter', 'B02_winter'] = df_interest_E['B02_median']\n",
        "df_interest_E.loc[df_interest_E['season'] == 'spring', 'B02_spring'] = df_interest_E['B02_median']\n",
        "\n",
        "df_interest_E.loc[df_interest_E['season'] == 'summer', 'B06_summer'] = df_interest_E['B06_median']  \n",
        "df_interest_E.loc[df_interest_E['season'] == 'autumn', 'B06_autumn'] = df_interest_E['B06_median']\n",
        "df_interest_E.loc[df_interest_E['season'] == 'winter', 'B06_winter'] = df_interest_E['B06_median']\n",
        "df_interest_E.loc[df_interest_E['season'] == 'spring', 'B06_spring'] = df_interest_E['B06_median']\n",
        "\n",
        "df_interest_E.loc[df_interest_E['season'] == 'summer', 'B11_summer'] = df_interest_E['B11_median']  \n",
        "df_interest_E.loc[df_interest_E['season'] == 'autumn', 'B11_autumn'] = df_interest_E['B11_median']\n",
        "df_interest_E.loc[df_interest_E['season'] == 'winter', 'B11_winter'] = df_interest_E['B11_median']\n",
        "df_interest_E.loc[df_interest_E['season'] == 'spring', 'B11_spring'] = df_interest_E['B11_median']\n",
        "\n",
        "# Aplicamos la función de detección de outliers\n",
        "find_outliers(df_interest_E, Season_values)\n",
        "\n",
        "# Se quitan aquellos registros donde se observa que para las tres bandas bajo análisis (en cada estación), \n",
        "# los valores son outliers (valor = 1)\n",
        "df_interest_E2_summer = df_interest_E[~((df_interest_E['outl_B02_summer']==1) & (df_interest_E['outl_B06_summer']==1) & \n",
        "                        (df_interest_E['outl_B11_summer']==1))]\n",
        "print(len(df_interest_E2_summer))\n",
        "\n",
        "df_interest_E2_autumn = df_interest_E2_summer[~((df_interest_E2_summer['outl_B02_autumn']==1) & \n",
        "                        (df_interest_E2_summer['outl_B06_autumn']==1) & (df_interest_E2_summer['outl_B11_autumn']==1))]\n",
        "print(len(df_interest_E2_autumn))\n",
        "\n",
        "df_interest_E2_winter = df_interest_E2_autumn[~((df_interest_E2_autumn['outl_B02_winter']==1) & \n",
        "                        (df_interest_E2_autumn['outl_B06_winter']==1) & (df_interest_E2_autumn['outl_B11_winter']==1))]\n",
        "print(len(df_interest_E2_winter))\n",
        "\n",
        "df_interest_E2_spring = df_interest_E2_winter[~((df_interest_E2_winter['outl_B02_spring']==1) & \n",
        "                        (df_interest_E2_winter['outl_B06_spring']==1) & (df_interest_E2_winter['outl_B11_spring']==1))]\n",
        "print(len(df_interest_E2_spring))\n",
        "\n"
      ],
      "metadata": {
        "colab": {
          "base_uri": "https://localhost:8080/"
        },
        "id": "44tGrGiDUaJK",
        "outputId": "8b12384b-a17f-4311-85dc-518fe2fdfb05"
      },
      "id": "44tGrGiDUaJK",
      "execution_count": 15,
      "outputs": [
        {
          "output_type": "stream",
          "name": "stderr",
          "text": [
            "/usr/local/lib/python3.7/dist-packages/ipykernel_launcher.py:3: SettingWithCopyWarning: \n",
            "A value is trying to be set on a copy of a slice from a DataFrame.\n",
            "Try using .loc[row_indexer,col_indexer] = value instead\n",
            "\n",
            "See the caveats in the documentation: https://pandas.pydata.org/pandas-docs/stable/user_guide/indexing.html#returning-a-view-versus-a-copy\n",
            "  This is separate from the ipykernel package so we can avoid doing imports until\n",
            "/usr/local/lib/python3.7/dist-packages/ipykernel_launcher.py:6: SettingWithCopyWarning: \n",
            "A value is trying to be set on a copy of a slice from a DataFrame.\n",
            "Try using .loc[row_indexer,col_indexer] = value instead\n",
            "\n",
            "See the caveats in the documentation: https://pandas.pydata.org/pandas-docs/stable/user_guide/indexing.html#returning-a-view-versus-a-copy\n",
            "  \n",
            "/usr/local/lib/python3.7/dist-packages/ipykernel_launcher.py:21: SettingWithCopyWarning: \n",
            "A value is trying to be set on a copy of a slice from a DataFrame.\n",
            "Try using .loc[row_indexer,col_indexer] = value instead\n",
            "\n",
            "See the caveats in the documentation: https://pandas.pydata.org/pandas-docs/stable/user_guide/indexing.html#returning-a-view-versus-a-copy\n"
          ]
        },
        {
          "output_type": "stream",
          "name": "stdout",
          "text": [
            "94992\n",
            "93272\n",
            "91959\n",
            "90663\n",
            "time: 389 ms (started: 2022-09-04 19:21:48 +00:00)\n"
          ]
        },
        {
          "output_type": "stream",
          "name": "stderr",
          "text": [
            "/usr/local/lib/python3.7/dist-packages/ipykernel_launcher.py:33: SettingWithCopyWarning: \n",
            "A value is trying to be set on a copy of a slice from a DataFrame.\n",
            "Try using .loc[row_indexer,col_indexer] = value instead\n",
            "\n",
            "See the caveats in the documentation: https://pandas.pydata.org/pandas-docs/stable/user_guide/indexing.html#returning-a-view-versus-a-copy\n"
          ]
        }
      ]
    },
    {
      "cell_type": "markdown",
      "source": [
        "###Dividimos el conjunto de datos por estación"
      ],
      "metadata": {
        "id": "oUkyiv4ZXvFP"
      },
      "id": "oUkyiv4ZXvFP"
    },
    {
      "cell_type": "code",
      "source": [
        "df_interest_summer_NV = df_interest_E2_spring[df_interest_E2_spring['season']==\"summer\"]\n",
        "df_interest_autumn_NV = df_interest_E2_spring[df_interest_E2_spring['season']==\"autumn\"]\n",
        "df_interest_winter_NV = df_interest_E2_spring[df_interest_E2_spring['season']==\"winter\"]\n",
        "df_interest_spring_NV = df_interest_E2_spring[df_interest_E2_spring['season']==\"spring\"]"
      ],
      "metadata": {
        "id": "D8SGdOd1wnYd",
        "colab": {
          "base_uri": "https://localhost:8080/"
        },
        "outputId": "8c09253a-2503-40b3-e00b-8b29224c8944"
      },
      "id": "D8SGdOd1wnYd",
      "execution_count": 16,
      "outputs": [
        {
          "output_type": "stream",
          "name": "stdout",
          "text": [
            "time: 54.5 ms (started: 2022-09-04 19:21:48 +00:00)\n"
          ]
        }
      ]
    },
    {
      "cell_type": "markdown",
      "source": [
        "Seleccionamos las columnas de interés para cada subconjunto"
      ],
      "metadata": {
        "id": "Y0chvQ6wznk-"
      },
      "id": "Y0chvQ6wznk-"
    },
    {
      "cell_type": "code",
      "source": [
        "df_summer = df_interest_summer[['B02_median', 'B06_median', 'B11_median','area_m2', 'ndvi_max'\n",
        "       , 'clouds_on_raster']]\n",
        "df_autumn = df_interest_autumn[['B02_median', 'B06_median', 'B11_median','area_m2', 'ndvi_max'\n",
        "       , 'clouds_on_raster']]  \n",
        "df_winter = df_interest_winter[['B02_median', 'B06_median', 'B11_median','area_m2', 'ndvi_max'\n",
        "       , 'clouds_on_raster']]\n",
        "df_spring = df_interest_spring[['B02_median', 'B06_median', 'B11_median','area_m2', 'ndvi_max'\n",
        "       , 'clouds_on_raster']]  \n",
        "\n",
        "df_summer_NV = df_interest_summer_NV[['B02_median', 'B06_median', 'B11_median','area_m2', 'ndvi_max'\n",
        "       , 'clouds_on_raster']]\n",
        "df_autumn_NV = df_interest_autumn_NV[['B02_median', 'B06_median', 'B11_median','area_m2', 'ndvi_max'\n",
        "       , 'clouds_on_raster']]  \n",
        "df_winter_NV = df_interest_winter_NV[['B02_median', 'B06_median', 'B11_median','area_m2', 'ndvi_max'\n",
        "       , 'clouds_on_raster']]\n",
        "df_spring_NV = df_interest_spring_NV[['B02_median', 'B06_median', 'B11_median','area_m2', 'ndvi_max'\n",
        "       , 'clouds_on_raster']]                            "
      ],
      "metadata": {
        "id": "yyhnlPcizlgK",
        "colab": {
          "base_uri": "https://localhost:8080/"
        },
        "outputId": "f0379225-bcc3-4d70-be10-c7f69eea7af0"
      },
      "id": "yyhnlPcizlgK",
      "execution_count": 17,
      "outputs": [
        {
          "output_type": "stream",
          "name": "stdout",
          "text": [
            "time: 19 ms (started: 2022-09-04 19:21:48 +00:00)\n"
          ]
        }
      ]
    },
    {
      "cell_type": "markdown",
      "source": [
        "Filtramos por nubosidad"
      ],
      "metadata": {
        "id": "7zulvi-r2lY-"
      },
      "id": "7zulvi-r2lY-"
    },
    {
      "cell_type": "code",
      "source": [
        "# Filtramos por nubosidad < 30%\n",
        "\n",
        "#Espacio Verde\n",
        "df_summer_clouds = df_summer[df_summer['clouds_on_raster']<30]\n",
        "df_autumn_clouds = df_autumn[df_autumn['clouds_on_raster']<30]\n",
        "df_winter_clouds = df_winter[df_winter['clouds_on_raster']<30]\n",
        "df_spring_clouds = df_spring[df_spring['clouds_on_raster']<30]\n",
        "\n",
        "#Espacio No Verde\n",
        "df_summer_clouds_NV = df_summer_NV[df_summer_NV['clouds_on_raster']<30]\n",
        "df_autumn_clouds_NV = df_autumn_NV[df_autumn_NV['clouds_on_raster']<30]\n",
        "df_winter_clouds_NV = df_winter_NV[df_winter_NV['clouds_on_raster']<30]\n",
        "df_spring_clouds_NV = df_spring_NV[df_spring_NV['clouds_on_raster']<30]"
      ],
      "metadata": {
        "colab": {
          "base_uri": "https://localhost:8080/"
        },
        "id": "7tLvXRDEjcou",
        "outputId": "5945590d-7bc1-42f1-837d-acef3a725e52"
      },
      "id": "7tLvXRDEjcou",
      "execution_count": 18,
      "outputs": [
        {
          "output_type": "stream",
          "name": "stdout",
          "text": [
            "time: 23.3 ms (started: 2022-09-04 19:21:48 +00:00)\n"
          ]
        }
      ]
    },
    {
      "cell_type": "code",
      "source": [
        "# Graficamos registros faltantes de ambos espacios\n",
        "plt.figure(figsize=(12,10))\n",
        "plt.suptitle('Registros faltantes para cada subconjunto del Espacio Verde', x=0.5, y=1.05, fontsize=23)\n",
        "\n",
        "plt.subplot(2, 2, 1)\n",
        "msno.bar(df_summer_clouds,figsize=(14, 6), sort=\"ascending\",fontsize=12, color='red')\n",
        "plt.title('Subconjunto Verano', pad=16)\n",
        "\n",
        "plt.subplot(2, 2, 2)\n",
        "msno.bar(df_winter_clouds,figsize=(14, 6), sort=\"ascending\",fontsize=12, color='blue')\n",
        "plt.title('Subconjunto Invierno', pad=16)\n",
        "plt.tight_layout(h_pad=10, w_pad=3)\n",
        "\n",
        "plt.subplot(2, 2, 3)\n",
        "msno.bar(df_autumn_clouds,figsize=(14, 6), sort=\"ascending\",fontsize=12, color='coral')\n",
        "plt.title('Subconjunto Otoño', pad=16)\n",
        "\n",
        "plt.subplot(2, 2, 4)\n",
        "msno.bar(df_spring_clouds,figsize=(14, 6), sort=\"ascending\",fontsize=12, color='green')\n",
        "plt.title('Subconjunto Primavera', pad=16);\n",
        "\n",
        "# Graficamos registros faltantes para Espacio No Verde\n",
        "plt.figure(figsize=(12,10))\n",
        "plt.suptitle('Registros faltantes para cada subconjunto del Espacio No Verde', x=0.5, y=1.05, fontsize=23)\n",
        "\n",
        "plt.subplot(2, 2, 1)\n",
        "msno.bar(df_summer_clouds_NV,figsize=(14, 6), sort=\"ascending\",fontsize=12, color='red')\n",
        "plt.title('Subconjunto Verano', pad=16)\n",
        "\n",
        "plt.subplot(2, 2, 2)\n",
        "msno.bar(df_winter_clouds_NV,figsize=(14, 6), sort=\"ascending\",fontsize=12, color='blue')\n",
        "plt.title('Subconjunto Invierno', pad=16)\n",
        "plt.tight_layout(h_pad=9, w_pad=3)\n",
        "\n",
        "plt.subplot(2, 2, 3)\n",
        "msno.bar(df_autumn_clouds_NV,figsize=(14, 6), sort=\"ascending\",fontsize=12, color='coral')\n",
        "plt.title('Subconjunto Otoño', pad=16)\n",
        "\n",
        "plt.subplot(2, 2, 4)\n",
        "msno.bar(df_spring_clouds_NV,figsize=(14, 6), sort=\"ascending\",fontsize=12, color='green')\n",
        "plt.title('Subconjunto Primavera', pad=16);"
      ],
      "metadata": {
        "colab": {
          "base_uri": "https://localhost:8080/",
          "height": 1000
        },
        "id": "Z71zj5TFk5Aw",
        "outputId": "846d6da5-88cb-4389-e82f-034d5b0d5934"
      },
      "id": "Z71zj5TFk5Aw",
      "execution_count": 82,
      "outputs": [
        {
          "output_type": "display_data",
          "data": {
            "text/plain": [
              "<Figure size 1008x432 with 12 Axes>"
            ],
            "image/png": "[encoded data removed]"
          },
          "metadata": {
            "needs_background": "light"
          }
        },
        {
          "output_type": "display_data",
          "data": {
            "text/plain": [
              "<Figure size 1008x432 with 12 Axes>"
            ],
            "image/png": "[encoded data removed]"
          },
          "metadata": {
            "needs_background": "light"
          }
        },
        {
          "output_type": "stream",
          "name": "stdout",
          "text": [
            "time: 7.02 s (started: 2022-09-04 21:38:16 +00:00)\n"
          ]
        }
      ]
    },
    {
      "cell_type": "markdown",
      "source": [
        "###Realizamos Imputación bajo el criterio del K-vecino más cercano"
      ],
      "metadata": {
        "id": "r14YwYTmmbft"
      },
      "id": "r14YwYTmmbft"
    },
    {
      "cell_type": "code",
      "source": [
        "cols= ['ndvi_max', 'B02_median', 'B06_median', 'B11_median']"
      ],
      "metadata": {
        "colab": {
          "base_uri": "https://localhost:8080/"
        },
        "id": "0iG-0qealS4e",
        "outputId": "e0a05a53-a3a4-40d3-cff9-4fc4cf9022eb"
      },
      "id": "0iG-0qealS4e",
      "execution_count": 20,
      "outputs": [
        {
          "output_type": "stream",
          "name": "stdout",
          "text": [
            "time: 1.05 ms (started: 2022-09-04 19:21:57 +00:00)\n"
          ]
        }
      ]
    },
    {
      "cell_type": "code",
      "source": [
        "kn_imputer = IterativeImputer(random_state=0, estimator=KNeighborsRegressor())\n",
        "\n",
        "############Espacio Verde##############\n",
        "#Subconjunto verano\n",
        "df_imp_summer = df_summer_clouds.copy()\n",
        "df_imp_summer[cols] = kn_imputer.fit_transform(df_imp_summer[cols])\n",
        "\n",
        "#Subconjunto otoño\n",
        "df_imp_autumn = df_autumn_clouds.copy()\n",
        "df_imp_autumn[cols] = kn_imputer.fit_transform(df_imp_autumn[cols])\n",
        "\n",
        "#Subconjunto invierno\n",
        "df_imp_winter = df_winter_clouds.copy()\n",
        "df_imp_winter[cols] = kn_imputer.fit_transform(df_imp_winter[cols])\n",
        "\n",
        "#Subconjunto primavera\n",
        "df_imp_spring = df_spring_clouds.copy()\n",
        "df_imp_spring[cols] = kn_imputer.fit_transform(df_imp_spring[cols])\n",
        "\n",
        "############## Espacio No Verde ###########\n",
        "#Subconjunto verano\n",
        "df_imp_summer_NV = df_summer_clouds_NV.copy()\n",
        "df_imp_summer_NV[cols] = kn_imputer.fit_transform(df_imp_summer_NV[cols])\n",
        "\n",
        "#Subconjunto otoño\n",
        "df_imp_autumn_NV = df_autumn_clouds_NV.copy()\n",
        "df_imp_autumn_NV[cols] = kn_imputer.fit_transform(df_imp_autumn_NV[cols])\n",
        "\n",
        "#Subconjunto invierno\n",
        "df_imp_winter_NV = df_winter_clouds_NV.copy()\n",
        "df_imp_winter_NV[cols] = kn_imputer.fit_transform(df_imp_winter_NV[cols])\n",
        "\n",
        "#Subconjunto primavera\n",
        "df_imp_spring_NV = df_spring_clouds.copy()\n",
        "df_imp_spring_NV[cols] = kn_imputer.fit_transform(df_imp_spring_NV[cols])"
      ],
      "metadata": {
        "colab": {
          "base_uri": "https://localhost:8080/"
        },
        "id": "R9fxZR6cnLYC",
        "outputId": "68c1ec94-a7ea-4b82-df99-95395dd7d4c7"
      },
      "id": "R9fxZR6cnLYC",
      "execution_count": 83,
      "outputs": [
        {
          "output_type": "stream",
          "name": "stderr",
          "text": [
            "/usr/local/lib/python3.7/dist-packages/sklearn/impute/_iterative.py:701: ConvergenceWarning: [IterativeImputer] Early stopping criterion not reached.\n",
            "  ConvergenceWarning,\n",
            "/usr/local/lib/python3.7/dist-packages/sklearn/impute/_iterative.py:701: ConvergenceWarning: [IterativeImputer] Early stopping criterion not reached.\n",
            "  ConvergenceWarning,\n",
            "/usr/local/lib/python3.7/dist-packages/sklearn/impute/_iterative.py:701: ConvergenceWarning: [IterativeImputer] Early stopping criterion not reached.\n",
            "  ConvergenceWarning,\n",
            "/usr/local/lib/python3.7/dist-packages/sklearn/impute/_iterative.py:701: ConvergenceWarning: [IterativeImputer] Early stopping criterion not reached.\n",
            "  ConvergenceWarning,\n",
            "/usr/local/lib/python3.7/dist-packages/sklearn/impute/_iterative.py:701: ConvergenceWarning: [IterativeImputer] Early stopping criterion not reached.\n",
            "  ConvergenceWarning,\n",
            "/usr/local/lib/python3.7/dist-packages/sklearn/impute/_iterative.py:701: ConvergenceWarning: [IterativeImputer] Early stopping criterion not reached.\n",
            "  ConvergenceWarning,\n",
            "/usr/local/lib/python3.7/dist-packages/sklearn/impute/_iterative.py:701: ConvergenceWarning: [IterativeImputer] Early stopping criterion not reached.\n",
            "  ConvergenceWarning,\n"
          ]
        },
        {
          "output_type": "stream",
          "name": "stdout",
          "text": [
            "time: 8.68 s (started: 2022-09-04 21:39:08 +00:00)\n"
          ]
        },
        {
          "output_type": "stream",
          "name": "stderr",
          "text": [
            "/usr/local/lib/python3.7/dist-packages/sklearn/impute/_iterative.py:701: ConvergenceWarning: [IterativeImputer] Early stopping criterion not reached.\n",
            "  ConvergenceWarning,\n"
          ]
        }
      ]
    },
    {
      "cell_type": "code",
      "source": [
        "# Gráficas para ambos espacios\n",
        "\n",
        "##############Espacio No Verde##############\n",
        "plt.figure(figsize=(12,10))\n",
        "plt.suptitle('Registros imputados para subconjuntos de Espacio Verde', x=0.5, y=1.05, fontsize=23)\n",
        "\n",
        "plt.subplot(2, 2, 1)\n",
        "msno.bar(df_imp_summer,figsize=(14, 6), sort=\"ascending\",fontsize=12, color='red')\n",
        "plt.title('Subconjunto Verano', pad=16)\n",
        "\n",
        "plt.subplot(2, 2, 2)\n",
        "msno.bar(df_imp_winter,figsize=(14, 6), sort=\"ascending\",fontsize=12, color='blue')\n",
        "plt.title('Subconjunto Invierno', pad=16)\n",
        "plt.tight_layout(h_pad=5, w_pad=3)\n",
        "\n",
        "plt.subplot(2, 2, 3)\n",
        "msno.bar(df_imp_autumn,figsize=(14, 6), sort=\"ascending\",fontsize=12, color='coral')\n",
        "plt.title('Subconjunto Otoño', pad=16)\n",
        "\n",
        "plt.subplot(2, 2, 4)\n",
        "msno.bar(df_imp_spring,figsize=(14, 6), sort=\"ascending\",fontsize=12, color='green')\n",
        "plt.title('Subconjunto Primavera', pad=16)\n",
        "\n",
        "##############Espacio No Verde##############\n",
        "plt.figure(figsize=(12,10))\n",
        "plt.suptitle('Registros imputados para subconjuntos de Espacio No Verde', x=0.5, y=1.05, fontsize=23)\n",
        "\n",
        "plt.subplot(2, 2, 1)\n",
        "msno.bar(df_imp_summer_NV,figsize=(14, 6), sort=\"ascending\",fontsize=12, color='red')\n",
        "plt.title('Subconjunto Verano', pad=16)\n",
        "\n",
        "plt.subplot(2, 2, 2)\n",
        "msno.bar(df_imp_winter_NV,figsize=(14, 6), sort=\"ascending\",fontsize=12, color='blue')\n",
        "plt.title('Subconjunto Invierno', pad=16)\n",
        "plt.tight_layout(h_pad=5, w_pad=3)\n",
        "\n",
        "plt.subplot(2, 2, 3)\n",
        "msno.bar(df_imp_autumn_NV,figsize=(14, 6), sort=\"ascending\",fontsize=12, color='coral')\n",
        "plt.title('Subconjunto Otoño', pad=16)\n",
        "\n",
        "plt.subplot(2, 2, 4)\n",
        "msno.bar(df_imp_spring_NV,figsize=(14, 6), sort=\"ascending\",fontsize=12, color='green')\n",
        "plt.title('Subconjunto Primavera', pad=16);"
      ],
      "metadata": {
        "colab": {
          "base_uri": "https://localhost:8080/",
          "height": 1000
        },
        "id": "Opekw1kNpZaN",
        "outputId": "854a8a20-18a7-4fad-ebc1-94104b2831e1"
      },
      "id": "Opekw1kNpZaN",
      "execution_count": 84,
      "outputs": [
        {
          "output_type": "display_data",
          "data": {
            "text/plain": [
              "<Figure size 1008x432 with 12 Axes>"
            ],
            "image/png": "[encoded data removed]"
          },
          "metadata": {
            "needs_background": "light"
          }
        },
        {
          "output_type": "display_data",
          "data": {
            "text/plain": [
              "<Figure size 1008x432 with 12 Axes>"
            ],
            "image/png": "[encoded data removed]"
          },
          "metadata": {
            "needs_background": "light"
          }
        },
        {
          "output_type": "stream",
          "name": "stdout",
          "text": [
            "time: 6.26 s (started: 2022-09-04 21:39:44 +00:00)\n"
          ]
        }
      ]
    },
    {
      "cell_type": "markdown",
      "source": [
        "###Actualizamos los subconjuntos con la asignacion de clase"
      ],
      "metadata": {
        "id": "d_c97EPpqC7O"
      },
      "id": "d_c97EPpqC7O"
    },
    {
      "cell_type": "code",
      "source": [
        "df_imp_summer['clasif_']=1 # espacio verde\n",
        "df_imp_summer_NV['clasif_']=0 # espacio NO verde -> En primera instancia suponemos todos espacios no verdes\n",
        "df_imp_autumn['clasif_']=1 \n",
        "df_imp_autumn_NV['clasif_']=0 \n",
        "df_imp_winter['clasif_']=1 \n",
        "df_imp_winter_NV['clasif_']=0 \n",
        "df_imp_spring['clasif_']=1 \n",
        "df_imp_spring_NV['clasif_']=0 "
      ],
      "metadata": {
        "id": "wVwUWoKIEq5L",
        "colab": {
          "base_uri": "https://localhost:8080/"
        },
        "outputId": "b842d369-0e55-4d49-892d-34fafad4eaa8"
      },
      "id": "wVwUWoKIEq5L",
      "execution_count": 25,
      "outputs": [
        {
          "output_type": "stream",
          "name": "stdout",
          "text": [
            "time: 15.1 ms (started: 2022-09-04 19:26:02 +00:00)\n"
          ]
        }
      ]
    },
    {
      "cell_type": "code",
      "source": [
        "df_imp_summer"
      ],
      "metadata": {
        "colab": {
          "base_uri": "https://localhost:8080/",
          "height": 425
        },
        "id": "GeOausTCqfp3",
        "outputId": "2fac324e-e05a-4a04-bffb-8ef8250e8985"
      },
      "id": "GeOausTCqfp3",
      "execution_count": 26,
      "outputs": [
        {
          "output_type": "execute_result",
          "data": {
            "text/plain": [
              "        B02_median  B06_median  B11_median      area_m2  ndvi_max  \\\n",
              "0          0.09650     0.19910     0.18770  4650.710032  0.630881   \n",
              "1          0.10660     0.25960     0.25420  1502.000513  0.630041   \n",
              "2          0.11290     0.25550     0.24640  2004.192528  0.622036   \n",
              "3          0.11355     0.29300     0.26675  6940.507640  0.669891   \n",
              "4          0.12240     0.29460     0.28950  4587.356048  0.619112   \n",
              "...            ...         ...         ...          ...       ...   \n",
              "206656     0.11340     0.24830     0.21750  3658.725375  0.640479   \n",
              "206657     0.09960     0.21480     0.18920  3824.467794  0.631148   \n",
              "206658     0.12070     0.26915     0.25760  7184.535857  0.590711   \n",
              "206659     0.09600     0.24465     0.21770  1147.997645  0.665411   \n",
              "206660     0.11320     0.23620     0.23950  1611.043847  0.581990   \n",
              "\n",
              "        clouds_on_raster  clasif_  \n",
              "0                    0.0        1  \n",
              "1                    0.0        1  \n",
              "2                    0.0        1  \n",
              "3                    0.0        1  \n",
              "4                    0.0        1  \n",
              "...                  ...      ...  \n",
              "206656               0.0        1  \n",
              "206657               0.0        1  \n",
              "206658               0.0        1  \n",
              "206659               0.0        1  \n",
              "206660               0.0        1  \n",
              "\n",
              "[43289 rows x 7 columns]"
            ],
            "text/html": [
              "\n",
              "  <div id=\"df-674ee683-40a7-4d91-9546-22f6086b5ef5\">\n",
              "    <div class=\"colab-df-container\">\n",
              "      <div>\n",
              "<style scoped>\n",
              "    .dataframe tbody tr th:only-of-type {\n",
              "        vertical-align: middle;\n",
              "    }\n",
              "\n",
              "    .dataframe tbody tr th {\n",
              "        vertical-align: top;\n",
              "    }\n",
              "\n",
              "    .dataframe thead th {\n",
              "        text-align: right;\n",
              "    }\n",
              "</style>\n",
              "<table border=\"1\" class=\"dataframe\">\n",
              "  <thead>\n",
              "    <tr style=\"text-align: right;\">\n",
              "      <th></th>\n",
              "      <th>B02_median</th>\n",
              "      <th>B06_median</th>\n",
              "      <th>B11_median</th>\n",
              "      <th>area_m2</th>\n",
              "      <th>ndvi_max</th>\n",
              "      <th>clouds_on_raster</th>\n",
              "      <th>clasif_</th>\n",
              "    </tr>\n",
              "  </thead>\n",
              "  <tbody>\n",
              "    <tr>\n",
              "      <th>0</th>\n",
              "      <td>0.09650</td>\n",
              "      <td>0.19910</td>\n",
              "      <td>0.18770</td>\n",
              "      <td>4650.710032</td>\n",
              "      <td>0.630881</td>\n",
              "      <td>0.0</td>\n",
              "      <td>1</td>\n",
              "    </tr>\n",
              "    <tr>\n",
              "      <th>1</th>\n",
              "      <td>0.10660</td>\n",
              "      <td>0.25960</td>\n",
              "      <td>0.25420</td>\n",
              "      <td>1502.000513</td>\n",
              "      <td>0.630041</td>\n",
              "      <td>0.0</td>\n",
              "      <td>1</td>\n",
              "    </tr>\n",
              "    <tr>\n",
              "      <th>2</th>\n",
              "      <td>0.11290</td>\n",
              "      <td>0.25550</td>\n",
              "      <td>0.24640</td>\n",
              "      <td>2004.192528</td>\n",
              "      <td>0.622036</td>\n",
              "      <td>0.0</td>\n",
              "      <td>1</td>\n",
              "    </tr>\n",
              "    <tr>\n",
              "      <th>3</th>\n",
              "      <td>0.11355</td>\n",
              "      <td>0.29300</td>\n",
              "      <td>0.26675</td>\n",
              "      <td>6940.507640</td>\n",
              "      <td>0.669891</td>\n",
              "      <td>0.0</td>\n",
              "      <td>1</td>\n",
              "    </tr>\n",
              "    <tr>\n",
              "      <th>4</th>\n",
              "      <td>0.12240</td>\n",
              "      <td>0.29460</td>\n",
              "      <td>0.28950</td>\n",
              "      <td>4587.356048</td>\n",
              "      <td>0.619112</td>\n",
              "      <td>0.0</td>\n",
              "      <td>1</td>\n",
              "    </tr>\n",
              "    <tr>\n",
              "      <th>...</th>\n",
              "      <td>...</td>\n",
              "      <td>...</td>\n",
              "      <td>...</td>\n",
              "      <td>...</td>\n",
              "      <td>...</td>\n",
              "      <td>...</td>\n",
              "      <td>...</td>\n",
              "    </tr>\n",
              "    <tr>\n",
              "      <th>206656</th>\n",
              "      <td>0.11340</td>\n",
              "      <td>0.24830</td>\n",
              "      <td>0.21750</td>\n",
              "      <td>3658.725375</td>\n",
              "      <td>0.640479</td>\n",
              "      <td>0.0</td>\n",
              "      <td>1</td>\n",
              "    </tr>\n",
              "    <tr>\n",
              "      <th>206657</th>\n",
              "      <td>0.09960</td>\n",
              "      <td>0.21480</td>\n",
              "      <td>0.18920</td>\n",
              "      <td>3824.467794</td>\n",
              "      <td>0.631148</td>\n",
              "      <td>0.0</td>\n",
              "      <td>1</td>\n",
              "    </tr>\n",
              "    <tr>\n",
              "      <th>206658</th>\n",
              "      <td>0.12070</td>\n",
              "      <td>0.26915</td>\n",
              "      <td>0.25760</td>\n",
              "      <td>7184.535857</td>\n",
              "      <td>0.590711</td>\n",
              "      <td>0.0</td>\n",
              "      <td>1</td>\n",
              "    </tr>\n",
              "    <tr>\n",
              "      <th>206659</th>\n",
              "      <td>0.09600</td>\n",
              "      <td>0.24465</td>\n",
              "      <td>0.21770</td>\n",
              "      <td>1147.997645</td>\n",
              "      <td>0.665411</td>\n",
              "      <td>0.0</td>\n",
              "      <td>1</td>\n",
              "    </tr>\n",
              "    <tr>\n",
              "      <th>206660</th>\n",
              "      <td>0.11320</td>\n",
              "      <td>0.23620</td>\n",
              "      <td>0.23950</td>\n",
              "      <td>1611.043847</td>\n",
              "      <td>0.581990</td>\n",
              "      <td>0.0</td>\n",
              "      <td>1</td>\n",
              "    </tr>\n",
              "  </tbody>\n",
              "</table>\n",
              "<p>43289 rows × 7 columns</p>\n",
              "</div>\n",
              "      <button class=\"colab-df-convert\" onclick=\"convertToInteractive('df-674ee683-40a7-4d91-9546-22f6086b5ef5')\"\n",
              "              title=\"Convert this dataframe to an interactive table.\"\n",
              "              style=\"display:none;\">\n",
              "        \n",
              "  <svg xmlns=\"http://www.w3.org/2000/svg\" height=\"24px\"viewBox=\"0 0 24 24\"\n",
              "       width=\"24px\">\n",
              "    <path d=\"M0 0h24v24H0V0z\" fill=\"none\"/>\n",
              "    <path d=\"M18.56 5.44l.94 2.06.94-2.06 2.06-.94-2.06-.94-.94-2.06-.94 2.06-2.06.94zm-11 1L8.5 8.5l.94-2.06 2.06-.94-2.06-.94L8.5 2.5l-.94 2.06-2.06.94zm10 10l.94 2.06.94-2.06 2.06-.94-2.06-.94-.94-2.06-.94 2.06-2.06.94z\"/><path d=\"M17.41 7.96l-1.37-1.37c-.4-.4-.92-.59-1.43-.59-.52 0-1.04.2-1.43.59L10.3 9.45l-7.72 7.72c-.78.78-.78 2.05 0 2.83L4 21.41c.39.39.9.59 1.41.59.51 0 1.02-.2 1.41-.59l7.78-7.78 2.81-2.81c.8-.78.8-2.07 0-2.86zM5.41 20L4 18.59l7.72-7.72 1.47 1.35L5.41 20z\"/>\n",
              "  </svg>\n",
              "      </button>\n",
              "      \n",
              "  <style>\n",
              "    .colab-df-container {\n",
              "      display:flex;\n",
              "      flex-wrap:wrap;\n",
              "      gap: 12px;\n",
              "    }\n",
              "\n",
              "    .colab-df-convert {\n",
              "      background-color: #E8F0FE;\n",
              "      border: none;\n",
              "      border-radius: 50%;\n",
              "      cursor: pointer;\n",
              "      display: none;\n",
              "      fill: #1967D2;\n",
              "      height: 32px;\n",
              "      padding: 0 0 0 0;\n",
              "      width: 32px;\n",
              "    }\n",
              "\n",
              "    .colab-df-convert:hover {\n",
              "      background-color: #E2EBFA;\n",
              "      box-shadow: 0px 1px 2px rgba(60, 64, 67, 0.3), 0px 1px 3px 1px rgba(60, 64, 67, 0.15);\n",
              "      fill: #174EA6;\n",
              "    }\n",
              "\n",
              "    [theme=dark] .colab-df-convert {\n",
              "      background-color: #3B4455;\n",
              "      fill: #D2E3FC;\n",
              "    }\n",
              "\n",
              "    [theme=dark] .colab-df-convert:hover {\n",
              "      background-color: #434B5C;\n",
              "      box-shadow: 0px 1px 3px 1px rgba(0, 0, 0, 0.15);\n",
              "      filter: drop-shadow(0px 1px 2px rgba(0, 0, 0, 0.3));\n",
              "      fill: #FFFFFF;\n",
              "    }\n",
              "  </style>\n",
              "\n",
              "      <script>\n",
              "        const buttonEl =\n",
              "          document.querySelector('#df-674ee683-40a7-4d91-9546-22f6086b5ef5 button.colab-df-convert');\n",
              "        buttonEl.style.display =\n",
              "          google.colab.kernel.accessAllowed ? 'block' : 'none';\n",
              "\n",
              "        async function convertToInteractive(key) {\n",
              "          const element = document.querySelector('#df-674ee683-40a7-4d91-9546-22f6086b5ef5');\n",
              "          const dataTable =\n",
              "            await google.colab.kernel.invokeFunction('convertToInteractive',\n",
              "                                                     [key], {});\n",
              "          if (!dataTable) return;\n",
              "\n",
              "          const docLinkHtml = 'Like what you see? Visit the ' +\n",
              "            '<a target=\"_blank\" href=https://colab.research.google.com/notebooks/data_table.ipynb>data table notebook</a>'\n",
              "            + ' to learn more about interactive tables.';\n",
              "          element.innerHTML = '';\n",
              "          dataTable['output_type'] = 'display_data';\n",
              "          await google.colab.output.renderOutput(dataTable, element);\n",
              "          const docLink = document.createElement('div');\n",
              "          docLink.innerHTML = docLinkHtml;\n",
              "          element.appendChild(docLink);\n",
              "        }\n",
              "      </script>\n",
              "    </div>\n",
              "  </div>\n",
              "  "
            ]
          },
          "metadata": {},
          "execution_count": 26
        },
        {
          "output_type": "stream",
          "name": "stdout",
          "text": [
            "time: 27.3 ms (started: 2022-09-04 19:26:02 +00:00)\n"
          ]
        }
      ]
    },
    {
      "cell_type": "code",
      "source": [
        "#Unimos subconjuntos de espacio verde y no verde para cada estación\n",
        "df_1sum =pd.concat([df_imp_summer,df_imp_summer_NV],axis=0)\n",
        "df_2aut =pd.concat([df_imp_autumn,df_imp_autumn_NV],axis=0)\n",
        "df_3win =pd.concat([df_imp_winter,df_imp_winter_NV],axis=0)\n",
        "df_4spr =pd.concat([df_imp_spring,df_imp_spring_NV],axis=0)"
      ],
      "metadata": {
        "id": "_g1JVT7-B3IX",
        "colab": {
          "base_uri": "https://localhost:8080/"
        },
        "outputId": "58631a9b-a130-445f-a1db-7769fdb82a83"
      },
      "id": "_g1JVT7-B3IX",
      "execution_count": 27,
      "outputs": [
        {
          "output_type": "stream",
          "name": "stdout",
          "text": [
            "time: 25.7 ms (started: 2022-09-04 19:26:02 +00:00)\n"
          ]
        }
      ]
    },
    {
      "cell_type": "markdown",
      "source": [
        "Eliminamos la columna correspondiente a nubes y área, ya que no tiene relevancia para el entrenamiento de modelos"
      ],
      "metadata": {
        "id": "7pxJXvjEwmsb"
      },
      "id": "7pxJXvjEwmsb"
    },
    {
      "cell_type": "code",
      "source": [
        "df_1sum = df_1sum.drop(columns=['clouds_on_raster','area_m2'])\n",
        "df_2aut = df_2aut.drop(columns=['clouds_on_raster','area_m2'])\n",
        "df_3win = df_3win.drop(columns=['clouds_on_raster','area_m2'])\n",
        "df_4spr = df_4spr.drop(columns=['clouds_on_raster','area_m2'])"
      ],
      "metadata": {
        "colab": {
          "base_uri": "https://localhost:8080/"
        },
        "id": "X3B-v4ljLWBW",
        "outputId": "abe8a4e0-2c5a-4e81-c0d4-1530dc0b6bc2"
      },
      "id": "X3B-v4ljLWBW",
      "execution_count": 28,
      "outputs": [
        {
          "output_type": "stream",
          "name": "stdout",
          "text": [
            "time: 15 ms (started: 2022-09-04 19:26:03 +00:00)\n"
          ]
        }
      ]
    },
    {
      "cell_type": "code",
      "source": [
        "df_1sum[:3]"
      ],
      "metadata": {
        "colab": {
          "base_uri": "https://localhost:8080/",
          "height": 156
        },
        "id": "_N_0EmOGx31y",
        "outputId": "5222ed19-74f6-4e05-dedf-28271a160696"
      },
      "id": "_N_0EmOGx31y",
      "execution_count": 29,
      "outputs": [
        {
          "output_type": "execute_result",
          "data": {
            "text/plain": [
              "   B02_median  B06_median  B11_median  ndvi_max  clasif_\n",
              "0      0.0965      0.1991      0.1877  0.630881        1\n",
              "1      0.1066      0.2596      0.2542  0.630041        1\n",
              "2      0.1129      0.2555      0.2464  0.622036        1"
            ],
            "text/html": [
              "\n",
              "  <div id=\"df-3008bfc8-7256-40e7-9b67-519442f637fc\">\n",
              "    <div class=\"colab-df-container\">\n",
              "      <div>\n",
              "<style scoped>\n",
              "    .dataframe tbody tr th:only-of-type {\n",
              "        vertical-align: middle;\n",
              "    }\n",
              "\n",
              "    .dataframe tbody tr th {\n",
              "        vertical-align: top;\n",
              "    }\n",
              "\n",
              "    .dataframe thead th {\n",
              "        text-align: right;\n",
              "    }\n",
              "</style>\n",
              "<table border=\"1\" class=\"dataframe\">\n",
              "  <thead>\n",
              "    <tr style=\"text-align: right;\">\n",
              "      <th></th>\n",
              "      <th>B02_median</th>\n",
              "      <th>B06_median</th>\n",
              "      <th>B11_median</th>\n",
              "      <th>ndvi_max</th>\n",
              "      <th>clasif_</th>\n",
              "    </tr>\n",
              "  </thead>\n",
              "  <tbody>\n",
              "    <tr>\n",
              "      <th>0</th>\n",
              "      <td>0.0965</td>\n",
              "      <td>0.1991</td>\n",
              "      <td>0.1877</td>\n",
              "      <td>0.630881</td>\n",
              "      <td>1</td>\n",
              "    </tr>\n",
              "    <tr>\n",
              "      <th>1</th>\n",
              "      <td>0.1066</td>\n",
              "      <td>0.2596</td>\n",
              "      <td>0.2542</td>\n",
              "      <td>0.630041</td>\n",
              "      <td>1</td>\n",
              "    </tr>\n",
              "    <tr>\n",
              "      <th>2</th>\n",
              "      <td>0.1129</td>\n",
              "      <td>0.2555</td>\n",
              "      <td>0.2464</td>\n",
              "      <td>0.622036</td>\n",
              "      <td>1</td>\n",
              "    </tr>\n",
              "  </tbody>\n",
              "</table>\n",
              "</div>\n",
              "      <button class=\"colab-df-convert\" onclick=\"convertToInteractive('df-3008bfc8-7256-40e7-9b67-519442f637fc')\"\n",
              "              title=\"Convert this dataframe to an interactive table.\"\n",
              "              style=\"display:none;\">\n",
              "        \n",
              "  <svg xmlns=\"http://www.w3.org/2000/svg\" height=\"24px\"viewBox=\"0 0 24 24\"\n",
              "       width=\"24px\">\n",
              "    <path d=\"M0 0h24v24H0V0z\" fill=\"none\"/>\n",
              "    <path d=\"M18.56 5.44l.94 2.06.94-2.06 2.06-.94-2.06-.94-.94-2.06-.94 2.06-2.06.94zm-11 1L8.5 8.5l.94-2.06 2.06-.94-2.06-.94L8.5 2.5l-.94 2.06-2.06.94zm10 10l.94 2.06.94-2.06 2.06-.94-2.06-.94-.94-2.06-.94 2.06-2.06.94z\"/><path d=\"M17.41 7.96l-1.37-1.37c-.4-.4-.92-.59-1.43-.59-.52 0-1.04.2-1.43.59L10.3 9.45l-7.72 7.72c-.78.78-.78 2.05 0 2.83L4 21.41c.39.39.9.59 1.41.59.51 0 1.02-.2 1.41-.59l7.78-7.78 2.81-2.81c.8-.78.8-2.07 0-2.86zM5.41 20L4 18.59l7.72-7.72 1.47 1.35L5.41 20z\"/>\n",
              "  </svg>\n",
              "      </button>\n",
              "      \n",
              "  <style>\n",
              "    .colab-df-container {\n",
              "      display:flex;\n",
              "      flex-wrap:wrap;\n",
              "      gap: 12px;\n",
              "    }\n",
              "\n",
              "    .colab-df-convert {\n",
              "      background-color: #E8F0FE;\n",
              "      border: none;\n",
              "      border-radius: 50%;\n",
              "      cursor: pointer;\n",
              "      display: none;\n",
              "      fill: #1967D2;\n",
              "      height: 32px;\n",
              "      padding: 0 0 0 0;\n",
              "      width: 32px;\n",
              "    }\n",
              "\n",
              "    .colab-df-convert:hover {\n",
              "      background-color: #E2EBFA;\n",
              "      box-shadow: 0px 1px 2px rgba(60, 64, 67, 0.3), 0px 1px 3px 1px rgba(60, 64, 67, 0.15);\n",
              "      fill: #174EA6;\n",
              "    }\n",
              "\n",
              "    [theme=dark] .colab-df-convert {\n",
              "      background-color: #3B4455;\n",
              "      fill: #D2E3FC;\n",
              "    }\n",
              "\n",
              "    [theme=dark] .colab-df-convert:hover {\n",
              "      background-color: #434B5C;\n",
              "      box-shadow: 0px 1px 3px 1px rgba(0, 0, 0, 0.15);\n",
              "      filter: drop-shadow(0px 1px 2px rgba(0, 0, 0, 0.3));\n",
              "      fill: #FFFFFF;\n",
              "    }\n",
              "  </style>\n",
              "\n",
              "      <script>\n",
              "        const buttonEl =\n",
              "          document.querySelector('#df-3008bfc8-7256-40e7-9b67-519442f637fc button.colab-df-convert');\n",
              "        buttonEl.style.display =\n",
              "          google.colab.kernel.accessAllowed ? 'block' : 'none';\n",
              "\n",
              "        async function convertToInteractive(key) {\n",
              "          const element = document.querySelector('#df-3008bfc8-7256-40e7-9b67-519442f637fc');\n",
              "          const dataTable =\n",
              "            await google.colab.kernel.invokeFunction('convertToInteractive',\n",
              "                                                     [key], {});\n",
              "          if (!dataTable) return;\n",
              "\n",
              "          const docLinkHtml = 'Like what you see? Visit the ' +\n",
              "            '<a target=\"_blank\" href=https://colab.research.google.com/notebooks/data_table.ipynb>data table notebook</a>'\n",
              "            + ' to learn more about interactive tables.';\n",
              "          element.innerHTML = '';\n",
              "          dataTable['output_type'] = 'display_data';\n",
              "          await google.colab.output.renderOutput(dataTable, element);\n",
              "          const docLink = document.createElement('div');\n",
              "          docLink.innerHTML = docLinkHtml;\n",
              "          element.appendChild(docLink);\n",
              "        }\n",
              "      </script>\n",
              "    </div>\n",
              "  </div>\n",
              "  "
            ]
          },
          "metadata": {},
          "execution_count": 29
        },
        {
          "output_type": "stream",
          "name": "stdout",
          "text": [
            "time: 16.4 ms (started: 2022-09-04 19:26:03 +00:00)\n"
          ]
        }
      ]
    },
    {
      "cell_type": "markdown",
      "source": [
        "###Subdivisión de cada subconjunto entre variables predictoras (X) y target(y)"
      ],
      "metadata": {
        "id": "Oz-LrSRLykxp"
      },
      "id": "Oz-LrSRLykxp"
    },
    {
      "cell_type": "code",
      "source": [
        "#Subconjunto Verano\n",
        "y1 = df_1sum.clasif_\n",
        "X1 = df_1sum.drop('clasif_',axis=1)\n",
        "\n",
        "#Subconjunto Otoño\n",
        "y2 = df_2aut.clasif_\n",
        "X2 = df_2aut.drop('clasif_',axis=1)\n",
        "\n",
        "#Subconjunto Invierno\n",
        "y3 = df_3win.clasif_\n",
        "X3 = df_3win.drop('clasif_',axis=1)\n",
        "\n",
        "#Subconjunto Primavera\n",
        "y4 = df_4spr.clasif_\n",
        "X4 = df_4spr.drop('clasif_',axis=1)"
      ],
      "metadata": {
        "id": "wHCVSUIeHE5t",
        "colab": {
          "base_uri": "https://localhost:8080/"
        },
        "outputId": "89ab1dd1-a387-4775-adf9-4752c82fcbf0"
      },
      "id": "wHCVSUIeHE5t",
      "execution_count": 30,
      "outputs": [
        {
          "output_type": "stream",
          "name": "stdout",
          "text": [
            "time: 9.5 ms (started: 2022-09-04 19:26:03 +00:00)\n"
          ]
        }
      ]
    },
    {
      "cell_type": "code",
      "source": [
        "# Dividimos cada subconjunto\n",
        "x_train1, x_test1, y_train1, y_test1 = train_test_split(X1, y1, train_size=0.8, random_state = 8)\n",
        "\n",
        "x_train2, x_test2, y_train2, y_test2 = train_test_split(X2, y2, train_size=0.8, random_state = 8)\n",
        "\n",
        "x_train3, x_test3, y_train3, y_test3 = train_test_split(X3, y3, train_size=0.8, random_state = 8)\n",
        "\n",
        "x_train4, x_test4, y_train4, y_test4 = train_test_split(X4, y4, train_size=0.8, random_state = 8)"
      ],
      "metadata": {
        "id": "ImplwxsAGQEz",
        "colab": {
          "base_uri": "https://localhost:8080/"
        },
        "outputId": "171f253d-6d81-41b7-9740-e9d01c89ff45"
      },
      "id": "ImplwxsAGQEz",
      "execution_count": 31,
      "outputs": [
        {
          "output_type": "stream",
          "name": "stdout",
          "text": [
            "time: 43 ms (started: 2022-09-04 19:26:03 +00:00)\n"
          ]
        }
      ]
    },
    {
      "cell_type": "markdown",
      "source": [
        "###Planteo de modelos"
      ],
      "metadata": {
        "id": "O-hbdCtSJ2sK"
      },
      "id": "O-hbdCtSJ2sK"
    },
    {
      "cell_type": "code",
      "source": [
        "import itertools\n",
        "import matplotlib.pyplot as plt\n",
        "from sklearn.metrics import confusion_matrix\n",
        "from sklearn.utils.multiclass import unique_labels\n",
        "\n",
        "def plot_confusion_matrix(y_verd, y_pred, classes,\n",
        "                          normalize=False,\n",
        "                          title=None,\n",
        "                          cmap=plt.cm.Blues,\n",
        "                          ax=None):\n",
        "    \"\"\"\n",
        "    This function prints and plots the confusion matrix.\n",
        "    Normalization can be applied by setting `normalize=True`.\n",
        "    \"\"\"\n",
        "    cm = confusion_matrix(y_verd, y_pred)\n",
        "    classes = classes[unique_labels(y_verd, y_pred)]\n",
        "    if normalize:\n",
        "        cm = cm.astype('float') / cm.sum(axis=1)[:, np.newaxis]\n",
        "    \n",
        "    if ax == None:\n",
        "        fig, ax = plt.subplots()    \n",
        "\n",
        "\n",
        "    am = ax.imshow(cm, interpolation='nearest', cmap=cmap)\n",
        "    ax.figure.colorbar(am, ax=ax)\n",
        "    ax.set(xticks=np.arange(cm.shape[1]),\n",
        "           yticks=np.arange(cm.shape[0]),\n",
        "           xticklabels=classes, yticklabels=classes,\n",
        "           ylabel='Etiqueta correcta',\n",
        "           xlabel='Etiqueta predicha',\n",
        "           title=title,)\n",
        "\n",
        "    \n",
        "\n",
        "    fmt = '.2f' if normalize else 'd'\n",
        "    thresh = cm.max() / 2.\n",
        "    for i, j in itertools.product(range(cm.shape[0]), range(cm.shape[1])):\n",
        "        ax.text(j, i, format(cm[i, j], fmt),\n",
        "                 horizontalalignment=\"center\",\n",
        "                 color=\"white\" if cm[i, j] > thresh else \"black\")\n",
        "    \n",
        "    plt.setp(ax.get_xticklabels(), rotation=45, ha=\"right\",\n",
        "             rotation_mode=\"anchor\")\n",
        "    return ax\n"
      ],
      "metadata": {
        "id": "eJVCmmN7J7PM",
        "colab": {
          "base_uri": "https://localhost:8080/"
        },
        "outputId": "28cbba61-fefd-449e-ef95-fc5b302be911"
      },
      "id": "eJVCmmN7J7PM",
      "execution_count": 32,
      "outputs": [
        {
          "output_type": "stream",
          "name": "stdout",
          "text": [
            "time: 7.76 ms (started: 2022-09-04 19:26:03 +00:00)\n"
          ]
        }
      ]
    },
    {
      "cell_type": "markdown",
      "source": [
        "###Planteamos distintos modelos con parámetros por defecto"
      ],
      "metadata": {
        "id": "OqaP_zC4T3WZ"
      },
      "id": "OqaP_zC4T3WZ"
    },
    {
      "cell_type": "code",
      "source": [
        "from sklearn.model_selection import cross_val_score, cross_validate, KFold, StratifiedKFold, LeaveOneOut, LeavePOut\n",
        "from sklearn.metrics import recall_score, accuracy_score, precision_score, f1_score, roc_auc_score, mean_squared_error, r2_score, confusion_matrix, classification_report, ConfusionMatrixDisplay\n",
        "\n",
        "from sklearn.tree import DecisionTreeClassifier\n",
        "from sklearn.ensemble import RandomForestClassifier\n",
        "from sklearn.linear_model import LogisticRegression\n",
        "from sklearn.neural_network import MLPClassifier\n",
        "from xgboost import XGBClassifier\n",
        "from lightgbm import LGBMClassifier\n",
        "from sklearn.naive_bayes import GaussianNB\n",
        "from sklearn.svm import LinearSVC\n",
        "\n",
        "\n",
        "clfs =  [DecisionTreeClassifier(),\n",
        "        RandomForestClassifier(),\n",
        "        LogisticRegression(),\n",
        "        MLPClassifier(),\n",
        "        XGBClassifier(),\n",
        "        GaussianNB(),\n",
        "        LinearSVC()]\n",
        "\n",
        "names = ['Arbol de decisión',\n",
        "        'Random Forest',\n",
        "        'Regresión Logística',\n",
        "        'Perceptrón multicapa',\n",
        "        'XGBoost',\n",
        "        'Naive Bayes',\n",
        "        'SVM']\n",
        "\n",
        "trained_models = []\n",
        "accuracy_models = []\n",
        "\n",
        "print(\"Sunconjunto Verano\")\n",
        "for clf, name in zip(clfs, names):\n",
        "    print(name)\n",
        "    clf.fit(x_train1, y_train1)\n",
        "    train_predictions = clf.predict(x_train1)\n",
        "    accuracy = accuracy_score(y_train1, train_predictions)\n",
        "    print(f\"Accuracy train {name}: %.2f%%\" % (accuracy * 100.0))\n",
        "\n",
        "    test_predictions = clf.predict(x_test1)\n",
        "    accuracy = accuracy_score(y_test1, test_predictions)\n",
        "    print(f\"Accuracy test {name}: %.2f%%\" % (accuracy * 100.0))\n",
        "    trained_models.append(clf)    \n",
        "    accuracy_models.append(accuracy)\n",
        "\n",
        "    "
      ],
      "metadata": {
        "colab": {
          "base_uri": "https://localhost:8080/"
        },
        "id": "OXSfhyOoCXyD",
        "outputId": "0a458704-1d51-44d1-ee72-c9794a671402"
      },
      "id": "OXSfhyOoCXyD",
      "execution_count": 61,
      "outputs": [
        {
          "output_type": "stream",
          "name": "stdout",
          "text": [
            "Arbol de decisión\n",
            "Accuracy train Arbol de decisión: 100.00%\n",
            "Accuracy test Arbol de decisión: 85.94%\n",
            "Random Forest\n",
            "Accuracy train Random Forest: 100.00%\n",
            "Accuracy test Random Forest: 90.52%\n",
            "Regresión Logística\n",
            "Accuracy train Regresión Logística: 85.66%\n",
            "Accuracy test Regresión Logística: 86.33%\n",
            "Perceptrón multicapa\n"
          ]
        },
        {
          "output_type": "stream",
          "name": "stderr",
          "text": [
            "/usr/local/lib/python3.7/dist-packages/sklearn/neural_network/_multilayer_perceptron.py:696: ConvergenceWarning: Stochastic Optimizer: Maximum iterations (200) reached and the optimization hasn't converged yet.\n",
            "  ConvergenceWarning,\n"
          ]
        },
        {
          "output_type": "stream",
          "name": "stdout",
          "text": [
            "Accuracy train Perceptrón multicapa: 89.27%\n",
            "Accuracy test Perceptrón multicapa: 89.65%\n",
            "XGBoost\n",
            "Accuracy train XGBoost: 89.16%\n",
            "Accuracy test XGBoost: 89.33%\n",
            "Naive Bayes\n",
            "Accuracy train Naive Bayes: 78.17%\n",
            "Accuracy test Naive Bayes: 78.94%\n",
            "SVM\n",
            "Accuracy train SVM: 86.90%\n",
            "Accuracy test SVM: 87.43%\n",
            "time: 2min 52s (started: 2022-09-04 21:06:52 +00:00)\n"
          ]
        }
      ]
    },
    {
      "cell_type": "code",
      "source": [
        "print(\"Sunconjunto Otoño\")\n",
        "for clf, name in zip(clfs, names):\n",
        "    print(name)\n",
        "    clf.fit(x_train2, y_train2)\n",
        "    train_predictions2 = clf.predict(x_train2)\n",
        "    accuracy = accuracy_score(y_train2, train_predictions2)\n",
        "    print(f\"Accuracy train {name}: %.2f%%\" % (accuracy * 100.0))\n",
        "\n",
        "    test_predictions2 = clf.predict(x_test2)\n",
        "    accuracy = accuracy_score(y_test2, test_predictions2)\n",
        "    print(f\"Accuracy test {name}: %.2f%%\" % (accuracy * 100.0))\n",
        "    trained_models.append(clf)    \n",
        "    accuracy_models.append(accuracy)\n"
      ],
      "metadata": {
        "colab": {
          "base_uri": "https://localhost:8080/"
        },
        "id": "vBEYzEaKVS55",
        "outputId": "e404a2d9-d4a3-457c-867e-ee926c6d3555"
      },
      "id": "vBEYzEaKVS55",
      "execution_count": 62,
      "outputs": [
        {
          "output_type": "stream",
          "name": "stdout",
          "text": [
            "Sunconjunto Otoño\n",
            "Arbol de decisión\n",
            "Accuracy train Arbol de decisión: 100.00%\n",
            "Accuracy test Arbol de decisión: 85.50%\n",
            "Random Forest\n",
            "Accuracy train Random Forest: 100.00%\n",
            "Accuracy test Random Forest: 89.77%\n",
            "Regresión Logística\n",
            "Accuracy train Regresión Logística: 81.41%\n",
            "Accuracy test Regresión Logística: 82.62%\n",
            "Perceptrón multicapa\n"
          ]
        },
        {
          "output_type": "stream",
          "name": "stderr",
          "text": [
            "/usr/local/lib/python3.7/dist-packages/sklearn/neural_network/_multilayer_perceptron.py:696: ConvergenceWarning: Stochastic Optimizer: Maximum iterations (200) reached and the optimization hasn't converged yet.\n",
            "  ConvergenceWarning,\n"
          ]
        },
        {
          "output_type": "stream",
          "name": "stdout",
          "text": [
            "Accuracy train Perceptrón multicapa: 88.68%\n",
            "Accuracy test Perceptrón multicapa: 89.10%\n",
            "XGBoost\n",
            "Accuracy train XGBoost: 87.95%\n",
            "Accuracy test XGBoost: 87.68%\n",
            "Naive Bayes\n",
            "Accuracy train Naive Bayes: 71.03%\n",
            "Accuracy test Naive Bayes: 72.26%\n",
            "SVM\n",
            "Accuracy train SVM: 84.37%\n",
            "Accuracy test SVM: 85.42%\n",
            "time: 1min 46s (started: 2022-09-04 21:09:45 +00:00)\n"
          ]
        }
      ]
    },
    {
      "cell_type": "markdown",
      "source": [
        "Obtenemos mejores párametros para modelo **RandomForestClassifier**"
      ],
      "metadata": {
        "id": "XCrK3h9_cyFM"
      },
      "id": "XCrK3h9_cyFM"
    },
    {
      "cell_type": "markdown",
      "source": [
        "###Subconjunto Verano"
      ],
      "metadata": {
        "id": "rWJspl3hdDnf"
      },
      "id": "rWJspl3hdDnf"
    },
    {
      "cell_type": "code",
      "source": [
        "from sklearn.ensemble import RandomForestClassifier as RFC\n",
        "\n",
        "params={#'criterion':('gini','entropy'), \n",
        "        'min_samples_leaf':(2,3,4),\n",
        "        'min_samples_split':(100,110,120),\n",
        "        #'max_features':(\"auto\",\"sqrt\",\"log2\",None),\n",
        "        'n_estimators' : (10,11,12,13,14)}\n",
        "\n",
        "rfc = RFC(random_state=22,criterion='entropy',max_features=\"auto\")\n",
        "grid = RandomizedSearchCV(rfc, params, scoring='accuracy', cv=5,n_jobs=4)\n",
        "grid.fit(x_train1,y_train1)\n",
        "print('Best Decision Tree accuracy: ',grid.best_score_)\n",
        "print(grid.best_estimator_)"
      ],
      "metadata": {
        "colab": {
          "base_uri": "https://localhost:8080/"
        },
        "id": "CPFxyN5EKGJQ",
        "outputId": "5eed9cb1-ac07-4365-d3f0-ac146085e28a"
      },
      "id": "CPFxyN5EKGJQ",
      "execution_count": 57,
      "outputs": [
        {
          "output_type": "stream",
          "name": "stdout",
          "text": [
            "Best Decision Tree accuracy:  0.8957247678435456\n",
            "RandomForestClassifier(criterion='entropy', min_samples_leaf=2,\n",
            "                       min_samples_split=100, n_estimators=14, random_state=22)\n",
            "time: 1min 1s (started: 2022-09-04 20:51:24 +00:00)\n"
          ]
        }
      ]
    },
    {
      "cell_type": "code",
      "source": [
        "rfc1 = RFC(random_state=22, criterion=\"entropy\",\n",
        "                                       max_features=\"auto\", min_samples_leaf=2,\n",
        "                       min_samples_split=100, n_estimators=14)\n",
        "rfc1.fit(x_train1, y_train1)\n",
        "print(\"Train dataset accuracy: %0.03f\" % rfc1.score(x_train1,y_train1))"
      ],
      "metadata": {
        "id": "tbJ3Hp_6UyNq",
        "colab": {
          "base_uri": "https://localhost:8080/"
        },
        "outputId": "8f4df7d7-7635-4e48-8e8c-97d1cae0a921"
      },
      "id": "tbJ3Hp_6UyNq",
      "execution_count": 59,
      "outputs": [
        {
          "output_type": "stream",
          "name": "stdout",
          "text": [
            "Train dataset accuracy: 0.910\n",
            "time: 2.27 s (started: 2022-09-04 20:53:36 +00:00)\n"
          ]
        }
      ]
    },
    {
      "cell_type": "code",
      "source": [
        "y_test_predt1 = rfc1.predict(x_test1)\n",
        "print(\"Test dataset accuracy: %0.03f\" % rfc1.score(x_test1,y_test1))\n",
        "print(\"****Reporte de clasificación sobre conjunto de evaluación (métricas)*****\") \n",
        "print(classification_report(y_test1, y_test_predt1)) \n",
        "plot_confusion_matrix(y_test1, y_test_predt1, classes=df_1sum.clasif_.unique(),\n",
        "                        title=\"Matriz de confusión para función de coste entropy\");"
      ],
      "metadata": {
        "id": "xQR2c6jtVLkS",
        "colab": {
          "base_uri": "https://localhost:8080/",
          "height": 515
        },
        "outputId": "19ee8b96-4c66-42ec-dc90-da12429df972"
      },
      "id": "xQR2c6jtVLkS",
      "execution_count": 60,
      "outputs": [
        {
          "output_type": "stream",
          "name": "stdout",
          "text": [
            "Test dataset accuracy: 0.902\n",
            "****Reporte de clasificación sobre conjunto de evaluación (métricas)*****\n",
            "              precision    recall  f1-score   support\n",
            "\n",
            "           0       0.88      0.79      0.83      3834\n",
            "           1       0.91      0.95      0.93      8780\n",
            "\n",
            "    accuracy                           0.90     12614\n",
            "   macro avg       0.89      0.87      0.88     12614\n",
            "weighted avg       0.90      0.90      0.90     12614\n",
            "\n"
          ]
        },
        {
          "output_type": "display_data",
          "data": {
            "text/plain": [
              "<Figure size 432x288 with 2 Axes>"
            ],
            "image/png": "[encoded data removed]"
          },
          "metadata": {
            "needs_background": "light"
          }
        },
        {
          "output_type": "stream",
          "name": "stdout",
          "text": [
            "time: 311 ms (started: 2022-09-04 20:53:47 +00:00)\n"
          ]
        }
      ]
    },
    {
      "cell_type": "markdown",
      "source": [
        "###Subconjunto Otoño"
      ],
      "metadata": {
        "id": "2U_pR2sFWIud"
      },
      "id": "2U_pR2sFWIud"
    },
    {
      "cell_type": "code",
      "source": [
        "rfc_o = RFC(random_state=22,criterion='entropy',max_features=\"auto\")\n",
        "grid2 = RandomizedSearchCV(rfc_o, params, scoring='accuracy', cv=5,n_jobs=4)\n",
        "grid2.fit(x_train2,y_train2)\n",
        "print('Best Decision Tree accuracy: ',grid2.best_score_)\n",
        "print(grid2.best_estimator_)"
      ],
      "metadata": {
        "colab": {
          "base_uri": "https://localhost:8080/"
        },
        "id": "TarLneK4WCPR",
        "outputId": "3ac323a0-940c-4288-9a2e-2ce0f47b5ce4"
      },
      "id": "TarLneK4WCPR",
      "execution_count": 64,
      "outputs": [
        {
          "output_type": "stream",
          "name": "stdout",
          "text": [
            "Best Decision Tree accuracy:  0.8830459826812742\n",
            "RandomForestClassifier(criterion='entropy', min_samples_leaf=3,\n",
            "                       min_samples_split=100, n_estimators=14, random_state=22)\n",
            "time: 59.3 s (started: 2022-09-04 21:15:34 +00:00)\n"
          ]
        }
      ]
    },
    {
      "cell_type": "code",
      "source": [
        "rfc2 = RFC(random_state=22, criterion=\"entropy\",\n",
        "                                       max_features=\"auto\", min_samples_leaf=3,\n",
        "                       min_samples_split=100, n_estimators=14)\n",
        "rfc2.fit(x_train2, y_train2)\n",
        "print(\"Train dataset accuracy: %0.03f\" % rfc2.score(x_train2,y_train2))"
      ],
      "metadata": {
        "colab": {
          "base_uri": "https://localhost:8080/"
        },
        "id": "UpW26V8hWB7L",
        "outputId": "df109ebe-7b3e-4dd7-f022-56d5b8ebbbeb"
      },
      "id": "UpW26V8hWB7L",
      "execution_count": 73,
      "outputs": [
        {
          "output_type": "stream",
          "name": "stdout",
          "text": [
            "Train dataset accuracy: 0.902\n",
            "time: 1.69 s (started: 2022-09-04 21:23:13 +00:00)\n"
          ]
        }
      ]
    },
    {
      "cell_type": "code",
      "source": [
        "y_test_predt2 = rfc2.predict(x_test2)\n",
        "print(\"Test dataset accuracy: %0.03f\" % rfc2.score(x_test2,y_test2))\n",
        "print(\"****Reporte de clasificación sobre conjunto de evaluación (métricas)*****\") \n",
        "print(classification_report(y_test2, y_test_predt2)) \n",
        "plot_confusion_matrix(y_test2, y_test_predt2, classes=df_2aut.clasif_.unique(),\n",
        "                        title=\"Matriz de confusión para función de coste entropy\");"
      ],
      "metadata": {
        "colab": {
          "base_uri": "https://localhost:8080/",
          "height": 515
        },
        "id": "mzEfXN5hWBqE",
        "outputId": "7e46091d-91d1-4c61-b535-2e1b49c936a2"
      },
      "id": "mzEfXN5hWBqE",
      "execution_count": 71,
      "outputs": [
        {
          "output_type": "stream",
          "name": "stdout",
          "text": [
            "Test dataset accuracy: 0.889\n",
            "****Reporte de clasificación sobre conjunto de evaluación (métricas)*****\n",
            "              precision    recall  f1-score   support\n",
            "\n",
            "           0       0.87      0.75      0.80      3204\n",
            "           1       0.90      0.95      0.92      7341\n",
            "\n",
            "    accuracy                           0.89     10545\n",
            "   macro avg       0.88      0.85      0.86     10545\n",
            "weighted avg       0.89      0.89      0.89     10545\n",
            "\n"
          ]
        },
        {
          "output_type": "display_data",
          "data": {
            "text/plain": [
              "<Figure size 432x288 with 2 Axes>"
            ],
            "image/png": "[encoded data removed]"
          },
          "metadata": {
            "needs_background": "light"
          }
        },
        {
          "output_type": "stream",
          "name": "stdout",
          "text": [
            "time: 282 ms (started: 2022-09-04 21:20:26 +00:00)\n"
          ]
        }
      ]
    },
    {
      "cell_type": "markdown",
      "source": [
        "###Subconjunto Invierno"
      ],
      "metadata": {
        "id": "SAkDnsDYWqeq"
      },
      "id": "SAkDnsDYWqeq"
    },
    {
      "cell_type": "code",
      "source": [
        "rfc_i = RFC(random_state=22,criterion='entropy',max_features=\"auto\")\n",
        "grid3 = RandomizedSearchCV(rfc_i, params, scoring='accuracy', cv=5,n_jobs=4)\n",
        "grid3.fit(x_train3,y_train3)\n",
        "print('Best Decision Tree accuracy: ',grid3.best_score_)\n",
        "print(grid3.best_estimator_)"
      ],
      "metadata": {
        "colab": {
          "base_uri": "https://localhost:8080/"
        },
        "id": "X6dVLdoYW1EL",
        "outputId": "d71dff83-c82a-42d1-bd99-45eca11a791f"
      },
      "id": "X6dVLdoYW1EL",
      "execution_count": 65,
      "outputs": [
        {
          "output_type": "stream",
          "name": "stdout",
          "text": [
            "Best Decision Tree accuracy:  0.8597339502602661\n",
            "RandomForestClassifier(criterion='entropy', min_samples_leaf=3,\n",
            "                       min_samples_split=100, n_estimators=14, random_state=22)\n",
            "time: 55.9 s (started: 2022-09-04 21:16:34 +00:00)\n"
          ]
        }
      ]
    },
    {
      "cell_type": "code",
      "source": [
        "rfc3 = RFC(random_state=22, criterion=\"entropy\",\n",
        "                                       max_features=\"auto\", min_samples_leaf=3,\n",
        "                       min_samples_split=100, n_estimators=14)\n",
        "rfc3.fit(x_train3, y_train3)\n",
        "print(\"Train dataset accuracy: %0.03f\" % rfc3.score(x_train3,y_train3))"
      ],
      "metadata": {
        "colab": {
          "base_uri": "https://localhost:8080/"
        },
        "id": "IPFNieHGYM0F",
        "outputId": "c9e27f1e-5bae-4b6d-d546-52c006688e37"
      },
      "id": "IPFNieHGYM0F",
      "execution_count": 72,
      "outputs": [
        {
          "output_type": "stream",
          "name": "stdout",
          "text": [
            "Train dataset accuracy: 0.880\n",
            "time: 1.72 s (started: 2022-09-04 21:22:53 +00:00)\n"
          ]
        }
      ]
    },
    {
      "cell_type": "code",
      "source": [
        "y_test_predt3 = rfc3.predict(x_test3)\n",
        "print(\"Test dataset accuracy: %0.03f\" % rfc3.score(x_test3,y_test3))\n",
        "print(\"****Reporte de clasificación sobre conjunto de evaluación (métricas)*****\") \n",
        "print(classification_report(y_test3, y_test_predt3)) \n",
        "plot_confusion_matrix(y_test3, y_test_predt3, classes=df_3win.clasif_.unique(),\n",
        "                        title=\"Matriz de confusión para función de coste entropy\");"
      ],
      "metadata": {
        "colab": {
          "base_uri": "https://localhost:8080/",
          "height": 515
        },
        "id": "A-BImuViY2bV",
        "outputId": "c74937d1-0a7c-4c1b-ed49-e65fec23ac18"
      },
      "id": "A-BImuViY2bV",
      "execution_count": 74,
      "outputs": [
        {
          "output_type": "stream",
          "name": "stdout",
          "text": [
            "Test dataset accuracy: 0.867\n",
            "****Reporte de clasificación sobre conjunto de evaluación (métricas)*****\n",
            "              precision    recall  f1-score   support\n",
            "\n",
            "           0       0.83      0.71      0.77      3314\n",
            "           1       0.88      0.93      0.91      7493\n",
            "\n",
            "    accuracy                           0.87     10807\n",
            "   macro avg       0.85      0.82      0.84     10807\n",
            "weighted avg       0.86      0.87      0.86     10807\n",
            "\n"
          ]
        },
        {
          "output_type": "display_data",
          "data": {
            "text/plain": [
              "<Figure size 432x288 with 2 Axes>"
            ],
            "image/png": "[encoded data removed]"
          },
          "metadata": {
            "needs_background": "light"
          }
        },
        {
          "output_type": "stream",
          "name": "stdout",
          "text": [
            "time: 325 ms (started: 2022-09-04 21:24:43 +00:00)\n"
          ]
        }
      ]
    },
    {
      "cell_type": "markdown",
      "source": [
        "###Subconjunto Primavera"
      ],
      "metadata": {
        "id": "y9-vZCBVZNee"
      },
      "id": "y9-vZCBVZNee"
    },
    {
      "cell_type": "markdown",
      "source": [
        "**Revisar este resultado**"
      ],
      "metadata": {
        "id": "7FSsO_jDakHV"
      },
      "id": "7FSsO_jDakHV"
    },
    {
      "cell_type": "code",
      "source": [
        "rfc_p = RFC(random_state=22,criterion='entropy',max_features=\"auto\")\n",
        "grid4 = RandomizedSearchCV(rfc_p, params, scoring='accuracy', cv=5,n_jobs=4)\n",
        "grid4.fit(x_train4,y_train4)\n",
        "print('Best Decision Tree accuracy: ',grid4.best_score_)\n",
        "print(grid4.best_estimator_)"
      ],
      "metadata": {
        "colab": {
          "base_uri": "https://localhost:8080/"
        },
        "id": "pBdwMT1qZTWv",
        "outputId": "290cb4fd-8e36-40cd-bb5a-6e76f9e62dc8"
      },
      "id": "pBdwMT1qZTWv",
      "execution_count": 75,
      "outputs": [
        {
          "output_type": "stream",
          "name": "stdout",
          "text": [
            "Best Decision Tree accuracy:  0.3400233045250297\n",
            "RandomForestClassifier(criterion='entropy', min_samples_leaf=4,\n",
            "                       min_samples_split=110, n_estimators=10, random_state=22)\n",
            "time: 2min 54s (started: 2022-09-04 21:26:19 +00:00)\n"
          ]
        }
      ]
    },
    {
      "cell_type": "code",
      "source": [
        "rfc4 = RFC(random_state=22, criterion=\"entropy\",\n",
        "                                       max_features=\"auto\", min_samples_leaf=4,\n",
        "                       min_samples_split=110, n_estimators=10)\n",
        "rfc4.fit(x_train4, y_train4)\n",
        "print(\"Train dataset accuracy: %0.03f\" % rfc4.score(x_train4,y_train4))\n",
        "\n",
        "y_test_predt4 = rfc4.predict(x_test4)\n",
        "print(\"Test dataset accuracy: %0.03f\" % rfc4.score(x_test4,y_test4))\n",
        "print(\"****Reporte de clasificación sobre conjunto de evaluación (métricas)*****\") \n",
        "print(classification_report(y_test4, y_test_predt4)) \n",
        "plot_confusion_matrix(y_test4, y_test_predt4, classes=df_4spr.clasif_.unique(),\n",
        "                        title=\"Matriz de confusión para función de coste entropy\");"
      ],
      "metadata": {
        "colab": {
          "base_uri": "https://localhost:8080/",
          "height": 534
        },
        "id": "MKF6YSCEZbKH",
        "outputId": "19913bb4-1002-437b-d5cb-dac41223afc6"
      },
      "id": "MKF6YSCEZbKH",
      "execution_count": 78,
      "outputs": [
        {
          "output_type": "stream",
          "name": "stdout",
          "text": [
            "Train dataset accuracy: 0.554\n",
            "Test dataset accuracy: 0.286\n",
            "****Reporte de clasificación sobre conjunto de evaluación (métricas)*****\n",
            "              precision    recall  f1-score   support\n",
            "\n",
            "           0       0.28      0.26      0.27      7854\n",
            "           1       0.29      0.31      0.30      7779\n",
            "\n",
            "    accuracy                           0.29     15633\n",
            "   macro avg       0.29      0.29      0.29     15633\n",
            "weighted avg       0.29      0.29      0.29     15633\n",
            "\n"
          ]
        },
        {
          "output_type": "display_data",
          "data": {
            "text/plain": [
              "<Figure size 432x288 with 2 Axes>"
            ],
            "image/png": "[encoded data removed]"
          },
          "metadata": {
            "needs_background": "light"
          }
        },
        {
          "output_type": "stream",
          "name": "stdout",
          "text": [
            "time: 5.09 s (started: 2022-09-04 21:30:49 +00:00)\n"
          ]
        }
      ]
    }
  ],
  "metadata": {
    "kernelspec": {
      "display_name": "Python 3",
      "language": "python",
      "name": "python3"
    },
    "language_info": {
      "codemirror_mode": {
        "name": "ipython",
        "version": 3
      },
      "file_extension": ".py",
      "mimetype": "text/x-python",
      "name": "python",
      "nbconvert_exporter": "python",
      "pygments_lexer": "ipython3",
      "version": "3.9.7"
    },
    "colab": {
      "provenance": [],
      "collapsed_sections": [],
      "include_colab_link": true
    }
  },
  "nbformat": 4,
  "nbformat_minor": 5
}